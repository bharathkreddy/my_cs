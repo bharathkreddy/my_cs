{
 "cells": [
  {
   "cell_type": "markdown",
   "id": "d466f7fd-fa3d-4d95-a035-b68940dfbf3f",
   "metadata": {},
   "source": [
    "# CLOSURES"
   ]
  },
  {
   "cell_type": "code",
   "execution_count": 232,
   "id": "4230f1b9-0fd8-4e3d-8f1b-a0521a9659c7",
   "metadata": {},
   "outputs": [],
   "source": [
    "def my_factorial(n):\n",
    "    res = 1\n",
    "    for i in range(1, n+1):\n",
    "        res *= i\n",
    "    return res\n",
    "\n",
    "def my_diagonal(rows, columns, *, diagonal_element = 1):\n",
    "    return [\n",
    "        [\n",
    "            diagonal_element if row==column else 0 \n",
    "            for column in range(columns)\n",
    "        ] \n",
    "        for row in range(rows)\n",
    "    ]"
   ]
  },
  {
   "cell_type": "code",
   "execution_count": 233,
   "id": "b0b70ed9-a671-45a6-94c2-419de6887e76",
   "metadata": {},
   "outputs": [
    {
     "data": {
      "text/plain": [
       "120"
      ]
     },
     "execution_count": 233,
     "metadata": {},
     "output_type": "execute_result"
    }
   ],
   "source": [
    "my_factorial(5)"
   ]
  },
  {
   "cell_type": "code",
   "execution_count": 234,
   "id": "b96d59d9-aa3e-4f87-b7b6-53d1e4a6b354",
   "metadata": {},
   "outputs": [
    {
     "data": {
      "text/plain": [
       "[[-1, 0, 0, 0, 0],\n",
       " [0, -1, 0, 0, 0],\n",
       " [0, 0, -1, 0, 0],\n",
       " [0, 0, 0, -1, 0],\n",
       " [0, 0, 0, 0, -1]]"
      ]
     },
     "execution_count": 234,
     "metadata": {},
     "output_type": "execute_result"
    }
   ],
   "source": [
    "my_diagonal(5, 5, diagonal_element=-1)"
   ]
  },
  {
   "cell_type": "markdown",
   "id": "32feb31e-f40e-4470-96e6-483c61a382aa",
   "metadata": {},
   "source": [
    "### Now i want to time these functions. here is how in can do this\n",
    "1. write a function and wrap my functions around it\n",
    "2. closure.\n",
    "3. Decorators\n",
    "   \n",
    "Lets explore both these methods and see whats the difference"
   ]
  },
  {
   "cell_type": "code",
   "execution_count": 210,
   "id": "19e3f342-0da3-435c-8129-cbc8a46a2125",
   "metadata": {},
   "outputs": [],
   "source": [
    "from time import perf_counter"
   ]
  },
  {
   "cell_type": "code",
   "execution_count": 235,
   "id": "7803848d-9439-4830-9543-75f58efee174",
   "metadata": {},
   "outputs": [],
   "source": [
    "def time_my_function(func, *args, **kwargs):\n",
    "    start_time = perf_counter()\n",
    "    result = func(*args, **kwargs)\n",
    "    end_time = perf_counter()\n",
    "    print(f'Time elapsed: {end_time - start_time}s')\n",
    "    return result"
   ]
  },
  {
   "cell_type": "code",
   "execution_count": 236,
   "id": "b3085c6f-e86a-4467-9171-db247c904813",
   "metadata": {},
   "outputs": [
    {
     "name": "stdout",
     "output_type": "stream",
     "text": [
      "Time elapsed: 0.0005317090544849634s\n"
     ]
    },
    {
     "data": {
      "text/plain": [
       "402387260077093773543702433923003985719374864210714632543799910429938512398629020592044208486969404800479988610197196058631666872994808558901323829669944590997424504087073759918823627727188732519779505950995276120874975462497043601418278094646496291056393887437886487337119181045825783647849977012476632889835955735432513185323958463075557409114262417474349347553428646576611667797396668820291207379143853719588249808126867838374559731746136085379534524221586593201928090878297308431392844403281231558611036976801357304216168747609675871348312025478589320767169132448426236131412508780208000261683151027341827977704784635868170164365024153691398281264810213092761244896359928705114964975419909342221566832572080821333186116811553615836546984046708975602900950537616475847728421889679646244945160765353408198901385442487984959953319101723355556602139450399736280750137837615307127761926849034352625200015888535147331611702103968175921510907788019393178114194545257223865541461062892187960223838971476088506276862967146674697562911234082439208160153780889893964518263243671616762179168909779911903754031274622289988005195444414282012187361745992642956581746628302955570299024324153181617210465832036786906117260158783520751516284225540265170483304226143974286933061690897968482590125458327168226458066526769958652682272807075781391858178889652208164348344825993266043367660176999612831860788386150279465955131156552036093988180612138558600301435694527224206344631797460594682573103790084024432438465657245014402821885252470935190620929023136493273497565513958720559654228749774011413346962715422845862377387538230483865688976461927383814900140767310446640259899490222221765904339901886018566526485061799702356193897017860040811889729918311021171229845901641921068884387121855646124960798722908519296819372388642614839657382291123125024186649353143970137428531926649875337218940694281434118520158014123344828015051399694290153483077644569099073152433278288269864602789864321139083506217095002597389863554277196742822248757586765752344220207573630569498825087968928162753848863396909959826280956121450994871701244516461260379029309120889086942028510640182154399457156805941872748998094254742173582401063677404595741785160829230135358081840096996372524230560855903700624271243416909004153690105933983835777939410970027753472000000000000000000000000000000000000000000000000000000000000000000000000000000000000000000000000000000000000000000000000000000000000000000000000000000000000000000000000000000000000000000000000000000000000000000000000000000000000000000000000000000000"
      ]
     },
     "execution_count": 236,
     "metadata": {},
     "output_type": "execute_result"
    }
   ],
   "source": [
    "time_my_function(my_factorial, 1000)"
   ]
  },
  {
   "cell_type": "code",
   "execution_count": 237,
   "id": "194e3261-7417-4bde-9a42-ac953c820833",
   "metadata": {},
   "outputs": [
    {
     "name": "stdout",
     "output_type": "stream",
     "text": [
      "Time elapsed: 6.166985258460045e-06s\n"
     ]
    },
    {
     "data": {
      "text/plain": [
       "[[-1, 0, 0, 0, 0],\n",
       " [0, -1, 0, 0, 0],\n",
       " [0, 0, -1, 0, 0],\n",
       " [0, 0, 0, -1, 0],\n",
       " [0, 0, 0, 0, -1]]"
      ]
     },
     "execution_count": 237,
     "metadata": {},
     "output_type": "execute_result"
    }
   ],
   "source": [
    "time_my_function(my_diagonal, 5, 5, diagonal_element = -1)"
   ]
  },
  {
   "cell_type": "markdown",
   "id": "a317aeb0-3a5e-4f9f-903f-73a37d22a453",
   "metadata": {},
   "source": [
    "## Issues with above method\n",
    "1. I have to use this `time_my_function` instead of my original functions.\n",
    "2. I have no autocompletion available, i have to remember parameters of each function now.\n",
    "\n",
    "## Lets try a closures"
   ]
  },
  {
   "cell_type": "code",
   "execution_count": 238,
   "id": "46cb3e15-a714-4826-b0cb-f0c247b96f21",
   "metadata": {},
   "outputs": [],
   "source": [
    "def outer(func):\n",
    "    def inner(*args, **kwargs):\n",
    "        start_time = perf_counter()\n",
    "        result = func(*args, **kwargs)\n",
    "        end_time = perf_counter()\n",
    "        print(f'Time elapsed: {end_time - start_time}s')\n",
    "        return result\n",
    "    return inner"
   ]
  },
  {
   "cell_type": "code",
   "execution_count": 239,
   "id": "7d8f235f-ba5c-4188-8813-92af2375ae84",
   "metadata": {},
   "outputs": [],
   "source": [
    "timed_my_factorial = outer(my_factorial)"
   ]
  },
  {
   "cell_type": "code",
   "execution_count": 240,
   "id": "294f4958-19fd-446a-8de6-0358b30f76d8",
   "metadata": {},
   "outputs": [
    {
     "data": {
      "text/plain": [
       "function"
      ]
     },
     "execution_count": 240,
     "metadata": {},
     "output_type": "execute_result"
    }
   ],
   "source": [
    "type(timed_my_factorial)"
   ]
  },
  {
   "cell_type": "markdown",
   "id": "3576f29c-e565-4ccc-855e-3b891169a425",
   "metadata": {},
   "source": [
    "## Note the address of function object which is the closure here."
   ]
  },
  {
   "cell_type": "code",
   "execution_count": 241,
   "id": "332c7b4b-2b1d-4765-94c5-30bbe6b96cf3",
   "metadata": {},
   "outputs": [
    {
     "data": {
      "text/plain": [
       "(<cell at 0x10c4ce800: function object at 0x10c6b5080>,)"
      ]
     },
     "execution_count": 241,
     "metadata": {},
     "output_type": "execute_result"
    }
   ],
   "source": [
    "timed_my_factorial.__closure__"
   ]
  },
  {
   "cell_type": "code",
   "execution_count": 242,
   "id": "2a2a8d00-4d1e-4056-a626-91bcb3b66fd1",
   "metadata": {},
   "outputs": [
    {
     "data": {
      "text/plain": [
       "'0x10c6b5080'"
      ]
     },
     "execution_count": 242,
     "metadata": {},
     "output_type": "execute_result"
    }
   ],
   "source": [
    "hex(id(my_factorial))"
   ]
  },
  {
   "cell_type": "code",
   "execution_count": 243,
   "id": "f5d6eda5-17af-4da6-99fd-6ff41ad00851",
   "metadata": {},
   "outputs": [
    {
     "name": "stdout",
     "output_type": "stream",
     "text": [
      "Time elapsed: 0.0005364589160308242s\n"
     ]
    },
    {
     "data": {
      "text/plain": [
       "402387260077093773543702433923003985719374864210714632543799910429938512398629020592044208486969404800479988610197196058631666872994808558901323829669944590997424504087073759918823627727188732519779505950995276120874975462497043601418278094646496291056393887437886487337119181045825783647849977012476632889835955735432513185323958463075557409114262417474349347553428646576611667797396668820291207379143853719588249808126867838374559731746136085379534524221586593201928090878297308431392844403281231558611036976801357304216168747609675871348312025478589320767169132448426236131412508780208000261683151027341827977704784635868170164365024153691398281264810213092761244896359928705114964975419909342221566832572080821333186116811553615836546984046708975602900950537616475847728421889679646244945160765353408198901385442487984959953319101723355556602139450399736280750137837615307127761926849034352625200015888535147331611702103968175921510907788019393178114194545257223865541461062892187960223838971476088506276862967146674697562911234082439208160153780889893964518263243671616762179168909779911903754031274622289988005195444414282012187361745992642956581746628302955570299024324153181617210465832036786906117260158783520751516284225540265170483304226143974286933061690897968482590125458327168226458066526769958652682272807075781391858178889652208164348344825993266043367660176999612831860788386150279465955131156552036093988180612138558600301435694527224206344631797460594682573103790084024432438465657245014402821885252470935190620929023136493273497565513958720559654228749774011413346962715422845862377387538230483865688976461927383814900140767310446640259899490222221765904339901886018566526485061799702356193897017860040811889729918311021171229845901641921068884387121855646124960798722908519296819372388642614839657382291123125024186649353143970137428531926649875337218940694281434118520158014123344828015051399694290153483077644569099073152433278288269864602789864321139083506217095002597389863554277196742822248757586765752344220207573630569498825087968928162753848863396909959826280956121450994871701244516461260379029309120889086942028510640182154399457156805941872748998094254742173582401063677404595741785160829230135358081840096996372524230560855903700624271243416909004153690105933983835777939410970027753472000000000000000000000000000000000000000000000000000000000000000000000000000000000000000000000000000000000000000000000000000000000000000000000000000000000000000000000000000000000000000000000000000000000000000000000000000000000000000000000000000000000"
      ]
     },
     "execution_count": 243,
     "metadata": {},
     "output_type": "execute_result"
    }
   ],
   "source": [
    "timed_my_factorial(1000)"
   ]
  },
  {
   "cell_type": "code",
   "execution_count": 244,
   "id": "479cdb32-4f5d-46f4-86d2-3fb1029b9780",
   "metadata": {},
   "outputs": [
    {
     "data": {
      "text/plain": [
       "((<cell at 0x10c4cdae0: function object at 0x10c4b9300>,), '0x10c4b9300')"
      ]
     },
     "execution_count": 244,
     "metadata": {},
     "output_type": "execute_result"
    }
   ],
   "source": [
    "timed_my_diagonal = outer(my_diagnoal)\n",
    "timed_my_diagonal.__closure__, hex(id(my_diagnoal))"
   ]
  },
  {
   "cell_type": "code",
   "execution_count": 245,
   "id": "f030a225-6f97-456c-abba-0385bf5f9152",
   "metadata": {},
   "outputs": [
    {
     "name": "stdout",
     "output_type": "stream",
     "text": [
      "Time elapsed: 6.958027370274067e-06s\n",
      "Time elapsed: 7.337506394833326e-05s\n"
     ]
    },
    {
     "data": {
      "text/plain": [
       "[[9, 0, 0, 0, 0],\n",
       " [0, 9, 0, 0, 0],\n",
       " [0, 0, 9, 0, 0],\n",
       " [0, 0, 0, 9, 0],\n",
       " [0, 0, 0, 0, 9]]"
      ]
     },
     "execution_count": 245,
     "metadata": {},
     "output_type": "execute_result"
    }
   ],
   "source": [
    "timed_my_diagonal(5, 5, diagonal_element = 9)"
   ]
  },
  {
   "cell_type": "markdown",
   "id": "3cf3021d-c079-4024-891b-5be9cc16a15a",
   "metadata": {},
   "source": [
    "## Issues with above\n",
    "1. no function signature, so i have to remember it,\n",
    "2. no function docs cleanly available.\n",
    "\n",
    "## Lets try decorators"
   ]
  },
  {
   "cell_type": "code",
   "execution_count": 246,
   "id": "8a7a632b-780f-4b9d-96c0-98cb043af466",
   "metadata": {},
   "outputs": [],
   "source": [
    "def outer(func):\n",
    "    def inner(*args, **kwargs):\n",
    "        start_time = perf_counter()\n",
    "        result = func(*args, **kwargs)\n",
    "        end_time = perf_counter()\n",
    "        print(f'Time elapsed: {end_time - start_time}s')\n",
    "        return result\n",
    "    return inner\n",
    "\n",
    "@outer\n",
    "def my_factorial(n):\n",
    "    res = 1\n",
    "    for i in range(1, n+1):\n",
    "        res *= i\n",
    "    return res\n",
    "\n",
    "@outer\n",
    "def my_diagonal(rows, columns, *, diagonal_element = 1):\n",
    "    return [\n",
    "        [\n",
    "            diagonal_element if row==column else 0 \n",
    "            for column in range(columns)\n",
    "        ] \n",
    "        for row in range(rows)\n",
    "    ]   "
   ]
  },
  {
   "cell_type": "code",
   "execution_count": 247,
   "id": "27916e4c-a230-4d2d-b495-7969ac2f4554",
   "metadata": {},
   "outputs": [
    {
     "name": "stdout",
     "output_type": "stream",
     "text": [
      "Time elapsed: 3.4580007195472717e-06s\n"
     ]
    },
    {
     "data": {
      "text/plain": [
       "3628800"
      ]
     },
     "execution_count": 247,
     "metadata": {},
     "output_type": "execute_result"
    }
   ],
   "source": [
    "my_factorial(10)"
   ]
  },
  {
   "cell_type": "code",
   "execution_count": 250,
   "id": "34bbc1b6-3670-42bf-9aea-ecf619f4366c",
   "metadata": {},
   "outputs": [
    {
     "name": "stdout",
     "output_type": "stream",
     "text": [
      "Time elapsed: 1.2709060683846474e-05s\n"
     ]
    },
    {
     "data": {
      "text/plain": [
       "[[-1, 0, 0, 0, 0],\n",
       " [0, -1, 0, 0, 0],\n",
       " [0, 0, -1, 0, 0],\n",
       " [0, 0, 0, -1, 0],\n",
       " [0, 0, 0, 0, -1]]"
      ]
     },
     "execution_count": 250,
     "metadata": {},
     "output_type": "execute_result"
    }
   ],
   "source": [
    "my_diagonal(5, 5, diagonal_element = -1)"
   ]
  },
  {
   "cell_type": "markdown",
   "id": "4ba3e07e-12eb-441f-aea7-148842681aff",
   "metadata": {},
   "source": [
    "# MORE ON CLOSURES \n",
    "# Python Cells and Multi-Scoped Variables"
   ]
  },
  {
   "cell_type": "code",
   "execution_count": 36,
   "id": "1fc9bb68-3af7-4f17-8ac5-32e102b57e5a",
   "metadata": {},
   "outputs": [],
   "source": [
    "def outer():\n",
    "    x = 'Python'\n",
    "    def inner():\n",
    "        print(x)\n",
    "    return inner\n",
    "\n",
    "f = outer()"
   ]
  },
  {
   "cell_type": "code",
   "execution_count": 32,
   "id": "e72021a6-ec99-4dac-a16f-bf245a38b5bd",
   "metadata": {},
   "outputs": [
    {
     "name": "stdout",
     "output_type": "stream",
     "text": [
      "Python\n"
     ]
    }
   ],
   "source": [
    "f()"
   ]
  },
  {
   "cell_type": "code",
   "execution_count": 46,
   "id": "1e5d5710-c2ee-4a18-be27-06b4089a64c8",
   "metadata": {},
   "outputs": [
    {
     "name": "stdout",
     "output_type": "stream",
     "text": [
      "Python, outer: 0x1098e1c20\n",
      "Python, inner: 0x1098e1c20\n"
     ]
    }
   ],
   "source": [
    "def outer():\n",
    "    x = 'Python'\n",
    "    print(f'{x}, outer: {hex(id(x))}')\n",
    "    def inner():\n",
    "        print(f'{x}, inner: {hex(id(x))}')\n",
    "    return inner\n",
    "\n",
    "f = outer()\n",
    "f()"
   ]
  },
  {
   "cell_type": "code",
   "execution_count": 47,
   "id": "fc174376-ebdb-4b61-baa1-6cd563e41ae5",
   "metadata": {},
   "outputs": [
    {
     "data": {
      "text/plain": [
       "(<cell at 0x10c6dfaf0: str object at 0x1098e1c20>,)"
      ]
     },
     "execution_count": 47,
     "metadata": {},
     "output_type": "execute_result"
    }
   ],
   "source": [
    "f.__closure__"
   ]
  },
  {
   "cell_type": "code",
   "execution_count": 48,
   "id": "16bffbdd-6afb-4a57-a90c-d513c467e84f",
   "metadata": {},
   "outputs": [
    {
     "data": {
      "text/plain": [
       "('x',)"
      ]
     },
     "execution_count": 48,
     "metadata": {},
     "output_type": "execute_result"
    }
   ],
   "source": [
    "f.__code__.co_freevars"
   ]
  },
  {
   "cell_type": "markdown",
   "id": "f29fa431-a00f-4194-847c-29d718f51bdc",
   "metadata": {},
   "source": [
    "# for a closure, python creates a cell which points to free variable. both outer x and x inner point to cell which points to the actual object"
   ]
  },
  {
   "cell_type": "code",
   "execution_count": 49,
   "id": "4a19afd8-e292-43f1-bbf4-52389e5de271",
   "metadata": {},
   "outputs": [
    {
     "name": "stdout",
     "output_type": "stream",
     "text": [
      "0, outer: 0x105271fe0\n",
      "1, outer: 0x105272000\n"
     ]
    }
   ],
   "source": [
    "def outer():\n",
    "    count = 0\n",
    "    print(f'{count}, outer: {hex(id(count))}')\n",
    "    def inner():\n",
    "        nonlocal count\n",
    "        count += 1\n",
    "        print(f'{count}, outer: {hex(id(count))}')\n",
    "    return inner\n",
    "\n",
    "f = outer()\n",
    "f()"
   ]
  },
  {
   "cell_type": "code",
   "execution_count": 50,
   "id": "ae2e575b-ee10-4cf3-83be-3507366f642d",
   "metadata": {},
   "outputs": [
    {
     "data": {
      "text/plain": [
       "(<cell at 0x10c7043a0: int object at 0x105272000>,)"
      ]
     },
     "execution_count": 50,
     "metadata": {},
     "output_type": "execute_result"
    }
   ],
   "source": [
    "f.__closure__"
   ]
  },
  {
   "cell_type": "code",
   "execution_count": 51,
   "id": "8bdb66d8-24ad-47c7-8ac6-cfdd8f49c751",
   "metadata": {},
   "outputs": [
    {
     "name": "stdout",
     "output_type": "stream",
     "text": [
      "2, outer: 0x105272020\n"
     ]
    }
   ],
   "source": [
    "f()"
   ]
  },
  {
   "cell_type": "code",
   "execution_count": 52,
   "id": "b40f96cf-d37c-4dc8-a4a8-4cbd21033582",
   "metadata": {},
   "outputs": [
    {
     "data": {
      "text/plain": [
       "(<cell at 0x10c7043a0: int object at 0x105272020>,)"
      ]
     },
     "execution_count": 52,
     "metadata": {},
     "output_type": "execute_result"
    }
   ],
   "source": [
    "f.__closure__"
   ]
  },
  {
   "cell_type": "markdown",
   "id": "b9098b66-c75d-4157-aa37-8a49d9bf2d6b",
   "metadata": {},
   "source": [
    "# now see this"
   ]
  },
  {
   "cell_type": "code",
   "execution_count": 53,
   "id": "bbdf577c-eb11-44d1-ba88-97c840e88560",
   "metadata": {},
   "outputs": [],
   "source": [
    "def outer():\n",
    "    count = 0\n",
    "    def inner():\n",
    "        nonlocal count\n",
    "        count += 1\n",
    "        return count\n",
    "    return inner\n",
    "\n",
    "f1 = outer()\n",
    "f2 = outer()"
   ]
  },
  {
   "cell_type": "code",
   "execution_count": 54,
   "id": "0045d854-4630-4ebb-9471-638664dd0eef",
   "metadata": {},
   "outputs": [
    {
     "data": {
      "text/plain": [
       "1"
      ]
     },
     "execution_count": 54,
     "metadata": {},
     "output_type": "execute_result"
    }
   ],
   "source": [
    "f1()"
   ]
  },
  {
   "cell_type": "code",
   "execution_count": 55,
   "id": "a34e3b35-510a-48a2-9017-209566432a7a",
   "metadata": {},
   "outputs": [
    {
     "data": {
      "text/plain": [
       "2"
      ]
     },
     "execution_count": 55,
     "metadata": {},
     "output_type": "execute_result"
    }
   ],
   "source": [
    "f1()"
   ]
  },
  {
   "cell_type": "code",
   "execution_count": 56,
   "id": "fdb9dbd8-9780-460d-bc6d-11a25bdbc871",
   "metadata": {},
   "outputs": [
    {
     "data": {
      "text/plain": [
       "3"
      ]
     },
     "execution_count": 56,
     "metadata": {},
     "output_type": "execute_result"
    }
   ],
   "source": [
    "f1()"
   ]
  },
  {
   "cell_type": "code",
   "execution_count": 57,
   "id": "5a8e075a-bdc8-4f94-9388-84621db58efa",
   "metadata": {},
   "outputs": [
    {
     "data": {
      "text/plain": [
       "1"
      ]
     },
     "execution_count": 57,
     "metadata": {},
     "output_type": "execute_result"
    }
   ],
   "source": [
    "f2()"
   ]
  },
  {
   "cell_type": "markdown",
   "id": "5716a6c2-c4cf-40aa-ac79-b00d7df051a3",
   "metadata": {},
   "source": [
    "# both closures have different cells"
   ]
  },
  {
   "cell_type": "code",
   "execution_count": 58,
   "id": "36ff5aa1-2e04-4cd7-b8b2-5e13de219db9",
   "metadata": {},
   "outputs": [
    {
     "data": {
      "text/plain": [
       "(<cell at 0x10c7077f0: int object at 0x105272040>,)"
      ]
     },
     "execution_count": 58,
     "metadata": {},
     "output_type": "execute_result"
    }
   ],
   "source": [
    "f1.__closure__"
   ]
  },
  {
   "cell_type": "code",
   "execution_count": 59,
   "id": "014a8eaf-c850-423e-9ec3-d48b4132fd8b",
   "metadata": {},
   "outputs": [
    {
     "data": {
      "text/plain": [
       "(<cell at 0x10c707670: int object at 0x105272000>,)"
      ]
     },
     "execution_count": 59,
     "metadata": {},
     "output_type": "execute_result"
    }
   ],
   "source": [
    "f2.__closure__"
   ]
  },
  {
   "cell_type": "markdown",
   "id": "13d4feb8-1849-4eb8-b1ed-d1219160ece2",
   "metadata": {},
   "source": [
    "# lets create shared extended scope\n",
    "1. even though the count is in scope of outer function and goes out of scope once outer is done running, inner can still reference count and this is because of closure.\n",
    "2. Python creates a cell object which points to the free variable and cell object is in scope of inner functions - and this is how closures are created."
   ]
  },
  {
   "cell_type": "code",
   "execution_count": 60,
   "id": "54371aa4-b042-4512-89d3-41b4a0ae6beb",
   "metadata": {},
   "outputs": [],
   "source": [
    "def outer():\n",
    "    count = 0\n",
    "    \n",
    "    def inner1():\n",
    "        nonlocal count\n",
    "        count += 1\n",
    "        return count\n",
    "\n",
    "    def inner2():\n",
    "        nonlocal count\n",
    "        count += 1\n",
    "        return count\n",
    "    \n",
    "    return inner1, inner2\n",
    "\n",
    "f1, f2 = outer()"
   ]
  },
  {
   "cell_type": "code",
   "execution_count": 61,
   "id": "c6e3be1e-eb36-46af-9837-f2be7b7a6f44",
   "metadata": {},
   "outputs": [
    {
     "data": {
      "text/plain": [
       "(<cell at 0x10c7050c0: int object at 0x105271fe0>,)"
      ]
     },
     "execution_count": 61,
     "metadata": {},
     "output_type": "execute_result"
    }
   ],
   "source": [
    "f1.__closure__"
   ]
  },
  {
   "cell_type": "code",
   "execution_count": 62,
   "id": "79aa3d59-6754-421a-ad09-76b9482f8ba8",
   "metadata": {},
   "outputs": [
    {
     "data": {
      "text/plain": [
       "(<cell at 0x10c7050c0: int object at 0x105271fe0>,)"
      ]
     },
     "execution_count": 62,
     "metadata": {},
     "output_type": "execute_result"
    }
   ],
   "source": [
    "f2.__closure__"
   ]
  },
  {
   "cell_type": "code",
   "execution_count": 63,
   "id": "d5b71733-1ead-4b16-b63b-9f748ba85987",
   "metadata": {},
   "outputs": [
    {
     "data": {
      "text/plain": [
       "1"
      ]
     },
     "execution_count": 63,
     "metadata": {},
     "output_type": "execute_result"
    }
   ],
   "source": [
    "f1()"
   ]
  },
  {
   "cell_type": "code",
   "execution_count": 64,
   "id": "78cd04a8-9349-465a-90bf-8a1955512d63",
   "metadata": {},
   "outputs": [
    {
     "data": {
      "text/plain": [
       "2"
      ]
     },
     "execution_count": 64,
     "metadata": {},
     "output_type": "execute_result"
    }
   ],
   "source": [
    "f1()"
   ]
  },
  {
   "cell_type": "code",
   "execution_count": 65,
   "id": "471aa2f8-cd9a-4bf4-99ba-41a050f2c5ef",
   "metadata": {},
   "outputs": [
    {
     "data": {
      "text/plain": [
       "3"
      ]
     },
     "execution_count": 65,
     "metadata": {},
     "output_type": "execute_result"
    }
   ],
   "source": [
    "f1()"
   ]
  },
  {
   "cell_type": "code",
   "execution_count": 67,
   "id": "51e70154-afe4-49c4-b326-8083cc1a57a3",
   "metadata": {},
   "outputs": [
    {
     "data": {
      "text/plain": [
       "((<cell at 0x10c7050c0: int object at 0x105272040>,),\n",
       " (<cell at 0x10c7050c0: int object at 0x105272040>,))"
      ]
     },
     "execution_count": 67,
     "metadata": {},
     "output_type": "execute_result"
    }
   ],
   "source": [
    "f1.__closure__, f2.__closure__"
   ]
  },
  {
   "cell_type": "code",
   "execution_count": 68,
   "id": "6f423c00-32c8-4f8c-89fe-62a57b46b658",
   "metadata": {},
   "outputs": [
    {
     "data": {
      "text/plain": [
       "4"
      ]
     },
     "execution_count": 68,
     "metadata": {},
     "output_type": "execute_result"
    }
   ],
   "source": [
    "f2()"
   ]
  },
  {
   "cell_type": "code",
   "execution_count": 69,
   "id": "29e772c5-49dc-430a-a30a-e040584144c9",
   "metadata": {},
   "outputs": [
    {
     "data": {
      "text/plain": [
       "5"
      ]
     },
     "execution_count": 69,
     "metadata": {},
     "output_type": "execute_result"
    }
   ],
   "source": [
    "f2()"
   ]
  },
  {
   "cell_type": "code",
   "execution_count": 70,
   "id": "bfefacf6-8ca2-4eda-9061-adeaaa2c9720",
   "metadata": {},
   "outputs": [
    {
     "data": {
      "text/plain": [
       "6"
      ]
     },
     "execution_count": 70,
     "metadata": {},
     "output_type": "execute_result"
    }
   ],
   "source": [
    "f1()"
   ]
  },
  {
   "cell_type": "markdown",
   "id": "5378b0f3-4b41-4b99-88ff-28cc1c2cb970",
   "metadata": {},
   "source": [
    "# some pitfalls to avoid"
   ]
  },
  {
   "cell_type": "code",
   "execution_count": 74,
   "id": "c47393c4-f735-4a94-85d3-a437dd3759b5",
   "metadata": {},
   "outputs": [],
   "source": [
    "def adder(x):\n",
    "    def inner(n):\n",
    "        return x + n\n",
    "    return inner\n",
    "\n",
    "add_1 = adder(1)\n",
    "add_2 = adder(2)\n",
    "add_3 = adder(3)"
   ]
  },
  {
   "cell_type": "code",
   "execution_count": 75,
   "id": "1f37bafb-6c3c-48a9-bf04-92199a0b62f4",
   "metadata": {},
   "outputs": [
    {
     "data": {
      "text/plain": [
       "(11, 12, 13)"
      ]
     },
     "execution_count": 75,
     "metadata": {},
     "output_type": "execute_result"
    }
   ],
   "source": [
    "add_1(10), add_2(10), add_3(10)"
   ]
  },
  {
   "cell_type": "code",
   "execution_count": 76,
   "id": "1afe79ae-cbe0-49a0-a36a-1f208197f02b",
   "metadata": {},
   "outputs": [
    {
     "data": {
      "text/plain": [
       "(<cell at 0x10c7053c0: int object at 0x105272000>,)"
      ]
     },
     "execution_count": 76,
     "metadata": {},
     "output_type": "execute_result"
    }
   ],
   "source": [
    "add_1.__closure__"
   ]
  },
  {
   "cell_type": "code",
   "execution_count": 77,
   "id": "d302971b-8083-4768-bbe0-4959e9b9744e",
   "metadata": {},
   "outputs": [
    {
     "data": {
      "text/plain": [
       "(<cell at 0x10c7050f0: int object at 0x105272020>,)"
      ]
     },
     "execution_count": 77,
     "metadata": {},
     "output_type": "execute_result"
    }
   ],
   "source": [
    "add_2.__closure__"
   ]
  },
  {
   "cell_type": "code",
   "execution_count": 78,
   "id": "b3dfca35-44b1-4be1-9000-6afbc1ec3993",
   "metadata": {},
   "outputs": [
    {
     "data": {
      "text/plain": [
       "(<cell at 0x10c704f40: int object at 0x105272040>,)"
      ]
     },
     "execution_count": 78,
     "metadata": {},
     "output_type": "execute_result"
    }
   ],
   "source": [
    "add_3.__closure__"
   ]
  },
  {
   "cell_type": "markdown",
   "id": "68b9a6e8-7b56-4d5b-9a40-8c4b66b023f8",
   "metadata": {},
   "source": [
    "## now see this"
   ]
  },
  {
   "cell_type": "code",
   "execution_count": 80,
   "id": "faf9842e-6ac1-4ecc-9cdf-2b525e163b7e",
   "metadata": {},
   "outputs": [],
   "source": [
    "adders = []\n",
    "for n in range(1, 4):\n",
    "    adders.append(lambda x: x + n)"
   ]
  },
  {
   "cell_type": "code",
   "execution_count": 81,
   "id": "daabb09d-1ecc-40a6-9d48-de1b9ee82e5d",
   "metadata": {},
   "outputs": [
    {
     "data": {
      "text/plain": [
       "[<function __main__.<lambda>(x)>,\n",
       " <function __main__.<lambda>(x)>,\n",
       " <function __main__.<lambda>(x)>]"
      ]
     },
     "execution_count": 81,
     "metadata": {},
     "output_type": "execute_result"
    }
   ],
   "source": [
    "adders"
   ]
  },
  {
   "cell_type": "code",
   "execution_count": 82,
   "id": "2d34f039-4601-45c1-a6a2-362beef06ff1",
   "metadata": {},
   "outputs": [
    {
     "data": {
      "text/plain": [
       "13"
      ]
     },
     "execution_count": 82,
     "metadata": {},
     "output_type": "execute_result"
    }
   ],
   "source": [
    "adders[0](10)"
   ]
  },
  {
   "cell_type": "code",
   "execution_count": 83,
   "id": "2f65ac8c-051f-4812-a6c7-09c822447e05",
   "metadata": {},
   "outputs": [
    {
     "data": {
      "text/plain": [
       "13"
      ]
     },
     "execution_count": 83,
     "metadata": {},
     "output_type": "execute_result"
    }
   ],
   "source": [
    "adders[1](10)"
   ]
  },
  {
   "cell_type": "code",
   "execution_count": 84,
   "id": "33679e9a-bb5a-42fe-92cf-6c6192120a96",
   "metadata": {},
   "outputs": [
    {
     "data": {
      "text/plain": [
       "13"
      ]
     },
     "execution_count": 84,
     "metadata": {},
     "output_type": "execute_result"
    }
   ],
   "source": [
    "adders[2](10)"
   ]
  },
  {
   "cell_type": "markdown",
   "id": "d3a4efb6-7d46-48a1-a983-ed0c4d8791db",
   "metadata": {},
   "source": [
    "## how can we explain this ?"
   ]
  },
  {
   "cell_type": "markdown",
   "id": "3b0e86fc-37d8-409c-882b-af85d6006b6a",
   "metadata": {},
   "source": [
    "the free variable in the lambda is n, and it is bound to the n we created in the loop. the last iterated value was n. When is this n evaluated? when the closure is called. "
   ]
  },
  {
   "cell_type": "code",
   "execution_count": 92,
   "id": "07d534ed-ee95-443c-bfc7-02b12cbdbd93",
   "metadata": {},
   "outputs": [
    {
     "name": "stdout",
     "output_type": "stream",
     "text": [
      "11\n",
      "12\n",
      "13\n"
     ]
    }
   ],
   "source": [
    "adders = []\n",
    "for n in range(1, 4):\n",
    "    adders.append(lambda x: x + n)\n",
    "    print(adders[0](10))"
   ]
  },
  {
   "cell_type": "markdown",
   "id": "f941b7b6-3ce8-498d-aea9-b1055ef56bfc",
   "metadata": {},
   "source": [
    "# closure applications"
   ]
  },
  {
   "cell_type": "markdown",
   "id": "651cdd3a-1845-4fee-9cc0-fd2ad2e96867",
   "metadata": {},
   "source": [
    "### example 1: avoiding overhead of classes"
   ]
  },
  {
   "cell_type": "code",
   "execution_count": 1,
   "id": "45821ade-4989-494e-a977-cb6d4ac0b3d0",
   "metadata": {},
   "outputs": [],
   "source": [
    "class Averager:\n",
    "    def __init__(self):\n",
    "        self.numbers = []\n",
    "\n",
    "    def add(self, number):\n",
    "        self.numbers.append(number)\n",
    "        return sum(self.numbers)/len(self.numbers)"
   ]
  },
  {
   "cell_type": "code",
   "execution_count": 2,
   "id": "3c1e7ef5-ec39-439a-9732-a60c0d4bdc72",
   "metadata": {},
   "outputs": [
    {
     "data": {
      "text/plain": [
       "10.0"
      ]
     },
     "execution_count": 2,
     "metadata": {},
     "output_type": "execute_result"
    }
   ],
   "source": [
    "a = Averager()\n",
    "a.add(10)"
   ]
  },
  {
   "cell_type": "code",
   "execution_count": 3,
   "id": "cc7a3fa6-1ef0-41dc-88de-83185524931f",
   "metadata": {},
   "outputs": [
    {
     "data": {
      "text/plain": [
       "15.0"
      ]
     },
     "execution_count": 3,
     "metadata": {},
     "output_type": "execute_result"
    }
   ],
   "source": [
    "a.add(20)"
   ]
  },
  {
   "cell_type": "code",
   "execution_count": 4,
   "id": "58b9321d-9071-4aef-a3d0-8363986187be",
   "metadata": {},
   "outputs": [
    {
     "data": {
      "text/plain": [
       "20.0"
      ]
     },
     "execution_count": 4,
     "metadata": {},
     "output_type": "execute_result"
    }
   ],
   "source": [
    "a.add(30)"
   ]
  },
  {
   "cell_type": "code",
   "execution_count": 5,
   "id": "0326c01c-1983-4f9b-baca-f58596fb6b2b",
   "metadata": {},
   "outputs": [
    {
     "data": {
      "text/plain": [
       "method"
      ]
     },
     "execution_count": 5,
     "metadata": {},
     "output_type": "execute_result"
    }
   ],
   "source": [
    "type(a.add)"
   ]
  },
  {
   "cell_type": "markdown",
   "id": "a56a78ea-4f20-4d01-ab9c-5fd418713677",
   "metadata": {},
   "source": [
    "### another way to write this without the overhead of class"
   ]
  },
  {
   "cell_type": "code",
   "execution_count": 22,
   "id": "02dd17f6-ff10-4b52-a4b9-70875db48365",
   "metadata": {},
   "outputs": [
    {
     "data": {
      "text/plain": [
       "(10.0, (<cell at 0x10c1d23e0: list object at 0x10bfb6a00>,))"
      ]
     },
     "execution_count": 22,
     "metadata": {},
     "output_type": "execute_result"
    }
   ],
   "source": [
    "def averager():\n",
    "    numbers = []\n",
    "    def add(n):\n",
    "        numbers.append(n)\n",
    "        return sum(numbers)/len(numbers)\n",
    "    return add\n",
    "\n",
    "a = averager()\n",
    "a(10), a.__closure__ # list to which cell points to, list is mutated in place"
   ]
  },
  {
   "cell_type": "code",
   "execution_count": 23,
   "id": "278302f5-db54-42f4-9ef4-192b2d85f52b",
   "metadata": {},
   "outputs": [
    {
     "data": {
      "text/plain": [
       "(12.5, (<cell at 0x10c1d23e0: list object at 0x10bfb6a00>,))"
      ]
     },
     "execution_count": 23,
     "metadata": {},
     "output_type": "execute_result"
    }
   ],
   "source": [
    "a(15), a.__closure__"
   ]
  },
  {
   "cell_type": "code",
   "execution_count": 24,
   "id": "3c37f225-aa48-4427-95fc-22d0983d86d7",
   "metadata": {},
   "outputs": [
    {
     "data": {
      "text/plain": [
       "(15.0, (<cell at 0x10c1d23e0: list object at 0x10bfb6a00>,))"
      ]
     },
     "execution_count": 24,
     "metadata": {},
     "output_type": "execute_result"
    }
   ],
   "source": [
    "a(20), a.__closure__"
   ]
  },
  {
   "cell_type": "markdown",
   "id": "63a96bf5-2cd7-4234-a93d-08fa04000ccf",
   "metadata": {},
   "source": [
    "### Lets make it better"
   ]
  },
  {
   "cell_type": "code",
   "execution_count": 25,
   "id": "015653f4-930f-4d4b-a324-44ffbdad5975",
   "metadata": {},
   "outputs": [
    {
     "ename": "UnboundLocalError",
     "evalue": "cannot access local variable 'total' where it is not associated with a value",
     "output_type": "error",
     "traceback": [
      "\u001b[31m---------------------------------------------------------------------------\u001b[39m",
      "\u001b[31mUnboundLocalError\u001b[39m                         Traceback (most recent call last)",
      "\u001b[36mCell\u001b[39m\u001b[36m \u001b[39m\u001b[32mIn[25]\u001b[39m\u001b[32m, line 11\u001b[39m\n\u001b[32m      8\u001b[39m     \u001b[38;5;28;01mreturn\u001b[39;00m add\n\u001b[32m     10\u001b[39m a = averager()\n\u001b[32m---> \u001b[39m\u001b[32m11\u001b[39m \u001b[43ma\u001b[49m\u001b[43m(\u001b[49m\u001b[32;43m10\u001b[39;49m\u001b[43m)\u001b[49m, a.\u001b[34m__closure__\u001b[39m \u001b[38;5;66;03m# list to which cell points to, list is mutated in place\u001b[39;00m\n",
      "\u001b[36mCell\u001b[39m\u001b[36m \u001b[39m\u001b[32mIn[25]\u001b[39m\u001b[32m, line 5\u001b[39m, in \u001b[36maverager.<locals>.add\u001b[39m\u001b[34m(n)\u001b[39m\n\u001b[32m      4\u001b[39m \u001b[38;5;28;01mdef\u001b[39;00m\u001b[38;5;250m \u001b[39m\u001b[34madd\u001b[39m(n):\n\u001b[32m----> \u001b[39m\u001b[32m5\u001b[39m     \u001b[43mtotal\u001b[49m += n\n\u001b[32m      6\u001b[39m     count += \u001b[32m1\u001b[39m\n\u001b[32m      7\u001b[39m     \u001b[38;5;28;01mreturn\u001b[39;00m total/count\n",
      "\u001b[31mUnboundLocalError\u001b[39m: cannot access local variable 'total' where it is not associated with a value"
     ]
    }
   ],
   "source": [
    "def averager():\n",
    "    total = 0\n",
    "    count = 0\n",
    "    def add(n):\n",
    "        total += n  # assigment operation hence local total \n",
    "        count += 1\n",
    "        return total/count\n",
    "    return add\n",
    "\n",
    "a = averager()\n",
    "a(10), a.__closure__ # list to which cell points to, list is mutated in place"
   ]
  },
  {
   "cell_type": "code",
   "execution_count": 26,
   "id": "630b5472-aab2-44d3-9e2a-18397f104f6f",
   "metadata": {},
   "outputs": [
    {
     "data": {
      "text/plain": [
       "(10.0,\n",
       " (<cell at 0x10c8ce050: int object at 0x104e1a000>,\n",
       "  <cell at 0x10c8cf280: int object at 0x104e1a120>))"
      ]
     },
     "execution_count": 26,
     "metadata": {},
     "output_type": "execute_result"
    }
   ],
   "source": [
    "def averager():\n",
    "    total = 0\n",
    "    count = 0\n",
    "    def add(n):\n",
    "        nonlocal total\n",
    "        nonlocal count\n",
    "        total += n  # now total keeps changing\n",
    "        count += 1\n",
    "        return total/count\n",
    "    return add\n",
    "\n",
    "a = averager()\n",
    "a(10), a.__closure__ # list to which cell points to, list is mutated in place"
   ]
  },
  {
   "cell_type": "code",
   "execution_count": 27,
   "id": "4303bf1a-2398-458e-8fb1-42fba0b6b053",
   "metadata": {},
   "outputs": [
    {
     "data": {
      "text/plain": [
       "(15.0,\n",
       " (<cell at 0x10c8ce050: int object at 0x104e1a020>,\n",
       "  <cell at 0x10c8cf280: int object at 0x104e1a3a0>))"
      ]
     },
     "execution_count": 27,
     "metadata": {},
     "output_type": "execute_result"
    }
   ],
   "source": [
    "a(20), a.__closure__"
   ]
  },
  {
   "cell_type": "markdown",
   "id": "57377cd5-8ce3-4827-8bc9-730615422e22",
   "metadata": {},
   "source": [
    "### example 2: if there is just 1 thing we want, use closure instead of a class"
   ]
  },
  {
   "cell_type": "code",
   "execution_count": 28,
   "id": "ab8eb27c-8fea-4663-b3b4-1c533653062e",
   "metadata": {},
   "outputs": [],
   "source": [
    "from time import perf_counter"
   ]
  },
  {
   "cell_type": "code",
   "execution_count": 29,
   "id": "ce7e3506-297a-4ed0-984b-86d91b9b9c67",
   "metadata": {},
   "outputs": [],
   "source": [
    "class Timer:\n",
    "    def __init__(self):\n",
    "        self.start = perf_counter()\n",
    "\n",
    "    def poll(self):\n",
    "        return perf_counter() - self.start"
   ]
  },
  {
   "cell_type": "code",
   "execution_count": 30,
   "id": "ae9c89b5-4e34-4b3f-9e82-77844b340c4a",
   "metadata": {},
   "outputs": [],
   "source": [
    "t1 = Timer()"
   ]
  },
  {
   "cell_type": "code",
   "execution_count": 31,
   "id": "1a668a35-24b4-41c3-93d4-ae3f22f76c3e",
   "metadata": {},
   "outputs": [
    {
     "data": {
      "text/plain": [
       "4.765706874999523"
      ]
     },
     "execution_count": 31,
     "metadata": {},
     "output_type": "execute_result"
    }
   ],
   "source": [
    "t1.poll()"
   ]
  },
  {
   "cell_type": "code",
   "execution_count": 33,
   "id": "02f84cb4-029f-40f7-aaaf-1d2954c526dd",
   "metadata": {},
   "outputs": [
    {
     "data": {
      "text/plain": [
       "(16.341307707998567, 16.3413082499992)"
      ]
     },
     "execution_count": 33,
     "metadata": {},
     "output_type": "execute_result"
    }
   ],
   "source": [
    "t1.poll(),t1.poll()"
   ]
  },
  {
   "cell_type": "markdown",
   "id": "702c3072-4add-434d-a8da-4665b29d3dba",
   "metadata": {},
   "source": [
    "### i dont want to use pol, so make the class callable"
   ]
  },
  {
   "cell_type": "code",
   "execution_count": 34,
   "id": "f72f0475-2554-4629-ae0d-c4410a652e6e",
   "metadata": {},
   "outputs": [],
   "source": [
    "class Timer:\n",
    "    def __init__(self):\n",
    "        self.start = perf_counter()\n",
    "\n",
    "    def __call__(self):\n",
    "        return perf_counter() - self.start"
   ]
  },
  {
   "cell_type": "code",
   "execution_count": 37,
   "id": "eff402ba-245a-44f1-9d73-06577d8ad23e",
   "metadata": {},
   "outputs": [
    {
     "data": {
      "text/plain": [
       "(4.6332999772857875e-05, 4.683299994212575e-05)"
      ]
     },
     "execution_count": 37,
     "metadata": {},
     "output_type": "execute_result"
    }
   ],
   "source": [
    "t1 = Timer()\n",
    "t1(), t1() # executed immediately after creation"
   ]
  },
  {
   "cell_type": "code",
   "execution_count": 38,
   "id": "2dc158b8-2df9-4c2d-b4d9-7e8b350551a3",
   "metadata": {},
   "outputs": [
    {
     "data": {
      "text/plain": [
       "9.084591499999078"
      ]
     },
     "execution_count": 38,
     "metadata": {},
     "output_type": "execute_result"
    }
   ],
   "source": [
    "t1() # executed after a few secs"
   ]
  },
  {
   "cell_type": "markdown",
   "id": "eda1597b-6c90-4d30-aa5c-9f6a22499dbe",
   "metadata": {},
   "source": [
    "### can i do this with closure"
   ]
  },
  {
   "cell_type": "code",
   "execution_count": 39,
   "id": "7a75bfe3-8c48-4a86-958e-e89c9e9bb9b8",
   "metadata": {},
   "outputs": [
    {
     "data": {
      "text/plain": [
       "(<function __main__.my_timer.<locals>.poll()>,\n",
       " function,\n",
       " (<cell at 0x10c8d4a90: float object at 0x10cb88c10>,))"
      ]
     },
     "execution_count": 39,
     "metadata": {},
     "output_type": "execute_result"
    }
   ],
   "source": [
    "def my_timer():\n",
    "    start = perf_counter()\n",
    "    def poll():\n",
    "        return perf_counter() - start\n",
    "    return poll\n",
    "\n",
    "t1 = my_timer()\n",
    "t1, type(t1), t1.__closure__"
   ]
  },
  {
   "cell_type": "code",
   "execution_count": 42,
   "id": "3de22a54-4c64-453e-9b05-be96a3b571d3",
   "metadata": {},
   "outputs": [
    {
     "data": {
      "text/plain": [
       "46.06742754200059"
      ]
     },
     "execution_count": 42,
     "metadata": {},
     "output_type": "execute_result"
    }
   ],
   "source": [
    "t1() # t1 is poll now"
   ]
  },
  {
   "cell_type": "code",
   "execution_count": 43,
   "id": "22a5c898-4577-46a7-848f-5b13779bd542",
   "metadata": {},
   "outputs": [
    {
     "data": {
      "text/plain": [
       "46.40496154200082"
      ]
     },
     "execution_count": 43,
     "metadata": {},
     "output_type": "execute_result"
    }
   ],
   "source": [
    "t1()"
   ]
  },
  {
   "cell_type": "markdown",
   "id": "962247ad-f50e-404c-892a-f5c7340cb214",
   "metadata": {},
   "source": [
    "### function counter"
   ]
  },
  {
   "cell_type": "code",
   "execution_count": 51,
   "id": "8e0aad07-bec6-4a1b-8831-3c611500f3c6",
   "metadata": {},
   "outputs": [
    {
     "name": "stdout",
     "output_type": "stream",
     "text": [
      "fn: sum ran 1 times\n"
     ]
    },
    {
     "data": {
      "text/plain": [
       "13"
      ]
     },
     "execution_count": 51,
     "metadata": {},
     "output_type": "execute_result"
    }
   ],
   "source": [
    "def counter(fn):\n",
    "    count = 0\n",
    "    def inner(*args, **kwargs):\n",
    "        nonlocal count\n",
    "        count += 1\n",
    "        print(f'fn: {fn.__name__} ran {count} times')\n",
    "        return fn(*args, **kwargs)\n",
    "    return inner\n",
    "\n",
    "t1 = counter(sum)\n",
    "t1([1,3,4,5])"
   ]
  },
  {
   "cell_type": "code",
   "execution_count": 52,
   "id": "f205cfe8-a48b-4d99-8c66-070306de12f2",
   "metadata": {},
   "outputs": [
    {
     "name": "stdout",
     "output_type": "stream",
     "text": [
      "fn: sum ran 2 times\n"
     ]
    },
    {
     "data": {
      "text/plain": [
       "21"
      ]
     },
     "execution_count": 52,
     "metadata": {},
     "output_type": "execute_result"
    }
   ],
   "source": [
    "t1((10, 11))"
   ]
  },
  {
   "cell_type": "code",
   "execution_count": 54,
   "id": "ad184861-2cb2-490f-9a38-5a2b7dbc752f",
   "metadata": {},
   "outputs": [
    {
     "data": {
      "text/plain": [
       "(<cell at 0x10c9176d0: int object at 0x104e1a020>,\n",
       " <cell at 0x10c9155a0: builtin_function_or_method object at 0x1042ca5c0>)"
      ]
     },
     "execution_count": 54,
     "metadata": {},
     "output_type": "execute_result"
    }
   ],
   "source": [
    "t1.__closure__ # fn and count"
   ]
  },
  {
   "cell_type": "markdown",
   "id": "42b10388-f12d-45bd-ba91-537c52b82b3f",
   "metadata": {},
   "source": [
    "# DECORATORS"
   ]
  },
  {
   "cell_type": "code",
   "execution_count": 294,
   "id": "a6fffc73-af3b-47d7-9cf4-31af2dedb2db",
   "metadata": {},
   "outputs": [],
   "source": [
    "import logging"
   ]
  },
  {
   "cell_type": "code",
   "execution_count": 296,
   "id": "68326778-cac6-4f4b-a499-7f89242ea73b",
   "metadata": {},
   "outputs": [],
   "source": [
    "logging.basicConfig(\n",
    "    format='%(asctime)s %(levelname)s: %(message)s',\n",
    "    level=logging.DEBUG\n",
    ")"
   ]
  },
  {
   "cell_type": "code",
   "execution_count": 297,
   "id": "87633d27-1976-459d-a579-3c99a5f744c5",
   "metadata": {},
   "outputs": [],
   "source": [
    "# instantiate a logger\n",
    "logger = logging.getLogger('Custom Log')"
   ]
  },
  {
   "cell_type": "code",
   "execution_count": 298,
   "id": "8ba4a868-acf7-4975-a8f4-b82f9b03a975",
   "metadata": {},
   "outputs": [
    {
     "name": "stderr",
     "output_type": "stream",
     "text": [
      "2025-10-19 14:01:30,041 DEBUG: debug message\n"
     ]
    }
   ],
   "source": [
    "logger.debug('debug message')"
   ]
  },
  {
   "cell_type": "code",
   "execution_count": 299,
   "id": "c6f874c8-5664-4008-885b-924c9c617e1b",
   "metadata": {},
   "outputs": [
    {
     "name": "stderr",
     "output_type": "stream",
     "text": [
      "2025-10-19 14:01:39,089 WARNING: warning message\n"
     ]
    }
   ],
   "source": [
    "logger.warning('warning message')"
   ]
  },
  {
   "cell_type": "code",
   "execution_count": 300,
   "id": "425693f4-ce0b-4fa4-9776-1e283bb1ecfa",
   "metadata": {},
   "outputs": [
    {
     "name": "stderr",
     "output_type": "stream",
     "text": [
      "2025-10-19 14:01:46,757 ERROR: some error message\n"
     ]
    }
   ],
   "source": [
    "logger.error('some error message')"
   ]
  },
  {
   "cell_type": "code",
   "execution_count": 301,
   "id": "ff69792b-0dfc-459a-bead-5857dee12c17",
   "metadata": {},
   "outputs": [
    {
     "name": "stderr",
     "output_type": "stream",
     "text": [
      "2025-10-19 14:04:37,110 DEBUG: fn: my_add, elapsed: 7.080379873514175e-07\n"
     ]
    },
    {
     "data": {
      "text/plain": [
       "7"
      ]
     },
     "execution_count": 301,
     "metadata": {},
     "output_type": "execute_result"
    }
   ],
   "source": [
    "def log(func):\n",
    "    def inner(*args, **kwargs):\n",
    "        start_time = perf_counter()\n",
    "        result = func(*args, **kwargs)\n",
    "        end_time = perf_counter()\n",
    "        logger.debug(f'fn: {func.__name__}, elapsed: {end_time - start_time}')\n",
    "        return result\n",
    "    return inner\n",
    "\n",
    "@log\n",
    "def my_add(a, b):\n",
    "    return a + b\n",
    "\n",
    "my_add(2, 5)"
   ]
  },
  {
   "cell_type": "markdown",
   "id": "dd89cad5-3fa6-4b00-9b97-707cf300820b",
   "metadata": {},
   "source": [
    "## LRU CACHING\n",
    "1. is a clever usage of decorators\n",
    "2. function should be deterministic and for same args we can cache the results for any given args"
   ]
  },
  {
   "cell_type": "code",
   "execution_count": 320,
   "id": "07e38a42-7aff-4b16-a931-f1a77c2b2d13",
   "metadata": {},
   "outputs": [],
   "source": [
    "def my_lru(fn):\n",
    "    cache = {}\n",
    "    def inner(*args):\n",
    "        if not cache.get(args):\n",
    "            print(\"cache miss\")\n",
    "            cache[args] = fn(*args)\n",
    "        print(f'cache: {cache}')\n",
    "        result = cache[args]\n",
    "        return result\n",
    "    return inner\n",
    "\n",
    "@my_lru\n",
    "def my_add(*args):\n",
    "    return sum(args)"
   ]
  },
  {
   "cell_type": "code",
   "execution_count": 321,
   "id": "c5423318-ed25-4475-9cd3-e54f4762dc0b",
   "metadata": {},
   "outputs": [
    {
     "name": "stdout",
     "output_type": "stream",
     "text": [
      "cache miss\n",
      "cache: {(2, 5): 7}\n"
     ]
    },
    {
     "data": {
      "text/plain": [
       "7"
      ]
     },
     "execution_count": 321,
     "metadata": {},
     "output_type": "execute_result"
    }
   ],
   "source": [
    "my_add(2, 5)"
   ]
  },
  {
   "cell_type": "code",
   "execution_count": 323,
   "id": "85c43c8c-bac9-4adf-919d-ec9744cce7da",
   "metadata": {},
   "outputs": [
    {
     "name": "stdout",
     "output_type": "stream",
     "text": [
      "cache miss\n",
      "cache: {(2, 5): 7, (2, 5, 7): 14}\n"
     ]
    },
    {
     "data": {
      "text/plain": [
       "14"
      ]
     },
     "execution_count": 323,
     "metadata": {},
     "output_type": "execute_result"
    }
   ],
   "source": [
    "my_add(2, 5, 7)"
   ]
  },
  {
   "cell_type": "code",
   "execution_count": 324,
   "id": "ae4f6c47-de9a-4772-9bf7-97b9509736ca",
   "metadata": {},
   "outputs": [
    {
     "name": "stdout",
     "output_type": "stream",
     "text": [
      "cache: {(2, 5): 7, (2, 5, 7): 14}\n"
     ]
    },
    {
     "data": {
      "text/plain": [
       "7"
      ]
     },
     "execution_count": 324,
     "metadata": {},
     "output_type": "execute_result"
    }
   ],
   "source": [
    "my_add(2, 5)"
   ]
  },
  {
   "cell_type": "code",
   "execution_count": 335,
   "id": "088795a3-548a-4f64-9b02-919b2ecb215d",
   "metadata": {},
   "outputs": [],
   "source": [
    "def my_fibonachi(n):\n",
    "    if n<= 0:\n",
    "        print(\"Incorrect input\")\n",
    "    # First Fibonacci number is 0\n",
    "    elif n == 1:\n",
    "        return 0\n",
    "    # Second Fibonacci number is 1\n",
    "    elif n == 2:\n",
    "        return 1\n",
    "    else:\n",
    "        return my_fibonachi(n-1)+my_fibonachi(n-2)"
   ]
  },
  {
   "cell_type": "code",
   "execution_count": 337,
   "id": "b8c9c3a8-7274-4b1d-95e8-53a9cfc9f035",
   "metadata": {},
   "outputs": [
    {
     "name": "stdout",
     "output_type": "stream",
     "text": [
      "Result: 5702887, Time: 2.1130339169176295s\n"
     ]
    }
   ],
   "source": [
    "start_time = perf_counter()\n",
    "result = my_fibonachi(35)\n",
    "end_time = perf_counter()\n",
    "\n",
    "print(f'Result: {result}, Time: {end_time - start_time}s')"
   ]
  },
  {
   "cell_type": "code",
   "execution_count": 338,
   "id": "08789d24-6824-41b8-a68c-09f5411c3f43",
   "metadata": {},
   "outputs": [],
   "source": [
    "from functools import lru_cache"
   ]
  },
  {
   "cell_type": "code",
   "execution_count": 339,
   "id": "756519ce-92e5-4e20-a3cf-737062b32140",
   "metadata": {},
   "outputs": [],
   "source": [
    "@lru_cache\n",
    "def my_fibonachi(n):\n",
    "    if n<= 0:\n",
    "        print(\"Incorrect input\")\n",
    "    # First Fibonacci number is 0\n",
    "    elif n == 1:\n",
    "        return 0\n",
    "    # Second Fibonacci number is 1\n",
    "    elif n == 2:\n",
    "        return 1\n",
    "    else:\n",
    "        return my_fibonachi(n-1)+my_fibonachi(n-2)"
   ]
  },
  {
   "cell_type": "code",
   "execution_count": 340,
   "id": "72d0cb41-b484-4052-8f9a-40d64fd0cd22",
   "metadata": {},
   "outputs": [
    {
     "name": "stdout",
     "output_type": "stream",
     "text": [
      "Result: 5702887, Time: 0.00013874995056539774s\n"
     ]
    }
   ],
   "source": [
    "start_time = perf_counter()\n",
    "result = my_fibonachi(35)\n",
    "end_time = perf_counter()\n",
    "\n",
    "print(f'Result: {result}, Time: {end_time - start_time}s')"
   ]
  },
  {
   "cell_type": "code",
   "execution_count": 342,
   "id": "3fe652f0-ee75-4f51-a75a-b2d110dc776a",
   "metadata": {},
   "outputs": [
    {
     "name": "stdout",
     "output_type": "stream",
     "text": [
      "Result: 5702887, Time: 9.02500469237566e-05s\n"
     ]
    }
   ],
   "source": [
    "def my_lru(fn):\n",
    "    cache = {}\n",
    "    def inner(*args):\n",
    "        if not cache.get(args):\n",
    "            cache[args] = fn(*args)\n",
    "        result = cache[args]\n",
    "        return result\n",
    "    return inner\n",
    "\n",
    "\n",
    "@my_lru\n",
    "def my_fibonachi(n):\n",
    "    if n<= 0:\n",
    "        print(\"Incorrect input\")\n",
    "    # First Fibonacci number is 0\n",
    "    elif n == 1:\n",
    "        return 0\n",
    "    # Second Fibonacci number is 1\n",
    "    elif n == 2:\n",
    "        return 1\n",
    "    else:\n",
    "        return my_fibonachi(n-1)+my_fibonachi(n-2)\n",
    "\n",
    "\n",
    "start_time = perf_counter()\n",
    "result = my_fibonachi(35)\n",
    "end_time = perf_counter()\n",
    "\n",
    "print(f'Result: {result}, Time: {end_time - start_time}s')"
   ]
  },
  {
   "cell_type": "markdown",
   "id": "d0b8270a-fe98-44e3-a3cd-ecadee6cc1a7",
   "metadata": {},
   "source": [
    "## print how many times a function has been run"
   ]
  },
  {
   "cell_type": "code",
   "execution_count": 98,
   "id": "1fe5016d-f7fd-4108-87b6-c7fd28a65d56",
   "metadata": {},
   "outputs": [
    {
     "name": "stdout",
     "output_type": "stream",
     "text": [
      "my_add ran 1 times.\n",
      "4\n",
      "my_add ran 2 times.\n",
      "42\n",
      "say_hello ran 1 times.\n",
      "('Hello', 'bharath')\n"
     ]
    }
   ],
   "source": [
    "def outer(fn):\n",
    "    count = 0\n",
    "    def inner(*args, **kwargs):\n",
    "        \"\"\"\n",
    "        inner doc string\n",
    "        \"\"\"\n",
    "        nonlocal count\n",
    "        count += 1\n",
    "        print(f'{fn.__name__} ran {count} times.')\n",
    "        return fn(*args, **kwargs)\n",
    "    return inner\n",
    "\n",
    "@outer\n",
    "def my_add(a, b):\n",
    "    return a + b\n",
    "\n",
    "@outer\n",
    "def say_hello(a):\n",
    "    \"\"\"\n",
    "    my hello function\n",
    "    \"\"\"\n",
    "    return 'Hello', a\n",
    "\n",
    "print(my_add(1, 3))\n",
    "print(my_add(10, 32))\n",
    "print(say_hello('bharath'))"
   ]
  },
  {
   "cell_type": "code",
   "execution_count": 99,
   "id": "6d7c86db-c5e9-4f9c-a9c5-9097c280874c",
   "metadata": {},
   "outputs": [
    {
     "data": {
      "text/plain": [
       "function"
      ]
     },
     "execution_count": 99,
     "metadata": {},
     "output_type": "execute_result"
    }
   ],
   "source": [
    "type(my_add)"
   ]
  },
  {
   "cell_type": "code",
   "execution_count": 100,
   "id": "0ff27bf5-a8cb-46dd-b5c0-22af0b18513e",
   "metadata": {},
   "outputs": [
    {
     "data": {
      "text/plain": [
       "(<cell at 0x10c243a90: int object at 0x104e1a020>,\n",
       " <cell at 0x10c241540: function object at 0x10cb69580>)"
      ]
     },
     "execution_count": 100,
     "metadata": {},
     "output_type": "execute_result"
    }
   ],
   "source": [
    "my_add.__closure__ #count and function"
   ]
  },
  {
   "cell_type": "code",
   "execution_count": 101,
   "id": "5ce87f55-9732-45bb-8ea1-12c6ecdadd5c",
   "metadata": {},
   "outputs": [
    {
     "data": {
      "text/plain": [
       "('count', 'fn')"
      ]
     },
     "execution_count": 101,
     "metadata": {},
     "output_type": "execute_result"
    }
   ],
   "source": [
    "my_add.__code__.co_freevars"
   ]
  },
  {
   "cell_type": "code",
   "execution_count": 102,
   "id": "e7f4d305-4599-433d-97af-3b379cc20bfd",
   "metadata": {},
   "outputs": [
    {
     "data": {
      "text/plain": [
       "function"
      ]
     },
     "execution_count": 102,
     "metadata": {},
     "output_type": "execute_result"
    }
   ],
   "source": [
    "type(say_hello)"
   ]
  },
  {
   "cell_type": "code",
   "execution_count": 103,
   "id": "f8699010-6d5d-4995-924f-05cd3d25badb",
   "metadata": {},
   "outputs": [
    {
     "data": {
      "text/plain": [
       "(<cell at 0x10c2420b0: int object at 0x104e1a000>,\n",
       " <cell at 0x10c240760: function object at 0x10cb6a7a0>)"
      ]
     },
     "execution_count": 103,
     "metadata": {},
     "output_type": "execute_result"
    }
   ],
   "source": [
    "say_hello.__closure__"
   ]
  },
  {
   "cell_type": "code",
   "execution_count": 104,
   "id": "0c92e66b-d0a9-4cdb-a151-cbc4f787a39f",
   "metadata": {},
   "outputs": [
    {
     "data": {
      "text/plain": [
       "('count', 'fn')"
      ]
     },
     "execution_count": 104,
     "metadata": {},
     "output_type": "execute_result"
    }
   ],
   "source": [
    "say_hello.__code__.co_freevars"
   ]
  },
  {
   "cell_type": "markdown",
   "id": "736fa995-fcc5-4cf1-ae74-1cbda18e1d22",
   "metadata": {},
   "source": [
    "# but now our function is decorated so its now truelly inner!"
   ]
  },
  {
   "cell_type": "code",
   "execution_count": 105,
   "id": "c92c0fcc-cf1d-4f78-bb35-fe767d0bb3c1",
   "metadata": {},
   "outputs": [
    {
     "data": {
      "text/plain": [
       "'inner'"
      ]
     },
     "execution_count": 105,
     "metadata": {},
     "output_type": "execute_result"
    }
   ],
   "source": [
    "say_hello.__name__"
   ]
  },
  {
   "cell_type": "code",
   "execution_count": 106,
   "id": "8490b96e-0640-451b-9c1c-1b27339c217f",
   "metadata": {},
   "outputs": [
    {
     "data": {
      "text/plain": [
       "'\\ninner doc string\\n'"
      ]
     },
     "execution_count": 106,
     "metadata": {},
     "output_type": "execute_result"
    }
   ],
   "source": [
    "say_hello.__doc__"
   ]
  },
  {
   "cell_type": "code",
   "execution_count": 107,
   "id": "3ebac31f-8ee6-49a6-b2ae-814cbc5e49d7",
   "metadata": {},
   "outputs": [
    {
     "name": "stdout",
     "output_type": "stream",
     "text": [
      "Help on function inner in module __main__:\n",
      "\n",
      "inner(*args, **kwargs)\n",
      "    inner doc string\n",
      "\n"
     ]
    }
   ],
   "source": [
    "help(say_hello)"
   ]
  },
  {
   "cell_type": "markdown",
   "id": "1ccb8661-db2f-4dc7-8233-258ad6e63d20",
   "metadata": {},
   "source": [
    "# we can fix this with functools `wraps` function"
   ]
  },
  {
   "cell_type": "code",
   "execution_count": 108,
   "id": "d229a047-d359-4f00-9413-ef4649e932a5",
   "metadata": {},
   "outputs": [],
   "source": [
    "from functools import wraps"
   ]
  },
  {
   "cell_type": "code",
   "execution_count": 126,
   "id": "144d97fb-b300-4e4b-802b-13dc53bbe5c4",
   "metadata": {},
   "outputs": [
    {
     "name": "stdout",
     "output_type": "stream",
     "text": [
      "my_add ran 0 times.\n"
     ]
    },
    {
     "data": {
      "text/plain": [
       "7"
      ]
     },
     "execution_count": 126,
     "metadata": {},
     "output_type": "execute_result"
    }
   ],
   "source": [
    "def outer(fn):\n",
    "    count = 0\n",
    "    def inner(*args, **kwargs):\n",
    "        \"\"\"\n",
    "        inner doc string\n",
    "        \"\"\"\n",
    "        print(f'{fn.__name__} ran {count} times.')\n",
    "        return fn(*args, **kwargs)\n",
    "    inner = wraps(fn)(inner)  # wraps is a decorate which takes in fn and it returns a function which takes in a inner as parameter. its like docorated inner\n",
    "    return inner\n",
    "\n",
    "@outer\n",
    "def my_add(a, b):\n",
    "    \"\"\"\n",
    "    my add doc string\n",
    "    \"\"\"\n",
    "    return a+b\n",
    "\n",
    "my_add(3, 4)"
   ]
  },
  {
   "cell_type": "code",
   "execution_count": 127,
   "id": "44928d71-2eaa-4cd4-b1b4-e31d293fa8f4",
   "metadata": {},
   "outputs": [
    {
     "data": {
      "text/plain": [
       "'my_add'"
      ]
     },
     "execution_count": 127,
     "metadata": {},
     "output_type": "execute_result"
    }
   ],
   "source": [
    "my_add.__name__"
   ]
  },
  {
   "cell_type": "code",
   "execution_count": 128,
   "id": "fe11fa7f-c984-49c6-a9b4-33ac2fb0950f",
   "metadata": {},
   "outputs": [
    {
     "data": {
      "text/plain": [
       "'\\nmy add doc string\\n'"
      ]
     },
     "execution_count": 128,
     "metadata": {},
     "output_type": "execute_result"
    }
   ],
   "source": [
    "my_add.__doc__"
   ]
  },
  {
   "cell_type": "code",
   "execution_count": 129,
   "id": "70ce49f6-9569-49c8-b220-0088f6d81f62",
   "metadata": {},
   "outputs": [
    {
     "name": "stdout",
     "output_type": "stream",
     "text": [
      "Help on function my_add in module __main__:\n",
      "\n",
      "my_add(a, b)\n",
      "    my add doc string\n",
      "\n"
     ]
    }
   ],
   "source": [
    "help(my_add)"
   ]
  },
  {
   "cell_type": "code",
   "execution_count": 130,
   "id": "ad9cf974-654d-46ad-a56b-aff5dad6db7c",
   "metadata": {},
   "outputs": [
    {
     "name": "stdout",
     "output_type": "stream",
     "text": [
      "my_add ran 0 times.\n"
     ]
    },
    {
     "data": {
      "text/plain": [
       "7"
      ]
     },
     "execution_count": 130,
     "metadata": {},
     "output_type": "execute_result"
    }
   ],
   "source": [
    "def outer(fn):\n",
    "    count = 0\n",
    "    \n",
    "    @wraps(fn)  # same thing as decorator, which needs to know what is it using to modify inner.\n",
    "    def inner(*args, **kwargs):\n",
    "        \"\"\"\n",
    "        inner doc string\n",
    "        \"\"\"\n",
    "        print(f'{fn.__name__} ran {count} times.')\n",
    "        return fn(*args, **kwargs)\n",
    "    return inner\n",
    "\n",
    "@outer\n",
    "def my_add(a, b):\n",
    "    \"\"\"\n",
    "    my add doc string\n",
    "    \"\"\"\n",
    "    return a+b\n",
    "\n",
    "my_add(3, 4)"
   ]
  },
  {
   "cell_type": "code",
   "execution_count": 131,
   "id": "d32bf9fe-12f7-41ef-a616-dcf78b01c1fd",
   "metadata": {},
   "outputs": [
    {
     "data": {
      "text/plain": [
       "'my_add'"
      ]
     },
     "execution_count": 131,
     "metadata": {},
     "output_type": "execute_result"
    }
   ],
   "source": [
    "my_add.__name__"
   ]
  },
  {
   "cell_type": "code",
   "execution_count": 132,
   "id": "6b3f7478-78d7-41a6-a666-f1253ab49d08",
   "metadata": {},
   "outputs": [
    {
     "data": {
      "text/plain": [
       "'\\nmy add doc string\\n'"
      ]
     },
     "execution_count": 132,
     "metadata": {},
     "output_type": "execute_result"
    }
   ],
   "source": [
    "my_add.__doc__"
   ]
  },
  {
   "cell_type": "code",
   "execution_count": 133,
   "id": "8bfa267e-4e14-419e-871b-5e5c2d6ede9b",
   "metadata": {},
   "outputs": [
    {
     "name": "stdout",
     "output_type": "stream",
     "text": [
      "Help on function my_add in module __main__:\n",
      "\n",
      "my_add(a, b)\n",
      "    my add doc string\n",
      "\n"
     ]
    }
   ],
   "source": [
    "help(my_add)"
   ]
  },
  {
   "cell_type": "code",
   "execution_count": 134,
   "id": "8100f77f-3b95-4123-b0d8-c6770a8d8388",
   "metadata": {},
   "outputs": [],
   "source": [
    "import inspect"
   ]
  },
  {
   "cell_type": "code",
   "execution_count": 135,
   "id": "b400e3a7-e52d-4de3-a3df-61c08e234e16",
   "metadata": {},
   "outputs": [
    {
     "data": {
      "text/plain": [
       "<Signature (a, b)>"
      ]
     },
     "execution_count": 135,
     "metadata": {},
     "output_type": "execute_result"
    }
   ],
   "source": [
    "inspect.signature(my_add)"
   ]
  },
  {
   "cell_type": "markdown",
   "id": "f3d8d249-6524-4fc6-825e-ee2188dc977b",
   "metadata": {},
   "source": [
    "## order of exectution"
   ]
  },
  {
   "cell_type": "code",
   "execution_count": 137,
   "id": "9984d15a-9b64-4825-9d5b-275d1fa77446",
   "metadata": {},
   "outputs": [
    {
     "name": "stdout",
     "output_type": "stream",
     "text": [
      "decorator1 inner ran\n",
      "decorator2 inner ran\n",
      "my_func ran\n"
     ]
    }
   ],
   "source": [
    "def decorator_1(fn):\n",
    "    def inner(*args, **kwargs):\n",
    "        print(\"decorator1 inner ran\")\n",
    "        return fn(*args, **kwargs)\n",
    "    return inner\n",
    "\n",
    "def decorator_2(fn):\n",
    "    def inner(*args, **kwargs):\n",
    "        print(\"decorator2 inner ran\")\n",
    "        return fn(*args, **kwargs)\n",
    "    return inner\n",
    "\n",
    "@decorator_1\n",
    "@decorator_2\n",
    "def my_func():\n",
    "    print(\"my_func ran\")\n",
    "\n",
    "# is same as my_func = decorator_1(decorator_2(my_func))\n",
    "my_func()"
   ]
  },
  {
   "cell_type": "code",
   "execution_count": 139,
   "id": "abc949c9-5232-4d20-b662-0925a30fad68",
   "metadata": {},
   "outputs": [
    {
     "name": "stdout",
     "output_type": "stream",
     "text": [
      "my_func ran\n",
      "decorator2 inner ran\n",
      "decorator1 inner ran\n"
     ]
    }
   ],
   "source": [
    "def decorator_1(fn):\n",
    "    def inner(*args, **kwargs):\n",
    "        result = fn(*args, **kwargs)\n",
    "        print(\"decorator1 inner ran\")\n",
    "        return result\n",
    "    return inner\n",
    "\n",
    "def decorator_2(fn):\n",
    "    def inner(*args, **kwargs):\n",
    "        result = fn(*args, **kwargs)\n",
    "        print(\"decorator2 inner ran\")\n",
    "        return result\n",
    "    return inner\n",
    "\n",
    "@decorator_1\n",
    "@decorator_2\n",
    "def my_func():\n",
    "    print(\"my_func ran\")\n",
    "\n",
    "# is same as my_func = decorator_1(decorator_2(my_func))\n",
    "# but now first function is run then print statement is executed\n",
    "my_func()"
   ]
  },
  {
   "cell_type": "markdown",
   "id": "45cd2ea7-18e4-47aa-a6c8-3ae91f98a4da",
   "metadata": {},
   "source": [
    "## where is it used. Consider below an API call , we want to do auth decoration to check if one is authorized and the only if authorized then log \n",
    "\n",
    "```\n",
    "@auth\n",
    "@logged\n",
    "def api_call():\n",
    "    something\n",
    "```\n",
    "### this is same as auth(logged(api_call())) if auth fails = logged is not run"
   ]
  },
  {
   "cell_type": "markdown",
   "id": "2316534c-5b0b-476c-bbdb-68bc41ad22fb",
   "metadata": {},
   "source": [
    "# Decorator factories (decorators with parameters\n",
    "- example: `@wraps(fn)` and `@lru_cache(max_size=256)`"
   ]
  },
  {
   "cell_type": "code",
   "execution_count": 151,
   "id": "a8e5c48e-fd80-4523-9656-52cfc940474d",
   "metadata": {},
   "outputs": [
    {
     "name": "stdout",
     "output_type": "stream",
     "text": [
      "Elapsed: 0.10411500429981971s\n"
     ]
    },
    {
     "data": {
      "text/plain": [
       "5"
      ]
     },
     "execution_count": 151,
     "metadata": {},
     "output_type": "execute_result"
    }
   ],
   "source": [
    "from time import sleep\n",
    "\n",
    "def timed(fn):\n",
    "    def inner(*args, **kwargs):\n",
    "        timeElapsed = 0\n",
    "        for i in range(0, 10):\n",
    "            start = perf_counter()\n",
    "            result = fn(*args, **kwargs)\n",
    "            end = perf_counter()\n",
    "            timeElapsed += end - start\n",
    "        print(f\"Elapsed: {timeElapsed/10}s\")\n",
    "        return result\n",
    "    return inner\n",
    "\n",
    "@timed\n",
    "def my_func(a, b):\n",
    "    sleep(0.1)\n",
    "    return a + b\n",
    "\n",
    "my_func(2, 3)"
   ]
  },
  {
   "cell_type": "markdown",
   "id": "f6d17305-7f52-4d8c-b766-b09ff995402d",
   "metadata": {},
   "source": [
    "### now we want the number of reps to NOT be hardcoded. How can we do that ?"
   ]
  },
  {
   "cell_type": "code",
   "execution_count": 155,
   "id": "10093032-9cad-4bb6-900a-1102250ac504",
   "metadata": {},
   "outputs": [
    {
     "ename": "TypeError",
     "evalue": "timed() missing 1 required positional argument: 'reps'",
     "output_type": "error",
     "traceback": [
      "\u001b[31m---------------------------------------------------------------------------\u001b[39m",
      "\u001b[31mTypeError\u001b[39m                                 Traceback (most recent call last)",
      "\u001b[36mCell\u001b[39m\u001b[36m \u001b[39m\u001b[32mIn[155]\u001b[39m\u001b[32m, line 13\u001b[39m\n\u001b[32m     10\u001b[39m         \u001b[38;5;28;01mreturn\u001b[39;00m result\n\u001b[32m     11\u001b[39m     \u001b[38;5;28;01mreturn\u001b[39;00m inner\n\u001b[32m---> \u001b[39m\u001b[32m13\u001b[39m \u001b[38;5;129m@timed\u001b[39m\u001b[43m(\u001b[49m\u001b[32;43m10\u001b[39;49m\u001b[43m)\u001b[49m\n\u001b[32m     14\u001b[39m \u001b[38;5;28;01mdef\u001b[39;00m\u001b[38;5;250m \u001b[39m\u001b[34mmy_func\u001b[39m(a, b):\n\u001b[32m     15\u001b[39m     sleep(\u001b[32m0.1\u001b[39m)\n\u001b[32m     16\u001b[39m     \u001b[38;5;28;01mreturn\u001b[39;00m a + b\n",
      "\u001b[31mTypeError\u001b[39m: timed() missing 1 required positional argument: 'reps'"
     ]
    }
   ],
   "source": [
    "def timed(fn, reps):\n",
    "    def inner(*args, **kwargs):\n",
    "        timeElapsed = 0\n",
    "        for i in range(reps):\n",
    "            start = perf_counter()\n",
    "            result = fn(*args, **kwargs)\n",
    "            end = perf_counter()\n",
    "            timeElapsed += end - start\n",
    "        print(f\"Elapsed: {timeElapsed/10}s\")\n",
    "        return result\n",
    "    return inner\n",
    "\n",
    "@timed(10)\n",
    "def my_func(a, b):\n",
    "    sleep(0.1)\n",
    "    return a + b\n",
    "\n",
    "my_func(2, 3)"
   ]
  },
  {
   "cell_type": "code",
   "execution_count": 156,
   "id": "087bf5a6-8f8a-4eb3-a64b-52cb536b4442",
   "metadata": {},
   "outputs": [
    {
     "name": "stdout",
     "output_type": "stream",
     "text": [
      "Elapsed: 0.10400337909995869s\n"
     ]
    },
    {
     "data": {
      "text/plain": [
       "5"
      ]
     },
     "execution_count": 156,
     "metadata": {},
     "output_type": "execute_result"
    }
   ],
   "source": [
    "def timed(fn, reps):\n",
    "    def inner(*args, **kwargs):\n",
    "        timeElapsed = 0\n",
    "        for i in range(reps):\n",
    "            start = perf_counter()\n",
    "            result = fn(*args, **kwargs)\n",
    "            end = perf_counter()\n",
    "            timeElapsed += end - start\n",
    "        print(f\"Elapsed: {timeElapsed/10}s\")\n",
    "        return result\n",
    "    return inner\n",
    "\n",
    "def my_func(a, b):\n",
    "    sleep(0.1)\n",
    "    return a + b\n",
    "\n",
    "my_func = timed(my_func, 10)\n",
    "\n",
    "my_func(2, 3)"
   ]
  },
  {
   "cell_type": "markdown",
   "id": "2cf1051b-053f-4bbf-b36f-ae41f26bfba9",
   "metadata": {},
   "source": [
    "## for this to work what do we need ?\n",
    "1. `@timed` is `my_func = timed(my_func)` which is `inner` function.\n",
    "2. in order to make `@timed(10)` work we need to return original `timed` decorator when called. so\n",
    "3. `decorator_ = timed(10)`: timed is a function which takes 10 as parameter and returns a decorator\n",
    "4. and then we do @decorator_ "
   ]
  },
  {
   "cell_type": "code",
   "execution_count": 159,
   "id": "76b136d0-386a-4b80-90f7-647b374ea213",
   "metadata": {},
   "outputs": [
    {
     "name": "stdout",
     "output_type": "stream",
     "text": [
      "loop 0...\n",
      "loop 1...\n",
      "loop 2...\n",
      "loop 3...\n",
      "loop 4...\n",
      "Elapsed: 0.05229094169990276s\n"
     ]
    },
    {
     "data": {
      "text/plain": [
       "5"
      ]
     },
     "execution_count": 159,
     "metadata": {},
     "output_type": "execute_result"
    }
   ],
   "source": [
    "def timed(reps):\n",
    "    def outer(fn, rep=reps):\n",
    "        def inner(*args, **kwargs):\n",
    "            timeElapsed = 0\n",
    "            for i in range(rep):\n",
    "                print(f'loop {i}...')\n",
    "                start = perf_counter()\n",
    "                result = fn(*args, **kwargs)\n",
    "                end = perf_counter()\n",
    "                timeElapsed += end - start\n",
    "            print(f\"Elapsed: {timeElapsed/10}s\")\n",
    "            return result\n",
    "        return inner\n",
    "    return outer\n",
    "    \n",
    "@timed(5)\n",
    "def my_func(a, b):\n",
    "    sleep(0.1)\n",
    "    return a + b\n",
    "\n",
    "\n",
    "my_func(2, 3)"
   ]
  },
  {
   "cell_type": "code",
   "execution_count": 178,
   "id": "1e599f40-06d4-4743-bf14-4cc0157aa166",
   "metadata": {},
   "outputs": [
    {
     "name": "stdout",
     "output_type": "stream",
     "text": [
      "inner: 0x10cb3f560\n",
      "bharath\n"
     ]
    }
   ],
   "source": [
    "def outer(fn):\n",
    "    def inner(*args, **kwargs):\n",
    "        print(f'inner: {hex(id(inner))}')\n",
    "        return fn(*args, **kwargs)\n",
    "    return inner\n",
    "\n",
    "@outer\n",
    "def my_func(random_str):\n",
    "    print(random_str)\n",
    "\n",
    "my_func('bharath')"
   ]
  },
  {
   "cell_type": "code",
   "execution_count": 179,
   "id": "11acfc51-50ee-4bf0-90ea-018a4dbe27bb",
   "metadata": {},
   "outputs": [
    {
     "data": {
      "text/plain": [
       "(<cell at 0x10d02d2d0: function object at 0x10cb3d620>,\n",
       " <cell at 0x10d02db40: function object at 0x10cb3f560>)"
      ]
     },
     "execution_count": 179,
     "metadata": {},
     "output_type": "execute_result"
    }
   ],
   "source": [
    "my_func.__closure__"
   ]
  },
  {
   "cell_type": "markdown",
   "id": "5cc37c8b-aa21-45b5-a1e2-c3e93b4f07f3",
   "metadata": {},
   "source": [
    "## lets create a custom logger"
   ]
  },
  {
   "cell_type": "code",
   "execution_count": 187,
   "id": "82c91a39-1893-49fe-95e7-2db711487065",
   "metadata": {},
   "outputs": [],
   "source": [
    "import sys\n",
    "from loguru import logger"
   ]
  },
  {
   "cell_type": "markdown",
   "id": "9a6ce13c-6ebd-4bb8-b7ea-bed617c3bfde",
   "metadata": {},
   "source": [
    "### Loguru notes: \n",
    "1. Loguru uses a single logger instance. You don’t need to create multiple loggers, just import the pre-configured logger object\n",
    "2. Loguru uses a single logger instance. You don’t need to create multiple loggers, just import the pre-configured logger object\n",
    "3. | Level |\tMethod | Value | Purpose |\n",
    "| --- | --- | --- | --- |\n",
    "| TRACE | logger.trace() | 5 | Extremely detailed information for debugging |\n",
    "| DEBUG | logger.debug() | 10 |\tInformation useful during development |\n",
    "| INFO | logger.info() | 20 | General information about what’s happening in the code |\n",
    "| SUCCESS | logger.success() | 25 | Notifications of successful operations |\n",
    "| WARNING | logger.warning() | 30 | Warnings about something unexpected but not necessarily problematic |\n",
    "| ERROR | logger.error() | 40 | Errors for when something fails but the application continues running |\n",
    "| CRITICAL | logger.critical() | 50 | Critical errors that are serious and urgent |\n",
    "4. By default, Loguru shows all messages with level DEBUG (10) and above.\n",
    "5. `logger.remove()` at start removes default/all handlers\n",
    "6. `logger.add()` adds a handler and returns an int which can be used to `logger.remove()`\n",
    "7. `logger.add(sys.stderr, format=\"{message}\")` format supports many placeholders\n",
    "    - {time}: Timestamp\n",
    "    - {level}: Log level\n",
    "    - {message}: The actual log message\n",
    "    - {name}: Module name\n",
    "    - {line}: Line number\n",
    "```   \n",
    "logger.add(\n",
    "    sys.stderr,\n",
    "    format=\"[{time:HH:mm:ss}] >> {name}:{line} >> {level}: {message}\"\n",
    ")\n",
    "```"
   ]
  },
  {
   "cell_type": "code",
   "execution_count": 188,
   "id": "6e4e9e28-5ad5-41eb-861d-7019a042a6b1",
   "metadata": {},
   "outputs": [
    {
     "name": "stderr",
     "output_type": "stream",
     "text": [
      "\u001b[32m2025-10-25 15:08:29.215\u001b[0m | \u001b[34m\u001b[1mDEBUG   \u001b[0m | \u001b[36m__main__\u001b[0m:\u001b[36m<module>\u001b[0m:\u001b[36m1\u001b[0m - \u001b[34m\u001b[1mDebug message\u001b[0m\n"
     ]
    }
   ],
   "source": [
    "logger.debug(\"Debug message\")"
   ]
  },
  {
   "cell_type": "markdown",
   "id": "1f51a3e1-8da0-4878-b79f-08bea539cef2",
   "metadata": {},
   "source": [
    "### shows 2 messages because of 2 handlers, one default one and other we added."
   ]
  },
  {
   "cell_type": "code",
   "execution_count": 189,
   "id": "741fb1e5-375a-42b6-b430-879c7252de8b",
   "metadata": {},
   "outputs": [
    {
     "name": "stderr",
     "output_type": "stream",
     "text": [
      "\u001b[32m2025-10-25 15:08:29.967\u001b[0m | \u001b[1mINFO    \u001b[0m | \u001b[36m__main__\u001b[0m:\u001b[36m<module>\u001b[0m:\u001b[36m5\u001b[0m - \u001b[1mInfo message\u001b[0m\n",
      "[15:08:29] >> __main__:5 >> INFO: Info message\n"
     ]
    }
   ],
   "source": [
    "logger.add(\n",
    "    sys.stderr,\n",
    "    format=\"[{time:HH:mm:ss}] >> {name}:{line} >> {level}: {message}\"\n",
    ")\n",
    "logger.info(\"Info message\")"
   ]
  },
  {
   "cell_type": "code",
   "execution_count": 190,
   "id": "e538a545-3446-41c0-916e-892d4af4621d",
   "metadata": {},
   "outputs": [
    {
     "name": "stderr",
     "output_type": "stream",
     "text": [
      "[15:09:16] >> __main__:6 >> WARNING: Warning message\n"
     ]
    }
   ],
   "source": [
    "logger.remove()\n",
    "logger.add(\n",
    "    sys.stderr,\n",
    "    format=\"[{time:HH:mm:ss}] >> {name}:{line} >> {level}: {message}\"\n",
    ")\n",
    "logger.warning(\"Warning message\")"
   ]
  },
  {
   "cell_type": "code",
   "execution_count": 191,
   "id": "5cc87d51-aa19-4230-9fb2-0eb8293a8c22",
   "metadata": {},
   "outputs": [
    {
     "name": "stderr",
     "output_type": "stream",
     "text": [
      "[\u001b[31m15:10:49\u001b[0m] >> \u001b[33mERROR\u001b[0m: \u001b[36mError message\u001b[0m\n"
     ]
    }
   ],
   "source": [
    "logger.remove()\n",
    "logger.add(\n",
    "     sys.stderr,\n",
    "     format=(\n",
    "         \"[<red>{time:HH:mm:ss}</red>] >> \"\n",
    "         \"<yellow>{level}</yellow>: \"\n",
    "         \"<cyan>{message}</cyan>\"\n",
    "     )\n",
    " )\n",
    "logger.error(\"Error message\")"
   ]
  },
  {
   "cell_type": "markdown",
   "id": "db8782f0-7970-4428-848f-aab4215623ef",
   "metadata": {},
   "source": [
    "### passing extra info / context"
   ]
  },
  {
   "cell_type": "code",
   "execution_count": 192,
   "id": "99a501ac-81f2-4257-920e-d02fe3c5717b",
   "metadata": {},
   "outputs": [
    {
     "name": "stderr",
     "output_type": "stream",
     "text": [
      "2025-10-25T15:12:12.910676+0100 | INFO | user logged in | {'user_id': 123}\n"
     ]
    }
   ],
   "source": [
    "logger.remove()\n",
    "logger.add(\n",
    "    sys.stderr,\n",
    "    format=\"{time} | {level} | {message} | {extra}\"\n",
    ")\n",
    "logger.info(\"user logged in\", user_id=123)"
   ]
  },
  {
   "cell_type": "markdown",
   "id": "e08a6f9f-376b-4b13-8d42-8a5f9d8d7e38",
   "metadata": {},
   "source": [
    "### logger bindings"
   ]
  },
  {
   "cell_type": "code",
   "execution_count": 194,
   "id": "b0871920-9be0-4943-95ad-68eb3b3a94b2",
   "metadata": {},
   "outputs": [
    {
     "name": "stderr",
     "output_type": "stream",
     "text": [
      "2025-10-25T15:14:04.330927+0100 | WARNING | user logged | {'use_id': 123}\n",
      "2025-10-25T15:14:04.332363+0100 | ERROR | he logged in! | {'user_id': 'brk'}\n"
     ]
    }
   ],
   "source": [
    "user_logger = logger.bind(use_id=123)\n",
    "brk_logger = logger.bind(user_id='brk')\n",
    "\n",
    "user_logger.warning(\"user logged\")\n",
    "brk_logger.error(\"he logged in!\")"
   ]
  },
  {
   "cell_type": "code",
   "execution_count": 241,
   "id": "088abaaa-bfd5-40d3-aed6-9f5aaa96e876",
   "metadata": {},
   "outputs": [],
   "source": [
    "def mylogger(LogLevel, logFormat):\n",
    "    logger.remove()\n",
    "    logger.add(\n",
    "        sys.stderr,\n",
    "        format = logFormat,\n",
    "        level=LogLevel.upper()\n",
    "    )\n",
    "    def outer(fn):\n",
    "        @wraps(fn)\n",
    "        def inner(*args, **kwargs):\n",
    "            \"\"\"\n",
    "            inner doc string\n",
    "            \"\"\"\n",
    "            logger.log(LogLevel, f\"{fn.__name__}\")\n",
    "            return fn(*args, **kwargs)\n",
    "        return inner\n",
    "    return outer\n",
    "    \n",
    "@mylogger(\"ERROR\", \"{time} :: {message}\")\n",
    "def my_func(a, b):\n",
    "    return a * b"
   ]
  },
  {
   "cell_type": "code",
   "execution_count": 242,
   "id": "eb1c21be-a676-4a39-8a5a-f9d600507d21",
   "metadata": {},
   "outputs": [
    {
     "name": "stderr",
     "output_type": "stream",
     "text": [
      "2025-10-25T15:32:06.998541+0100 :: my_func\n"
     ]
    },
    {
     "data": {
      "text/plain": [
       "34"
      ]
     },
     "execution_count": 242,
     "metadata": {},
     "output_type": "execute_result"
    }
   ],
   "source": [
    "my_func(2, 17)"
   ]
  },
  {
   "cell_type": "code",
   "execution_count": 245,
   "id": "388ebaa9-b0e6-4ced-bacc-cef7af9281dd",
   "metadata": {},
   "outputs": [],
   "source": [
    "def mylogger(LogLevel, logFormat):\n",
    "    logger.remove()\n",
    "    logger.add(\n",
    "        sys.stderr,\n",
    "        format = logFormat,\n",
    "        level=LogLevel.upper()\n",
    "    )\n",
    "    def outer(fn):\n",
    "        @wraps(fn)\n",
    "        def inner(*args, **kwargs):\n",
    "            \"\"\"\n",
    "            inner doc string\n",
    "            \"\"\"\n",
    "            logger.log(LogLevel, f\"{fn.__name__}\")\n",
    "            return fn(*args, **kwargs)\n",
    "        return inner\n",
    "    return outer\n",
    "    \n",
    "@mylogger(\"INFO\", \"<yellow>{time}</yellow> :: <red>{level}</red> :: <blue>{message}</blue>\")\n",
    "def my_func(a, b):\n",
    "    \"\"\"\n",
    "    my_func doc string\n",
    "    \"\"\"\n",
    "    return a * b\n"
   ]
  },
  {
   "cell_type": "code",
   "execution_count": 246,
   "id": "25f57cb0-aa14-45b0-bb10-4846cefd3f68",
   "metadata": {},
   "outputs": [
    {
     "name": "stderr",
     "output_type": "stream",
     "text": [
      "\u001b[33m2025-10-25T15:32:41.050504+0100\u001b[0m :: \u001b[31mINFO\u001b[0m :: \u001b[34mmy_func\u001b[0m\n"
     ]
    },
    {
     "data": {
      "text/plain": [
       "34"
      ]
     },
     "execution_count": 246,
     "metadata": {},
     "output_type": "execute_result"
    }
   ],
   "source": [
    "my_func(2, 17)"
   ]
  },
  {
   "cell_type": "code",
   "execution_count": 240,
   "id": "a2a4cc9c-62d4-48b7-a533-821e06e50579",
   "metadata": {},
   "outputs": [
    {
     "data": {
      "text/plain": [
       "<Signature (a, b)>"
      ]
     },
     "execution_count": 240,
     "metadata": {},
     "output_type": "execute_result"
    }
   ],
   "source": [
    "inspect.signature(my_func)"
   ]
  },
  {
   "cell_type": "code",
   "execution_count": 226,
   "id": "93d9c252-513e-45fa-bbbf-518cff92dd22",
   "metadata": {},
   "outputs": [
    {
     "name": "stdout",
     "output_type": "stream",
     "text": [
      "Help on function my_func in module __main__:\n",
      "\n",
      "my_func(a, b)\n",
      "    my_func doc string\n",
      "\n"
     ]
    }
   ],
   "source": [
    "help(my_func)"
   ]
  },
  {
   "cell_type": "markdown",
   "id": "dc610e5d-0e37-4943-bdab-adc5a0124e98",
   "metadata": {},
   "source": [
    "### We can implement the same with classes as well"
   ]
  },
  {
   "cell_type": "code",
   "execution_count": 252,
   "id": "0be66b7d-2cd0-41f9-90ff-b6d21aa9bd7e",
   "metadata": {},
   "outputs": [],
   "source": [
    "class MyClass:\n",
    "    def __init__(self, logLevel, logFormat):\n",
    "        self.logLevel = logLevel\n",
    "        self.logFormat = logFormat\n",
    "        logger.remove()\n",
    "        logger.add(\n",
    "            sys.stderr,\n",
    "            format = logFormat,\n",
    "            level=self.logLevel.upper()\n",
    "        )\n",
    "        \n",
    "    def __call__(self, fn):\n",
    "        def inner(*args, **kwargs):\n",
    "            \"\"\"\n",
    "            inner doc string\n",
    "            \"\"\"\n",
    "            logger.log(self.logLevel, f\"{fn.__name__}\")\n",
    "            return fn(*args, **kwargs)\n",
    "        return inner\n",
    "\n",
    "@MyClass(\"INFO\", \"<yellow>{time}</yellow> :: <red>{level}</red> :: <blue>{message}</blue>\")\n",
    "def my_func(a, b):\n",
    "    \"\"\"\n",
    "    my_func doc string\n",
    "    \"\"\"\n",
    "    return a * b"
   ]
  },
  {
   "cell_type": "code",
   "execution_count": 253,
   "id": "ad35dcf0-bd77-47fa-93b9-874b49fda926",
   "metadata": {},
   "outputs": [
    {
     "name": "stderr",
     "output_type": "stream",
     "text": [
      "\u001b[33m2025-10-25T18:01:40.759588+0100\u001b[0m :: \u001b[31mINFO\u001b[0m :: \u001b[34mmy_func\u001b[0m\n"
     ]
    },
    {
     "data": {
      "text/plain": [
       "35"
      ]
     },
     "execution_count": 253,
     "metadata": {},
     "output_type": "execute_result"
    }
   ],
   "source": [
    "my_func(7, 5)"
   ]
  },
  {
   "cell_type": "markdown",
   "id": "562d9780-01d6-4e32-9a64-6db7a1a6e127",
   "metadata": {},
   "source": [
    "# Decorating classes"
   ]
  },
  {
   "cell_type": "code",
   "execution_count": 258,
   "id": "853a1136-2cee-426d-891b-68a5b9a2b212",
   "metadata": {},
   "outputs": [],
   "source": [
    "import datetime"
   ]
  },
  {
   "cell_type": "code",
   "execution_count": 277,
   "id": "b413c01f-8163-48fe-9368-db28944bb1f5",
   "metadata": {},
   "outputs": [],
   "source": [
    "def info(self):\n",
    "    results = []\n",
    "    results.append(f'Time: {datetime.datetime.now(tz=datetime.timezone.utc)}')\n",
    "    results.append(f'Class: {self.__class__.__name__}')\n",
    "    results.append(f'id: {hex(id(self))}')\n",
    "    for k, v in vars(self).items():\n",
    "        results.append(f'{k}: {v}')\n",
    "    return results\n",
    "\n",
    "def debug_info(cls):\n",
    "    cls.debug = info"
   ]
  },
  {
   "cell_type": "code",
   "execution_count": 278,
   "id": "ad8894ce-f1f2-46c7-9c57-dbb447d8f491",
   "metadata": {},
   "outputs": [],
   "source": [
    "class Person:\n",
    "    def __init__(self, name, dob):\n",
    "        self.name = name\n",
    "        self.dob = dob\n",
    "\n",
    "    def say_hi(self):\n",
    "        return f'{self.name} says hi.'"
   ]
  },
  {
   "cell_type": "code",
   "execution_count": 279,
   "id": "7c7697ec-f4df-42fd-acdf-05b7492dd330",
   "metadata": {},
   "outputs": [],
   "source": [
    "p = Person('John', 1985)"
   ]
  },
  {
   "cell_type": "code",
   "execution_count": 280,
   "id": "07e7ae78-b8c8-4f56-90e0-78568085b7bd",
   "metadata": {},
   "outputs": [
    {
     "data": {
      "text/plain": [
       "'John says hi.'"
      ]
     },
     "execution_count": 280,
     "metadata": {},
     "output_type": "execute_result"
    }
   ],
   "source": [
    "p.say_hi()"
   ]
  },
  {
   "cell_type": "code",
   "execution_count": 281,
   "id": "cbcbdf4e-c005-44e7-9ec8-adb8ab579c49",
   "metadata": {},
   "outputs": [
    {
     "ename": "AttributeError",
     "evalue": "'Person' object has no attribute 'debug'",
     "output_type": "error",
     "traceback": [
      "\u001b[31m---------------------------------------------------------------------------\u001b[39m",
      "\u001b[31mAttributeError\u001b[39m                            Traceback (most recent call last)",
      "\u001b[36mCell\u001b[39m\u001b[36m \u001b[39m\u001b[32mIn[281]\u001b[39m\u001b[32m, line 1\u001b[39m\n\u001b[32m----> \u001b[39m\u001b[32m1\u001b[39m \u001b[43mp\u001b[49m\u001b[43m.\u001b[49m\u001b[43mdebug\u001b[49m\n",
      "\u001b[31mAttributeError\u001b[39m: 'Person' object has no attribute 'debug'"
     ]
    }
   ],
   "source": [
    "p.debug"
   ]
  },
  {
   "cell_type": "markdown",
   "id": "8cd11e0d-f53e-4187-b48f-af2c73dfb068",
   "metadata": {},
   "source": [
    "# lets try decorating the class"
   ]
  },
  {
   "cell_type": "code",
   "execution_count": 267,
   "id": "2795d59f-f3ac-4527-9a1f-a97ebcbc8b63",
   "metadata": {},
   "outputs": [
    {
     "ename": "NameError",
     "evalue": "name 'debug_info' is not defined",
     "output_type": "error",
     "traceback": [
      "\u001b[31m---------------------------------------------------------------------------\u001b[39m",
      "\u001b[31mNameError\u001b[39m                                 Traceback (most recent call last)",
      "\u001b[36mCell\u001b[39m\u001b[36m \u001b[39m\u001b[32mIn[267]\u001b[39m\u001b[32m, line 1\u001b[39m\n\u001b[32m----> \u001b[39m\u001b[32m1\u001b[39m \u001b[38;5;129m@debug_info\u001b[39m\n\u001b[32m      2\u001b[39m \u001b[38;5;28;01mclass\u001b[39;00m\u001b[38;5;250m \u001b[39m\u001b[34;01mPerson\u001b[39;00m:\n\u001b[32m      3\u001b[39m     \u001b[38;5;28;01mdef\u001b[39;00m\u001b[38;5;250m \u001b[39m\u001b[34m__init__\u001b[39m(\u001b[38;5;28mself\u001b[39m, name, dob):\n\u001b[32m      4\u001b[39m         \u001b[38;5;28mself\u001b[39m.name = name\n",
      "\u001b[31mNameError\u001b[39m: name 'debug_info' is not defined"
     ]
    }
   ],
   "source": [
    "@debug_info\n",
    "class Person:\n",
    "    def __init__(self, name, dob):\n",
    "        self.name = name\n",
    "        self.dob = dob\n",
    "\n",
    "    def say_hi(self):\n",
    "        return f'{self.name} says hi.'"
   ]
  },
  {
   "cell_type": "markdown",
   "id": "eec7554d-6a96-4385-b981-69ecdf585c68",
   "metadata": {},
   "source": [
    "# this happens because what we are trying to do is \n",
    "`Person = debug_info(Person)` but debug_info function returns `none` so we have to return back the class"
   ]
  },
  {
   "cell_type": "code",
   "execution_count": 273,
   "id": "6439e6f5-b152-4eec-8e52-a189943e96d4",
   "metadata": {},
   "outputs": [],
   "source": [
    "def info(self):\n",
    "    results = []\n",
    "    results.append(f'Time: {datetime.datetime.now(tz=datetime.timezone.utc)}')\n",
    "    results.append(f'Class: {self.__class__.__name__}')\n",
    "    results.append(f'id: {hex(id(self))}')\n",
    "    for k, v in vars(self).items():\n",
    "        results.append(f'{k}: {v}')\n",
    "    return results\n",
    "\n",
    "def debug_info(cls):\n",
    "    cls.debug = info\n",
    "    return cls\n",
    "\n",
    "@debug_info\n",
    "class Person:\n",
    "    def __init__(self, name, dob):\n",
    "        self.name = name\n",
    "        self.dob = dob\n",
    "\n",
    "    def say_hi(self):\n",
    "        return f'{self.name} says hi.'"
   ]
  },
  {
   "cell_type": "code",
   "execution_count": 274,
   "id": "e451d4e8-6089-4fbe-9a96-947cfbd73f2b",
   "metadata": {},
   "outputs": [
    {
     "data": {
      "text/plain": [
       "<__main__.Person at 0x10c12acf0>"
      ]
     },
     "execution_count": 274,
     "metadata": {},
     "output_type": "execute_result"
    }
   ],
   "source": [
    "p = Person('John', 1935)\n",
    "p"
   ]
  },
  {
   "cell_type": "code",
   "execution_count": 275,
   "id": "1d93ed42-6633-4b31-bff7-323ed92395d6",
   "metadata": {},
   "outputs": [
    {
     "data": {
      "text/plain": [
       "'John says hi.'"
      ]
     },
     "execution_count": 275,
     "metadata": {},
     "output_type": "execute_result"
    }
   ],
   "source": [
    "p.say_hi()"
   ]
  },
  {
   "cell_type": "code",
   "execution_count": 276,
   "id": "d3174fb4-1a9a-4e84-b50b-6ff655973b7b",
   "metadata": {},
   "outputs": [
    {
     "data": {
      "text/plain": [
       "['Time: 2025-10-25 19:21:34.147509+00:00',\n",
       " 'Class: Person',\n",
       " 'id: 0x10c12acf0',\n",
       " 'name: John',\n",
       " 'dob: 1935']"
      ]
     },
     "execution_count": 276,
     "metadata": {},
     "output_type": "execute_result"
    }
   ],
   "source": [
    "p.debug()"
   ]
  },
  {
   "cell_type": "markdown",
   "id": "b577878e-c886-485d-b3ad-33c203c2ff2f",
   "metadata": {},
   "source": [
    "### in general we can write function to capture logs, parametrize these to direct logs to specific places etc. instead of baking those into the class code\n",
    "\n",
    "### think what is above doing - its `monkey patching` our class"
   ]
  },
  {
   "cell_type": "markdown",
   "id": "e96d8f12-80e3-45a0-aea0-f2601c313804",
   "metadata": {},
   "source": [
    "## a great use of `monkey patching` the class using decorators is to implement equality checks"
   ]
  },
  {
   "cell_type": "code",
   "execution_count": 301,
   "id": "145b93db-52b0-4074-ad1a-f7d8760549a8",
   "metadata": {},
   "outputs": [],
   "source": [
    "import math"
   ]
  },
  {
   "cell_type": "code",
   "execution_count": 339,
   "id": "672238d7-0ee8-491b-b7a1-85315ef05bbd",
   "metadata": {},
   "outputs": [],
   "source": [
    "class Point:\n",
    "    def __init__(self, x , y):\n",
    "        self.x = x\n",
    "        self.y = y\n",
    "\n",
    "    @property\n",
    "    def x(self):\n",
    "        return self._x\n",
    "\n",
    "    @x.setter\n",
    "    def x(self, x):\n",
    "        if(x < 0): raise ValueError(\"point coord cant be negative\")    \n",
    "        self._x = x\n",
    "        \n",
    "    @property\n",
    "    def y(self):\n",
    "        return self._x\n",
    "\n",
    "    @y.setter\n",
    "    def y(self, y):\n",
    "        if(y < 0): raise ValueError(\"point coord cant be negative\")\n",
    "        self._y = y\n",
    "\n",
    "    def __repr__(self):\n",
    "        return f'Point({self.x},{self.y})'\n",
    "        \n",
    "    def __abs__(self):\n",
    "        return math.sqrt(self.x ** 2 + self.y ** 2)\n",
    "    \n",
    "    def __eq__(self, other):\n",
    "        if isinstance(other, Point):\n",
    "            return self.x == other.x and self.y == other.y\n",
    "        else:\n",
    "            raise NotImplementedError(f\"between class {self.__class__.__name__} and {other.__class__.__name__}\")\n",
    "\n",
    "    def __lt__(self, other):\n",
    "        if isinstance(other, Point):\n",
    "            return abs(self) < abs(other)\n",
    "        else:\n",
    "            raise NotImplementedError(f\"between class {self.__class__.__name__} and {other.__class__.__name__}\")\n",
    "\n",
    "    "
   ]
  },
  {
   "cell_type": "code",
   "execution_count": 340,
   "id": "a7dfd65a-b742-4abf-a692-091652e81e38",
   "metadata": {},
   "outputs": [],
   "source": [
    "p1, p2, p3 = Point(2, 3), Point(2, 3), Point(0, 0)"
   ]
  },
  {
   "cell_type": "code",
   "execution_count": 343,
   "id": "db85efae-f27d-4772-b677-3cd3ec7cdc2c",
   "metadata": {},
   "outputs": [
    {
     "data": {
      "text/plain": [
       "(Point(2,2), Point(2,2), Point(0,0))"
      ]
     },
     "execution_count": 343,
     "metadata": {},
     "output_type": "execute_result"
    }
   ],
   "source": [
    "p1, p2, p3"
   ]
  },
  {
   "cell_type": "code",
   "execution_count": 344,
   "id": "1d2701df-7827-4c1c-b70e-05ee2b0569f7",
   "metadata": {},
   "outputs": [
    {
     "data": {
      "text/plain": [
       "(False, False)"
      ]
     },
     "execution_count": 344,
     "metadata": {},
     "output_type": "execute_result"
    }
   ],
   "source": [
    "p1 is p2, p2 is p3"
   ]
  },
  {
   "cell_type": "code",
   "execution_count": 345,
   "id": "fc27c47a-9080-4d79-affb-c89a1cdda7f8",
   "metadata": {},
   "outputs": [
    {
     "data": {
      "text/plain": [
       "(True, False)"
      ]
     },
     "execution_count": 345,
     "metadata": {},
     "output_type": "execute_result"
    }
   ],
   "source": [
    "p1 == p2, p2 == p3"
   ]
  },
  {
   "cell_type": "code",
   "execution_count": 346,
   "id": "a7b3a74f-53ad-485c-b56c-0aad0952d8e2",
   "metadata": {},
   "outputs": [
    {
     "data": {
      "text/plain": [
       "(True, False)"
      ]
     },
     "execution_count": 346,
     "metadata": {},
     "output_type": "execute_result"
    }
   ],
   "source": [
    "p3 < p1, p2 < p3"
   ]
  },
  {
   "cell_type": "code",
   "execution_count": 347,
   "id": "2f1c8fba-b6dd-482b-a334-c4bc9810265a",
   "metadata": {},
   "outputs": [
    {
     "ename": "NotImplementedError",
     "evalue": "between class Point and tuple",
     "output_type": "error",
     "traceback": [
      "\u001b[31m---------------------------------------------------------------------------\u001b[39m",
      "\u001b[31mNotImplementedError\u001b[39m                       Traceback (most recent call last)",
      "\u001b[36mCell\u001b[39m\u001b[36m \u001b[39m\u001b[32mIn[347]\u001b[39m\u001b[32m, line 1\u001b[39m\n\u001b[32m----> \u001b[39m\u001b[32m1\u001b[39m \u001b[43mp1\u001b[49m\u001b[43m \u001b[49m\u001b[43m==\u001b[49m\u001b[43m \u001b[49m\u001b[43m(\u001b[49m\u001b[32;43m3\u001b[39;49m\u001b[43m,\u001b[49m\u001b[43m \u001b[49m\u001b[32;43m4\u001b[39;49m\u001b[43m)\u001b[49m\n",
      "\u001b[36mCell\u001b[39m\u001b[36m \u001b[39m\u001b[32mIn[339]\u001b[39m\u001b[32m, line 34\u001b[39m, in \u001b[36mPoint.__eq__\u001b[39m\u001b[34m(self, other)\u001b[39m\n\u001b[32m     32\u001b[39m     \u001b[38;5;28;01mreturn\u001b[39;00m \u001b[38;5;28mself\u001b[39m.x == other.x \u001b[38;5;129;01mand\u001b[39;00m \u001b[38;5;28mself\u001b[39m.y == other.y\n\u001b[32m     33\u001b[39m \u001b[38;5;28;01melse\u001b[39;00m:\n\u001b[32m---> \u001b[39m\u001b[32m34\u001b[39m     \u001b[38;5;28;01mraise\u001b[39;00m \u001b[38;5;167;01mNotImplementedError\u001b[39;00m(\u001b[33mf\u001b[39m\u001b[33m\"\u001b[39m\u001b[33mbetween class \u001b[39m\u001b[38;5;132;01m{\u001b[39;00m\u001b[38;5;28mself\u001b[39m.\u001b[34m__class__\u001b[39m.\u001b[34m__name__\u001b[39m\u001b[38;5;132;01m}\u001b[39;00m\u001b[33m and \u001b[39m\u001b[38;5;132;01m{\u001b[39;00mother.\u001b[34m__class__\u001b[39m.\u001b[34m__name__\u001b[39m\u001b[38;5;132;01m}\u001b[39;00m\u001b[33m\"\u001b[39m)\n",
      "\u001b[31mNotImplementedError\u001b[39m: between class Point and tuple"
     ]
    }
   ],
   "source": [
    "p1 == (3, 4)"
   ]
  },
  {
   "cell_type": "code",
   "execution_count": 348,
   "id": "9e093a00-68da-4293-8da3-9f2902f2a590",
   "metadata": {},
   "outputs": [
    {
     "ename": "NotImplementedError",
     "evalue": "between class Point and int",
     "output_type": "error",
     "traceback": [
      "\u001b[31m---------------------------------------------------------------------------\u001b[39m",
      "\u001b[31mNotImplementedError\u001b[39m                       Traceback (most recent call last)",
      "\u001b[36mCell\u001b[39m\u001b[36m \u001b[39m\u001b[32mIn[348]\u001b[39m\u001b[32m, line 1\u001b[39m\n\u001b[32m----> \u001b[39m\u001b[32m1\u001b[39m \u001b[43mp1\u001b[49m\u001b[43m \u001b[49m\u001b[43m<\u001b[49m\u001b[43m \u001b[49m\u001b[32;43m4\u001b[39;49m\n",
      "\u001b[36mCell\u001b[39m\u001b[36m \u001b[39m\u001b[32mIn[339]\u001b[39m\u001b[32m, line 40\u001b[39m, in \u001b[36mPoint.__lt__\u001b[39m\u001b[34m(self, other)\u001b[39m\n\u001b[32m     38\u001b[39m     \u001b[38;5;28;01mreturn\u001b[39;00m \u001b[38;5;28mabs\u001b[39m(\u001b[38;5;28mself\u001b[39m) < \u001b[38;5;28mabs\u001b[39m(other)\n\u001b[32m     39\u001b[39m \u001b[38;5;28;01melse\u001b[39;00m:\n\u001b[32m---> \u001b[39m\u001b[32m40\u001b[39m     \u001b[38;5;28;01mraise\u001b[39;00m \u001b[38;5;167;01mNotImplementedError\u001b[39;00m(\u001b[33mf\u001b[39m\u001b[33m\"\u001b[39m\u001b[33mbetween class \u001b[39m\u001b[38;5;132;01m{\u001b[39;00m\u001b[38;5;28mself\u001b[39m.\u001b[34m__class__\u001b[39m.\u001b[34m__name__\u001b[39m\u001b[38;5;132;01m}\u001b[39;00m\u001b[33m and \u001b[39m\u001b[38;5;132;01m{\u001b[39;00mother.\u001b[34m__class__\u001b[39m.\u001b[34m__name__\u001b[39m\u001b[38;5;132;01m}\u001b[39;00m\u001b[33m\"\u001b[39m)\n",
      "\u001b[31mNotImplementedError\u001b[39m: between class Point and int"
     ]
    }
   ],
   "source": [
    "p1 < 4"
   ]
  },
  {
   "cell_type": "code",
   "execution_count": 349,
   "id": "24bac986-ee53-49d0-9025-080ea3649a2b",
   "metadata": {},
   "outputs": [
    {
     "ename": "TypeError",
     "evalue": "'>=' not supported between instances of 'Point' and 'Point'",
     "output_type": "error",
     "traceback": [
      "\u001b[31m---------------------------------------------------------------------------\u001b[39m",
      "\u001b[31mTypeError\u001b[39m                                 Traceback (most recent call last)",
      "\u001b[36mCell\u001b[39m\u001b[36m \u001b[39m\u001b[32mIn[349]\u001b[39m\u001b[32m, line 1\u001b[39m\n\u001b[32m----> \u001b[39m\u001b[32m1\u001b[39m \u001b[43mp1\u001b[49m\u001b[43m \u001b[49m\u001b[43m>\u001b[49m\u001b[43m=\u001b[49m\u001b[43m \u001b[49m\u001b[43mp2\u001b[49m\n",
      "\u001b[31mTypeError\u001b[39m: '>=' not supported between instances of 'Point' and 'Point'"
     ]
    }
   ],
   "source": [
    "p1 >= p2"
   ]
  },
  {
   "cell_type": "markdown",
   "id": "fd06af1a-b41e-404d-8c30-ff778a551e0b",
   "metadata": {},
   "source": [
    "## Given we have `lt` and `eq` operator implemented, we should be able to logically calcuate every other equality measure\n",
    "### Lets build it ourselves first"
   ]
  },
  {
   "cell_type": "code",
   "execution_count": 350,
   "id": "73982e6b-db32-42a2-94bc-3289f8bf4e31",
   "metadata": {},
   "outputs": [],
   "source": [
    "def complete_ordering(cls):\n",
    "    if '__eq__' in dir(cls) and '__lt__' in dir(cls):\n",
    "        cls.__le__ = lambda self, other: self < other or self == other\n",
    "        cls.__gt__ = lambda self, other: not(self < other) and not(self == other)\n",
    "        cls.__ge__ = lambda self, other: not(self < other)\n",
    "    return cls"
   ]
  },
  {
   "cell_type": "code",
   "execution_count": 362,
   "id": "aaf1d464-da8a-49ab-89a8-f1e25dda9f2a",
   "metadata": {},
   "outputs": [],
   "source": [
    "@complete_ordering\n",
    "class Point:\n",
    "    def __init__(self, x , y):\n",
    "        self.x = x\n",
    "        self.y = y\n",
    "\n",
    "    @property\n",
    "    def x(self):\n",
    "        return self._x\n",
    "\n",
    "    @x.setter\n",
    "    def x(self, x):\n",
    "        if(x < 0): raise ValueError(\"point coord cant be negative\")    \n",
    "        self._x = x\n",
    "        \n",
    "    @property\n",
    "    def y(self):\n",
    "        return self._x\n",
    "\n",
    "    @y.setter\n",
    "    def y(self, y):\n",
    "        if(y < 0): raise ValueError(\"point coord cant be negative\")\n",
    "        self._y = y\n",
    "\n",
    "    def __repr__(self):\n",
    "        return f'Point({self.x}{self.y})'\n",
    "\n",
    "    def __abs__(self):\n",
    "        return math.sqrt(self.x ** 2 + self.y ** 2)\n",
    "    \n",
    "    def __eq__(self, other):\n",
    "        if isinstance(other, Point):\n",
    "            return self.x == other.x and self.y == other.y\n",
    "        else:\n",
    "            raise NotImplementedError(f\"between class {self.__class__.__name__} and {other.__class__.__name__}\")\n",
    "\n",
    "    def __lt__(self, other):\n",
    "        if isinstance(other, Point):\n",
    "            return abs(self) < abs(other)\n",
    "        else:\n",
    "            raise NotImplementedError(f\"between class {self.__class__.__name__} and {other.__class__.__name__}\")\n"
   ]
  },
  {
   "cell_type": "code",
   "execution_count": 363,
   "id": "27f85ee0-f5a4-464a-a8d8-d31857ef9147",
   "metadata": {},
   "outputs": [],
   "source": [
    "p1, p2, p3 = Point(2, 3), Point(2, 3), Point(0, 0)"
   ]
  },
  {
   "cell_type": "code",
   "execution_count": 364,
   "id": "776507a3-1fce-4fce-bee1-649ae4fd716e",
   "metadata": {},
   "outputs": [
    {
     "data": {
      "text/plain": [
       "True"
      ]
     },
     "execution_count": 364,
     "metadata": {},
     "output_type": "execute_result"
    }
   ],
   "source": [
    "p1 > p3"
   ]
  },
  {
   "cell_type": "code",
   "execution_count": 365,
   "id": "c7f1bd31-3da8-4ca5-8d68-42089b6bff57",
   "metadata": {},
   "outputs": [
    {
     "data": {
      "text/plain": [
       "True"
      ]
     },
     "execution_count": 365,
     "metadata": {},
     "output_type": "execute_result"
    }
   ],
   "source": [
    "p1 >= p2"
   ]
  },
  {
   "cell_type": "code",
   "execution_count": 366,
   "id": "43cb9afd-0a7f-4d31-afda-78abcdfee177",
   "metadata": {},
   "outputs": [
    {
     "data": {
      "text/plain": [
       "True"
      ]
     },
     "execution_count": 366,
     "metadata": {},
     "output_type": "execute_result"
    }
   ],
   "source": [
    "p1 != p3"
   ]
  },
  {
   "cell_type": "code",
   "execution_count": 367,
   "id": "105bcafa-284b-4caa-a759-59955f12391f",
   "metadata": {},
   "outputs": [
    {
     "data": {
      "text/plain": [
       "False"
      ]
     },
     "execution_count": 367,
     "metadata": {},
     "output_type": "execute_result"
    }
   ],
   "source": [
    "p2 != p1"
   ]
  },
  {
   "cell_type": "markdown",
   "id": "e9dd6196-e123-4c00-87d3-d6d9619a0afa",
   "metadata": {},
   "source": [
    "# as long as we have one of the equalities and eq implemented - total ordering can fill rest of it"
   ]
  },
  {
   "cell_type": "code",
   "execution_count": 375,
   "id": "71363811-8267-4e65-ada8-1ecc66736cb8",
   "metadata": {},
   "outputs": [],
   "source": [
    "from functools import total_ordering"
   ]
  },
  {
   "cell_type": "code",
   "execution_count": 376,
   "id": "281e319f-5e92-48a7-a57c-7709b52c918e",
   "metadata": {},
   "outputs": [],
   "source": [
    "@total_ordering\n",
    "class Point:\n",
    "    def __init__(self, x , y):\n",
    "        self.x = x\n",
    "        self.y = y\n",
    "\n",
    "    @property\n",
    "    def x(self):\n",
    "        return self._x\n",
    "\n",
    "    @x.setter\n",
    "    def x(self, x):\n",
    "        if(x < 0): raise ValueError(\"point coord cant be negative\")    \n",
    "        self._x = x\n",
    "        \n",
    "    @property\n",
    "    def y(self):\n",
    "        return self._x\n",
    "\n",
    "    @y.setter\n",
    "    def y(self, y):\n",
    "        if(y < 0): raise ValueError(\"point coord cant be negative\")\n",
    "        self._y = y\n",
    "\n",
    "    def __repr__(self):\n",
    "        return f'Point({self.x}{self.y})'\n",
    "\n",
    "    def __abs__(self):\n",
    "        return math.sqrt(self.x ** 2 + self.y ** 2)\n",
    "    \n",
    "    def __eq__(self, other):\n",
    "        if isinstance(other, Point):\n",
    "            return self.x == other.x and self.y == other.y\n",
    "        else:\n",
    "            raise NotImplementedError(f\"between class {self.__class__.__name__} and {other.__class__.__name__}\")\n",
    "\n",
    "    def __lt__(self, other):\n",
    "        if isinstance(other, Point):\n",
    "            return abs(self) < abs(other)\n",
    "        else:\n",
    "            raise NotImplementedError(f\"between class {self.__class__.__name__} and {other.__class__.__name__}\")\n"
   ]
  },
  {
   "cell_type": "code",
   "execution_count": 377,
   "id": "00ffd733-96ce-4f78-9e0a-bdb0c43ddb16",
   "metadata": {},
   "outputs": [],
   "source": [
    "p1, p2, p3 = Point(2, 3), Point(2, 3), Point(0, 0)"
   ]
  },
  {
   "cell_type": "code",
   "execution_count": 378,
   "id": "11c0172b-af14-4587-aad6-90b6eeea7d5a",
   "metadata": {},
   "outputs": [
    {
     "data": {
      "text/plain": [
       "True"
      ]
     },
     "execution_count": 378,
     "metadata": {},
     "output_type": "execute_result"
    }
   ],
   "source": [
    "p1 > p3"
   ]
  },
  {
   "cell_type": "code",
   "execution_count": 379,
   "id": "5b6352b3-bd53-4524-97a8-3e145b4d7c6c",
   "metadata": {},
   "outputs": [
    {
     "data": {
      "text/plain": [
       "True"
      ]
     },
     "execution_count": 379,
     "metadata": {},
     "output_type": "execute_result"
    }
   ],
   "source": [
    "p1 >= p2"
   ]
  },
  {
   "cell_type": "code",
   "execution_count": 374,
   "id": "ae0bf274-2ed1-4f32-86fc-ec25f187b78f",
   "metadata": {},
   "outputs": [
    {
     "data": {
      "text/plain": [
       "True"
      ]
     },
     "execution_count": 374,
     "metadata": {},
     "output_type": "execute_result"
    }
   ],
   "source": [
    "p3 != p2"
   ]
  },
  {
   "cell_type": "code",
   "execution_count": null,
   "id": "2d96251c-7b1f-4217-a357-2c4499e2a868",
   "metadata": {},
   "outputs": [],
   "source": []
  }
 ],
 "metadata": {
  "kernelspec": {
   "display_name": "Python (fundamentals)",
   "language": "python",
   "name": "fundamentals"
  },
  "language_info": {
   "codemirror_mode": {
    "name": "ipython",
    "version": 3
   },
   "file_extension": ".py",
   "mimetype": "text/x-python",
   "name": "python",
   "nbconvert_exporter": "python",
   "pygments_lexer": "ipython3",
   "version": "3.13.7"
  }
 },
 "nbformat": 4,
 "nbformat_minor": 5
}
