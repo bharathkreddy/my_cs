{
 "cells": [
  {
   "cell_type": "markdown",
   "id": "8678628c-4ac2-4dd3-bf41-aeafe15ed1ef",
   "metadata": {},
   "source": [
    "# CSV module provides functionality to read and write a wide variety of csv formats\n",
    "1. CSV is not exactly a standard\n",
    "2. a variety of flavours exists known as dialects\n",
    "3. most common one is Excel\n",
    "4. Default parser dialect in python csv module is excel\n",
    "5. csv.reader(f, delimiter, qoute char ) gives an iterator"
   ]
  },
  {
   "cell_type": "code",
   "execution_count": 1,
   "id": "7fa6ce4f-5d35-4fac-981b-54671c5515fc",
   "metadata": {},
   "outputs": [
    {
     "name": "stdout",
     "output_type": "stream",
     "text": [
      "First Name,Last Name,DOB,Sketches\n",
      "\n",
      "John,Cleese,10/27/39,\"The Cheese Shop, Ministry of Silly Walks, It's the Arts\"\n",
      "\n",
      "Eric,Idle,3/29/43,\"The Cheese Shop, Nudge Nudge, \"\"Spam\"\"\"\n",
      "\n",
      "Peter,O'Toole,8/2/32,Lawrence of Arabia\n"
     ]
    }
   ],
   "source": [
    "with open('data/actors.csv') as f:\n",
    "    for row in f:\n",
    "        print(row)"
   ]
  },
  {
   "cell_type": "markdown",
   "id": "d7a40f92-5ec8-437a-ac20-3e547ab96777",
   "metadata": {},
   "source": [
    "### its very difficult to clean this so we would use csv module"
   ]
  },
  {
   "cell_type": "code",
   "execution_count": 2,
   "id": "18c1a339-6871-42c6-8655-e9eaf472b99f",
   "metadata": {},
   "outputs": [],
   "source": [
    "import csv"
   ]
  },
  {
   "cell_type": "code",
   "execution_count": 4,
   "id": "73d99900-5051-4c77-95f1-23a972867157",
   "metadata": {},
   "outputs": [
    {
     "name": "stdout",
     "output_type": "stream",
     "text": [
      "['First Name', 'Last Name', 'DOB', 'Sketches']\n",
      "['John', 'Cleese', '10/27/39', \"The Cheese Shop, Ministry of Silly Walks, It's the Arts\"]\n",
      "['Eric', 'Idle', '3/29/43', 'The Cheese Shop, Nudge Nudge, \"Spam\"']\n",
      "['Peter', \"O'Toole\", '8/2/32', 'Lawrence of Arabia']\n"
     ]
    }
   ],
   "source": [
    "with open('data/actors.csv') as f:\n",
    "    reader = csv.reader(f, delimiter=',', quotechar='\"')\n",
    "    for row in reader:\n",
    "        print(row)"
   ]
  },
  {
   "cell_type": "markdown",
   "id": "d2fb5b42-aed9-4a3b-896d-7bc18f62e737",
   "metadata": {},
   "source": [
    "## Dialects\n",
    "The Dialect class is a container class whose attributes contain information for how to handle doublequotes, whitespace, delimiters, etc. Due to the lack of a strict CSV specification, different applications produce subtly different CSV data. Dialect instances define how reader and writer instances behave."
   ]
  },
  {
   "cell_type": "code",
   "execution_count": 5,
   "id": "b0ba9bae-e8d4-4dda-bc49-7600af6ecec2",
   "metadata": {},
   "outputs": [
    {
     "data": {
      "text/plain": [
       "['excel', 'excel-tab', 'unix']"
      ]
     },
     "execution_count": 5,
     "metadata": {},
     "output_type": "execute_result"
    }
   ],
   "source": [
    "csv.list_dialects()"
   ]
  },
  {
   "cell_type": "code",
   "execution_count": 6,
   "id": "1fba5a55-1387-41d1-8f30-d0a19ce1d389",
   "metadata": {},
   "outputs": [
    {
     "name": "stdout",
     "output_type": "stream",
     "text": [
      "FIRST_NAME| LAST_NAME| DOB| SKETCHES\n",
      "\n",
      "John|Cleese| 10/27/39| 'The Cheese Shop, Ministry of Silly Walks, It\\'s the Arts'\n",
      "\n",
      "Eric| Idle| 3/29/43| 'The Cheese Shop, Nudge Nudge, \"Spam\"'\n",
      "\n",
      "Peter| 'O\\'Toole'| 8/2/32| Lawrence of Arabia\n"
     ]
    }
   ],
   "source": [
    "with open('data/actors.pdv') as f:\n",
    "    for row in f:\n",
    "        print(row)"
   ]
  },
  {
   "cell_type": "code",
   "execution_count": 13,
   "id": "cff73b21-8aab-4e18-9a15-3d6cbfa30601",
   "metadata": {},
   "outputs": [
    {
     "name": "stdout",
     "output_type": "stream",
     "text": [
      "['FIRST_NAME', 'LAST_NAME', 'DOB', 'SKETCHES']\n",
      "['John', 'Cleese', '10/27/39', \"The Cheese Shop, Ministry of Silly Walks, It's the Arts\"]\n",
      "['Eric', 'Idle', '3/29/43', 'The Cheese Shop, Nudge Nudge, \"Spam\"']\n",
      "['Peter', \"O'Toole\", '8/2/32', 'Lawrence of Arabia']\n"
     ]
    }
   ],
   "source": [
    "with open('data/actors.pdv') as f:\n",
    "    reader = csv.reader(\n",
    "        f, \n",
    "        delimiter='|', \n",
    "        quotechar=\"'\", \n",
    "        escapechar='\\\\',  # escaping the backslash\n",
    "        skipinitialspace=True # automatically trims spaces immediately following each |\n",
    "    )\n",
    "    for row in reader:\n",
    "        print(row)"
   ]
  },
  {
   "cell_type": "markdown",
   "id": "c9fb6643-053f-43e1-8c35-ad67a9de9a0d",
   "metadata": {},
   "source": [
    "### instead of typing in the args to csv reader everytime we can register the dialect"
   ]
  },
  {
   "cell_type": "code",
   "execution_count": 14,
   "id": "5cf99a9e-7585-4189-bac9-0f7d354f1955",
   "metadata": {},
   "outputs": [],
   "source": [
    "csv.register_dialect(\n",
    "    'pdv',\n",
    "    delimiter='|', \n",
    "    quotechar=\"'\", \n",
    "    escapechar='\\\\',  \n",
    "    skipinitialspace=True \n",
    ")"
   ]
  },
  {
   "cell_type": "code",
   "execution_count": 16,
   "id": "f625718e-3731-4f24-bd97-98c9cbbe92bb",
   "metadata": {},
   "outputs": [
    {
     "data": {
      "text/plain": [
       "['excel', 'excel-tab', 'unix', 'pdv']"
      ]
     },
     "execution_count": 16,
     "metadata": {},
     "output_type": "execute_result"
    }
   ],
   "source": [
    "csv.list_dialects()"
   ]
  },
  {
   "cell_type": "code",
   "execution_count": 17,
   "id": "04a278d4-476a-4af8-9827-c47970a1cc5f",
   "metadata": {},
   "outputs": [
    {
     "name": "stdout",
     "output_type": "stream",
     "text": [
      "['FIRST_NAME', 'LAST_NAME', 'DOB', 'SKETCHES']\n",
      "['John', 'Cleese', '10/27/39', \"The Cheese Shop, Ministry of Silly Walks, It's the Arts\"]\n",
      "['Eric', 'Idle', '3/29/43', 'The Cheese Shop, Nudge Nudge, \"Spam\"']\n",
      "['Peter', \"O'Toole\", '8/2/32', 'Lawrence of Arabia']\n"
     ]
    }
   ],
   "source": [
    "with open('data/actors.pdv') as f:\n",
    "    reader = csv.reader(f, dialect='pdv')\n",
    "    for row in reader:\n",
    "        print(row)"
   ]
  },
  {
   "cell_type": "markdown",
   "id": "35c61aa1-1f8b-42ba-ab8b-2599816885c9",
   "metadata": {},
   "source": [
    "### example of a poorly formated file"
   ]
  },
  {
   "cell_type": "code",
   "execution_count": 25,
   "id": "8b06e756-98b4-4a6b-8811-b9906ad5b92d",
   "metadata": {},
   "outputs": [
    {
     "name": "stdout",
     "output_type": "stream",
     "text": [
      "Geographic Area,\"July 1, 2001 Estimate\",\"July 1, 2000 Estimate\",\"April 1, 2000 Population Estimates Base\"\n",
      "United States,\" 284,796,887 \",\" 282,124,631 \",\" 281,421,906 \"\n",
      "Alabama,\" 4,464,356 \",\" 4,451,493 \",\" 4,447,100 \"\n",
      "Alaska,\" 634,892 \",\" 627,601 \",\" 626,932 \"\n",
      "Arizona,\" 5,307,331 \",\" 5,165,274 \",\" 5,130,632 \"\n",
      "Arkansas,\" 2,692,090 \",\" 2,678,030 \",\" 2,673,400 \"\n",
      "California,\" 34,501,130 \",\" 34,000,446 \",\" 33,871,648 \"\n",
      "Colorado,\" 4,417,714 \",\" 4,323,410 \",\" 4,301,261 \"\n",
      "Connecticut,\" 3,425,074 \",\" 3,410,079 \",\" 3,405,565 \"\n",
      "Delaware,\" 796,165 \",\" 786,234 \",\" 783,600 \"\n"
     ]
    }
   ],
   "source": [
    "with open('data/census.csv') as f:\n",
    "    for i in range(10):  # print first 9 lines instead of entire file.\n",
    "        print(next(f).strip()) # to remove trailing newline char"
   ]
  },
  {
   "cell_type": "code",
   "execution_count": 28,
   "id": "14922547-7f5a-4925-98c0-46fc86afd35f",
   "metadata": {},
   "outputs": [
    {
     "name": "stdout",
     "output_type": "stream",
     "text": [
      "4 ['Geographic Area', 'July 1, 2001 Estimate', 'July 1, 2000 Estimate', 'April 1, 2000 Population Estimates Base']\n",
      "4 ['United States', ' 284,796,887 ', ' 282,124,631 ', ' 281,421,906 ']\n",
      "4 ['Alabama', ' 4,464,356 ', ' 4,451,493 ', ' 4,447,100 ']\n",
      "4 ['Alaska', ' 634,892 ', ' 627,601 ', ' 626,932 ']\n",
      "4 ['Arizona', ' 5,307,331 ', ' 5,165,274 ', ' 5,130,632 ']\n",
      "4 ['Arkansas', ' 2,692,090 ', ' 2,678,030 ', ' 2,673,400 ']\n",
      "4 ['California', ' 34,501,130 ', ' 34,000,446 ', ' 33,871,648 ']\n",
      "4 ['Colorado', ' 4,417,714 ', ' 4,323,410 ', ' 4,301,261 ']\n",
      "4 ['Connecticut', ' 3,425,074 ', ' 3,410,079 ', ' 3,405,565 ']\n",
      "4 ['Delaware', ' 796,165 ', ' 786,234 ', ' 783,600 ']\n",
      "4 ['District of Columbia', ' 571,822 ', ' 571,066 ', ' 572,059 ']\n",
      "4 ['Florida', ' 16,396,515 ', ' 16,054,328 ', ' 15,982,378 ']\n",
      "4 ['Georgia', ' 8,383,915 ', ' 8,229,823 ', ' 8,186,453 ']\n",
      "4 ['Hawaii', ' 1,224,398 ', ' 1,212,281 ', ' 1,211,537 ']\n",
      "4 ['Idaho', ' 1,321,006 ', ' 1,299,258 ', ' 1,293,953 ']\n",
      "4 ['Illinois', ' 12,482,301 ', ' 12,435,970 ', ' 12,419,293 ']\n",
      "4 ['Indiana', ' 6,114,745 ', ' 6,089,950 ', ' 6,080,485 ']\n",
      "4 ['Iowa', ' 2,923,179 ', ' 2,927,509 ', ' 2,926,324 ']\n",
      "4 ['Kansas', ' 2,694,641 ', ' 2,691,750 ', ' 2,688,418 ']\n",
      "4 ['Kentucky', ' 4,065,556 ', ' 4,047,424 ', ' 4,041,769 ']\n",
      "4 ['Louisiana', ' 4,465,430 ', ' 4,469,970 ', ' 4,468,976 ']\n",
      "4 ['Maine', ' 1,286,670 ', ' 1,276,961 ', ' 1,274,923 ']\n",
      "4 ['Maryland', ' 5,375,156 ', ' 5,310,908 ', ' 5,296,486 ']\n",
      "4 ['Massachusetts', ' 6,379,304 ', ' 6,357,072 ', ' 6,349,097 ']\n",
      "4 ['Michigan', ' 9,990,817 ', ' 9,952,006 ', ' 9,938,444 ']\n",
      "4 ['Minnesota', ' 4,972,294 ', ' 4,931,093 ', ' 4,919,479 ']\n",
      "4 ['Mississippi', ' 2,858,029 ', ' 2,849,100 ', ' 2,844,658 ']\n",
      "4 ['Missouri', ' 5,629,707 ', ' 5,603,553 ', ' 5,595,211 ']\n",
      "4 ['Montana', ' 904,433 ', ' 903,157 ', ' 902,195 ']\n",
      "4 ['Nebraska', ' 1,713,235 ', ' 1,712,577 ', ' 1,711,263 ']\n",
      "4 ['Nevada', ' 2,106,074 ', ' 2,018,723 ', ' 1,998,257 ']\n",
      "4 ['New Hampshire', ' 1,259,181 ', ' 1,239,881 ', ' 1,235,786 ']\n",
      "4 ['New Jersey', ' 8,484,431 ', ' 8,429,007 ', ' 8,414,350 ']\n",
      "4 ['New Mexico', ' 1,829,146 ', ' 1,821,282 ', ' 1,819,046 ']\n",
      "4 ['New York', ' 19,011,378 ', ' 18,989,332 ', ' 18,976,457 ']\n",
      "4 ['North Carolina', ' 8,186,268 ', ' 8,077,367 ', ' 8,049,313 ']\n",
      "4 ['North Dakota', ' 634,448 ', ' 640,919 ', ' 642,200 ']\n",
      "4 ['Ohio', ' 11,373,541 ', ' 11,359,955 ', ' 11,353,140 ']\n",
      "4 ['Oklahoma', ' 3,460,097 ', ' 3,453,250 ', ' 3,450,654 ']\n",
      "4 ['Oregon', ' 3,472,867 ', ' 3,429,293 ', ' 3,421,399 ']\n",
      "4 ['Pennsylvania', ' 12,287,150 ', ' 12,282,591 ', ' 12,281,054 ']\n",
      "4 ['Rhode Island', ' 1,058,920 ', ' 1,050,236 ', ' 1,048,319 ']\n",
      "4 ['South Carolina', ' 4,063,011 ', ' 4,023,438 ', ' 4,012,012 ']\n",
      "4 ['South Dakota', ' 756,600 ', ' 755,509 ', ' 754,844 ']\n",
      "4 ['Tennessee', ' 5,740,021 ', ' 5,702,027 ', ' 5,689,283 ']\n",
      "4 ['Texas', ' 21,325,018 ', ' 20,946,503 ', ' 20,851,820 ']\n",
      "4 ['Utah', ' 2,269,789 ', ' 2,241,555 ', ' 2,233,169 ']\n",
      "4 ['Vermont', ' 613,090 ', ' 609,709 ', ' 608,827 ']\n",
      "4 ['Virginia', ' 7,187,734 ', ' 7,104,016 ', ' 7,078,515 ']\n",
      "4 ['Washington', ' 5,987,973 ', ' 5,908,372 ', ' 5,894,121 ']\n",
      "4 ['West Virginia', ' 1,801,916 ', ' 1,807,099 ', ' 1,808,344 ']\n",
      "4 ['Wisconsin', ' 5,401,906 ', ' 5,372,243 ', ' 5,363,675 ']\n",
      "4 ['Wyoming', ' 494,423 ', ' 494,001 ', ' 493,782 ']\n"
     ]
    }
   ],
   "source": [
    "with open('data/census.csv') as f:\n",
    "    reader = csv.reader(f, dialect='excel')\n",
    "    for row in reader:\n",
    "        print(len(row), row)  # count how many fields in reach record to check correctness of parsing - looks right."
   ]
  },
  {
   "cell_type": "code",
   "execution_count": 41,
   "id": "7f748cb2-e54f-48b1-8cd9-ec454c7f8ff5",
   "metadata": {},
   "outputs": [
    {
     "data": {
      "text/plain": [
       "[['Geographic Area',\n",
       "  'July 1, 2001 Estimate',\n",
       "  'July 1, 2000 Estimate',\n",
       "  'April 1, 2000 Population Estimates Base'],\n",
       " ['United States', 284796887, 282124631, 281421906],\n",
       " ['Alabama', 4464356, 4451493, 4447100],\n",
       " ['Alaska', 634892, 627601, 626932],\n",
       " ['Arizona', 5307331, 5165274, 5130632],\n",
       " ['Arkansas', 2692090, 2678030, 2673400],\n",
       " ['California', 34501130, 34000446, 33871648],\n",
       " ['Colorado', 4417714, 4323410, 4301261],\n",
       " ['Connecticut', 3425074, 3410079, 3405565],\n",
       " ['Delaware', 796165, 786234, 783600],\n",
       " ['District of Columbia', 571822, 571066, 572059],\n",
       " ['Florida', 16396515, 16054328, 15982378],\n",
       " ['Georgia', 8383915, 8229823, 8186453],\n",
       " ['Hawaii', 1224398, 1212281, 1211537],\n",
       " ['Idaho', 1321006, 1299258, 1293953],\n",
       " ['Illinois', 12482301, 12435970, 12419293],\n",
       " ['Indiana', 6114745, 6089950, 6080485],\n",
       " ['Iowa', 2923179, 2927509, 2926324],\n",
       " ['Kansas', 2694641, 2691750, 2688418],\n",
       " ['Kentucky', 4065556, 4047424, 4041769],\n",
       " ['Louisiana', 4465430, 4469970, 4468976],\n",
       " ['Maine', 1286670, 1276961, 1274923],\n",
       " ['Maryland', 5375156, 5310908, 5296486],\n",
       " ['Massachusetts', 6379304, 6357072, 6349097],\n",
       " ['Michigan', 9990817, 9952006, 9938444],\n",
       " ['Minnesota', 4972294, 4931093, 4919479],\n",
       " ['Mississippi', 2858029, 2849100, 2844658],\n",
       " ['Missouri', 5629707, 5603553, 5595211],\n",
       " ['Montana', 904433, 903157, 902195],\n",
       " ['Nebraska', 1713235, 1712577, 1711263],\n",
       " ['Nevada', 2106074, 2018723, 1998257],\n",
       " ['New Hampshire', 1259181, 1239881, 1235786],\n",
       " ['New Jersey', 8484431, 8429007, 8414350],\n",
       " ['New Mexico', 1829146, 1821282, 1819046],\n",
       " ['New York', 19011378, 18989332, 18976457],\n",
       " ['North Carolina', 8186268, 8077367, 8049313],\n",
       " ['North Dakota', 634448, 640919, 642200],\n",
       " ['Ohio', 11373541, 11359955, 11353140],\n",
       " ['Oklahoma', 3460097, 3453250, 3450654],\n",
       " ['Oregon', 3472867, 3429293, 3421399],\n",
       " ['Pennsylvania', 12287150, 12282591, 12281054],\n",
       " ['Rhode Island', 1058920, 1050236, 1048319],\n",
       " ['South Carolina', 4063011, 4023438, 4012012],\n",
       " ['South Dakota', 756600, 755509, 754844],\n",
       " ['Tennessee', 5740021, 5702027, 5689283],\n",
       " ['Texas', 21325018, 20946503, 20851820],\n",
       " ['Utah', 2269789, 2241555, 2233169],\n",
       " ['Vermont', 613090, 609709, 608827],\n",
       " ['Virginia', 7187734, 7104016, 7078515],\n",
       " ['Washington', 5987973, 5908372, 5894121],\n",
       " ['West Virginia', 1801916, 1807099, 1808344],\n",
       " ['Wisconsin', 5401906, 5372243, 5363675],\n",
       " ['Wyoming', 494423, 494001, 493782]]"
      ]
     },
     "execution_count": 41,
     "metadata": {},
     "output_type": "execute_result"
    }
   ],
   "source": [
    "with open('data/census.csv') as f:\n",
    "    result = []\n",
    "    reader = csv.reader(f, dialect='excel')\n",
    "    result.append(next(reader))\n",
    "    for row in reader:\n",
    "        row[1:] = [int(el.replace(',','_').strip()) for el in row[1:]]\n",
    "        result.append(row)\n",
    "\n",
    "result"
   ]
  },
  {
   "cell_type": "markdown",
   "id": "af6d2638-1523-47d0-a439-9a5cdc3fd25a",
   "metadata": {},
   "source": [
    "# lets write this file to a csv file in excel format"
   ]
  },
  {
   "cell_type": "code",
   "execution_count": 42,
   "id": "0dc99fb3-3c9d-4ed7-ac6b-aad0153c85bd",
   "metadata": {},
   "outputs": [],
   "source": [
    "with open('data/cleaned_census.csv', 'w') as f:\n",
    "    writer = csv.writer(f, dialect='excel')\n",
    "    for row in result:\n",
    "        writer.writerow(row)"
   ]
  },
  {
   "cell_type": "code",
   "execution_count": 44,
   "id": "3b0e4826-65fe-4424-a896-b6a8846e237b",
   "metadata": {},
   "outputs": [
    {
     "name": "stdout",
     "output_type": "stream",
     "text": [
      "Geographic Area,\"July 1, 2001 Estimate\",\"July 1, 2000 Estimate\",\"April 1, 2000 Population Estimates Base\"\n",
      "United States,284796887,282124631,281421906\n",
      "Alabama,4464356,4451493,4447100\n",
      "Alaska,634892,627601,626932\n",
      "Arizona,5307331,5165274,5130632\n",
      "Arkansas,2692090,2678030,2673400\n",
      "California,34501130,34000446,33871648\n",
      "Colorado,4417714,4323410,4301261\n",
      "Connecticut,3425074,3410079,3405565\n",
      "Delaware,796165,786234,783600\n",
      "District of Columbia,571822,571066,572059\n",
      "Florida,16396515,16054328,15982378\n",
      "Georgia,8383915,8229823,8186453\n",
      "Hawaii,1224398,1212281,1211537\n",
      "Idaho,1321006,1299258,1293953\n",
      "Illinois,12482301,12435970,12419293\n",
      "Indiana,6114745,6089950,6080485\n",
      "Iowa,2923179,2927509,2926324\n",
      "Kansas,2694641,2691750,2688418\n",
      "Kentucky,4065556,4047424,4041769\n",
      "Louisiana,4465430,4469970,4468976\n",
      "Maine,1286670,1276961,1274923\n",
      "Maryland,5375156,5310908,5296486\n",
      "Massachusetts,6379304,6357072,6349097\n",
      "Michigan,9990817,9952006,9938444\n",
      "Minnesota,4972294,4931093,4919479\n",
      "Mississippi,2858029,2849100,2844658\n",
      "Missouri,5629707,5603553,5595211\n",
      "Montana,904433,903157,902195\n",
      "Nebraska,1713235,1712577,1711263\n",
      "Nevada,2106074,2018723,1998257\n",
      "New Hampshire,1259181,1239881,1235786\n",
      "New Jersey,8484431,8429007,8414350\n",
      "New Mexico,1829146,1821282,1819046\n",
      "New York,19011378,18989332,18976457\n",
      "North Carolina,8186268,8077367,8049313\n",
      "North Dakota,634448,640919,642200\n",
      "Ohio,11373541,11359955,11353140\n",
      "Oklahoma,3460097,3453250,3450654\n",
      "Oregon,3472867,3429293,3421399\n",
      "Pennsylvania,12287150,12282591,12281054\n",
      "Rhode Island,1058920,1050236,1048319\n",
      "South Carolina,4063011,4023438,4012012\n",
      "South Dakota,756600,755509,754844\n",
      "Tennessee,5740021,5702027,5689283\n",
      "Texas,21325018,20946503,20851820\n",
      "Utah,2269789,2241555,2233169\n",
      "Vermont,613090,609709,608827\n",
      "Virginia,7187734,7104016,7078515\n",
      "Washington,5987973,5908372,5894121\n",
      "West Virginia,1801916,1807099,1808344\n",
      "Wisconsin,5401906,5372243,5363675\n",
      "Wyoming,494423,494001,493782\n"
     ]
    }
   ],
   "source": [
    "with open('data/cleaned_census.csv') as f:\n",
    "    for row in f:\n",
    "        print(row.strip())"
   ]
  },
  {
   "cell_type": "code",
   "execution_count": null,
   "id": "d686b4cf-45e3-4ff8-ab0c-715ed1d9d871",
   "metadata": {},
   "outputs": [],
   "source": []
  }
 ],
 "metadata": {
  "kernelspec": {
   "display_name": "Python (fundamentals)",
   "language": "python",
   "name": "fundamentals"
  },
  "language_info": {
   "codemirror_mode": {
    "name": "ipython",
    "version": 3
   },
   "file_extension": ".py",
   "mimetype": "text/x-python",
   "name": "python",
   "nbconvert_exporter": "python",
   "pygments_lexer": "ipython3",
   "version": "3.13.7"
  }
 },
 "nbformat": 4,
 "nbformat_minor": 5
}
