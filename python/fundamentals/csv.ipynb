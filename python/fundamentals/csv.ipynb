{
 "cells": [
  {
   "cell_type": "markdown",
   "id": "8678628c-4ac2-4dd3-bf41-aeafe15ed1ef",
   "metadata": {},
   "source": [
    "# CSV module provides functionality to read and write a wide variety of csv formats"
   ]
  },
  {
   "cell_type": "code",
   "execution_count": null,
   "id": "7fa6ce4f-5d35-4fac-981b-54671c5515fc",
   "metadata": {},
   "outputs": [],
   "source": []
  }
 ],
 "metadata": {
  "kernelspec": {
   "display_name": "Python (fundamentals)",
   "language": "python",
   "name": "fundamentals"
  },
  "language_info": {
   "codemirror_mode": {
    "name": "ipython",
    "version": 3
   },
   "file_extension": ".py",
   "mimetype": "text/x-python",
   "name": "python",
   "nbconvert_exporter": "python",
   "pygments_lexer": "ipython3",
   "version": "3.13.7"
  }
 },
 "nbformat": 4,
 "nbformat_minor": 5
}
