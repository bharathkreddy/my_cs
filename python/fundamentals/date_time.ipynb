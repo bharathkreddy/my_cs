{
 "cells": [
  {
   "cell_type": "markdown",
   "id": "5ab593e8-306e-4cba-aa75-2e2ad7ceef64",
   "metadata": {},
   "source": [
    "# Dates and Time"
   ]
  },
  {
   "cell_type": "markdown",
   "id": "608079c5-198c-484f-bfb5-9c18f905021a",
   "metadata": {},
   "source": [
    "## UTC\n",
    "1. Sometimes still called GMT\n",
    "2. World standard\n",
    "3. No adjustments for daylight saving time\n",
    "4. easiset to `allways` use UTC `internally` in our programs\n",
    "    - `convert` incomming times to UTC\n",
    "    - Work exclusively in UTC `internally`\n",
    "    - `display` to the user using their preferred `time zone`\n",
    "5. `ISO 8601` defines standards for string representaion of dates and times\n",
    "6. YYYY-MM-DD T(optional seperator) hh:(optional)mm:ss[.nnnn] +/- hh:mm (optional ofset) `z` is used to denote 00:00 offset i.e. `UTC`. "
   ]
  },
  {
   "cell_type": "markdown",
   "id": "ee508364-4c72-4b10-a1f6-a8428cd7c8b7",
   "metadata": {},
   "source": [
    "# TIME module "
   ]
  },
  {
   "cell_type": "markdown",
   "id": "c9ce6831-09d4-4efe-a0dd-806b5702c460",
   "metadata": {},
   "source": [
    "### `perf_counter` : gives highest precision difference between two probes\n",
    "### `sleep`: suspend execution of the calling thread for however many seconds you specify."
   ]
  },
  {
   "cell_type": "code",
   "execution_count": 7,
   "id": "cac2b5f6-ab9f-468e-9b61-2e5d71ecaa86",
   "metadata": {},
   "outputs": [],
   "source": [
    "import time\n",
    "from time import perf_counter, sleep"
   ]
  },
  {
   "cell_type": "code",
   "execution_count": 8,
   "id": "dcb304b7-7717-48e1-b51c-75878ddfc27c",
   "metadata": {},
   "outputs": [
    {
     "name": "stdout",
     "output_type": "stream",
     "text": [
      "Elapsed: 3.00134804204572s\n"
     ]
    }
   ],
   "source": [
    "def my_func():\n",
    "    start_time = perf_counter()\n",
    "    sleep(3)\n",
    "    end_time = perf_counter()\n",
    "    print(f'Elapsed: {end_time - start_time}s')\n",
    "\n",
    "my_func()"
   ]
  },
  {
   "cell_type": "markdown",
   "id": "d08146b2-d1ee-436e-b179-cae2c3a18faa",
   "metadata": {},
   "source": [
    "### `gmtime`: returns a time object based on n seconds from epoch.\n",
    "###    - has properties tm_year, tm_mon, tm_day, tm_hour, tm_min, tm_sec\n",
    "###    - ignores fractional seconds"
   ]
  },
  {
   "cell_type": "code",
   "execution_count": 9,
   "id": "c587369f-1a67-40f0-9e3c-40a412356154",
   "metadata": {},
   "outputs": [
    {
     "name": "stdout",
     "output_type": "stream",
     "text": [
      "time.struct_time(tm_year=1970, tm_mon=1, tm_mday=1, tm_hour=0, tm_min=0, tm_sec=0, tm_wday=3, tm_yday=1, tm_isdst=0)\n"
     ]
    }
   ],
   "source": [
    "print(time.gmtime(0))"
   ]
  },
  {
   "cell_type": "code",
   "execution_count": 45,
   "id": "51eb6d36-88b5-4c54-8a5a-67da43211991",
   "metadata": {},
   "outputs": [
    {
     "name": "stdout",
     "output_type": "stream",
     "text": [
      "UTC: time.struct_time(tm_year=2025, tm_mon=10, tm_mday=19, tm_hour=20, tm_min=2, tm_sec=20, tm_wday=6, tm_yday=292, tm_isdst=0)\n",
      "Local: time.struct_time(tm_year=2025, tm_mon=10, tm_mday=19, tm_hour=21, tm_min=2, tm_sec=20, tm_wday=6, tm_yday=292, tm_isdst=1)\n"
     ]
    }
   ],
   "source": [
    "print(\"UTC:\", time.gmtime())\n",
    "print(\"Local:\", time.localtime())"
   ]
  },
  {
   "cell_type": "markdown",
   "id": "6121e179-9eeb-43cc-9de7-af02a1f192ad",
   "metadata": {},
   "source": [
    "### `time`: returns current time in n seconds from epoch."
   ]
  },
  {
   "cell_type": "code",
   "execution_count": 10,
   "id": "372bae63-9f26-417a-976a-e313d234a624",
   "metadata": {},
   "outputs": [
    {
     "data": {
      "text/plain": [
       "1760902742.391454"
      ]
     },
     "execution_count": 10,
     "metadata": {},
     "output_type": "execute_result"
    }
   ],
   "source": [
    "time.time()"
   ]
  },
  {
   "cell_type": "code",
   "execution_count": 38,
   "id": "a496d8d2-108c-4eff-a940-6cc996b527fe",
   "metadata": {},
   "outputs": [
    {
     "data": {
      "text/plain": [
       "(1760903938.7510982, float)"
      ]
     },
     "execution_count": 38,
     "metadata": {},
     "output_type": "execute_result"
    }
   ],
   "source": [
    "t = time.time()\n",
    "t, type(t)"
   ]
  },
  {
   "cell_type": "code",
   "execution_count": 42,
   "id": "50c6fa21-21c8-4104-9d60-764100052ff7",
   "metadata": {},
   "outputs": [
    {
     "name": "stdout",
     "output_type": "stream",
     "text": [
      "time.struct_time(tm_year=2025, tm_mon=10, tm_mday=19, tm_hour=20, tm_min=0, tm_sec=5, tm_wday=6, tm_yday=292, tm_isdst=0)\n",
      "<class 'time.struct_time'>\n",
      "2025 10\n"
     ]
    }
   ],
   "source": [
    "t = time.gmtime(time.time())\n",
    "print(t)\n",
    "print(type(t))\n",
    "print(t.tm_year, t.tm_mon)"
   ]
  },
  {
   "cell_type": "markdown",
   "id": "5f3fb00a-7d66-4f4a-99ef-d1844b6d9816",
   "metadata": {},
   "source": [
    "### `calendar.timegm(time_struct)`: does inverse, takes time_struct object and gives back n secs from epoch.\n",
    "###    - `timegm` is inverse of `gmtime` "
   ]
  },
  {
   "cell_type": "code",
   "execution_count": 43,
   "id": "1d433dda-0d7b-4e15-8998-4c42a9941dcc",
   "metadata": {},
   "outputs": [
    {
     "name": "stdout",
     "output_type": "stream",
     "text": [
      "time.struct_time(tm_year=1970, tm_mon=1, tm_mday=1, tm_hour=0, tm_min=0, tm_sec=0, tm_wday=3, tm_yday=1, tm_isdst=0)\n",
      "EPOCH: 0\n",
      "\n",
      "time.struct_time(tm_year=2025, tm_mon=10, tm_mday=19, tm_hour=20, tm_min=0, tm_sec=9, tm_wday=6, tm_yday=292, tm_isdst=0)\n",
      "EPOCH: 1760904009\n",
      "\n"
     ]
    }
   ],
   "source": [
    "import calendar\n",
    "\n",
    "t = time.gmtime(0)\n",
    "\n",
    "print(t)\n",
    "print(f'EPOCH: {calendar.timegm(t)}\\n')\n",
    "\n",
    "t = time.gmtime(time.time())\n",
    "\n",
    "print(t)\n",
    "print(f'EPOCH: {calendar.timegm(t)}\\n')"
   ]
  },
  {
   "cell_type": "markdown",
   "id": "a9dca692-2d10-401e-8517-213099eea22d",
   "metadata": {},
   "source": [
    "### `strftime(format, time_struct)`\n",
    "### - format is a string that contains special formatting directives"
   ]
  },
  {
   "cell_type": "code",
   "execution_count": 46,
   "id": "1457b729-80f0-42ce-8bf5-d32745ddf725",
   "metadata": {},
   "outputs": [
    {
     "data": {
      "text/plain": [
       "'Sunday, 2025-Oct-19T20:04:23 +0000'"
      ]
     },
     "execution_count": 46,
     "metadata": {},
     "output_type": "execute_result"
    }
   ],
   "source": [
    "t = time.gmtime(time.time())\n",
    "time.strftime(\"%A, %Y-%b-%dT%H:%M:%S %z\", t)"
   ]
  },
  {
   "cell_type": "markdown",
   "id": "3e4bf7e0-24f2-45b4-95ab-014977fa74a6",
   "metadata": {},
   "source": [
    "### `time.strptime(date_string, format)`\n",
    "###  - Prase string to an epoch time "
   ]
  },
  {
   "cell_type": "code",
   "execution_count": 50,
   "id": "05bc8891-fb42-4959-bcb0-013f10d015e7",
   "metadata": {},
   "outputs": [
    {
     "data": {
      "text/plain": [
       "time.struct_time(tm_year=2020, tm_mon=4, tm_mday=18, tm_hour=23, tm_min=37, tm_sec=2, tm_wday=5, tm_yday=109, tm_isdst=-1)"
      ]
     },
     "execution_count": 50,
     "metadata": {},
     "output_type": "execute_result"
    }
   ],
   "source": [
    "s = \"04/18/2020 11:37:02 PM\"\n",
    "time.strptime(s, \"%m/%d/%Y %I:%M:%S %p\")"
   ]
  },
  {
   "cell_type": "markdown",
   "id": "b015bff2-33ef-4de7-a59a-af09a9089a93",
   "metadata": {},
   "source": [
    "# DATETIME Module\n",
    "1. uses `time` module internally which is a bit low-level library\n",
    "2. isolates us from epoch times and provides abstraction.\n",
    "3. has handly data types (classes)\n",
    "    - date\n",
    "    - time\n",
    "    - datetime\n",
    "    - timedelta\n",
    "    - timezone "
   ]
  },
  {
   "cell_type": "code",
   "execution_count": 51,
   "id": "b183c632-ca14-441a-8487-6ac0f79975f0",
   "metadata": {},
   "outputs": [],
   "source": [
    "import datetime"
   ]
  },
  {
   "cell_type": "markdown",
   "id": "719096ba-f479-4e89-bddd-64b6d09615d1",
   "metadata": {},
   "source": [
    "### datetime.date"
   ]
  },
  {
   "cell_type": "code",
   "execution_count": 55,
   "id": "91179600-c8ad-470f-b02c-54a40271c801",
   "metadata": {},
   "outputs": [
    {
     "name": "stdout",
     "output_type": "stream",
     "text": [
      "<class 'datetime.date'>\n",
      "2020-01-26\n"
     ]
    }
   ],
   "source": [
    "d = datetime.date(2020, 1, 26)\n",
    "print(type(d))\n",
    "print(d)"
   ]
  },
  {
   "cell_type": "code",
   "execution_count": 56,
   "id": "103baf05-d0b9-41c4-b334-ca980f3dc35e",
   "metadata": {},
   "outputs": [
    {
     "data": {
      "text/plain": [
       "['__add__',\n",
       " '__class__',\n",
       " '__delattr__',\n",
       " '__dir__',\n",
       " '__doc__',\n",
       " '__eq__',\n",
       " '__format__',\n",
       " '__ge__',\n",
       " '__getattribute__',\n",
       " '__getstate__',\n",
       " '__gt__',\n",
       " '__hash__',\n",
       " '__init__',\n",
       " '__init_subclass__',\n",
       " '__le__',\n",
       " '__lt__',\n",
       " '__ne__',\n",
       " '__new__',\n",
       " '__radd__',\n",
       " '__reduce__',\n",
       " '__reduce_ex__',\n",
       " '__replace__',\n",
       " '__repr__',\n",
       " '__rsub__',\n",
       " '__setattr__',\n",
       " '__sizeof__',\n",
       " '__str__',\n",
       " '__sub__',\n",
       " '__subclasshook__',\n",
       " 'ctime',\n",
       " 'day',\n",
       " 'fromisocalendar',\n",
       " 'fromisoformat',\n",
       " 'fromordinal',\n",
       " 'fromtimestamp',\n",
       " 'isocalendar',\n",
       " 'isoformat',\n",
       " 'isoweekday',\n",
       " 'max',\n",
       " 'min',\n",
       " 'month',\n",
       " 'replace',\n",
       " 'resolution',\n",
       " 'strftime',\n",
       " 'timetuple',\n",
       " 'today',\n",
       " 'toordinal',\n",
       " 'weekday',\n",
       " 'year']"
      ]
     },
     "execution_count": 56,
     "metadata": {},
     "output_type": "execute_result"
    }
   ],
   "source": [
    "dir(d)"
   ]
  },
  {
   "cell_type": "code",
   "execution_count": 61,
   "id": "9abf3f9c-d10a-418b-861e-02a8c502c1b5",
   "metadata": {},
   "outputs": [
    {
     "data": {
      "text/plain": [
       "(2020, 26, 1)"
      ]
     },
     "execution_count": 61,
     "metadata": {},
     "output_type": "execute_result"
    }
   ],
   "source": [
    "d.year, d.day, d.month"
   ]
  },
  {
   "cell_type": "code",
   "execution_count": 67,
   "id": "4cd09658-3750-44c4-bbda-b1fed535af90",
   "metadata": {},
   "outputs": [
    {
     "data": {
      "text/plain": [
       "datetime.date(2025, 10, 19)"
      ]
     },
     "execution_count": 67,
     "metadata": {},
     "output_type": "execute_result"
    }
   ],
   "source": [
    "datetime.date.today() # gives LOCAL date not UTC!"
   ]
  },
  {
   "cell_type": "code",
   "execution_count": 73,
   "id": "e9f6fd3d-cc5a-4a52-8b98-dc5b332004ce",
   "metadata": {},
   "outputs": [
    {
     "name": "stdout",
     "output_type": "stream",
     "text": [
      "1760905657.245428\n"
     ]
    },
    {
     "data": {
      "text/plain": [
       "datetime.date(2025, 10, 19)"
      ]
     },
     "execution_count": 73,
     "metadata": {},
     "output_type": "execute_result"
    }
   ],
   "source": [
    "print(time.time())\n",
    "datetime.date.fromtimestamp(time.time())"
   ]
  },
  {
   "cell_type": "code",
   "execution_count": 74,
   "id": "20bd2b58-dbfc-4fd3-b1cd-340af1230539",
   "metadata": {},
   "outputs": [
    {
     "data": {
      "text/plain": [
       "datetime.date(2020, 12, 31)"
      ]
     },
     "execution_count": 74,
     "metadata": {},
     "output_type": "execute_result"
    }
   ],
   "source": [
    "datetime.date.fromisoformat('2020-12-31')"
   ]
  },
  {
   "cell_type": "code",
   "execution_count": 79,
   "id": "7a376a6b-a188-4fcf-b48e-376fc0e56315",
   "metadata": {},
   "outputs": [
    {
     "name": "stdout",
     "output_type": "stream",
     "text": [
      "2020-01-26\n"
     ]
    },
    {
     "data": {
      "text/plain": [
       "'2020-01-26'"
      ]
     },
     "execution_count": 79,
     "metadata": {},
     "output_type": "execute_result"
    }
   ],
   "source": [
    "dt = datetime.date(2020, 1, 26)\n",
    "print(dt)\n",
    "dt.isoformat()"
   ]
  },
  {
   "cell_type": "code",
   "execution_count": 68,
   "id": "f0197f36-8f0f-4121-a649-75c08a8b6f62",
   "metadata": {},
   "outputs": [
    {
     "data": {
      "text/plain": [
       "datetime.timedelta(days=1)"
      ]
     },
     "execution_count": 68,
     "metadata": {},
     "output_type": "execute_result"
    }
   ],
   "source": [
    "d.resolution"
   ]
  },
  {
   "cell_type": "markdown",
   "id": "225499d3-bc87-4b16-9329-c9aff6246bcb",
   "metadata": {},
   "source": [
    "### datetime.time"
   ]
  },
  {
   "cell_type": "code",
   "execution_count": 81,
   "id": "9c2430de-c1e6-4d4d-a5f5-e3f95f48034d",
   "metadata": {},
   "outputs": [
    {
     "data": {
      "text/plain": [
       "(datetime.time(15, 30, 45, 135), datetime.time)"
      ]
     },
     "execution_count": 81,
     "metadata": {},
     "output_type": "execute_result"
    }
   ],
   "source": [
    "t = datetime.time(15, 30, 45, 135)\n",
    "t, type(t)"
   ]
  },
  {
   "cell_type": "code",
   "execution_count": 82,
   "id": "b1bca63c-5aeb-46d9-bb23-d01bb7a87312",
   "metadata": {},
   "outputs": [
    {
     "data": {
      "text/plain": [
       "'15:30:45.000135'"
      ]
     },
     "execution_count": 82,
     "metadata": {},
     "output_type": "execute_result"
    }
   ],
   "source": [
    "t.isoformat()"
   ]
  },
  {
   "cell_type": "code",
   "execution_count": 85,
   "id": "7c0c69b9-8be1-4c32-8c0d-b75776f0c16e",
   "metadata": {},
   "outputs": [
    {
     "data": {
      "text/plain": [
       "datetime.time(13, 34, 30, 123000)"
      ]
     },
     "execution_count": 85,
     "metadata": {},
     "output_type": "execute_result"
    }
   ],
   "source": [
    "# microseconds can be either 3 or 6 digits not anything else !\n",
    "t = datetime.time.fromisoformat('13:34:30.123')\n",
    "t"
   ]
  },
  {
   "cell_type": "code",
   "execution_count": 86,
   "id": "aed6e306-769f-4431-8895-20ec70670acb",
   "metadata": {},
   "outputs": [
    {
     "data": {
      "text/plain": [
       "(13, 34, 30, 123000)"
      ]
     },
     "execution_count": 86,
     "metadata": {},
     "output_type": "execute_result"
    }
   ],
   "source": [
    "t.hour, t.minute, t.second, t.microsecond"
   ]
  },
  {
   "cell_type": "markdown",
   "id": "ce8b7e64-f2d2-4582-aaf7-da041a3b1835",
   "metadata": {},
   "source": [
    "### datetime.datetime"
   ]
  },
  {
   "cell_type": "code",
   "execution_count": 89,
   "id": "0655a16f-9864-4372-8666-c92500578d91",
   "metadata": {},
   "outputs": [
    {
     "data": {
      "text/plain": [
       "(datetime.datetime, datetime.datetime(1985, 1, 26, 13, 30, 45, 123))"
      ]
     },
     "execution_count": 89,
     "metadata": {},
     "output_type": "execute_result"
    }
   ],
   "source": [
    "dt = datetime.datetime(1985, 1, 26, 13, 30, 45, 123)\n",
    "type(dt), dt"
   ]
  },
  {
   "cell_type": "code",
   "execution_count": 90,
   "id": "5ee68f8f-cefe-48c3-98b7-3ddd3d897b10",
   "metadata": {},
   "outputs": [
    {
     "data": {
      "text/plain": [
       "(1985, 13)"
      ]
     },
     "execution_count": 90,
     "metadata": {},
     "output_type": "execute_result"
    }
   ],
   "source": [
    "dt.year, dt.hour"
   ]
  },
  {
   "cell_type": "code",
   "execution_count": 91,
   "id": "d953a87b-e144-4457-b8f7-3474a0e626fb",
   "metadata": {},
   "outputs": [
    {
     "data": {
      "text/plain": [
       "'1985-01-26T13:30:45.000123'"
      ]
     },
     "execution_count": 91,
     "metadata": {},
     "output_type": "execute_result"
    }
   ],
   "source": [
    "dt.isoformat()"
   ]
  },
  {
   "cell_type": "code",
   "execution_count": 92,
   "id": "ebe2d8c4-462f-469f-ad15-236c48ed16cd",
   "metadata": {},
   "outputs": [
    {
     "data": {
      "text/plain": [
       "datetime.datetime(1985, 1, 26, 13, 30, 45, 123)"
      ]
     },
     "execution_count": 92,
     "metadata": {},
     "output_type": "execute_result"
    }
   ],
   "source": [
    "dt = datetime.datetime.fromisoformat('1985-01-26T13:30:45.000123')\n",
    "dt"
   ]
  },
  {
   "cell_type": "code",
   "execution_count": 93,
   "id": "2f692935-d586-437d-8bd7-a4725a164468",
   "metadata": {},
   "outputs": [
    {
     "data": {
      "text/plain": [
       "['__add__',\n",
       " '__class__',\n",
       " '__delattr__',\n",
       " '__dir__',\n",
       " '__doc__',\n",
       " '__eq__',\n",
       " '__format__',\n",
       " '__ge__',\n",
       " '__getattribute__',\n",
       " '__getstate__',\n",
       " '__gt__',\n",
       " '__hash__',\n",
       " '__init__',\n",
       " '__init_subclass__',\n",
       " '__le__',\n",
       " '__lt__',\n",
       " '__ne__',\n",
       " '__new__',\n",
       " '__radd__',\n",
       " '__reduce__',\n",
       " '__reduce_ex__',\n",
       " '__replace__',\n",
       " '__repr__',\n",
       " '__rsub__',\n",
       " '__setattr__',\n",
       " '__sizeof__',\n",
       " '__str__',\n",
       " '__sub__',\n",
       " '__subclasshook__',\n",
       " 'astimezone',\n",
       " 'combine',\n",
       " 'ctime',\n",
       " 'date',\n",
       " 'day',\n",
       " 'dst',\n",
       " 'fold',\n",
       " 'fromisocalendar',\n",
       " 'fromisoformat',\n",
       " 'fromordinal',\n",
       " 'fromtimestamp',\n",
       " 'hour',\n",
       " 'isocalendar',\n",
       " 'isoformat',\n",
       " 'isoweekday',\n",
       " 'max',\n",
       " 'microsecond',\n",
       " 'min',\n",
       " 'minute',\n",
       " 'month',\n",
       " 'now',\n",
       " 'replace',\n",
       " 'resolution',\n",
       " 'second',\n",
       " 'strftime',\n",
       " 'strptime',\n",
       " 'time',\n",
       " 'timestamp',\n",
       " 'timetuple',\n",
       " 'timetz',\n",
       " 'today',\n",
       " 'toordinal',\n",
       " 'tzinfo',\n",
       " 'tzname',\n",
       " 'utcfromtimestamp',\n",
       " 'utcnow',\n",
       " 'utcoffset',\n",
       " 'utctimetuple',\n",
       " 'weekday',\n",
       " 'year']"
      ]
     },
     "execution_count": 93,
     "metadata": {},
     "output_type": "execute_result"
    }
   ],
   "source": [
    "dir(datetime.datetime)"
   ]
  },
  {
   "cell_type": "code",
   "execution_count": 100,
   "id": "fcc1a08e-6edb-4f1b-becd-6cc383a117d5",
   "metadata": {},
   "outputs": [
    {
     "name": "stdout",
     "output_type": "stream",
     "text": [
      "UTC: 2025-10-19 20:36:46.994815\n",
      "LOCAL: 2025-10-19 21:36:46.995017\n"
     ]
    },
    {
     "name": "stderr",
     "output_type": "stream",
     "text": [
      "/var/folders/lp/7jt9d_5x7g106b7mc39v5nlh0000gn/T/ipykernel_1671/2351858004.py:1: DeprecationWarning: datetime.datetime.utcnow() is deprecated and scheduled for removal in a future version. Use timezone-aware objects to represent datetimes in UTC: datetime.datetime.now(datetime.UTC).\n",
      "  print(\"UTC:\", datetime.datetime.utcnow())\n"
     ]
    }
   ],
   "source": [
    "print(\"UTC:\", datetime.datetime.utcnow())\n",
    "print(\"LOCAL:\", datetime.datetime.now())"
   ]
  },
  {
   "cell_type": "code",
   "execution_count": 101,
   "id": "2abfdf2a-75e7-493b-adb6-7c691dc84652",
   "metadata": {},
   "outputs": [
    {
     "name": "stdout",
     "output_type": "stream",
     "text": [
      "Help on built-in function now:\n",
      "\n",
      "now(tz=None) class method of datetime.datetime\n",
      "    Returns new datetime object representing current time local to tz.\n",
      "\n",
      "      tz\n",
      "        Timezone object.\n",
      "\n",
      "    If no tz is specified, uses local timezone.\n",
      "\n"
     ]
    }
   ],
   "source": [
    "help(datetime.datetime.now)"
   ]
  },
  {
   "cell_type": "code",
   "execution_count": 103,
   "id": "f99061ad-6da1-4fd9-9534-09c741d85e69",
   "metadata": {},
   "outputs": [
    {
     "data": {
      "text/plain": [
       "datetime.datetime(2025, 10, 19, 20, 37, 58, 279678, tzinfo=datetime.timezone.utc)"
      ]
     },
     "execution_count": 103,
     "metadata": {},
     "output_type": "execute_result"
    }
   ],
   "source": [
    "datetime.datetime.now(datetime.UTC)"
   ]
  },
  {
   "cell_type": "code",
   "execution_count": 105,
   "id": "4fabc631-d6d4-4f0a-ae58-b0ed1edb423f",
   "metadata": {},
   "outputs": [
    {
     "data": {
      "text/plain": [
       "'2025-10-19T20:39:23.730090+00:00'"
      ]
     },
     "execution_count": 105,
     "metadata": {},
     "output_type": "execute_result"
    }
   ],
   "source": [
    "dt = datetime.datetime.now(datetime.UTC)\n",
    "dt.isoformat()"
   ]
  },
  {
   "cell_type": "code",
   "execution_count": 106,
   "id": "c415df59-bbf2-4bae-903e-bd937ee66384",
   "metadata": {},
   "outputs": [],
   "source": [
    "s = '2025-10-20T02:18:00+05:30'\n",
    "dt = datetime.datetime.fromisoformat(s)"
   ]
  },
  {
   "cell_type": "code",
   "execution_count": 108,
   "id": "0da2336d-328d-4f24-963a-434fc67e9d1b",
   "metadata": {},
   "outputs": [
    {
     "data": {
      "text/plain": [
       "datetime.datetime(2025, 10, 20, 2, 18, tzinfo=datetime.timezone(datetime.timedelta(seconds=19800)))"
      ]
     },
     "execution_count": 108,
     "metadata": {},
     "output_type": "execute_result"
    }
   ],
   "source": [
    "dt #notice timedelta - this is not converted to UTC but a timedelta is added"
   ]
  },
  {
   "cell_type": "markdown",
   "id": "5d437685-14ed-488f-a0f1-2b0333ffd69d",
   "metadata": {},
   "source": [
    "### datetime.timedelta"
   ]
  },
  {
   "cell_type": "code",
   "execution_count": 113,
   "id": "ae0bf932-1b66-438d-bb89-e0aeae78d9bb",
   "metadata": {},
   "outputs": [
    {
     "data": {
      "text/plain": [
       "(datetime.timedelta, datetime.timedelta(seconds=78892, microseconds=435164))"
      ]
     },
     "execution_count": 113,
     "metadata": {},
     "output_type": "execute_result"
    }
   ],
   "source": [
    "dt1 = datetime.datetime.now()\n",
    "dt2 = datetime.datetime.fromisoformat('2025-10-19T00:00:00')\n",
    "\n",
    "td = dt1 - dt2\n",
    "\n",
    "type(td), td"
   ]
  },
  {
   "cell_type": "code",
   "execution_count": 114,
   "id": "08a36b9a-1486-43d1-81d8-a5fa53982d4b",
   "metadata": {},
   "outputs": [
    {
     "data": {
      "text/plain": [
       "(datetime.datetime(2025, 10, 19, 21, 54, 52, 435164),\n",
       " datetime.datetime(2025, 10, 19, 0, 0))"
      ]
     },
     "execution_count": 114,
     "metadata": {},
     "output_type": "execute_result"
    }
   ],
   "source": [
    "dt1, dt2"
   ]
  },
  {
   "cell_type": "code",
   "execution_count": 116,
   "id": "e5b17938-9c2d-4fcd-bb54-3a95b6216ca4",
   "metadata": {},
   "outputs": [
    {
     "data": {
      "text/plain": [
       "78892"
      ]
     },
     "execution_count": 116,
     "metadata": {},
     "output_type": "execute_result"
    }
   ],
   "source": [
    "# calculation for seconds in timedelta object, also see microseconds\n",
    "(21*60*60) + (54*60) + 52"
   ]
  },
  {
   "cell_type": "code",
   "execution_count": 120,
   "id": "77c8df8e-2065-48de-9427-ae95c95ecb39",
   "metadata": {},
   "outputs": [
    {
     "data": {
      "text/plain": [
       "['days',\n",
       " 'max',\n",
       " 'microseconds',\n",
       " 'min',\n",
       " 'resolution',\n",
       " 'seconds',\n",
       " 'total_seconds']"
      ]
     },
     "execution_count": 120,
     "metadata": {},
     "output_type": "execute_result"
    }
   ],
   "source": [
    "[x for x in dir(td) if not x.startswith(\"__\")]"
   ]
  },
  {
   "cell_type": "code",
   "execution_count": 122,
   "id": "5b66b3d3-57e0-4e5b-b05a-c1ffb5519024",
   "metadata": {},
   "outputs": [
    {
     "data": {
      "text/plain": [
       "78892.435164"
      ]
     },
     "execution_count": 122,
     "metadata": {},
     "output_type": "execute_result"
    }
   ],
   "source": [
    "td.total_seconds()"
   ]
  },
  {
   "cell_type": "code",
   "execution_count": 124,
   "id": "85625c87-5b4f-404e-a2fc-90e75841bd1a",
   "metadata": {},
   "outputs": [
    {
     "data": {
      "text/plain": [
       "0"
      ]
     },
     "execution_count": 124,
     "metadata": {},
     "output_type": "execute_result"
    }
   ],
   "source": [
    "td.days"
   ]
  },
  {
   "cell_type": "code",
   "execution_count": 125,
   "id": "a1298e8b-b69d-4cf3-ba1f-27f44447c3b9",
   "metadata": {},
   "outputs": [
    {
     "data": {
      "text/plain": [
       "78892"
      ]
     },
     "execution_count": 125,
     "metadata": {},
     "output_type": "execute_result"
    }
   ],
   "source": [
    "td.seconds"
   ]
  },
  {
   "cell_type": "code",
   "execution_count": 127,
   "id": "a4c19e8f-0fe2-443b-a593-3db73d6fac90",
   "metadata": {},
   "outputs": [
    {
     "data": {
      "text/plain": [
       "\u001b[31mInit signature:\u001b[39m  datetime.timedelta(self, /, *args, **kwargs)\n",
       "\u001b[31mDocstring:\u001b[39m     \n",
       "Difference between two datetime values.\n",
       "\n",
       "timedelta(days=0, seconds=0, microseconds=0, milliseconds=0, minutes=0, hours=0, weeks=0)\n",
       "\n",
       "All arguments are optional and default to 0.\n",
       "Arguments may be integers or floats, and may be positive or negative.\n",
       "\u001b[31mFile:\u001b[39m           /opt/homebrew/Cellar/python@3.13/3.13.7/Frameworks/Python.framework/Versions/3.13/lib/python3.13/datetime.py\n",
       "\u001b[31mType:\u001b[39m           type\n",
       "\u001b[31mSubclasses:\u001b[39m     "
      ]
     },
     "metadata": {},
     "output_type": "display_data"
    }
   ],
   "source": [
    "? datetime.timedelta"
   ]
  },
  {
   "cell_type": "code",
   "execution_count": 128,
   "id": "e1a11686-b300-4b4c-b78c-15dfd6aaf352",
   "metadata": {},
   "outputs": [
    {
     "data": {
      "text/plain": [
       "datetime.timedelta(seconds=9000)"
      ]
     },
     "execution_count": 128,
     "metadata": {},
     "output_type": "execute_result"
    }
   ],
   "source": [
    "td = datetime.timedelta(hours=2, minutes=30)\n",
    "td"
   ]
  },
  {
   "cell_type": "code",
   "execution_count": 131,
   "id": "b912bef3-bc4f-41ed-a424-c5d803286da0",
   "metadata": {},
   "outputs": [
    {
     "data": {
      "text/plain": [
       "(datetime.datetime(2025, 10, 19, 0, 0), datetime.timedelta(seconds=9000))"
      ]
     },
     "execution_count": 131,
     "metadata": {},
     "output_type": "execute_result"
    }
   ],
   "source": [
    "dt = datetime.datetime.fromisoformat('2025-10-19')\n",
    "td = datetime.timedelta(hours=2, minutes=30)\n",
    "\n",
    "dt , td"
   ]
  },
  {
   "cell_type": "code",
   "execution_count": 132,
   "id": "3efa594a-1efb-49eb-b0ad-70ba15b03121",
   "metadata": {},
   "outputs": [
    {
     "data": {
      "text/plain": [
       "datetime.datetime(2025, 10, 19, 2, 30)"
      ]
     },
     "execution_count": 132,
     "metadata": {},
     "output_type": "execute_result"
    }
   ],
   "source": [
    "dt + td"
   ]
  },
  {
   "cell_type": "markdown",
   "id": "40c4e97d-565b-4f47-a7f8-05604c9b560d",
   "metadata": {},
   "source": [
    "### datetime.timezone: `Naïve` and `aware` times\n",
    "1. class to define a time zone\n",
    "2. name is optional\n",
    "3. defines offset ot UTC as a timedelta object"
   ]
  },
  {
   "cell_type": "code",
   "execution_count": 135,
   "id": "3582ed9f-6ed7-4392-aec2-a8fe7a65e26b",
   "metadata": {},
   "outputs": [],
   "source": [
    "tz_BRK = datetime.timezone(datetime.timedelta(hours=-1), 'BRK')"
   ]
  },
  {
   "cell_type": "code",
   "execution_count": 136,
   "id": "4647a7e1-745d-4670-9938-461f32529ac7",
   "metadata": {},
   "outputs": [
    {
     "data": {
      "text/plain": [
       "datetime.timezone(datetime.timedelta(days=-1, seconds=82800), 'BRK')"
      ]
     },
     "execution_count": 136,
     "metadata": {},
     "output_type": "execute_result"
    }
   ],
   "source": [
    "tz_BRK"
   ]
  },
  {
   "cell_type": "code",
   "execution_count": 137,
   "id": "596f1533-3d94-4c1b-af34-51343f8afcb1",
   "metadata": {},
   "outputs": [
    {
     "data": {
      "text/plain": [
       "datetime.timezone"
      ]
     },
     "execution_count": 137,
     "metadata": {},
     "output_type": "execute_result"
    }
   ],
   "source": [
    "type(tz_BRK)"
   ]
  },
  {
   "cell_type": "code",
   "execution_count": 139,
   "id": "fd49c419-0327-47d2-b27e-0f74f7b61793",
   "metadata": {},
   "outputs": [
    {
     "data": {
      "text/plain": [
       "\u001b[31mInit signature:\u001b[39m  datetime.datetime(self, /, *args, **kwargs)\n",
       "\u001b[31mDocstring:\u001b[39m     \n",
       "datetime(year, month, day[, hour[, minute[, second[, microsecond[,tzinfo]]]]])\n",
       "\n",
       "The year, month and day arguments are required. tzinfo may be None, or an\n",
       "instance of a tzinfo subclass. The remaining arguments may be ints.\n",
       "\u001b[31mFile:\u001b[39m           /opt/homebrew/Cellar/python@3.13/3.13.7/Frameworks/Python.framework/Versions/3.13/lib/python3.13/datetime.py\n",
       "\u001b[31mType:\u001b[39m           type\n",
       "\u001b[31mSubclasses:\u001b[39m     "
      ]
     },
     "metadata": {},
     "output_type": "display_data"
    }
   ],
   "source": [
    "? datetime.datetime"
   ]
  },
  {
   "cell_type": "code",
   "execution_count": 141,
   "id": "25b8f811-310a-44db-b8bb-266caa037302",
   "metadata": {},
   "outputs": [
    {
     "data": {
      "text/plain": [
       "datetime.datetime(2025, 10, 19, 20, 30, tzinfo=datetime.timezone(datetime.timedelta(days=-1, seconds=82800), 'BRK'))"
      ]
     },
     "execution_count": 141,
     "metadata": {},
     "output_type": "execute_result"
    }
   ],
   "source": [
    "dt = datetime.datetime(2025, 10, 19, 20, 30, 0, 0, tzinfo=tz_BRK)\n",
    "dt"
   ]
  },
  {
   "cell_type": "markdown",
   "id": "61775788-7fa3-40fc-86b9-2de0f7739227",
   "metadata": {},
   "source": [
    "### converting from one timezone to another one"
   ]
  },
  {
   "cell_type": "code",
   "execution_count": 144,
   "id": "44e4da68-3633-4b5e-9f1e-76aca7f898e9",
   "metadata": {},
   "outputs": [
    {
     "data": {
      "text/plain": [
       "datetime.datetime(2025, 10, 19, 21, 30, tzinfo=datetime.timezone.utc)"
      ]
     },
     "execution_count": 144,
     "metadata": {},
     "output_type": "execute_result"
    }
   ],
   "source": [
    "dt.astimezone(datetime.timezone.utc)"
   ]
  },
  {
   "cell_type": "markdown",
   "id": "a0ebb0f6-5fe2-4278-bc55-05078bc1a122",
   "metadata": {},
   "source": [
    "### converting this to naive datetime object \n",
    "### should be done only after converting the object to UTC timezone"
   ]
  },
  {
   "cell_type": "code",
   "execution_count": 145,
   "id": "791def36-b343-41c8-832b-96b8da25271c",
   "metadata": {},
   "outputs": [
    {
     "data": {
      "text/plain": [
       "datetime.datetime(2023, 10, 19, 20, 30, tzinfo=datetime.timezone(datetime.timedelta(seconds=19800)))"
      ]
     },
     "execution_count": 145,
     "metadata": {},
     "output_type": "execute_result"
    }
   ],
   "source": [
    "dt = datetime.datetime.fromisoformat('2023-10-19T20:30:00+05:30')\n",
    "dt"
   ]
  },
  {
   "cell_type": "code",
   "execution_count": 147,
   "id": "f611ae05-0cbe-45d4-b657-c597cadc0bc9",
   "metadata": {},
   "outputs": [
    {
     "data": {
      "text/plain": [
       "datetime.datetime(2023, 10, 19, 15, 0, tzinfo=datetime.timezone.utc)"
      ]
     },
     "execution_count": 147,
     "metadata": {},
     "output_type": "execute_result"
    }
   ],
   "source": [
    "dt_utc = dt.astimezone(datetime.UTC)\n",
    "dt_utc"
   ]
  },
  {
   "cell_type": "code",
   "execution_count": 148,
   "id": "39636529-afaa-4d72-b472-82dce5d4f6d3",
   "metadata": {},
   "outputs": [
    {
     "data": {
      "text/plain": [
       "datetime.datetime(2023, 10, 19, 15, 0)"
      ]
     },
     "execution_count": 148,
     "metadata": {},
     "output_type": "execute_result"
    }
   ],
   "source": [
    "dt_naive = dt_utc.replace(tzinfo=None)\n",
    "dt_naive"
   ]
  },
  {
   "cell_type": "markdown",
   "id": "1d6afb7f-0cc4-4e43-a0a6-baad773b4cc0",
   "metadata": {},
   "source": [
    "### replace can be used to replace anything from a date, time or datetime"
   ]
  },
  {
   "cell_type": "code",
   "execution_count": 150,
   "id": "1eca8c73-1332-42b6-ad24-9296ca44ea13",
   "metadata": {},
   "outputs": [
    {
     "data": {
      "text/plain": [
       "datetime.datetime(2023, 10, 19, 20, 30, tzinfo=datetime.timezone(datetime.timedelta(seconds=19800)))"
      ]
     },
     "execution_count": 150,
     "metadata": {},
     "output_type": "execute_result"
    }
   ],
   "source": [
    "dt"
   ]
  },
  {
   "cell_type": "code",
   "execution_count": 153,
   "id": "7ef9867e-d897-471b-8b96-346e5e8516b0",
   "metadata": {},
   "outputs": [
    {
     "data": {
      "text/plain": [
       "datetime.datetime(2020, 10, 19, 2, 30, tzinfo=datetime.timezone(datetime.timedelta(seconds=19800)))"
      ]
     },
     "execution_count": 153,
     "metadata": {},
     "output_type": "execute_result"
    }
   ],
   "source": [
    "dt.replace(year=2020, hour=2)"
   ]
  },
  {
   "cell_type": "markdown",
   "id": "c5ec2173-90ee-4d90-bdaf-893215fdb9e3",
   "metadata": {},
   "source": [
    "# PYTZ Library"
   ]
  },
  {
   "cell_type": "markdown",
   "id": "48976f7b-3fbb-47e7-8b36-2e8606f09f6b",
   "metadata": {},
   "source": [
    "### Needed to tackle DST (DayLight Saving) mess\n",
    "1. Implements the Olson (or IANA) database\n",
    "2. Supports DST calcs natively\n",
    "3. uniform naming convention\n",
    "4. goes back to 1970 for DST calcs"
   ]
  },
  {
   "cell_type": "code",
   "execution_count": 155,
   "id": "ef773d75-a4ae-4d55-a89c-b7439af258fd",
   "metadata": {},
   "outputs": [],
   "source": [
    "import pytz"
   ]
  },
  {
   "cell_type": "code",
   "execution_count": 170,
   "id": "5bf97cf0-07d2-45e0-98c9-610bba9d62c4",
   "metadata": {},
   "outputs": [
    {
     "data": {
      "text/plain": [
       "['Africa/Abidjan',\n",
       " 'Africa/Accra',\n",
       " 'Africa/Addis_Ababa',\n",
       " 'Africa/Algiers',\n",
       " 'Africa/Asmara',\n",
       " 'Africa/Asmera',\n",
       " 'Africa/Bamako',\n",
       " 'Africa/Bangui',\n",
       " 'Africa/Banjul',\n",
       " 'Africa/Bissau',\n",
       " 'Africa/Blantyre',\n",
       " 'Africa/Brazzaville',\n",
       " 'Africa/Bujumbura',\n",
       " 'Africa/Cairo',\n",
       " 'Africa/Casablanca',\n",
       " 'Africa/Ceuta',\n",
       " 'Africa/Conakry',\n",
       " 'Africa/Dakar',\n",
       " 'Africa/Dar_es_Salaam',\n",
       " 'Africa/Djibouti',\n",
       " 'Africa/Douala',\n",
       " 'Africa/El_Aaiun',\n",
       " 'Africa/Freetown',\n",
       " 'Africa/Gaborone',\n",
       " 'Africa/Harare',\n",
       " 'Africa/Johannesburg',\n",
       " 'Africa/Juba',\n",
       " 'Africa/Kampala',\n",
       " 'Africa/Khartoum',\n",
       " 'Africa/Kigali',\n",
       " 'Africa/Kinshasa',\n",
       " 'Africa/Lagos',\n",
       " 'Africa/Libreville',\n",
       " 'Africa/Lome',\n",
       " 'Africa/Luanda',\n",
       " 'Africa/Lubumbashi',\n",
       " 'Africa/Lusaka',\n",
       " 'Africa/Malabo',\n",
       " 'Africa/Maputo',\n",
       " 'Africa/Maseru',\n",
       " 'Africa/Mbabane',\n",
       " 'Africa/Mogadishu',\n",
       " 'Africa/Monrovia',\n",
       " 'Africa/Nairobi',\n",
       " 'Africa/Ndjamena',\n",
       " 'Africa/Niamey',\n",
       " 'Africa/Nouakchott',\n",
       " 'Africa/Ouagadougou',\n",
       " 'Africa/Porto-Novo',\n",
       " 'Africa/Sao_Tome',\n",
       " 'Africa/Timbuktu',\n",
       " 'Africa/Tripoli',\n",
       " 'Africa/Tunis',\n",
       " 'Africa/Windhoek',\n",
       " 'America/Adak',\n",
       " 'America/Anchorage',\n",
       " 'America/Anguilla',\n",
       " 'America/Antigua',\n",
       " 'America/Araguaina',\n",
       " 'America/Argentina/Buenos_Aires',\n",
       " 'America/Argentina/Catamarca',\n",
       " 'America/Argentina/ComodRivadavia',\n",
       " 'America/Argentina/Cordoba',\n",
       " 'America/Argentina/Jujuy',\n",
       " 'America/Argentina/La_Rioja',\n",
       " 'America/Argentina/Mendoza',\n",
       " 'America/Argentina/Rio_Gallegos',\n",
       " 'America/Argentina/Salta',\n",
       " 'America/Argentina/San_Juan',\n",
       " 'America/Argentina/San_Luis',\n",
       " 'America/Argentina/Tucuman',\n",
       " 'America/Argentina/Ushuaia',\n",
       " 'America/Aruba',\n",
       " 'America/Asuncion',\n",
       " 'America/Atikokan',\n",
       " 'America/Atka',\n",
       " 'America/Bahia',\n",
       " 'America/Bahia_Banderas',\n",
       " 'America/Barbados',\n",
       " 'America/Belem',\n",
       " 'America/Belize',\n",
       " 'America/Blanc-Sablon',\n",
       " 'America/Boa_Vista',\n",
       " 'America/Bogota',\n",
       " 'America/Boise',\n",
       " 'America/Buenos_Aires',\n",
       " 'America/Cambridge_Bay',\n",
       " 'America/Campo_Grande',\n",
       " 'America/Cancun',\n",
       " 'America/Caracas',\n",
       " 'America/Catamarca',\n",
       " 'America/Cayenne',\n",
       " 'America/Cayman',\n",
       " 'America/Chicago',\n",
       " 'America/Chihuahua',\n",
       " 'America/Ciudad_Juarez',\n",
       " 'America/Coral_Harbour',\n",
       " 'America/Cordoba',\n",
       " 'America/Costa_Rica',\n",
       " 'America/Coyhaique',\n",
       " 'America/Creston',\n",
       " 'America/Cuiaba',\n",
       " 'America/Curacao',\n",
       " 'America/Danmarkshavn',\n",
       " 'America/Dawson',\n",
       " 'America/Dawson_Creek',\n",
       " 'America/Denver',\n",
       " 'America/Detroit',\n",
       " 'America/Dominica',\n",
       " 'America/Edmonton',\n",
       " 'America/Eirunepe',\n",
       " 'America/El_Salvador',\n",
       " 'America/Ensenada',\n",
       " 'America/Fort_Nelson',\n",
       " 'America/Fort_Wayne',\n",
       " 'America/Fortaleza',\n",
       " 'America/Glace_Bay',\n",
       " 'America/Godthab',\n",
       " 'America/Goose_Bay',\n",
       " 'America/Grand_Turk',\n",
       " 'America/Grenada',\n",
       " 'America/Guadeloupe',\n",
       " 'America/Guatemala',\n",
       " 'America/Guayaquil',\n",
       " 'America/Guyana',\n",
       " 'America/Halifax',\n",
       " 'America/Havana',\n",
       " 'America/Hermosillo',\n",
       " 'America/Indiana/Indianapolis',\n",
       " 'America/Indiana/Knox',\n",
       " 'America/Indiana/Marengo',\n",
       " 'America/Indiana/Petersburg',\n",
       " 'America/Indiana/Tell_City',\n",
       " 'America/Indiana/Vevay',\n",
       " 'America/Indiana/Vincennes',\n",
       " 'America/Indiana/Winamac',\n",
       " 'America/Indianapolis',\n",
       " 'America/Inuvik',\n",
       " 'America/Iqaluit',\n",
       " 'America/Jamaica',\n",
       " 'America/Jujuy',\n",
       " 'America/Juneau',\n",
       " 'America/Kentucky/Louisville',\n",
       " 'America/Kentucky/Monticello',\n",
       " 'America/Knox_IN',\n",
       " 'America/Kralendijk',\n",
       " 'America/La_Paz',\n",
       " 'America/Lima',\n",
       " 'America/Los_Angeles',\n",
       " 'America/Louisville',\n",
       " 'America/Lower_Princes',\n",
       " 'America/Maceio',\n",
       " 'America/Managua',\n",
       " 'America/Manaus',\n",
       " 'America/Marigot',\n",
       " 'America/Martinique',\n",
       " 'America/Matamoros',\n",
       " 'America/Mazatlan',\n",
       " 'America/Mendoza',\n",
       " 'America/Menominee',\n",
       " 'America/Merida',\n",
       " 'America/Metlakatla',\n",
       " 'America/Mexico_City',\n",
       " 'America/Miquelon',\n",
       " 'America/Moncton',\n",
       " 'America/Monterrey',\n",
       " 'America/Montevideo',\n",
       " 'America/Montreal',\n",
       " 'America/Montserrat',\n",
       " 'America/Nassau',\n",
       " 'America/New_York',\n",
       " 'America/Nipigon',\n",
       " 'America/Nome',\n",
       " 'America/Noronha',\n",
       " 'America/North_Dakota/Beulah',\n",
       " 'America/North_Dakota/Center',\n",
       " 'America/North_Dakota/New_Salem',\n",
       " 'America/Nuuk',\n",
       " 'America/Ojinaga',\n",
       " 'America/Panama',\n",
       " 'America/Pangnirtung',\n",
       " 'America/Paramaribo',\n",
       " 'America/Phoenix',\n",
       " 'America/Port-au-Prince',\n",
       " 'America/Port_of_Spain',\n",
       " 'America/Porto_Acre',\n",
       " 'America/Porto_Velho',\n",
       " 'America/Puerto_Rico',\n",
       " 'America/Punta_Arenas',\n",
       " 'America/Rainy_River',\n",
       " 'America/Rankin_Inlet',\n",
       " 'America/Recife',\n",
       " 'America/Regina',\n",
       " 'America/Resolute',\n",
       " 'America/Rio_Branco',\n",
       " 'America/Rosario',\n",
       " 'America/Santa_Isabel',\n",
       " 'America/Santarem',\n",
       " 'America/Santiago',\n",
       " 'America/Santo_Domingo',\n",
       " 'America/Sao_Paulo',\n",
       " 'America/Scoresbysund',\n",
       " 'America/Shiprock',\n",
       " 'America/Sitka',\n",
       " 'America/St_Barthelemy',\n",
       " 'America/St_Johns',\n",
       " 'America/St_Kitts',\n",
       " 'America/St_Lucia',\n",
       " 'America/St_Thomas',\n",
       " 'America/St_Vincent',\n",
       " 'America/Swift_Current',\n",
       " 'America/Tegucigalpa',\n",
       " 'America/Thule',\n",
       " 'America/Thunder_Bay',\n",
       " 'America/Tijuana',\n",
       " 'America/Toronto',\n",
       " 'America/Tortola',\n",
       " 'America/Vancouver',\n",
       " 'America/Virgin',\n",
       " 'America/Whitehorse',\n",
       " 'America/Winnipeg',\n",
       " 'America/Yakutat',\n",
       " 'America/Yellowknife',\n",
       " 'Antarctica/Casey',\n",
       " 'Antarctica/Davis',\n",
       " 'Antarctica/DumontDUrville',\n",
       " 'Antarctica/Macquarie',\n",
       " 'Antarctica/Mawson',\n",
       " 'Antarctica/McMurdo',\n",
       " 'Antarctica/Palmer',\n",
       " 'Antarctica/Rothera',\n",
       " 'Antarctica/South_Pole',\n",
       " 'Antarctica/Syowa',\n",
       " 'Antarctica/Troll',\n",
       " 'Antarctica/Vostok',\n",
       " 'Arctic/Longyearbyen',\n",
       " 'Asia/Aden',\n",
       " 'Asia/Almaty',\n",
       " 'Asia/Amman',\n",
       " 'Asia/Anadyr',\n",
       " 'Asia/Aqtau',\n",
       " 'Asia/Aqtobe',\n",
       " 'Asia/Ashgabat',\n",
       " 'Asia/Ashkhabad',\n",
       " 'Asia/Atyrau',\n",
       " 'Asia/Baghdad',\n",
       " 'Asia/Bahrain',\n",
       " 'Asia/Baku',\n",
       " 'Asia/Bangkok',\n",
       " 'Asia/Barnaul',\n",
       " 'Asia/Beirut',\n",
       " 'Asia/Bishkek',\n",
       " 'Asia/Brunei',\n",
       " 'Asia/Calcutta',\n",
       " 'Asia/Chita',\n",
       " 'Asia/Choibalsan',\n",
       " 'Asia/Chongqing',\n",
       " 'Asia/Chungking',\n",
       " 'Asia/Colombo',\n",
       " 'Asia/Dacca',\n",
       " 'Asia/Damascus',\n",
       " 'Asia/Dhaka',\n",
       " 'Asia/Dili',\n",
       " 'Asia/Dubai',\n",
       " 'Asia/Dushanbe',\n",
       " 'Asia/Famagusta',\n",
       " 'Asia/Gaza',\n",
       " 'Asia/Harbin',\n",
       " 'Asia/Hebron',\n",
       " 'Asia/Ho_Chi_Minh',\n",
       " 'Asia/Hong_Kong',\n",
       " 'Asia/Hovd',\n",
       " 'Asia/Irkutsk',\n",
       " 'Asia/Istanbul',\n",
       " 'Asia/Jakarta',\n",
       " 'Asia/Jayapura',\n",
       " 'Asia/Jerusalem',\n",
       " 'Asia/Kabul',\n",
       " 'Asia/Kamchatka',\n",
       " 'Asia/Karachi',\n",
       " 'Asia/Kashgar',\n",
       " 'Asia/Kathmandu',\n",
       " 'Asia/Katmandu',\n",
       " 'Asia/Khandyga',\n",
       " 'Asia/Kolkata',\n",
       " 'Asia/Krasnoyarsk',\n",
       " 'Asia/Kuala_Lumpur',\n",
       " 'Asia/Kuching',\n",
       " 'Asia/Kuwait',\n",
       " 'Asia/Macao',\n",
       " 'Asia/Macau',\n",
       " 'Asia/Magadan',\n",
       " 'Asia/Makassar',\n",
       " 'Asia/Manila',\n",
       " 'Asia/Muscat',\n",
       " 'Asia/Nicosia',\n",
       " 'Asia/Novokuznetsk',\n",
       " 'Asia/Novosibirsk',\n",
       " 'Asia/Omsk',\n",
       " 'Asia/Oral',\n",
       " 'Asia/Phnom_Penh',\n",
       " 'Asia/Pontianak',\n",
       " 'Asia/Pyongyang',\n",
       " 'Asia/Qatar',\n",
       " 'Asia/Qostanay',\n",
       " 'Asia/Qyzylorda',\n",
       " 'Asia/Rangoon',\n",
       " 'Asia/Riyadh',\n",
       " 'Asia/Saigon',\n",
       " 'Asia/Sakhalin',\n",
       " 'Asia/Samarkand',\n",
       " 'Asia/Seoul',\n",
       " 'Asia/Shanghai',\n",
       " 'Asia/Singapore',\n",
       " 'Asia/Srednekolymsk',\n",
       " 'Asia/Taipei',\n",
       " 'Asia/Tashkent',\n",
       " 'Asia/Tbilisi',\n",
       " 'Asia/Tehran',\n",
       " 'Asia/Tel_Aviv',\n",
       " 'Asia/Thimbu',\n",
       " 'Asia/Thimphu',\n",
       " 'Asia/Tokyo',\n",
       " 'Asia/Tomsk',\n",
       " 'Asia/Ujung_Pandang',\n",
       " 'Asia/Ulaanbaatar',\n",
       " 'Asia/Ulan_Bator',\n",
       " 'Asia/Urumqi',\n",
       " 'Asia/Ust-Nera',\n",
       " 'Asia/Vientiane',\n",
       " 'Asia/Vladivostok',\n",
       " 'Asia/Yakutsk',\n",
       " 'Asia/Yangon',\n",
       " 'Asia/Yekaterinburg',\n",
       " 'Asia/Yerevan',\n",
       " 'Atlantic/Azores',\n",
       " 'Atlantic/Bermuda',\n",
       " 'Atlantic/Canary',\n",
       " 'Atlantic/Cape_Verde',\n",
       " 'Atlantic/Faeroe',\n",
       " 'Atlantic/Faroe',\n",
       " 'Atlantic/Jan_Mayen',\n",
       " 'Atlantic/Madeira',\n",
       " 'Atlantic/Reykjavik',\n",
       " 'Atlantic/South_Georgia',\n",
       " 'Atlantic/St_Helena',\n",
       " 'Atlantic/Stanley',\n",
       " 'Australia/ACT',\n",
       " 'Australia/Adelaide',\n",
       " 'Australia/Brisbane',\n",
       " 'Australia/Broken_Hill',\n",
       " 'Australia/Canberra',\n",
       " 'Australia/Currie',\n",
       " 'Australia/Darwin',\n",
       " 'Australia/Eucla',\n",
       " 'Australia/Hobart',\n",
       " 'Australia/LHI',\n",
       " 'Australia/Lindeman',\n",
       " 'Australia/Lord_Howe',\n",
       " 'Australia/Melbourne',\n",
       " 'Australia/NSW',\n",
       " 'Australia/North',\n",
       " 'Australia/Perth',\n",
       " 'Australia/Queensland',\n",
       " 'Australia/South',\n",
       " 'Australia/Sydney',\n",
       " 'Australia/Tasmania',\n",
       " 'Australia/Victoria',\n",
       " 'Australia/West',\n",
       " 'Australia/Yancowinna',\n",
       " 'Brazil/Acre',\n",
       " 'Brazil/DeNoronha',\n",
       " 'Brazil/East',\n",
       " 'Brazil/West',\n",
       " 'CET',\n",
       " 'CST6CDT',\n",
       " 'Canada/Atlantic',\n",
       " 'Canada/Central',\n",
       " 'Canada/Eastern',\n",
       " 'Canada/Mountain',\n",
       " 'Canada/Newfoundland',\n",
       " 'Canada/Pacific',\n",
       " 'Canada/Saskatchewan',\n",
       " 'Canada/Yukon',\n",
       " 'Chile/Continental',\n",
       " 'Chile/EasterIsland',\n",
       " 'Cuba',\n",
       " 'EET',\n",
       " 'EST',\n",
       " 'EST5EDT',\n",
       " 'Egypt',\n",
       " 'Eire',\n",
       " 'Etc/GMT',\n",
       " 'Etc/GMT+0',\n",
       " 'Etc/GMT+1',\n",
       " 'Etc/GMT+10',\n",
       " 'Etc/GMT+11',\n",
       " 'Etc/GMT+12',\n",
       " 'Etc/GMT+2',\n",
       " 'Etc/GMT+3',\n",
       " 'Etc/GMT+4',\n",
       " 'Etc/GMT+5',\n",
       " 'Etc/GMT+6',\n",
       " 'Etc/GMT+7',\n",
       " 'Etc/GMT+8',\n",
       " 'Etc/GMT+9',\n",
       " 'Etc/GMT-0',\n",
       " 'Etc/GMT-1',\n",
       " 'Etc/GMT-10',\n",
       " 'Etc/GMT-11',\n",
       " 'Etc/GMT-12',\n",
       " 'Etc/GMT-13',\n",
       " 'Etc/GMT-14',\n",
       " 'Etc/GMT-2',\n",
       " 'Etc/GMT-3',\n",
       " 'Etc/GMT-4',\n",
       " 'Etc/GMT-5',\n",
       " 'Etc/GMT-6',\n",
       " 'Etc/GMT-7',\n",
       " 'Etc/GMT-8',\n",
       " 'Etc/GMT-9',\n",
       " 'Etc/GMT0',\n",
       " 'Etc/Greenwich',\n",
       " 'Etc/UCT',\n",
       " 'Etc/UTC',\n",
       " 'Etc/Universal',\n",
       " 'Etc/Zulu',\n",
       " 'Europe/Amsterdam',\n",
       " 'Europe/Andorra',\n",
       " 'Europe/Astrakhan',\n",
       " 'Europe/Athens',\n",
       " 'Europe/Belfast',\n",
       " 'Europe/Belgrade',\n",
       " 'Europe/Berlin',\n",
       " 'Europe/Bratislava',\n",
       " 'Europe/Brussels',\n",
       " 'Europe/Bucharest',\n",
       " 'Europe/Budapest',\n",
       " 'Europe/Busingen',\n",
       " 'Europe/Chisinau',\n",
       " 'Europe/Copenhagen',\n",
       " 'Europe/Dublin',\n",
       " 'Europe/Gibraltar',\n",
       " 'Europe/Guernsey',\n",
       " 'Europe/Helsinki',\n",
       " 'Europe/Isle_of_Man',\n",
       " 'Europe/Istanbul',\n",
       " 'Europe/Jersey',\n",
       " 'Europe/Kaliningrad',\n",
       " 'Europe/Kiev',\n",
       " 'Europe/Kirov',\n",
       " 'Europe/Kyiv',\n",
       " 'Europe/Lisbon',\n",
       " 'Europe/Ljubljana',\n",
       " 'Europe/London',\n",
       " 'Europe/Luxembourg',\n",
       " 'Europe/Madrid',\n",
       " 'Europe/Malta',\n",
       " 'Europe/Mariehamn',\n",
       " 'Europe/Minsk',\n",
       " 'Europe/Monaco',\n",
       " 'Europe/Moscow',\n",
       " 'Europe/Nicosia',\n",
       " 'Europe/Oslo',\n",
       " 'Europe/Paris',\n",
       " 'Europe/Podgorica',\n",
       " 'Europe/Prague',\n",
       " 'Europe/Riga',\n",
       " 'Europe/Rome',\n",
       " 'Europe/Samara',\n",
       " 'Europe/San_Marino',\n",
       " 'Europe/Sarajevo',\n",
       " 'Europe/Saratov',\n",
       " 'Europe/Simferopol',\n",
       " 'Europe/Skopje',\n",
       " 'Europe/Sofia',\n",
       " 'Europe/Stockholm',\n",
       " 'Europe/Tallinn',\n",
       " 'Europe/Tirane',\n",
       " 'Europe/Tiraspol',\n",
       " 'Europe/Ulyanovsk',\n",
       " 'Europe/Uzhgorod',\n",
       " 'Europe/Vaduz',\n",
       " 'Europe/Vatican',\n",
       " 'Europe/Vienna',\n",
       " 'Europe/Vilnius',\n",
       " 'Europe/Volgograd',\n",
       " 'Europe/Warsaw',\n",
       " 'Europe/Zagreb',\n",
       " 'Europe/Zaporozhye',\n",
       " 'Europe/Zurich',\n",
       " 'GB',\n",
       " 'GB-Eire',\n",
       " 'GMT',\n",
       " 'GMT+0',\n",
       " 'GMT-0',\n",
       " 'GMT0',\n",
       " 'Greenwich',\n",
       " 'HST',\n",
       " 'Hongkong',\n",
       " 'Iceland',\n",
       " 'Indian/Antananarivo',\n",
       " 'Indian/Chagos',\n",
       " 'Indian/Christmas',\n",
       " 'Indian/Cocos',\n",
       " 'Indian/Comoro',\n",
       " 'Indian/Kerguelen',\n",
       " 'Indian/Mahe',\n",
       " 'Indian/Maldives',\n",
       " 'Indian/Mauritius',\n",
       " 'Indian/Mayotte',\n",
       " 'Indian/Reunion',\n",
       " 'Iran',\n",
       " 'Israel',\n",
       " 'Jamaica',\n",
       " 'Japan',\n",
       " 'Kwajalein',\n",
       " 'Libya',\n",
       " 'MET',\n",
       " 'MST',\n",
       " 'MST7MDT',\n",
       " 'Mexico/BajaNorte',\n",
       " 'Mexico/BajaSur',\n",
       " 'Mexico/General',\n",
       " 'NZ',\n",
       " 'NZ-CHAT',\n",
       " 'Navajo',\n",
       " 'PRC',\n",
       " 'PST8PDT',\n",
       " 'Pacific/Apia',\n",
       " 'Pacific/Auckland',\n",
       " 'Pacific/Bougainville',\n",
       " 'Pacific/Chatham',\n",
       " 'Pacific/Chuuk',\n",
       " 'Pacific/Easter',\n",
       " 'Pacific/Efate',\n",
       " 'Pacific/Enderbury',\n",
       " 'Pacific/Fakaofo',\n",
       " 'Pacific/Fiji',\n",
       " 'Pacific/Funafuti',\n",
       " 'Pacific/Galapagos',\n",
       " 'Pacific/Gambier',\n",
       " 'Pacific/Guadalcanal',\n",
       " 'Pacific/Guam',\n",
       " 'Pacific/Honolulu',\n",
       " 'Pacific/Johnston',\n",
       " 'Pacific/Kanton',\n",
       " 'Pacific/Kiritimati',\n",
       " 'Pacific/Kosrae',\n",
       " 'Pacific/Kwajalein',\n",
       " 'Pacific/Majuro',\n",
       " 'Pacific/Marquesas',\n",
       " 'Pacific/Midway',\n",
       " 'Pacific/Nauru',\n",
       " 'Pacific/Niue',\n",
       " 'Pacific/Norfolk',\n",
       " 'Pacific/Noumea',\n",
       " 'Pacific/Pago_Pago',\n",
       " 'Pacific/Palau',\n",
       " 'Pacific/Pitcairn',\n",
       " 'Pacific/Pohnpei',\n",
       " 'Pacific/Ponape',\n",
       " 'Pacific/Port_Moresby',\n",
       " 'Pacific/Rarotonga',\n",
       " 'Pacific/Saipan',\n",
       " 'Pacific/Samoa',\n",
       " 'Pacific/Tahiti',\n",
       " 'Pacific/Tarawa',\n",
       " 'Pacific/Tongatapu',\n",
       " 'Pacific/Truk',\n",
       " 'Pacific/Wake',\n",
       " 'Pacific/Wallis',\n",
       " 'Pacific/Yap',\n",
       " 'Poland',\n",
       " 'Portugal',\n",
       " 'ROC',\n",
       " 'ROK',\n",
       " 'Singapore',\n",
       " 'Turkey',\n",
       " 'UCT',\n",
       " 'US/Alaska',\n",
       " 'US/Aleutian',\n",
       " 'US/Arizona',\n",
       " 'US/Central',\n",
       " 'US/East-Indiana',\n",
       " 'US/Eastern',\n",
       " 'US/Hawaii',\n",
       " 'US/Indiana-Starke',\n",
       " 'US/Michigan',\n",
       " 'US/Mountain',\n",
       " 'US/Pacific',\n",
       " 'US/Samoa',\n",
       " 'UTC',\n",
       " 'Universal',\n",
       " 'W-SU',\n",
       " 'WET',\n",
       " 'Zulu']"
      ]
     },
     "execution_count": 170,
     "metadata": {},
     "output_type": "execute_result"
    }
   ],
   "source": [
    "pytz.all_timezones"
   ]
  },
  {
   "cell_type": "code",
   "execution_count": 158,
   "id": "e0ab2e17-fd44-4a5b-95d9-8def116bb31f",
   "metadata": {},
   "outputs": [
    {
     "data": {
      "text/plain": [
       "\u001b[31mType:\u001b[39m            LazySet\n",
       "\u001b[31mString form:\u001b[39m     LazySet({'Pacific/Majuro', 'Australia/South', 'America/Montreal', 'Etc/Universal', 'Europe/Amster <...>  'UCT', 'America/Cayenne', 'America/Belem', 'Europe/Mariehamn', 'PST8PDT', 'HST', 'Brazil/West'})\n",
       "\u001b[31mLength:\u001b[39m          597\n",
       "\u001b[31mFile:\u001b[39m            ~/Documents/Studyplan/python/fundamentals/.venv/lib/python3.13/site-packages/pytz/lazy.py\n",
       "\u001b[31mDocstring:\u001b[39m       <no docstring>\n",
       "\u001b[31mClass docstring:\u001b[39m Build an unordered collection of unique elements."
      ]
     },
     "metadata": {},
     "output_type": "display_data"
    }
   ],
   "source": [
    "? pytz.all_timezones_set"
   ]
  },
  {
   "cell_type": "code",
   "execution_count": 159,
   "id": "454b3e19-e666-4f61-9ce4-1e495ab10c61",
   "metadata": {},
   "outputs": [
    {
     "data": {
      "text/plain": [
       "\u001b[31mType:\u001b[39m            LazyList\n",
       "\u001b[31mString form:\u001b[39m     ['Africa/Abidjan', 'Africa/Accra', 'Africa/Addis_Ababa', 'Africa/Algiers', 'Africa/Asmara', 'Afri <...> US/Michigan', 'US/Mountain', 'US/Pacific', 'US/Samoa', 'UTC', 'Universal', 'W-SU', 'WET', 'Zulu']\n",
       "\u001b[31mLength:\u001b[39m          597\n",
       "\u001b[31mFile:\u001b[39m            ~/Documents/Studyplan/python/fundamentals/.venv/lib/python3.13/site-packages/pytz/lazy.py\n",
       "\u001b[31mDocstring:\u001b[39m       <no docstring>\n",
       "\u001b[31mClass docstring:\u001b[39m\n",
       "Built-in mutable sequence.\n",
       "\n",
       "If no argument is given, the constructor creates a new empty list.\n",
       "The argument must be an iterable if specified."
      ]
     },
     "metadata": {},
     "output_type": "display_data"
    }
   ],
   "source": [
    "? pytz.all_timezones"
   ]
  },
  {
   "cell_type": "code",
   "execution_count": 160,
   "id": "f1bbc7f4-f068-402c-897d-c2437ed7d2a3",
   "metadata": {},
   "outputs": [],
   "source": [
    "tz_chicago = pytz.timezone('America/Chicago')"
   ]
  },
  {
   "cell_type": "code",
   "execution_count": 161,
   "id": "61ef6372-4b68-40f9-b202-ca807985d0aa",
   "metadata": {},
   "outputs": [
    {
     "data": {
      "text/plain": [
       "<DstTzInfo 'America/Chicago' LMT-1 day, 18:09:00 STD>"
      ]
     },
     "execution_count": 161,
     "metadata": {},
     "output_type": "execute_result"
    }
   ],
   "source": [
    "tz_chicago"
   ]
  },
  {
   "cell_type": "code",
   "execution_count": 162,
   "id": "760ce7d5-24fb-473d-be9f-c6c066f2a16e",
   "metadata": {},
   "outputs": [
    {
     "data": {
      "text/plain": [
       "pytz.tzfile.America/Chicago"
      ]
     },
     "execution_count": 162,
     "metadata": {},
     "output_type": "execute_result"
    }
   ],
   "source": [
    "type(tz_chicago)"
   ]
  },
  {
   "cell_type": "code",
   "execution_count": 163,
   "id": "1395d4a2-5b5c-42fe-8089-1b8f8815b3f4",
   "metadata": {},
   "outputs": [
    {
     "data": {
      "text/plain": [
       "<UTC>"
      ]
     },
     "execution_count": 163,
     "metadata": {},
     "output_type": "execute_result"
    }
   ],
   "source": [
    "tz_utc = pytz.timezone('UTC')\n",
    "tz_utc"
   ]
  },
  {
   "cell_type": "code",
   "execution_count": 164,
   "id": "3c3464f9-13bd-44d9-aa7a-2fa5d4fb6a5d",
   "metadata": {},
   "outputs": [
    {
     "data": {
      "text/plain": [
       "('UTC', 'America/Chicago')"
      ]
     },
     "execution_count": 164,
     "metadata": {},
     "output_type": "execute_result"
    }
   ],
   "source": [
    "tz_utc.zone, tz_chicago.zone"
   ]
  },
  {
   "cell_type": "code",
   "execution_count": 165,
   "id": "fd88ae49-1d9e-432b-8774-bc6ca1d58faa",
   "metadata": {},
   "outputs": [
    {
     "data": {
      "text/plain": [
       "datetime.datetime(2020, 5, 15, 10, 0)"
      ]
     },
     "execution_count": 165,
     "metadata": {},
     "output_type": "execute_result"
    }
   ],
   "source": [
    "dt_naive = datetime.datetime(2020, 5, 15, 10, 0)\n",
    "dt_naive"
   ]
  },
  {
   "cell_type": "markdown",
   "id": "7a1477cf-ae71-43f7-8ee8-3d1576743e47",
   "metadata": {},
   "source": [
    "### attach timezone to it (with DST calcs)"
   ]
  },
  {
   "cell_type": "code",
   "execution_count": 167,
   "id": "5c65056f-8c24-448b-9954-0bc16feb89d4",
   "metadata": {},
   "outputs": [
    {
     "data": {
      "text/plain": [
       "datetime.datetime(2020, 5, 15, 10, 0, tzinfo=<DstTzInfo 'America/Chicago' CDT-1 day, 19:00:00 DST>)"
      ]
     },
     "execution_count": 167,
     "metadata": {},
     "output_type": "execute_result"
    }
   ],
   "source": [
    "dt_chicago = tz_chicago.localize(dt_naive)\n",
    "dt_chicago"
   ]
  },
  {
   "cell_type": "markdown",
   "id": "77b3cd08-5c44-49bc-96b7-0fd88e43e6d5",
   "metadata": {},
   "source": [
    "### compare this to what just replacing the tzinfo does (note the DST vs STD at the end)"
   ]
  },
  {
   "cell_type": "code",
   "execution_count": 169,
   "id": "282cd256-eeb8-4fd8-a166-d5061444e21f",
   "metadata": {},
   "outputs": [
    {
     "data": {
      "text/plain": [
       "datetime.datetime(2020, 5, 15, 10, 0, tzinfo=<DstTzInfo 'America/Chicago' LMT-1 day, 18:09:00 STD>)"
      ]
     },
     "execution_count": 169,
     "metadata": {},
     "output_type": "execute_result"
    }
   ],
   "source": [
    "dt_naive.replace(tzinfo = tz_chicago)"
   ]
  },
  {
   "cell_type": "code",
   "execution_count": 173,
   "id": "f228cf47-71c8-4ea6-ba94-7d22f6e8ac60",
   "metadata": {},
   "outputs": [
    {
     "data": {
      "text/plain": [
       "<DstTzInfo 'Europe/London' LMT-1 day, 23:59:00 STD>"
      ]
     },
     "execution_count": 173,
     "metadata": {},
     "output_type": "execute_result"
    }
   ],
   "source": [
    "tz_london = pytz.timezone('Europe/London')\n",
    "tz_london"
   ]
  },
  {
   "cell_type": "markdown",
   "id": "16866e9d-dacc-481f-8257-e8527a009206",
   "metadata": {},
   "source": [
    "### Converting to another timezone"
   ]
  },
  {
   "cell_type": "code",
   "execution_count": 175,
   "id": "77d80ed9-1b24-432b-84c6-f54afd802275",
   "metadata": {},
   "outputs": [
    {
     "data": {
      "text/plain": [
       "(datetime.datetime(2020, 5, 15, 10, 0, tzinfo=<DstTzInfo 'America/Chicago' CDT-1 day, 19:00:00 DST>),\n",
       " datetime.datetime(2020, 5, 15, 16, 0, tzinfo=<DstTzInfo 'Europe/London' BST+1:00:00 DST>))"
      ]
     },
     "execution_count": 175,
     "metadata": {},
     "output_type": "execute_result"
    }
   ],
   "source": [
    "dt_chicago, dt_chicago.astimezone(tz_london)"
   ]
  },
  {
   "cell_type": "markdown",
   "id": "a38bba2f-ab21-4c88-aee9-b6e0fc434eaa",
   "metadata": {},
   "source": [
    "# DATEUTIL Module\n",
    "### intelligent date parser\n",
    "### raises `ParseError` if unable to parse"
   ]
  },
  {
   "cell_type": "code",
   "execution_count": 176,
   "id": "d2d9b124-4561-4f19-9f13-613e7c48366b",
   "metadata": {},
   "outputs": [],
   "source": [
    "from dateutil import parser"
   ]
  },
  {
   "cell_type": "code",
   "execution_count": 177,
   "id": "a4a07533-66f6-44c8-a35a-121d809406da",
   "metadata": {},
   "outputs": [
    {
     "data": {
      "text/plain": [
       "datetime.datetime(2020, 1, 1, 10, 30)"
      ]
     },
     "execution_count": 177,
     "metadata": {},
     "output_type": "execute_result"
    }
   ],
   "source": [
    "parser.parse('2020-01-01T10:30:00')"
   ]
  },
  {
   "cell_type": "code",
   "execution_count": 178,
   "id": "1c6d3a15-8d33-4f62-8d86-fb474826e012",
   "metadata": {},
   "outputs": [
    {
     "data": {
      "text/plain": [
       "datetime.datetime(2020, 1, 1, 10, 30)"
      ]
     },
     "execution_count": 178,
     "metadata": {},
     "output_type": "execute_result"
    }
   ],
   "source": [
    "parser.parse('2020-01-01T10:30:00 am')"
   ]
  },
  {
   "cell_type": "code",
   "execution_count": 180,
   "id": "6e6b9e98-ed76-4a40-ade9-34cc2d438d01",
   "metadata": {},
   "outputs": [
    {
     "data": {
      "text/plain": [
       "(datetime.datetime(2025, 12, 31, 0, 0), datetime.datetime(2025, 12, 31, 0, 0))"
      ]
     },
     "execution_count": 180,
     "metadata": {},
     "output_type": "execute_result"
    }
   ],
   "source": [
    "parser.parse('31-12-2025'), parser.parse('12-31-2025')"
   ]
  },
  {
   "cell_type": "code",
   "execution_count": 181,
   "id": "0a6db57b-3381-4a60-928b-f35af60d982f",
   "metadata": {},
   "outputs": [
    {
     "data": {
      "text/plain": [
       "(datetime.datetime(2020, 4, 3, 0, 0), datetime.datetime(2020, 3, 4, 0, 0))"
      ]
     },
     "execution_count": 181,
     "metadata": {},
     "output_type": "execute_result"
    }
   ],
   "source": [
    "parser.parse('2020/4/3'), parser.parse('2020/4/3', dayfirst=True)"
   ]
  },
  {
   "cell_type": "code",
   "execution_count": 188,
   "id": "e275d167-944a-48b1-8d59-ee771221a61e",
   "metadata": {},
   "outputs": [
    {
     "data": {
      "text/plain": [
       "(datetime.datetime(2020, 3, 4, 15, 0, tzinfo=tzutc()),\n",
       " ('Today is ', ' the ', ', ', 'at ', ' '))"
      ]
     },
     "execution_count": 188,
     "metadata": {},
     "output_type": "execute_result"
    }
   ],
   "source": [
    "parser.parse('Today is March the 4th, 2020 at 3pm UTC', fuzzy_with_tokens=True)"
   ]
  },
  {
   "cell_type": "code",
   "execution_count": 185,
   "id": "c9199e7f-2b0b-42be-b91c-abe9073c4695",
   "metadata": {},
   "outputs": [
    {
     "ename": "ParserError",
     "evalue": "Unknown string format: March the 4th, 2020",
     "output_type": "error",
     "traceback": [
      "\u001b[31m---------------------------------------------------------------------------\u001b[39m",
      "\u001b[31mParserError\u001b[39m                               Traceback (most recent call last)",
      "\u001b[36mCell\u001b[39m\u001b[36m \u001b[39m\u001b[32mIn[185]\u001b[39m\u001b[32m, line 1\u001b[39m\n\u001b[32m----> \u001b[39m\u001b[32m1\u001b[39m \u001b[43mparser\u001b[49m\u001b[43m.\u001b[49m\u001b[43mparse\u001b[49m\u001b[43m(\u001b[49m\u001b[33;43m'\u001b[39;49m\u001b[33;43mMarch the 4th, 2020\u001b[39;49m\u001b[33;43m'\u001b[39;49m\u001b[43m)\u001b[49m\n",
      "\u001b[36mFile \u001b[39m\u001b[32m~/Documents/Studyplan/python/fundamentals/.venv/lib/python3.13/site-packages/dateutil/parser/_parser.py:1368\u001b[39m, in \u001b[36mparse\u001b[39m\u001b[34m(timestr, parserinfo, **kwargs)\u001b[39m\n\u001b[32m   1366\u001b[39m     \u001b[38;5;28;01mreturn\u001b[39;00m parser(parserinfo).parse(timestr, **kwargs)\n\u001b[32m   1367\u001b[39m \u001b[38;5;28;01melse\u001b[39;00m:\n\u001b[32m-> \u001b[39m\u001b[32m1368\u001b[39m     \u001b[38;5;28;01mreturn\u001b[39;00m \u001b[43mDEFAULTPARSER\u001b[49m\u001b[43m.\u001b[49m\u001b[43mparse\u001b[49m\u001b[43m(\u001b[49m\u001b[43mtimestr\u001b[49m\u001b[43m,\u001b[49m\u001b[43m \u001b[49m\u001b[43m*\u001b[49m\u001b[43m*\u001b[49m\u001b[43mkwargs\u001b[49m\u001b[43m)\u001b[49m\n",
      "\u001b[36mFile \u001b[39m\u001b[32m~/Documents/Studyplan/python/fundamentals/.venv/lib/python3.13/site-packages/dateutil/parser/_parser.py:643\u001b[39m, in \u001b[36mparser.parse\u001b[39m\u001b[34m(self, timestr, default, ignoretz, tzinfos, **kwargs)\u001b[39m\n\u001b[32m    640\u001b[39m res, skipped_tokens = \u001b[38;5;28mself\u001b[39m._parse(timestr, **kwargs)\n\u001b[32m    642\u001b[39m \u001b[38;5;28;01mif\u001b[39;00m res \u001b[38;5;129;01mis\u001b[39;00m \u001b[38;5;28;01mNone\u001b[39;00m:\n\u001b[32m--> \u001b[39m\u001b[32m643\u001b[39m     \u001b[38;5;28;01mraise\u001b[39;00m ParserError(\u001b[33m\"\u001b[39m\u001b[33mUnknown string format: \u001b[39m\u001b[38;5;132;01m%s\u001b[39;00m\u001b[33m\"\u001b[39m, timestr)\n\u001b[32m    645\u001b[39m \u001b[38;5;28;01mif\u001b[39;00m \u001b[38;5;28mlen\u001b[39m(res) == \u001b[32m0\u001b[39m:\n\u001b[32m    646\u001b[39m     \u001b[38;5;28;01mraise\u001b[39;00m ParserError(\u001b[33m\"\u001b[39m\u001b[33mString does not contain a date: \u001b[39m\u001b[38;5;132;01m%s\u001b[39;00m\u001b[33m\"\u001b[39m, timestr)\n",
      "\u001b[31mParserError\u001b[39m: Unknown string format: March the 4th, 2020"
     ]
    }
   ],
   "source": [
    "parser.parse('March the 4th, 2020')"
   ]
  },
  {
   "cell_type": "markdown",
   "id": "1a927e31-5b2f-442e-a987-e14553d8e2e8",
   "metadata": {},
   "source": [
    "### Mostly works but be careful ! see below"
   ]
  },
  {
   "cell_type": "code",
   "execution_count": 187,
   "id": "32c1d439-14e5-49f5-abc2-f33d04d9b73c",
   "metadata": {},
   "outputs": [
    {
     "data": {
      "text/plain": [
       "(datetime.datetime(2020, 3, 19, 0, 0), (' the fourth, ',))"
      ]
     },
     "execution_count": 187,
     "metadata": {},
     "output_type": "execute_result"
    }
   ],
   "source": [
    "parser.parse('March the fourth, 2020', fuzzy_with_tokens=True)"
   ]
  },
  {
   "cell_type": "code",
   "execution_count": null,
   "id": "a63ae3c2-b173-425f-bd40-9edc4b1a35b6",
   "metadata": {},
   "outputs": [],
   "source": []
  }
 ],
 "metadata": {
  "kernelspec": {
   "display_name": "Python (fundamentals)",
   "language": "python",
   "name": "fundamentals"
  },
  "language_info": {
   "codemirror_mode": {
    "name": "ipython",
    "version": 3
   },
   "file_extension": ".py",
   "mimetype": "text/x-python",
   "name": "python",
   "nbconvert_exporter": "python",
   "pygments_lexer": "ipython3",
   "version": "3.13.7"
  }
 },
 "nbformat": 4,
 "nbformat_minor": 5
}
