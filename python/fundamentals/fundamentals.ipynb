{
 "cells": [
  {
   "cell_type": "markdown",
   "id": "de222c81-7e61-495d-98d5-de49a0b08f37",
   "metadata": {},
   "source": [
    "# Conditional Execution"
   ]
  },
  {
   "cell_type": "code",
   "execution_count": 1,
   "id": "26212cbf-b2ae-4e27-8e2b-20e1642b9028",
   "metadata": {},
   "outputs": [
    {
     "name": "stdout",
     "output_type": "stream",
     "text": [
      "line 1 if -print\n",
      "line 2 if - print\n"
     ]
    }
   ],
   "source": [
    "grade = 72\n",
    "if grade > 70:\n",
    "    print(\"line 1 if -print\")\n",
    "    print(\"line 2 if - print\")\n",
    "else:\n",
    "    print(\"else line printed\")"
   ]
  },
  {
   "cell_type": "code",
   "execution_count": 2,
   "id": "b9e92e40-7587-430a-96cc-1eb5be34ca61",
   "metadata": {},
   "outputs": [
    {
     "name": "stdout",
     "output_type": "stream",
     "text": [
      "else line printed\n"
     ]
    }
   ],
   "source": [
    "grade = 62\n",
    "if grade > 70:\n",
    "    print(\"line 1 -print\")\n",
    "    print(\"line 2- print\")\n",
    "else:\n",
    "    print(\"else line printed\")"
   ]
  },
  {
   "cell_type": "code",
   "execution_count": 3,
   "id": "e4ecf824-0e97-4ef0-a8ac-085a8584d3c9",
   "metadata": {},
   "outputs": [
    {
     "name": "stdout",
     "output_type": "stream",
     "text": [
      "Grade Pass\n",
      "Grade A\n",
      "Grade C\n",
      "Grade B\n"
     ]
    }
   ],
   "source": [
    "def getGrade(grade):\n",
    "    if grade > 90:\n",
    "        print(\"Grade A\")\n",
    "    elif grade > 80:\n",
    "        print(\"Grade B\")\n",
    "    elif grade > 70:\n",
    "        print(\"Grade C\")\n",
    "    else:\n",
    "        print(\"Grade Pass\")\n",
    "\n",
    "for i in [62, 92, 72, 82]:\n",
    "    getGrade(i)"
   ]
  },
  {
   "cell_type": "markdown",
   "id": "fd4a57c3-a883-4274-a6a6-cc925bca05fd",
   "metadata": {},
   "source": [
    "## Ternary operator"
   ]
  },
  {
   "cell_type": "code",
   "execution_count": 4,
   "id": "d2a622f1-71bc-4638-a41d-7b5e1246d9ef",
   "metadata": {},
   "outputs": [
    {
     "name": "stdout",
     "output_type": "stream",
     "text": [
      "15\n"
     ]
    }
   ],
   "source": [
    "a, b = 5, 20\n",
    "\n",
    "var = (a - b) if a > b else (b - a)\n",
    "\n",
    "print(var)"
   ]
  },
  {
   "cell_type": "code",
   "execution_count": 5,
   "id": "441c9b61-030d-48e3-b0f9-934ba6fe27f8",
   "metadata": {},
   "outputs": [
    {
     "name": "stdout",
     "output_type": "stream",
     "text": [
      "0.25\n",
      "NaN\n"
     ]
    }
   ],
   "source": [
    "var = a / b if b != 0 else 'NaN'\n",
    "print(var)\n",
    "\n",
    "b = 0\n",
    "var = a / b if b != 0 else 'NaN'\n",
    "print(var)"
   ]
  },
  {
   "cell_type": "markdown",
   "id": "9637c54f-2de8-4877-b1e4-5da9949bbcb0",
   "metadata": {},
   "source": [
    "# Sequences\n",
    "### Sequences -> `ordered` collection of objects\n",
    "1. `Lists` : Mutable heterogeneous type\n",
    "2. `Tuples` : Immutable heterogeneous type\n",
    "3. `Strings`: Immutable homogeneous type"
   ]
  },
  {
   "cell_type": "markdown",
   "id": "af3f3819-a44f-480b-8103-34dd457f409f",
   "metadata": {},
   "source": [
    "## LISTS"
   ]
  },
  {
   "cell_type": "code",
   "execution_count": 6,
   "id": "8590098a-7a70-4e3b-95b5-4a948b57d7af",
   "metadata": {},
   "outputs": [
    {
     "data": {
      "text/plain": [
       "list"
      ]
     },
     "execution_count": 6,
     "metadata": {},
     "output_type": "execute_result"
    }
   ],
   "source": [
    "l = []\n",
    "type(l)"
   ]
  },
  {
   "cell_type": "code",
   "execution_count": 7,
   "id": "211973cc-df6e-4731-a566-adcfe649f13f",
   "metadata": {},
   "outputs": [
    {
     "data": {
      "text/plain": [
       "list"
      ]
     },
     "execution_count": 7,
     "metadata": {},
     "output_type": "execute_result"
    }
   ],
   "source": [
    "l = [2, 3, 4, 5]\n",
    "type(l)"
   ]
  },
  {
   "cell_type": "code",
   "execution_count": 8,
   "id": "9ca4a99b-88e9-491c-b246-5cc5e8b8d96f",
   "metadata": {},
   "outputs": [
    {
     "data": {
      "text/plain": [
       "(list, ['p', 'y', 't', 'h', 'o', 'n'])"
      ]
     },
     "execution_count": 8,
     "metadata": {},
     "output_type": "execute_result"
    }
   ],
   "source": [
    "l = list('python') # list takes in any sequence and converts them to a list\n",
    "type(l), l"
   ]
  },
  {
   "cell_type": "code",
   "execution_count": 9,
   "id": "2ce99d86-3df7-448b-aad7-a45168fef83e",
   "metadata": {},
   "outputs": [
    {
     "data": {
      "text/plain": [
       "('cegi', 'abcdefghijlkm')"
      ]
     },
     "execution_count": 9,
     "metadata": {},
     "output_type": "execute_result"
    }
   ],
   "source": [
    "l = 'abcdefghijlkmnop'\n",
    "l[2:9:2], l[:-3]"
   ]
  },
  {
   "cell_type": "code",
   "execution_count": 10,
   "id": "51d28dd5-32be-497f-8f75-f7ffdf024a4b",
   "metadata": {},
   "outputs": [
    {
     "name": "stdout",
     "output_type": "stream",
     "text": [
      "[[1, 2, 3], [4, 5, 6], [7, 8, 9]]\n",
      "[[4, 5, 6], [7, 8, 9]]\n",
      "[[4, 5, 6], [100, 8, 9]]\n"
     ]
    }
   ],
   "source": [
    "l1 = [7, 8, 9]\n",
    "l = [\n",
    "     [1, 2, 3],\n",
    "     [4, 5, 6],\n",
    "     l1\n",
    "    ]\n",
    "print(l)\n",
    "\n",
    "l2 = l[1:]\n",
    "print(l2)\n",
    "\n",
    "l1[0] = 100\n",
    "print(l2)"
   ]
  },
  {
   "cell_type": "code",
   "execution_count": 11,
   "id": "51378935-5e5b-45f5-849a-ded73958fa1e",
   "metadata": {},
   "outputs": [
    {
     "data": {
      "text/plain": [
       "(tuple, tuple, (2, 3))"
      ]
     },
     "execution_count": 11,
     "metadata": {},
     "output_type": "execute_result"
    }
   ],
   "source": [
    "t = 1, 2, 3, 4\n",
    "type(t), type(t[1:3]), t[1:3]"
   ]
  },
  {
   "cell_type": "code",
   "execution_count": 12,
   "id": "d0bbf9ee-e5d7-43e4-a479-cb6147ec8973",
   "metadata": {},
   "outputs": [
    {
     "data": {
      "text/plain": [
       "(3, 4)"
      ]
     },
     "execution_count": 12,
     "metadata": {},
     "output_type": "execute_result"
    }
   ],
   "source": [
    "len(l1), len(t)"
   ]
  },
  {
   "cell_type": "code",
   "execution_count": 13,
   "id": "c52483e9-cc5f-44b2-b187-2816dad70564",
   "metadata": {},
   "outputs": [
    {
     "name": "stdout",
     "output_type": "stream",
     "text": [
      "[1, 2, 3, 4, 5]\n",
      "[1, 'python', 3, 4, 5]\n",
      "['p', 'y', 't', 'h', 'o', 'n', 'python', 3, 4, 5]\n",
      "['p', 'y', 't', 'h', 'o', 'n', 'python', 3, 4, 5, 'java']\n",
      "['p', 'y', 't', 'h', 'o', 'n', 'python', 3, 4, 5, 'java', 'r', 'u', 's', 't']\n",
      "['p', 42, 'y', 't', 'h', 'o', 'n', 'python', 3, 4, 5, 'java', 'r', 'u', 's', 't']\n"
     ]
    }
   ],
   "source": [
    "l = [1, 2, 3, 4, 5]\n",
    "print(l)\n",
    "\n",
    "l[1] = 'python' # list is a container of references, l[1] references an object\n",
    "print(l)\n",
    "\n",
    "l[:1] = 'python'  # a slice is a list, hence l[:1] is replaced by a list, in our case takes in a sequence and turns that to a list\n",
    "print(l)\n",
    "\n",
    "l.append('java')  # append takes an element\n",
    "print(l)\n",
    "\n",
    "l.extend('rust') # extend takes a sequence and adds all of those as list elements.\n",
    "print(l)\n",
    "\n",
    "l.insert(1, 42)\n",
    "print(l)"
   ]
  },
  {
   "cell_type": "markdown",
   "id": "2e52a0af-9a20-4081-9ff4-f5ea5e184705",
   "metadata": {},
   "source": [
    "# COPY METHODS"
   ]
  },
  {
   "cell_type": "markdown",
   "id": "4a4f61f4-a2f4-4220-9f57-c651d9f5a286",
   "metadata": {},
   "source": [
    "## Shallow Copy\n",
    "### shallow copy creates a new object and orginal and new one reference same objects. New object can add more elements to containers or old one change its reference to point to a new object, but objects referenced are same"
   ]
  },
  {
   "cell_type": "code",
   "execution_count": 14,
   "id": "8f178c89-7743-49f8-b317-2a24f7aaf566",
   "metadata": {},
   "outputs": [
    {
     "name": "stdout",
     "output_type": "stream",
     "text": [
      "[1, ['a', 'b', 'c'], 2, 3] [1, ['a', 'b', 'c'], 2, 3] [1, ['a', 'b', 'c'], 2, 3]\n",
      "l and shallow_l1 are same: False\n",
      "l[1] and shallow_l1[1] are same: True\n",
      "[1, ['aa', 'b', 'c'], 2, 3] [1, ['aa', 'b', 'c'], 2, 3] [1, ['aa', 'b', 'c'], 2, 3]\n",
      "True\n"
     ]
    }
   ],
   "source": [
    "l = [1, ['a', 'b', 'c'], 2, 3]\n",
    "shallow_l1 = l[:]\n",
    "shallow_l2 = l.copy()\n",
    "\n",
    "print(l, shallow_l1, shallow_l2)\n",
    "\n",
    "l[1][0] = 'aa'\n",
    "\n",
    "print(f\"l and shallow_l1 are same: {l is shallow_l1}\")\n",
    "print(f'l[1] and shallow_l1[1] are same: {l[1] is shallow_l1[1]}')\n",
    "\n",
    "print(l, shallow_l1, shallow_l2)\n",
    "\n",
    "print(l[1] is shallow_l2[1])"
   ]
  },
  {
   "cell_type": "markdown",
   "id": "13e54e67-2278-4ef3-8b5a-3db6a4f86286",
   "metadata": {},
   "source": [
    "## Deep copy"
   ]
  },
  {
   "cell_type": "code",
   "execution_count": 15,
   "id": "6df838db-b20a-400f-913e-09881968d936",
   "metadata": {},
   "outputs": [
    {
     "name": "stdout",
     "output_type": "stream",
     "text": [
      "[1, ['a', 'b', 'c'], 2, 3] [1, ['a', 'b', 'c'], 2, 3]\n",
      "[1, ['aa', 'b', 'c'], 2, 3] [1, ['a', 'b', 'c'], 2, 3]\n",
      "l and shallow_l1 are same: False\n",
      "l[1] and shallow_l1[1] are same: False\n"
     ]
    }
   ],
   "source": [
    "from copy import deepcopy\n",
    "\n",
    "l = [1, ['a', 'b', 'c'], 2, 3]\n",
    "shallow_l1 = deepcopy(l)\n",
    "\n",
    "print(l, shallow_l1)\n",
    "\n",
    "l[1][0] = 'aa'\n",
    "\n",
    "print(l, shallow_l1)\n",
    "print(f\"l and shallow_l1 are same: {l is shallow_l1}\")\n",
    "print(f'l[1] and shallow_l1[1] are same: {l[1] is shallow_l1[1]}')"
   ]
  },
  {
   "cell_type": "markdown",
   "id": "c2e1452b-ea36-47ee-b86f-6bfc963fbbe1",
   "metadata": {},
   "source": [
    "# STRINGS\n",
    "\n",
    "### ASCII\n",
    "1. Assigns a number to a character (printable and non-printable)\n",
    "2. The same number is converted to binary\n",
    "\n",
    "### UNICODE\n",
    "1. Assigns a code to a character (code point)\n",
    "2. Other standards encode the codepoint to binary ex: UTF-8, UTF-16 etc.\n",
    "3. Backward compatible with ASCII, so same code point as ASCII assigned number for a character.\n",
    "4. https://www.compart.com/en/unicode/"
   ]
  },
  {
   "cell_type": "code",
   "execution_count": 16,
   "id": "67d6d385-a0a0-414e-aadc-d32ca6bc2b82",
   "metadata": {},
   "outputs": [
    {
     "data": {
      "text/plain": [
       "(65, '0x41')"
      ]
     },
     "execution_count": 16,
     "metadata": {},
     "output_type": "execute_result"
    }
   ],
   "source": [
    "# ord gives decimal codepoint for a charcter\n",
    "ord('A'), hex(ord('A'))"
   ]
  },
  {
   "cell_type": "code",
   "execution_count": 17,
   "id": "ddeffb80-625d-45b3-a519-8a64b585b6d0",
   "metadata": {},
   "outputs": [
    {
     "data": {
      "text/plain": [
       "(35, '0x23')"
      ]
     },
     "execution_count": 17,
     "metadata": {},
     "output_type": "execute_result"
    }
   ],
   "source": [
    "ord('#'), hex(ord('#'))"
   ]
  },
  {
   "cell_type": "code",
   "execution_count": 18,
   "id": "19d9176c-2cb9-4c31-b0c6-fb2a3216e510",
   "metadata": {},
   "outputs": [
    {
     "name": "stdout",
     "output_type": "stream",
     "text": [
      "α\n"
     ]
    }
   ],
   "source": [
    "# we can use the name as well\n",
    "print(f\"\\N{Greek Small Letter Alpha}\")"
   ]
  },
  {
   "cell_type": "code",
   "execution_count": 19,
   "id": "7fd2dd2c-c7bf-4e7e-9ea1-3058c07fa7c3",
   "metadata": {},
   "outputs": [
    {
     "data": {
      "text/plain": [
       "(945, '0x3b1')"
      ]
     },
     "execution_count": 19,
     "metadata": {},
     "output_type": "execute_result"
    }
   ],
   "source": [
    "ord(f'\\N{Greek Small Letter Alpha}'), hex(ord(f'\\N{Greek Small Letter Alpha}'))"
   ]
  },
  {
   "cell_type": "code",
   "execution_count": 20,
   "id": "fac099ec-4f5b-44f3-ae43-464b353e3068",
   "metadata": {},
   "outputs": [
    {
     "name": "stdout",
     "output_type": "stream",
     "text": [
      "the letter α is the first greek letter\n"
     ]
    }
   ],
   "source": [
    "# \\u (lowercase u) followed by 4 hex digits also gives us the same\n",
    "print(\"the letter \\u03b1 is the first greek letter\")"
   ]
  },
  {
   "cell_type": "code",
   "execution_count": 21,
   "id": "281cadcc-6935-4d3b-ac42-43a85df6e789",
   "metadata": {},
   "outputs": [
    {
     "name": "stdout",
     "output_type": "stream",
     "text": [
      "the letter α is the first greek letter\n"
     ]
    }
   ],
   "source": [
    "print(\"the letter \\N{Greek Small Letter Alpha} is the first greek letter\")"
   ]
  },
  {
   "cell_type": "code",
   "execution_count": 22,
   "id": "857c7090-89f1-4c44-8220-f46cb3d46053",
   "metadata": {},
   "outputs": [
    {
     "name": "stdout",
     "output_type": "stream",
     "text": [
      "pythons mascot: 🐍\n",
      "🐍\n"
     ]
    }
   ],
   "source": [
    "# but if there are 5 chars then use capital U followed by 0 digits\n",
    "print(\"pythons mascot: \\U0001F40D\")\n",
    "print(\"\\N{snake}\")"
   ]
  },
  {
   "cell_type": "markdown",
   "id": "33154468-4c14-40ad-9429-d5fcf4300478",
   "metadata": {},
   "source": [
    "## String methods\n",
    "1. we use dot method to invoke methods for string class\n",
    "2. strings are immutable so these methods always return a new string\n",
    "3. Always use `casefold()` for caseless comparisions, as lower and upper do not consistently work on non-printable characters."
   ]
  },
  {
   "cell_type": "code",
   "execution_count": 23,
   "id": "9f15ecce-4acd-4fce-b89d-c835f9129bd2",
   "metadata": {},
   "outputs": [],
   "source": [
    "import string\n",
    "# check other methods yourself but tons of methods to get all whitespaces etc."
   ]
  },
  {
   "cell_type": "code",
   "execution_count": 24,
   "id": "fd38db21-e29a-4469-8847-dae2bc46cb2a",
   "metadata": {},
   "outputs": [
    {
     "data": {
      "text/plain": [
       "'abcdefghijklmnopqrstuvwxyzABCDEFGHIJKLMNOPQRSTUVWXYZ'"
      ]
     },
     "execution_count": 24,
     "metadata": {},
     "output_type": "execute_result"
    }
   ],
   "source": [
    "string.ascii_letters"
   ]
  },
  {
   "cell_type": "code",
   "execution_count": 25,
   "id": "9f7222de-5b3e-49e8-bd46-7fc18c97d9af",
   "metadata": {},
   "outputs": [
    {
     "data": {
      "text/plain": [
       "'abcdefghijklmnopqrstuvwxyz'"
      ]
     },
     "execution_count": 25,
     "metadata": {},
     "output_type": "execute_result"
    }
   ],
   "source": [
    "string.ascii_lowercase"
   ]
  },
  {
   "cell_type": "code",
   "execution_count": 26,
   "id": "3e63d98b-4e6c-4eaa-bcc7-7e44c501f189",
   "metadata": {},
   "outputs": [
    {
     "data": {
      "text/plain": [
       "'0123456789'"
      ]
     },
     "execution_count": 26,
     "metadata": {},
     "output_type": "execute_result"
    }
   ],
   "source": [
    "string.digits"
   ]
  },
  {
   "cell_type": "code",
   "execution_count": 27,
   "id": "dcdf8e73-6da6-4042-b7b8-f36ecebcb817",
   "metadata": {},
   "outputs": [
    {
     "data": {
      "text/plain": [
       "'PYTHON'"
      ]
     },
     "execution_count": 27,
     "metadata": {},
     "output_type": "execute_result"
    }
   ],
   "source": [
    "\"python\".upper()"
   ]
  },
  {
   "cell_type": "code",
   "execution_count": 28,
   "id": "0741870e-598c-4d10-b768-c555c2ceb719",
   "metadata": {},
   "outputs": [
    {
     "data": {
      "text/plain": [
       "'One Two Three'"
      ]
     },
     "execution_count": 28,
     "metadata": {},
     "output_type": "execute_result"
    }
   ],
   "source": [
    "'one two three'.title()"
   ]
  },
  {
   "cell_type": "code",
   "execution_count": 29,
   "id": "a92ba6ff-3fe4-44ef-a71d-d27cc4aa06fb",
   "metadata": {},
   "outputs": [
    {
     "data": {
      "text/plain": [
       "'bharath'"
      ]
     },
     "execution_count": 29,
     "metadata": {},
     "output_type": "execute_result"
    }
   ],
   "source": [
    "'BHARATH'.lower()"
   ]
  },
  {
   "cell_type": "code",
   "execution_count": 30,
   "id": "30ac9ba3-ffc6-4918-bef4-baf223432af7",
   "metadata": {},
   "outputs": [
    {
     "data": {
      "text/plain": [
       "True"
      ]
     },
     "execution_count": 30,
     "metadata": {},
     "output_type": "execute_result"
    }
   ],
   "source": [
    "'bhArath'.casefold() == 'BharaTH'.casefold()"
   ]
  },
  {
   "cell_type": "code",
   "execution_count": 31,
   "id": "8f513835-5280-4383-ae6c-ae170ad365aa",
   "metadata": {},
   "outputs": [
    {
     "data": {
      "text/plain": [
       "'a,b,c'"
      ]
     },
     "execution_count": 31,
     "metadata": {},
     "output_type": "execute_result"
    }
   ],
   "source": [
    "','.join(['a', 'b', 'c'])"
   ]
  },
  {
   "cell_type": "code",
   "execution_count": 32,
   "id": "56a39f62-3977-4264-a3e4-77030e54fbd4",
   "metadata": {},
   "outputs": [
    {
     "data": {
      "text/plain": [
       "'10,20,30'"
      ]
     },
     "execution_count": 32,
     "metadata": {},
     "output_type": "execute_result"
    }
   ],
   "source": [
    "\",\".join(str(x) for x in [10, 20, 30])"
   ]
  },
  {
   "cell_type": "code",
   "execution_count": 33,
   "id": "7eba19d1-96ae-4d00-a68b-ffa02894519a",
   "metadata": {},
   "outputs": [
    {
     "data": {
      "text/plain": [
       "'bar'"
      ]
     },
     "execution_count": 33,
     "metadata": {},
     "output_type": "execute_result"
    }
   ],
   "source": [
    "'bar  '.rstrip()"
   ]
  },
  {
   "cell_type": "code",
   "execution_count": 34,
   "id": "12f2d883-4aca-47f1-819a-b1ae0ab2ef52",
   "metadata": {},
   "outputs": [
    {
     "data": {
      "text/plain": [
       "'bar---'"
      ]
     },
     "execution_count": 34,
     "metadata": {},
     "output_type": "execute_result"
    }
   ],
   "source": [
    "'---bar---'.lstrip(\"-\") # remove specific chars"
   ]
  },
  {
   "cell_type": "code",
   "execution_count": 35,
   "id": "d2ddaf83-6286-4640-af54-bae5ec83e275",
   "metadata": {},
   "outputs": [
    {
     "data": {
      "text/plain": [
       "('---bar---', 'bar')"
      ]
     },
     "execution_count": 35,
     "metadata": {},
     "output_type": "execute_result"
    }
   ],
   "source": [
    "'---bar---'.strip(), '---bar---'.strip('-')"
   ]
  },
  {
   "cell_type": "code",
   "execution_count": 36,
   "id": "2ad2a583-0741-4a82-a90d-1b6fd614a152",
   "metadata": {},
   "outputs": [
    {
     "data": {
      "text/plain": [
       "['200', ' 300', ' 400']"
      ]
     },
     "execution_count": 36,
     "metadata": {},
     "output_type": "execute_result"
    }
   ],
   "source": [
    "# returns a list of strings\n",
    "'200, 300, 400'.split(',')"
   ]
  },
  {
   "cell_type": "code",
   "execution_count": 37,
   "id": "81187867-b2de-4dfa-af8c-5c3b0598e268",
   "metadata": {},
   "outputs": [
    {
     "data": {
      "text/plain": [
       "[200, 300, 400]"
      ]
     },
     "execution_count": 37,
     "metadata": {},
     "output_type": "execute_result"
    }
   ],
   "source": [
    "[int(x.strip()) for x in '200, 300, 400'.split(',')]"
   ]
  },
  {
   "cell_type": "markdown",
   "id": "d3540b80-4cd0-4469-8b4c-e242a3472149",
   "metadata": {},
   "source": [
    "# containment methods"
   ]
  },
  {
   "cell_type": "code",
   "execution_count": 38,
   "id": "7eadbce0-2188-4fd1-b3de-b59edb6fe481",
   "metadata": {},
   "outputs": [
    {
     "data": {
      "text/plain": [
       "(True, True, True, True)"
      ]
     },
     "execution_count": 38,
     "metadata": {},
     "output_type": "execute_result"
    }
   ],
   "source": [
    "'x' in 'xyz', 10 in [10, 20, 30], 'Pyt' in 'Python', 10 in (10, 30)"
   ]
  },
  {
   "cell_type": "code",
   "execution_count": 39,
   "id": "6e7db09a-73f8-4f80-a3c8-f81367467688",
   "metadata": {},
   "outputs": [
    {
     "data": {
      "text/plain": [
       "(True, True)"
      ]
     },
     "execution_count": 39,
     "metadata": {},
     "output_type": "execute_result"
    }
   ],
   "source": [
    "'python'.startswith('py'), 'python'.endswith('on')"
   ]
  },
  {
   "cell_type": "markdown",
   "id": "af308cc9-eead-42a8-9a77-07f1cac54253",
   "metadata": {},
   "source": [
    "# finding index"
   ]
  },
  {
   "cell_type": "code",
   "execution_count": 40,
   "id": "edbe13f0-dc59-4cc2-99c2-d49e69e2a13d",
   "metadata": {},
   "outputs": [
    {
     "data": {
      "text/plain": [
       "7"
      ]
     },
     "execution_count": 40,
     "metadata": {},
     "output_type": "execute_result"
    }
   ],
   "source": [
    "'python is a weird language'.index('is')"
   ]
  },
  {
   "cell_type": "code",
   "execution_count": 41,
   "id": "d7e44bc2-1c29-4458-b4d2-503ec806add2",
   "metadata": {},
   "outputs": [
    {
     "ename": "ValueError",
     "evalue": "substring not found",
     "output_type": "error",
     "traceback": [
      "\u001b[31m---------------------------------------------------------------------------\u001b[39m",
      "\u001b[31mValueError\u001b[39m                                Traceback (most recent call last)",
      "\u001b[36mCell\u001b[39m\u001b[36m \u001b[39m\u001b[32mIn[41]\u001b[39m\u001b[32m, line 1\u001b[39m\n\u001b[32m----> \u001b[39m\u001b[32m1\u001b[39m \u001b[33;43m'\u001b[39;49m\u001b[33;43mpython is a weird language\u001b[39;49m\u001b[33;43m'\u001b[39;49m\u001b[43m.\u001b[49m\u001b[43mindex\u001b[49m\u001b[43m(\u001b[49m\u001b[33;43m'\u001b[39;49m\u001b[33;43mjava\u001b[39;49m\u001b[33;43m'\u001b[39;49m\u001b[43m)\u001b[49m\n",
      "\u001b[31mValueError\u001b[39m: substring not found"
     ]
    }
   ],
   "source": [
    "'python is a weird language'.index('java')"
   ]
  },
  {
   "cell_type": "code",
   "execution_count": null,
   "id": "551559a5-d915-46f4-89e2-9658ffd7932e",
   "metadata": {},
   "outputs": [],
   "source": [
    "# find method instead of raising a ValueError returns -1\n",
    "'python is a weird language'.find('is')"
   ]
  },
  {
   "cell_type": "code",
   "execution_count": 42,
   "id": "41f12f09-df55-4df8-9f1d-fda11367bc71",
   "metadata": {},
   "outputs": [
    {
     "data": {
      "text/plain": [
       "-1"
      ]
     },
     "execution_count": 42,
     "metadata": {},
     "output_type": "execute_result"
    }
   ],
   "source": [
    "'python is a weird language'.find('java')"
   ]
  },
  {
   "cell_type": "markdown",
   "id": "9cf72d74-7219-45b6-b587-073913fbe329",
   "metadata": {},
   "source": [
    "# ITERATION"
   ]
  },
  {
   "cell_type": "markdown",
   "id": "d2c854cf-ce36-4857-988d-52acb081e24b",
   "metadata": {},
   "source": [
    "## RANGE\n",
    "1. is an iterable object\n",
    "2. Serves up integers one by one as they are requestes\n",
    "3. All numbers are not in memory thought so is memory efficient"
   ]
  },
  {
   "cell_type": "code",
   "execution_count": 43,
   "id": "d7a9a20a-9023-4e40-92b7-f141b764bf0a",
   "metadata": {},
   "outputs": [
    {
     "name": "stdout",
     "output_type": "stream",
     "text": [
      "range(0, 5) <class 'range'>\n"
     ]
    }
   ],
   "source": [
    "r1 = range(5)\n",
    "print(r1, type(r1))"
   ]
  },
  {
   "cell_type": "code",
   "execution_count": 44,
   "id": "54ba30d5-d2ed-4524-a66d-6fdb012eef86",
   "metadata": {},
   "outputs": [
    {
     "name": "stdout",
     "output_type": "stream",
     "text": [
      "0\n",
      "1\n",
      "2\n",
      "3\n",
      "4\n"
     ]
    }
   ],
   "source": [
    "for x in r1:\n",
    "    print(x)"
   ]
  },
  {
   "cell_type": "code",
   "execution_count": 45,
   "id": "d512d530-9b69-4dd1-8ec1-d1ab5a0e3449",
   "metadata": {},
   "outputs": [
    {
     "data": {
      "text/plain": [
       "[0, 1, 2, 3, 4]"
      ]
     },
     "execution_count": 45,
     "metadata": {},
     "output_type": "execute_result"
    }
   ],
   "source": [
    "list(r1)"
   ]
  },
  {
   "cell_type": "code",
   "execution_count": 46,
   "id": "0111ed5e-e9f6-445f-9102-f38cdca62095",
   "metadata": {},
   "outputs": [
    {
     "name": "stdout",
     "output_type": "stream",
     "text": [
      "1 2 3 4 done\n"
     ]
    }
   ],
   "source": [
    "# For loop iterate over elements of any iterable, Loop mechanism retrieves elements \n",
    "# one at a time from iterable and terminates when all elements end.\n",
    "\n",
    "for x in (1, 2, 3, 4):\n",
    "    print(x, end=' ')\n",
    "print(\"done\")"
   ]
  },
  {
   "cell_type": "code",
   "execution_count": 47,
   "id": "d1ff4d66-ce22-449c-80fa-39102ec31658",
   "metadata": {},
   "outputs": [
    {
     "name": "stdout",
     "output_type": "stream",
     "text": [
      "(0, 1) (1, 3) (2, 5) (3, -7) (4, 9) (5, -11)  \n",
      "[1, 3, 5, 7, 9, 11]\n"
     ]
    }
   ],
   "source": [
    "# enumerate function takes an iterable and returns a tuple of (index, data)\n",
    "data = [1, 3, 5, -7, 9, -11]\n",
    "\n",
    "for index, element in enumerate(data):\n",
    "    \n",
    "    print((index, element), end=' ')\n",
    "    \n",
    "    if element < 0:\n",
    "        data[index] = -1 * element\n",
    "\n",
    "print(\" \")\n",
    "print(data)"
   ]
  },
  {
   "cell_type": "code",
   "execution_count": 48,
   "id": "864a4642-eb5c-40d0-b8a3-9459e2398760",
   "metadata": {},
   "outputs": [
    {
     "name": "stdout",
     "output_type": "stream",
     "text": [
      "FOUND NEGATIVE\n"
     ]
    }
   ],
   "source": [
    "# ELSE clause in loops : executes if and only if no BREAK was encountered in loop execution\n",
    "\n",
    "data = [1, 3, 5, -7, 9, -11]\n",
    "\n",
    "found = False\n",
    "\n",
    "for el in data:\n",
    "    if el < 0:\n",
    "        found = True\n",
    "        break\n",
    "\n",
    "if found:\n",
    "    print(\"FOUND NEGATIVE\")\n",
    "else:\n",
    "    print(\"NO NEGATIVES FOUND\")\n",
    "\n"
   ]
  },
  {
   "cell_type": "code",
   "execution_count": 49,
   "id": "a3f5c5c7-e184-418c-a723-8814e546cbe2",
   "metadata": {},
   "outputs": [
    {
     "name": "stdout",
     "output_type": "stream",
     "text": [
      "FOUND NEGATIVE\n"
     ]
    }
   ],
   "source": [
    "data = [1, 3, 5, 7, -9, 11]\n",
    "\n",
    "found = False\n",
    "\n",
    "for el in data:\n",
    "    if el < 0:\n",
    "        found = True\n",
    "        break\n",
    "else: # if loop executed without any breaks. \n",
    "    print(\"NO NEGATIVES FOUND\")\n",
    "\n",
    "if found:\n",
    "    print(\"FOUND NEGATIVE\")"
   ]
  },
  {
   "cell_type": "code",
   "execution_count": 50,
   "id": "27f55f80-7a3d-4b76-9c5a-590688727d32",
   "metadata": {},
   "outputs": [
    {
     "name": "stdout",
     "output_type": "stream",
     "text": [
      "NO NEGATIVES FOUND\n"
     ]
    }
   ],
   "source": [
    "data = [1, 3, 5, 7, 9, 11]\n",
    "\n",
    "found = False\n",
    "\n",
    "for el in data:\n",
    "    if el < 0:\n",
    "        found = True\n",
    "        break\n",
    "else: # if loop executed without any breaks. \n",
    "    print(\"NO NEGATIVES FOUND\")\n",
    "\n",
    "if found:\n",
    "    print(\"FOUND NEGATIVE\")\n"
   ]
  },
  {
   "cell_type": "markdown",
   "id": "c5a5a2ae-6988-42d7-8703-e95b5358ab79",
   "metadata": {},
   "source": [
    "# DICTIONARIES"
   ]
  },
  {
   "cell_type": "code",
   "execution_count": 51,
   "id": "5a320d80-a8ec-4b7c-937d-96eff05ea7dc",
   "metadata": {},
   "outputs": [
    {
     "data": {
      "text/plain": [
       "120"
      ]
     },
     "execution_count": 51,
     "metadata": {},
     "output_type": "execute_result"
    }
   ],
   "source": [
    "d = {\n",
    "    \"open_\": 120,\n",
    "    \"tick\": \"APPL\",\n",
    "    \"vol\": 3.14\n",
    "}\n",
    "\n",
    "d['open_']"
   ]
  },
  {
   "cell_type": "code",
   "execution_count": 52,
   "id": "576802c8-3cc2-4971-9aa0-ff4a791004f4",
   "metadata": {},
   "outputs": [
    {
     "data": {
      "text/plain": [
       "{'open_': 142, 'tick': 'APPL', 'vol': 3.14}"
      ]
     },
     "execution_count": 52,
     "metadata": {},
     "output_type": "execute_result"
    }
   ],
   "source": [
    "d['open_'] = 142\n",
    "d"
   ]
  },
  {
   "cell_type": "code",
   "execution_count": 53,
   "id": "2dd56361-3480-475a-8471-c11ff082c6ff",
   "metadata": {},
   "outputs": [
    {
     "data": {
      "text/plain": [
       "{'open_': 142, 'tick': 'APPL', 'vol': 3.14, 'close': 150}"
      ]
     },
     "execution_count": 53,
     "metadata": {},
     "output_type": "execute_result"
    }
   ],
   "source": [
    "d['close'] = 150\n",
    "d"
   ]
  },
  {
   "cell_type": "code",
   "execution_count": 54,
   "id": "3d1b8ac8-6483-4c04-98b2-47cad004d88d",
   "metadata": {},
   "outputs": [
    {
     "data": {
      "text/plain": [
       "dict_items([('open_', 142), ('tick', 'APPL'), ('vol', 3.14), ('close', 150)])"
      ]
     },
     "execution_count": 54,
     "metadata": {},
     "output_type": "execute_result"
    }
   ],
   "source": [
    "d.items()"
   ]
  },
  {
   "cell_type": "code",
   "execution_count": 55,
   "id": "2515fb31-9bad-4604-9435-7c3dc6e8b74b",
   "metadata": {},
   "outputs": [
    {
     "data": {
      "text/plain": [
       "dict_keys(['open_', 'tick', 'vol', 'close'])"
      ]
     },
     "execution_count": 55,
     "metadata": {},
     "output_type": "execute_result"
    }
   ],
   "source": [
    "d.keys()"
   ]
  },
  {
   "cell_type": "code",
   "execution_count": 56,
   "id": "2bad1e72-8fd2-4943-9d35-36ab9e4237af",
   "metadata": {},
   "outputs": [
    {
     "data": {
      "text/plain": [
       "dict_values([142, 'APPL', 3.14, 150])"
      ]
     },
     "execution_count": 56,
     "metadata": {},
     "output_type": "execute_result"
    }
   ],
   "source": [
    "d.values()"
   ]
  },
  {
   "cell_type": "code",
   "execution_count": 57,
   "id": "000e3f93-0058-416d-933e-2eef8bccb96e",
   "metadata": {},
   "outputs": [
    {
     "ename": "KeyError",
     "evalue": "'non_exitant_key'",
     "output_type": "error",
     "traceback": [
      "\u001b[31m---------------------------------------------------------------------------\u001b[39m",
      "\u001b[31mKeyError\u001b[39m                                  Traceback (most recent call last)",
      "\u001b[36mCell\u001b[39m\u001b[36m \u001b[39m\u001b[32mIn[57]\u001b[39m\u001b[32m, line 1\u001b[39m\n\u001b[32m----> \u001b[39m\u001b[32m1\u001b[39m \u001b[43md\u001b[49m\u001b[43m[\u001b[49m\u001b[33;43m'\u001b[39;49m\u001b[33;43mnon_exitant_key\u001b[39;49m\u001b[33;43m'\u001b[39;49m\u001b[43m]\u001b[49m\n",
      "\u001b[31mKeyError\u001b[39m: 'non_exitant_key'"
     ]
    }
   ],
   "source": [
    "d['non_exitant_key']"
   ]
  },
  {
   "cell_type": "code",
   "execution_count": 58,
   "id": "fce1afd4-81f2-4976-a238-32b32044dc4e",
   "metadata": {},
   "outputs": [
    {
     "data": {
      "text/plain": [
       "(142, 'Default value')"
      ]
     },
     "execution_count": 58,
     "metadata": {},
     "output_type": "execute_result"
    }
   ],
   "source": [
    "d.get('open_'), d.get('non_exitant_key', \"Default value\")"
   ]
  },
  {
   "cell_type": "code",
   "execution_count": 59,
   "id": "4ed716b2-305b-4fd1-b434-0af5c38433db",
   "metadata": {},
   "outputs": [
    {
     "data": {
      "text/plain": [
       "{'tick': 'APPL', 'vol': 3.14, 'close': 150}"
      ]
     },
     "execution_count": 59,
     "metadata": {},
     "output_type": "execute_result"
    }
   ],
   "source": [
    "del d['open_']\n",
    "d"
   ]
  },
  {
   "cell_type": "code",
   "execution_count": 60,
   "id": "2decf93f-da28-4472-8ea3-d0f77329d5d2",
   "metadata": {},
   "outputs": [
    {
     "ename": "KeyError",
     "evalue": "'nonExistentKey'",
     "output_type": "error",
     "traceback": [
      "\u001b[31m---------------------------------------------------------------------------\u001b[39m",
      "\u001b[31mKeyError\u001b[39m                                  Traceback (most recent call last)",
      "\u001b[36mCell\u001b[39m\u001b[36m \u001b[39m\u001b[32mIn[60]\u001b[39m\u001b[32m, line 1\u001b[39m\n\u001b[32m----> \u001b[39m\u001b[32m1\u001b[39m \u001b[38;5;28;01mdel\u001b[39;00m \u001b[43md\u001b[49m\u001b[43m[\u001b[49m\u001b[33;43m'\u001b[39;49m\u001b[33;43mnonExistentKey\u001b[39;49m\u001b[33;43m'\u001b[39;49m\u001b[43m]\u001b[49m\n",
      "\u001b[31mKeyError\u001b[39m: 'nonExistentKey'"
     ]
    }
   ],
   "source": [
    "del d['nonExistentKey']"
   ]
  },
  {
   "cell_type": "markdown",
   "id": "af64f635-3c29-48a6-be8b-c44d2e872dbe",
   "metadata": {},
   "source": [
    "### Globals stores all the variables in the global namespace"
   ]
  },
  {
   "cell_type": "code",
   "execution_count": 61,
   "id": "3371ed5d-89b1-461e-8ce5-a015cfa8d7a2",
   "metadata": {},
   "outputs": [
    {
     "data": {
      "text/plain": [
       "dict"
      ]
     },
     "execution_count": 61,
     "metadata": {},
     "output_type": "execute_result"
    }
   ],
   "source": [
    "type(globals())"
   ]
  },
  {
   "cell_type": "code",
   "execution_count": 62,
   "id": "78039faf-4723-42e9-98bd-6ef7b7e940bf",
   "metadata": {},
   "outputs": [
    {
     "data": {
      "text/plain": [
       "{'tick': 'APPL', 'vol': 3.14, 'close': 150}"
      ]
     },
     "execution_count": 62,
     "metadata": {},
     "output_type": "execute_result"
    }
   ],
   "source": [
    "globals()['d']"
   ]
  },
  {
   "cell_type": "code",
   "execution_count": 63,
   "id": "b0f28d81-c8ba-4e9f-a6a7-09ed4e5c3450",
   "metadata": {},
   "outputs": [
    {
     "data": {
      "text/plain": [
       "{'a': 0, 'b': 0, 'c': 0}"
      ]
     },
     "execution_count": 63,
     "metadata": {},
     "output_type": "execute_result"
    }
   ],
   "source": [
    "d = dict.fromkeys(['a', 'b', 'c'], 0)\n",
    "d"
   ]
  },
  {
   "cell_type": "code",
   "execution_count": 64,
   "id": "f7b34cdf-1569-4eb9-a350-f88a3df02a1e",
   "metadata": {},
   "outputs": [
    {
     "data": {
      "text/plain": [
       "{'a': [10, 11, 12], 'b': [10, 11, 12], 'c': [10, 11, 12]}"
      ]
     },
     "execution_count": 64,
     "metadata": {},
     "output_type": "execute_result"
    }
   ],
   "source": [
    "d = dict.fromkeys('abc', [10,11,12])\n",
    "d"
   ]
  },
  {
   "cell_type": "code",
   "execution_count": 65,
   "id": "c25b563a-8245-425d-96d6-b454d6c1c0ee",
   "metadata": {},
   "outputs": [
    {
     "data": {
      "text/plain": [
       "({'a': 10, 'b': 3, 'c': 40}, {'b': 3, 'c': 40})"
      ]
     },
     "execution_count": 65,
     "metadata": {},
     "output_type": "execute_result"
    }
   ],
   "source": [
    "d1 = {'a': 10, 'b': 20}\n",
    "d2 = {'b': 3 , 'c': 40}\n",
    "\n",
    "d1.update(d2)\n",
    "d1, d2"
   ]
  },
  {
   "cell_type": "code",
   "execution_count": 66,
   "id": "747cd7be-c92d-450a-b8c4-36ccb0bf680f",
   "metadata": {},
   "outputs": [
    {
     "data": {
      "text/plain": [
       "({'a': 10, 'b': 20}, {'b': 20, 'c': 40, 'a': 10})"
      ]
     },
     "execution_count": 66,
     "metadata": {},
     "output_type": "execute_result"
    }
   ],
   "source": [
    "d1 = {'a': 10, 'b': 20}\n",
    "d2 = {'b': 3 , 'c': 40}\n",
    "\n",
    "d2.update(d1)\n",
    "d1, d2"
   ]
  },
  {
   "cell_type": "markdown",
   "id": "d00a2b61-fa20-438f-b9d8-ca5358fd151e",
   "metadata": {},
   "source": [
    "# SETS\n",
    "1. Are iterables, but iteration order not guaranteed.\n",
    "2. Set elements must be `hashable` and are unique in a set. and since elements are immutable, deepcopy is irrelavent.\n",
    "3. Sets are `mutable`.\n",
    "4. immutable sets are called `frozen sets`, these are used to create set of sets.\n",
    "\n",
    "# Uses of sets\n",
    "1. Membership testing is much faster than testing with lists of tuples.\n",
    "2. easy deduplication\n",
    "3. Faster to find common members in 2 collections\n",
    "4. faster to find elements in one collection but not in other."
   ]
  },
  {
   "cell_type": "code",
   "execution_count": 67,
   "id": "980630db-1b4e-409e-a508-6fdbf6e18354",
   "metadata": {},
   "outputs": [
    {
     "data": {
      "text/plain": [
       "set"
      ]
     },
     "execution_count": 67,
     "metadata": {},
     "output_type": "execute_result"
    }
   ],
   "source": [
    "s = set()\n",
    "type(s)"
   ]
  },
  {
   "cell_type": "code",
   "execution_count": 68,
   "id": "1fdb6c94-ce1d-46bd-b881-0fe8bb879a87",
   "metadata": {},
   "outputs": [
    {
     "data": {
      "text/plain": [
       "({1, 2, 3, 4}, set)"
      ]
     },
     "execution_count": 68,
     "metadata": {},
     "output_type": "execute_result"
    }
   ],
   "source": [
    "s = set([1, 2, 2, 3, 3, 4, 4, 4, 4])\n",
    "s, type(s)"
   ]
  },
  {
   "cell_type": "code",
   "execution_count": 69,
   "id": "535e0e74-79bd-4b64-8c44-ffad0ce517bb",
   "metadata": {},
   "outputs": [
    {
     "data": {
      "text/plain": [
       "({'a', 'b', 'c'}, set)"
      ]
     },
     "execution_count": 69,
     "metadata": {},
     "output_type": "execute_result"
    }
   ],
   "source": [
    "s = {'a', 'b', 'c', 'c'}\n",
    "s, type(s)"
   ]
  },
  {
   "cell_type": "code",
   "execution_count": 70,
   "id": "1c0ea3a4-3796-41bc-acc8-3b82216fd7d5",
   "metadata": {},
   "outputs": [
    {
     "data": {
      "text/plain": [
       "(True, False)"
      ]
     },
     "execution_count": 70,
     "metadata": {},
     "output_type": "execute_result"
    }
   ],
   "source": [
    "'c' in s, 'z' in s"
   ]
  },
  {
   "cell_type": "code",
   "execution_count": 71,
   "id": "9df5b419-1ae6-46f5-847d-51885f483019",
   "metadata": {},
   "outputs": [
    {
     "data": {
      "text/plain": [
       "({'h', 'n', 'o', 'p', 't', 'y'}, set, 6)"
      ]
     },
     "execution_count": 71,
     "metadata": {},
     "output_type": "execute_result"
    }
   ],
   "source": [
    "s = set('python')\n",
    "s, type(s), len(s)"
   ]
  },
  {
   "cell_type": "code",
   "execution_count": 72,
   "id": "5275b88b-d9f2-42e1-afa0-5d6301790872",
   "metadata": {},
   "outputs": [
    {
     "data": {
      "text/plain": [
       "{1, 2, 3, 4}"
      ]
     },
     "execution_count": 72,
     "metadata": {},
     "output_type": "execute_result"
    }
   ],
   "source": [
    "s = {1, 2, 3}\n",
    "s.add(4)\n",
    "s"
   ]
  },
  {
   "cell_type": "code",
   "execution_count": 73,
   "id": "ac050928-984a-43e4-bf3c-02d061b4d23c",
   "metadata": {},
   "outputs": [
    {
     "data": {
      "text/plain": [
       "{1, 2, 3}"
      ]
     },
     "execution_count": 73,
     "metadata": {},
     "output_type": "execute_result"
    }
   ],
   "source": [
    "s.remove(4)\n",
    "s"
   ]
  },
  {
   "cell_type": "code",
   "execution_count": 74,
   "id": "bf9371af-218c-4cd8-8acf-384e3a589136",
   "metadata": {},
   "outputs": [
    {
     "ename": "KeyError",
     "evalue": "5",
     "output_type": "error",
     "traceback": [
      "\u001b[31m---------------------------------------------------------------------------\u001b[39m",
      "\u001b[31mKeyError\u001b[39m                                  Traceback (most recent call last)",
      "\u001b[36mCell\u001b[39m\u001b[36m \u001b[39m\u001b[32mIn[74]\u001b[39m\u001b[32m, line 1\u001b[39m\n\u001b[32m----> \u001b[39m\u001b[32m1\u001b[39m \u001b[43ms\u001b[49m\u001b[43m.\u001b[49m\u001b[43mremove\u001b[49m\u001b[43m(\u001b[49m\u001b[32;43m5\u001b[39;49m\u001b[43m)\u001b[49m\n",
      "\u001b[31mKeyError\u001b[39m: 5"
     ]
    }
   ],
   "source": [
    "s.remove(5)"
   ]
  },
  {
   "cell_type": "code",
   "execution_count": 75,
   "id": "a3de2052-86ee-4ddc-9e70-30b794c5936b",
   "metadata": {},
   "outputs": [
    {
     "data": {
      "text/plain": [
       "{1, 2}"
      ]
     },
     "execution_count": 75,
     "metadata": {},
     "output_type": "execute_result"
    }
   ],
   "source": [
    "s.discard(3)\n",
    "s"
   ]
  },
  {
   "cell_type": "code",
   "execution_count": 76,
   "id": "ce713301-5ce6-40f6-a14f-27b4aeccc8d5",
   "metadata": {},
   "outputs": [
    {
     "data": {
      "text/plain": [
       "{1, 2}"
      ]
     },
     "execution_count": 76,
     "metadata": {},
     "output_type": "execute_result"
    }
   ],
   "source": [
    "# no exception here !\n",
    "s.discard(5)\n",
    "s"
   ]
  },
  {
   "cell_type": "code",
   "execution_count": 77,
   "id": "0cd67ef9-7046-491b-9f43-a56539b2affb",
   "metadata": {},
   "outputs": [
    {
     "data": {
      "text/plain": [
       "True"
      ]
     },
     "execution_count": 77,
     "metadata": {},
     "output_type": "execute_result"
    }
   ],
   "source": [
    "s2 = {3, 4}\n",
    "s.isdisjoint(s2)"
   ]
  },
  {
   "cell_type": "code",
   "execution_count": 78,
   "id": "0f691e96-b303-4d5d-9980-ac3830107639",
   "metadata": {},
   "outputs": [
    {
     "ename": "TypeError",
     "evalue": "unhashable type: 'set'",
     "output_type": "error",
     "traceback": [
      "\u001b[31m---------------------------------------------------------------------------\u001b[39m",
      "\u001b[31mTypeError\u001b[39m                                 Traceback (most recent call last)",
      "\u001b[36mCell\u001b[39m\u001b[36m \u001b[39m\u001b[32mIn[78]\u001b[39m\u001b[32m, line 1\u001b[39m\n\u001b[32m----> \u001b[39m\u001b[32m1\u001b[39m \u001b[43ms2\u001b[49m\u001b[43m.\u001b[49m\u001b[43madd\u001b[49m\u001b[43m(\u001b[49m\u001b[43ms\u001b[49m\u001b[43m)\u001b[49m\n\u001b[32m      2\u001b[39m s2\n",
      "\u001b[31mTypeError\u001b[39m: unhashable type: 'set'"
     ]
    }
   ],
   "source": [
    "s2.add(s)\n",
    "s2"
   ]
  },
  {
   "cell_type": "code",
   "execution_count": 79,
   "id": "b966a8cb-b097-421b-98a5-8d981dad7e50",
   "metadata": {},
   "outputs": [
    {
     "data": {
      "text/plain": [
       "({1, 2}, {1, 2, 3, 4}, True, True)"
      ]
     },
     "execution_count": 79,
     "metadata": {},
     "output_type": "execute_result"
    }
   ],
   "source": [
    "s2.add(1)\n",
    "s2.add(2)\n",
    "s, s2, s.issubset(s2), s2.issuperset(s)"
   ]
  },
  {
   "cell_type": "code",
   "execution_count": 80,
   "id": "2bea1415-58b8-4c16-9832-a635d1b0626a",
   "metadata": {},
   "outputs": [
    {
     "data": {
      "text/plain": [
       "({1, 2, 5, 6}, {1, 2, 3, 4}, {1, 2, 3, 4, 5, 6})"
      ]
     },
     "execution_count": 80,
     "metadata": {},
     "output_type": "execute_result"
    }
   ],
   "source": [
    "# UNION\n",
    "s.add(5)\n",
    "s.add(6)\n",
    "s, s2, s | s2"
   ]
  },
  {
   "cell_type": "code",
   "execution_count": 81,
   "id": "63dac736-696f-4810-bc6c-dc0de703fb40",
   "metadata": {},
   "outputs": [
    {
     "data": {
      "text/plain": [
       "({1, 2, 5, 6}, {1, 2, 3, 4}, {1, 2})"
      ]
     },
     "execution_count": 81,
     "metadata": {},
     "output_type": "execute_result"
    }
   ],
   "source": [
    "# intersection\n",
    "s, s2, s & s2"
   ]
  },
  {
   "cell_type": "code",
   "execution_count": 82,
   "id": "c631e848-422a-4467-ad63-25089ffdaa92",
   "metadata": {},
   "outputs": [
    {
     "data": {
      "text/plain": [
       "({5, 6}, {3, 4})"
      ]
     },
     "execution_count": 82,
     "metadata": {},
     "output_type": "execute_result"
    }
   ],
   "source": [
    "s - s2, s2 - s"
   ]
  },
  {
   "cell_type": "markdown",
   "id": "f8dfde8d-21c2-4cfe-bf59-c72a91bb422f",
   "metadata": {},
   "source": [
    "# COMPREHENSIONS\n",
    "1. convert one iterable to other iterable `[expression for item in iterable if expression2]`\n",
    "2. enumerate function also does this but instead of using functions we can directly use comprehensions\n",
    "3. types of comprehensions\n",
    "   1. list\n",
    "   2. dictionary\n",
    "   3. set\n",
    "   4. generators"
   ]
  },
  {
   "cell_type": "code",
   "execution_count": 83,
   "id": "b9f0887e-f4c7-40c3-9dd1-7b0e94cce2b4",
   "metadata": {},
   "outputs": [
    {
     "data": {
      "text/plain": [
       "[[0, 0, 0], [0, 0, 0], [0, 0, 0]]"
      ]
     },
     "execution_count": 83,
     "metadata": {},
     "output_type": "execute_result"
    }
   ],
   "source": [
    "m = [ [0, 0, 0] for _ in range(3) ]\n",
    "m"
   ]
  },
  {
   "cell_type": "code",
   "execution_count": 84,
   "id": "e8f33600-bc84-4e2c-a659-2a890b100f7a",
   "metadata": {},
   "outputs": [
    {
     "data": {
      "text/plain": [
       "[[0, 1, 0], [0, 0, 0], [0, 0, 0]]"
      ]
     },
     "execution_count": 84,
     "metadata": {},
     "output_type": "execute_result"
    }
   ],
   "source": [
    "m[0][1] = 1\n",
    "m"
   ]
  },
  {
   "cell_type": "code",
   "execution_count": 85,
   "id": "2158419a-2ded-4afb-947e-6fb69a30904a",
   "metadata": {},
   "outputs": [
    {
     "data": {
      "text/plain": [
       "False"
      ]
     },
     "execution_count": 85,
     "metadata": {},
     "output_type": "execute_result"
    }
   ],
   "source": [
    "m[1] is m[2]"
   ]
  },
  {
   "cell_type": "code",
   "execution_count": 86,
   "id": "81c4a454-b4dd-4b1b-a4a6-a5e6b7365e7e",
   "metadata": {},
   "outputs": [
    {
     "data": {
      "text/plain": [
       "[[1, 0, 0], [0, 1, 0], [0, 0, 1]]"
      ]
     },
     "execution_count": 86,
     "metadata": {},
     "output_type": "execute_result"
    }
   ],
   "source": [
    "# 1. expression can also be amother comprehension\n",
    "# 2. outer variable is available inside inner comprehension\n",
    "\n",
    "m = [[0 if col != row else 1 for col in range(3)]  \n",
    "      for row in range(3) ]\n",
    "\n",
    "m"
   ]
  },
  {
   "cell_type": "code",
   "execution_count": 87,
   "id": "6e8ea36d-508f-4210-b82d-c7b97919b4f9",
   "metadata": {},
   "outputs": [],
   "source": [
    "widget_sales = [\n",
    "    {'name': 'widget 1', 'sales': 10},\n",
    "    {'name': 'widget 2', 'sales': 5},\n",
    "    {'name': 'widget 3', 'sales': 0},\n",
    "]"
   ]
  },
  {
   "cell_type": "code",
   "execution_count": 88,
   "id": "72ff731e-028e-4f12-9179-cbe677a80f7b",
   "metadata": {},
   "outputs": [
    {
     "data": {
      "text/plain": [
       "{'widget 1': 10, 'widget 2': 5, 'widget 3': 0}"
      ]
     },
     "execution_count": 88,
     "metadata": {},
     "output_type": "execute_result"
    }
   ],
   "source": [
    "sales_by_widget = {}\n",
    "\n",
    "for d in widget_sales:\n",
    "    sales_by_widget[d['name']] = d['sales']\n",
    "\n",
    "sales_by_widget"
   ]
  },
  {
   "cell_type": "code",
   "execution_count": 89,
   "id": "21b92c26-2f1e-41a2-ae5e-b102d6d6e724",
   "metadata": {},
   "outputs": [
    {
     "data": {
      "text/plain": [
       "{'widget 1': 10, 'widget 2': 5}"
      ]
     },
     "execution_count": 89,
     "metadata": {},
     "output_type": "execute_result"
    }
   ],
   "source": [
    "sales_by_widget = { widget['name']:widget['sales'] for widget in widget_sales if widget['sales'] > 0}\n",
    "\n",
    "sales_by_widget"
   ]
  },
  {
   "cell_type": "code",
   "execution_count": 90,
   "id": "5d5286ad-ca9c-4b90-97fd-7876063b985a",
   "metadata": {},
   "outputs": [
    {
     "data": {
      "text/plain": [
       "{'c': 3, 'b': 2, 'a': 1, 'd': 4}"
      ]
     },
     "execution_count": 90,
     "metadata": {},
     "output_type": "execute_result"
    }
   ],
   "source": [
    "data = ['a', 'b', 'b', 'c', 'c', 'c', 'd', 'd', 'd', 'd']\n",
    "\n",
    "freq = { char:len([x for x in data if x == char]) for char in set(data) }\n",
    "freq"
   ]
  },
  {
   "cell_type": "markdown",
   "id": "787c29fb-57a8-4961-af24-78452c835032",
   "metadata": {},
   "source": [
    "# EXCEPTIONS"
   ]
  },
  {
   "cell_type": "markdown",
   "id": "f41aa613-6432-4913-b959-9bd103c06906",
   "metadata": {},
   "source": [
    "### Raising exceptions"
   ]
  },
  {
   "cell_type": "code",
   "execution_count": 92,
   "id": "a4b0f424-2a82-42f8-8a6d-901b9aed4f21",
   "metadata": {},
   "outputs": [
    {
     "name": "stdin",
     "output_type": "stream",
     "text": [
      "Enter name (must be 5 chars min) brk\n"
     ]
    },
    {
     "ename": "ValueError",
     "evalue": "brk is only 3 chars, name must be at least 5 chars long.",
     "output_type": "error",
     "traceback": [
      "\u001b[31m---------------------------------------------------------------------------\u001b[39m",
      "\u001b[31mValueError\u001b[39m                                Traceback (most recent call last)",
      "\u001b[36mCell\u001b[39m\u001b[36m \u001b[39m\u001b[32mIn[92]\u001b[39m\u001b[32m, line 3\u001b[39m\n\u001b[32m      1\u001b[39m name_ = \u001b[38;5;28minput\u001b[39m(\u001b[33m'\u001b[39m\u001b[33mEnter name (must be 5 chars min)\u001b[39m\u001b[33m'\u001b[39m)\n\u001b[32m      2\u001b[39m \u001b[38;5;28;01mif\u001b[39;00m \u001b[38;5;28mlen\u001b[39m(name_) < \u001b[32m5\u001b[39m:\n\u001b[32m----> \u001b[39m\u001b[32m3\u001b[39m     \u001b[38;5;28;01mraise\u001b[39;00m \u001b[38;5;167;01mValueError\u001b[39;00m(\u001b[33mf\u001b[39m\u001b[33m'\u001b[39m\u001b[38;5;132;01m{\u001b[39;00mname_\u001b[38;5;132;01m}\u001b[39;00m\u001b[33m is only \u001b[39m\u001b[38;5;132;01m{\u001b[39;00m\u001b[38;5;28mlen\u001b[39m(name_)\u001b[38;5;132;01m}\u001b[39;00m\u001b[33m chars, name must be at least 5 chars long.\u001b[39m\u001b[33m'\u001b[39m)\n\u001b[32m      5\u001b[39m \u001b[38;5;28mprint\u001b[39m(\u001b[33mf\u001b[39m\u001b[33m'\u001b[39m\u001b[33mHello \u001b[39m\u001b[38;5;132;01m{\u001b[39;00mname_\u001b[38;5;132;01m}\u001b[39;00m\u001b[33m'\u001b[39m)\n",
      "\u001b[31mValueError\u001b[39m: brk is only 3 chars, name must be at least 5 chars long."
     ]
    }
   ],
   "source": [
    "name_ = input('Enter name (must be 5 chars min)')\n",
    "if len(name_) < 5:\n",
    "    raise ValueError(f'{name_} is only {len(name_)} chars, name must be at least 5 chars long.')\n",
    "\n",
    "print(f'Hello {name_}')"
   ]
  },
  {
   "cell_type": "code",
   "execution_count": 94,
   "id": "e8835c83-23df-4190-acbd-03c5e34cf436",
   "metadata": {},
   "outputs": [
    {
     "name": "stdin",
     "output_type": "stream",
     "text": [
      "Enter name (must be 5 chars min) bharath\n"
     ]
    },
    {
     "name": "stdout",
     "output_type": "stream",
     "text": [
      "Hello bharath\n"
     ]
    }
   ],
   "source": [
    "name_ = input('Enter name (must be 5 chars min)')\n",
    "if len(name_) < 5:\n",
    "    raise ValueError(f'{name_} is only {len(name_)} chars, name must be at least 5 chars long.')\n",
    "\n",
    "print(f'Hello {name_}')"
   ]
  },
  {
   "cell_type": "code",
   "execution_count": 95,
   "id": "fd4182d3-6903-4a8f-a4da-e9df64f3fb5f",
   "metadata": {},
   "outputs": [
    {
     "data": {
      "text/plain": [
       "(ValueError, \"ValueError('must be 5 chars')\", 'must be 5 chars')"
      ]
     },
     "execution_count": 95,
     "metadata": {},
     "output_type": "execute_result"
    }
   ],
   "source": [
    "er = ValueError(\"must be 5 chars\")\n",
    "type(er), repr(er), str(er)"
   ]
  },
  {
   "cell_type": "markdown",
   "id": "8011f11e-1afb-48bf-97bb-d215f6d1b82f",
   "metadata": {},
   "source": [
    "### Exception Handling"
   ]
  },
  {
   "cell_type": "code",
   "execution_count": 96,
   "id": "d0153e4f-060d-4c49-a570-cddb5737e357",
   "metadata": {},
   "outputs": [
    {
     "name": "stdout",
     "output_type": "stream",
     "text": [
      "Exception occurred of type <class 'ZeroDivisionError'>, division by zero\n",
      "This allways runs\n",
      "Code continues....\n"
     ]
    }
   ],
   "source": [
    "try:\n",
    "    1/0\n",
    "except ZeroDivisionError as ex:\n",
    "    print(f'Exception occurred of type {type(ex)}, {ex}')\n",
    "finally:\n",
    "    print('This allways runs')\n",
    "print('Code continues....')"
   ]
  },
  {
   "cell_type": "code",
   "execution_count": 97,
   "id": "abba1207-4bad-4b43-a14d-a9608e873d45",
   "metadata": {},
   "outputs": [
    {
     "name": "stdout",
     "output_type": "stream",
     "text": [
      "This allways runs\n",
      "Code continues....\n"
     ]
    }
   ],
   "source": [
    "try:\n",
    "    1/2\n",
    "except ZeroDivisionError as ex:\n",
    "    print(f'Exception occurred of type {type(ex)}, {ex}')\n",
    "finally:\n",
    "    print('This allways runs')\n",
    "print('Code continues....')"
   ]
  },
  {
   "cell_type": "code",
   "execution_count": 99,
   "id": "671c3b8b-5642-4ee9-9782-62fbb0436848",
   "metadata": {},
   "outputs": [
    {
     "name": "stdout",
     "output_type": "stream",
     "text": [
      "AVG: 15.0\n"
     ]
    }
   ],
   "source": [
    "data = [10, 20]\n",
    "\n",
    "count = 0;\n",
    "sum_ = 0;\n",
    "for x in data:\n",
    "    sum_ += x\n",
    "    count += 1\n",
    "\n",
    "avg = sum_ / count\n",
    "print(f'AVG: {avg}')"
   ]
  },
  {
   "cell_type": "code",
   "execution_count": 100,
   "id": "76df7de0-7dc6-49ad-ba8f-c1a24600ef9c",
   "metadata": {},
   "outputs": [
    {
     "ename": "ZeroDivisionError",
     "evalue": "division by zero",
     "output_type": "error",
     "traceback": [
      "\u001b[31m---------------------------------------------------------------------------\u001b[39m",
      "\u001b[31mZeroDivisionError\u001b[39m                         Traceback (most recent call last)",
      "\u001b[36mCell\u001b[39m\u001b[36m \u001b[39m\u001b[32mIn[100]\u001b[39m\u001b[32m, line 9\u001b[39m\n\u001b[32m      6\u001b[39m     sum_ += x\n\u001b[32m      7\u001b[39m     count += \u001b[32m1\u001b[39m\n\u001b[32m----> \u001b[39m\u001b[32m9\u001b[39m avg = \u001b[43msum_\u001b[49m\u001b[43m \u001b[49m\u001b[43m/\u001b[49m\u001b[43m \u001b[49m\u001b[43mcount\u001b[49m\n\u001b[32m     10\u001b[39m \u001b[38;5;28mprint\u001b[39m(\u001b[33mf\u001b[39m\u001b[33m'\u001b[39m\u001b[33mAVG: \u001b[39m\u001b[38;5;132;01m{\u001b[39;00mavg\u001b[38;5;132;01m}\u001b[39;00m\u001b[33m'\u001b[39m)\n",
      "\u001b[31mZeroDivisionError\u001b[39m: division by zero"
     ]
    }
   ],
   "source": [
    "data = []\n",
    "\n",
    "count = 0;\n",
    "sum_ = 0;\n",
    "for x in data:\n",
    "    sum_ += x\n",
    "    count += 1\n",
    "\n",
    "avg = sum_ / count\n",
    "print(f'AVG: {avg}')"
   ]
  },
  {
   "cell_type": "code",
   "execution_count": 101,
   "id": "956cdbae-1058-4e6f-b67d-6016ad503a9f",
   "metadata": {},
   "outputs": [
    {
     "name": "stdout",
     "output_type": "stream",
     "text": [
      "AVG: 0\n"
     ]
    }
   ],
   "source": [
    "data = []\n",
    "\n",
    "count = 0;\n",
    "sum_ = 0;\n",
    "\n",
    "for x in data:\n",
    "    sum_ += x\n",
    "    count += 1\n",
    "\n",
    "try:\n",
    "    avg = sum_ / count\n",
    "except ZeroDivisionError:\n",
    "    avg = 0\n",
    "print(f'AVG: {avg}')"
   ]
  },
  {
   "cell_type": "code",
   "execution_count": 102,
   "id": "4d28f740-f41b-47db-b970-928dcb54e914",
   "metadata": {},
   "outputs": [
    {
     "ename": "TypeError",
     "evalue": "unsupported operand type(s) for +=: 'int' and 'str'",
     "output_type": "error",
     "traceback": [
      "\u001b[31m---------------------------------------------------------------------------\u001b[39m",
      "\u001b[31mTypeError\u001b[39m                                 Traceback (most recent call last)",
      "\u001b[36mCell\u001b[39m\u001b[36m \u001b[39m\u001b[32mIn[102]\u001b[39m\u001b[32m, line 7\u001b[39m\n\u001b[32m      4\u001b[39m sum_ = \u001b[32m0\u001b[39m;\n\u001b[32m      6\u001b[39m \u001b[38;5;28;01mfor\u001b[39;00m x \u001b[38;5;129;01min\u001b[39;00m data:\n\u001b[32m----> \u001b[39m\u001b[32m7\u001b[39m     \u001b[43msum_\u001b[49m\u001b[43m \u001b[49m\u001b[43m+\u001b[49m\u001b[43m=\u001b[49m\u001b[43m \u001b[49m\u001b[43mx\u001b[49m\n\u001b[32m      8\u001b[39m     count += \u001b[32m1\u001b[39m\n\u001b[32m     10\u001b[39m \u001b[38;5;28;01mtry\u001b[39;00m:\n",
      "\u001b[31mTypeError\u001b[39m: unsupported operand type(s) for +=: 'int' and 'str'"
     ]
    }
   ],
   "source": [
    "data = [10, 20, 'a']\n",
    "\n",
    "count = 0;\n",
    "sum_ = 0;\n",
    "\n",
    "for x in data:\n",
    "    sum_ += x\n",
    "    count += 1\n",
    "\n",
    "try:\n",
    "    avg = sum_ / count\n",
    "except ZeroDivisionError:\n",
    "    avg = 0\n",
    "print(f'AVG: {avg}')"
   ]
  },
  {
   "cell_type": "code",
   "execution_count": 103,
   "id": "99c3c454-334d-4a4a-8f49-2645fc849060",
   "metadata": {},
   "outputs": [
    {
     "name": "stdout",
     "output_type": "stream",
     "text": [
      "AVG: 20.0\n"
     ]
    }
   ],
   "source": [
    "data = [10, 20, 'a', 30, 'b']\n",
    "\n",
    "count = 0;\n",
    "sum_ = 0;\n",
    "\n",
    "for x in data:\n",
    "    try:\n",
    "        sum_ += x\n",
    "        count += 1\n",
    "    except TypeError:\n",
    "        continue\n",
    "\n",
    "try:\n",
    "    avg = sum_ / count\n",
    "except ZeroDivisionError:\n",
    "    avg = 0\n",
    "    \n",
    "print(f'AVG: {avg}')"
   ]
  },
  {
   "cell_type": "markdown",
   "id": "123307e6-2c6b-47c1-80d1-312c7d449c7d",
   "metadata": {},
   "source": [
    "# ITERABLES AND ITERATORS\n",
    "\n",
    "1. `iterable`: a collection of objects that we can iterate over and request next object until exhausted\n",
    "    1. It doesnt know anything about how to iterate.\n",
    "    2. It knows how to create and give us an `iterator` when we need it.\n",
    "    3. implement a `__iter__()` method that returns a new iterator.  \n",
    "2. `iterator`: something that is able to\n",
    "    1. give us the next object when requested. It implements `__next__()` method for this.\n",
    "    2. Keep track of whats given so same element is not given twice\n",
    "    3. inform us when there's nothing left for it to give. It does this by raising `StopIteration` exception when next() is called if there's nothing left.\n",
    "    4. will get exhausted. "
   ]
  },
  {
   "cell_type": "code",
   "execution_count": 104,
   "id": "d3480261-887a-4fb9-9a9a-c46e81f3be28",
   "metadata": {},
   "outputs": [
    {
     "name": "stdout",
     "output_type": "stream",
     "text": [
      "1\n",
      "2\n",
      "3\n",
      "4\n",
      "5\n",
      "Done\n",
      "##########\n",
      "<class 'list'> <class 'list_iterator'>\n"
     ]
    }
   ],
   "source": [
    "l = [1, 2, 3, 4, 5]\n",
    "\n",
    "iterator = iter(l)\n",
    "while True:\n",
    "    try:\n",
    "        print(next(iterator))\n",
    "    except StopIteration:\n",
    "        print(\"Done\")\n",
    "        break\n",
    "\n",
    "print(\"#\" * 10)\n",
    "print(type(l), type(iterator))"
   ]
  },
  {
   "cell_type": "code",
   "execution_count": 105,
   "id": "507f5f9e-4966-4eec-84f0-a49a229f1725",
   "metadata": {},
   "outputs": [
    {
     "data": {
      "text/plain": [
       "4479844560"
      ]
     },
     "execution_count": 105,
     "metadata": {},
     "output_type": "execute_result"
    }
   ],
   "source": [
    "id(iterator)"
   ]
  },
  {
   "cell_type": "code",
   "execution_count": 106,
   "id": "c5809841-9573-429c-9fa9-f973669d65ac",
   "metadata": {},
   "outputs": [
    {
     "ename": "StopIteration",
     "evalue": "",
     "output_type": "error",
     "traceback": [
      "\u001b[31m---------------------------------------------------------------------------\u001b[39m",
      "\u001b[31mStopIteration\u001b[39m                             Traceback (most recent call last)",
      "\u001b[36mCell\u001b[39m\u001b[36m \u001b[39m\u001b[32mIn[106]\u001b[39m\u001b[32m, line 2\u001b[39m\n\u001b[32m      1\u001b[39m \u001b[38;5;66;03m# iterator is exhausted\u001b[39;00m\n\u001b[32m----> \u001b[39m\u001b[32m2\u001b[39m \u001b[38;5;28;43mnext\u001b[39;49m\u001b[43m(\u001b[49m\u001b[43miterator\u001b[49m\u001b[43m)\u001b[49m\n",
      "\u001b[31mStopIteration\u001b[39m: "
     ]
    }
   ],
   "source": [
    "# iterator is exhausted\n",
    "next(iterator)"
   ]
  },
  {
   "cell_type": "code",
   "execution_count": 107,
   "id": "9b8b3432-29b7-48db-8a8e-2eecd5f84a53",
   "metadata": {},
   "outputs": [
    {
     "data": {
      "text/plain": [
       "(4479558384, 1)"
      ]
     },
     "execution_count": 107,
     "metadata": {},
     "output_type": "execute_result"
    }
   ],
   "source": [
    "# new iterator created - different id and now has values.\n",
    "iterator = iter(l)\n",
    "id(iterator), next(iterator)"
   ]
  },
  {
   "cell_type": "code",
   "execution_count": 108,
   "id": "983a617b-9ab1-42fa-bfab-f031bf932edb",
   "metadata": {},
   "outputs": [
    {
     "data": {
      "text/plain": [
       "2"
      ]
     },
     "execution_count": 108,
     "metadata": {},
     "output_type": "execute_result"
    }
   ],
   "source": [
    "# iterator remembers its state\n",
    "next(iterator)"
   ]
  },
  {
   "cell_type": "code",
   "execution_count": 109,
   "id": "04a6ad97-957f-4180-8ebd-ed032f03e76e",
   "metadata": {},
   "outputs": [
    {
     "data": {
      "text/plain": [
       "[3, 4, 5]"
      ]
     },
     "execution_count": 109,
     "metadata": {},
     "output_type": "execute_result"
    }
   ],
   "source": [
    "# now gives only remaining elements as fist 3 has been flushed\n",
    "list(iterator)"
   ]
  },
  {
   "cell_type": "markdown",
   "id": "cd7c359c-730a-4777-ad99-2a47c4ccdef8",
   "metadata": {},
   "source": [
    "## Filterting and Sorting iterables"
   ]
  },
  {
   "cell_type": "code",
   "execution_count": 251,
   "id": "1e9a0841-95e4-48f8-ac85-3887a8a4905c",
   "metadata": {},
   "outputs": [
    {
     "data": {
      "text/plain": [
       "[1, 3, 7, 11]"
      ]
     },
     "execution_count": 251,
     "metadata": {},
     "output_type": "execute_result"
    }
   ],
   "source": [
    "l = [1, 3, -5, 7, -9, 11]\n",
    "\n",
    "[el for el in l if el > 0]"
   ]
  },
  {
   "cell_type": "code",
   "execution_count": 254,
   "id": "42a5c12d-e916-4e2f-997a-a51e2d7f3762",
   "metadata": {},
   "outputs": [
    {
     "data": {
      "text/plain": [
       "[1, 3, 7, 11]"
      ]
     },
     "execution_count": 254,
     "metadata": {},
     "output_type": "execute_result"
    }
   ],
   "source": [
    "l = [1, 3, -5, 7, -9, 11]\n",
    "\n",
    "def is_positive(x):\n",
    "    return x > 0\n",
    "\n",
    "[el for el in l if is_positive(el)]"
   ]
  },
  {
   "cell_type": "code",
   "execution_count": 270,
   "id": "15e9cc8b-be6b-4d99-a38d-afaf3e745306",
   "metadata": {},
   "outputs": [
    {
     "data": {
      "text/plain": [
       "filter"
      ]
     },
     "execution_count": 270,
     "metadata": {},
     "output_type": "execute_result"
    }
   ],
   "source": [
    "l = [1, 3, -5, 7, -9, 11]\n",
    "\n",
    "# any function that returns T/F is called a predicate function\n",
    "def is_positive(x):\n",
    "    return x > 0\n",
    "\n",
    "# filter takes a predicate function and an iterable and returns a lazy_iterator. \n",
    "filtered_l = filter(is_positive, l)\n",
    "\n",
    "type(filtered_l)"
   ]
  },
  {
   "cell_type": "code",
   "execution_count": 271,
   "id": "619a89dc-648b-47d1-a0a7-13889ff17321",
   "metadata": {},
   "outputs": [
    {
     "name": "stdout",
     "output_type": "stream",
     "text": [
      "1\n",
      "3\n",
      "7\n",
      "11\n",
      "\n",
      "End of iterator\n"
     ]
    }
   ],
   "source": [
    "while True:\n",
    "    try:\n",
    "        print(next(filtered_l))\n",
    "    except StopIteration:\n",
    "        print('\\nEnd of iterator')\n",
    "        break"
   ]
  },
  {
   "cell_type": "code",
   "execution_count": 275,
   "id": "d96e89ab-e4e8-4da0-8eac-fa82544fc02c",
   "metadata": {},
   "outputs": [
    {
     "data": {
      "text/plain": [
       "[2, 4, 6]"
      ]
     },
     "execution_count": 275,
     "metadata": {},
     "output_type": "execute_result"
    }
   ],
   "source": [
    "# we can pass in a lambda function as predicate function.\n",
    "filtered_l = filter(lambda x: x%2 == 0, (2, 3, 4, 5, 6, 7))\n",
    "list(filtered_l)"
   ]
  },
  {
   "cell_type": "code",
   "execution_count": 280,
   "id": "e0481e18-46e6-4e5c-8578-43ffa87698b3",
   "metadata": {},
   "outputs": [],
   "source": [
    "data = [\n",
    "    {'date': '2020-04-09', 'symbol': 'APPL', 'open': 100, 'close': 250, 'high': 120},\n",
    "    {'date': '2020-04-09', 'symbol': 'MSFT', 'open': 200, 'close': 320, 'high': 920},\n",
    "    {'date': '2020-04-09', 'symbol': 'AMZN', 'open': 300, 'close': 410, 'high': 720},\n",
    "    {'date': '2020-04-09', 'symbol': 'META', 'open': 400, 'close': 500, 'high': 420}\n",
    "]"
   ]
  },
  {
   "cell_type": "code",
   "execution_count": 281,
   "id": "a07bc158-8c63-4519-959c-ed7230ca46a4",
   "metadata": {},
   "outputs": [
    {
     "data": {
      "text/plain": [
       "[{'date': '2020-04-09',\n",
       "  'symbol': 'APPL',\n",
       "  'open': 100,\n",
       "  'close': 250,\n",
       "  'high': 120},\n",
       " {'date': '2020-04-09',\n",
       "  'symbol': 'MSFT',\n",
       "  'open': 200,\n",
       "  'close': 320,\n",
       "  'high': 920},\n",
       " {'date': '2020-04-09',\n",
       "  'symbol': 'AMZN',\n",
       "  'open': 300,\n",
       "  'close': 410,\n",
       "  'high': 720},\n",
       " {'date': '2020-04-09',\n",
       "  'symbol': 'META',\n",
       "  'open': 400,\n",
       "  'close': 500,\n",
       "  'high': 420}]"
      ]
     },
     "execution_count": 281,
     "metadata": {},
     "output_type": "execute_result"
    }
   ],
   "source": [
    "sorted(data, key=lambda x: x['open'])"
   ]
  },
  {
   "cell_type": "code",
   "execution_count": 283,
   "id": "ba7c5e1f-3b69-4862-a19f-5d11236611d4",
   "metadata": {},
   "outputs": [
    {
     "data": {
      "text/plain": [
       "[{'date': '2020-04-09',\n",
       "  'symbol': 'APPL',\n",
       "  'open': 100,\n",
       "  'close': 250,\n",
       "  'high': 120},\n",
       " {'date': '2020-04-09',\n",
       "  'symbol': 'META',\n",
       "  'open': 400,\n",
       "  'close': 500,\n",
       "  'high': 420},\n",
       " {'date': '2020-04-09',\n",
       "  'symbol': 'AMZN',\n",
       "  'open': 300,\n",
       "  'close': 410,\n",
       "  'high': 720},\n",
       " {'date': '2020-04-09',\n",
       "  'symbol': 'MSFT',\n",
       "  'open': 200,\n",
       "  'close': 320,\n",
       "  'high': 920}]"
      ]
     },
     "execution_count": 283,
     "metadata": {},
     "output_type": "execute_result"
    }
   ],
   "source": [
    "sorted(data, key=lambda x: x['high'] - x['close'])"
   ]
  },
  {
   "cell_type": "code",
   "execution_count": 284,
   "id": "56ac5064-3844-49c3-a782-35179233b9d1",
   "metadata": {},
   "outputs": [
    {
     "data": {
      "text/plain": [
       "{'date': '2020-04-09',\n",
       " 'symbol': 'MSFT',\n",
       " 'open': 200,\n",
       " 'close': 320,\n",
       " 'high': 920}"
      ]
     },
     "execution_count": 284,
     "metadata": {},
     "output_type": "execute_result"
    }
   ],
   "source": [
    "max(data, key=lambda x: x['high'])"
   ]
  },
  {
   "cell_type": "markdown",
   "id": "3fceb467-bdf7-4e74-94cb-422050d73145",
   "metadata": {},
   "source": [
    "# GENERATORS\n",
    "1. are iterators\n",
    "2. they calculate and hand out elements one at a time as requested (`lazy iteration`), unlike list comprehension which calculates all the elements and creates the list immediately.\n",
    "3. saves memory, ex want to iterate until a condition is hit - why calculate all elements.\n",
    "4. Poor choice when one has to iterate over something multiple times ! as generators exhaust. "
   ]
  },
  {
   "cell_type": "code",
   "execution_count": 110,
   "id": "7b59a54f-6856-4474-b38c-d90cb11882da",
   "metadata": {},
   "outputs": [
    {
     "data": {
      "text/plain": [
       "generator"
      ]
     },
     "execution_count": 110,
     "metadata": {},
     "output_type": "execute_result"
    }
   ],
   "source": [
    "squares = (i**2 for i in range(5))\n",
    "type(squares)"
   ]
  },
  {
   "cell_type": "code",
   "execution_count": 111,
   "id": "599404c1-604a-45c7-9c76-5bb1ce43b720",
   "metadata": {},
   "outputs": [
    {
     "name": "stdout",
     "output_type": "stream",
     "text": [
      "0 1 4 9 16 "
     ]
    }
   ],
   "source": [
    "for i in squares:\n",
    "    print(i, end=\" \")"
   ]
  },
  {
   "cell_type": "code",
   "execution_count": 112,
   "id": "b2da16cb-2c46-41f7-9026-61ba5f82f7d9",
   "metadata": {},
   "outputs": [
    {
     "data": {
      "text/plain": [
       "True"
      ]
     },
     "execution_count": 112,
     "metadata": {},
     "output_type": "execute_result"
    }
   ],
   "source": [
    "# iterator returns itself as iterator\n",
    "iter(squares) is squares"
   ]
  },
  {
   "cell_type": "code",
   "execution_count": 113,
   "id": "15884bc4-fab9-4c4c-96a2-c6ae578757b7",
   "metadata": {},
   "outputs": [
    {
     "ename": "StopIteration",
     "evalue": "",
     "output_type": "error",
     "traceback": [
      "\u001b[31m---------------------------------------------------------------------------\u001b[39m",
      "\u001b[31mStopIteration\u001b[39m                             Traceback (most recent call last)",
      "\u001b[36mCell\u001b[39m\u001b[36m \u001b[39m\u001b[32mIn[113]\u001b[39m\u001b[32m, line 1\u001b[39m\n\u001b[32m----> \u001b[39m\u001b[32m1\u001b[39m \u001b[38;5;28;43mnext\u001b[39;49m\u001b[43m(\u001b[49m\u001b[43msquares\u001b[49m\u001b[43m)\u001b[49m\n",
      "\u001b[31mStopIteration\u001b[39m: "
     ]
    }
   ],
   "source": [
    "next(squares)"
   ]
  },
  {
   "cell_type": "code",
   "execution_count": 114,
   "id": "3c3a899f-7a03-4f68-aadf-528ec08f50a0",
   "metadata": {},
   "outputs": [
    {
     "name": "stdout",
     "output_type": "stream",
     "text": [
      "True\n"
     ]
    },
    {
     "data": {
      "text/plain": [
       "[9, 16]"
      ]
     },
     "execution_count": 114,
     "metadata": {},
     "output_type": "execute_result"
    }
   ],
   "source": [
    "# its easy to comsume generators so one has to be careful\n",
    "squares = (i**2 for i in range(5))\n",
    "\n",
    "# python has to generate the elements to check for membership consuming the iterator!\n",
    "print(4 in squares)\n",
    "\n",
    "# iterator already exhausted partially!!\n",
    "list(squares)"
   ]
  },
  {
   "cell_type": "code",
   "execution_count": 115,
   "id": "317968b6-2c30-4d62-8e38-0eeaeea06f36",
   "metadata": {},
   "outputs": [
    {
     "data": {
      "text/plain": [
       "0.7659932080423459"
      ]
     },
     "execution_count": 115,
     "metadata": {},
     "output_type": "execute_result"
    }
   ],
   "source": [
    "from timeit import timeit\n",
    "\n",
    "timeit('[i**2 for i in range(10_000_000)]', number=1)"
   ]
  },
  {
   "cell_type": "code",
   "execution_count": 116,
   "id": "7ff22293-ff6d-49c0-a286-a8ffce79f3e3",
   "metadata": {},
   "outputs": [
    {
     "data": {
      "text/plain": [
       "1.5830155462026596e-06"
      ]
     },
     "execution_count": 116,
     "metadata": {},
     "output_type": "execute_result"
    }
   ],
   "source": [
    "timeit('(i**2 for i in range(10_000_000))', number=1)"
   ]
  },
  {
   "cell_type": "markdown",
   "id": "19a181db-6bdf-4245-bfcd-a2818ce26f1b",
   "metadata": {},
   "source": [
    "# FUNCTIONS"
   ]
  },
  {
   "cell_type": "code",
   "execution_count": 123,
   "id": "3847e7bb-f535-45b4-860c-8c7e7702f1b3",
   "metadata": {},
   "outputs": [
    {
     "name": "stdout",
     "output_type": "stream",
     "text": [
      "<class 'tuple'>\n",
      "(1, 2, 10)\n"
     ]
    },
    {
     "data": {
      "text/plain": [
       "4.333333333333333"
      ]
     },
     "execution_count": 123,
     "metadata": {},
     "output_type": "execute_result"
    }
   ],
   "source": [
    "def my_avg(*values):\n",
    "    print(type(values))\n",
    "    print(values)\n",
    "    try:\n",
    "        return sum(values)/len(values)\n",
    "    except ZeroDivisionError as er:\n",
    "        print(f'Error: {er}')\n",
    "        return 0\n",
    "    except TypeError as er:\n",
    "        print(f'Error: {er}')\n",
    "        return 0\n",
    "\n",
    "my_avg(1, 2, 10)"
   ]
  },
  {
   "cell_type": "code",
   "execution_count": 136,
   "id": "e6e6c407-99ac-4b22-b102-dc431aa138a8",
   "metadata": {},
   "outputs": [
    {
     "name": "stdout",
     "output_type": "stream",
     "text": [
      "<class 'tuple'> (1, 2, 3, 4)\n",
      "~~~~~~~~~~\n",
      "\n",
      "<class 'tuple'> ([1, 2, 3, 4],)\n",
      "~~~~~~~~~~\n",
      "\n",
      "<class 'tuple'> (1, 2, 3, 4)\n",
      "~~~~~~~~~~\n",
      "\n"
     ]
    }
   ],
   "source": [
    "l = [1, 2, 3, 4]\n",
    "\n",
    "def my_func(*args):\n",
    "    print(type(args), args)\n",
    "    print('~' * 10 + '\\n')\n",
    "\n",
    "my_func(1, 2, 3, 4)\n",
    "my_func(l)\n",
    "my_func(*l) # <- unpacking before passing"
   ]
  },
  {
   "cell_type": "code",
   "execution_count": 143,
   "id": "613a2bcc-4b62-48ca-9051-cc9f788d4768",
   "metadata": {},
   "outputs": [
    {
     "name": "stdout",
     "output_type": "stream",
     "text": [
      "1\n",
      "2\n",
      "()\n",
      "3\n",
      "~~~~~~~~~~\n",
      "1\n",
      "2\n",
      "(3, 4, 5)\n",
      "6\n",
      "~~~~~~~~~~\n"
     ]
    },
    {
     "data": {
      "text/plain": [
       "0"
      ]
     },
     "execution_count": 143,
     "metadata": {},
     "output_type": "execute_result"
    }
   ],
   "source": [
    "# if an argument comes after *args , it must be a named parameter : else how would python know how many to add to the tuple *args\n",
    "\n",
    "def my_func(a, b, *args , c):\n",
    "    print(a)\n",
    "    print(b)\n",
    "    print(args)\n",
    "    print(c)\n",
    "    print('~' * 10)\n",
    "    return 0\n",
    "\n",
    "my_func(1, 2, c = 3)\n",
    "my_func(1, 2, 3, 4, 5, c = 6)"
   ]
  },
  {
   "cell_type": "code",
   "execution_count": 146,
   "id": "36a6b86a-e345-4be6-8687-7b273bb684dc",
   "metadata": {},
   "outputs": [
    {
     "ename": "SyntaxError",
     "evalue": "positional argument follows keyword argument (3070583016.py, line 11)",
     "output_type": "error",
     "traceback": [
      "  \u001b[36mCell\u001b[39m\u001b[36m \u001b[39m\u001b[32mIn[146]\u001b[39m\u001b[32m, line 11\u001b[39m\n\u001b[31m    \u001b[39m\u001b[31mmy_func(1, b=2, 3, 4, 5, c = 6, d=7)\u001b[39m\n                                       ^\n\u001b[31mSyntaxError\u001b[39m\u001b[31m:\u001b[39m positional argument follows keyword argument\n"
     ]
    }
   ],
   "source": [
    "# Positional arg cannot follow a keyword arg, and once a keyword arg\n",
    "def my_func(a, b, *args , c=1, d=2):\n",
    "    print(a)\n",
    "    print(b)\n",
    "    print(args)\n",
    "    print(c)\n",
    "    print('~' * 10)\n",
    "    return 0\n",
    "\n",
    "my_func(1, 2, c = 3)\n",
    "my_func(1, b=2, 3, 4, 5, c = 6, d=7)"
   ]
  },
  {
   "cell_type": "code",
   "execution_count": 153,
   "id": "071da700-eaae-459a-a89a-4e994e25afe4",
   "metadata": {},
   "outputs": [
    {
     "name": "stdout",
     "output_type": "stream",
     "text": [
      "1\n",
      "2\n",
      "10\n",
      "3\n",
      "~~~~~~~~~~\n",
      "\n",
      "1\n",
      "2\n",
      "6\n",
      "7\n",
      "~~~~~~~~~~\n",
      "\n"
     ]
    }
   ],
   "source": [
    "# once a default arg is specified all subsequent args must have default values, else how would python know if specified value is for c or d)\n",
    "\n",
    "def my_func(a, b, c=10, d=20):\n",
    "    print(a)\n",
    "    print(b)\n",
    "    print(c)\n",
    "    print(d)\n",
    "    print('~' * 10 + '\\n')\n",
    "    return None\n",
    "\n",
    "my_func(1, 2, d = 3)\n",
    "my_func(1, b = 2, c = 6, d=7)"
   ]
  },
  {
   "cell_type": "code",
   "execution_count": 158,
   "id": "3c198b6f-5e65-4287-bd8d-6f3eb4ea7ae0",
   "metadata": {},
   "outputs": [
    {
     "name": "stdout",
     "output_type": "stream",
     "text": [
      "10 20 30 40\n"
     ]
    }
   ],
   "source": [
    "# placing a '*' forces all subsequent args to be keyword args only\n",
    "\n",
    "def my_func(a, b, *, c, d):\n",
    "    print(a, b, c, d)\n",
    "    return None\n",
    "\n",
    "my_func(10, 20, c = 30, d = 40)"
   ]
  },
  {
   "cell_type": "code",
   "execution_count": 159,
   "id": "6e85a66e-f292-4cf3-93fb-62dab543a563",
   "metadata": {},
   "outputs": [
    {
     "name": "stdout",
     "output_type": "stream",
     "text": [
      "optional positional args a:10, b:20\n",
      "Variable positional args:(30, 40)\n",
      "key-Word only args: c:50, d:60\n",
      "Variable kw args: {'e': 70, 'f': 80, 'g': 90}\n"
     ]
    }
   ],
   "source": [
    "def my_func(a, b, *args, c, d, **kwargs):\n",
    "    print(f'optional positional args a:{a}, b:{b}')\n",
    "    print(f'Variable positional args:{args}')\n",
    "    print(f'key-Word only args: c:{c}, d:{d}')\n",
    "    print(f'Variable kw args: {kwargs}')\n",
    "\n",
    "my_func(10, 20, 30, 40, c=50, d=60, e=70, f=80, g=90)"
   ]
  },
  {
   "cell_type": "markdown",
   "id": "0fc48dae-44a9-453e-8fca-c73c885211ab",
   "metadata": {},
   "source": [
    "# LAMBDAS"
   ]
  },
  {
   "cell_type": "code",
   "execution_count": 163,
   "id": "9e7f21d6-6a1d-4e2e-b443-48761f64c871",
   "metadata": {},
   "outputs": [
    {
     "name": "stdout",
     "output_type": "stream",
     "text": [
      "['Bharath', 'Kavery', 'Asha', 'Om']\n"
     ]
    }
   ],
   "source": [
    "names = [\"Kavery\", \"Bharath\", \"Asha\", \"Om\"]\n",
    "sorted_names = sorted(names, key=lambda name: len(name), reverse=True)\n",
    "print(sorted_names)"
   ]
  },
  {
   "cell_type": "code",
   "execution_count": 162,
   "id": "e5786bfb-0317-4ec0-a922-8c1a6e5ad797",
   "metadata": {},
   "outputs": [
    {
     "name": "stdout",
     "output_type": "stream",
     "text": [
      "[32.0, 68.0, 98.60000000000001, 212.0]\n"
     ]
    }
   ],
   "source": [
    "temps_c = [0, 20, 37, 100]\n",
    "temps_f = list(map(lambda c: (9/5) * c + 32, temps_c))\n",
    "print(temps_f)"
   ]
  },
  {
   "cell_type": "markdown",
   "id": "6e905457-460f-4fb1-8bb0-db9217bad089",
   "metadata": {},
   "source": [
    "# ZIP"
   ]
  },
  {
   "cell_type": "code",
   "execution_count": 164,
   "id": "25ef93de-67f7-4e5f-bd16-95be99339274",
   "metadata": {},
   "outputs": [
    {
     "data": {
      "text/plain": [
       "zip"
      ]
     },
     "execution_count": 164,
     "metadata": {},
     "output_type": "execute_result"
    }
   ],
   "source": [
    "l1 = [1, 2]\n",
    "l2 = [10, 20, 30, 40]\n",
    "z = zip(l1, l2)\n",
    "type(z)"
   ]
  },
  {
   "cell_type": "code",
   "execution_count": 165,
   "id": "2d2427d0-2931-41af-b99b-0bb3f3970cf2",
   "metadata": {},
   "outputs": [
    {
     "data": {
      "text/plain": [
       "(1, 10)"
      ]
     },
     "execution_count": 165,
     "metadata": {},
     "output_type": "execute_result"
    }
   ],
   "source": [
    "next(z)"
   ]
  },
  {
   "cell_type": "code",
   "execution_count": 166,
   "id": "571ec2e2-d5e4-4cd9-a1ad-f55fdeeb5ab2",
   "metadata": {},
   "outputs": [
    {
     "data": {
      "text/plain": [
       "(2, 20)"
      ]
     },
     "execution_count": 166,
     "metadata": {},
     "output_type": "execute_result"
    }
   ],
   "source": [
    "next(z)"
   ]
  },
  {
   "cell_type": "code",
   "execution_count": 167,
   "id": "61c24749-5460-4555-a347-dd579d9bf221",
   "metadata": {},
   "outputs": [
    {
     "ename": "StopIteration",
     "evalue": "",
     "output_type": "error",
     "traceback": [
      "\u001b[31m---------------------------------------------------------------------------\u001b[39m",
      "\u001b[31mStopIteration\u001b[39m                             Traceback (most recent call last)",
      "\u001b[36mCell\u001b[39m\u001b[36m \u001b[39m\u001b[32mIn[167]\u001b[39m\u001b[32m, line 1\u001b[39m\n\u001b[32m----> \u001b[39m\u001b[32m1\u001b[39m \u001b[38;5;28;43mnext\u001b[39;49m\u001b[43m(\u001b[49m\u001b[43mz\u001b[49m\u001b[43m)\u001b[49m\n",
      "\u001b[31mStopIteration\u001b[39m: "
     ]
    }
   ],
   "source": [
    "next(z)"
   ]
  },
  {
   "cell_type": "code",
   "execution_count": 168,
   "id": "7932ba67-0737-4e5a-8605-560648ebde05",
   "metadata": {},
   "outputs": [
    {
     "data": {
      "text/plain": [
       "[(1, 10), (2, 20)]"
      ]
     },
     "execution_count": 168,
     "metadata": {},
     "output_type": "execute_result"
    }
   ],
   "source": [
    "list(zip(l1, l2))"
   ]
  },
  {
   "cell_type": "code",
   "execution_count": 170,
   "id": "525e508b-fd19-456e-9514-baf49c662905",
   "metadata": {},
   "outputs": [
    {
     "data": {
      "text/plain": [
       "{'bharath': 10, 'maxie': 20}"
      ]
     },
     "execution_count": 170,
     "metadata": {},
     "output_type": "execute_result"
    }
   ],
   "source": [
    "l1 = ['bharath', 'maxie']\n",
    "l2 = [10, 20]\n",
    "\n",
    "{ key:value for key,value in zip(l1,l2) }"
   ]
  },
  {
   "cell_type": "markdown",
   "id": "a75f27ec-bd6d-4457-88ef-b0cb5482049a",
   "metadata": {},
   "source": [
    "# MAP\n",
    "1. is essentially `iterator = map(function, iterable)`.\n",
    "2. map returns an iterator, as we move to next item python calls function(element).\n",
    "3. Less wasted space\n",
    "4. saves computation if we dont iterate over entire list.\n",
    "5. equivalently we could just use a generator expression `(func(el) for el in iterable)`"
   ]
  },
  {
   "cell_type": "code",
   "execution_count": 189,
   "id": "46526273-cdfd-445f-9fc9-872b739be7e6",
   "metadata": {},
   "outputs": [
    {
     "data": {
      "text/plain": [
       "map"
      ]
     },
     "execution_count": 189,
     "metadata": {},
     "output_type": "execute_result"
    }
   ],
   "source": [
    "data = ['bharath reddy', 'maxi meen', 'cheeky boo']\n",
    "\n",
    "def my_func(fullName):\n",
    "    first, last = fullName.split(' ')\n",
    "    return ('').join([first.capitalize(), last.capitalize()])\n",
    "\n",
    "mapped_list = map(my_func, data)\n",
    "type(mapped_list)"
   ]
  },
  {
   "cell_type": "code",
   "execution_count": 190,
   "id": "e0794307-c1cc-4a17-9fe2-8a4912d66832",
   "metadata": {},
   "outputs": [
    {
     "name": "stdout",
     "output_type": "stream",
     "text": [
      "BharathReddy\n",
      "MaxiMeen\n",
      "CheekyBoo\n",
      "-----\n",
      "iterator empty\n"
     ]
    }
   ],
   "source": [
    "while True:\n",
    "    try:\n",
    "        print(next(mapped_list))\n",
    "    except StopIteration:\n",
    "        print(\"-----\\niterator empty\")\n",
    "        break"
   ]
  },
  {
   "cell_type": "code",
   "execution_count": 191,
   "id": "2b288394-0cf2-4b31-9d23-ba4e6576c44e",
   "metadata": {},
   "outputs": [
    {
     "data": {
      "text/plain": [
       "generator"
      ]
     },
     "execution_count": 191,
     "metadata": {},
     "output_type": "execute_result"
    }
   ],
   "source": [
    "mapped_list = (my_func(x) for x in data)\n",
    "type(mapped_list)"
   ]
  },
  {
   "cell_type": "code",
   "execution_count": 192,
   "id": "ca7e2e87-440a-4e57-8b1a-7ca85083242a",
   "metadata": {},
   "outputs": [
    {
     "name": "stdout",
     "output_type": "stream",
     "text": [
      "BharathReddy\n",
      "MaxiMeen\n",
      "CheekyBoo\n",
      "-----\n",
      "iterator empty\n"
     ]
    }
   ],
   "source": [
    "while True:\n",
    "    try:\n",
    "        print(next(mapped_list))\n",
    "    except StopIteration:\n",
    "        print(\"-----\\niterator empty\")\n",
    "        break"
   ]
  },
  {
   "cell_type": "markdown",
   "id": "09da0dd5-3401-4928-b392-57251feba2b5",
   "metadata": {},
   "source": [
    "# CLOSURES"
   ]
  },
  {
   "cell_type": "code",
   "execution_count": 232,
   "id": "40794ecf-3fbe-454a-a329-19ad2c761ceb",
   "metadata": {},
   "outputs": [],
   "source": [
    "def my_factorial(n):\n",
    "    res = 1\n",
    "    for i in range(1, n+1):\n",
    "        res *= i\n",
    "    return res\n",
    "\n",
    "def my_diagonal(rows, columns, *, diagonal_element = 1):\n",
    "    return [\n",
    "        [\n",
    "            diagonal_element if row==column else 0 \n",
    "            for column in range(columns)\n",
    "        ] \n",
    "        for row in range(rows)\n",
    "    ]"
   ]
  },
  {
   "cell_type": "code",
   "execution_count": 233,
   "id": "5804f715-57da-4d4b-a9ff-a2c56ca8ecd7",
   "metadata": {},
   "outputs": [
    {
     "data": {
      "text/plain": [
       "120"
      ]
     },
     "execution_count": 233,
     "metadata": {},
     "output_type": "execute_result"
    }
   ],
   "source": [
    "my_factorial(5)"
   ]
  },
  {
   "cell_type": "code",
   "execution_count": 234,
   "id": "8dcb1c6a-ebd4-45e2-8752-67490c5275e2",
   "metadata": {},
   "outputs": [
    {
     "data": {
      "text/plain": [
       "[[-1, 0, 0, 0, 0],\n",
       " [0, -1, 0, 0, 0],\n",
       " [0, 0, -1, 0, 0],\n",
       " [0, 0, 0, -1, 0],\n",
       " [0, 0, 0, 0, -1]]"
      ]
     },
     "execution_count": 234,
     "metadata": {},
     "output_type": "execute_result"
    }
   ],
   "source": [
    "my_diagonal(5, 5, diagonal_element=-1)"
   ]
  },
  {
   "cell_type": "markdown",
   "id": "26a9cec0-4fba-4ca3-abc9-926fd407b467",
   "metadata": {},
   "source": [
    "### Now i want to time these functions. here is how in can do this\n",
    "1. write a function and wrap my functions around it\n",
    "2. closure.\n",
    "3. Decorators\n",
    "   \n",
    "Lets explore both these methods and see whats the difference"
   ]
  },
  {
   "cell_type": "code",
   "execution_count": 210,
   "id": "b3fd85f6-cdf6-4fb9-8612-4b187a5e4bb1",
   "metadata": {},
   "outputs": [],
   "source": [
    "from time import perf_counter"
   ]
  },
  {
   "cell_type": "code",
   "execution_count": 235,
   "id": "05308d50-c4f3-4a73-8e53-da86e8ea87cd",
   "metadata": {},
   "outputs": [],
   "source": [
    "def time_my_function(func, *args, **kwargs):\n",
    "    start_time = perf_counter()\n",
    "    result = func(*args, **kwargs)\n",
    "    end_time = perf_counter()\n",
    "    print(f'Time elapsed: {end_time - start_time}s')\n",
    "    return result"
   ]
  },
  {
   "cell_type": "code",
   "execution_count": 236,
   "id": "e87b3519-0d63-4f6e-9368-78fca738ce94",
   "metadata": {},
   "outputs": [
    {
     "name": "stdout",
     "output_type": "stream",
     "text": [
      "Time elapsed: 0.0005317090544849634s\n"
     ]
    },
    {
     "data": {
      "text/plain": [
       "402387260077093773543702433923003985719374864210714632543799910429938512398629020592044208486969404800479988610197196058631666872994808558901323829669944590997424504087073759918823627727188732519779505950995276120874975462497043601418278094646496291056393887437886487337119181045825783647849977012476632889835955735432513185323958463075557409114262417474349347553428646576611667797396668820291207379143853719588249808126867838374559731746136085379534524221586593201928090878297308431392844403281231558611036976801357304216168747609675871348312025478589320767169132448426236131412508780208000261683151027341827977704784635868170164365024153691398281264810213092761244896359928705114964975419909342221566832572080821333186116811553615836546984046708975602900950537616475847728421889679646244945160765353408198901385442487984959953319101723355556602139450399736280750137837615307127761926849034352625200015888535147331611702103968175921510907788019393178114194545257223865541461062892187960223838971476088506276862967146674697562911234082439208160153780889893964518263243671616762179168909779911903754031274622289988005195444414282012187361745992642956581746628302955570299024324153181617210465832036786906117260158783520751516284225540265170483304226143974286933061690897968482590125458327168226458066526769958652682272807075781391858178889652208164348344825993266043367660176999612831860788386150279465955131156552036093988180612138558600301435694527224206344631797460594682573103790084024432438465657245014402821885252470935190620929023136493273497565513958720559654228749774011413346962715422845862377387538230483865688976461927383814900140767310446640259899490222221765904339901886018566526485061799702356193897017860040811889729918311021171229845901641921068884387121855646124960798722908519296819372388642614839657382291123125024186649353143970137428531926649875337218940694281434118520158014123344828015051399694290153483077644569099073152433278288269864602789864321139083506217095002597389863554277196742822248757586765752344220207573630569498825087968928162753848863396909959826280956121450994871701244516461260379029309120889086942028510640182154399457156805941872748998094254742173582401063677404595741785160829230135358081840096996372524230560855903700624271243416909004153690105933983835777939410970027753472000000000000000000000000000000000000000000000000000000000000000000000000000000000000000000000000000000000000000000000000000000000000000000000000000000000000000000000000000000000000000000000000000000000000000000000000000000000000000000000000000000000"
      ]
     },
     "execution_count": 236,
     "metadata": {},
     "output_type": "execute_result"
    }
   ],
   "source": [
    "time_my_function(my_factorial, 1000)"
   ]
  },
  {
   "cell_type": "code",
   "execution_count": 237,
   "id": "2fddee86-5c7e-4853-863f-2c79c0e6ef0c",
   "metadata": {},
   "outputs": [
    {
     "name": "stdout",
     "output_type": "stream",
     "text": [
      "Time elapsed: 6.166985258460045e-06s\n"
     ]
    },
    {
     "data": {
      "text/plain": [
       "[[-1, 0, 0, 0, 0],\n",
       " [0, -1, 0, 0, 0],\n",
       " [0, 0, -1, 0, 0],\n",
       " [0, 0, 0, -1, 0],\n",
       " [0, 0, 0, 0, -1]]"
      ]
     },
     "execution_count": 237,
     "metadata": {},
     "output_type": "execute_result"
    }
   ],
   "source": [
    "time_my_function(my_diagonal, 5, 5, diagonal_element = -1)"
   ]
  },
  {
   "cell_type": "markdown",
   "id": "8f05d348-9d08-45c3-a45d-fe1f8c128679",
   "metadata": {},
   "source": [
    "## Issues with above method\n",
    "1. I have to use this `time_my_function` instead of my original functions.\n",
    "2. I have no autocompletion available, i have to remember parameters of each function now.\n",
    "\n",
    "## Lets try a closures"
   ]
  },
  {
   "cell_type": "code",
   "execution_count": 238,
   "id": "3b6bf038-f7bd-4670-8cdc-171253b0374a",
   "metadata": {},
   "outputs": [],
   "source": [
    "def outer(func):\n",
    "    def inner(*args, **kwargs):\n",
    "        start_time = perf_counter()\n",
    "        result = func(*args, **kwargs)\n",
    "        end_time = perf_counter()\n",
    "        print(f'Time elapsed: {end_time - start_time}s')\n",
    "        return result\n",
    "    return inner"
   ]
  },
  {
   "cell_type": "code",
   "execution_count": 239,
   "id": "91955ecb-a4f7-47ce-ad6c-9e90ec6d57aa",
   "metadata": {},
   "outputs": [],
   "source": [
    "timed_my_factorial = outer(my_factorial)"
   ]
  },
  {
   "cell_type": "code",
   "execution_count": 240,
   "id": "69cbd7bd-a204-4047-b5d0-e00b30985d86",
   "metadata": {},
   "outputs": [
    {
     "data": {
      "text/plain": [
       "function"
      ]
     },
     "execution_count": 240,
     "metadata": {},
     "output_type": "execute_result"
    }
   ],
   "source": [
    "type(timed_my_factorial)"
   ]
  },
  {
   "cell_type": "markdown",
   "id": "2d604dc1-ac03-4786-ab26-e00b5d610dc6",
   "metadata": {},
   "source": [
    "## Note the address of function object which is the closure here."
   ]
  },
  {
   "cell_type": "code",
   "execution_count": 241,
   "id": "0ca3fbf4-bf5b-46bb-a867-4ae405fa111b",
   "metadata": {},
   "outputs": [
    {
     "data": {
      "text/plain": [
       "(<cell at 0x10c4ce800: function object at 0x10c6b5080>,)"
      ]
     },
     "execution_count": 241,
     "metadata": {},
     "output_type": "execute_result"
    }
   ],
   "source": [
    "timed_my_factorial.__closure__"
   ]
  },
  {
   "cell_type": "code",
   "execution_count": 242,
   "id": "07a5fc77-449f-457a-9a4c-eb497badff5c",
   "metadata": {},
   "outputs": [
    {
     "data": {
      "text/plain": [
       "'0x10c6b5080'"
      ]
     },
     "execution_count": 242,
     "metadata": {},
     "output_type": "execute_result"
    }
   ],
   "source": [
    "hex(id(my_factorial))"
   ]
  },
  {
   "cell_type": "code",
   "execution_count": 243,
   "id": "cb0b997c-ee42-4d61-8d72-bb14f7732d5e",
   "metadata": {},
   "outputs": [
    {
     "name": "stdout",
     "output_type": "stream",
     "text": [
      "Time elapsed: 0.0005364589160308242s\n"
     ]
    },
    {
     "data": {
      "text/plain": [
       "402387260077093773543702433923003985719374864210714632543799910429938512398629020592044208486969404800479988610197196058631666872994808558901323829669944590997424504087073759918823627727188732519779505950995276120874975462497043601418278094646496291056393887437886487337119181045825783647849977012476632889835955735432513185323958463075557409114262417474349347553428646576611667797396668820291207379143853719588249808126867838374559731746136085379534524221586593201928090878297308431392844403281231558611036976801357304216168747609675871348312025478589320767169132448426236131412508780208000261683151027341827977704784635868170164365024153691398281264810213092761244896359928705114964975419909342221566832572080821333186116811553615836546984046708975602900950537616475847728421889679646244945160765353408198901385442487984959953319101723355556602139450399736280750137837615307127761926849034352625200015888535147331611702103968175921510907788019393178114194545257223865541461062892187960223838971476088506276862967146674697562911234082439208160153780889893964518263243671616762179168909779911903754031274622289988005195444414282012187361745992642956581746628302955570299024324153181617210465832036786906117260158783520751516284225540265170483304226143974286933061690897968482590125458327168226458066526769958652682272807075781391858178889652208164348344825993266043367660176999612831860788386150279465955131156552036093988180612138558600301435694527224206344631797460594682573103790084024432438465657245014402821885252470935190620929023136493273497565513958720559654228749774011413346962715422845862377387538230483865688976461927383814900140767310446640259899490222221765904339901886018566526485061799702356193897017860040811889729918311021171229845901641921068884387121855646124960798722908519296819372388642614839657382291123125024186649353143970137428531926649875337218940694281434118520158014123344828015051399694290153483077644569099073152433278288269864602789864321139083506217095002597389863554277196742822248757586765752344220207573630569498825087968928162753848863396909959826280956121450994871701244516461260379029309120889086942028510640182154399457156805941872748998094254742173582401063677404595741785160829230135358081840096996372524230560855903700624271243416909004153690105933983835777939410970027753472000000000000000000000000000000000000000000000000000000000000000000000000000000000000000000000000000000000000000000000000000000000000000000000000000000000000000000000000000000000000000000000000000000000000000000000000000000000000000000000000000000000"
      ]
     },
     "execution_count": 243,
     "metadata": {},
     "output_type": "execute_result"
    }
   ],
   "source": [
    "timed_my_factorial(1000)"
   ]
  },
  {
   "cell_type": "code",
   "execution_count": 244,
   "id": "b355738e-de15-4932-a5ba-97fd70436d07",
   "metadata": {},
   "outputs": [
    {
     "data": {
      "text/plain": [
       "((<cell at 0x10c4cdae0: function object at 0x10c4b9300>,), '0x10c4b9300')"
      ]
     },
     "execution_count": 244,
     "metadata": {},
     "output_type": "execute_result"
    }
   ],
   "source": [
    "timed_my_diagonal = outer(my_diagnoal)\n",
    "timed_my_diagonal.__closure__, hex(id(my_diagnoal))"
   ]
  },
  {
   "cell_type": "code",
   "execution_count": 245,
   "id": "0d723bd2-7ff9-4b6d-bbee-01a00241e5f4",
   "metadata": {},
   "outputs": [
    {
     "name": "stdout",
     "output_type": "stream",
     "text": [
      "Time elapsed: 6.958027370274067e-06s\n",
      "Time elapsed: 7.337506394833326e-05s\n"
     ]
    },
    {
     "data": {
      "text/plain": [
       "[[9, 0, 0, 0, 0],\n",
       " [0, 9, 0, 0, 0],\n",
       " [0, 0, 9, 0, 0],\n",
       " [0, 0, 0, 9, 0],\n",
       " [0, 0, 0, 0, 9]]"
      ]
     },
     "execution_count": 245,
     "metadata": {},
     "output_type": "execute_result"
    }
   ],
   "source": [
    "timed_my_diagonal(5, 5, diagonal_element = 9)"
   ]
  },
  {
   "cell_type": "markdown",
   "id": "a4f1851b-1778-43db-aad1-c0b798ca8614",
   "metadata": {},
   "source": [
    "## Issues with above\n",
    "1. no function signature, so i have to remember it,\n",
    "2. no function docs cleanly available.\n",
    "\n",
    "## Lets try decorators"
   ]
  },
  {
   "cell_type": "code",
   "execution_count": 246,
   "id": "4ebc1d12-640e-43f3-bd8e-8ac76178e138",
   "metadata": {},
   "outputs": [],
   "source": [
    "def outer(func):\n",
    "    def inner(*args, **kwargs):\n",
    "        start_time = perf_counter()\n",
    "        result = func(*args, **kwargs)\n",
    "        end_time = perf_counter()\n",
    "        print(f'Time elapsed: {end_time - start_time}s')\n",
    "        return result\n",
    "    return inner\n",
    "\n",
    "@outer\n",
    "def my_factorial(n):\n",
    "    res = 1\n",
    "    for i in range(1, n+1):\n",
    "        res *= i\n",
    "    return res\n",
    "\n",
    "@outer\n",
    "def my_diagonal(rows, columns, *, diagonal_element = 1):\n",
    "    return [\n",
    "        [\n",
    "            diagonal_element if row==column else 0 \n",
    "            for column in range(columns)\n",
    "        ] \n",
    "        for row in range(rows)\n",
    "    ]   "
   ]
  },
  {
   "cell_type": "code",
   "execution_count": 247,
   "id": "4470cffb-c84e-498b-9b9e-29c942800136",
   "metadata": {},
   "outputs": [
    {
     "name": "stdout",
     "output_type": "stream",
     "text": [
      "Time elapsed: 3.4580007195472717e-06s\n"
     ]
    },
    {
     "data": {
      "text/plain": [
       "3628800"
      ]
     },
     "execution_count": 247,
     "metadata": {},
     "output_type": "execute_result"
    }
   ],
   "source": [
    "my_factorial(10)"
   ]
  },
  {
   "cell_type": "code",
   "execution_count": 250,
   "id": "88306cd7-168d-4c0e-88d8-49bc5e8269e3",
   "metadata": {},
   "outputs": [
    {
     "name": "stdout",
     "output_type": "stream",
     "text": [
      "Time elapsed: 1.2709060683846474e-05s\n"
     ]
    },
    {
     "data": {
      "text/plain": [
       "[[-1, 0, 0, 0, 0],\n",
       " [0, -1, 0, 0, 0],\n",
       " [0, 0, -1, 0, 0],\n",
       " [0, 0, 0, -1, 0],\n",
       " [0, 0, 0, 0, -1]]"
      ]
     },
     "execution_count": 250,
     "metadata": {},
     "output_type": "execute_result"
    }
   ],
   "source": [
    "my_diagonal(5, 5, diagonal_element = -1)"
   ]
  },
  {
   "cell_type": "markdown",
   "id": "fc6a2c54-3d1c-4121-8844-f9881bae0c25",
   "metadata": {},
   "source": [
    "# DECORATORS"
   ]
  },
  {
   "cell_type": "code",
   "execution_count": 294,
   "id": "4ce25603-2411-41ee-aebc-018b445984bc",
   "metadata": {},
   "outputs": [],
   "source": [
    "import logging"
   ]
  },
  {
   "cell_type": "code",
   "execution_count": 296,
   "id": "b0f712ee-d8f1-45b7-ba02-63428484d037",
   "metadata": {},
   "outputs": [],
   "source": [
    "logging.basicConfig(\n",
    "    format='%(asctime)s %(levelname)s: %(message)s',\n",
    "    level=logging.DEBUG\n",
    ")"
   ]
  },
  {
   "cell_type": "code",
   "execution_count": 297,
   "id": "7491b1af-547a-49a4-b25d-f544f2626214",
   "metadata": {},
   "outputs": [],
   "source": [
    "# instantiate a logger\n",
    "logger = logging.getLogger('Custom Log')"
   ]
  },
  {
   "cell_type": "code",
   "execution_count": 298,
   "id": "d5e67e4a-146f-4957-915d-3d67237816f6",
   "metadata": {},
   "outputs": [
    {
     "name": "stderr",
     "output_type": "stream",
     "text": [
      "2025-10-19 14:01:30,041 DEBUG: debug message\n"
     ]
    }
   ],
   "source": [
    "logger.debug('debug message')"
   ]
  },
  {
   "cell_type": "code",
   "execution_count": 299,
   "id": "c1cbbc28-f725-4f0f-8960-8af3392a6f43",
   "metadata": {},
   "outputs": [
    {
     "name": "stderr",
     "output_type": "stream",
     "text": [
      "2025-10-19 14:01:39,089 WARNING: warning message\n"
     ]
    }
   ],
   "source": [
    "logger.warning('warning message')"
   ]
  },
  {
   "cell_type": "code",
   "execution_count": 300,
   "id": "d621dd0d-befc-4890-a0bd-8e76cbc623a3",
   "metadata": {},
   "outputs": [
    {
     "name": "stderr",
     "output_type": "stream",
     "text": [
      "2025-10-19 14:01:46,757 ERROR: some error message\n"
     ]
    }
   ],
   "source": [
    "logger.error('some error message')"
   ]
  },
  {
   "cell_type": "code",
   "execution_count": 301,
   "id": "0eba5e20-bf29-4aa6-be43-0c0d04ca2451",
   "metadata": {},
   "outputs": [
    {
     "name": "stderr",
     "output_type": "stream",
     "text": [
      "2025-10-19 14:04:37,110 DEBUG: fn: my_add, elapsed: 7.080379873514175e-07\n"
     ]
    },
    {
     "data": {
      "text/plain": [
       "7"
      ]
     },
     "execution_count": 301,
     "metadata": {},
     "output_type": "execute_result"
    }
   ],
   "source": [
    "def log(func):\n",
    "    def inner(*args, **kwargs):\n",
    "        start_time = perf_counter()\n",
    "        result = func(*args, **kwargs)\n",
    "        end_time = perf_counter()\n",
    "        logger.debug(f'fn: {func.__name__}, elapsed: {end_time - start_time}')\n",
    "        return result\n",
    "    return inner\n",
    "\n",
    "@log\n",
    "def my_add(a, b):\n",
    "    return a + b\n",
    "\n",
    "my_add(2, 5)"
   ]
  },
  {
   "cell_type": "markdown",
   "id": "30917afa-03ac-48c8-a330-0ae18e5f80ca",
   "metadata": {},
   "source": [
    "## LRU CACHING\n",
    "1. is a clever usage of decorators\n",
    "2. function should be deterministic and for same args we can cache the results for any given args"
   ]
  },
  {
   "cell_type": "code",
   "execution_count": 320,
   "id": "793fd4bd-5a64-4d4d-99fc-502839c5b3d9",
   "metadata": {},
   "outputs": [],
   "source": [
    "def my_lru(fn):\n",
    "    cache = {}\n",
    "    def inner(*args):\n",
    "        if not cache.get(args):\n",
    "            print(\"cache miss\")\n",
    "            cache[args] = fn(*args)\n",
    "        print(f'cache: {cache}')\n",
    "        result = cache[args]\n",
    "        return result\n",
    "    return inner\n",
    "\n",
    "@my_lru\n",
    "def my_add(*args):\n",
    "    return sum(args)"
   ]
  },
  {
   "cell_type": "code",
   "execution_count": 321,
   "id": "9252698e-bffb-456f-8350-2bf1562fd0ed",
   "metadata": {},
   "outputs": [
    {
     "name": "stdout",
     "output_type": "stream",
     "text": [
      "cache miss\n",
      "cache: {(2, 5): 7}\n"
     ]
    },
    {
     "data": {
      "text/plain": [
       "7"
      ]
     },
     "execution_count": 321,
     "metadata": {},
     "output_type": "execute_result"
    }
   ],
   "source": [
    "my_add(2, 5)"
   ]
  },
  {
   "cell_type": "code",
   "execution_count": 323,
   "id": "722b5166-8bc0-4f85-b164-061a1f35f771",
   "metadata": {},
   "outputs": [
    {
     "name": "stdout",
     "output_type": "stream",
     "text": [
      "cache miss\n",
      "cache: {(2, 5): 7, (2, 5, 7): 14}\n"
     ]
    },
    {
     "data": {
      "text/plain": [
       "14"
      ]
     },
     "execution_count": 323,
     "metadata": {},
     "output_type": "execute_result"
    }
   ],
   "source": [
    "my_add(2, 5, 7)"
   ]
  },
  {
   "cell_type": "code",
   "execution_count": 324,
   "id": "6d846a13-c0eb-4bda-a8a4-e2d819c73714",
   "metadata": {},
   "outputs": [
    {
     "name": "stdout",
     "output_type": "stream",
     "text": [
      "cache: {(2, 5): 7, (2, 5, 7): 14}\n"
     ]
    },
    {
     "data": {
      "text/plain": [
       "7"
      ]
     },
     "execution_count": 324,
     "metadata": {},
     "output_type": "execute_result"
    }
   ],
   "source": [
    "my_add(2, 5)"
   ]
  },
  {
   "cell_type": "code",
   "execution_count": 335,
   "id": "470c20e7-e8ea-439e-ae08-b94f3bac026e",
   "metadata": {},
   "outputs": [],
   "source": [
    "def my_fibonachi(n):\n",
    "    if n<= 0:\n",
    "        print(\"Incorrect input\")\n",
    "    # First Fibonacci number is 0\n",
    "    elif n == 1:\n",
    "        return 0\n",
    "    # Second Fibonacci number is 1\n",
    "    elif n == 2:\n",
    "        return 1\n",
    "    else:\n",
    "        return my_fibonachi(n-1)+my_fibonachi(n-2)"
   ]
  },
  {
   "cell_type": "code",
   "execution_count": 337,
   "id": "9de1ab4f-cb00-4373-8c4f-9ed7d3ae9bce",
   "metadata": {},
   "outputs": [
    {
     "name": "stdout",
     "output_type": "stream",
     "text": [
      "Result: 5702887, Time: 2.1130339169176295s\n"
     ]
    }
   ],
   "source": [
    "start_time = perf_counter()\n",
    "result = my_fibonachi(35)\n",
    "end_time = perf_counter()\n",
    "\n",
    "print(f'Result: {result}, Time: {end_time - start_time}s')"
   ]
  },
  {
   "cell_type": "code",
   "execution_count": 338,
   "id": "1d2ed5d3-fc2c-4b12-bb5f-a6f84efcb6d4",
   "metadata": {},
   "outputs": [],
   "source": [
    "from functools import lru_cache"
   ]
  },
  {
   "cell_type": "code",
   "execution_count": 339,
   "id": "12abdaed-2305-4fe7-9eba-23a781932614",
   "metadata": {},
   "outputs": [],
   "source": [
    "@lru_cache\n",
    "def my_fibonachi(n):\n",
    "    if n<= 0:\n",
    "        print(\"Incorrect input\")\n",
    "    # First Fibonacci number is 0\n",
    "    elif n == 1:\n",
    "        return 0\n",
    "    # Second Fibonacci number is 1\n",
    "    elif n == 2:\n",
    "        return 1\n",
    "    else:\n",
    "        return my_fibonachi(n-1)+my_fibonachi(n-2)"
   ]
  },
  {
   "cell_type": "code",
   "execution_count": 340,
   "id": "e63f7c5c-4c15-4c33-95b0-754cef174c31",
   "metadata": {},
   "outputs": [
    {
     "name": "stdout",
     "output_type": "stream",
     "text": [
      "Result: 5702887, Time: 0.00013874995056539774s\n"
     ]
    }
   ],
   "source": [
    "start_time = perf_counter()\n",
    "result = my_fibonachi(35)\n",
    "end_time = perf_counter()\n",
    "\n",
    "print(f'Result: {result}, Time: {end_time - start_time}s')"
   ]
  },
  {
   "cell_type": "code",
   "execution_count": 342,
   "id": "57f5c943-d655-4f36-bde9-0dec04b3ad3a",
   "metadata": {},
   "outputs": [
    {
     "name": "stdout",
     "output_type": "stream",
     "text": [
      "Result: 5702887, Time: 9.02500469237566e-05s\n"
     ]
    }
   ],
   "source": [
    "def my_lru(fn):\n",
    "    cache = {}\n",
    "    def inner(*args):\n",
    "        if not cache.get(args):\n",
    "            cache[args] = fn(*args)\n",
    "        result = cache[args]\n",
    "        return result\n",
    "    return inner\n",
    "\n",
    "\n",
    "@my_lru\n",
    "def my_fibonachi(n):\n",
    "    if n<= 0:\n",
    "        print(\"Incorrect input\")\n",
    "    # First Fibonacci number is 0\n",
    "    elif n == 1:\n",
    "        return 0\n",
    "    # Second Fibonacci number is 1\n",
    "    elif n == 2:\n",
    "        return 1\n",
    "    else:\n",
    "        return my_fibonachi(n-1)+my_fibonachi(n-2)\n",
    "\n",
    "\n",
    "start_time = perf_counter()\n",
    "result = my_fibonachi(35)\n",
    "end_time = perf_counter()\n",
    "\n",
    "print(f'Result: {result}, Time: {end_time - start_time}s')"
   ]
  },
  {
   "cell_type": "code",
   "execution_count": null,
   "id": "4c10bdde-42b0-42be-8bb9-2cd51466a8f0",
   "metadata": {},
   "outputs": [],
   "source": []
  }
 ],
 "metadata": {
  "kernelspec": {
   "display_name": "Python (fundamentals)",
   "language": "python",
   "name": "fundamentals"
  },
  "language_info": {
   "codemirror_mode": {
    "name": "ipython",
    "version": 3
   },
   "file_extension": ".py",
   "mimetype": "text/x-python",
   "name": "python",
   "nbconvert_exporter": "python",
   "pygments_lexer": "ipython3",
   "version": "3.13.7"
  }
 },
 "nbformat": 4,
 "nbformat_minor": 5
}
