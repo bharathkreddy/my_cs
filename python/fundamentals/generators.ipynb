{
 "cells": [
  {
   "cell_type": "markdown",
   "id": "95af7530-23fd-406b-bc76-d470f096fd04",
   "metadata": {},
   "source": [
    "# GENERATORS\n",
    "### A function that uses the `yield` statement, is called a `generator function`\n",
    "- `yield` emits a value & halts the execution of the function, but retains the current state.\n",
    "- calling `next` on the function `resumes` the running of the function right `after` the yield statement\n",
    "- if function `returns` something instead of yeilding -> `StopIteration`\n",
    "- calling a generator function returns a `generator object`"
   ]
  },
  {
   "cell_type": "code",
   "execution_count": 7,
   "id": "7465e629-1c50-4412-b2e5-f84853ebcce5",
   "metadata": {},
   "outputs": [
    {
     "data": {
      "text/plain": [
       "(generator, function)"
      ]
     },
     "execution_count": 7,
     "metadata": {},
     "output_type": "execute_result"
    }
   ],
   "source": [
    "def my_func():\n",
    "    print('line 1')\n",
    "    yield 'ONE'\n",
    "    print('line 2')\n",
    "    yield 'TWO'\n",
    "    print('line 3')\n",
    "    yield 'THREE'\n",
    "\n",
    "gen = my_func()\n",
    "\n",
    "type(gen), type(my_func)"
   ]
  },
  {
   "cell_type": "code",
   "execution_count": 8,
   "id": "a515e93a-afc7-4c18-a872-5a8391fb3953",
   "metadata": {},
   "outputs": [
    {
     "name": "stdout",
     "output_type": "stream",
     "text": [
      "line 1\n"
     ]
    },
    {
     "data": {
      "text/plain": [
       "'ONE'"
      ]
     },
     "execution_count": 8,
     "metadata": {},
     "output_type": "execute_result"
    }
   ],
   "source": [
    "next(gen)"
   ]
  },
  {
   "cell_type": "code",
   "execution_count": 9,
   "id": "64924c1b-6da3-4852-ad01-c143acea1cfe",
   "metadata": {},
   "outputs": [
    {
     "name": "stdout",
     "output_type": "stream",
     "text": [
      "line 2\n"
     ]
    },
    {
     "data": {
      "text/plain": [
       "'TWO'"
      ]
     },
     "execution_count": 9,
     "metadata": {},
     "output_type": "execute_result"
    }
   ],
   "source": [
    "next(gen)"
   ]
  },
  {
   "cell_type": "code",
   "execution_count": 10,
   "id": "ea2c8893-1b27-451c-8f72-8c1bc7e82457",
   "metadata": {},
   "outputs": [
    {
     "name": "stdout",
     "output_type": "stream",
     "text": [
      "line 3\n"
     ]
    },
    {
     "data": {
      "text/plain": [
       "'THREE'"
      ]
     },
     "execution_count": 10,
     "metadata": {},
     "output_type": "execute_result"
    }
   ],
   "source": [
    "next(gen)"
   ]
  },
  {
   "cell_type": "code",
   "execution_count": 11,
   "id": "dd9ba22f-319f-4439-b2a5-703358634003",
   "metadata": {},
   "outputs": [
    {
     "ename": "StopIteration",
     "evalue": "",
     "output_type": "error",
     "traceback": [
      "\u001b[31m---------------------------------------------------------------------------\u001b[39m",
      "\u001b[31mStopIteration\u001b[39m                             Traceback (most recent call last)",
      "\u001b[36mCell\u001b[39m\u001b[36m \u001b[39m\u001b[32mIn[11]\u001b[39m\u001b[32m, line 1\u001b[39m\n\u001b[32m----> \u001b[39m\u001b[32m1\u001b[39m \u001b[38;5;28;43mnext\u001b[39;49m\u001b[43m(\u001b[49m\u001b[43mgen\u001b[49m\u001b[43m)\u001b[49m\n",
      "\u001b[31mStopIteration\u001b[39m: "
     ]
    }
   ],
   "source": [
    "next(gen)"
   ]
  },
  {
   "cell_type": "markdown",
   "id": "3951e29b-2333-4608-971d-813b41d60c23",
   "metadata": {},
   "source": [
    "# generators are iterators |"
   ]
  },
  {
   "cell_type": "code",
   "execution_count": 13,
   "id": "00ca4d3b-fe41-4b2d-a00f-c13b402b0e7b",
   "metadata": {},
   "outputs": [
    {
     "data": {
      "text/plain": [
       "True"
      ]
     },
     "execution_count": 13,
     "metadata": {},
     "output_type": "execute_result"
    }
   ],
   "source": [
    "'__iter__' in dir(gen)"
   ]
  },
  {
   "cell_type": "code",
   "execution_count": 14,
   "id": "ea89e46f-4fa6-49ec-8267-358a06d925cd",
   "metadata": {},
   "outputs": [
    {
     "data": {
      "text/plain": [
       "True"
      ]
     },
     "execution_count": 14,
     "metadata": {},
     "output_type": "execute_result"
    }
   ],
   "source": [
    "'__next__' in dir(gen)"
   ]
  },
  {
   "cell_type": "code",
   "execution_count": 15,
   "id": "c6d25cf9-1ac4-4cad-9cc5-9094be45e624",
   "metadata": {},
   "outputs": [
    {
     "data": {
      "text/plain": [
       "True"
      ]
     },
     "execution_count": 15,
     "metadata": {},
     "output_type": "execute_result"
    }
   ],
   "source": [
    "iter(gen) is gen"
   ]
  },
  {
   "cell_type": "markdown",
   "id": "9a99159b-0209-47d3-9318-6f682e9eff1b",
   "metadata": {},
   "source": [
    "### they are exhausted when functions returns (in above its implicit return of None when all yeilds are done"
   ]
  },
  {
   "cell_type": "code",
   "execution_count": 19,
   "id": "a5d95837-2656-48f9-ac34-64219a831b8e",
   "metadata": {},
   "outputs": [],
   "source": [
    "import math"
   ]
  },
  {
   "cell_type": "code",
   "execution_count": 31,
   "id": "d09aa4ed-425d-49c3-832f-9bc499190f0c",
   "metadata": {},
   "outputs": [
    {
     "name": "stdout",
     "output_type": "stream",
     "text": [
      "1\n",
      "1\n",
      "2\n",
      "6\n",
      "24\n"
     ]
    }
   ],
   "source": [
    "class Fact:\n",
    "    def __init__(self, length):\n",
    "        self.length = length\n",
    "        self.i = 0\n",
    "\n",
    "    def __iter__(self):\n",
    "        return self\n",
    "\n",
    "    def __next__(self):\n",
    "        if self.i >= self.length:\n",
    "            raise StopIteration\n",
    "        else:\n",
    "            result = math.factorial(self.i)\n",
    "            self.i += 1\n",
    "            return result\n",
    "\n",
    "fact_iter = Fact(5)\n",
    "for fact in fact_iter:\n",
    "    print(fact)"
   ]
  },
  {
   "cell_type": "code",
   "execution_count": 32,
   "id": "db15a0cc-85dd-42d5-b7ae-a6de5d1f2a12",
   "metadata": {},
   "outputs": [
    {
     "data": {
      "text/plain": [
       "[]"
      ]
     },
     "execution_count": 32,
     "metadata": {},
     "output_type": "execute_result"
    }
   ],
   "source": [
    "[x for x in fact_iter]"
   ]
  },
  {
   "cell_type": "code",
   "execution_count": 33,
   "id": "0e8cf2ff-6772-4f0f-8391-fb7a6b6e4520",
   "metadata": {},
   "outputs": [],
   "source": [
    "def fact(length):\n",
    "    for i in range(length):\n",
    "        yield math.factorial(i)"
   ]
  },
  {
   "cell_type": "code",
   "execution_count": 34,
   "id": "faed19e5-65e3-4da7-b326-c8584f16194a",
   "metadata": {},
   "outputs": [],
   "source": [
    "fact_iter = fact(5)"
   ]
  },
  {
   "cell_type": "code",
   "execution_count": 35,
   "id": "49845eb0-83db-40f9-8c75-ddb82b5075cc",
   "metadata": {},
   "outputs": [
    {
     "name": "stdout",
     "output_type": "stream",
     "text": [
      "1\n",
      "1\n",
      "2\n",
      "6\n",
      "24\n"
     ]
    }
   ],
   "source": [
    "for fact in fact_iter:\n",
    "    print(fact)"
   ]
  },
  {
   "cell_type": "markdown",
   "id": "a9b375be-b8d9-411e-ae23-6e1a21344b84",
   "metadata": {},
   "source": [
    "# we can use closures here "
   ]
  },
  {
   "cell_type": "code",
   "execution_count": 55,
   "id": "81e32da9-ab16-4087-8d9e-7e52ce86ba44",
   "metadata": {},
   "outputs": [],
   "source": [
    "def fact(length):\n",
    "    i = 0\n",
    "    def inner():\n",
    "        nonlocal i\n",
    "        if i >= length:\n",
    "            raise StopIteration\n",
    "        else:\n",
    "            result = math.factorial(i)\n",
    "            i += 1\n",
    "        return result\n",
    "    return inner\n",
    "\n",
    "f = fact(5)"
   ]
  },
  {
   "cell_type": "code",
   "execution_count": 56,
   "id": "d1d4c8df-1088-46ba-b530-85bfcae4d84b",
   "metadata": {},
   "outputs": [
    {
     "name": "stdout",
     "output_type": "stream",
     "text": [
      "1\n",
      "1\n",
      "2\n",
      "6\n",
      "24\n"
     ]
    },
    {
     "ename": "StopIteration",
     "evalue": "",
     "output_type": "error",
     "traceback": [
      "\u001b[31m---------------------------------------------------------------------------\u001b[39m",
      "\u001b[31mStopIteration\u001b[39m                             Traceback (most recent call last)",
      "\u001b[36mCell\u001b[39m\u001b[36m \u001b[39m\u001b[32mIn[56]\u001b[39m\u001b[32m, line 2\u001b[39m\n\u001b[32m      1\u001b[39m \u001b[38;5;28;01mfor\u001b[39;00m _ \u001b[38;5;129;01min\u001b[39;00m \u001b[38;5;28mrange\u001b[39m(\u001b[32m10\u001b[39m):\n\u001b[32m----> \u001b[39m\u001b[32m2\u001b[39m     \u001b[38;5;28mprint\u001b[39m(\u001b[43mf\u001b[49m\u001b[43m(\u001b[49m\u001b[43m)\u001b[49m)\n",
      "\u001b[36mCell\u001b[39m\u001b[36m \u001b[39m\u001b[32mIn[55]\u001b[39m\u001b[32m, line 6\u001b[39m, in \u001b[36mfact.<locals>.inner\u001b[39m\u001b[34m()\u001b[39m\n\u001b[32m      4\u001b[39m \u001b[38;5;28;01mnonlocal\u001b[39;00m i\n\u001b[32m      5\u001b[39m \u001b[38;5;28;01mif\u001b[39;00m i >= length:\n\u001b[32m----> \u001b[39m\u001b[32m6\u001b[39m     \u001b[38;5;28;01mraise\u001b[39;00m \u001b[38;5;167;01mStopIteration\u001b[39;00m\n\u001b[32m      7\u001b[39m \u001b[38;5;28;01melse\u001b[39;00m:\n\u001b[32m      8\u001b[39m     result = math.factorial(i)\n",
      "\u001b[31mStopIteration\u001b[39m: "
     ]
    }
   ],
   "source": [
    "for _ in range(10):\n",
    "    print(f())"
   ]
  },
  {
   "cell_type": "markdown",
   "id": "b38b09dd-a482-4be8-a7c9-7b1748e085eb",
   "metadata": {},
   "source": [
    "## we can use sentinel value"
   ]
  },
  {
   "cell_type": "code",
   "execution_count": 57,
   "id": "4baa6ff5-8fb0-4222-916c-acf21ab3329c",
   "metadata": {},
   "outputs": [
    {
     "name": "stdout",
     "output_type": "stream",
     "text": [
      "Help on built-in function iter in module builtins:\n",
      "\n",
      "iter(...)\n",
      "    iter(iterable) -> iterator\n",
      "    iter(callable, sentinel) -> iterator\n",
      "\n",
      "    Get an iterator from an object.  In the first form, the argument must\n",
      "    supply its own iterator, or be a sequence.\n",
      "    In the second form, the callable is called until it returns the sentinel.\n",
      "\n"
     ]
    }
   ],
   "source": [
    "help(iter)"
   ]
  },
  {
   "cell_type": "code",
   "execution_count": 62,
   "id": "42dfe862-0383-46e6-9775-2a900882598c",
   "metadata": {},
   "outputs": [
    {
     "name": "stdout",
     "output_type": "stream",
     "text": [
      "1\n",
      "1\n",
      "2\n",
      "6\n",
      "24\n",
      "120\n",
      "720\n",
      "5040\n",
      "40320\n",
      "362880\n"
     ]
    }
   ],
   "source": [
    "def fact():\n",
    "    i = 0\n",
    "    def inner():\n",
    "        nonlocal i\n",
    "        result = math.factorial(i)\n",
    "        i += 1\n",
    "        return result\n",
    "    return inner\n",
    "\n",
    "f = fact()\n",
    "f_iter = iter(f, math.factorial(10))\n",
    "\n",
    "for fact in f_iter:\n",
    "    print(fact)"
   ]
  },
  {
   "cell_type": "code",
   "execution_count": 63,
   "id": "c039db14-d27d-4b4c-bf19-76f53a14f315",
   "metadata": {},
   "outputs": [
    {
     "data": {
      "text/plain": [
       "(362880, 3628800)"
      ]
     },
     "execution_count": 63,
     "metadata": {},
     "output_type": "execute_result"
    }
   ],
   "source": [
    "math.factorial(9), math.factorial(10)"
   ]
  },
  {
   "cell_type": "markdown",
   "id": "05550ef4-7caf-4bef-9fe9-f02ca3f80d04",
   "metadata": {},
   "source": [
    "# can we use generators"
   ]
  },
  {
   "cell_type": "code",
   "execution_count": 64,
   "id": "3fa3ff93-7aa3-43a2-944a-345a1f571bef",
   "metadata": {},
   "outputs": [
    {
     "data": {
      "text/plain": [
       "[1, 1, 2, 6, 24]"
      ]
     },
     "execution_count": 64,
     "metadata": {},
     "output_type": "execute_result"
    }
   ],
   "source": [
    "def fact(length):\n",
    "    for i in range(length):\n",
    "        yield math.factorial(i)\n",
    "\n",
    "fact_iter = fact(5)\n",
    "\n",
    "[x for x in fact_iter]"
   ]
  },
  {
   "cell_type": "markdown",
   "id": "f5b1ba97-2d19-42d6-b2cb-cc4422dc18e3",
   "metadata": {},
   "source": [
    "# exhausts !"
   ]
  },
  {
   "cell_type": "code",
   "execution_count": 65,
   "id": "ed9d9b49-e3b3-4017-8853-a80c895b509b",
   "metadata": {},
   "outputs": [
    {
     "ename": "StopIteration",
     "evalue": "",
     "output_type": "error",
     "traceback": [
      "\u001b[31m---------------------------------------------------------------------------\u001b[39m",
      "\u001b[31mStopIteration\u001b[39m                             Traceback (most recent call last)",
      "\u001b[36mCell\u001b[39m\u001b[36m \u001b[39m\u001b[32mIn[65]\u001b[39m\u001b[32m, line 1\u001b[39m\n\u001b[32m----> \u001b[39m\u001b[32m1\u001b[39m \u001b[38;5;28;43mnext\u001b[39;49m\u001b[43m(\u001b[49m\u001b[43mfact_iter\u001b[49m\u001b[43m)\u001b[49m\n",
      "\u001b[31mStopIteration\u001b[39m: "
     ]
    }
   ],
   "source": [
    "next(fact_iter)"
   ]
  },
  {
   "cell_type": "markdown",
   "id": "58c9c5b1-1a90-4995-950d-f02e83fc106b",
   "metadata": {},
   "source": [
    "# how do we prevent this exhausting of the generator - we write our own interable over generator (which has its own iterable) "
   ]
  },
  {
   "cell_type": "code",
   "execution_count": 66,
   "id": "a6030fa6-5241-4cac-a608-4b4e53e00163",
   "metadata": {},
   "outputs": [],
   "source": [
    "def squares(n):\n",
    "    for i in range(n):\n",
    "        yield i**2"
   ]
  },
  {
   "cell_type": "code",
   "execution_count": 76,
   "id": "1d97fb45-dc34-4db3-bcae-110daf9a502e",
   "metadata": {},
   "outputs": [
    {
     "data": {
      "text/plain": [
       "(generator, [0, 1, 4, 9, 16])"
      ]
     },
     "execution_count": 76,
     "metadata": {},
     "output_type": "execute_result"
    }
   ],
   "source": [
    "sq = squares(5)\n",
    "\n",
    "type(sq), list(sq)"
   ]
  },
  {
   "cell_type": "code",
   "execution_count": 77,
   "id": "a70f29e5-04ed-465b-b217-9d6852ee23ca",
   "metadata": {},
   "outputs": [
    {
     "data": {
      "text/plain": [
       "[]"
      ]
     },
     "execution_count": 77,
     "metadata": {},
     "output_type": "execute_result"
    }
   ],
   "source": [
    "list(sq)"
   ]
  },
  {
   "cell_type": "code",
   "execution_count": 81,
   "id": "0bb00147-5089-4a30-b33c-3e8fb6516431",
   "metadata": {},
   "outputs": [
    {
     "data": {
      "text/plain": [
       "(__main__.Squares_iter, [0, 1, 4, 9, 16])"
      ]
     },
     "execution_count": 81,
     "metadata": {},
     "output_type": "execute_result"
    }
   ],
   "source": [
    "def squares(n):\n",
    "    for i in range(n):\n",
    "        yield i**2\n",
    "        \n",
    "class Squares_iter:\n",
    "    def __init__(self, n):\n",
    "        self.n = n\n",
    "\n",
    "    def __iter__(self):\n",
    "        return squares(self.n)  # returns a new generator (which is an iterable)\n",
    "\n",
    "sq = Squares_iter(5)\n",
    "\n",
    "type(sq),list(sq)"
   ]
  },
  {
   "cell_type": "code",
   "execution_count": 82,
   "id": "6ff2fe71-97c5-4374-adf7-47cc801bb7ef",
   "metadata": {},
   "outputs": [
    {
     "data": {
      "text/plain": [
       "[0, 1, 4, 9, 16]"
      ]
     },
     "execution_count": 82,
     "metadata": {},
     "output_type": "execute_result"
    }
   ],
   "source": [
    "list(sq)"
   ]
  },
  {
   "cell_type": "code",
   "execution_count": 83,
   "id": "39f24a23-3f3e-4ac4-92ee-1abef08de947",
   "metadata": {},
   "outputs": [
    {
     "data": {
      "text/plain": [
       "[0, 1, 4, 9, 16]"
      ]
     },
     "execution_count": 83,
     "metadata": {},
     "output_type": "execute_result"
    }
   ],
   "source": [
    "list(sq)"
   ]
  },
  {
   "cell_type": "markdown",
   "id": "a003e247-4a25-41c7-a3c9-13a57b0deff6",
   "metadata": {},
   "source": [
    "# lets recreate the deck of cards we did in our iterables file"
   ]
  },
  {
   "cell_type": "code",
   "execution_count": 85,
   "id": "513694ee-b7ba-4a8c-8141-8ff1cc058924",
   "metadata": {},
   "outputs": [],
   "source": [
    "from collections import namedtuple"
   ]
  },
  {
   "cell_type": "code",
   "execution_count": 87,
   "id": "dcb3699a-cf21-4426-a55b-3b78c201573c",
   "metadata": {},
   "outputs": [],
   "source": [
    "_SUITS = ('Spades', 'Hearts', 'Diamonds', 'Clubs')\n",
    "_RANKS = tuple(range(2, 11)) + tuple('JQKA')\n",
    "\n",
    "Card = namedtuple('Card', ['rank', 'suit'])\n",
    "\n",
    "class CardDeck:\n",
    "    def __init__(self):\n",
    "        self.length = len(_SUITS) * len(_RANKS)\n",
    "\n",
    "    def __len__(self):\n",
    "        return self.length\n",
    "\n",
    "    def __iter__(self):\n",
    "        return self.CardDeckIterator(self.length)\n",
    "\n",
    "    class CardDeckIterator:\n",
    "        def __init__(self, length):\n",
    "            self.length = length\n",
    "            self.idx = 0\n",
    "\n",
    "        def __iter__(self):\n",
    "            return self\n",
    "\n",
    "        def __next__(self):\n",
    "            if self.idx == self.length:\n",
    "                raise StopIteration\n",
    "            else:\n",
    "                suit = _SUITS[self.idx // len(_RANKS)]\n",
    "                rank = _RANKS[self.idx % len(_RANKS)]\n",
    "                self.idx += 1\n",
    "                return Card(rank, suit)\n",
    "\n",
    "mydeck = CardDeck()"
   ]
  },
  {
   "cell_type": "code",
   "execution_count": 88,
   "id": "cda4db78-2178-410b-a6c2-5494ebe1ccd2",
   "metadata": {},
   "outputs": [
    {
     "name": "stdout",
     "output_type": "stream",
     "text": [
      "Card(rank=2, suit='Spades')\n",
      "Card(rank=3, suit='Spades')\n",
      "Card(rank=4, suit='Spades')\n",
      "Card(rank=5, suit='Spades')\n",
      "Card(rank=6, suit='Spades')\n",
      "Card(rank=7, suit='Spades')\n",
      "Card(rank=8, suit='Spades')\n",
      "Card(rank=9, suit='Spades')\n",
      "Card(rank=10, suit='Spades')\n",
      "Card(rank='J', suit='Spades')\n",
      "Card(rank='Q', suit='Spades')\n",
      "Card(rank='K', suit='Spades')\n",
      "Card(rank='A', suit='Spades')\n",
      "Card(rank=2, suit='Hearts')\n",
      "Card(rank=3, suit='Hearts')\n",
      "Card(rank=4, suit='Hearts')\n",
      "Card(rank=5, suit='Hearts')\n",
      "Card(rank=6, suit='Hearts')\n",
      "Card(rank=7, suit='Hearts')\n",
      "Card(rank=8, suit='Hearts')\n",
      "Card(rank=9, suit='Hearts')\n",
      "Card(rank=10, suit='Hearts')\n",
      "Card(rank='J', suit='Hearts')\n",
      "Card(rank='Q', suit='Hearts')\n",
      "Card(rank='K', suit='Hearts')\n",
      "Card(rank='A', suit='Hearts')\n",
      "Card(rank=2, suit='Diamonds')\n",
      "Card(rank=3, suit='Diamonds')\n",
      "Card(rank=4, suit='Diamonds')\n",
      "Card(rank=5, suit='Diamonds')\n",
      "Card(rank=6, suit='Diamonds')\n",
      "Card(rank=7, suit='Diamonds')\n",
      "Card(rank=8, suit='Diamonds')\n",
      "Card(rank=9, suit='Diamonds')\n",
      "Card(rank=10, suit='Diamonds')\n",
      "Card(rank='J', suit='Diamonds')\n",
      "Card(rank='Q', suit='Diamonds')\n",
      "Card(rank='K', suit='Diamonds')\n",
      "Card(rank='A', suit='Diamonds')\n",
      "Card(rank=2, suit='Clubs')\n",
      "Card(rank=3, suit='Clubs')\n",
      "Card(rank=4, suit='Clubs')\n",
      "Card(rank=5, suit='Clubs')\n",
      "Card(rank=6, suit='Clubs')\n",
      "Card(rank=7, suit='Clubs')\n",
      "Card(rank=8, suit='Clubs')\n",
      "Card(rank=9, suit='Clubs')\n",
      "Card(rank=10, suit='Clubs')\n",
      "Card(rank='J', suit='Clubs')\n",
      "Card(rank='Q', suit='Clubs')\n",
      "Card(rank='K', suit='Clubs')\n",
      "Card(rank='A', suit='Clubs')\n"
     ]
    }
   ],
   "source": [
    "for card in mydeck:\n",
    "    print(card)"
   ]
  },
  {
   "cell_type": "code",
   "execution_count": 90,
   "id": "d5ee1576-42b3-4615-9766-9ce65e48456c",
   "metadata": {},
   "outputs": [
    {
     "name": "stdout",
     "output_type": "stream",
     "text": [
      "Card(rank=2, suit='Spades')\n",
      "Card(rank=3, suit='Spades')\n",
      "Card(rank=4, suit='Spades')\n",
      "Card(rank=5, suit='Spades')\n",
      "Card(rank=6, suit='Spades')\n",
      "Card(rank=7, suit='Spades')\n",
      "Card(rank=8, suit='Spades')\n",
      "Card(rank=9, suit='Spades')\n",
      "Card(rank=10, suit='Spades')\n",
      "Card(rank='J', suit='Spades')\n",
      "Card(rank='Q', suit='Spades')\n",
      "Card(rank='K', suit='Spades')\n",
      "Card(rank='A', suit='Spades')\n",
      "Card(rank=2, suit='Hearts')\n",
      "Card(rank=3, suit='Hearts')\n",
      "Card(rank=4, suit='Hearts')\n",
      "Card(rank=5, suit='Hearts')\n",
      "Card(rank=6, suit='Hearts')\n",
      "Card(rank=7, suit='Hearts')\n",
      "Card(rank=8, suit='Hearts')\n",
      "Card(rank=9, suit='Hearts')\n",
      "Card(rank=10, suit='Hearts')\n",
      "Card(rank='J', suit='Hearts')\n",
      "Card(rank='Q', suit='Hearts')\n",
      "Card(rank='K', suit='Hearts')\n",
      "Card(rank='A', suit='Hearts')\n",
      "Card(rank=2, suit='Diamonds')\n",
      "Card(rank=3, suit='Diamonds')\n",
      "Card(rank=4, suit='Diamonds')\n",
      "Card(rank=5, suit='Diamonds')\n",
      "Card(rank=6, suit='Diamonds')\n",
      "Card(rank=7, suit='Diamonds')\n",
      "Card(rank=8, suit='Diamonds')\n",
      "Card(rank=9, suit='Diamonds')\n",
      "Card(rank=10, suit='Diamonds')\n",
      "Card(rank='J', suit='Diamonds')\n",
      "Card(rank='Q', suit='Diamonds')\n",
      "Card(rank='K', suit='Diamonds')\n",
      "Card(rank='A', suit='Diamonds')\n",
      "Card(rank=2, suit='Clubs')\n",
      "Card(rank=3, suit='Clubs')\n",
      "Card(rank=4, suit='Clubs')\n",
      "Card(rank=5, suit='Clubs')\n",
      "Card(rank=6, suit='Clubs')\n",
      "Card(rank=7, suit='Clubs')\n",
      "Card(rank=8, suit='Clubs')\n",
      "Card(rank=9, suit='Clubs')\n",
      "Card(rank=10, suit='Clubs')\n",
      "Card(rank='J', suit='Clubs')\n",
      "Card(rank='Q', suit='Clubs')\n",
      "Card(rank='K', suit='Clubs')\n",
      "Card(rank='A', suit='Clubs')\n"
     ]
    }
   ],
   "source": [
    "_SUITS = ('Spades', 'Hearts', 'Diamonds', 'Clubs')\n",
    "_RANKS = tuple(range(2, 11)) + tuple('JQKA')\n",
    "\n",
    "Card = namedtuple('Card', ['rank', 'suit'])\n",
    "\n",
    "def deck():\n",
    "    for suit in _SUITS:\n",
    "        for rank in _RANKS:\n",
    "            card = Card(rank, suit)\n",
    "            yield card\n",
    "\n",
    "mydeck = deck()  # gives back a generator object\n",
    "\n",
    "for card in mydeck:\n",
    "    print(card)"
   ]
  },
  {
   "cell_type": "code",
   "execution_count": 94,
   "id": "00920258-e9f1-4633-816e-a63c83c487b8",
   "metadata": {},
   "outputs": [],
   "source": [
    "class CardDeck:\n",
    "    _SUITS = ('Spades', 'Hearts', 'Diamonds', 'Clubs')\n",
    "    _RANKS = tuple(range(2, 11)) + tuple('JQKA')\n",
    "\n",
    "    def __iter__(self):\n",
    "        return CardDeck.CardDeckIterable()\n",
    "\n",
    "    def CardDeckIterable():\n",
    "        for suit in _SUITS:\n",
    "            for rank in _RANKS:\n",
    "                yield Card(rank, suit)"
   ]
  },
  {
   "cell_type": "code",
   "execution_count": 95,
   "id": "a98b44df-df5d-4ef2-85cb-15d07e431b0a",
   "metadata": {},
   "outputs": [],
   "source": [
    "mydeck = CardDeck()"
   ]
  },
  {
   "cell_type": "code",
   "execution_count": 96,
   "id": "21aecd25-ac45-4cfd-bc3e-392b3d23d17b",
   "metadata": {},
   "outputs": [
    {
     "data": {
      "text/plain": [
       "[Card(rank=2, suit='Spades'),\n",
       " Card(rank=3, suit='Spades'),\n",
       " Card(rank=4, suit='Spades'),\n",
       " Card(rank=5, suit='Spades'),\n",
       " Card(rank=6, suit='Spades'),\n",
       " Card(rank=7, suit='Spades'),\n",
       " Card(rank=8, suit='Spades'),\n",
       " Card(rank=9, suit='Spades'),\n",
       " Card(rank=10, suit='Spades'),\n",
       " Card(rank='J', suit='Spades'),\n",
       " Card(rank='Q', suit='Spades'),\n",
       " Card(rank='K', suit='Spades'),\n",
       " Card(rank='A', suit='Spades'),\n",
       " Card(rank=2, suit='Hearts'),\n",
       " Card(rank=3, suit='Hearts'),\n",
       " Card(rank=4, suit='Hearts'),\n",
       " Card(rank=5, suit='Hearts'),\n",
       " Card(rank=6, suit='Hearts'),\n",
       " Card(rank=7, suit='Hearts'),\n",
       " Card(rank=8, suit='Hearts'),\n",
       " Card(rank=9, suit='Hearts'),\n",
       " Card(rank=10, suit='Hearts'),\n",
       " Card(rank='J', suit='Hearts'),\n",
       " Card(rank='Q', suit='Hearts'),\n",
       " Card(rank='K', suit='Hearts'),\n",
       " Card(rank='A', suit='Hearts'),\n",
       " Card(rank=2, suit='Diamonds'),\n",
       " Card(rank=3, suit='Diamonds'),\n",
       " Card(rank=4, suit='Diamonds'),\n",
       " Card(rank=5, suit='Diamonds'),\n",
       " Card(rank=6, suit='Diamonds'),\n",
       " Card(rank=7, suit='Diamonds'),\n",
       " Card(rank=8, suit='Diamonds'),\n",
       " Card(rank=9, suit='Diamonds'),\n",
       " Card(rank=10, suit='Diamonds'),\n",
       " Card(rank='J', suit='Diamonds'),\n",
       " Card(rank='Q', suit='Diamonds'),\n",
       " Card(rank='K', suit='Diamonds'),\n",
       " Card(rank='A', suit='Diamonds'),\n",
       " Card(rank=2, suit='Clubs'),\n",
       " Card(rank=3, suit='Clubs'),\n",
       " Card(rank=4, suit='Clubs'),\n",
       " Card(rank=5, suit='Clubs'),\n",
       " Card(rank=6, suit='Clubs'),\n",
       " Card(rank=7, suit='Clubs'),\n",
       " Card(rank=8, suit='Clubs'),\n",
       " Card(rank=9, suit='Clubs'),\n",
       " Card(rank=10, suit='Clubs'),\n",
       " Card(rank='J', suit='Clubs'),\n",
       " Card(rank='Q', suit='Clubs'),\n",
       " Card(rank='K', suit='Clubs'),\n",
       " Card(rank='A', suit='Clubs')]"
      ]
     },
     "execution_count": 96,
     "metadata": {},
     "output_type": "execute_result"
    }
   ],
   "source": [
    "list(mydeck)"
   ]
  },
  {
   "cell_type": "code",
   "execution_count": 97,
   "id": "28be3119-7e90-4fb2-a835-8f79eda3c8ef",
   "metadata": {},
   "outputs": [
    {
     "data": {
      "text/plain": [
       "[Card(rank='A', suit='Clubs'),\n",
       " Card(rank='K', suit='Clubs'),\n",
       " Card(rank='Q', suit='Clubs'),\n",
       " Card(rank='J', suit='Clubs'),\n",
       " Card(rank=10, suit='Clubs'),\n",
       " Card(rank=9, suit='Clubs'),\n",
       " Card(rank=8, suit='Clubs'),\n",
       " Card(rank=7, suit='Clubs'),\n",
       " Card(rank=6, suit='Clubs'),\n",
       " Card(rank=5, suit='Clubs'),\n",
       " Card(rank=4, suit='Clubs'),\n",
       " Card(rank=3, suit='Clubs'),\n",
       " Card(rank=2, suit='Clubs'),\n",
       " Card(rank='A', suit='Diamonds'),\n",
       " Card(rank='K', suit='Diamonds'),\n",
       " Card(rank='Q', suit='Diamonds'),\n",
       " Card(rank='J', suit='Diamonds'),\n",
       " Card(rank=10, suit='Diamonds'),\n",
       " Card(rank=9, suit='Diamonds'),\n",
       " Card(rank=8, suit='Diamonds'),\n",
       " Card(rank=7, suit='Diamonds'),\n",
       " Card(rank=6, suit='Diamonds'),\n",
       " Card(rank=5, suit='Diamonds'),\n",
       " Card(rank=4, suit='Diamonds'),\n",
       " Card(rank=3, suit='Diamonds'),\n",
       " Card(rank=2, suit='Diamonds'),\n",
       " Card(rank='A', suit='Hearts'),\n",
       " Card(rank='K', suit='Hearts'),\n",
       " Card(rank='Q', suit='Hearts'),\n",
       " Card(rank='J', suit='Hearts'),\n",
       " Card(rank=10, suit='Hearts'),\n",
       " Card(rank=9, suit='Hearts'),\n",
       " Card(rank=8, suit='Hearts'),\n",
       " Card(rank=7, suit='Hearts'),\n",
       " Card(rank=6, suit='Hearts'),\n",
       " Card(rank=5, suit='Hearts'),\n",
       " Card(rank=4, suit='Hearts'),\n",
       " Card(rank=3, suit='Hearts'),\n",
       " Card(rank=2, suit='Hearts'),\n",
       " Card(rank='A', suit='Spades'),\n",
       " Card(rank='K', suit='Spades'),\n",
       " Card(rank='Q', suit='Spades'),\n",
       " Card(rank='J', suit='Spades'),\n",
       " Card(rank=10, suit='Spades'),\n",
       " Card(rank=9, suit='Spades'),\n",
       " Card(rank=8, suit='Spades'),\n",
       " Card(rank=7, suit='Spades'),\n",
       " Card(rank=6, suit='Spades'),\n",
       " Card(rank=5, suit='Spades'),\n",
       " Card(rank=4, suit='Spades'),\n",
       " Card(rank=3, suit='Spades'),\n",
       " Card(rank=2, suit='Spades')]"
      ]
     },
     "execution_count": 97,
     "metadata": {},
     "output_type": "execute_result"
    }
   ],
   "source": [
    "class CardDeck:\n",
    "    _SUITS = ('Spades', 'Hearts', 'Diamonds', 'Clubs')\n",
    "    _RANKS = tuple(range(2, 11)) + tuple('JQKA')\n",
    "\n",
    "    def __iter__(self):\n",
    "        return CardDeck.card_gen()\n",
    "\n",
    "    def __reversed__(self):\n",
    "        return CardDeck.reversed_card_gen()\n",
    "\n",
    "    def card_gen():\n",
    "        for suit in _SUITS:\n",
    "            for rank in _RANKS:\n",
    "                yield Card(rank, suit)\n",
    "\n",
    "    def reversed_card_gen():\n",
    "        for suit in reversed(_SUITS):\n",
    "            for rank in reversed(_RANKS):\n",
    "                yield Card(rank, suit)\n",
    "\n",
    "list(reversed(CardDeck()))"
   ]
  },
  {
   "cell_type": "code",
   "execution_count": null,
   "id": "c2b97a3a-cb8e-49f7-b121-e3428d1c40c3",
   "metadata": {},
   "outputs": [],
   "source": []
  }
 ],
 "metadata": {
  "kernelspec": {
   "display_name": "Python (fundamentals)",
   "language": "python",
   "name": "fundamentals"
  },
  "language_info": {
   "codemirror_mode": {
    "name": "ipython",
    "version": 3
   },
   "file_extension": ".py",
   "mimetype": "text/x-python",
   "name": "python",
   "nbconvert_exporter": "python",
   "pygments_lexer": "ipython3",
   "version": "3.13.7"
  }
 },
 "nbformat": 4,
 "nbformat_minor": 5
}
