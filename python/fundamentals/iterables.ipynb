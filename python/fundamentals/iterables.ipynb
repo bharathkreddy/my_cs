{
 "cells": [
  {
   "cell_type": "markdown",
   "id": "73162e4e-b958-4a2f-9108-e5942fa42937",
   "metadata": {},
   "source": [
    "# ITERABLES AND ITERATORS\n",
    "\n",
    "1. `iterable`: a collection of objects that we can iterate over and request next object until exhausted\n",
    "    1. It doesnt know anything about how to iterate.\n",
    "    2. It knows how to create and give us an `iterator` when we need it.\n",
    "    3. implement a `__iter__()` method that returns a new iterator.  \n",
    "2. `iterator`: something that is able to\n",
    "    1. give us the next object when requested. It implements `__next__()` method for this.\n",
    "    2. Keep track of whats given so same element is not given twice\n",
    "    3. inform us when there's nothing left for it to give. It does this by raising `StopIteration` exception when next() is called if there's nothing left.\n",
    "    4. will get exhausted. "
   ]
  },
  {
   "cell_type": "code",
   "execution_count": 1,
   "id": "9a73a7f1-8e65-4d6a-9265-cb0de83fbefc",
   "metadata": {},
   "outputs": [
    {
     "name": "stdout",
     "output_type": "stream",
     "text": [
      "1\n",
      "2\n",
      "3\n",
      "4\n",
      "5\n",
      "Done\n",
      "##########\n",
      "<class 'list'> <class 'list_iterator'>\n"
     ]
    }
   ],
   "source": [
    "l = [1, 2, 3, 4, 5]\n",
    "\n",
    "iterator = iter(l)\n",
    "while True:\n",
    "    try:\n",
    "        print(next(iterator))\n",
    "    except StopIteration:\n",
    "        print(\"Done\")\n",
    "        break\n",
    "\n",
    "print(\"#\" * 10)\n",
    "print(type(l), type(iterator))"
   ]
  },
  {
   "cell_type": "code",
   "execution_count": 2,
   "id": "f3c2e570-351d-43d8-a764-7f32f0fc1748",
   "metadata": {},
   "outputs": [
    {
     "data": {
      "text/plain": [
       "4509317344"
      ]
     },
     "execution_count": 2,
     "metadata": {},
     "output_type": "execute_result"
    }
   ],
   "source": [
    "id(iterator)"
   ]
  },
  {
   "cell_type": "code",
   "execution_count": 3,
   "id": "a8f7cd63-b3ca-4099-a67e-3aa691d9d1d5",
   "metadata": {},
   "outputs": [
    {
     "ename": "StopIteration",
     "evalue": "",
     "output_type": "error",
     "traceback": [
      "\u001b[31m---------------------------------------------------------------------------\u001b[39m",
      "\u001b[31mStopIteration\u001b[39m                             Traceback (most recent call last)",
      "\u001b[36mCell\u001b[39m\u001b[36m \u001b[39m\u001b[32mIn[3]\u001b[39m\u001b[32m, line 2\u001b[39m\n\u001b[32m      1\u001b[39m \u001b[38;5;66;03m# iterator is exhausted\u001b[39;00m\n\u001b[32m----> \u001b[39m\u001b[32m2\u001b[39m \u001b[38;5;28;43mnext\u001b[39;49m\u001b[43m(\u001b[49m\u001b[43miterator\u001b[49m\u001b[43m)\u001b[49m\n",
      "\u001b[31mStopIteration\u001b[39m: "
     ]
    }
   ],
   "source": [
    "# iterator is exhausted\n",
    "next(iterator)"
   ]
  },
  {
   "cell_type": "code",
   "execution_count": 4,
   "id": "1340ed8b-d28c-40d7-96b4-121903919fca",
   "metadata": {},
   "outputs": [
    {
     "data": {
      "text/plain": [
       "(4510822272, 1)"
      ]
     },
     "execution_count": 4,
     "metadata": {},
     "output_type": "execute_result"
    }
   ],
   "source": [
    "# new iterator created - different id and now has values.\n",
    "iterator = iter(l)\n",
    "id(iterator), next(iterator)"
   ]
  },
  {
   "cell_type": "code",
   "execution_count": 5,
   "id": "023a78a5-9e48-4f85-9046-d02c97a5bfc5",
   "metadata": {},
   "outputs": [
    {
     "data": {
      "text/plain": [
       "2"
      ]
     },
     "execution_count": 5,
     "metadata": {},
     "output_type": "execute_result"
    }
   ],
   "source": [
    "# iterator remembers its state\n",
    "next(iterator)"
   ]
  },
  {
   "cell_type": "code",
   "execution_count": 6,
   "id": "aaa333ef-5b8a-447f-8f3d-a3db1fd05964",
   "metadata": {},
   "outputs": [
    {
     "data": {
      "text/plain": [
       "[3, 4, 5]"
      ]
     },
     "execution_count": 6,
     "metadata": {},
     "output_type": "execute_result"
    }
   ],
   "source": [
    "# now gives only remaining elements as fist 3 has been flushed\n",
    "list(iterator)"
   ]
  },
  {
   "cell_type": "markdown",
   "id": "b69d042c-fee2-4a0f-8fd1-57916b4d7477",
   "metadata": {},
   "source": [
    "## Filterting and Sorting iterables"
   ]
  },
  {
   "cell_type": "code",
   "execution_count": 7,
   "id": "593d28f3-008b-42aa-bf76-25393534b374",
   "metadata": {},
   "outputs": [
    {
     "data": {
      "text/plain": [
       "[1, 3, 7, 11]"
      ]
     },
     "execution_count": 7,
     "metadata": {},
     "output_type": "execute_result"
    }
   ],
   "source": [
    "l = [1, 3, -5, 7, -9, 11]\n",
    "\n",
    "[el for el in l if el > 0]"
   ]
  },
  {
   "cell_type": "code",
   "execution_count": 8,
   "id": "6e43770c-88d6-4b80-b416-ec9a9a3bf7d6",
   "metadata": {},
   "outputs": [
    {
     "data": {
      "text/plain": [
       "[1, 3, 7, 11]"
      ]
     },
     "execution_count": 8,
     "metadata": {},
     "output_type": "execute_result"
    }
   ],
   "source": [
    "l = [1, 3, -5, 7, -9, 11]\n",
    "\n",
    "def is_positive(x):\n",
    "    return x > 0\n",
    "\n",
    "[el for el in l if is_positive(el)]"
   ]
  },
  {
   "cell_type": "code",
   "execution_count": 9,
   "id": "3ecf654b-44b1-4b42-91df-12b55ebc293c",
   "metadata": {},
   "outputs": [
    {
     "data": {
      "text/plain": [
       "filter"
      ]
     },
     "execution_count": 9,
     "metadata": {},
     "output_type": "execute_result"
    }
   ],
   "source": [
    "l = [1, 3, -5, 7, -9, 11]\n",
    "\n",
    "# any function that returns T/F is called a predicate function\n",
    "def is_positive(x):\n",
    "    return x > 0\n",
    "\n",
    "# filter takes a predicate function and an iterable and returns a lazy_iterator. \n",
    "filtered_l = filter(is_positive, l)\n",
    "\n",
    "type(filtered_l)"
   ]
  },
  {
   "cell_type": "code",
   "execution_count": 10,
   "id": "1da23f77-8fd6-4d7f-9c29-94d7283be75d",
   "metadata": {},
   "outputs": [
    {
     "name": "stdout",
     "output_type": "stream",
     "text": [
      "1\n",
      "3\n",
      "7\n",
      "11\n",
      "\n",
      "End of iterator\n"
     ]
    }
   ],
   "source": [
    "while True:\n",
    "    try:\n",
    "        print(next(filtered_l))\n",
    "    except StopIteration:\n",
    "        print('\\nEnd of iterator')\n",
    "        break"
   ]
  },
  {
   "cell_type": "code",
   "execution_count": 11,
   "id": "8ee3dbe4-0888-4255-ae65-ba8f6369d193",
   "metadata": {},
   "outputs": [
    {
     "data": {
      "text/plain": [
       "[2, 4, 6]"
      ]
     },
     "execution_count": 11,
     "metadata": {},
     "output_type": "execute_result"
    }
   ],
   "source": [
    "# we can pass in a lambda function as predicate function.\n",
    "filtered_l = filter(lambda x: x%2 == 0, (2, 3, 4, 5, 6, 7))\n",
    "list(filtered_l)"
   ]
  },
  {
   "cell_type": "code",
   "execution_count": 12,
   "id": "8dd2175e-ff16-4128-b992-e687ac9f7b5f",
   "metadata": {},
   "outputs": [],
   "source": [
    "data = [\n",
    "    {'date': '2020-04-09', 'symbol': 'APPL', 'open': 100, 'close': 250, 'high': 120},\n",
    "    {'date': '2020-04-09', 'symbol': 'MSFT', 'open': 200, 'close': 320, 'high': 920},\n",
    "    {'date': '2020-04-09', 'symbol': 'AMZN', 'open': 300, 'close': 410, 'high': 720},\n",
    "    {'date': '2020-04-09', 'symbol': 'META', 'open': 400, 'close': 500, 'high': 420}\n",
    "]"
   ]
  },
  {
   "cell_type": "code",
   "execution_count": 13,
   "id": "1058c438-7132-4ffa-86ee-e90b67779a94",
   "metadata": {},
   "outputs": [
    {
     "data": {
      "text/plain": [
       "[{'date': '2020-04-09',\n",
       "  'symbol': 'APPL',\n",
       "  'open': 100,\n",
       "  'close': 250,\n",
       "  'high': 120},\n",
       " {'date': '2020-04-09',\n",
       "  'symbol': 'MSFT',\n",
       "  'open': 200,\n",
       "  'close': 320,\n",
       "  'high': 920},\n",
       " {'date': '2020-04-09',\n",
       "  'symbol': 'AMZN',\n",
       "  'open': 300,\n",
       "  'close': 410,\n",
       "  'high': 720},\n",
       " {'date': '2020-04-09',\n",
       "  'symbol': 'META',\n",
       "  'open': 400,\n",
       "  'close': 500,\n",
       "  'high': 420}]"
      ]
     },
     "execution_count": 13,
     "metadata": {},
     "output_type": "execute_result"
    }
   ],
   "source": [
    "sorted(data, key=lambda x: x['open'])"
   ]
  },
  {
   "cell_type": "code",
   "execution_count": 14,
   "id": "d6ff1367-1963-48f2-a30e-047fb25c2550",
   "metadata": {},
   "outputs": [
    {
     "data": {
      "text/plain": [
       "[{'date': '2020-04-09',\n",
       "  'symbol': 'APPL',\n",
       "  'open': 100,\n",
       "  'close': 250,\n",
       "  'high': 120},\n",
       " {'date': '2020-04-09',\n",
       "  'symbol': 'META',\n",
       "  'open': 400,\n",
       "  'close': 500,\n",
       "  'high': 420},\n",
       " {'date': '2020-04-09',\n",
       "  'symbol': 'AMZN',\n",
       "  'open': 300,\n",
       "  'close': 410,\n",
       "  'high': 720},\n",
       " {'date': '2020-04-09',\n",
       "  'symbol': 'MSFT',\n",
       "  'open': 200,\n",
       "  'close': 320,\n",
       "  'high': 920}]"
      ]
     },
     "execution_count": 14,
     "metadata": {},
     "output_type": "execute_result"
    }
   ],
   "source": [
    "sorted(data, key=lambda x: x['high'] - x['close'])"
   ]
  },
  {
   "cell_type": "code",
   "execution_count": 15,
   "id": "2d805d79-5e1c-46f7-8b6d-7a6fabd41ed4",
   "metadata": {},
   "outputs": [
    {
     "data": {
      "text/plain": [
       "{'date': '2020-04-09',\n",
       " 'symbol': 'MSFT',\n",
       " 'open': 200,\n",
       " 'close': 320,\n",
       " 'high': 920}"
      ]
     },
     "execution_count": 15,
     "metadata": {},
     "output_type": "execute_result"
    }
   ],
   "source": [
    "max(data, key=lambda x: x['high'])"
   ]
  },
  {
   "cell_type": "markdown",
   "id": "e3897657-cdca-4dbc-b9d9-b54fc2dd624e",
   "metadata": {},
   "source": [
    "### 🧩 1. How does `list(f)` know to call `__getitem__`?\n",
    "\n",
    "When you do:\n",
    "\n",
    "```python\n",
    "f = Fib(10)\n",
    "list(f)\n",
    "```\n",
    "\n",
    "Python checks whether `f` is **iterable** — that is, whether it can be looped over.\n",
    "\n",
    "It tries the following, in order:\n",
    "\n",
    "1. **Check for an `__iter__` method.**\n",
    "\n",
    "   * If present, it calls `iter(f)`, which should return an *iterator* — an object with a `__next__` method.\n",
    "   * Then, it repeatedly calls `next(iterator)` until `StopIteration` is raised.\n",
    "\n",
    "2. **If there’s no `__iter__`, fall back to the old-style sequence protocol**:\n",
    "\n",
    "   * Python will repeatedly call `f[0]`, `f[1]`, `f[2]`, …\n",
    "   * until you raise an `IndexError`.\n",
    "\n",
    "So in your case:\n",
    "\n",
    "* You haven’t defined `__iter__`.\n",
    "* Python therefore uses the old sequence protocol.\n",
    "* It calls `f[0]`, then `f[1]`, then `f[2]`, … until it hits `IndexError`.\n",
    "\n",
    "That’s why defining `__getitem__` is enough to make your object iterable.\n",
    "\n",
    "---\n",
    "\n",
    "### 🔄 2. Difference between `__getitem__` and `__next__`\n",
    "\n",
    "| Aspect                 | `__getitem__`                                                 | `__next__`                                             |\n",
    "| :--------------------- | :------------------------------------------------------------ | :----------------------------------------------------- |\n",
    "| Belongs to             | **Sequence protocol**                                         | **Iterator protocol**                                  |\n",
    "| Usage                  | Defines how to access elements by index (`f[i]`)              | Defines how to get the *next* element in a stream      |\n",
    "| Iteration style        | Python loops calling `obj[0]`, `obj[1]`, … until `IndexError` | Python loops calling `next(obj)` until `StopIteration` |\n",
    "| Needs companion method | Usually used with `__len__` (optional)                        | Must have `__iter__` that returns `self`               |\n",
    "| Typical use case       | For “indexable” containers (like lists, tuples, strings)      | For generators and streaming data                      |\n",
    "\n",
    "Example of an **iterator-style Fib**:\n",
    "\n",
    "```python\n",
    "class FibIter:\n",
    "    def __init__(self, n):\n",
    "        self.n = n\n",
    "        self.a, self.b = 0, 1\n",
    "        self.count = 0\n",
    "\n",
    "    def __iter__(self):\n",
    "        return self  # iterator returns itself\n",
    "\n",
    "    def __next__(self):\n",
    "        if self.count >= self.n:\n",
    "            raise StopIteration\n",
    "        self.a, self.b = self.b, self.a + self.b\n",
    "        self.count += 1\n",
    "        return self.a\n",
    "```\n",
    "\n",
    "Now:\n",
    "\n",
    "```python\n",
    "for x in FibIter(5):\n",
    "    print(x)\n",
    "```\n",
    "\n",
    "will call `__next__()` repeatedly.\n",
    "\n",
    "---\n",
    "\n",
    "### 🧠 Summary\n",
    "\n",
    "* `__getitem__` → sequence-style iteration (old-school, index-based).\n",
    "* `__next__` + `__iter__` → iterator-style iteration (modern, preferred).\n",
    "* Python automatically falls back to `__getitem__` if `__iter__` is missing.\n",
    "\n",
    "---\n",
    "\n",
    "Would you like me to show you how to combine both — so your `Fib` class works with both indexing **and** `for x in f:` iteration (using `__iter__`)?\n"
   ]
  },
  {
   "cell_type": "code",
   "execution_count": 17,
   "id": "acd1857b-0be2-4f05-9e23-b3aa553cb9b9",
   "metadata": {},
   "outputs": [],
   "source": [
    "from functools import lru_cache"
   ]
  },
  {
   "cell_type": "code",
   "execution_count": 20,
   "id": "9da4a8f1-9562-4cac-ac17-3926d517c9d4",
   "metadata": {},
   "outputs": [
    {
     "data": {
      "text/plain": [
       "(89, 89)"
      ]
     },
     "execution_count": 20,
     "metadata": {},
     "output_type": "execute_result"
    }
   ],
   "source": [
    "class Fib:\n",
    "    def __init__(self, n):\n",
    "        self.n = n\n",
    "\n",
    "    def __len__(self):\n",
    "        return self.n\n",
    "\n",
    "    def __getitem__(self, s):\n",
    "        if isinstance(s, int):\n",
    "            if s < 0:\n",
    "                s = self.n + s + 1\n",
    "            if s < 0 or s > self.n:\n",
    "                raise IndexError\n",
    "            else:\n",
    "                return Fib._fib(s)\n",
    "        else:\n",
    "            start, stop, step = s.indices(self.n + 1)\n",
    "            rng = range(start, stop, step)\n",
    "            return [Fib._fib(i) for i in rng]\n",
    "\n",
    "    @staticmethod\n",
    "    @lru_cache\n",
    "    def _fib(n):\n",
    "        if n < 2:\n",
    "            return 1\n",
    "        else:\n",
    "            return Fib._fib(n-1) + Fib._fib(n-2)\n",
    "\n",
    "#######\n",
    "f = Fib(10)\n",
    "f[10], f[-1]"
   ]
  },
  {
   "cell_type": "code",
   "execution_count": 21,
   "id": "127a656a-8caa-4dd5-995b-6e4207fa71d0",
   "metadata": {},
   "outputs": [
    {
     "data": {
      "text/plain": [
       "[1, 1, 2, 3, 5, 8, 13, 21, 34, 55, 89]"
      ]
     },
     "execution_count": 21,
     "metadata": {},
     "output_type": "execute_result"
    }
   ],
   "source": [
    "list(f)"
   ]
  },
  {
   "cell_type": "markdown",
   "id": "78e47ed9-8eb9-4df1-8663-b01b1d3f14fc",
   "metadata": {},
   "source": [
    "# lets create an interable without having to have a notion of seqeunce"
   ]
  },
  {
   "cell_type": "code",
   "execution_count": 30,
   "id": "39a4f1bf-524a-487e-a1e8-00d3cb095cb7",
   "metadata": {},
   "outputs": [],
   "source": [
    "class Squares:\n",
    "    def __init__(self, len_):\n",
    "        self._len = len_\n",
    "        self.i = 0\n",
    "\n",
    "    def __len__(self):\n",
    "        return self._len\n",
    "\n",
    "    def next_(self):\n",
    "        while self.i < self._len:\n",
    "            self.i+=1\n",
    "            return self.i**2\n",
    "        raise StopIteration"
   ]
  },
  {
   "cell_type": "code",
   "execution_count": 31,
   "id": "db8afd1d-0f03-406c-8019-6fc7c375e222",
   "metadata": {},
   "outputs": [
    {
     "data": {
      "text/plain": [
       "(1, 4, 9, 16, 25)"
      ]
     },
     "execution_count": 31,
     "metadata": {},
     "output_type": "execute_result"
    }
   ],
   "source": [
    "s = Squares(5)\n",
    "s.next_(), s.next_(), s.next_(), s.next_(), s.next_()"
   ]
  },
  {
   "cell_type": "code",
   "execution_count": 32,
   "id": "9af7859f-6ba4-4f20-88e2-08aaf330c76d",
   "metadata": {},
   "outputs": [
    {
     "ename": "StopIteration",
     "evalue": "",
     "output_type": "error",
     "traceback": [
      "\u001b[31m---------------------------------------------------------------------------\u001b[39m",
      "\u001b[31mStopIteration\u001b[39m                             Traceback (most recent call last)",
      "\u001b[36mCell\u001b[39m\u001b[36m \u001b[39m\u001b[32mIn[32]\u001b[39m\u001b[32m, line 1\u001b[39m\n\u001b[32m----> \u001b[39m\u001b[32m1\u001b[39m \u001b[43ms\u001b[49m\u001b[43m.\u001b[49m\u001b[43mnext_\u001b[49m\u001b[43m(\u001b[49m\u001b[43m)\u001b[49m\n",
      "\u001b[36mCell\u001b[39m\u001b[36m \u001b[39m\u001b[32mIn[30]\u001b[39m\u001b[32m, line 10\u001b[39m, in \u001b[36mSquares.next_\u001b[39m\u001b[34m(self)\u001b[39m\n\u001b[32m      8\u001b[39m     \u001b[38;5;28mself\u001b[39m.i+=\u001b[32m1\u001b[39m\n\u001b[32m      9\u001b[39m     \u001b[38;5;28;01mreturn\u001b[39;00m \u001b[38;5;28mself\u001b[39m.i**\u001b[32m2\u001b[39m\n\u001b[32m---> \u001b[39m\u001b[32m10\u001b[39m \u001b[38;5;28;01mraise\u001b[39;00m \u001b[38;5;167;01mStopIteration\u001b[39;00m\n",
      "\u001b[31mStopIteration\u001b[39m: "
     ]
    }
   ],
   "source": [
    "s.next_()"
   ]
  },
  {
   "cell_type": "code",
   "execution_count": 33,
   "id": "78d2511c-b314-49b6-8d9c-2a62edd7187f",
   "metadata": {},
   "outputs": [
    {
     "name": "stdout",
     "output_type": "stream",
     "text": [
      "1\n",
      "4\n",
      "9\n",
      "16\n",
      "25\n"
     ]
    }
   ],
   "source": [
    "s = Squares(5)\n",
    "while True:\n",
    "    try:\n",
    "        print(s.next_())\n",
    "    except StopIteration:\n",
    "        break"
   ]
  },
  {
   "cell_type": "code",
   "execution_count": 34,
   "id": "8199ca7f-044c-4280-9c8e-3ad682fd9b98",
   "metadata": {},
   "outputs": [
    {
     "ename": "TypeError",
     "evalue": "'Squares' object is not iterable",
     "output_type": "error",
     "traceback": [
      "\u001b[31m---------------------------------------------------------------------------\u001b[39m",
      "\u001b[31mTypeError\u001b[39m                                 Traceback (most recent call last)",
      "\u001b[36mCell\u001b[39m\u001b[36m \u001b[39m\u001b[32mIn[34]\u001b[39m\u001b[32m, line 1\u001b[39m\n\u001b[32m----> \u001b[39m\u001b[32m1\u001b[39m \u001b[38;5;28;43mlist\u001b[39;49m\u001b[43m(\u001b[49m\u001b[43ms\u001b[49m\u001b[43m)\u001b[49m\n",
      "\u001b[31mTypeError\u001b[39m: 'Squares' object is not iterable"
     ]
    }
   ],
   "source": [
    "list(s)"
   ]
  },
  {
   "cell_type": "markdown",
   "id": "78524d4d-544f-4174-bea1-c9978a61ca16",
   "metadata": {},
   "source": [
    "# lets first fix our method such that we can directly call next on s instead of s.next_"
   ]
  },
  {
   "cell_type": "code",
   "execution_count": 35,
   "id": "e389a544-3e67-4a07-84bc-0d3a7ba4d347",
   "metadata": {},
   "outputs": [],
   "source": [
    "class Squares:\n",
    "    def __init__(self, len_):\n",
    "        self._len = len_\n",
    "        self.i = 0\n",
    "\n",
    "    def __len__(self):\n",
    "        return self._len\n",
    "\n",
    "    def __next__(self):\n",
    "        while self.i < self._len:\n",
    "            self.i+=1\n",
    "            return self.i**2\n",
    "        raise StopIteration"
   ]
  },
  {
   "cell_type": "code",
   "execution_count": 37,
   "id": "2159d0e1-ae0b-40c2-ad44-f73f9d45dde6",
   "metadata": {},
   "outputs": [
    {
     "name": "stdout",
     "output_type": "stream",
     "text": [
      "1\n",
      "4\n",
      "9\n",
      "16\n",
      "25\n"
     ]
    }
   ],
   "source": [
    "s = Squares(5)\n",
    "while True:\n",
    "    try:\n",
    "        print(next(s))\n",
    "    except StopIteration:\n",
    "        break"
   ]
  },
  {
   "cell_type": "code",
   "execution_count": 38,
   "id": "5ec172a7-461c-4d64-84c5-21fe50411e39",
   "metadata": {},
   "outputs": [
    {
     "ename": "StopIteration",
     "evalue": "",
     "output_type": "error",
     "traceback": [
      "\u001b[31m---------------------------------------------------------------------------\u001b[39m",
      "\u001b[31mStopIteration\u001b[39m                             Traceback (most recent call last)",
      "\u001b[36mCell\u001b[39m\u001b[36m \u001b[39m\u001b[32mIn[38]\u001b[39m\u001b[32m, line 1\u001b[39m\n\u001b[32m----> \u001b[39m\u001b[32m1\u001b[39m \u001b[43ms\u001b[49m\u001b[43m.\u001b[49m\u001b[34;43m__next__\u001b[39;49m\u001b[43m(\u001b[49m\u001b[43m)\u001b[49m\n",
      "\u001b[36mCell\u001b[39m\u001b[36m \u001b[39m\u001b[32mIn[35]\u001b[39m\u001b[32m, line 13\u001b[39m, in \u001b[36mSquares.__next__\u001b[39m\u001b[34m(self)\u001b[39m\n\u001b[32m     11\u001b[39m     \u001b[38;5;28mself\u001b[39m.i+=\u001b[32m1\u001b[39m\n\u001b[32m     12\u001b[39m     \u001b[38;5;28;01mreturn\u001b[39;00m \u001b[38;5;28mself\u001b[39m.i**\u001b[32m2\u001b[39m\n\u001b[32m---> \u001b[39m\u001b[32m13\u001b[39m \u001b[38;5;28;01mraise\u001b[39;00m \u001b[38;5;167;01mStopIteration\u001b[39;00m\n",
      "\u001b[31mStopIteration\u001b[39m: "
     ]
    }
   ],
   "source": [
    "s.__next__()"
   ]
  },
  {
   "cell_type": "code",
   "execution_count": 39,
   "id": "81b0c254-fd19-46ff-81e7-8715d051a6db",
   "metadata": {},
   "outputs": [
    {
     "ename": "TypeError",
     "evalue": "'Squares' object is not iterable",
     "output_type": "error",
     "traceback": [
      "\u001b[31m---------------------------------------------------------------------------\u001b[39m",
      "\u001b[31mTypeError\u001b[39m                                 Traceback (most recent call last)",
      "\u001b[36mCell\u001b[39m\u001b[36m \u001b[39m\u001b[32mIn[39]\u001b[39m\u001b[32m, line 2\u001b[39m\n\u001b[32m      1\u001b[39m s = Squares(\u001b[32m5\u001b[39m)\n\u001b[32m----> \u001b[39m\u001b[32m2\u001b[39m \u001b[38;5;28;43;01mfor\u001b[39;49;00m\u001b[43m \u001b[49m\u001b[43msq\u001b[49m\u001b[43m \u001b[49m\u001b[38;5;129;43;01min\u001b[39;49;00m\u001b[43m \u001b[49m\u001b[43ms\u001b[49m\u001b[43m:\u001b[49m\n\u001b[32m      3\u001b[39m \u001b[43m    \u001b[49m\u001b[38;5;28;43mprint\u001b[39;49m\u001b[43m(\u001b[49m\u001b[43msq\u001b[49m\u001b[43m)\u001b[49m\n",
      "\u001b[31mTypeError\u001b[39m: 'Squares' object is not iterable"
     ]
    }
   ],
   "source": [
    "s = Squares(5)\n",
    "for sq in s:\n",
    "    print(sq)\n",
    "    "
   ]
  },
  {
   "cell_type": "markdown",
   "id": "33f07ab1-938e-4d68-801b-a5e203fd96a4",
   "metadata": {},
   "source": [
    "# lets make it a true iterable\n",
    "1. Iterator protocol needs two methods.\n",
    "2. `__iter__` : returns the object (class instance) iteself.\n",
    "3. `__next__`: hands back the next element and raises StopIteration exception"
   ]
  },
  {
   "cell_type": "code",
   "execution_count": 40,
   "id": "8c970be3-58fb-4bde-a53c-9a9ad3139eaa",
   "metadata": {},
   "outputs": [],
   "source": [
    "class Squares:\n",
    "    def __init__(self, len_):\n",
    "        self._len = len_\n",
    "        self.i = 0\n",
    "\n",
    "    def __len__(self):\n",
    "        return self._len\n",
    "\n",
    "    def __next__(self):\n",
    "        while self.i < self._len:\n",
    "            self.i+=1\n",
    "            return self.i**2\n",
    "        raise StopIteration\n",
    "\n",
    "    def __iter__(self):\n",
    "        return self"
   ]
  },
  {
   "cell_type": "code",
   "execution_count": 41,
   "id": "b76ef85d-802d-4796-b811-96d82d585f30",
   "metadata": {},
   "outputs": [
    {
     "name": "stdout",
     "output_type": "stream",
     "text": [
      "1\n",
      "4\n",
      "9\n",
      "16\n",
      "25\n"
     ]
    }
   ],
   "source": [
    "s = Squares(5)\n",
    "for sq in s:\n",
    "    print(sq)"
   ]
  },
  {
   "cell_type": "code",
   "execution_count": 45,
   "id": "340c372d-0a75-4fea-8153-1c556b70a284",
   "metadata": {},
   "outputs": [
    {
     "data": {
      "text/plain": [
       "[1, 4, 9, 16, 25]"
      ]
     },
     "execution_count": 45,
     "metadata": {},
     "output_type": "execute_result"
    }
   ],
   "source": [
    "s = Squares(5)\n",
    "[item for item in s]"
   ]
  },
  {
   "cell_type": "code",
   "execution_count": 47,
   "id": "426521a6-5764-4c4c-a029-3de98aa1d0b4",
   "metadata": {},
   "outputs": [
    {
     "data": {
      "text/plain": [
       "[(0, 1), (1, 4), (2, 9), (3, 16), (4, 25)]"
      ]
     },
     "execution_count": 47,
     "metadata": {},
     "output_type": "execute_result"
    }
   ],
   "source": [
    "s = Squares(5)\n",
    "list(enumerate(s))"
   ]
  },
  {
   "cell_type": "code",
   "execution_count": 48,
   "id": "6fa67ccd-2f0f-4428-9af9-b590c3b20fb5",
   "metadata": {},
   "outputs": [
    {
     "ename": "TypeError",
     "evalue": "'Squares' object is not subscriptable",
     "output_type": "error",
     "traceback": [
      "\u001b[31m---------------------------------------------------------------------------\u001b[39m",
      "\u001b[31mTypeError\u001b[39m                                 Traceback (most recent call last)",
      "\u001b[36mCell\u001b[39m\u001b[36m \u001b[39m\u001b[32mIn[48]\u001b[39m\u001b[32m, line 2\u001b[39m\n\u001b[32m      1\u001b[39m s = Squares(\u001b[32m5\u001b[39m)\n\u001b[32m----> \u001b[39m\u001b[32m2\u001b[39m \u001b[43ms\u001b[49m\u001b[43m[\u001b[49m\u001b[32;43m0\u001b[39;49m\u001b[43m]\u001b[49m\n",
      "\u001b[31mTypeError\u001b[39m: 'Squares' object is not subscriptable"
     ]
    }
   ],
   "source": [
    "s = Squares(5)\n",
    "s[0]"
   ]
  },
  {
   "cell_type": "markdown",
   "id": "cd937a12-091c-4aa4-a077-aad8b61ffd96",
   "metadata": {},
   "source": [
    "# there no order in this collection hence no notion of index"
   ]
  },
  {
   "cell_type": "code",
   "execution_count": 49,
   "id": "3e02a226-1e8a-4c34-9d40-602144db1cf6",
   "metadata": {},
   "outputs": [
    {
     "data": {
      "text/plain": [
       "[25, 16, 9, 4, 1]"
      ]
     },
     "execution_count": 49,
     "metadata": {},
     "output_type": "execute_result"
    }
   ],
   "source": [
    "sorted(s, reverse=True)"
   ]
  },
  {
   "cell_type": "markdown",
   "id": "0ce07265-1288-4147-a3cd-eec3e047ef8e",
   "metadata": {},
   "source": [
    "# lets see whats happening"
   ]
  },
  {
   "cell_type": "code",
   "execution_count": 50,
   "id": "3a13e192-8a38-4141-bdce-7db2f66dbe2a",
   "metadata": {},
   "outputs": [],
   "source": [
    "class Squares:\n",
    "    def __init__(self, len_):\n",
    "        self._len = len_\n",
    "        self.i = 0\n",
    "\n",
    "    def __len__(self):\n",
    "        return self._len\n",
    "\n",
    "    def __next__(self):\n",
    "        print(\"__next__called\")\n",
    "        while self.i < self._len:\n",
    "            self.i+=1\n",
    "            return self.i**2\n",
    "        raise StopIteration\n",
    "\n",
    "    def __iter__(self):\n",
    "        print(\"__iter__called\")\n",
    "        return self"
   ]
  },
  {
   "cell_type": "code",
   "execution_count": 51,
   "id": "32464b6a-6416-4995-9ef7-532ecd5453ac",
   "metadata": {},
   "outputs": [
    {
     "name": "stdout",
     "output_type": "stream",
     "text": [
      "__next__called\n",
      "1\n",
      "__next__called\n",
      "4\n",
      "__next__called\n",
      "9\n",
      "__next__called\n",
      "16\n",
      "__next__called\n",
      "25\n",
      "__next__called\n"
     ]
    }
   ],
   "source": [
    "s = Squares(5)\n",
    "while True:\n",
    "    try:\n",
    "        print(next(s))\n",
    "    except StopIteration:\n",
    "        break"
   ]
  },
  {
   "cell_type": "code",
   "execution_count": 52,
   "id": "20d9303a-2ffc-4d74-b3d5-311e9ca18ab6",
   "metadata": {},
   "outputs": [
    {
     "name": "stdout",
     "output_type": "stream",
     "text": [
      "__iter__called\n",
      "__next__called\n",
      "1\n",
      "__next__called\n",
      "4\n",
      "__next__called\n",
      "9\n",
      "__next__called\n",
      "16\n",
      "__next__called\n",
      "25\n",
      "__next__called\n"
     ]
    }
   ],
   "source": [
    "s = Squares(5)\n",
    "for item in s:\n",
    "    print(item)"
   ]
  },
  {
   "cell_type": "markdown",
   "id": "03faf336-dbd8-4d84-932f-75bfdc7bd2f8",
   "metadata": {},
   "source": [
    "# why is the __iter__method called"
   ]
  },
  {
   "cell_type": "code",
   "execution_count": 53,
   "id": "ab389081-9a88-4c0d-b6fd-5b720a7a7c28",
   "metadata": {},
   "outputs": [
    {
     "name": "stdout",
     "output_type": "stream",
     "text": [
      "__iter__called\n",
      "0x10d29d310 0x10d29d310\n"
     ]
    }
   ],
   "source": [
    "sq = Squares(5)\n",
    "sq_iterator = iter(sq)\n",
    "\n",
    "print(hex(id(sq)), hex(id(sq_iterator)))"
   ]
  },
  {
   "cell_type": "code",
   "execution_count": 56,
   "id": "86595b65-2ce9-4ae6-ad49-e5dc9dedbb87",
   "metadata": {},
   "outputs": [
    {
     "name": "stdout",
     "output_type": "stream",
     "text": [
      "__next__called\n"
     ]
    },
    {
     "data": {
      "text/plain": [
       "1"
      ]
     },
     "execution_count": 56,
     "metadata": {},
     "output_type": "execute_result"
    }
   ],
   "source": [
    "next(sq_iterator)"
   ]
  },
  {
   "cell_type": "code",
   "execution_count": 57,
   "id": "87bc1cbe-969e-4e30-8202-9d553cb1ff20",
   "metadata": {},
   "outputs": [
    {
     "name": "stdout",
     "output_type": "stream",
     "text": [
      "__next__called\n"
     ]
    },
    {
     "data": {
      "text/plain": [
       "4"
      ]
     },
     "execution_count": 57,
     "metadata": {},
     "output_type": "execute_result"
    }
   ],
   "source": [
    "next(sq_iterator)"
   ]
  },
  {
   "cell_type": "code",
   "execution_count": 58,
   "id": "524188b6-e083-4926-a37a-98968fb28101",
   "metadata": {},
   "outputs": [
    {
     "name": "stdout",
     "output_type": "stream",
     "text": [
      "__next__called\n"
     ]
    },
    {
     "data": {
      "text/plain": [
       "9"
      ]
     },
     "execution_count": 58,
     "metadata": {},
     "output_type": "execute_result"
    }
   ],
   "source": [
    "next(sq_iterator)"
   ]
  },
  {
   "cell_type": "code",
   "execution_count": 59,
   "id": "83c83224-4825-434b-a7b4-915c2531be8d",
   "metadata": {},
   "outputs": [
    {
     "name": "stdout",
     "output_type": "stream",
     "text": [
      "__next__called\n"
     ]
    },
    {
     "data": {
      "text/plain": [
       "16"
      ]
     },
     "execution_count": 59,
     "metadata": {},
     "output_type": "execute_result"
    }
   ],
   "source": [
    "next(sq_iterator)"
   ]
  },
  {
   "cell_type": "code",
   "execution_count": 60,
   "id": "05f39217-aef2-4433-9199-a4ecb928ab44",
   "metadata": {},
   "outputs": [
    {
     "name": "stdout",
     "output_type": "stream",
     "text": [
      "__next__called\n"
     ]
    },
    {
     "data": {
      "text/plain": [
       "25"
      ]
     },
     "execution_count": 60,
     "metadata": {},
     "output_type": "execute_result"
    }
   ],
   "source": [
    "next(sq_iterator)"
   ]
  },
  {
   "cell_type": "code",
   "execution_count": 61,
   "id": "c120d9ff-a60d-4376-9496-b29d763f57de",
   "metadata": {},
   "outputs": [
    {
     "name": "stdout",
     "output_type": "stream",
     "text": [
      "__next__called\n"
     ]
    },
    {
     "ename": "StopIteration",
     "evalue": "",
     "output_type": "error",
     "traceback": [
      "\u001b[31m---------------------------------------------------------------------------\u001b[39m",
      "\u001b[31mStopIteration\u001b[39m                             Traceback (most recent call last)",
      "\u001b[36mCell\u001b[39m\u001b[36m \u001b[39m\u001b[32mIn[61]\u001b[39m\u001b[32m, line 1\u001b[39m\n\u001b[32m----> \u001b[39m\u001b[32m1\u001b[39m \u001b[38;5;28;43mnext\u001b[39;49m\u001b[43m(\u001b[49m\u001b[43msq_iterator\u001b[49m\u001b[43m)\u001b[49m\n",
      "\u001b[36mCell\u001b[39m\u001b[36m \u001b[39m\u001b[32mIn[50]\u001b[39m\u001b[32m, line 14\u001b[39m, in \u001b[36mSquares.__next__\u001b[39m\u001b[34m(self)\u001b[39m\n\u001b[32m     12\u001b[39m     \u001b[38;5;28mself\u001b[39m.i+=\u001b[32m1\u001b[39m\n\u001b[32m     13\u001b[39m     \u001b[38;5;28;01mreturn\u001b[39;00m \u001b[38;5;28mself\u001b[39m.i**\u001b[32m2\u001b[39m\n\u001b[32m---> \u001b[39m\u001b[32m14\u001b[39m \u001b[38;5;28;01mraise\u001b[39;00m \u001b[38;5;167;01mStopIteration\u001b[39;00m\n",
      "\u001b[31mStopIteration\u001b[39m: "
     ]
    }
   ],
   "source": [
    "next(sq_iterator)"
   ]
  },
  {
   "cell_type": "markdown",
   "id": "7920f7fc-7bae-4f09-ab8c-7c33830136eb",
   "metadata": {},
   "source": [
    "###  a collection is a bunch of data, and 2 methods which help iterate over it, each time one wants to iterate, data need not be created again, so collection is iterable but iterator is responsible for iterating over the collection and is throw away. "
   ]
  },
  {
   "cell_type": "code",
   "execution_count": 62,
   "id": "96a30fc8-216e-47f6-bf9e-f344f5a37dff",
   "metadata": {},
   "outputs": [
    {
     "name": "stdout",
     "output_type": "stream",
     "text": [
      "__iter__called\n",
      "__next__called\n",
      "1\n",
      "__next__called\n",
      "4\n",
      "__next__called\n",
      "9\n",
      "__next__called\n",
      "16\n",
      "__next__called\n",
      "25\n",
      "__next__called\n"
     ]
    }
   ],
   "source": [
    "s = Squares(5)\n",
    "for item in s:\n",
    "    print(item)"
   ]
  },
  {
   "cell_type": "markdown",
   "id": "0cc1a803-d48e-47b2-b31f-1da45671b9ae",
   "metadata": {},
   "source": [
    "# we have exhausted s, we cant use it again without re-intantiating square class again !"
   ]
  },
  {
   "cell_type": "code",
   "execution_count": 64,
   "id": "1b4aca47-6824-4b96-a15c-9e46fb486954",
   "metadata": {},
   "outputs": [
    {
     "name": "stdout",
     "output_type": "stream",
     "text": [
      "__iter__called\n",
      "__next__called\n"
     ]
    }
   ],
   "source": [
    "for item in s:\n",
    "    print(item)"
   ]
  },
  {
   "cell_type": "markdown",
   "id": "f3c88a57-77a6-451d-83d8-a81b7ecfb800",
   "metadata": {},
   "source": [
    "# lets seperate the data and iterator so we dont have to intialize s everytime"
   ]
  },
  {
   "cell_type": "code",
   "execution_count": 76,
   "id": "41c3b280-4516-4589-ac16-b60bdd707edf",
   "metadata": {},
   "outputs": [],
   "source": [
    "class Squares:\n",
    "    def __init__(self, len_):\n",
    "        self._len = len_\n",
    "        self.i = 0\n",
    "\n",
    "    def __len__(self):\n",
    "        return self._len\n",
    "\n",
    "    def __iter__(self):\n",
    "        print(\"__iter__called\")\n",
    "        return self.iterSquares(self)\n",
    "\n",
    "    class iterSquares:\n",
    "        def __init__(self, squares_obj):\n",
    "            self._squares_obj = squares_obj\n",
    "            self.i = 0 \n",
    "\n",
    "        def __iter__(self):\n",
    "            print(\"sqaure obj __iter__called\")\n",
    "            return self\n",
    "        \n",
    "        def __next__(self):\n",
    "            print(\"sqaure obj __next__called\")\n",
    "            while self.i < self._squares_obj._len:\n",
    "                self.i+=1\n",
    "                return self.i**2\n",
    "            raise StopIteration\n",
    "\n",
    "    "
   ]
  },
  {
   "cell_type": "code",
   "execution_count": 77,
   "id": "5cb7d62b-0de5-4d69-9cbe-a66e37238464",
   "metadata": {},
   "outputs": [
    {
     "name": "stdout",
     "output_type": "stream",
     "text": [
      "__iter__called\n",
      "sqaure obj __next__called\n",
      "1\n",
      "sqaure obj __next__called\n",
      "4\n",
      "sqaure obj __next__called\n",
      "9\n",
      "sqaure obj __next__called\n",
      "16\n",
      "sqaure obj __next__called\n",
      "25\n",
      "sqaure obj __next__called\n"
     ]
    }
   ],
   "source": [
    "s = Squares(5)\n",
    "for item in s:\n",
    "    print(item)"
   ]
  },
  {
   "cell_type": "code",
   "execution_count": 78,
   "id": "835d846e-424b-45dd-a3cc-fa5a031fea13",
   "metadata": {},
   "outputs": [
    {
     "name": "stdout",
     "output_type": "stream",
     "text": [
      "__iter__called\n",
      "sqaure obj __next__called\n",
      "1\n",
      "sqaure obj __next__called\n",
      "4\n",
      "sqaure obj __next__called\n",
      "9\n",
      "sqaure obj __next__called\n",
      "16\n",
      "sqaure obj __next__called\n",
      "25\n",
      "sqaure obj __next__called\n"
     ]
    }
   ],
   "source": [
    "for item in s:\n",
    "    print(item)"
   ]
  },
  {
   "cell_type": "code",
   "execution_count": 79,
   "id": "5799a652-d874-4da3-aa9d-49cd61f8df8f",
   "metadata": {},
   "outputs": [
    {
     "name": "stdout",
     "output_type": "stream",
     "text": [
      "__iter__called\n",
      "sqaure obj __iter__called\n",
      "sqaure obj __next__called\n",
      "sqaure obj __next__called\n",
      "sqaure obj __next__called\n",
      "sqaure obj __next__called\n",
      "sqaure obj __next__called\n",
      "sqaure obj __next__called\n"
     ]
    },
    {
     "data": {
      "text/plain": [
       "[1, 4, 9, 16, 25]"
      ]
     },
     "execution_count": 79,
     "metadata": {},
     "output_type": "execute_result"
    }
   ],
   "source": [
    "[item for item in s]"
   ]
  },
  {
   "cell_type": "markdown",
   "id": "c01e08e6-d01f-4280-8ea1-cad0c7e7baa2",
   "metadata": {},
   "source": [
    "# now we dont have to instantiate s everytime !"
   ]
  },
  {
   "cell_type": "code",
   "execution_count": 80,
   "id": "03849916-5dfc-4917-a72b-c39fd4db63b4",
   "metadata": {},
   "outputs": [
    {
     "data": {
      "text/plain": [
       "('0x10daf0730', '0x10da42070')"
      ]
     },
     "execution_count": 80,
     "metadata": {},
     "output_type": "execute_result"
    }
   ],
   "source": [
    "s = \"i am king of the jungle\"\n",
    "iter_s = iter(s)\n",
    "hex(id(iter_s)), hex(id(s))"
   ]
  },
  {
   "cell_type": "code",
   "execution_count": 81,
   "id": "c8b18b8d-bab6-4205-9bb8-04ca331eccb0",
   "metadata": {},
   "outputs": [
    {
     "ename": "TypeError",
     "evalue": "'str' object is not an iterator",
     "output_type": "error",
     "traceback": [
      "\u001b[31m---------------------------------------------------------------------------\u001b[39m",
      "\u001b[31mTypeError\u001b[39m                                 Traceback (most recent call last)",
      "\u001b[36mCell\u001b[39m\u001b[36m \u001b[39m\u001b[32mIn[81]\u001b[39m\u001b[32m, line 1\u001b[39m\n\u001b[32m----> \u001b[39m\u001b[32m1\u001b[39m \u001b[38;5;28;43mnext\u001b[39;49m\u001b[43m(\u001b[49m\u001b[43ms\u001b[49m\u001b[43m)\u001b[49m\n",
      "\u001b[31mTypeError\u001b[39m: 'str' object is not an iterator"
     ]
    }
   ],
   "source": [
    "next(s)"
   ]
  },
  {
   "cell_type": "code",
   "execution_count": 82,
   "id": "282db56c-6b29-4425-86f7-b2367b4abdb8",
   "metadata": {},
   "outputs": [
    {
     "data": {
      "text/plain": [
       "'i'"
      ]
     },
     "execution_count": 82,
     "metadata": {},
     "output_type": "execute_result"
    }
   ],
   "source": [
    "next(iter_s)"
   ]
  },
  {
   "cell_type": "markdown",
   "id": "b2d843c4-1546-4b76-8f88-d414e4f36c92",
   "metadata": {},
   "source": [
    "# cyclical iterators"
   ]
  },
  {
   "cell_type": "code",
   "execution_count": 87,
   "id": "6f0b197e-a7fa-402f-a6a9-caa2c67c5288",
   "metadata": {},
   "outputs": [
    {
     "data": {
      "text/plain": [
       "[0, 1, 2, 3, 4]"
      ]
     },
     "execution_count": 87,
     "metadata": {},
     "output_type": "execute_result"
    }
   ],
   "source": [
    "l = list(range(5))\n",
    "l"
   ]
  },
  {
   "cell_type": "code",
   "execution_count": 98,
   "id": "ae228daa-d61c-4c60-88d0-dd422d7370a3",
   "metadata": {},
   "outputs": [],
   "source": [
    "class MyIterator:\n",
    "    def __init__(self, list_obj):\n",
    "        self._l = list_obj\n",
    "        self._i = 0\n",
    "        \n",
    "    def __len__(self):\n",
    "        return len(self._l)\n",
    "\n",
    "    def __iter__(self):\n",
    "        return self\n",
    "\n",
    "    def __next__(self):\n",
    "        result = self._l[self._i % len(self)]\n",
    "        self._i += 1\n",
    "        return result"
   ]
  },
  {
   "cell_type": "code",
   "execution_count": 99,
   "id": "f252de4a-e6ae-4af5-8ff5-1b83e4e01ead",
   "metadata": {},
   "outputs": [],
   "source": [
    "iter_l = MyIterator(l)"
   ]
  },
  {
   "cell_type": "code",
   "execution_count": 101,
   "id": "72f8da53-5e87-473e-bcab-31bab940a8c2",
   "metadata": {},
   "outputs": [
    {
     "name": "stdout",
     "output_type": "stream",
     "text": [
      "0 1 2 3 4 0 1 2 3 4 "
     ]
    }
   ],
   "source": [
    "for i in range(10):\n",
    "    print(next(iter_l), end = ' ')"
   ]
  },
  {
   "cell_type": "markdown",
   "id": "9c3d99a1-4748-486a-886e-1e516e0b70c1",
   "metadata": {},
   "source": [
    "### we can write our own iterators for any existing collection, even if the collection has its own implementation. "
   ]
  },
  {
   "cell_type": "code",
   "execution_count": 124,
   "id": "4faaebbe-5f2f-472f-88ec-075fe2e8ed5d",
   "metadata": {},
   "outputs": [
    {
     "data": {
      "text/plain": [
       "(['Heart', 'Spade', 'Diamond', 'Club'],\n",
       " [2, 3, 4, 5, 6, 7, 8, 9, 10, 'J', 'Q', 'K', 'A'])"
      ]
     },
     "execution_count": 124,
     "metadata": {},
     "output_type": "execute_result"
    }
   ],
   "source": [
    "suits = ['Heart', 'Spade', 'Diamond', 'Club']\n",
    "faces = list(range(2, 11)) + ['J', 'Q', 'K', 'A'] \n",
    "\n",
    "suits, faces"
   ]
  },
  {
   "cell_type": "code",
   "execution_count": 125,
   "id": "b7993b4e-d030-49ac-9476-2a55b4b352ea",
   "metadata": {},
   "outputs": [],
   "source": [
    "# lets generate a deck\n",
    "\n",
    "class MyIterator:\n",
    "    def __init__(self, list_obj, max_cycles):\n",
    "        self._l = list_obj\n",
    "        self._i = 0\n",
    "        self._cycle = max_cycles\n",
    "        \n",
    "    def __len__(self):\n",
    "        return len(self._l)\n",
    "\n",
    "    def __iter__(self):\n",
    "        return self\n",
    "\n",
    "    def __next__(self):\n",
    "        if self._i < self._cycle:\n",
    "            result = self._l[self._i % len(self)]\n",
    "            self._i += 1\n",
    "            return result\n",
    "        else:\n",
    "            raise StopIteration\n",
    "        \n",
    "iter_suits = MyIterator(suits, 52)\n",
    "iter_faces = MyIterator(faces, 52)\n",
    "deck = list(zip(iter_suits, iter_faces))"
   ]
  },
  {
   "cell_type": "code",
   "execution_count": 126,
   "id": "383eec75-2038-4dcf-8ed0-9fe36494992d",
   "metadata": {},
   "outputs": [
    {
     "data": {
      "text/plain": [
       "(52,\n",
       " [('Heart', 2),\n",
       "  ('Spade', 3),\n",
       "  ('Diamond', 4),\n",
       "  ('Club', 5),\n",
       "  ('Heart', 6),\n",
       "  ('Spade', 7),\n",
       "  ('Diamond', 8),\n",
       "  ('Club', 9),\n",
       "  ('Heart', 10),\n",
       "  ('Spade', 'J'),\n",
       "  ('Diamond', 'Q'),\n",
       "  ('Club', 'K'),\n",
       "  ('Heart', 'A'),\n",
       "  ('Spade', 2),\n",
       "  ('Diamond', 3),\n",
       "  ('Club', 4),\n",
       "  ('Heart', 5),\n",
       "  ('Spade', 6),\n",
       "  ('Diamond', 7),\n",
       "  ('Club', 8),\n",
       "  ('Heart', 9),\n",
       "  ('Spade', 10),\n",
       "  ('Diamond', 'J'),\n",
       "  ('Club', 'Q'),\n",
       "  ('Heart', 'K'),\n",
       "  ('Spade', 'A'),\n",
       "  ('Diamond', 2),\n",
       "  ('Club', 3),\n",
       "  ('Heart', 4),\n",
       "  ('Spade', 5),\n",
       "  ('Diamond', 6),\n",
       "  ('Club', 7),\n",
       "  ('Heart', 8),\n",
       "  ('Spade', 9),\n",
       "  ('Diamond', 10),\n",
       "  ('Club', 'J'),\n",
       "  ('Heart', 'Q'),\n",
       "  ('Spade', 'K'),\n",
       "  ('Diamond', 'A'),\n",
       "  ('Club', 2),\n",
       "  ('Heart', 3),\n",
       "  ('Spade', 4),\n",
       "  ('Diamond', 5),\n",
       "  ('Club', 6),\n",
       "  ('Heart', 7),\n",
       "  ('Spade', 8),\n",
       "  ('Diamond', 9),\n",
       "  ('Club', 10),\n",
       "  ('Heart', 'J'),\n",
       "  ('Spade', 'Q'),\n",
       "  ('Diamond', 'K'),\n",
       "  ('Club', 'A')])"
      ]
     },
     "execution_count": 126,
     "metadata": {},
     "output_type": "execute_result"
    }
   ],
   "source": [
    "len(deck), deck"
   ]
  },
  {
   "cell_type": "code",
   "execution_count": 127,
   "id": "687b221e-c095-45ee-a718-6f872c5a1023",
   "metadata": {},
   "outputs": [
    {
     "name": "stdout",
     "output_type": "stream",
     "text": [
      "[(2, 'Heart'), (3, 'Heart'), (4, 'Heart'), (5, 'Heart'), (6, 'Heart'), (7, 'Heart'), (8, 'Heart'), (9, 'Heart'), (10, 'Heart'), ('J', 'Heart'), ('Q', 'Heart'), ('K', 'Heart'), ('A', 'Heart'), (2, 'Spade'), (3, 'Spade'), (4, 'Spade'), (5, 'Spade'), (6, 'Spade'), (7, 'Spade'), (8, 'Spade'), (9, 'Spade'), (10, 'Spade'), ('J', 'Spade'), ('Q', 'Spade'), ('K', 'Spade'), ('A', 'Spade'), (2, 'Diamond'), (3, 'Diamond'), (4, 'Diamond'), (5, 'Diamond'), (6, 'Diamond'), (7, 'Diamond'), (8, 'Diamond'), (9, 'Diamond'), (10, 'Diamond'), ('J', 'Diamond'), ('Q', 'Diamond'), ('K', 'Diamond'), ('A', 'Diamond'), (2, 'Club'), (3, 'Club'), (4, 'Club'), (5, 'Club'), (6, 'Club'), (7, 'Club'), (8, 'Club'), (9, 'Club'), (10, 'Club'), ('J', 'Club'), ('Q', 'Club'), ('K', 'Club'), ('A', 'Club')]\n"
     ]
    }
   ],
   "source": [
    "# better way \n",
    "\n",
    "# Make 52 cards (13 faces × 4 suits)\n",
    "deck = [(face, suit) for suit in suits for face in faces]\n",
    "\n",
    "# Optional: to use your iterator class\n",
    "iter_deck = MyIterator(deck, len(deck))\n",
    "print(list(iter_deck))"
   ]
  },
  {
   "cell_type": "markdown",
   "id": "6a000de6-c6c0-4828-b86a-f206c4060ed3",
   "metadata": {},
   "source": [
    "# full deck of cards as iterator"
   ]
  },
  {
   "cell_type": "code",
   "execution_count": 136,
   "id": "f9c4143c-9250-4004-85bc-578a5934d7d1",
   "metadata": {},
   "outputs": [],
   "source": [
    "import random\n",
    "\n",
    "class Deck:\n",
    "    def __init__(self):\n",
    "        suits = ['Hearts', 'Spades', 'Diamonds', 'Clubs']\n",
    "        faces = list(range(2, 11)) + ['J', 'Q', 'K', 'A']\n",
    "        # Create 52 cards as tuples (face, suit)\n",
    "        self._cards = [(f, s) for s in suits for f in faces]\n",
    "        self._i = 0  # internal index\n",
    "\n",
    "    def shuffle(self):\n",
    "        random.shuffle(self._cards)\n",
    "        self._i = 0  # reset index after shuffling\n",
    "\n",
    "    def __len__(self):\n",
    "        return len(self._cards)\n",
    "\n",
    "    def __iter__(self):\n",
    "        return self\n",
    "\n",
    "    def __next__(self):\n",
    "        if self._i >= len(self._cards):\n",
    "            raise StopIteration\n",
    "        card = self._cards[self._i]\n",
    "        self._i += 1\n",
    "        return card\n",
    "\n",
    "    def draw(self, n=1):\n",
    "        \"\"\"Draw n cards from the top of the deck.\"\"\"\n",
    "        if self._i + n > len(self._cards):\n",
    "            raise ValueError(\"Not enough cards left to draw.\")\n",
    "        cards = self._cards[self._i : self._i + n]\n",
    "        self._i += n\n",
    "        return cards\n",
    "\n",
    "    def __repr__(self):\n",
    "        return f\"<Deck of {len(self._cards) - self._i} cards remaining>\"\n"
   ]
  },
  {
   "cell_type": "code",
   "execution_count": 139,
   "id": "626bbe1f-3c7e-446d-943f-4343d258c6e0",
   "metadata": {},
   "outputs": [
    {
     "name": "stdout",
     "output_type": "stream",
     "text": [
      "Before shuffle: [(2, 'Hearts'), (3, 'Hearts'), (4, 'Hearts'), (5, 'Hearts'), (6, 'Hearts')]\n",
      "<Deck of 52 cards remaining>\n",
      "\n",
      "After shuffle: [(10, 'Hearts'), (6, 'Diamonds'), (6, 'Hearts'), ('K', 'Spades'), (6, 'Clubs')]\n",
      "\n",
      "Drawing 3 cards: [(10, 'Hearts'), (6, 'Diamonds'), (6, 'Hearts')]\n",
      "<Deck of 49 cards remaining>\n",
      "\n",
      "Iterating:\n",
      "('K', 'Spades')\n",
      "(6, 'Clubs')\n",
      "('J', 'Diamonds')\n",
      "(8, 'Diamonds')\n",
      "('J', 'Spades')\n",
      "(2, 'Spades')\n",
      "('Q', 'Clubs')\n",
      "(10, 'Clubs')\n",
      "(10, 'Spades')\n",
      "(4, 'Diamonds')\n",
      "(9, 'Hearts')\n",
      "('K', 'Diamonds')\n",
      "(5, 'Spades')\n",
      "(7, 'Spades')\n",
      "(7, 'Hearts')\n",
      "(5, 'Hearts')\n",
      "('K', 'Clubs')\n",
      "(8, 'Hearts')\n",
      "('Q', 'Spades')\n",
      "('A', 'Diamonds')\n",
      "(3, 'Clubs')\n",
      "(9, 'Spades')\n",
      "(9, 'Clubs')\n",
      "('K', 'Hearts')\n",
      "(2, 'Diamonds')\n",
      "(2, 'Clubs')\n",
      "(3, 'Spades')\n",
      "('J', 'Hearts')\n",
      "(7, 'Clubs')\n",
      "('Q', 'Diamonds')\n",
      "(6, 'Spades')\n",
      "('A', 'Spades')\n",
      "(3, 'Hearts')\n",
      "(4, 'Hearts')\n",
      "(10, 'Diamonds')\n",
      "(2, 'Hearts')\n",
      "(7, 'Diamonds')\n",
      "(9, 'Diamonds')\n",
      "(8, 'Clubs')\n",
      "(5, 'Diamonds')\n",
      "('A', 'Hearts')\n",
      "('Q', 'Hearts')\n",
      "(4, 'Clubs')\n",
      "(8, 'Spades')\n",
      "(4, 'Spades')\n",
      "(5, 'Clubs')\n",
      "(3, 'Diamonds')\n",
      "('J', 'Clubs')\n",
      "('A', 'Clubs')\n"
     ]
    }
   ],
   "source": [
    "deck = Deck()\n",
    "print(\"Before shuffle:\", deck._cards[:5])  # peek at first few cards\n",
    "print(deck)\n",
    "\n",
    "deck.shuffle()\n",
    "print(\"\\nAfter shuffle:\", deck._cards[:5])\n",
    "\n",
    "# Draw some cards\n",
    "print(\"\\nDrawing 3 cards:\", deck.draw(3))\n",
    "print(deck)\n",
    "# You can also iterate directly\n",
    "print(\"\\nIterating:\")\n",
    "for card in deck:\n",
    "    print(card)"
   ]
  },
  {
   "cell_type": "markdown",
   "id": "1e696dcf-0f7f-43d3-ba9f-a58214f4437d",
   "metadata": {},
   "source": [
    "# using `itertools`"
   ]
  },
  {
   "cell_type": "code",
   "execution_count": 145,
   "id": "1ceced85-6d69-4267-a154-964f773d6644",
   "metadata": {},
   "outputs": [
    {
     "data": {
      "text/plain": [
       "['1N', '2S', '3W', '4E', '5N', '6S', '7W', '8E', '9N', '10S']"
      ]
     },
     "execution_count": 145,
     "metadata": {},
     "output_type": "execute_result"
    }
   ],
   "source": [
    "class MyIterator:\n",
    "    def __init__(self, list_obj):\n",
    "        self._l = list_obj\n",
    "        self._i = 0\n",
    "        \n",
    "    def __len__(self):\n",
    "        return len(self._l)\n",
    "\n",
    "    def __iter__(self):\n",
    "        return self\n",
    "\n",
    "    def __next__(self):\n",
    "        result = self._l[self._i % len(self)]\n",
    "        self._i += 1\n",
    "        return result\n",
    "\n",
    "\n",
    "n = 10\n",
    "iter_cycle = MyIterator('NSWE')\n",
    "items = [f'{i}{next(iter_cycle)}' for i in range(1, n+1)]\n",
    "\n",
    "items"
   ]
  },
  {
   "cell_type": "code",
   "execution_count": 146,
   "id": "3650514b-c554-4f2c-9f49-88f43762de9d",
   "metadata": {},
   "outputs": [
    {
     "name": "stdout",
     "output_type": "stream",
     "text": [
      "Help on class cycle in module itertools:\n",
      "\n",
      "class cycle(builtins.object)\n",
      " |  cycle(iterable, /)\n",
      " |\n",
      " |  Return elements from the iterable until it is exhausted. Then repeat the sequence indefinitely.\n",
      " |\n",
      " |  Methods defined here:\n",
      " |\n",
      " |  __getattribute__(self, name, /)\n",
      " |      Return getattr(self, name).\n",
      " |\n",
      " |  __iter__(self, /)\n",
      " |      Implement iter(self).\n",
      " |\n",
      " |  __next__(self, /)\n",
      " |      Implement next(self).\n",
      " |\n",
      " |  __reduce__(self, /)\n",
      " |      Return state information for pickling.\n",
      " |\n",
      " |  __setstate__(self, object, /)\n",
      " |      Set state information for unpickling.\n",
      " |\n",
      " |  ----------------------------------------------------------------------\n",
      " |  Static methods defined here:\n",
      " |\n",
      " |  __new__(*args, **kwargs)\n",
      " |      Create and return a new object.  See help(type) for accurate signature.\n",
      "\n"
     ]
    }
   ],
   "source": [
    "import itertools\n",
    "\n",
    "help(itertools.cycle)"
   ]
  },
  {
   "cell_type": "code",
   "execution_count": 147,
   "id": "6329b135-aab5-4a1e-b7c7-b7728d190f4d",
   "metadata": {},
   "outputs": [
    {
     "data": {
      "text/plain": [
       "['1N', '2S', '3W', '4E', '5N', '6S', '7W', '8E', '9N', '10S']"
      ]
     },
     "execution_count": 147,
     "metadata": {},
     "output_type": "execute_result"
    }
   ],
   "source": [
    "n = 10\n",
    "iter_cycle = itertools.cycle('NSWE')\n",
    "items = [f'{i}{next(iter_cycle)}' for i in range(1, n+1)]\n",
    "\n",
    "items"
   ]
  },
  {
   "cell_type": "markdown",
   "id": "6cf4cbfe-4897-4241-a80f-a26487545851",
   "metadata": {},
   "source": [
    "# Lets implement a deck of cards using this itertools.cycle"
   ]
  },
  {
   "cell_type": "code",
   "execution_count": 148,
   "id": "8bc9c80c-083e-4bbb-83c8-e63f6ac18ed9",
   "metadata": {},
   "outputs": [
    {
     "data": {
      "text/plain": [
       "(['Hearts', 'Spades', 'Diamonds', 'Clubs'],\n",
       " [2, 3, 4, 5, 6, 7, 8, 9, 10, 'J', 'Q', 'K', 'A'])"
      ]
     },
     "execution_count": 148,
     "metadata": {},
     "output_type": "execute_result"
    }
   ],
   "source": [
    "suits = ['Hearts', 'Spades', 'Diamonds', 'Clubs']\n",
    "faces = list(range(2, 11)) + ['J', 'Q', 'K', 'A']\n",
    "\n",
    "suits, faces"
   ]
  },
  {
   "cell_type": "code",
   "execution_count": 153,
   "id": "e1554c30-9683-4ecf-a067-a4fe7c22d4af",
   "metadata": {},
   "outputs": [
    {
     "data": {
      "text/plain": [
       "['Hearts 2',\n",
       " 'Hearts 3',\n",
       " 'Hearts 4',\n",
       " 'Hearts 5',\n",
       " 'Hearts 6',\n",
       " 'Hearts 7',\n",
       " 'Hearts 8',\n",
       " 'Hearts 9',\n",
       " 'Hearts 10',\n",
       " 'Hearts J',\n",
       " 'Hearts Q',\n",
       " 'Hearts K',\n",
       " 'Hearts A',\n",
       " 'Spades 2',\n",
       " 'Spades 3',\n",
       " 'Spades 4',\n",
       " 'Spades 5',\n",
       " 'Spades 6',\n",
       " 'Spades 7',\n",
       " 'Spades 8',\n",
       " 'Spades 9',\n",
       " 'Spades 10',\n",
       " 'Spades J',\n",
       " 'Spades Q',\n",
       " 'Spades K',\n",
       " 'Spades A',\n",
       " 'Diamonds 2',\n",
       " 'Diamonds 3',\n",
       " 'Diamonds 4',\n",
       " 'Diamonds 5',\n",
       " 'Diamonds 6',\n",
       " 'Diamonds 7',\n",
       " 'Diamonds 8',\n",
       " 'Diamonds 9',\n",
       " 'Diamonds 10',\n",
       " 'Diamonds J',\n",
       " 'Diamonds Q',\n",
       " 'Diamonds K',\n",
       " 'Diamonds A',\n",
       " 'Clubs 2',\n",
       " 'Clubs 3',\n",
       " 'Clubs 4',\n",
       " 'Clubs 5',\n",
       " 'Clubs 6',\n",
       " 'Clubs 7',\n",
       " 'Clubs 8',\n",
       " 'Clubs 9',\n",
       " 'Clubs 10',\n",
       " 'Clubs J',\n",
       " 'Clubs Q',\n",
       " 'Clubs K',\n",
       " 'Clubs A']"
      ]
     },
     "execution_count": 153,
     "metadata": {},
     "output_type": "execute_result"
    }
   ],
   "source": [
    "iter_faces = itertools.cycle(faces)\n",
    "\n",
    "[f'{suit} {next(iter_faces)}' for suit in suits for face in faces]"
   ]
  },
  {
   "cell_type": "markdown",
   "id": "b85d6669-8bce-4ff3-8b36-acd617ce1b7e",
   "metadata": {},
   "source": [
    "# cyclic iterator for unordered collections"
   ]
  },
  {
   "cell_type": "code",
   "execution_count": 155,
   "id": "1a2c3fe1-c39a-4595-8431-f044811a98c4",
   "metadata": {},
   "outputs": [
    {
     "data": {
      "text/plain": [
       "{'a', 'b', 'c', 'd'}"
      ]
     },
     "execution_count": 155,
     "metadata": {},
     "output_type": "execute_result"
    }
   ],
   "source": [
    "l = set('abcd')\n",
    "l"
   ]
  },
  {
   "cell_type": "markdown",
   "id": "ffc01f4d-6288-478c-b4a3-e4fcb05dc065",
   "metadata": {},
   "source": [
    "### we cant use any index with unordered collections"
   ]
  },
  {
   "cell_type": "code",
   "execution_count": 158,
   "id": "6a1946c8-0d09-419f-951f-338461bd5d2e",
   "metadata": {},
   "outputs": [
    {
     "data": {
      "text/plain": [
       "4"
      ]
     },
     "execution_count": 158,
     "metadata": {},
     "output_type": "execute_result"
    }
   ],
   "source": [
    "len(l)"
   ]
  },
  {
   "cell_type": "code",
   "execution_count": 159,
   "id": "d17e2ac8-fbc4-460d-b59a-3d49071959fe",
   "metadata": {},
   "outputs": [
    {
     "ename": "TypeError",
     "evalue": "'set' object is not subscriptable",
     "output_type": "error",
     "traceback": [
      "\u001b[31m---------------------------------------------------------------------------\u001b[39m",
      "\u001b[31mTypeError\u001b[39m                                 Traceback (most recent call last)",
      "\u001b[36mCell\u001b[39m\u001b[36m \u001b[39m\u001b[32mIn[159]\u001b[39m\u001b[32m, line 1\u001b[39m\n\u001b[32m----> \u001b[39m\u001b[32m1\u001b[39m \u001b[43ml\u001b[49m\u001b[43m[\u001b[49m\u001b[32;43m0\u001b[39;49m\u001b[43m]\u001b[49m\n",
      "\u001b[31mTypeError\u001b[39m: 'set' object is not subscriptable"
     ]
    }
   ],
   "source": [
    "l[0]"
   ]
  },
  {
   "cell_type": "code",
   "execution_count": 160,
   "id": "b09d3370-2522-4304-aae2-245b591d2632",
   "metadata": {},
   "outputs": [],
   "source": [
    "class MyIterator:\n",
    "    def __init__(self, obj):\n",
    "        self._obj = obj\n",
    "        self._iterable = iter(self._obj)\n",
    "        \n",
    "    def __iter__(self):\n",
    "        return self\n",
    "\n",
    "    def __next__(self):\n",
    "        return next(self._iterable)\n",
    "        "
   ]
  },
  {
   "cell_type": "code",
   "execution_count": 162,
   "id": "1c0546b1-5a3c-4564-8f65-3f8f66ca1683",
   "metadata": {},
   "outputs": [],
   "source": [
    "iter_l = MyIterator(l)"
   ]
  },
  {
   "cell_type": "code",
   "execution_count": 164,
   "id": "ccfd6e5d-daa7-4d02-9c36-05adc62194f0",
   "metadata": {},
   "outputs": [
    {
     "name": "stdout",
     "output_type": "stream",
     "text": [
      "0 d\n",
      "1 a\n",
      "2 c\n",
      "3 b\n"
     ]
    },
    {
     "ename": "StopIteration",
     "evalue": "",
     "output_type": "error",
     "traceback": [
      "\u001b[31m---------------------------------------------------------------------------\u001b[39m",
      "\u001b[31mStopIteration\u001b[39m                             Traceback (most recent call last)",
      "\u001b[36mCell\u001b[39m\u001b[36m \u001b[39m\u001b[32mIn[164]\u001b[39m\u001b[32m, line 2\u001b[39m\n\u001b[32m      1\u001b[39m \u001b[38;5;28;01mfor\u001b[39;00m i \u001b[38;5;129;01min\u001b[39;00m \u001b[38;5;28mrange\u001b[39m(\u001b[32m10\u001b[39m):\n\u001b[32m----> \u001b[39m\u001b[32m2\u001b[39m     \u001b[38;5;28mprint\u001b[39m(i, \u001b[38;5;28;43mnext\u001b[39;49m\u001b[43m(\u001b[49m\u001b[43miter_l\u001b[49m\u001b[43m)\u001b[49m)\n",
      "\u001b[36mCell\u001b[39m\u001b[36m \u001b[39m\u001b[32mIn[160]\u001b[39m\u001b[32m, line 10\u001b[39m, in \u001b[36mMyIterator.__next__\u001b[39m\u001b[34m(self)\u001b[39m\n\u001b[32m      9\u001b[39m \u001b[38;5;28;01mdef\u001b[39;00m\u001b[38;5;250m \u001b[39m\u001b[34m__next__\u001b[39m(\u001b[38;5;28mself\u001b[39m):\n\u001b[32m---> \u001b[39m\u001b[32m10\u001b[39m     \u001b[38;5;28;01mreturn\u001b[39;00m \u001b[38;5;28;43mnext\u001b[39;49m\u001b[43m(\u001b[49m\u001b[38;5;28;43mself\u001b[39;49m\u001b[43m.\u001b[49m\u001b[43m_iterable\u001b[49m\u001b[43m)\u001b[49m\n",
      "\u001b[31mStopIteration\u001b[39m: "
     ]
    }
   ],
   "source": [
    "for i in range(10):\n",
    "    print(i, next(iter_l))"
   ]
  },
  {
   "cell_type": "code",
   "execution_count": 167,
   "id": "1e4d58ab-1b6f-42be-9339-44a7030b8b99",
   "metadata": {},
   "outputs": [],
   "source": [
    "class MyCyclicIterator:\n",
    "    def __init__(self, obj):\n",
    "        self._obj = obj\n",
    "        self._iterable = iter(self._obj)\n",
    "        \n",
    "    def __iter__(self):\n",
    "        return self\n",
    "\n",
    "    def __next__(self):\n",
    "        try:\n",
    "            result = next(self._iterable)\n",
    "        except StopIteration:\n",
    "            self._iterable = iter(self._obj)\n",
    "            result = next(self._iterable)\n",
    "        return result"
   ]
  },
  {
   "cell_type": "code",
   "execution_count": 168,
   "id": "556bd3c0-91f7-4575-acec-d039621313dd",
   "metadata": {},
   "outputs": [
    {
     "name": "stdout",
     "output_type": "stream",
     "text": [
      "0 d\n",
      "1 a\n",
      "2 c\n",
      "3 b\n",
      "4 d\n",
      "5 a\n",
      "6 c\n",
      "7 b\n",
      "8 d\n",
      "9 a\n"
     ]
    }
   ],
   "source": [
    "iter_l = MyCyclicIterator(l)\n",
    "for i in range(10):\n",
    "    print(i, next(iter_l))"
   ]
  },
  {
   "cell_type": "markdown",
   "id": "48134162-42d0-4199-8353-a56d6814a46d",
   "metadata": {},
   "source": [
    "# lazy evaluation of iterables"
   ]
  },
  {
   "cell_type": "code",
   "execution_count": 170,
   "id": "b9815bd8-a00b-41e1-9db9-2d14d87a685c",
   "metadata": {},
   "outputs": [],
   "source": [
    "import math"
   ]
  },
  {
   "cell_type": "code",
   "execution_count": 172,
   "id": "a5b70412-1a3f-411f-b52f-4cbe80007474",
   "metadata": {},
   "outputs": [],
   "source": [
    "class Circle:\n",
    "    def __init__(self, radius):\n",
    "        self.radius = radius\n",
    "\n",
    "    @property\n",
    "    def radius(self):\n",
    "        return self._radius\n",
    "\n",
    "    @radius.setter\n",
    "    def radius(self, radius):\n",
    "        if radius <= 0:\n",
    "            raise ValueError('Radius of a Cicle cant be negative')\n",
    "        self._radius = radius\n",
    "\n",
    "    def area(self):\n",
    "        print('calculating area')\n",
    "        return math.pi * (self.radius ** 2)\n",
    "\n",
    "    def __repr__(self):\n",
    "        return f'Circle(r={self.radius})'\n",
    "        "
   ]
  },
  {
   "cell_type": "code",
   "execution_count": 180,
   "id": "25f836f3-e1b0-4220-accc-8dd50d42bfe1",
   "metadata": {},
   "outputs": [
    {
     "data": {
      "text/plain": [
       "Circle(r=10)"
      ]
     },
     "execution_count": 180,
     "metadata": {},
     "output_type": "execute_result"
    }
   ],
   "source": [
    "c1 = Circle(10)\n",
    "c1"
   ]
  },
  {
   "cell_type": "code",
   "execution_count": 181,
   "id": "711324d3-692d-4de8-b32a-be339f5a40a3",
   "metadata": {},
   "outputs": [
    {
     "data": {
      "text/plain": [
       "10"
      ]
     },
     "execution_count": 181,
     "metadata": {},
     "output_type": "execute_result"
    }
   ],
   "source": [
    "c1.radius"
   ]
  },
  {
   "cell_type": "code",
   "execution_count": 182,
   "id": "3091a11c-050b-4848-bb9c-60aba803ac5e",
   "metadata": {},
   "outputs": [
    {
     "name": "stdout",
     "output_type": "stream",
     "text": [
      "calculating area\n"
     ]
    },
    {
     "data": {
      "text/plain": [
       "314.1592653589793"
      ]
     },
     "execution_count": 182,
     "metadata": {},
     "output_type": "execute_result"
    }
   ],
   "source": [
    "c1.area()"
   ]
  },
  {
   "cell_type": "markdown",
   "id": "d9c2dab0-968e-413f-83f4-90205637a707",
   "metadata": {},
   "source": [
    "# change radius and call area again - area updates "
   ]
  },
  {
   "cell_type": "code",
   "execution_count": 184,
   "id": "12309144-c4f2-42ff-a03e-4045c42fc305",
   "metadata": {},
   "outputs": [
    {
     "name": "stdout",
     "output_type": "stream",
     "text": [
      "calculating area\n"
     ]
    },
    {
     "data": {
      "text/plain": [
       "12.566370614359172"
      ]
     },
     "execution_count": 184,
     "metadata": {},
     "output_type": "execute_result"
    }
   ],
   "source": [
    "c1.radius = 2\n",
    "c1.area()"
   ]
  },
  {
   "cell_type": "markdown",
   "id": "ba32f015-aaa3-4762-94cc-03247ebf4bc0",
   "metadata": {},
   "source": [
    "### ..but area is calculated even if radius did not change, what if our program creates a circle once but calls area many times - why calculate it each time !!!"
   ]
  },
  {
   "cell_type": "code",
   "execution_count": 185,
   "id": "ec96c3b3-adf9-46ac-a9d3-fff0dd8a4306",
   "metadata": {},
   "outputs": [
    {
     "name": "stdout",
     "output_type": "stream",
     "text": [
      "calculating area\n"
     ]
    },
    {
     "data": {
      "text/plain": [
       "12.566370614359172"
      ]
     },
     "execution_count": 185,
     "metadata": {},
     "output_type": "execute_result"
    }
   ],
   "source": [
    "c1.area()"
   ]
  },
  {
   "cell_type": "code",
   "execution_count": 186,
   "id": "74c69f6d-bfee-46de-bd2d-046a69b9783b",
   "metadata": {},
   "outputs": [
    {
     "name": "stdout",
     "output_type": "stream",
     "text": [
      "calculating area\n"
     ]
    },
    {
     "data": {
      "text/plain": [
       "12.566370614359172"
      ]
     },
     "execution_count": 186,
     "metadata": {},
     "output_type": "execute_result"
    }
   ],
   "source": [
    "c1.area()"
   ]
  },
  {
   "cell_type": "markdown",
   "id": "0ea3e40c-16c2-4c3f-b59e-a0335c7ea04e",
   "metadata": {},
   "source": [
    "## lets fix it with lazy evaluation"
   ]
  },
  {
   "cell_type": "code",
   "execution_count": 188,
   "id": "313b08a2-cb8a-49b7-bf19-408ad1fe5950",
   "metadata": {},
   "outputs": [],
   "source": [
    "class Circle:\n",
    "    def __init__(self, radius):\n",
    "        self.radius = radius\n",
    "        self._area = None\n",
    "\n",
    "    @property\n",
    "    def radius(self):\n",
    "        return self._radius\n",
    "\n",
    "    @radius.setter\n",
    "    def radius(self, radius):\n",
    "        if radius <= 0:\n",
    "            raise ValueError('Radius of a Cicle cant be negative')\n",
    "        self._radius = radius\n",
    "\n",
    "    @property\n",
    "    def area(self):\n",
    "        if self._area is None:\n",
    "            print('calculating area')\n",
    "            self._area = math.pi * (self.radius ** 2)\n",
    "        return self._area\n",
    "\n",
    "    def __repr__(self):\n",
    "        return f'Circle(r={self.radius})'"
   ]
  },
  {
   "cell_type": "code",
   "execution_count": 189,
   "id": "2ea5a569-04a2-4360-b53c-b702acbe329b",
   "metadata": {},
   "outputs": [
    {
     "name": "stdout",
     "output_type": "stream",
     "text": [
      "calculating area\n"
     ]
    },
    {
     "data": {
      "text/plain": [
       "314.1592653589793"
      ]
     },
     "execution_count": 189,
     "metadata": {},
     "output_type": "execute_result"
    }
   ],
   "source": [
    "c1 = Circle(10)\n",
    "c1.area"
   ]
  },
  {
   "cell_type": "code",
   "execution_count": 190,
   "id": "d35105a7-d5b6-4245-8458-56ecaa73db7c",
   "metadata": {},
   "outputs": [
    {
     "data": {
      "text/plain": [
       "314.1592653589793"
      ]
     },
     "execution_count": 190,
     "metadata": {},
     "output_type": "execute_result"
    }
   ],
   "source": [
    "c1.area"
   ]
  },
  {
   "cell_type": "markdown",
   "id": "30900ae6-db41-44ad-87e2-605e4a859c9c",
   "metadata": {},
   "source": [
    "### area is not calculated again but... now if we change radius then old area is returned. We somehow have to change area when radius changes -- but why calcuate it without it being asked ! how can we fix this ?"
   ]
  },
  {
   "cell_type": "code",
   "execution_count": 192,
   "id": "6b39be4b-ba2e-4ac4-b597-7a6b6a1e24ea",
   "metadata": {},
   "outputs": [
    {
     "data": {
      "text/plain": [
       "314.1592653589793"
      ]
     },
     "execution_count": 192,
     "metadata": {},
     "output_type": "execute_result"
    }
   ],
   "source": [
    "c1.radius = 2\n",
    "c1.area"
   ]
  },
  {
   "cell_type": "code",
   "execution_count": 193,
   "id": "e487b257-8cba-454c-8850-89153085aef9",
   "metadata": {},
   "outputs": [],
   "source": [
    "class Circle:\n",
    "    def __init__(self, radius):\n",
    "        self.radius = radius\n",
    "        self._area = None\n",
    "\n",
    "    @property\n",
    "    def radius(self):\n",
    "        return self._radius\n",
    "\n",
    "    @radius.setter\n",
    "    def radius(self, radius):\n",
    "        if radius <= 0:\n",
    "            raise ValueError('Radius of a Cicle cant be negative')\n",
    "        self._radius = radius\n",
    "        self._area = None  # we just invalidate the area each time radius changes\n",
    "\n",
    "    @property\n",
    "    def area(self):\n",
    "        if self._area is None:\n",
    "            print('calculating area')\n",
    "            self._area = math.pi * (self.radius ** 2)\n",
    "        return self._area\n",
    "\n",
    "    def __repr__(self):\n",
    "        return f'Circle(r={self.radius})'"
   ]
  },
  {
   "cell_type": "code",
   "execution_count": 194,
   "id": "63d3435a-ca34-4238-95af-23502b40d130",
   "metadata": {},
   "outputs": [
    {
     "name": "stdout",
     "output_type": "stream",
     "text": [
      "calculating area\n"
     ]
    },
    {
     "data": {
      "text/plain": [
       "314.1592653589793"
      ]
     },
     "execution_count": 194,
     "metadata": {},
     "output_type": "execute_result"
    }
   ],
   "source": [
    "c1 = Circle(10)\n",
    "c1.area"
   ]
  },
  {
   "cell_type": "code",
   "execution_count": 195,
   "id": "e412e86d-431e-4177-a1e9-c77e8fa705c1",
   "metadata": {},
   "outputs": [
    {
     "data": {
      "text/plain": [
       "314.1592653589793"
      ]
     },
     "execution_count": 195,
     "metadata": {},
     "output_type": "execute_result"
    }
   ],
   "source": [
    "c1.area"
   ]
  },
  {
   "cell_type": "code",
   "execution_count": 197,
   "id": "776463c7-f206-4362-a0a8-02f1fc453c5a",
   "metadata": {},
   "outputs": [],
   "source": [
    "c1.radius = 2"
   ]
  },
  {
   "cell_type": "code",
   "execution_count": 198,
   "id": "495f1c8b-cc70-49b0-a0c1-bae063f682ab",
   "metadata": {},
   "outputs": [
    {
     "name": "stdout",
     "output_type": "stream",
     "text": [
      "calculating area\n"
     ]
    },
    {
     "data": {
      "text/plain": [
       "12.566370614359172"
      ]
     },
     "execution_count": 198,
     "metadata": {},
     "output_type": "execute_result"
    }
   ],
   "source": [
    "c1.area"
   ]
  },
  {
   "cell_type": "code",
   "execution_count": 199,
   "id": "296928a8-36e8-41b6-b3e8-664b33eb7e0c",
   "metadata": {},
   "outputs": [
    {
     "data": {
      "text/plain": [
       "12.566370614359172"
      ]
     },
     "execution_count": 199,
     "metadata": {},
     "output_type": "execute_result"
    }
   ],
   "source": [
    "c1.area"
   ]
  },
  {
   "cell_type": "markdown",
   "id": "b13188fa-a67a-415e-8daa-96edd390bde5",
   "metadata": {},
   "source": [
    "# how to find if something is an iterable or iterator\n",
    "\n",
    "| Concept                            | **Iterable**                                                             | **Iterator**                                                                   |\n",
    "| :--------------------------------- | :----------------------------------------------------------------------- | :----------------------------------------------------------------------------- |\n",
    "| Definition                         | An object that can return an **iterator** when `iter()` is called on it. | An object that knows how to **return the next value** when `next()` is called. |\n",
    "| Required methods                   | Must implement `__iter__()` (returns an iterator).                       | Must implement **both** `__iter__()` and `__next__()`.                         |\n",
    "| Can be looped over multiple times? | ✅ Yes (each time creates a *fresh iterator*).                            | ⚠️ No — it’s consumed after one pass.                                          |\n",
    "| Example objects                    | `list`, `tuple`, `set`, `dict`, `str`, `range`                           | File objects, generators, results of `iter(...)`, or any custom iterator class |\n",
    "| State                              | Stateless — no internal progress                                         | Stateful — remembers where it is in the iteration                              |\n"
   ]
  },
  {
   "cell_type": "code",
   "execution_count": 224,
   "id": "f4666c9a-e717-4568-84ad-c311d424d617",
   "metadata": {
    "scrolled": true
   },
   "outputs": [
    {
     "data": {
      "text/plain": [
       "(list, True, False, False)"
      ]
     },
     "execution_count": 224,
     "metadata": {},
     "output_type": "execute_result"
    }
   ],
   "source": [
    "# iterable : doesnt exhaust\n",
    "\n",
    "l = [1, 2, 3]\n",
    "\n",
    "type(l), '__iter__' in dir(l), '__next__' in dir(l), iter(l) is l"
   ]
  },
  {
   "cell_type": "code",
   "execution_count": 225,
   "id": "f274f736-509f-43c3-86b5-a4a9ed57c639",
   "metadata": {},
   "outputs": [
    {
     "data": {
      "text/plain": [
       "(set, True, False, False)"
      ]
     },
     "execution_count": 225,
     "metadata": {},
     "output_type": "execute_result"
    }
   ],
   "source": [
    "# iterable : doesnt exhaust\n",
    "\n",
    "l = set([1, 2, 3])\n",
    "\n",
    "type(l), '__iter__' in dir(l), '__next__' in dir(l), iter(l) is l"
   ]
  },
  {
   "cell_type": "code",
   "execution_count": 226,
   "id": "dbaa937c-dc6f-4614-9e9c-928fc8041a42",
   "metadata": {},
   "outputs": [
    {
     "data": {
      "text/plain": [
       "(range, True, False, False)"
      ]
     },
     "execution_count": 226,
     "metadata": {},
     "output_type": "execute_result"
    }
   ],
   "source": [
    "# iterable : doesnt exhaust\n",
    "\n",
    "l = range(5)\n",
    "\n",
    "type(l), '__iter__' in dir(l), '__next__' in dir(l), iter(l) is l"
   ]
  },
  {
   "cell_type": "code",
   "execution_count": 227,
   "id": "66457e8f-cd3a-40e5-ac14-a917e628b2ad",
   "metadata": {},
   "outputs": [
    {
     "data": {
      "text/plain": [
       "(zip, True, True, True)"
      ]
     },
     "execution_count": 227,
     "metadata": {},
     "output_type": "execute_result"
    }
   ],
   "source": [
    "# iterator : exhausts\n",
    "\n",
    "l = zip([1, 2, 3], 'abc')\n",
    "\n",
    "type(l), '__iter__' in dir(l), '__next__' in dir(l), iter(l) is l"
   ]
  },
  {
   "cell_type": "code",
   "execution_count": 230,
   "id": "f1803041-99e8-432b-ade0-d123d8719272",
   "metadata": {},
   "outputs": [
    {
     "data": {
      "text/plain": [
       "(enumerate, True, True, True)"
      ]
     },
     "execution_count": 230,
     "metadata": {},
     "output_type": "execute_result"
    }
   ],
   "source": [
    "# iterator : exhausts\n",
    "\n",
    "l = enumerate([1, 2, 3])\n",
    "\n",
    "type(l), '__iter__' in dir(l), '__next__' in dir(l), iter(l) is l"
   ]
  },
  {
   "cell_type": "code",
   "execution_count": 232,
   "id": "cd5cb14e-7a7b-498f-88b9-6fef001bd171",
   "metadata": {},
   "outputs": [
    {
     "data": {
      "text/plain": [
       "(dict_keys, True, False, False)"
      ]
     },
     "execution_count": 232,
     "metadata": {},
     "output_type": "execute_result"
    }
   ],
   "source": [
    "# iteratrable : doesnt exhaust\n",
    "\n",
    "l = {'a':2, 'b':3}.keys()\n",
    "\n",
    "type(l), '__iter__' in dir(l), '__next__' in dir(l), iter(l) is l"
   ]
  },
  {
   "cell_type": "markdown",
   "id": "94c20f32-05aa-4427-949e-c8acde41b40b",
   "metadata": {},
   "source": [
    "# iterator over callables"
   ]
  },
  {
   "cell_type": "code",
   "execution_count": 233,
   "id": "5f850320-1629-4dc6-a3c7-9e4eb9f4f95c",
   "metadata": {},
   "outputs": [],
   "source": [
    "def counter():\n",
    "    count = 0\n",
    "    def inner():\n",
    "        nonlocal count\n",
    "        count += 1\n",
    "        return count\n",
    "    return inner\n",
    "\n",
    "cnt = counter()"
   ]
  },
  {
   "cell_type": "code",
   "execution_count": 234,
   "id": "526e1f04-2f40-4fa2-a5f8-a60ee3446575",
   "metadata": {},
   "outputs": [
    {
     "data": {
      "text/plain": [
       "1"
      ]
     },
     "execution_count": 234,
     "metadata": {},
     "output_type": "execute_result"
    }
   ],
   "source": [
    "cnt()"
   ]
  },
  {
   "cell_type": "code",
   "execution_count": 235,
   "id": "af93e53d-0319-4df2-aaca-d04de2339f74",
   "metadata": {},
   "outputs": [
    {
     "data": {
      "text/plain": [
       "2"
      ]
     },
     "execution_count": 235,
     "metadata": {},
     "output_type": "execute_result"
    }
   ],
   "source": [
    "cnt()"
   ]
  },
  {
   "cell_type": "code",
   "execution_count": 238,
   "id": "c76135a3-2ec8-46dc-84b9-04852c97c33b",
   "metadata": {},
   "outputs": [
    {
     "name": "stdout",
     "output_type": "stream",
     "text": [
      "8\n",
      "9\n",
      "10\n",
      "11\n",
      "12\n"
     ]
    }
   ],
   "source": [
    "for _ in range(5):\n",
    "    print(cnt())"
   ]
  },
  {
   "cell_type": "markdown",
   "id": "150d99ec-b584-4ca8-8151-cea85468a3e2",
   "metadata": {},
   "source": [
    "# how to write an iterable on it such that we dont have to create an object everytime"
   ]
  },
  {
   "cell_type": "code",
   "execution_count": 244,
   "id": "0f771fcf-4f72-405e-a6b1-fa417ea25d2b",
   "metadata": {},
   "outputs": [],
   "source": [
    "class CounterIterator:\n",
    "    def __init__(self, callabe_obj):\n",
    "        self._callable = callabe_obj\n",
    "        \n",
    "    def __iter__(self):\n",
    "        return self\n",
    "\n",
    "    def __next__(self):\n",
    "        return self._callable()"
   ]
  },
  {
   "cell_type": "code",
   "execution_count": 245,
   "id": "7222d4e9-bcb5-43de-a5c4-6b4f7a959862",
   "metadata": {},
   "outputs": [
    {
     "name": "stdout",
     "output_type": "stream",
     "text": [
      "1\n",
      "2\n",
      "3\n",
      "4\n",
      "5\n"
     ]
    }
   ],
   "source": [
    "def counter():\n",
    "    count = 0\n",
    "    def inner():\n",
    "        nonlocal count\n",
    "        count += 1\n",
    "        return count\n",
    "    return inner\n",
    "\n",
    "cnt = counter()\n",
    "\n",
    "cnt_iter = CounterIterator(cnt)\n",
    "\n",
    "for _ in range(5):\n",
    "    print(next(cnt_iter))"
   ]
  },
  {
   "cell_type": "markdown",
   "id": "7c28b2e4-d8a9-4c1d-9e21-e7d9aa67425d",
   "metadata": {},
   "source": [
    "### just an experiment to see if we can write entire thing as a class - without having to intantiating iterator everytime"
   ]
  },
  {
   "cell_type": "code",
   "execution_count": 253,
   "id": "b818057a-6a0a-4f7c-821b-915c42f4281b",
   "metadata": {},
   "outputs": [
    {
     "name": "stdout",
     "output_type": "stream",
     "text": [
      "1 1\n",
      "2 2\n",
      "3 3\n",
      "4 4\n"
     ]
    }
   ],
   "source": [
    "class Counter:\n",
    "    def __init__(self):\n",
    "        # self._count = 0\n",
    "        pass\n",
    "\n",
    "    def __iter__(self):\n",
    "        return self.iterCounter(self)\n",
    "\n",
    "    class iterCounter:\n",
    "        def __init__(self, counter_obj):\n",
    "            self._counter = counter_obj\n",
    "            self._count = 0\n",
    "\n",
    "        def __iter__(self):\n",
    "            return self\n",
    "\n",
    "        def __next__(self):\n",
    "            self._count += 1\n",
    "            return self._count\n",
    "            \n",
    "        \n",
    "\n",
    "cnt = Counter()\n",
    "i = 0\n",
    "for x in cnt:\n",
    "    i += 1\n",
    "    if i < 5:\n",
    "        print(i, x)\n",
    "    else:\n",
    "        break"
   ]
  },
  {
   "cell_type": "code",
   "execution_count": 255,
   "id": "66bbdc31-7ce7-4371-9753-058e09a0d5fb",
   "metadata": {},
   "outputs": [
    {
     "data": {
      "text/plain": [
       "[1, 2, 3, 4, 5, 6]"
      ]
     },
     "execution_count": 255,
     "metadata": {},
     "output_type": "execute_result"
    }
   ],
   "source": [
    "[x for x, y in zip(cnt, [1,2,3,4,5,6])]"
   ]
  },
  {
   "cell_type": "markdown",
   "id": "74e8bf85-31a7-4ce8-864e-b4ded21c4591",
   "metadata": {},
   "source": [
    "# sentinel value to have finite iterables over a callable"
   ]
  },
  {
   "cell_type": "code",
   "execution_count": 14,
   "id": "768ec0d4-67ab-412a-a8d5-2a8de2ed7ee1",
   "metadata": {
    "scrolled": true
   },
   "outputs": [
    {
     "name": "stdout",
     "output_type": "stream",
     "text": [
      "1\n",
      "2\n",
      "3\n",
      "4\n"
     ]
    }
   ],
   "source": [
    "def counter():\n",
    "    count = 0\n",
    "    def inner():\n",
    "        nonlocal count\n",
    "        count += 1\n",
    "        return count\n",
    "    return inner\n",
    "\n",
    "\n",
    "# write our own iterator over exiting callables\n",
    "class CounterIterator:\n",
    "    def __init__(self, callabe_obj, sentinel):\n",
    "        self._callable = callabe_obj\n",
    "        self._sentinel = sentinel\n",
    "        \n",
    "    def __iter__(self):\n",
    "        return self\n",
    "\n",
    "    def __next__(self):\n",
    "        result = self._callable()\n",
    "        \n",
    "        if result == self._sentinel:\n",
    "            raise StopIteration\n",
    "            \n",
    "        return result\n",
    "\n",
    "        \n",
    "cnt = counter()\n",
    "\n",
    "cnt_iter = CounterIterator(cnt, 5)\n",
    "\n",
    "for c in cnt_iter:\n",
    "    print(c)"
   ]
  },
  {
   "cell_type": "code",
   "execution_count": 9,
   "id": "3f75924b-ceb7-44cb-b31e-67f2aa5de7cb",
   "metadata": {},
   "outputs": [
    {
     "data": {
      "text/plain": [
       "6"
      ]
     },
     "execution_count": 9,
     "metadata": {},
     "output_type": "execute_result"
    }
   ],
   "source": [
    "next(cnt_iter)"
   ]
  },
  {
   "cell_type": "markdown",
   "id": "80fcbb9d-e342-4976-96d6-313c4621231e",
   "metadata": {},
   "source": [
    "# what has happened here ! \n",
    "### well we raises `StopIteration` error, but nothing stops us from calling the iterator again and this time result has moved outside sentinel value. \n",
    "#### if we do result >= self._sentinel - it wont be pythonic "
   ]
  },
  {
   "cell_type": "code",
   "execution_count": 12,
   "id": "f9acebd4-4c6d-4611-ac0a-62a110cb6a1a",
   "metadata": {},
   "outputs": [
    {
     "name": "stdout",
     "output_type": "stream",
     "text": [
      "1\n",
      "2\n",
      "3\n",
      "4\n"
     ]
    }
   ],
   "source": [
    "def counter():\n",
    "    count = 0\n",
    "    def inner():\n",
    "        nonlocal count\n",
    "        count += 1\n",
    "        return count\n",
    "    return inner\n",
    "\n",
    "\n",
    "# write our own iterator over exiting objects\n",
    "class CounterIterator:\n",
    "    def __init__(self, callabe_obj, sentinel):\n",
    "        self._callable = callabe_obj\n",
    "        self._sentinel = sentinel\n",
    "        self._done = False\n",
    "        \n",
    "    def __iter__(self):\n",
    "        return self\n",
    "\n",
    "    def __next__(self):\n",
    "        if self._done:\n",
    "            raise StopIteration\n",
    "        \n",
    "        result = self._callable()\n",
    "        \n",
    "        if result == self._sentinel:\n",
    "            self._done = True\n",
    "            raise StopIteration\n",
    "        return result\n",
    "\n",
    "        \n",
    "cnt = counter()\n",
    "\n",
    "cnt_iter = CounterIterator(cnt, 5)\n",
    "\n",
    "for c in cnt_iter:\n",
    "    print(c)"
   ]
  },
  {
   "cell_type": "code",
   "execution_count": 13,
   "id": "a2b03370-90e7-4768-b698-5ec172596711",
   "metadata": {},
   "outputs": [
    {
     "ename": "StopIteration",
     "evalue": "",
     "output_type": "error",
     "traceback": [
      "\u001b[31m---------------------------------------------------------------------------\u001b[39m",
      "\u001b[31mStopIteration\u001b[39m                             Traceback (most recent call last)",
      "\u001b[36mCell\u001b[39m\u001b[36m \u001b[39m\u001b[32mIn[13]\u001b[39m\u001b[32m, line 1\u001b[39m\n\u001b[32m----> \u001b[39m\u001b[32m1\u001b[39m \u001b[38;5;28;43mnext\u001b[39;49m\u001b[43m(\u001b[49m\u001b[43mcnt_iter\u001b[49m\u001b[43m)\u001b[49m\n",
      "\u001b[36mCell\u001b[39m\u001b[36m \u001b[39m\u001b[32mIn[12]\u001b[39m\u001b[32m, line 22\u001b[39m, in \u001b[36mCounterIterator.__next__\u001b[39m\u001b[34m(self)\u001b[39m\n\u001b[32m     20\u001b[39m \u001b[38;5;28;01mdef\u001b[39;00m\u001b[38;5;250m \u001b[39m\u001b[34m__next__\u001b[39m(\u001b[38;5;28mself\u001b[39m):\n\u001b[32m     21\u001b[39m     \u001b[38;5;28;01mif\u001b[39;00m \u001b[38;5;28mself\u001b[39m._done:\n\u001b[32m---> \u001b[39m\u001b[32m22\u001b[39m         \u001b[38;5;28;01mraise\u001b[39;00m \u001b[38;5;167;01mStopIteration\u001b[39;00m\n\u001b[32m     24\u001b[39m     result = \u001b[38;5;28mself\u001b[39m._callable()\n\u001b[32m     26\u001b[39m     \u001b[38;5;28;01mif\u001b[39;00m result == \u001b[38;5;28mself\u001b[39m._sentinel:\n",
      "\u001b[31mStopIteration\u001b[39m: "
     ]
    }
   ],
   "source": [
    "next(cnt_iter)"
   ]
  },
  {
   "cell_type": "markdown",
   "id": "39ed817a-5ba1-4f46-80a7-e0352d724b34",
   "metadata": {},
   "source": [
    "# now with our own callable"
   ]
  },
  {
   "cell_type": "code",
   "execution_count": 6,
   "id": "cdba5c88-f77c-4abd-a397-d3d9283eed33",
   "metadata": {},
   "outputs": [
    {
     "data": {
      "text/plain": [
       "[1, 2, 3, 4]"
      ]
     },
     "execution_count": 6,
     "metadata": {},
     "output_type": "execute_result"
    }
   ],
   "source": [
    "# create our own objects with iterable and iterator\n",
    "class Counter:\n",
    "    def __init__(self, sentinel):\n",
    "        self._sentinel = sentinel\n",
    "\n",
    "    def __iter__(self):\n",
    "        return self.iterCounter(self)\n",
    "\n",
    "    class iterCounter:\n",
    "        def __init__(self, counter_obj):\n",
    "            self._counter = counter_obj\n",
    "            self._count = 0\n",
    "\n",
    "        def __iter__(self):\n",
    "            return self\n",
    "\n",
    "        def __next__(self):\n",
    "            self._count += 1\n",
    "            result = self._count\n",
    "            \n",
    "            if result == self._counter._sentinel:\n",
    "                raise StopIteration\n",
    "            \n",
    "            return result\n",
    "\n",
    "cnt = Counter(5)\n",
    "[x for x in cnt]"
   ]
  },
  {
   "cell_type": "code",
   "execution_count": 4,
   "id": "e8e7037e-dba1-4be4-b069-c1ea54aeb380",
   "metadata": {},
   "outputs": [
    {
     "data": {
      "text/plain": [
       "[1, 2, 3, 4]"
      ]
     },
     "execution_count": 4,
     "metadata": {},
     "output_type": "execute_result"
    }
   ],
   "source": [
    "list(cnt)"
   ]
  },
  {
   "cell_type": "code",
   "execution_count": 7,
   "id": "a6d58aab-ef04-4146-b6aa-fe47aae5d4b8",
   "metadata": {},
   "outputs": [
    {
     "ename": "TypeError",
     "evalue": "'Counter' object is not an iterator",
     "output_type": "error",
     "traceback": [
      "\u001b[31m---------------------------------------------------------------------------\u001b[39m",
      "\u001b[31mTypeError\u001b[39m                                 Traceback (most recent call last)",
      "\u001b[36mCell\u001b[39m\u001b[36m \u001b[39m\u001b[32mIn[7]\u001b[39m\u001b[32m, line 1\u001b[39m\n\u001b[32m----> \u001b[39m\u001b[32m1\u001b[39m \u001b[38;5;28;43mnext\u001b[39;49m\u001b[43m(\u001b[49m\u001b[43mcnt\u001b[49m\u001b[43m)\u001b[49m\n",
      "\u001b[31mTypeError\u001b[39m: 'Counter' object is not an iterator"
     ]
    }
   ],
   "source": [
    "next(cnt)"
   ]
  },
  {
   "cell_type": "markdown",
   "id": "24454e10-3752-46d3-9948-d19bf4524fd4",
   "metadata": {},
   "source": [
    "# this is what python exactly does"
   ]
  },
  {
   "cell_type": "code",
   "execution_count": 15,
   "id": "b2264b07-af72-49db-9771-e451411a8937",
   "metadata": {},
   "outputs": [
    {
     "name": "stdout",
     "output_type": "stream",
     "text": [
      "Help on built-in function iter in module builtins:\n",
      "\n",
      "iter(...)\n",
      "    iter(iterable) -> iterator\n",
      "    iter(callable, sentinel) -> iterator\n",
      "\n",
      "    Get an iterator from an object.  In the first form, the argument must\n",
      "    supply its own iterator, or be a sequence.\n",
      "    In the second form, the callable is called until it returns the sentinel.\n",
      "\n"
     ]
    }
   ],
   "source": [
    "help(iter)"
   ]
  },
  {
   "cell_type": "markdown",
   "id": "63571763-e168-43e1-a116-4532eac6baee",
   "metadata": {},
   "source": [
    "## lets use pythons built-in iterator"
   ]
  },
  {
   "cell_type": "code",
   "execution_count": 16,
   "id": "a69f7eb6-67c1-4667-81b3-3e5461e57b4d",
   "metadata": {},
   "outputs": [
    {
     "name": "stdout",
     "output_type": "stream",
     "text": [
      "1\n",
      "2\n",
      "3\n",
      "4\n",
      "5\n",
      "6\n"
     ]
    }
   ],
   "source": [
    "def my_counter():\n",
    "    count = 0\n",
    "    def inner():\n",
    "        nonlocal count\n",
    "        count += 1\n",
    "        return count\n",
    "    return inner\n",
    "\n",
    "cnt = my_counter()\n",
    "cnt_iter = iter(cnt, 7)\n",
    "\n",
    "for x in cnt_iter:\n",
    "    print(x)"
   ]
  },
  {
   "cell_type": "code",
   "execution_count": 17,
   "id": "f8183476-d689-4fd3-94e3-336b50960559",
   "metadata": {},
   "outputs": [
    {
     "ename": "StopIteration",
     "evalue": "",
     "output_type": "error",
     "traceback": [
      "\u001b[31m---------------------------------------------------------------------------\u001b[39m",
      "\u001b[31mStopIteration\u001b[39m                             Traceback (most recent call last)",
      "\u001b[36mCell\u001b[39m\u001b[36m \u001b[39m\u001b[32mIn[17]\u001b[39m\u001b[32m, line 1\u001b[39m\n\u001b[32m----> \u001b[39m\u001b[32m1\u001b[39m \u001b[38;5;28;43mnext\u001b[39;49m\u001b[43m(\u001b[49m\u001b[43mcnt_iter\u001b[49m\u001b[43m)\u001b[49m\n",
      "\u001b[31mStopIteration\u001b[39m: "
     ]
    }
   ],
   "source": [
    "next(cnt_iter)"
   ]
  },
  {
   "cell_type": "markdown",
   "id": "fbd105dc-dbfa-4f3d-a973-0f64860b8a54",
   "metadata": {},
   "source": [
    "### lets say we want to generate random numbers until we hit a number 8 "
   ]
  },
  {
   "cell_type": "code",
   "execution_count": 18,
   "id": "9d23bf97-44f5-4243-b619-246026f49390",
   "metadata": {},
   "outputs": [],
   "source": [
    "import random"
   ]
  },
  {
   "cell_type": "code",
   "execution_count": 19,
   "id": "f9fa4ef8-c093-43b3-96be-f8884d37aae5",
   "metadata": {},
   "outputs": [
    {
     "name": "stdout",
     "output_type": "stream",
     "text": [
      "6\n",
      "6\n",
      "0\n",
      "4\n",
      "8\n",
      "7\n",
      "6\n",
      "4\n",
      "7\n",
      "5\n"
     ]
    }
   ],
   "source": [
    "random.seed(0)\n",
    "\n",
    "for i in range(10):\n",
    "    print(random.randint(0, 10))"
   ]
  },
  {
   "cell_type": "code",
   "execution_count": 20,
   "id": "503b02d5-3d1b-4d5e-9772-071569dc0642",
   "metadata": {},
   "outputs": [
    {
     "ename": "TypeError",
     "evalue": "iter(v, w): v must be callable",
     "output_type": "error",
     "traceback": [
      "\u001b[31m---------------------------------------------------------------------------\u001b[39m",
      "\u001b[31mTypeError\u001b[39m                                 Traceback (most recent call last)",
      "\u001b[36mCell\u001b[39m\u001b[36m \u001b[39m\u001b[32mIn[20]\u001b[39m\u001b[32m, line 1\u001b[39m\n\u001b[32m----> \u001b[39m\u001b[32m1\u001b[39m rnd = \u001b[38;5;28;43miter\u001b[39;49m\u001b[43m(\u001b[49m\u001b[43mrandom\u001b[49m\u001b[43m.\u001b[49m\u001b[43mrandint\u001b[49m\u001b[43m(\u001b[49m\u001b[32;43m0\u001b[39;49m\u001b[43m,\u001b[49m\u001b[43m \u001b[49m\u001b[32;43m10\u001b[39;49m\u001b[43m)\u001b[49m\u001b[43m,\u001b[49m\u001b[43m \u001b[49m\u001b[32;43m8\u001b[39;49m\u001b[43m)\u001b[49m\n",
      "\u001b[31mTypeError\u001b[39m: iter(v, w): v must be callable"
     ]
    }
   ],
   "source": [
    "rnd = iter(random.randint(0, 10), 8)"
   ]
  },
  {
   "cell_type": "markdown",
   "id": "74262602-f1b0-47ba-a368-d0db1a6d076e",
   "metadata": {},
   "source": [
    "### Here’s what happens:\n",
    "\n",
    "1. random.randint(0, 10) is called immediately (not passed as a callable).\n",
    "2. That produces a single integer, say 7.\n",
    "3. So effectively you’re doing: `rnd = iter(7, 8)`\n",
    "4. and `7` is not callable"
   ]
  },
  {
   "cell_type": "code",
   "execution_count": 24,
   "id": "67ef50e5-ae57-40a9-832d-04ab6aa2b0b4",
   "metadata": {},
   "outputs": [],
   "source": [
    "rnd = iter(lambda: random.randint(0, 10), 8)"
   ]
  },
  {
   "cell_type": "markdown",
   "id": "60319568-e3fe-4a86-a373-7bd7b61f2bcf",
   "metadata": {},
   "source": [
    "#### since we have set the seed same as above - we would get same set of random numbers but now we have set 8 as sentinel value"
   ]
  },
  {
   "cell_type": "code",
   "execution_count": 25,
   "id": "cf0c3973-c348-442f-bc82-d17ad47d8748",
   "metadata": {},
   "outputs": [
    {
     "name": "stdout",
     "output_type": "stream",
     "text": [
      "6\n",
      "6\n",
      "0\n",
      "4\n"
     ]
    }
   ],
   "source": [
    "random.seed(0)\n",
    "for x in rnd:\n",
    "    print(x)"
   ]
  },
  {
   "cell_type": "markdown",
   "id": "1c23d6c6-b539-405d-bcfd-92ed5078e9f2",
   "metadata": {},
   "source": [
    "# delegating iterators"
   ]
  },
  {
   "cell_type": "code",
   "execution_count": 26,
   "id": "b83a9125-4a39-4d1d-a47f-bafcba81daf0",
   "metadata": {},
   "outputs": [],
   "source": [
    "import collections"
   ]
  },
  {
   "cell_type": "code",
   "execution_count": 27,
   "id": "b1ae1806-f86f-4290-b89f-37694ae4e423",
   "metadata": {},
   "outputs": [],
   "source": [
    "Person = collections.namedtuple('Person', ['first', 'last'])"
   ]
  },
  {
   "cell_type": "code",
   "execution_count": 33,
   "id": "8ae1ea54-aeb2-4d13-a803-fbfd5b5ae64f",
   "metadata": {},
   "outputs": [],
   "source": [
    "class PersonNames:\n",
    "    def __init__(self, persons_list):\n",
    "        self._persons = [x.first + \" \" + x.last for x in persons_list]"
   ]
  },
  {
   "cell_type": "code",
   "execution_count": 34,
   "id": "11e46583-2599-45fc-a50f-4d93e1695abd",
   "metadata": {},
   "outputs": [],
   "source": [
    "l = [ Person('John', 'Cena'),\n",
    "      Person('Hulk', 'Hogan'),\n",
    "      Person('Fred', 'Baptiste')\n",
    "]\n",
    "\n",
    "person_names = PersonNames(l)"
   ]
  },
  {
   "cell_type": "code",
   "execution_count": 35,
   "id": "b736b6bc-23f2-4066-8169-03b2fa62c5b9",
   "metadata": {},
   "outputs": [
    {
     "data": {
      "text/plain": [
       "['John Cena', 'Hulk Hogan', 'Fred Baptiste']"
      ]
     },
     "execution_count": 35,
     "metadata": {},
     "output_type": "execute_result"
    }
   ],
   "source": [
    "person_names._persons"
   ]
  },
  {
   "cell_type": "code",
   "execution_count": 45,
   "id": "57a957a4-89cd-47ba-91fa-2cbf95d45c31",
   "metadata": {},
   "outputs": [],
   "source": [
    "class PersonNames:\n",
    "    def __init__(self, persons_list):\n",
    "        self._persons = [x.first + \" \" + x.last for x in persons_list]\n",
    "\n",
    "    def __iter__(self):\n",
    "        return self.PersonIterator(self)\n",
    "\n",
    "    class PersonIterator:\n",
    "        def __init__(self, PersonNames_obj):\n",
    "            self._obj = PersonNames_obj\n",
    "            self._counter = 0\n",
    "\n",
    "        def __iter__(self):\n",
    "            return self\n",
    "\n",
    "        def __next__(self):\n",
    "            if self._counter >= len(self._obj):\n",
    "                raise StopIteration\n",
    "            else:\n",
    "                result = self._obj[self._counter]\n",
    "                self._counter += 1\n",
    "                return result\n",
    "\n"
   ]
  },
  {
   "cell_type": "code",
   "execution_count": 46,
   "id": "c46fd72b-e3ba-4271-9232-489d25d97944",
   "metadata": {},
   "outputs": [],
   "source": [
    "l = [ Person('John', 'Cena'),\n",
    "      Person('Hulk', 'Hogan'),\n",
    "      Person('Fred', 'Baptiste')\n",
    "]\n",
    "\n",
    "person_names = PersonNames(l)"
   ]
  },
  {
   "cell_type": "code",
   "execution_count": 47,
   "id": "afe718b2-de13-4469-b181-0dce39cb7926",
   "metadata": {},
   "outputs": [
    {
     "ename": "TypeError",
     "evalue": "object of type 'PersonNames' has no len()",
     "output_type": "error",
     "traceback": [
      "\u001b[31m---------------------------------------------------------------------------\u001b[39m",
      "\u001b[31mTypeError\u001b[39m                                 Traceback (most recent call last)",
      "\u001b[36mCell\u001b[39m\u001b[36m \u001b[39m\u001b[32mIn[47]\u001b[39m\u001b[32m, line 1\u001b[39m\n\u001b[32m----> \u001b[39m\u001b[32m1\u001b[39m \u001b[38;5;28;43;01mfor\u001b[39;49;00m\u001b[43m \u001b[49m\u001b[43mperson\u001b[49m\u001b[43m \u001b[49m\u001b[38;5;129;43;01min\u001b[39;49;00m\u001b[43m \u001b[49m\u001b[43mperson_names\u001b[49m\u001b[43m:\u001b[49m\n\u001b[32m      2\u001b[39m \u001b[43m    \u001b[49m\u001b[38;5;28;43mprint\u001b[39;49m\u001b[43m(\u001b[49m\u001b[43mperson\u001b[49m\u001b[43m)\u001b[49m\n",
      "\u001b[36mCell\u001b[39m\u001b[36m \u001b[39m\u001b[32mIn[45]\u001b[39m\u001b[32m, line 17\u001b[39m, in \u001b[36mPersonNames.PersonIterator.__next__\u001b[39m\u001b[34m(self)\u001b[39m\n\u001b[32m     16\u001b[39m \u001b[38;5;28;01mdef\u001b[39;00m\u001b[38;5;250m \u001b[39m\u001b[34m__next__\u001b[39m(\u001b[38;5;28mself\u001b[39m):\n\u001b[32m---> \u001b[39m\u001b[32m17\u001b[39m     \u001b[38;5;28;01mif\u001b[39;00m \u001b[38;5;28mself\u001b[39m._counter >= \u001b[38;5;28;43mlen\u001b[39;49m\u001b[43m(\u001b[49m\u001b[38;5;28;43mself\u001b[39;49m\u001b[43m.\u001b[49m\u001b[43m_obj\u001b[49m\u001b[43m)\u001b[49m:\n\u001b[32m     18\u001b[39m         \u001b[38;5;28;01mraise\u001b[39;00m \u001b[38;5;167;01mStopIteration\u001b[39;00m\n\u001b[32m     19\u001b[39m     \u001b[38;5;28;01melse\u001b[39;00m:\n",
      "\u001b[31mTypeError\u001b[39m: object of type 'PersonNames' has no len()"
     ]
    }
   ],
   "source": [
    "for person in person_names:\n",
    "    print(person)"
   ]
  },
  {
   "cell_type": "markdown",
   "id": "9d271312-90fa-46cd-8d05-81827faf4043",
   "metadata": {},
   "source": [
    "# lets add that"
   ]
  },
  {
   "cell_type": "code",
   "execution_count": 49,
   "id": "08d7eaa4-7c06-4f7e-b6c5-935795351b3c",
   "metadata": {},
   "outputs": [
    {
     "ename": "TypeError",
     "evalue": "'PersonNames' object is not subscriptable",
     "output_type": "error",
     "traceback": [
      "\u001b[31m---------------------------------------------------------------------------\u001b[39m",
      "\u001b[31mTypeError\u001b[39m                                 Traceback (most recent call last)",
      "\u001b[36mCell\u001b[39m\u001b[36m \u001b[39m\u001b[32mIn[49]\u001b[39m\u001b[32m, line 35\u001b[39m\n\u001b[32m     28\u001b[39m l = [ Person(\u001b[33m'\u001b[39m\u001b[33mJohn\u001b[39m\u001b[33m'\u001b[39m, \u001b[33m'\u001b[39m\u001b[33mCena\u001b[39m\u001b[33m'\u001b[39m),\n\u001b[32m     29\u001b[39m       Person(\u001b[33m'\u001b[39m\u001b[33mHulk\u001b[39m\u001b[33m'\u001b[39m, \u001b[33m'\u001b[39m\u001b[33mHogan\u001b[39m\u001b[33m'\u001b[39m),\n\u001b[32m     30\u001b[39m       Person(\u001b[33m'\u001b[39m\u001b[33mFred\u001b[39m\u001b[33m'\u001b[39m, \u001b[33m'\u001b[39m\u001b[33mBaptiste\u001b[39m\u001b[33m'\u001b[39m)\n\u001b[32m     31\u001b[39m ]\n\u001b[32m     33\u001b[39m person_names = PersonNames(l)\n\u001b[32m---> \u001b[39m\u001b[32m35\u001b[39m \u001b[38;5;28;43;01mfor\u001b[39;49;00m\u001b[43m \u001b[49m\u001b[43mperson\u001b[49m\u001b[43m \u001b[49m\u001b[38;5;129;43;01min\u001b[39;49;00m\u001b[43m \u001b[49m\u001b[43mperson_names\u001b[49m\u001b[43m:\u001b[49m\n\u001b[32m     36\u001b[39m \u001b[43m    \u001b[49m\u001b[38;5;28;43mprint\u001b[39;49m\u001b[43m(\u001b[49m\u001b[43mperson\u001b[49m\u001b[43m)\u001b[49m\n",
      "\u001b[36mCell\u001b[39m\u001b[36m \u001b[39m\u001b[32mIn[49]\u001b[39m\u001b[32m, line 23\u001b[39m, in \u001b[36mPersonNames.PersonIterator.__next__\u001b[39m\u001b[34m(self)\u001b[39m\n\u001b[32m     21\u001b[39m     \u001b[38;5;28;01mraise\u001b[39;00m \u001b[38;5;167;01mStopIteration\u001b[39;00m\n\u001b[32m     22\u001b[39m \u001b[38;5;28;01melse\u001b[39;00m:\n\u001b[32m---> \u001b[39m\u001b[32m23\u001b[39m     result = \u001b[38;5;28;43mself\u001b[39;49m\u001b[43m.\u001b[49m\u001b[43m_obj\u001b[49m\u001b[43m[\u001b[49m\u001b[38;5;28;43mself\u001b[39;49m\u001b[43m.\u001b[49m\u001b[43m_counter\u001b[49m\u001b[43m]\u001b[49m\n\u001b[32m     24\u001b[39m     \u001b[38;5;28mself\u001b[39m._counter += \u001b[32m1\u001b[39m\n\u001b[32m     25\u001b[39m     \u001b[38;5;28;01mreturn\u001b[39;00m result\n",
      "\u001b[31mTypeError\u001b[39m: 'PersonNames' object is not subscriptable"
     ]
    }
   ],
   "source": [
    "class PersonNames:\n",
    "    def __init__(self, persons_list):\n",
    "        self._persons = [x.first + \" \" + x.last for x in persons_list]\n",
    "\n",
    "    def __len__(self):\n",
    "        return len(self._persons)\n",
    "    \n",
    "    def __iter__(self):\n",
    "        return self.PersonIterator(self)\n",
    "\n",
    "    class PersonIterator:\n",
    "        def __init__(self, PersonNames_obj):\n",
    "            self._obj = PersonNames_obj\n",
    "            self._counter = 0\n",
    "\n",
    "        def __iter__(self):\n",
    "            return self\n",
    "\n",
    "        def __next__(self):\n",
    "            if self._counter >= len(self._obj):\n",
    "                raise StopIteration\n",
    "            else:\n",
    "                result = self._obj[self._counter]\n",
    "                self._counter += 1\n",
    "                return result\n",
    "\n",
    "\n",
    "l = [ Person('John', 'Cena'),\n",
    "      Person('Hulk', 'Hogan'),\n",
    "      Person('Fred', 'Baptiste')\n",
    "]\n",
    "\n",
    "person_names = PersonNames(l)\n",
    "\n",
    "for person in person_names:\n",
    "    print(person)"
   ]
  },
  {
   "cell_type": "markdown",
   "id": "c8f02e96-339a-4259-8a33-d5dee910c0c3",
   "metadata": {},
   "source": [
    "# lets implement a `__getitem__` method"
   ]
  },
  {
   "cell_type": "code",
   "execution_count": 50,
   "id": "3a170319-e57e-4774-b839-defc949b6175",
   "metadata": {},
   "outputs": [
    {
     "name": "stdout",
     "output_type": "stream",
     "text": [
      "John Cena\n",
      "Hulk Hogan\n",
      "Fred Baptiste\n"
     ]
    }
   ],
   "source": [
    "class PersonNames:\n",
    "    def __init__(self, persons_list):\n",
    "        self._persons = [x.first + \" \" + x.last for x in persons_list]\n",
    "\n",
    "    def __len__(self):\n",
    "        return len(self._persons)\n",
    "\n",
    "    def __getitem__(self, s):\n",
    "        return self._persons[s]\n",
    "    \n",
    "    def __iter__(self):\n",
    "        return self.PersonIterator(self)\n",
    "\n",
    "    class PersonIterator:\n",
    "        def __init__(self, PersonNames_obj):\n",
    "            self._obj = PersonNames_obj\n",
    "            self._counter = 0\n",
    "\n",
    "        def __iter__(self):\n",
    "            return self\n",
    "\n",
    "        def __next__(self):\n",
    "            if self._counter >= len(self._obj):\n",
    "                raise StopIteration\n",
    "            else:\n",
    "                result = self._obj[self._counter]\n",
    "                self._counter += 1\n",
    "                return result\n",
    "\n",
    "\n",
    "l = [ Person('John', 'Cena'),\n",
    "      Person('Hulk', 'Hogan'),\n",
    "      Person('Fred', 'Baptiste')\n",
    "]\n",
    "\n",
    "person_names = PersonNames(l)\n",
    "\n",
    "for person in person_names:\n",
    "    print(person)"
   ]
  },
  {
   "cell_type": "code",
   "execution_count": 51,
   "id": "7ea2a8c3-24d7-4961-a89b-188ffb8364f4",
   "metadata": {},
   "outputs": [
    {
     "data": {
      "text/plain": [
       "['John Cena', 'Hulk Hogan', 'Fred Baptiste']"
      ]
     },
     "execution_count": 51,
     "metadata": {},
     "output_type": "execute_result"
    }
   ],
   "source": [
    "list(person_names)"
   ]
  },
  {
   "cell_type": "markdown",
   "id": "7ea01212-c145-4424-b72b-bd7ce946ab23",
   "metadata": {},
   "source": [
    "### lets make it a bit more robust"
   ]
  },
  {
   "cell_type": "code",
   "execution_count": 52,
   "id": "cadf8724-1861-4ba2-8662-c39e7f62b8c5",
   "metadata": {},
   "outputs": [
    {
     "name": "stdout",
     "output_type": "stream",
     "text": [
      "John Cena\n",
      "Hulk Hogan\n",
      "Fred Baptiste\n"
     ]
    }
   ],
   "source": [
    "class PersonNames:\n",
    "    def __init__(self, persons_list):\n",
    "        try:\n",
    "            self._persons = [x.first + \" \" + x.last for x in persons_list]\n",
    "        # if persons_list is not iterable, or if lists element doesnt have .first or .last attributes \n",
    "        except (TypeError, AttributeError):\n",
    "            self._person = []\n",
    "\n",
    "    def __len__(self):\n",
    "        return len(self._persons)\n",
    "\n",
    "    def __getitem__(self, s):\n",
    "        return self._persons[s]\n",
    "    \n",
    "    def __iter__(self):\n",
    "        return self.PersonIterator(self)\n",
    "\n",
    "    class PersonIterator:\n",
    "        def __init__(self, PersonNames_obj):\n",
    "            self._obj = PersonNames_obj\n",
    "            self._counter = 0\n",
    "\n",
    "        def __iter__(self):\n",
    "            return self\n",
    "\n",
    "        def __next__(self):\n",
    "            if self._counter >= len(self._obj):\n",
    "                raise StopIteration\n",
    "            else:\n",
    "                result = self._obj[self._counter]\n",
    "                self._counter += 1\n",
    "                return result\n",
    "\n",
    "\n",
    "l = [ Person('John', 'Cena'),\n",
    "      Person('Hulk', 'Hogan'),\n",
    "      Person('Fred', 'Baptiste')\n",
    "]\n",
    "\n",
    "person_names = PersonNames(l)\n",
    "\n",
    "for person in person_names:\n",
    "    print(person)"
   ]
  },
  {
   "cell_type": "markdown",
   "id": "d6e0eabf-7f2c-4da7-a049-1c4d43ed741d",
   "metadata": {},
   "source": [
    "## we can do better - see this"
   ]
  },
  {
   "cell_type": "code",
   "execution_count": 53,
   "id": "14cdef09-4650-4b9b-8f5f-d7c1afd89d98",
   "metadata": {},
   "outputs": [
    {
     "name": "stdout",
     "output_type": "stream",
     "text": [
      "John Cena\n",
      "Hulk Hogan\n",
      "Fred Baptiste\n"
     ]
    }
   ],
   "source": [
    "class PersonNames:\n",
    "    def __init__(self, persons_list):\n",
    "        try:\n",
    "            self._persons = [x.first + \" \" + x.last for x in persons_list]\n",
    "        # if persons_list is not iterable, or if lists element doesnt have .first or .last attributes \n",
    "        except (TypeError, AttributeError):\n",
    "            self._person = []\n",
    "    \n",
    "    def __iter__(self):\n",
    "        return iter(self._persons)\n",
    "\n",
    "\n",
    "l = [ Person('John', 'Cena'),\n",
    "      Person('Hulk', 'Hogan'),\n",
    "      Person('Fred', 'Baptiste')\n",
    "]\n",
    "\n",
    "person_names = PersonNames(l)\n",
    "\n",
    "for person in person_names:\n",
    "    print(person)"
   ]
  },
  {
   "cell_type": "code",
   "execution_count": 54,
   "id": "b87343d1-a1f2-4293-88e1-241dde12653a",
   "metadata": {},
   "outputs": [
    {
     "data": {
      "text/plain": [
       "['John Cena', 'Hulk Hogan', 'Fred Baptiste']"
      ]
     },
     "execution_count": 54,
     "metadata": {},
     "output_type": "execute_result"
    }
   ],
   "source": [
    "list(person_names)"
   ]
  },
  {
   "cell_type": "code",
   "execution_count": 61,
   "id": "04868139-a1e3-4e8d-8034-2ee53ed7c37c",
   "metadata": {},
   "outputs": [
    {
     "name": "stdout",
     "output_type": "stream",
     "text": [
      "False\n",
      "\n",
      "John Cena\n",
      "Hulk Hogan\n",
      "Fred Baptiste\n"
     ]
    }
   ],
   "source": [
    "person_iterator = iter(person_names)\n",
    "\n",
    "print(person_iterator is person_names, end='\\n\\n')\n",
    "\n",
    "for _ in range(5):\n",
    "    try:\n",
    "        print(next(person_iterator))\n",
    "    except StopIteration:\n",
    "        break"
   ]
  },
  {
   "cell_type": "markdown",
   "id": "e29338df-a5bb-481b-8e76-5a1cd203bf40",
   "metadata": {},
   "source": [
    "# REVERSED ITERATION"
   ]
  },
  {
   "cell_type": "code",
   "execution_count": 64,
   "id": "2d1af170-5972-40d2-b2ff-d7d4285581c7",
   "metadata": {},
   "outputs": [],
   "source": [
    "_SUITS = ('Spades', 'Hearts', 'Diamonds', 'Clubs')\n",
    "_RANKS = tuple(range(2, 11)) + tuple('JQKA')"
   ]
  },
  {
   "cell_type": "code",
   "execution_count": 65,
   "id": "bf1feec5-e265-47b2-b90d-b8625798c1c2",
   "metadata": {},
   "outputs": [],
   "source": [
    "Card = collections.namedtuple('Card', ['rank', 'suit'])"
   ]
  },
  {
   "cell_type": "code",
   "execution_count": 84,
   "id": "920ef9bc-fa37-4764-ba04-d0cccc1498cf",
   "metadata": {},
   "outputs": [],
   "source": [
    "class CardDeck:\n",
    "    def __init__(self):\n",
    "        self.length = len(_SUITS) * len(_RANKS)\n",
    "\n",
    "    def __len__(self):\n",
    "        return self.length\n",
    "\n",
    "    def __iter__(self):\n",
    "        return self.CardDeckIterator(self.length)\n",
    "\n",
    "    class CardDeckIterator:\n",
    "        def __init__(self, length):\n",
    "            self.length = length\n",
    "            self.idx = 0\n",
    "\n",
    "        def __iter__(self):\n",
    "            return self\n",
    "\n",
    "        def __next__(self):\n",
    "            if self.idx == self.length:\n",
    "                raise StopIteration\n",
    "            else:\n",
    "                suit = _SUITS[self.idx // len(_RANKS)]\n",
    "                rank = _RANKS[self.idx % len(_RANKS)]\n",
    "                self.idx += 1\n",
    "                return Card(rank, suit)\n",
    "\n",
    "mydeck = CardDeck()"
   ]
  },
  {
   "cell_type": "code",
   "execution_count": 91,
   "id": "50a6d73e-ec09-4078-bfb2-bfa705d630ef",
   "metadata": {},
   "outputs": [
    {
     "name": "stdout",
     "output_type": "stream",
     "text": [
      "Card(rank=2, suit='Spades')\n",
      "Card(rank=3, suit='Spades')\n",
      "Card(rank=4, suit='Spades')\n",
      "Card(rank=5, suit='Spades')\n",
      "Card(rank=6, suit='Spades')\n",
      "Card(rank=7, suit='Spades')\n",
      "Card(rank=8, suit='Spades')\n",
      "Card(rank=9, suit='Spades')\n",
      "Card(rank=10, suit='Spades')\n",
      "Card(rank='J', suit='Spades')\n",
      "Card(rank='Q', suit='Spades')\n",
      "Card(rank='K', suit='Spades')\n",
      "Card(rank='A', suit='Spades')\n",
      "Card(rank=2, suit='Hearts')\n",
      "Card(rank=3, suit='Hearts')\n",
      "Card(rank=4, suit='Hearts')\n",
      "Card(rank=5, suit='Hearts')\n",
      "Card(rank=6, suit='Hearts')\n",
      "Card(rank=7, suit='Hearts')\n",
      "Card(rank=8, suit='Hearts')\n",
      "Card(rank=9, suit='Hearts')\n",
      "Card(rank=10, suit='Hearts')\n",
      "Card(rank='J', suit='Hearts')\n",
      "Card(rank='Q', suit='Hearts')\n",
      "Card(rank='K', suit='Hearts')\n",
      "Card(rank='A', suit='Hearts')\n",
      "Card(rank=2, suit='Diamonds')\n",
      "Card(rank=3, suit='Diamonds')\n",
      "Card(rank=4, suit='Diamonds')\n",
      "Card(rank=5, suit='Diamonds')\n",
      "Card(rank=6, suit='Diamonds')\n",
      "Card(rank=7, suit='Diamonds')\n",
      "Card(rank=8, suit='Diamonds')\n",
      "Card(rank=9, suit='Diamonds')\n",
      "Card(rank=10, suit='Diamonds')\n",
      "Card(rank='J', suit='Diamonds')\n",
      "Card(rank='Q', suit='Diamonds')\n",
      "Card(rank='K', suit='Diamonds')\n",
      "Card(rank='A', suit='Diamonds')\n",
      "Card(rank=2, suit='Clubs')\n",
      "Card(rank=3, suit='Clubs')\n",
      "Card(rank=4, suit='Clubs')\n",
      "Card(rank=5, suit='Clubs')\n",
      "Card(rank=6, suit='Clubs')\n",
      "Card(rank=7, suit='Clubs')\n",
      "Card(rank=8, suit='Clubs')\n",
      "Card(rank=9, suit='Clubs')\n",
      "Card(rank=10, suit='Clubs')\n",
      "Card(rank='J', suit='Clubs')\n",
      "Card(rank='Q', suit='Clubs')\n",
      "Card(rank='K', suit='Clubs')\n",
      "Card(rank='A', suit='Clubs')\n"
     ]
    }
   ],
   "source": [
    "for card in mydeck:\n",
    "    print(card)"
   ]
  },
  {
   "cell_type": "markdown",
   "id": "0756ec0b-4069-4736-a945-33f1dccdf16b",
   "metadata": {},
   "source": [
    "# if we want last 5 cards - without materializing all the cards"
   ]
  },
  {
   "cell_type": "code",
   "execution_count": 92,
   "id": "bbc57003-921a-4efd-a22c-8c366b556da8",
   "metadata": {},
   "outputs": [
    {
     "data": {
      "text/plain": [
       "<list_reverseiterator at 0x10cc54be0>"
      ]
     },
     "execution_count": 92,
     "metadata": {},
     "output_type": "execute_result"
    }
   ],
   "source": [
    "l = [1, 2, 3, 4]\n",
    "reversed(l)"
   ]
  },
  {
   "cell_type": "code",
   "execution_count": 93,
   "id": "609bd98b-e7d8-4fb1-a817-c7756a485a83",
   "metadata": {},
   "outputs": [
    {
     "data": {
      "text/plain": [
       "[4, 3, 2, 1]"
      ]
     },
     "execution_count": 93,
     "metadata": {},
     "output_type": "execute_result"
    }
   ],
   "source": [
    "list(reversed(l))"
   ]
  },
  {
   "cell_type": "code",
   "execution_count": 94,
   "id": "0f2ad2b2-d729-4282-b8c4-25c058e82cc4",
   "metadata": {},
   "outputs": [
    {
     "ename": "TypeError",
     "evalue": "'CardDeck' object is not reversible",
     "output_type": "error",
     "traceback": [
      "\u001b[31m---------------------------------------------------------------------------\u001b[39m",
      "\u001b[31mTypeError\u001b[39m                                 Traceback (most recent call last)",
      "\u001b[36mCell\u001b[39m\u001b[36m \u001b[39m\u001b[32mIn[94]\u001b[39m\u001b[32m, line 1\u001b[39m\n\u001b[32m----> \u001b[39m\u001b[32m1\u001b[39m reversed_deck = \u001b[38;5;28;43mreversed\u001b[39;49m\u001b[43m(\u001b[49m\u001b[43mmydeck\u001b[49m\u001b[43m)\u001b[49m\n",
      "\u001b[31mTypeError\u001b[39m: 'CardDeck' object is not reversible"
     ]
    }
   ],
   "source": [
    "reversed_deck = reversed(mydeck)"
   ]
  },
  {
   "cell_type": "markdown",
   "id": "a2ae72dc-bc49-4b16-bfcf-fda8a5469078",
   "metadata": {},
   "source": [
    "# lets implement `__reversed__` to make it reversible"
   ]
  },
  {
   "cell_type": "code",
   "execution_count": 95,
   "id": "5a28ce36-f7d2-4a47-b48b-ebcd2c4c32d0",
   "metadata": {},
   "outputs": [
    {
     "name": "stdout",
     "output_type": "stream",
     "text": [
      "Card(rank=2, suit='Spades')\n",
      "Card(rank=3, suit='Spades')\n",
      "Card(rank=4, suit='Spades')\n",
      "Card(rank=5, suit='Spades')\n",
      "Card(rank=6, suit='Spades')\n",
      "Card(rank=7, suit='Spades')\n",
      "Card(rank=8, suit='Spades')\n",
      "Card(rank=9, suit='Spades')\n"
     ]
    }
   ],
   "source": [
    "class CardDeck:\n",
    "    def __init__(self):\n",
    "        self.length = len(_SUITS) * len(_RANKS)\n",
    "\n",
    "    def __len__(self):\n",
    "        return self.length\n",
    "\n",
    "    def __iter__(self):\n",
    "        return self.CardDeckIterator(self.length)\n",
    "\n",
    "    def __reversed__(self):\n",
    "        return self.CardDeckIterator(self.length)\n",
    "\n",
    "    class CardDeckIterator:\n",
    "        def __init__(self, length):\n",
    "            self.length = length\n",
    "            self.idx = 0\n",
    "\n",
    "        def __iter__(self):\n",
    "            return self\n",
    "\n",
    "        def __next__(self):\n",
    "            if self.idx == self.length:\n",
    "                raise StopIteration\n",
    "            else:\n",
    "                suit = _SUITS[self.idx // len(_RANKS)]\n",
    "                rank = _RANKS[self.idx % len(_RANKS)]\n",
    "                self.idx += 1\n",
    "                return Card(rank, suit)\n",
    "\n",
    "mydeck = CardDeck()\n",
    "for card in reversed(mydeck):\n",
    "    if card.rank == 10:\n",
    "        break\n",
    "    print(card)"
   ]
  },
  {
   "cell_type": "markdown",
   "id": "52626b9c-c3e4-44d8-8da3-e23e27d0c42c",
   "metadata": {},
   "source": [
    "# now that we know how to make it reversible lets fix the reversed method"
   ]
  },
  {
   "cell_type": "code",
   "execution_count": 100,
   "id": "98d3ade6-d443-4808-934d-6cabc1adcfa7",
   "metadata": {},
   "outputs": [
    {
     "name": "stdout",
     "output_type": "stream",
     "text": [
      "Card(rank='A', suit='Clubs')\n",
      "Card(rank='K', suit='Clubs')\n",
      "Card(rank='Q', suit='Clubs')\n",
      "Card(rank='J', suit='Clubs')\n",
      "Card(rank=10, suit='Clubs')\n",
      "Card(rank=9, suit='Clubs')\n",
      "Card(rank=8, suit='Clubs')\n",
      "Card(rank=7, suit='Clubs')\n",
      "Card(rank=6, suit='Clubs')\n",
      "Card(rank=5, suit='Clubs')\n",
      "Card(rank=4, suit='Clubs')\n",
      "Card(rank=3, suit='Clubs')\n",
      "Card(rank=2, suit='Clubs')\n",
      "Card(rank='A', suit='Diamonds')\n",
      "Card(rank='K', suit='Diamonds')\n",
      "Card(rank='Q', suit='Diamonds')\n",
      "Card(rank='J', suit='Diamonds')\n",
      "Card(rank=10, suit='Diamonds')\n",
      "Card(rank=9, suit='Diamonds')\n",
      "Card(rank=8, suit='Diamonds')\n",
      "Card(rank=7, suit='Diamonds')\n",
      "Card(rank=6, suit='Diamonds')\n",
      "Card(rank=5, suit='Diamonds')\n",
      "Card(rank=4, suit='Diamonds')\n",
      "Card(rank=3, suit='Diamonds')\n",
      "Card(rank=2, suit='Diamonds')\n",
      "Card(rank='A', suit='Hearts')\n",
      "Card(rank='K', suit='Hearts')\n",
      "Card(rank='Q', suit='Hearts')\n",
      "Card(rank='J', suit='Hearts')\n",
      "Card(rank=10, suit='Hearts')\n",
      "Card(rank=9, suit='Hearts')\n",
      "Card(rank=8, suit='Hearts')\n",
      "Card(rank=7, suit='Hearts')\n",
      "Card(rank=6, suit='Hearts')\n",
      "Card(rank=5, suit='Hearts')\n",
      "Card(rank=4, suit='Hearts')\n",
      "Card(rank=3, suit='Hearts')\n",
      "Card(rank=2, suit='Hearts')\n",
      "Card(rank='A', suit='Spades')\n",
      "Card(rank='K', suit='Spades')\n",
      "Card(rank='Q', suit='Spades')\n",
      "Card(rank='J', suit='Spades')\n",
      "Card(rank=10, suit='Spades')\n",
      "Card(rank=9, suit='Spades')\n",
      "Card(rank=8, suit='Spades')\n",
      "Card(rank=7, suit='Spades')\n",
      "Card(rank=6, suit='Spades')\n",
      "Card(rank=5, suit='Spades')\n",
      "Card(rank=4, suit='Spades')\n",
      "Card(rank=3, suit='Spades')\n",
      "Card(rank=2, suit='Spades')\n"
     ]
    }
   ],
   "source": [
    "class CardDeck:\n",
    "    def __init__(self):\n",
    "        self.length = len(_SUITS) * len(_RANKS)\n",
    "\n",
    "    def __len__(self):\n",
    "        return self.length\n",
    "\n",
    "    def __iter__(self):\n",
    "        return self.CardDeckIterator(self.length)\n",
    "\n",
    "    def __reversed__(self):\n",
    "        return self.CardDeckIterator(self.length, reverse= True)\n",
    "\n",
    "    class CardDeckIterator:\n",
    "        def __init__(self, length, reverse=False):\n",
    "            self.length = length\n",
    "            self.idx = 0\n",
    "            self.reverse = reverse\n",
    "\n",
    "        def __iter__(self):\n",
    "            return self\n",
    "\n",
    "        def __next__(self):\n",
    "            if self.idx == self.length:\n",
    "                raise StopIteration\n",
    "            else:\n",
    "                if self.reverse:\n",
    "                    index = self.length - 1 - self.idx\n",
    "                else:\n",
    "                    index = self.idx\n",
    "                    \n",
    "                suit = _SUITS[index // len(_RANKS)]\n",
    "                rank = _RANKS[index % len(_RANKS)]\n",
    "                self.idx += 1\n",
    "                return Card(rank, suit)\n",
    "\n",
    "mydeck = CardDeck()\n",
    "\n",
    "for card in reversed(mydeck):\n",
    "    print(card)"
   ]
  },
  {
   "cell_type": "markdown",
   "id": "5a4e0a68-37f5-4f9f-8157-136eb9576f81",
   "metadata": {},
   "source": [
    "# python in general is able to reverse a sequence type but not an iterable - see this"
   ]
  },
  {
   "cell_type": "code",
   "execution_count": 110,
   "id": "b26d4fe2-edd0-462c-9622-e79c67f0a25e",
   "metadata": {},
   "outputs": [],
   "source": [
    "class Squares:\n",
    "    def __init__(self, length):\n",
    "        self.squares = [i**2 for i in range(length)]\n",
    "\n",
    "    # def __len__(self):\n",
    "    #     return len(self.squares)\n",
    "\n",
    "    def __getitem__(self, s):\n",
    "        return self.squares[s]"
   ]
  },
  {
   "cell_type": "code",
   "execution_count": 111,
   "id": "577e6bae-f325-4e79-b02f-2760af59da82",
   "metadata": {},
   "outputs": [
    {
     "data": {
      "text/plain": [
       "9"
      ]
     },
     "execution_count": 111,
     "metadata": {},
     "output_type": "execute_result"
    }
   ],
   "source": [
    "mysquares = Squares(5)\n",
    "mysquares[3]"
   ]
  },
  {
   "cell_type": "code",
   "execution_count": 112,
   "id": "217bafd0-9d22-4e88-ab0f-2e35d20259b6",
   "metadata": {},
   "outputs": [
    {
     "name": "stdout",
     "output_type": "stream",
     "text": [
      "0\n",
      "1\n",
      "4\n",
      "9\n",
      "16\n"
     ]
    }
   ],
   "source": [
    "for num in mysquares:\n",
    "    print(num)"
   ]
  },
  {
   "cell_type": "code",
   "execution_count": 113,
   "id": "b2f24af2-88e3-4dc5-9471-8c7a211b25b5",
   "metadata": {},
   "outputs": [
    {
     "ename": "TypeError",
     "evalue": "object of type 'Squares' has no len()",
     "output_type": "error",
     "traceback": [
      "\u001b[31m---------------------------------------------------------------------------\u001b[39m",
      "\u001b[31mTypeError\u001b[39m                                 Traceback (most recent call last)",
      "\u001b[36mCell\u001b[39m\u001b[36m \u001b[39m\u001b[32mIn[113]\u001b[39m\u001b[32m, line 1\u001b[39m\n\u001b[32m----> \u001b[39m\u001b[32m1\u001b[39m \u001b[38;5;28;01mfor\u001b[39;00m num \u001b[38;5;129;01min\u001b[39;00m \u001b[38;5;28;43mreversed\u001b[39;49m\u001b[43m(\u001b[49m\u001b[43mmysquares\u001b[49m\u001b[43m)\u001b[49m:\n\u001b[32m      2\u001b[39m     \u001b[38;5;28mprint\u001b[39m(num)\n",
      "\u001b[31mTypeError\u001b[39m: object of type 'Squares' has no len()"
     ]
    }
   ],
   "source": [
    "for num in reversed(mysquares):\n",
    "    print(num)"
   ]
  },
  {
   "cell_type": "code",
   "execution_count": 116,
   "id": "737d2a4d-890c-43e0-a575-b9f6e88e10f1",
   "metadata": {},
   "outputs": [],
   "source": [
    "class Squares:\n",
    "    def __init__(self, length):\n",
    "        self.squares = [i**2 for i in range(length)]\n",
    "\n",
    "    def __len__(self):\n",
    "        return len(self.squares)\n",
    "\n",
    "    def __getitem__(self, s):\n",
    "        return self.squares[s]"
   ]
  },
  {
   "cell_type": "code",
   "execution_count": 117,
   "id": "792b22ba-c5aa-4119-acd1-ebb01f08c8fa",
   "metadata": {},
   "outputs": [
    {
     "name": "stdout",
     "output_type": "stream",
     "text": [
      "16\n",
      "9\n",
      "4\n",
      "1\n",
      "0\n"
     ]
    }
   ],
   "source": [
    "mysquares = Squares(5)\n",
    "for num in reversed(mysquares):\n",
    "    print(num)"
   ]
  },
  {
   "cell_type": "code",
   "execution_count": null,
   "id": "4f3a686e-2c0b-42ae-b868-81c6b5ec3431",
   "metadata": {},
   "outputs": [],
   "source": []
  }
 ],
 "metadata": {
  "kernelspec": {
   "display_name": "Python (fundamentals)",
   "language": "python",
   "name": "fundamentals"
  },
  "language_info": {
   "codemirror_mode": {
    "name": "ipython",
    "version": 3
   },
   "file_extension": ".py",
   "mimetype": "text/x-python",
   "name": "python",
   "nbconvert_exporter": "python",
   "pygments_lexer": "ipython3",
   "version": "3.13.7"
  }
 },
 "nbformat": 4,
 "nbformat_minor": 5
}
