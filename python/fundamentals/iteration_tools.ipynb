{
 "cells": [
  {
   "cell_type": "markdown",
   "id": "5d72a873-1fab-47cb-9b44-82ead2de06a6",
   "metadata": {},
   "source": [
    "# ITERATION TOOLS"
   ]
  },
  {
   "cell_type": "code",
   "execution_count": 1,
   "id": "da53c722-1b38-458f-9fb7-7ec0a56d8edc",
   "metadata": {},
   "outputs": [
    {
     "name": "stdout",
     "output_type": "stream",
     "text": [
      "Help on built-in function all in module builtins:\n",
      "\n",
      "all(iterable, /)\n",
      "    Return True if bool(x) is True for all values x in the iterable.\n",
      "\n",
      "    If the iterable is empty, return True.\n",
      "\n"
     ]
    }
   ],
   "source": [
    "help(all)"
   ]
  },
  {
   "cell_type": "code",
   "execution_count": 17,
   "id": "31b033d4-50f2-4fec-8001-6a49da47096f",
   "metadata": {},
   "outputs": [
    {
     "data": {
      "text/plain": [
       "(False, True)"
      ]
     },
     "execution_count": 17,
     "metadata": {},
     "output_type": "execute_result"
    }
   ],
   "source": [
    "l = [1, 2, 3, 4, 100]\n",
    "\n",
    "all(map(lambda x: x < 10, l)), any(map(lambda x: x < 10, l))"
   ]
  },
  {
   "cell_type": "code",
   "execution_count": 20,
   "id": "74470033-c636-46f3-9909-fe983d812fb5",
   "metadata": {},
   "outputs": [
    {
     "data": {
      "text/plain": [
       "(False, True)"
      ]
     },
     "execution_count": 20,
     "metadata": {},
     "output_type": "execute_result"
    }
   ],
   "source": [
    "all(x<10 for x in l), any(x<10 for x in l)"
   ]
  },
  {
   "cell_type": "markdown",
   "id": "706aed96-3608-4145-bcbd-a0dcbbff52bf",
   "metadata": {},
   "source": [
    "### WARNING: be careful how you generate above"
   ]
  },
  {
   "cell_type": "code",
   "execution_count": 44,
   "id": "e1a17d93-8e55-4893-acc2-fb5b0ed94ccb",
   "metadata": {},
   "outputs": [
    {
     "name": "stdout",
     "output_type": "stream",
     "text": [
      "None\n",
      "4\n",
      "4\n",
      "4\n",
      "4\n",
      "4\n"
     ]
    }
   ],
   "source": [
    "funcs = []\n",
    "\n",
    "for x in range(5):\n",
    "    funcs.append(lambda: x)\n",
    "\n",
    "print(funcs[0].__closure__)\n",
    "\n",
    "for f in funcs:\n",
    "    print(f())"
   ]
  },
  {
   "cell_type": "markdown",
   "id": "662e6896-095d-4295-8823-205716767fa9",
   "metadata": {},
   "source": [
    "# all lambdas reference x which is 4 at end of the loop "
   ]
  },
  {
   "cell_type": "code",
   "execution_count": 47,
   "id": "aa3d7135-0401-4bf9-aa04-de47d0fd22e7",
   "metadata": {},
   "outputs": [
    {
     "data": {
      "text/plain": [
       "[<function __main__.<lambda>()>,\n",
       " <function __main__.<lambda>()>,\n",
       " <function __main__.<lambda>()>,\n",
       " <function __main__.<lambda>()>,\n",
       " <function __main__.<lambda>()>]"
      ]
     },
     "execution_count": 47,
     "metadata": {},
     "output_type": "execute_result"
    }
   ],
   "source": [
    "funcs"
   ]
  },
  {
   "cell_type": "code",
   "execution_count": 48,
   "id": "0252dbe0-acfc-483e-aaff-b976053d89e0",
   "metadata": {},
   "outputs": [
    {
     "name": "stdout",
     "output_type": "stream",
     "text": [
      "0\n",
      "1\n",
      "2\n",
      "3\n",
      "4\n"
     ]
    }
   ],
   "source": [
    "funcs = []\n",
    "\n",
    "for x in range(5):\n",
    "    funcs.append(lambda x=x: x)\n",
    "\n",
    "for f in funcs:\n",
    "    print(f())"
   ]
  },
  {
   "cell_type": "code",
   "execution_count": 51,
   "id": "74f44fc9-e64d-4ef2-ac34-f21adaafe526",
   "metadata": {},
   "outputs": [
    {
     "data": {
      "text/plain": [
       "(True, True)"
      ]
     },
     "execution_count": 51,
     "metadata": {},
     "output_type": "execute_result"
    }
   ],
   "source": [
    "# below we yield lambda expressions not a value hence all are truthy\n",
    "l = [1, 2, 3, 4, 100]\n",
    "all(lambda x=x: x<10 for x in l), any(lambda x=x: x<10 for x in l)"
   ]
  },
  {
   "cell_type": "code",
   "execution_count": 52,
   "id": "6bf08c3b-2e28-46d3-ba19-813b52e7bf90",
   "metadata": {},
   "outputs": [
    {
     "data": {
      "text/plain": [
       "(False, True)"
      ]
     },
     "execution_count": 52,
     "metadata": {},
     "output_type": "execute_result"
    }
   ],
   "source": [
    "l = [1, 2, 3, 4, 100]\n",
    "all((lambda x=x: x<10)() for x in l), any((lambda x=x: x<10)() for x in l)"
   ]
  },
  {
   "cell_type": "markdown",
   "id": "577cf787-4b95-4905-8b3f-e786c1b552c3",
   "metadata": {},
   "source": [
    "# everything in python is true unless otherwise told so, it does so by looking `__bool__` or `__len__` methods "
   ]
  },
  {
   "cell_type": "code",
   "execution_count": 59,
   "id": "b03cca7f-4262-464d-b1c9-263906be952d",
   "metadata": {},
   "outputs": [],
   "source": [
    "def squares(n):\n",
    "    for i in range(1, n+1):\n",
    "        yield i**2"
   ]
  },
  {
   "cell_type": "code",
   "execution_count": 61,
   "id": "71eb6608-b182-406d-9e67-b1a07a55446b",
   "metadata": {},
   "outputs": [
    {
     "data": {
      "text/plain": [
       "[1, 4, 9, 16, 25]"
      ]
     },
     "execution_count": 61,
     "metadata": {},
     "output_type": "execute_result"
    }
   ],
   "source": [
    "sq = squares(5)\n",
    "list(sq)"
   ]
  },
  {
   "cell_type": "code",
   "execution_count": 65,
   "id": "8dd0f67d-c546-468c-9a8b-8cff8ff85cf7",
   "metadata": {},
   "outputs": [
    {
     "ename": "StopIteration",
     "evalue": "",
     "output_type": "error",
     "traceback": [
      "\u001b[31m---------------------------------------------------------------------------\u001b[39m",
      "\u001b[31mStopIteration\u001b[39m                             Traceback (most recent call last)",
      "\u001b[36mCell\u001b[39m\u001b[36m \u001b[39m\u001b[32mIn[65]\u001b[39m\u001b[32m, line 2\u001b[39m\n\u001b[32m      1\u001b[39m \u001b[38;5;66;03m# nothing left in sq generator object hence StopIteration\u001b[39;00m\n\u001b[32m----> \u001b[39m\u001b[32m2\u001b[39m \u001b[38;5;28;43mnext\u001b[39;49m\u001b[43m(\u001b[49m\u001b[43msq\u001b[49m\u001b[43m)\u001b[49m\n",
      "\u001b[31mStopIteration\u001b[39m: "
     ]
    }
   ],
   "source": [
    "# nothing left in sq generator object hence StopIteration\n",
    "next(sq)"
   ]
  },
  {
   "cell_type": "markdown",
   "id": "77aa303f-0446-4f63-bdfd-951177524f4c",
   "metadata": {},
   "source": [
    "#### then why is below true"
   ]
  },
  {
   "cell_type": "code",
   "execution_count": 67,
   "id": "3dfda0f7-1e87-48d5-a3f4-e4a6b0930799",
   "metadata": {},
   "outputs": [
    {
     "data": {
      "text/plain": [
       "True"
      ]
     },
     "execution_count": 67,
     "metadata": {},
     "output_type": "execute_result"
    }
   ],
   "source": [
    "bool(sq)"
   ]
  },
  {
   "cell_type": "code",
   "execution_count": 69,
   "id": "0c118e2a-77f8-474b-b937-a844b1c5f1c6",
   "metadata": {},
   "outputs": [
    {
     "data": {
      "text/plain": [
       "True"
      ]
     },
     "execution_count": 69,
     "metadata": {},
     "output_type": "execute_result"
    }
   ],
   "source": [
    "class Person:\n",
    "    pass\n",
    "\n",
    "p = Person()\n",
    "bool(p)"
   ]
  },
  {
   "cell_type": "code",
   "execution_count": 70,
   "id": "94d88583-781b-44dc-b1a9-b0346607b903",
   "metadata": {},
   "outputs": [
    {
     "data": {
      "text/plain": [
       "False"
      ]
     },
     "execution_count": 70,
     "metadata": {},
     "output_type": "execute_result"
    }
   ],
   "source": [
    "class Person:\n",
    "    def __bool__(self):\n",
    "        return False\n",
    "\n",
    "p = Person()\n",
    "bool(p)"
   ]
  },
  {
   "cell_type": "code",
   "execution_count": 71,
   "id": "c1cd166b-5560-4a6b-86cb-54fc2c67d20a",
   "metadata": {},
   "outputs": [
    {
     "data": {
      "text/plain": [
       "False"
      ]
     },
     "execution_count": 71,
     "metadata": {},
     "output_type": "execute_result"
    }
   ],
   "source": [
    "class Person:\n",
    "    def __len__(self):\n",
    "        return 0\n",
    "\n",
    "p = Person()\n",
    "bool(p)"
   ]
  },
  {
   "cell_type": "code",
   "execution_count": 73,
   "id": "a3c60595-4726-4433-ac2f-50f8f71df7e7",
   "metadata": {},
   "outputs": [
    {
     "data": {
      "text/plain": [
       "True"
      ]
     },
     "execution_count": 73,
     "metadata": {},
     "output_type": "execute_result"
    }
   ],
   "source": [
    "class Person:\n",
    "    def __bool__(self): # first preference, \n",
    "        return True\n",
    "        \n",
    "    def __len__(self): # if bool not defined\n",
    "        return 0\n",
    "\n",
    "p = Person()\n",
    "bool(p)"
   ]
  },
  {
   "cell_type": "code",
   "execution_count": 74,
   "id": "e3109049-59a8-4441-b900-d1cf67205a96",
   "metadata": {},
   "outputs": [],
   "source": [
    "from itertools import islice"
   ]
  },
  {
   "cell_type": "code",
   "execution_count": 75,
   "id": "59745411-cec3-416d-82cc-a439d2b61a5f",
   "metadata": {},
   "outputs": [
    {
     "data": {
      "text/plain": [
       "[1, 2]"
      ]
     },
     "execution_count": 75,
     "metadata": {},
     "output_type": "execute_result"
    }
   ],
   "source": [
    "l = [1, 2, 3, 4, 5]\n",
    "\n",
    "l[0:2]"
   ]
  },
  {
   "cell_type": "code",
   "execution_count": 76,
   "id": "9c9cedec-0003-41c4-ba6a-3ec2fa6ac2d5",
   "metadata": {},
   "outputs": [
    {
     "data": {
      "text/plain": [
       "[1, 2]"
      ]
     },
     "execution_count": 76,
     "metadata": {},
     "output_type": "execute_result"
    }
   ],
   "source": [
    "s = slice(0, 2)\n",
    "l[s]"
   ]
  },
  {
   "cell_type": "code",
   "execution_count": 81,
   "id": "dc9e84c0-2d4c-4f6d-8462-0b44c1be66ec",
   "metadata": {},
   "outputs": [],
   "source": [
    "import math\n",
    "\n",
    "def factorials(n):\n",
    "    for i in range(n):\n",
    "        yield math.factorial(i)"
   ]
  },
  {
   "cell_type": "code",
   "execution_count": 82,
   "id": "3f5ce2f7-d424-43c8-ae27-64d800509210",
   "metadata": {},
   "outputs": [],
   "source": [
    "facts = factorials(100)"
   ]
  },
  {
   "cell_type": "code",
   "execution_count": 83,
   "id": "3d140c85-9c85-4c3c-addd-fa2ba9cd3df8",
   "metadata": {},
   "outputs": [
    {
     "ename": "TypeError",
     "evalue": "'generator' object is not subscriptable",
     "output_type": "error",
     "traceback": [
      "\u001b[31m---------------------------------------------------------------------------\u001b[39m",
      "\u001b[31mTypeError\u001b[39m                                 Traceback (most recent call last)",
      "\u001b[36mCell\u001b[39m\u001b[36m \u001b[39m\u001b[32mIn[83]\u001b[39m\u001b[32m, line 1\u001b[39m\n\u001b[32m----> \u001b[39m\u001b[32m1\u001b[39m \u001b[43mfacts\u001b[49m\u001b[43m[\u001b[49m\u001b[32;43m0\u001b[39;49m\u001b[43m:\u001b[49m\u001b[32;43m2\u001b[39;49m\u001b[43m]\u001b[49m\n",
      "\u001b[31mTypeError\u001b[39m: 'generator' object is not subscriptable"
     ]
    }
   ],
   "source": [
    "facts[0:2]"
   ]
  },
  {
   "cell_type": "code",
   "execution_count": 86,
   "id": "120bc5db-8c46-4ae2-a4c5-79676de8923a",
   "metadata": {},
   "outputs": [
    {
     "data": {
      "text/plain": [
       "<generator object slice_ at 0x10bc3fbc0>"
      ]
     },
     "execution_count": 86,
     "metadata": {},
     "output_type": "execute_result"
    }
   ],
   "source": [
    "def slice_(iterable, start, stop):\n",
    "    for _ in range(0, start):\n",
    "        next(iterable)\n",
    "    for _ in range(start, stop):\n",
    "        yield next(iterable)\n",
    "\n",
    "slice_(factorials(100), 0, 10)"
   ]
  },
  {
   "cell_type": "code",
   "execution_count": 88,
   "id": "ca7c611d-683d-458f-a86e-00068c60387b",
   "metadata": {},
   "outputs": [
    {
     "data": {
      "text/plain": [
       "[1, 1, 2, 6, 24, 120, 720, 5040, 40320, 362880]"
      ]
     },
     "execution_count": 88,
     "metadata": {},
     "output_type": "execute_result"
    }
   ],
   "source": [
    "list(slice_(factorials(100), 0, 10))"
   ]
  },
  {
   "cell_type": "code",
   "execution_count": 89,
   "id": "34fd3ff4-716a-456a-9a3c-5e14bb61f8b4",
   "metadata": {},
   "outputs": [
    {
     "data": {
      "text/plain": [
       "[2, 6, 24]"
      ]
     },
     "execution_count": 89,
     "metadata": {},
     "output_type": "execute_result"
    }
   ],
   "source": [
    "list(slice_(factorials(100), 2, 5))"
   ]
  },
  {
   "cell_type": "code",
   "execution_count": 90,
   "id": "a4c7e001-d284-4268-9fb0-6f619503b849",
   "metadata": {},
   "outputs": [],
   "source": [
    "from itertools import islice"
   ]
  },
  {
   "cell_type": "code",
   "execution_count": 91,
   "id": "6ea32d1a-233d-49bc-8624-ede5eb191cdb",
   "metadata": {},
   "outputs": [
    {
     "name": "stdout",
     "output_type": "stream",
     "text": [
      "Help on class islice in module itertools:\n",
      "\n",
      "class islice(builtins.object)\n",
      " |  islice(iterable, stop) --> islice object\n",
      " |  islice(iterable, start, stop[, step]) --> islice object\n",
      " |\n",
      " |  Return an iterator whose next() method returns selected values from an\n",
      " |  iterable.  If start is specified, will skip all preceding elements;\n",
      " |  otherwise, start defaults to zero.  Step defaults to one.  If\n",
      " |  specified as another value, step determines how many values are\n",
      " |  skipped between successive calls.  Works like a slice() on a list\n",
      " |  but returns an iterator.\n",
      " |\n",
      " |  Methods defined here:\n",
      " |\n",
      " |  __getattribute__(self, name, /)\n",
      " |      Return getattr(self, name).\n",
      " |\n",
      " |  __iter__(self, /)\n",
      " |      Implement iter(self).\n",
      " |\n",
      " |  __next__(self, /)\n",
      " |      Implement next(self).\n",
      " |\n",
      " |  __reduce__(self, /)\n",
      " |      Return state information for pickling.\n",
      " |\n",
      " |  __setstate__(self, object, /)\n",
      " |      Set state information for unpickling.\n",
      " |\n",
      " |  ----------------------------------------------------------------------\n",
      " |  Static methods defined here:\n",
      " |\n",
      " |  __new__(*args, **kwargs)\n",
      " |      Create and return a new object.  See help(type) for accurate signature.\n",
      "\n"
     ]
    }
   ],
   "source": [
    "help(islice)"
   ]
  },
  {
   "cell_type": "code",
   "execution_count": 92,
   "id": "5dd3f5e6-9f77-4355-8764-2c2b1728621b",
   "metadata": {},
   "outputs": [
    {
     "data": {
      "text/plain": [
       "[2, 6, 24]"
      ]
     },
     "execution_count": 92,
     "metadata": {},
     "output_type": "execute_result"
    }
   ],
   "source": [
    "list(islice(factorials(100), 2, 5))"
   ]
  },
  {
   "cell_type": "code",
   "execution_count": 93,
   "id": "7d908b6b-c4a9-48fe-bf87-7a150c6ae093",
   "metadata": {},
   "outputs": [
    {
     "data": {
      "text/plain": [
       "[1, 6, 120, 5040, 362880]"
      ]
     },
     "execution_count": 93,
     "metadata": {},
     "output_type": "execute_result"
    }
   ],
   "source": [
    "list(islice(factorials(100), 1, 10, 2))"
   ]
  },
  {
   "cell_type": "code",
   "execution_count": 109,
   "id": "b2854c6e-6c3a-4297-8bcc-f6691784d872",
   "metadata": {},
   "outputs": [],
   "source": [
    "def factorials():\n",
    "    index = 0 \n",
    "    while True:\n",
    "        print(f'yielding factorial of {index}')\n",
    "        yield math.factorial(index)\n",
    "        index += 1"
   ]
  },
  {
   "cell_type": "code",
   "execution_count": 96,
   "id": "81fdd72c-dd20-4bdf-8953-00e66ab3a31f",
   "metadata": {},
   "outputs": [
    {
     "name": "stdout",
     "output_type": "stream",
     "text": [
      "yielding factorial of 0\n",
      "1\n",
      "yielding factorial of 1\n",
      "1\n",
      "yielding factorial of 2\n",
      "2\n",
      "yielding factorial of 3\n",
      "6\n",
      "yielding factorial of 4\n",
      "24\n"
     ]
    }
   ],
   "source": [
    "facts = factorials()\n",
    "for _ in range(0, 5):\n",
    "    print(next(facts))"
   ]
  },
  {
   "cell_type": "code",
   "execution_count": 104,
   "id": "0941181f-7527-40b7-ac9f-7a0393a616b7",
   "metadata": {},
   "outputs": [
    {
     "data": {
      "text/plain": [
       "<itertools.islice at 0x10b7edbc0>"
      ]
     },
     "execution_count": 104,
     "metadata": {},
     "output_type": "execute_result"
    }
   ],
   "source": [
    "islice(factorials(), 3, 10)"
   ]
  },
  {
   "cell_type": "code",
   "execution_count": 110,
   "id": "de71576a-3975-439e-90bd-2965c4added3",
   "metadata": {},
   "outputs": [],
   "source": [
    "sl = islice(factorial(), 3, 10)"
   ]
  },
  {
   "cell_type": "code",
   "execution_count": 111,
   "id": "fbd4befb-3a52-40e0-ae27-68f3f8e60559",
   "metadata": {},
   "outputs": [
    {
     "data": {
      "text/plain": [
       "[6, 24, 120, 720, 5040, 40320, 362880]"
      ]
     },
     "execution_count": 111,
     "metadata": {},
     "output_type": "execute_result"
    }
   ],
   "source": [
    "list(sl)"
   ]
  },
  {
   "cell_type": "markdown",
   "id": "8077a930-6934-4c44-9d6d-d33531c8fe20",
   "metadata": {},
   "source": [
    "# filters"
   ]
  },
  {
   "cell_type": "code",
   "execution_count": 112,
   "id": "983545fa-af71-45ef-baf9-f7e4642c1384",
   "metadata": {},
   "outputs": [],
   "source": [
    "def gen_cubes(n):\n",
    "    for i in range(n):\n",
    "        print(f'yielding {i}')\n",
    "        yield i**3"
   ]
  },
  {
   "cell_type": "code",
   "execution_count": 113,
   "id": "6e6f2a9a-a58b-451a-a0e7-0af8c313467e",
   "metadata": {},
   "outputs": [],
   "source": [
    "def is_odd(x):\n",
    "    return x % 2 == 1"
   ]
  },
  {
   "cell_type": "code",
   "execution_count": 115,
   "id": "ec509fb3-e38a-4d30-a4bc-b448a3975c94",
   "metadata": {},
   "outputs": [
    {
     "data": {
      "text/plain": [
       "(False, True)"
      ]
     },
     "execution_count": 115,
     "metadata": {},
     "output_type": "execute_result"
    }
   ],
   "source": [
    "is_odd(4), is_odd(5)"
   ]
  },
  {
   "cell_type": "code",
   "execution_count": 117,
   "id": "96d0c07e-1ac9-4142-ae92-93998149ff1c",
   "metadata": {},
   "outputs": [],
   "source": [
    "filtered = filter(is_odd, gen_cubes(10))"
   ]
  },
  {
   "cell_type": "code",
   "execution_count": 118,
   "id": "4a120eb1-ca70-40f5-a3ba-28746364e0b3",
   "metadata": {},
   "outputs": [
    {
     "data": {
      "text/plain": [
       "filter"
      ]
     },
     "execution_count": 118,
     "metadata": {},
     "output_type": "execute_result"
    }
   ],
   "source": [
    "type(filtered)"
   ]
  },
  {
   "cell_type": "code",
   "execution_count": 119,
   "id": "4d63b13e-20ee-40a6-8133-28883ee05fb9",
   "metadata": {},
   "outputs": [
    {
     "name": "stdout",
     "output_type": "stream",
     "text": [
      "yielding 0\n",
      "yielding 1\n",
      "yielding 2\n",
      "yielding 3\n",
      "yielding 4\n",
      "yielding 5\n",
      "yielding 6\n",
      "yielding 7\n",
      "yielding 8\n",
      "yielding 9\n"
     ]
    },
    {
     "data": {
      "text/plain": [
       "[1, 27, 125, 343, 729]"
      ]
     },
     "execution_count": 119,
     "metadata": {},
     "output_type": "execute_result"
    }
   ],
   "source": [
    "list(filtered)"
   ]
  },
  {
   "cell_type": "markdown",
   "id": "460eeca7-6944-4df4-9ce8-70db99cc96c8",
   "metadata": {},
   "source": [
    "# all results yielded on consumption (lazy) and then filtered out"
   ]
  },
  {
   "cell_type": "code",
   "execution_count": 120,
   "id": "fd33f1af-993c-4730-afac-7fb8d3bea98c",
   "metadata": {},
   "outputs": [],
   "source": [
    "from itertools import filterfalse"
   ]
  },
  {
   "cell_type": "code",
   "execution_count": 121,
   "id": "5fd3a5eb-9282-46b0-afe8-7804294150b2",
   "metadata": {},
   "outputs": [
    {
     "name": "stdout",
     "output_type": "stream",
     "text": [
      "yielding 0\n",
      "yielding 1\n",
      "yielding 2\n",
      "yielding 3\n",
      "yielding 4\n",
      "yielding 5\n",
      "yielding 6\n",
      "yielding 7\n",
      "yielding 8\n",
      "yielding 9\n"
     ]
    },
    {
     "data": {
      "text/plain": [
       "[0, 8, 64, 216, 512]"
      ]
     },
     "execution_count": 121,
     "metadata": {},
     "output_type": "execute_result"
    }
   ],
   "source": [
    "filtered = filterfalse(is_odd, gen_cubes(10))\n",
    "list(filtered)"
   ]
  },
  {
   "cell_type": "markdown",
   "id": "1ee92a50-0405-4c40-814f-02cd30703956",
   "metadata": {},
   "source": [
    "# dropwhile and takewhile"
   ]
  },
  {
   "cell_type": "code",
   "execution_count": 122,
   "id": "6cb40c00-bc88-4251-aaba-2ce365e0afe2",
   "metadata": {},
   "outputs": [],
   "source": [
    "from itertools import dropwhile, takewhile"
   ]
  },
  {
   "cell_type": "code",
   "execution_count": 125,
   "id": "eafb1ae0-e48d-45d4-aed3-fe580d10fe1d",
   "metadata": {},
   "outputs": [],
   "source": [
    "from math import sin, pi\n",
    "\n",
    "def sine_wave(n):\n",
    "    start = 0\n",
    "    max_ = 2 * pi\n",
    "    step = (max_ - start) / (n-1)\n",
    "\n",
    "    for _ in range(n):\n",
    "        yield round(sin(start), 2)\n",
    "        start += step"
   ]
  },
  {
   "cell_type": "code",
   "execution_count": 126,
   "id": "46dfd6f8-db47-4793-b8ba-b9861d7f7f98",
   "metadata": {},
   "outputs": [
    {
     "data": {
      "text/plain": [
       "[0.0,\n",
       " 0.43,\n",
       " 0.78,\n",
       " 0.97,\n",
       " 0.97,\n",
       " 0.78,\n",
       " 0.43,\n",
       " 0.0,\n",
       " -0.43,\n",
       " -0.78,\n",
       " -0.97,\n",
       " -0.97,\n",
       " -0.78,\n",
       " -0.43,\n",
       " -0.0]"
      ]
     },
     "execution_count": 126,
     "metadata": {},
     "output_type": "execute_result"
    }
   ],
   "source": [
    "list(sine_wave(15))"
   ]
  },
  {
   "cell_type": "code",
   "execution_count": 129,
   "id": "f0c1e302-c55a-445c-a17b-fc2c3c2a4b0b",
   "metadata": {},
   "outputs": [
    {
     "data": {
      "text/plain": [
       "itertools.takewhile"
      ]
     },
     "execution_count": 129,
     "metadata": {},
     "output_type": "execute_result"
    }
   ],
   "source": [
    "result = takewhile(lambda x: 0 <= x <= 0.9, sine_wave(15))\n",
    "type(result)"
   ]
  },
  {
   "cell_type": "markdown",
   "id": "1f97a25b-151a-47bf-a6cc-a31da4a30fc2",
   "metadata": {},
   "source": [
    "# takewhile - starts iterating from begining until predicate is false and then stops iterating"
   ]
  },
  {
   "cell_type": "code",
   "execution_count": 130,
   "id": "ce09ee20-1e98-4f50-9211-4795cabfdf60",
   "metadata": {},
   "outputs": [
    {
     "data": {
      "text/plain": [
       "[0.0, 0.43, 0.78]"
      ]
     },
     "execution_count": 130,
     "metadata": {},
     "output_type": "execute_result"
    }
   ],
   "source": [
    "list(result)"
   ]
  },
  {
   "cell_type": "markdown",
   "id": "59a36187-9eba-4698-b5ad-8483693b9bd9",
   "metadata": {},
   "source": [
    "# dropwhile - starts iterating when predicate turns false, and continues iteration all the way without checking predicate again"
   ]
  },
  {
   "cell_type": "code",
   "execution_count": 133,
   "id": "89e97816-01f2-43da-8671-0337cf5d57d0",
   "metadata": {},
   "outputs": [
    {
     "data": {
      "text/plain": [
       "[5, 6, 7, 1, 2, 3]"
      ]
     },
     "execution_count": 133,
     "metadata": {},
     "output_type": "execute_result"
    }
   ],
   "source": [
    "l = [1, 2, 3, 4, 5, 6, 7, 1, 2, 3]\n",
    "\n",
    "list(dropwhile(lambda x: x < 5, l))"
   ]
  },
  {
   "cell_type": "code",
   "execution_count": 134,
   "id": "9601ef61-b276-4b90-a060-16625c9645f4",
   "metadata": {},
   "outputs": [
    {
     "data": {
      "text/plain": [
       "[1, 2, 3, 4]"
      ]
     },
     "execution_count": 134,
     "metadata": {},
     "output_type": "execute_result"
    }
   ],
   "source": [
    "list(takewhile(lambda x: x < 5, l))"
   ]
  },
  {
   "cell_type": "markdown",
   "id": "ffe6dace-9b77-4714-a517-540360ee3371",
   "metadata": {},
   "source": [
    "# compress"
   ]
  },
  {
   "cell_type": "code",
   "execution_count": 135,
   "id": "77a74825-fe67-45c3-9895-03c37c10f996",
   "metadata": {},
   "outputs": [
    {
     "data": {
      "text/plain": [
       "[('a', True), ('b', False), ('c', 1), ('d', 0)]"
      ]
     },
     "execution_count": 135,
     "metadata": {},
     "output_type": "execute_result"
    }
   ],
   "source": [
    "data = ['a', 'b', 'c', 'd', 'e']\n",
    "selectors = [True, False, 1, 0]\n",
    "\n",
    "list(zip(data, selectors))"
   ]
  },
  {
   "cell_type": "code",
   "execution_count": 137,
   "id": "d2465fc3-84cb-4d26-8be5-2020558b2036",
   "metadata": {},
   "outputs": [
    {
     "data": {
      "text/plain": [
       "['a', 'c']"
      ]
     },
     "execution_count": 137,
     "metadata": {},
     "output_type": "execute_result"
    }
   ],
   "source": [
    "[item for item, truth_value in zip(data, selectors) if truth_value]"
   ]
  },
  {
   "cell_type": "code",
   "execution_count": 138,
   "id": "57524807-90a5-48b4-bdd0-505516ede323",
   "metadata": {},
   "outputs": [],
   "source": [
    "from itertools import compress"
   ]
  },
  {
   "cell_type": "code",
   "execution_count": 139,
   "id": "b0672a57-49c8-4dd3-946c-1712230cf565",
   "metadata": {},
   "outputs": [
    {
     "data": {
      "text/plain": [
       "['a', 'c']"
      ]
     },
     "execution_count": 139,
     "metadata": {},
     "output_type": "execute_result"
    }
   ],
   "source": [
    "list(compress(data, selectors))"
   ]
  },
  {
   "cell_type": "code",
   "execution_count": 140,
   "id": "424a152d-969a-4995-897d-08c9e8acec17",
   "metadata": {},
   "outputs": [
    {
     "name": "stdout",
     "output_type": "stream",
     "text": [
      "Help on class compress in module itertools:\n",
      "\n",
      "class compress(builtins.object)\n",
      " |  compress(data, selectors)\n",
      " |\n",
      " |  Return data elements corresponding to true selector elements.\n",
      " |\n",
      " |  Forms a shorter iterator from selected data elements using the selectors to\n",
      " |  choose the data elements.\n",
      " |\n",
      " |  Methods defined here:\n",
      " |\n",
      " |  __getattribute__(self, name, /)\n",
      " |      Return getattr(self, name).\n",
      " |\n",
      " |  __iter__(self, /)\n",
      " |      Implement iter(self).\n",
      " |\n",
      " |  __next__(self, /)\n",
      " |      Implement next(self).\n",
      " |\n",
      " |  __reduce__(self, /)\n",
      " |      Return state information for pickling.\n",
      " |\n",
      " |  ----------------------------------------------------------------------\n",
      " |  Static methods defined here:\n",
      " |\n",
      " |  __new__(*args, **kwargs)\n",
      " |      Create and return a new object.  See help(type) for accurate signature.\n",
      "\n"
     ]
    }
   ],
   "source": [
    "help(compress)"
   ]
  },
  {
   "cell_type": "markdown",
   "id": "44c7d371-fe42-4a10-941f-e46fc01a5f4b",
   "metadata": {},
   "source": [
    "# Infinite iterators"
   ]
  },
  {
   "cell_type": "code",
   "execution_count": 141,
   "id": "0f251165-0c2f-480e-98bb-3706eb7ea8cf",
   "metadata": {},
   "outputs": [],
   "source": [
    "from itertools import count, cycle, repeat, islice"
   ]
  },
  {
   "cell_type": "markdown",
   "id": "fe66cd12-cc01-4779-aa47-c5f8f5a29016",
   "metadata": {},
   "source": [
    "## count"
   ]
  },
  {
   "cell_type": "code",
   "execution_count": 142,
   "id": "c8e32170-3522-4668-a3a0-bd08cbf1f41d",
   "metadata": {},
   "outputs": [
    {
     "data": {
      "text/plain": [
       "[10, 11, 12, 13, 14]"
      ]
     },
     "execution_count": 142,
     "metadata": {},
     "output_type": "execute_result"
    }
   ],
   "source": [
    "g = count(10)\n",
    "list(islice(g, 0, 5))"
   ]
  },
  {
   "cell_type": "code",
   "execution_count": 143,
   "id": "d102ffdc-9aac-438a-9e57-d3cb56044324",
   "metadata": {},
   "outputs": [
    {
     "data": {
      "text/plain": [
       "[1, 1.5, 2.0, 2.5, 3.0, 3.5, 4.0, 4.5, 5.0, 5.5]"
      ]
     },
     "execution_count": 143,
     "metadata": {},
     "output_type": "execute_result"
    }
   ],
   "source": [
    "g = count(1, 0.5)\n",
    "list(islice(g, 0, 10))"
   ]
  },
  {
   "cell_type": "code",
   "execution_count": 144,
   "id": "057b6ab5-0b6b-4745-af71-6a5f0b5fb11c",
   "metadata": {},
   "outputs": [],
   "source": [
    "from decimal import Decimal"
   ]
  },
  {
   "cell_type": "code",
   "execution_count": 146,
   "id": "5638e95c-a7fa-42de-a565-ce6ffdf16948",
   "metadata": {},
   "outputs": [
    {
     "data": {
      "text/plain": [
       "[Decimal('0'),\n",
       " Decimal('0.15'),\n",
       " Decimal('0.30'),\n",
       " Decimal('0.45'),\n",
       " Decimal('0.60'),\n",
       " Decimal('0.75'),\n",
       " Decimal('0.90'),\n",
       " Decimal('1.05'),\n",
       " Decimal('1.20'),\n",
       " Decimal('1.35')]"
      ]
     },
     "execution_count": 146,
     "metadata": {},
     "output_type": "execute_result"
    }
   ],
   "source": [
    "g = count(Decimal('0'), Decimal('0.15'))\n",
    "list(islice(g, 0, 10))"
   ]
  },
  {
   "cell_type": "markdown",
   "id": "397f0c95-0917-4f72-941f-837bc1615c3c",
   "metadata": {},
   "source": [
    "## cycle"
   ]
  },
  {
   "cell_type": "code",
   "execution_count": 149,
   "id": "41b76c9e-3da6-4f46-a987-dbd0e0f97f19",
   "metadata": {},
   "outputs": [
    {
     "data": {
      "text/plain": [
       "[1, 2, 3, 1, 2, 3, 1, 2, 3, 1]"
      ]
     },
     "execution_count": 149,
     "metadata": {},
     "output_type": "execute_result"
    }
   ],
   "source": [
    "g = cycle([1, 2, 3])\n",
    "list(islice(g, 0, 10))"
   ]
  },
  {
   "cell_type": "code",
   "execution_count": 150,
   "id": "7c295ffc-5c5b-481b-99a9-4d08b9543548",
   "metadata": {},
   "outputs": [
    {
     "data": {
      "text/plain": [
       "['red', 'green', 'blue']"
      ]
     },
     "execution_count": 150,
     "metadata": {},
     "output_type": "execute_result"
    }
   ],
   "source": [
    "def colours():\n",
    "    yield 'red'\n",
    "    yield 'green'\n",
    "    yield 'blue'\n",
    "\n",
    "cols = colours()\n",
    "list(cols)"
   ]
  },
  {
   "cell_type": "code",
   "execution_count": 151,
   "id": "0ecfa806-ea31-434e-bf3a-07a0c2d298f3",
   "metadata": {},
   "outputs": [
    {
     "ename": "StopIteration",
     "evalue": "",
     "output_type": "error",
     "traceback": [
      "\u001b[31m---------------------------------------------------------------------------\u001b[39m",
      "\u001b[31mStopIteration\u001b[39m                             Traceback (most recent call last)",
      "\u001b[36mCell\u001b[39m\u001b[36m \u001b[39m\u001b[32mIn[151]\u001b[39m\u001b[32m, line 2\u001b[39m\n\u001b[32m      1\u001b[39m \u001b[38;5;66;03m# exhausts \u001b[39;00m\n\u001b[32m----> \u001b[39m\u001b[32m2\u001b[39m \u001b[38;5;28;43mnext\u001b[39;49m\u001b[43m(\u001b[49m\u001b[43mcols\u001b[49m\u001b[43m)\u001b[49m\n",
      "\u001b[31mStopIteration\u001b[39m: "
     ]
    }
   ],
   "source": [
    "# exhausts \n",
    "next(cols)"
   ]
  },
  {
   "cell_type": "code",
   "execution_count": 153,
   "id": "1cdec768-e405-48c1-9987-8363089ca5db",
   "metadata": {},
   "outputs": [
    {
     "data": {
      "text/plain": [
       "['red', 'green', 'blue', 'red', 'green', 'blue', 'red', 'green', 'blue', 'red']"
      ]
     },
     "execution_count": 153,
     "metadata": {},
     "output_type": "execute_result"
    }
   ],
   "source": [
    "# produces cycle even if iterator exhausts\n",
    "cols = colours()\n",
    "g = cycle(cols)\n",
    "list(islice(g, 0, 10))"
   ]
  },
  {
   "cell_type": "markdown",
   "id": "20e003dc-428e-4a3c-8e7d-8ee10d0762ba",
   "metadata": {},
   "source": [
    "## REPEAT"
   ]
  },
  {
   "cell_type": "code",
   "execution_count": 154,
   "id": "b8cc7c32-ce81-4e55-af3b-7e4a83e7763e",
   "metadata": {},
   "outputs": [
    {
     "name": "stdout",
     "output_type": "stream",
     "text": [
      "Python\n",
      "Python\n",
      "Python\n",
      "Python\n",
      "Python\n"
     ]
    }
   ],
   "source": [
    "g = repeat('Python')\n",
    "for _ in range(5):\n",
    "    print(next(g))"
   ]
  },
  {
   "cell_type": "code",
   "execution_count": 158,
   "id": "cb51f5b8-0d5c-432f-abea-db625559ecff",
   "metadata": {},
   "outputs": [
    {
     "data": {
      "text/plain": [
       "['Python', 'Python', 'Python', 'Python']"
      ]
     },
     "execution_count": 158,
     "metadata": {},
     "output_type": "execute_result"
    }
   ],
   "source": [
    "g = repeat('Python', 4)\n",
    "list(g)"
   ]
  },
  {
   "cell_type": "code",
   "execution_count": 159,
   "id": "eb14f5e4-553b-4892-8dfe-83dea233f117",
   "metadata": {},
   "outputs": [
    {
     "data": {
      "text/plain": [
       "['Python', 'Python', 'Python', 'Python']"
      ]
     },
     "execution_count": 159,
     "metadata": {},
     "output_type": "execute_result"
    }
   ],
   "source": [
    "g = repeat('Python', 4)\n",
    "l = list(g)\n",
    "l"
   ]
  },
  {
   "cell_type": "code",
   "execution_count": 162,
   "id": "a0f7e2ea-654c-4b97-b034-dcac6e363436",
   "metadata": {},
   "outputs": [
    {
     "data": {
      "text/plain": [
       "('0x102a7dc80', '0x102a7dc80', '0x102a7dc80', '0x102a7dc80')"
      ]
     },
     "execution_count": 162,
     "metadata": {},
     "output_type": "execute_result"
    }
   ],
   "source": [
    "# same object\n",
    "hex(id(l[0])), hex(id(l[1])), hex(id(l[2])), hex(id(l[3]))"
   ]
  },
  {
   "cell_type": "markdown",
   "id": "c0a0ed9f-5691-405e-808b-38d80296ea36",
   "metadata": {},
   "source": [
    "# CHAINING"
   ]
  },
  {
   "cell_type": "code",
   "execution_count": 164,
   "id": "a76c9c4e-1422-4712-a6ed-88825a26020c",
   "metadata": {},
   "outputs": [
    {
     "name": "stdout",
     "output_type": "stream",
     "text": [
      "0\n",
      "1\n",
      "4\n",
      "9\n",
      "25\n",
      "36\n",
      "49\n",
      "64\n",
      "100\n",
      "121\n",
      "144\n",
      "169\n",
      "196\n"
     ]
    }
   ],
   "source": [
    "l1 = (i**2 for i in range(4))\n",
    "l2 = (i**2 for i in range(5, 9))\n",
    "l3 = (i**2 for i in range(10, 15))\n",
    "\n",
    "for gen in l1, l2, l3:\n",
    "    for item in gen:\n",
    "        print(item)"
   ]
  },
  {
   "cell_type": "code",
   "execution_count": 165,
   "id": "baa2164b-435c-462e-82f4-09f779c8d55f",
   "metadata": {},
   "outputs": [
    {
     "ename": "StopIteration",
     "evalue": "",
     "output_type": "error",
     "traceback": [
      "\u001b[31m---------------------------------------------------------------------------\u001b[39m",
      "\u001b[31mStopIteration\u001b[39m                             Traceback (most recent call last)",
      "\u001b[36mCell\u001b[39m\u001b[36m \u001b[39m\u001b[32mIn[165]\u001b[39m\u001b[32m, line 1\u001b[39m\n\u001b[32m----> \u001b[39m\u001b[32m1\u001b[39m \u001b[38;5;28;43mnext\u001b[39;49m\u001b[43m(\u001b[49m\u001b[43ml1\u001b[49m\u001b[43m)\u001b[49m\n",
      "\u001b[31mStopIteration\u001b[39m: "
     ]
    }
   ],
   "source": [
    "next(l1)"
   ]
  },
  {
   "cell_type": "code",
   "execution_count": 166,
   "id": "61f78857-c61b-4420-b53a-d4a14943881a",
   "metadata": {},
   "outputs": [
    {
     "ename": "_IncompleteInputError",
     "evalue": "incomplete input (1869239297.py, line 1)",
     "output_type": "error",
     "traceback": [
      "  \u001b[36mCell\u001b[39m\u001b[36m \u001b[39m\u001b[32mIn[166]\u001b[39m\u001b[32m, line 1\u001b[39m\n\u001b[31m    \u001b[39m\u001b[31mlist(l2\u001b[39m\n           ^\n\u001b[31m_IncompleteInputError\u001b[39m\u001b[31m:\u001b[39m incomplete input\n"
     ]
    }
   ],
   "source": [
    "list(l2"
   ]
  },
  {
   "cell_type": "code",
   "execution_count": 167,
   "id": "57fa6ce2-a3b0-4d3a-9e68-08a12bb10bf9",
   "metadata": {},
   "outputs": [
    {
     "name": "stdout",
     "output_type": "stream",
     "text": [
      "0\n",
      "1\n",
      "4\n",
      "9\n",
      "25\n",
      "36\n",
      "49\n",
      "64\n",
      "100\n",
      "121\n",
      "144\n",
      "169\n",
      "196\n"
     ]
    }
   ],
   "source": [
    "l1 = (i**2 for i in range(4))\n",
    "l2 = (i**2 for i in range(5, 9))\n",
    "l3 = (i**2 for i in range(10, 15))\n",
    "\n",
    "for gen in l1, l2, l3:\n",
    "    for item in gen:\n",
    "        print(item)\n",
    "\n",
    "def chain_iterables(*iterables):\n",
    "    for iterable in iterables:\n",
    "        yield from iterable    \n",
    "        # same as writing below\n",
    "        # for item in iterable\n",
    "        # yield item\n",
    "\n",
    "for item in chain_iterables(l1, l2, l3):\n",
    "    print(item)"
   ]
  },
  {
   "cell_type": "code",
   "execution_count": 168,
   "id": "a9f3e977-f9a5-4fe1-b4c1-ed6f6411c37c",
   "metadata": {},
   "outputs": [],
   "source": [
    "from itertools import chain"
   ]
  },
  {
   "cell_type": "code",
   "execution_count": 169,
   "id": "2fbe6bc6-7708-4bb6-a643-612beb9262a8",
   "metadata": {},
   "outputs": [
    {
     "name": "stdout",
     "output_type": "stream",
     "text": [
      "0\n",
      "1\n",
      "4\n",
      "9\n",
      "25\n",
      "36\n",
      "49\n",
      "64\n",
      "100\n",
      "121\n",
      "144\n",
      "169\n",
      "196\n"
     ]
    }
   ],
   "source": [
    "l1 = (i**2 for i in range(4))\n",
    "l2 = (i**2 for i in range(5, 9))\n",
    "l3 = (i**2 for i in range(10, 15))\n",
    "\n",
    "for item in chain(l1, l2, l3):\n",
    "    print(item)"
   ]
  },
  {
   "cell_type": "code",
   "execution_count": 170,
   "id": "8e3bc21d-23f7-48ac-ae82-bf461a543b50",
   "metadata": {},
   "outputs": [
    {
     "name": "stdout",
     "output_type": "stream",
     "text": [
      "<generator object <genexpr> at 0x10ba16260>\n",
      "<generator object <genexpr> at 0x10ba15f20>\n",
      "<generator object <genexpr> at 0x10ba15e50>\n"
     ]
    }
   ],
   "source": [
    "l1 = (i**2 for i in range(4))\n",
    "l2 = (i**2 for i in range(5, 9))\n",
    "l3 = (i**2 for i in range(10, 15))\n",
    "\n",
    "l = [l1, l2, l3]\n",
    "\n",
    "for item in chain(l):\n",
    "    print(item)"
   ]
  },
  {
   "cell_type": "code",
   "execution_count": 171,
   "id": "1d17e2f0-7f60-487d-b906-1e38feca9ece",
   "metadata": {},
   "outputs": [
    {
     "name": "stdout",
     "output_type": "stream",
     "text": [
      "0\n",
      "1\n",
      "4\n",
      "9\n",
      "25\n",
      "36\n",
      "49\n",
      "64\n",
      "100\n",
      "121\n",
      "144\n",
      "169\n",
      "196\n"
     ]
    }
   ],
   "source": [
    "l1 = (i**2 for i in range(4))\n",
    "l2 = (i**2 for i in range(5, 9))\n",
    "l3 = (i**2 for i in range(10, 15))\n",
    "\n",
    "l = [l1, l2, l3]\n",
    "\n",
    "for item in chain(*l):\n",
    "    print(item)"
   ]
  },
  {
   "cell_type": "code",
   "execution_count": 172,
   "id": "65e5076b-325c-4434-b100-e18478281aa7",
   "metadata": {},
   "outputs": [
    {
     "name": "stdout",
     "output_type": "stream",
     "text": [
      "Help on class chain in module itertools:\n",
      "\n",
      "class chain(builtins.object)\n",
      " |  chain(*iterables)\n",
      " |\n",
      " |  Return a chain object whose .__next__() method returns elements from the\n",
      " |  first iterable until it is exhausted, then elements from the next\n",
      " |  iterable, until all of the iterables are exhausted.\n",
      " |\n",
      " |  Methods defined here:\n",
      " |\n",
      " |  __getattribute__(self, name, /)\n",
      " |      Return getattr(self, name).\n",
      " |\n",
      " |  __iter__(self, /)\n",
      " |      Implement iter(self).\n",
      " |\n",
      " |  __next__(self, /)\n",
      " |      Implement next(self).\n",
      " |\n",
      " |  __reduce__(self, /)\n",
      " |      Return state information for pickling.\n",
      " |\n",
      " |  __setstate__(self, object, /)\n",
      " |      Set state information for unpickling.\n",
      " |\n",
      " |  ----------------------------------------------------------------------\n",
      " |  Class methods defined here:\n",
      " |\n",
      " |  __class_getitem__(object, /)\n",
      " |      See PEP 585\n",
      " |\n",
      " |  from_iterable(iterable, /)\n",
      " |      Alternative chain() constructor taking a single iterable argument that evaluates lazily.\n",
      " |\n",
      " |  ----------------------------------------------------------------------\n",
      " |  Static methods defined here:\n",
      " |\n",
      " |  __new__(*args, **kwargs)\n",
      " |      Create and return a new object.  See help(type) for accurate signature.\n",
      "\n"
     ]
    }
   ],
   "source": [
    "help(chain)"
   ]
  },
  {
   "cell_type": "markdown",
   "id": "7b47c91e-3474-4a7a-bdca-1ada22411fb9",
   "metadata": {},
   "source": [
    "## USECASES OF CHAIN AND TEE\n",
    "| Tool                | What it does                        | Real-world use                                                                  |\n",
    "| ------------------- | ----------------------------------- | ------------------------------------------------------------------------------- |\n",
    "| `itertools.chain()` | Joins multiple iterables seamlessly | Combine data sources, flatten lists, merge files                                |\n",
    "| `itertools.tee()`   | Duplicates an iterator              | Split stream for two consumers, preview without consuming, pairwise comparisons |\n"
   ]
  },
  {
   "cell_type": "markdown",
   "id": "80400baa-7939-4664-abd5-da15cfaa6de4",
   "metadata": {},
   "source": [
    "# TEE"
   ]
  },
  {
   "cell_type": "code",
   "execution_count": 173,
   "id": "d40d08e6-2e62-44bc-9255-bb7feebeca39",
   "metadata": {},
   "outputs": [],
   "source": [
    "from itertools import tee"
   ]
  },
  {
   "cell_type": "code",
   "execution_count": 186,
   "id": "f5000adf-b699-420c-a04e-4dc4eded7485",
   "metadata": {},
   "outputs": [],
   "source": [
    "def squares(n):\n",
    "    for i in range(n):\n",
    "        yield i**2"
   ]
  },
  {
   "cell_type": "code",
   "execution_count": 187,
   "id": "7f308d3d-8c25-4762-ac9e-977403f6c5c8",
   "metadata": {},
   "outputs": [],
   "source": [
    "gen = squares(10)"
   ]
  },
  {
   "cell_type": "code",
   "execution_count": 188,
   "id": "91702ff6-5347-49b4-9aae-12024e3fb130",
   "metadata": {},
   "outputs": [
    {
     "data": {
      "text/plain": [
       "<generator object squares at 0x10ba15d80>"
      ]
     },
     "execution_count": 188,
     "metadata": {},
     "output_type": "execute_result"
    }
   ],
   "source": [
    "gen"
   ]
  },
  {
   "cell_type": "code",
   "execution_count": 189,
   "id": "ac835cbd-8e68-4f58-98f0-c80b3135464e",
   "metadata": {},
   "outputs": [],
   "source": [
    "iters = tee(gen, 3)"
   ]
  },
  {
   "cell_type": "code",
   "execution_count": 190,
   "id": "e8c2f2be-bfae-4ae4-95e7-c968fe0aec1f",
   "metadata": {},
   "outputs": [
    {
     "data": {
      "text/plain": [
       "(<itertools._tee at 0x10b5c9a00>,\n",
       " <itertools._tee at 0x10b5c8f40>,\n",
       " <itertools._tee at 0x10b5c92c0>)"
      ]
     },
     "execution_count": 190,
     "metadata": {},
     "output_type": "execute_result"
    }
   ],
   "source": [
    "iters"
   ]
  },
  {
   "cell_type": "code",
   "execution_count": 191,
   "id": "27b92d13-ed73-4a55-9ee6-68305caa576d",
   "metadata": {},
   "outputs": [
    {
     "data": {
      "text/plain": [
       "False"
      ]
     },
     "execution_count": 191,
     "metadata": {},
     "output_type": "execute_result"
    }
   ],
   "source": [
    "iters[0] is iters[1]"
   ]
  },
  {
   "cell_type": "code",
   "execution_count": 192,
   "id": "55efe689-dbfe-4c0b-8551-9bddd35daa4f",
   "metadata": {},
   "outputs": [
    {
     "data": {
      "text/plain": [
       "0"
      ]
     },
     "execution_count": 192,
     "metadata": {},
     "output_type": "execute_result"
    }
   ],
   "source": [
    "next(iters[0])"
   ]
  },
  {
   "cell_type": "code",
   "execution_count": 193,
   "id": "3e40a9c8-b248-4248-b959-37b931375679",
   "metadata": {},
   "outputs": [
    {
     "data": {
      "text/plain": [
       "1"
      ]
     },
     "execution_count": 193,
     "metadata": {},
     "output_type": "execute_result"
    }
   ],
   "source": [
    "next(iters[0])"
   ]
  },
  {
   "cell_type": "code",
   "execution_count": 194,
   "id": "43522de3-0521-44ee-ad19-ad6162474e90",
   "metadata": {},
   "outputs": [
    {
     "name": "stdout",
     "output_type": "stream",
     "text": [
      "4\n",
      "9\n",
      "16\n",
      "25\n",
      "36\n"
     ]
    }
   ],
   "source": [
    "for _ in range(5):\n",
    "    print(next(iters[0]))"
   ]
  },
  {
   "cell_type": "code",
   "execution_count": 196,
   "id": "cfe89c0b-d152-4587-bc18-284fa77577b9",
   "metadata": {},
   "outputs": [
    {
     "data": {
      "text/plain": [
       "0"
      ]
     },
     "execution_count": 196,
     "metadata": {},
     "output_type": "execute_result"
    }
   ],
   "source": [
    "next(iters[1])"
   ]
  },
  {
   "cell_type": "markdown",
   "id": "da18a7da-4d3c-4081-a282-7ab367ae52ce",
   "metadata": {},
   "source": [
    "# ZIP"
   ]
  },
  {
   "cell_type": "code",
   "execution_count": 198,
   "id": "a619c83a-e455-4f66-9162-1eb195ffb5c9",
   "metadata": {},
   "outputs": [
    {
     "data": {
      "text/plain": [
       "[(1, 'a'), (2, 'b'), (3, 'c')]"
      ]
     },
     "execution_count": 198,
     "metadata": {},
     "output_type": "execute_result"
    }
   ],
   "source": [
    "list(zip([1, 2, 3], ['a' , 'b', 'c', 'd']))"
   ]
  },
  {
   "cell_type": "code",
   "execution_count": 200,
   "id": "828a5a76-5de7-43a7-8969-158456c6280b",
   "metadata": {},
   "outputs": [
    {
     "data": {
      "text/plain": [
       "[(1, 'a'), (2, 'b'), (3, 'c'), (None, 'd')]"
      ]
     },
     "execution_count": 200,
     "metadata": {},
     "output_type": "execute_result"
    }
   ],
   "source": [
    "from itertools import zip_longest\n",
    "list(zip_longest([1, 2, 3], ['a' , 'b', 'c', 'd']))"
   ]
  },
  {
   "cell_type": "markdown",
   "id": "15654056-d742-47a3-afb1-22b45236ff7d",
   "metadata": {},
   "source": [
    "# GROUPING"
   ]
  },
  {
   "cell_type": "code",
   "execution_count": 201,
   "id": "af1d9d37-abd6-4fa8-be65-5c5373e08560",
   "metadata": {},
   "outputs": [],
   "source": [
    "import itertools"
   ]
  },
  {
   "cell_type": "code",
   "execution_count": 203,
   "id": "63509591-879c-4694-92be-f41e2149e609",
   "metadata": {},
   "outputs": [
    {
     "name": "stdout",
     "output_type": "stream",
     "text": [
      "make,model\n",
      " ACURA,ILX\n",
      " ACURA,MDX\n",
      " ACURA,RDX\n",
      " ACURA,RLX\n",
      " ACURA,TL\n",
      " ACURA,TSX\n",
      " ALFA ROMEO,4C\n",
      " ALFA ROMEO,GIULIETTA\n",
      " APRILIA,CAPONORD 1200\n",
      " "
     ]
    }
   ],
   "source": [
    "with open('data/cars.csv') as f:\n",
    "    for row in itertools.islice(f, 0, 10):\n",
    "        print(row, end=' ')"
   ]
  },
  {
   "cell_type": "markdown",
   "id": "850e73d6-560d-4d6c-a944-2928696bbbea",
   "metadata": {},
   "source": [
    "# we want to find out how many of each makes we have"
   ]
  },
  {
   "cell_type": "code",
   "execution_count": 205,
   "id": "0dd24fc7-d472-43ea-ad09-e30519d7b033",
   "metadata": {},
   "outputs": [
    {
     "name": "stdout",
     "output_type": "stream",
     "text": [
      "Help on class groupby in module itertools:\n",
      "\n",
      "class groupby(builtins.object)\n",
      " |  groupby(iterable, key=None)\n",
      " |\n",
      " |  make an iterator that returns consecutive keys and groups from the iterable\n",
      " |\n",
      " |  iterable\n",
      " |    Elements to divide into groups according to the key function.\n",
      " |  key\n",
      " |    A function for computing the group category for each element.\n",
      " |    If the key function is not specified or is None, the element itself\n",
      " |    is used for grouping.\n",
      " |\n",
      " |  Methods defined here:\n",
      " |\n",
      " |  __getattribute__(self, name, /)\n",
      " |      Return getattr(self, name).\n",
      " |\n",
      " |  __iter__(self, /)\n",
      " |      Implement iter(self).\n",
      " |\n",
      " |  __next__(self, /)\n",
      " |      Implement next(self).\n",
      " |\n",
      " |  __reduce__(self, /)\n",
      " |      Return state information for pickling.\n",
      " |\n",
      " |  __setstate__(self, object, /)\n",
      " |      Set state information for unpickling.\n",
      " |\n",
      " |  ----------------------------------------------------------------------\n",
      " |  Static methods defined here:\n",
      " |\n",
      " |  __new__(*args, **kwargs)\n",
      " |      Create and return a new object.  See help(type) for accurate signature.\n",
      "\n"
     ]
    }
   ],
   "source": [
    "help(itertools.groupby)"
   ]
  },
  {
   "cell_type": "code",
   "execution_count": 206,
   "id": "f2557bc5-49f5-4c73-9ab2-d3bd021dd29c",
   "metadata": {},
   "outputs": [],
   "source": [
    "with open('data/cars.csv') as f:\n",
    "    next(f)\n",
    "    groups = itertools.groupby(f, key=lambda x:x[0])"
   ]
  },
  {
   "cell_type": "code",
   "execution_count": 207,
   "id": "9dee73e2-2706-4f94-95b0-2653d3a4cc56",
   "metadata": {},
   "outputs": [
    {
     "data": {
      "text/plain": [
       "itertools.groupby"
      ]
     },
     "execution_count": 207,
     "metadata": {},
     "output_type": "execute_result"
    }
   ],
   "source": [
    "type(groups)"
   ]
  },
  {
   "cell_type": "code",
   "execution_count": 208,
   "id": "cc08767e-4f13-4678-baec-f4873e43c7b4",
   "metadata": {},
   "outputs": [
    {
     "ename": "ValueError",
     "evalue": "I/O operation on closed file.",
     "output_type": "error",
     "traceback": [
      "\u001b[31m---------------------------------------------------------------------------\u001b[39m",
      "\u001b[31mValueError\u001b[39m                                Traceback (most recent call last)",
      "\u001b[36mCell\u001b[39m\u001b[36m \u001b[39m\u001b[32mIn[208]\u001b[39m\u001b[32m, line 1\u001b[39m\n\u001b[32m----> \u001b[39m\u001b[32m1\u001b[39m \u001b[38;5;28;43;01mfor\u001b[39;49;00m\u001b[43m \u001b[49m\u001b[43mgroup\u001b[49m\u001b[43m \u001b[49m\u001b[38;5;129;43;01min\u001b[39;49;00m\u001b[43m \u001b[49m\u001b[43mgroups\u001b[49m\u001b[43m:\u001b[49m\n\u001b[32m      2\u001b[39m \u001b[43m    \u001b[49m\u001b[38;5;28;43mprint\u001b[39;49m\u001b[43m(\u001b[49m\u001b[33;43mf\u001b[39;49m\u001b[33;43m'\u001b[39;49m\u001b[33;43mGroup: \u001b[39;49m\u001b[38;5;132;43;01m{\u001b[39;49;00m\u001b[43mgroup\u001b[49m\u001b[38;5;132;43;01m}\u001b[39;49;00m\u001b[33;43m'\u001b[39;49m\u001b[43m)\u001b[49m\n\u001b[32m      3\u001b[39m \u001b[43m    \u001b[49m\u001b[38;5;28;43;01mwhile\u001b[39;49;00m\u001b[43m \u001b[49m\u001b[38;5;28;43;01mTrue\u001b[39;49;00m\u001b[43m:\u001b[49m\n",
      "\u001b[31mValueError\u001b[39m: I/O operation on closed file."
     ]
    }
   ],
   "source": [
    "for group in groups:\n",
    "    print(f'Group: {group}')\n",
    "    while True:\n",
    "        try:\n",
    "            print(next(group))\n",
    "        except StopIteration:\n",
    "            break "
   ]
  },
  {
   "cell_type": "markdown",
   "id": "6d51a672-09d3-415f-af0f-a3ce3104d5f8",
   "metadata": {},
   "source": [
    "### its because everything returned by any function in itertools is a lazy iterator"
   ]
  },
  {
   "cell_type": "code",
   "execution_count": 216,
   "id": "e18286e6-cb6d-48c0-8e45-a77c0aa33937",
   "metadata": {},
   "outputs": [
    {
     "name": "stdout",
     "output_type": "stream",
     "text": [
      "ACURA: 6\n",
      "ALFA ROMEO: 2\n",
      "APRILIA: 4\n",
      "ARCTIC CAT: 96\n",
      "ARGO: 4\n",
      "ASTON MARTIN: 5\n",
      "AUDI: 27\n",
      "BENTLEY: 2\n",
      "BLUE BIRD: 1\n",
      "BMW: 86\n",
      "BUGATTI: 1\n",
      "BUICK: 5\n",
      "CADILLAC: 7\n",
      "CAN-AM: 61\n",
      "CHEVROLET: 33\n",
      "CHRYSLER: 2\n",
      "DODGE: 7\n",
      "DUCATI: 4\n",
      "FERRARI: 6\n",
      "FIAT: 2\n",
      "FORD: 34\n",
      "FREIGHTLINER: 7\n",
      "GMC: 12\n",
      "HARLEY DAVIDSON: 29\n",
      "HINO: 7\n",
      "HONDA: 91\n",
      "HUSABERG: 4\n",
      "HUSQVARNA: 9\n",
      "HYUNDAI: 13\n",
      "INDIAN: 3\n",
      "INFINITI: 8\n",
      "JAGUAR: 9\n",
      "JEEP: 5\n",
      "JOHN DEERE: 19\n",
      "KAWASAKI: 59\n",
      "KENWORTH: 11\n",
      "KIA: 10\n",
      "KTM: 13\n",
      "KUBOTA: 4\n",
      "KYMCO: 28\n",
      "LAMBORGHINI: 2\n",
      "LAND ROVER: 6\n",
      "LEXUS: 14\n",
      "LINCOLN: 6\n",
      "LOTUS: 1\n",
      "MACK: 9\n",
      "MASERATI: 3\n",
      "MAZDA: 5\n",
      "MCLAREN: 2\n",
      "MERCEDES-BENZ: 60\n",
      "MINI: 3\n",
      "MITSUBISHI: 8\n",
      "NISSAN: 24\n",
      "PEUGEOT: 3\n",
      "POLARIS: 101\n",
      "PORSCHE: 4\n",
      "RAM: 6\n",
      "RENAULT: 4\n",
      "ROLLS ROYCE: 3\n",
      "SCION: 5\n",
      "SEAT: 3\n",
      "SKI-DOO: 67\n",
      "SMART: 1\n",
      "SRT: 1\n",
      "SUBARU: 10\n",
      "SUZUKI: 48\n",
      "TESLA: 2\n",
      "TOYOTA: 19\n",
      "TRIUMPH: 10\n",
      "VESPA: 4\n",
      "VICTORY: 14\n",
      "VOLKSWAGEN: 16\n",
      "VOLVO: 8\n",
      "YAMAHA: 110\n"
     ]
    }
   ],
   "source": [
    "from collections import defaultdict\n",
    "\n",
    "makes = defaultdict(int)\n",
    "\n",
    "with open('data/cars.csv') as f:\n",
    "    next(f)\n",
    "    for row in f:\n",
    "        make, _ = row.strip('\\n').split(',')\n",
    "        makes[make] += 1\n",
    "\n",
    "for key, value in makes.items():\n",
    "    print(f'{key}: {value}')"
   ]
  },
  {
   "cell_type": "markdown",
   "id": "bc6ee9fe-aea4-4a42-8f21-134b2a943d4d",
   "metadata": {},
   "source": [
    "# we can use groups for this"
   ]
  },
  {
   "cell_type": "code",
   "execution_count": 217,
   "id": "81790232-3cd3-44dc-b4c5-7475e50737d5",
   "metadata": {},
   "outputs": [
    {
     "data": {
      "text/plain": [
       "[(1, <itertools._grouper at 0x10b880ee0>),\n",
       " (2, <itertools._grouper at 0x10b8808e0>),\n",
       " (3, <itertools._grouper at 0x10b4ba1a0>)]"
      ]
     },
     "execution_count": 217,
     "metadata": {},
     "output_type": "execute_result"
    }
   ],
   "source": [
    "data = (1, 2, 2, 3, 3, 3)\n",
    "\n",
    "list(itertools.groupby(data))"
   ]
  },
  {
   "cell_type": "code",
   "execution_count": 218,
   "id": "56dbbdac-f71f-4800-a1aa-b5f8719e0b3c",
   "metadata": {},
   "outputs": [
    {
     "data": {
      "text/plain": [
       "[(1, <itertools._grouper at 0x10b4ba2f0>),\n",
       " (2, <itertools._grouper at 0x10b4ba200>),\n",
       " (3, <itertools._grouper at 0x10b4ba230>),\n",
       " (1, <itertools._grouper at 0x10b4ba170>)]"
      ]
     },
     "execution_count": 218,
     "metadata": {},
     "output_type": "execute_result"
    }
   ],
   "source": [
    "# iterator(data) needs to be sorted before groupby\n",
    "data = (1, 2, 2, 3, 3, 3, 1)\n",
    "\n",
    "list(itertools.groupby(data))"
   ]
  },
  {
   "cell_type": "code",
   "execution_count": 224,
   "id": "f28de4c3-c941-4823-8952-9d8c693dc9f5",
   "metadata": {},
   "outputs": [
    {
     "name": "stdout",
     "output_type": "stream",
     "text": [
      "group name: 1, iterating in group: [1]\n",
      "group name: 2, iterating in group: [2, 2]\n",
      "group name: 3, iterating in group: [3, 3, 3]\n"
     ]
    }
   ],
   "source": [
    "data = (1, 2, 2, 3, 3, 3)\n",
    "\n",
    "it = itertools.groupby(data)\n",
    "for group in it:\n",
    "    \n",
    "    print(f'group name: {group[0]}, iterating in group: {list(group[1])}')"
   ]
  },
  {
   "cell_type": "code",
   "execution_count": 225,
   "id": "e87b31b9-605d-4edb-b7b2-1bf6edefe0ab",
   "metadata": {},
   "outputs": [
    {
     "data": {
      "text/plain": [
       "((1, 'abc'), (1, 'bcd'), (2, 'python'), (2, 'rust'), (2, 'zig'), (3, 'ice'))"
      ]
     },
     "execution_count": 225,
     "metadata": {},
     "output_type": "execute_result"
    }
   ],
   "source": [
    "data = (\n",
    "    (1, 'abc'),\n",
    "    (1, 'bcd'),\n",
    "    (2, 'python'),\n",
    "    (2, 'rust'),\n",
    "    (2, 'zig'),\n",
    "    (3, 'ice'),\n",
    ")\n",
    "\n",
    "data"
   ]
  },
  {
   "cell_type": "code",
   "execution_count": 226,
   "id": "862e9fdd-d2e4-41fc-be49-5a1287c2ed1f",
   "metadata": {},
   "outputs": [],
   "source": [
    "groups = itertools.groupby(data, key=lambda x: x[0])"
   ]
  },
  {
   "cell_type": "code",
   "execution_count": 227,
   "id": "b894f381-f683-4376-bea1-bf3b4dfeb502",
   "metadata": {},
   "outputs": [
    {
     "data": {
      "text/plain": [
       "[(1, <itertools._grouper at 0x10b904040>),\n",
       " (2, <itertools._grouper at 0x10b9041f0>),\n",
       " (3, <itertools._grouper at 0x10b904370>)]"
      ]
     },
     "execution_count": 227,
     "metadata": {},
     "output_type": "execute_result"
    }
   ],
   "source": [
    "list(groups)"
   ]
  },
  {
   "cell_type": "code",
   "execution_count": 228,
   "id": "8141050f-39e1-4e41-b9b1-f9a8828704fd",
   "metadata": {},
   "outputs": [
    {
     "data": {
      "text/plain": [
       "[]"
      ]
     },
     "execution_count": 228,
     "metadata": {},
     "output_type": "execute_result"
    }
   ],
   "source": [
    "# exhausted now \n",
    "list(groups)"
   ]
  },
  {
   "cell_type": "code",
   "execution_count": 230,
   "id": "b01fe8e4-e3a5-4e93-958e-c427d8ca0d7b",
   "metadata": {},
   "outputs": [
    {
     "name": "stdout",
     "output_type": "stream",
     "text": [
      "1 [(1, 'abc'), (1, 'bcd')]\n",
      "2 [(2, 'python'), (2, 'rust'), (2, 'zig')]\n",
      "3 [(3, 'ice')]\n"
     ]
    }
   ],
   "source": [
    "groups = itertools.groupby(data, key=lambda x: x[0])\n",
    "for group_key, sub_iter in groups:\n",
    "    print(group_key, list(sub_iter))"
   ]
  },
  {
   "cell_type": "code",
   "execution_count": 232,
   "id": "3aec8482-c70c-474c-9131-001720bed288",
   "metadata": {},
   "outputs": [],
   "source": [
    "def gen_groups():\n",
    "    # key = 1\n",
    "    for key in range(1, 4):\n",
    "        for i in range(3):\n",
    "            yield(key, i)\n",
    "\n",
    "gg_iter = gen_groups()"
   ]
  },
  {
   "cell_type": "code",
   "execution_count": 233,
   "id": "0146b2f7-df20-4b9f-9853-62054171fbdf",
   "metadata": {},
   "outputs": [
    {
     "data": {
      "text/plain": [
       "generator"
      ]
     },
     "execution_count": 233,
     "metadata": {},
     "output_type": "execute_result"
    }
   ],
   "source": [
    "type(gg_iter)"
   ]
  },
  {
   "cell_type": "code",
   "execution_count": 234,
   "id": "2c3db4b7-90f2-4b81-b537-7b4bcf52c049",
   "metadata": {},
   "outputs": [
    {
     "name": "stdout",
     "output_type": "stream",
     "text": [
      "(1, 0)\n",
      "(1, 1)\n",
      "(1, 2)\n",
      "(2, 0)\n",
      "(2, 1)\n",
      "(2, 2)\n",
      "(3, 0)\n",
      "(3, 1)\n",
      "(3, 2)\n"
     ]
    }
   ],
   "source": [
    "for i in gg_iter:\n",
    "    print(i)"
   ]
  },
  {
   "cell_type": "code",
   "execution_count": 235,
   "id": "08ed08f3-516b-4105-9142-264e012c9cbe",
   "metadata": {},
   "outputs": [
    {
     "ename": "StopIteration",
     "evalue": "",
     "output_type": "error",
     "traceback": [
      "\u001b[31m---------------------------------------------------------------------------\u001b[39m",
      "\u001b[31mStopIteration\u001b[39m                             Traceback (most recent call last)",
      "\u001b[36mCell\u001b[39m\u001b[36m \u001b[39m\u001b[32mIn[235]\u001b[39m\u001b[32m, line 1\u001b[39m\n\u001b[32m----> \u001b[39m\u001b[32m1\u001b[39m \u001b[38;5;28;43mnext\u001b[39;49m\u001b[43m(\u001b[49m\u001b[43mgg_iter\u001b[49m\u001b[43m)\u001b[49m\n",
      "\u001b[31mStopIteration\u001b[39m: "
     ]
    }
   ],
   "source": [
    "next(gg_iter)"
   ]
  },
  {
   "cell_type": "code",
   "execution_count": 247,
   "id": "19096032-6e83-4879-b6bf-b50af03ba5b1",
   "metadata": {},
   "outputs": [
    {
     "name": "stdout",
     "output_type": "stream",
     "text": [
      "group: 1\n",
      "key: 1, value: 0\n",
      "key: 1, value: 1\n",
      "key: 1, value: 2\n",
      "group: 2\n",
      "key: 2, value: 0\n",
      "key: 2, value: 1\n",
      "key: 2, value: 2\n",
      "group: 3\n",
      "key: 3, value: 0\n",
      "key: 3, value: 1\n",
      "key: 3, value: 2\n"
     ]
    }
   ],
   "source": [
    "groups = itertools.groupby(gen_groups(), key=lambda x: x[0])\n",
    "\n",
    "for group_key, iter_list in groups:\n",
    "    print(f'group: {group_key}')\n",
    "    for _key, _value in iter_list:\n",
    "        print(f'key: {_key}, value: {_value}')\n",
    "        "
   ]
  },
  {
   "cell_type": "code",
   "execution_count": 252,
   "id": "1160920b-696c-4c26-a951-05be57cd8785",
   "metadata": {},
   "outputs": [
    {
     "name": "stdout",
     "output_type": "stream",
     "text": [
      "ACURA: 6\n",
      "ALFA ROMEO: 2\n",
      "APRILIA: 4\n",
      "ARCTIC CAT: 96\n",
      "ARGO: 4\n",
      "ASTON MARTIN: 5\n",
      "AUDI: 27\n",
      "BENTLEY: 2\n",
      "BLUE BIRD: 1\n",
      "BMW: 86\n",
      "BUGATTI: 1\n",
      "BUICK: 5\n",
      "CADILLAC: 7\n",
      "CAN-AM: 61\n",
      "CHEVROLET: 33\n",
      "CHRYSLER: 2\n",
      "DODGE: 7\n",
      "DUCATI: 4\n",
      "FERRARI: 6\n",
      "FIAT: 2\n",
      "FORD: 34\n",
      "FREIGHTLINER: 7\n",
      "GMC: 12\n",
      "HARLEY DAVIDSON: 29\n",
      "HINO: 7\n",
      "HONDA: 91\n",
      "HUSABERG: 4\n",
      "HUSQVARNA: 9\n",
      "HYUNDAI: 13\n",
      "INDIAN: 3\n",
      "INFINITI: 8\n",
      "JAGUAR: 9\n",
      "JEEP: 5\n",
      "JOHN DEERE: 19\n",
      "KAWASAKI: 59\n",
      "KENWORTH: 11\n",
      "KIA: 10\n",
      "KTM: 13\n",
      "KUBOTA: 4\n",
      "KYMCO: 28\n",
      "LAMBORGHINI: 2\n",
      "LAND ROVER: 6\n",
      "LEXUS: 14\n",
      "LINCOLN: 6\n",
      "LOTUS: 1\n",
      "MACK: 9\n",
      "MASERATI: 3\n",
      "MAZDA: 5\n",
      "MCLAREN: 2\n",
      "MERCEDES-BENZ: 60\n",
      "MINI: 3\n",
      "MITSUBISHI: 8\n",
      "NISSAN: 24\n",
      "PEUGEOT: 3\n",
      "POLARIS: 101\n",
      "PORSCHE: 4\n",
      "RAM: 6\n",
      "RENAULT: 4\n",
      "ROLLS ROYCE: 3\n",
      "SCION: 5\n",
      "SEAT: 3\n",
      "SKI-DOO: 67\n",
      "SMART: 1\n",
      "SRT: 1\n",
      "SUBARU: 10\n",
      "SUZUKI: 48\n",
      "TESLA: 2\n",
      "TOYOTA: 19\n",
      "TRIUMPH: 10\n",
      "VESPA: 4\n",
      "VICTORY: 14\n",
      "VOLKSWAGEN: 16\n",
      "VOLVO: 8\n",
      "YAMAHA: 110\n"
     ]
    }
   ],
   "source": [
    "with open('data/cars.csv') as f:\n",
    "    next(f)\n",
    "    groups = itertools.groupby(f, key=lambda x: x.split(',')[0])\n",
    "    for group_key, iter_list in groups:\n",
    "        print(f'{group_key}: {len(list(iter_list))}')"
   ]
  },
  {
   "cell_type": "markdown",
   "id": "9df11951-79c8-4e91-8723-c5f654506ee8",
   "metadata": {},
   "source": [
    "# but this persists the list what if i want an iterable out of it so i can get values as i need ?"
   ]
  },
  {
   "cell_type": "code",
   "execution_count": 256,
   "id": "d05b7f17-27eb-4fef-b82e-c6d71a840c6a",
   "metadata": {},
   "outputs": [],
   "source": [
    "with open('data/cars.csv') as f:\n",
    "    next(f)\n",
    "    groups = itertools.groupby(f, key=lambda x: x.split(',')[0])\n",
    "    result = ((group_key, sum(1 for item in iter_list)) for group_key, iter_list in groups)"
   ]
  },
  {
   "cell_type": "code",
   "execution_count": 257,
   "id": "864c63ca-2ba0-4955-a85d-0ac265f8610d",
   "metadata": {},
   "outputs": [
    {
     "data": {
      "text/plain": [
       "generator"
      ]
     },
     "execution_count": 257,
     "metadata": {},
     "output_type": "execute_result"
    }
   ],
   "source": [
    "type(result)"
   ]
  },
  {
   "cell_type": "code",
   "execution_count": 260,
   "id": "2b43c2e8-8a0d-4ff3-85a5-a14d21185543",
   "metadata": {},
   "outputs": [
    {
     "ename": "ValueError",
     "evalue": "I/O operation on closed file.",
     "output_type": "error",
     "traceback": [
      "\u001b[31m---------------------------------------------------------------------------\u001b[39m",
      "\u001b[31mValueError\u001b[39m                                Traceback (most recent call last)",
      "\u001b[36mCell\u001b[39m\u001b[36m \u001b[39m\u001b[32mIn[260]\u001b[39m\u001b[32m, line 2\u001b[39m\n\u001b[32m      1\u001b[39m \u001b[38;5;28;01mfor\u001b[39;00m _ \u001b[38;5;129;01min\u001b[39;00m \u001b[38;5;28mrange\u001b[39m(\u001b[32m10\u001b[39m):\n\u001b[32m----> \u001b[39m\u001b[32m2\u001b[39m     \u001b[38;5;28mprint\u001b[39m(\u001b[38;5;28;43mnext\u001b[39;49m\u001b[43m(\u001b[49m\u001b[43mresult\u001b[49m\u001b[43m)\u001b[49m)\n",
      "\u001b[36mCell\u001b[39m\u001b[36m \u001b[39m\u001b[32mIn[256]\u001b[39m\u001b[32m, line 4\u001b[39m, in \u001b[36m<genexpr>\u001b[39m\u001b[34m(.0)\u001b[39m\n\u001b[32m      2\u001b[39m \u001b[38;5;28mnext\u001b[39m(f)\n\u001b[32m      3\u001b[39m groups = itertools.groupby(f, key=\u001b[38;5;28;01mlambda\u001b[39;00m x: x.split(\u001b[33m'\u001b[39m\u001b[33m,\u001b[39m\u001b[33m'\u001b[39m)[\u001b[32m0\u001b[39m])\n\u001b[32m----> \u001b[39m\u001b[32m4\u001b[39m result = \u001b[43m(\u001b[49m\u001b[43m(\u001b[49m\u001b[43mgroup_key\u001b[49m\u001b[43m,\u001b[49m\u001b[43m \u001b[49m\u001b[38;5;28;43msum\u001b[39;49m\u001b[43m(\u001b[49m\u001b[32;43m1\u001b[39;49m\u001b[43m \u001b[49m\u001b[38;5;28;43;01mfor\u001b[39;49;00m\u001b[43m \u001b[49m\u001b[43mitem\u001b[49m\u001b[43m \u001b[49m\u001b[38;5;129;43;01min\u001b[39;49;00m\u001b[43m \u001b[49m\u001b[43miter_list\u001b[49m\u001b[43m)\u001b[49m\u001b[43m)\u001b[49m\u001b[43m \u001b[49m\u001b[38;5;28;43;01mfor\u001b[39;49;00m\u001b[43m \u001b[49m\u001b[43mgroup_key\u001b[49m\u001b[43m,\u001b[49m\u001b[43m \u001b[49m\u001b[43miter_list\u001b[49m\u001b[43m \u001b[49m\u001b[38;5;129;43;01min\u001b[39;49;00m\u001b[43m \u001b[49m\u001b[43mgroups\u001b[49m\u001b[43m)\u001b[49m\n",
      "\u001b[31mValueError\u001b[39m: I/O operation on closed file."
     ]
    }
   ],
   "source": [
    "for _ in range(10):\n",
    "    print(next(result))"
   ]
  },
  {
   "cell_type": "markdown",
   "id": "e53815f0-3039-45ac-a3f3-512d36eb0499",
   "metadata": {},
   "source": [
    "# everything is a lazy iterator, so without persisting anything we have to keep the file open, actual file is read and compute done when result is asked for. "
   ]
  },
  {
   "cell_type": "code",
   "execution_count": 262,
   "id": "0f327cba-37c7-4a39-b6b2-a17b9ba19a79",
   "metadata": {},
   "outputs": [
    {
     "name": "stdout",
     "output_type": "stream",
     "text": [
      "('ACURA', 6)\n",
      "('ALFA ROMEO', 2)\n",
      "('APRILIA', 4)\n",
      "('ARCTIC CAT', 96)\n",
      "('ARGO', 4)\n",
      "('ASTON MARTIN', 5)\n",
      "('AUDI', 27)\n",
      "('BENTLEY', 2)\n",
      "('BLUE BIRD', 1)\n",
      "('BMW', 86)\n"
     ]
    }
   ],
   "source": [
    "with open('data/cars.csv') as f:\n",
    "    next(f)\n",
    "    groups = itertools.groupby(f, key=lambda x: x.split(',')[0])\n",
    "    result = ((group_key, sum(1 for item in iter_list)) for group_key, iter_list in groups)\n",
    "    for _ in range(10):\n",
    "        print(next(result))"
   ]
  },
  {
   "cell_type": "markdown",
   "id": "0f15504e-a072-469b-8335-a099afdac753",
   "metadata": {},
   "source": [
    "# Cartesian product"
   ]
  },
  {
   "cell_type": "code",
   "execution_count": 265,
   "id": "82069b40-5ab8-4e51-8233-3456a1087e14",
   "metadata": {},
   "outputs": [
    {
     "data": {
      "text/plain": [
       "[(1, 'a'),\n",
       " (1, 'b'),\n",
       " (1, 'c'),\n",
       " (1, 'd'),\n",
       " (2, 'a'),\n",
       " (2, 'b'),\n",
       " (2, 'c'),\n",
       " (2, 'd'),\n",
       " (3, 'a'),\n",
       " (3, 'b'),\n",
       " (3, 'c'),\n",
       " (3, 'd')]"
      ]
     },
     "execution_count": 265,
     "metadata": {},
     "output_type": "execute_result"
    }
   ],
   "source": [
    "l1 = [1, 2, 3]\n",
    "l2 = ['a', 'b', 'c', 'd']\n",
    "\n",
    "def cartesian_product(*args):\n",
    "    for x in args[0]:\n",
    "        for y in args[1]:\n",
    "            yield(x, y)\n",
    "\n",
    "list(cartesian_product(l1, l2))"
   ]
  },
  {
   "cell_type": "code",
   "execution_count": 268,
   "id": "b1a78a85-5e42-47c0-b710-ee1ce89341a4",
   "metadata": {},
   "outputs": [
    {
     "data": {
      "text/plain": [
       "itertools.product"
      ]
     },
     "execution_count": 268,
     "metadata": {},
     "output_type": "execute_result"
    }
   ],
   "source": [
    "p = itertools.product(l1, l2)\n",
    "type(p)"
   ]
  },
  {
   "cell_type": "code",
   "execution_count": 269,
   "id": "fa32ff24-4f1e-4022-9d28-7a8a31016079",
   "metadata": {},
   "outputs": [
    {
     "data": {
      "text/plain": [
       "[(1, 'a'),\n",
       " (1, 'b'),\n",
       " (1, 'c'),\n",
       " (1, 'd'),\n",
       " (2, 'a'),\n",
       " (2, 'b'),\n",
       " (2, 'c'),\n",
       " (2, 'd'),\n",
       " (3, 'a'),\n",
       " (3, 'b'),\n",
       " (3, 'c'),\n",
       " (3, 'd')]"
      ]
     },
     "execution_count": 269,
     "metadata": {},
     "output_type": "execute_result"
    }
   ],
   "source": [
    "list(p)"
   ]
  },
  {
   "cell_type": "code",
   "execution_count": 273,
   "id": "8d19c5b2-d82e-4027-a714-1a95daf06dee",
   "metadata": {},
   "outputs": [
    {
     "data": {
      "text/plain": [
       "[('a', 'b', 'c', 'd'),\n",
       " ('a', 'b', 'd', 'c'),\n",
       " ('a', 'c', 'b', 'd'),\n",
       " ('a', 'c', 'd', 'b'),\n",
       " ('a', 'd', 'b', 'c'),\n",
       " ('a', 'd', 'c', 'b'),\n",
       " ('b', 'a', 'c', 'd'),\n",
       " ('b', 'a', 'd', 'c'),\n",
       " ('b', 'c', 'a', 'd'),\n",
       " ('b', 'c', 'd', 'a'),\n",
       " ('b', 'd', 'a', 'c'),\n",
       " ('b', 'd', 'c', 'a'),\n",
       " ('c', 'a', 'b', 'd'),\n",
       " ('c', 'a', 'd', 'b'),\n",
       " ('c', 'b', 'a', 'd'),\n",
       " ('c', 'b', 'd', 'a'),\n",
       " ('c', 'd', 'a', 'b'),\n",
       " ('c', 'd', 'b', 'a'),\n",
       " ('d', 'a', 'b', 'c'),\n",
       " ('d', 'a', 'c', 'b'),\n",
       " ('d', 'b', 'a', 'c'),\n",
       " ('d', 'b', 'c', 'a'),\n",
       " ('d', 'c', 'a', 'b'),\n",
       " ('d', 'c', 'b', 'a')]"
      ]
     },
     "execution_count": 273,
     "metadata": {},
     "output_type": "execute_result"
    }
   ],
   "source": [
    "l1 = ['a', 'b', 'c', 'd']\n",
    "list(itertools.permutations(l1))"
   ]
  },
  {
   "cell_type": "code",
   "execution_count": 275,
   "id": "d5e154e1-bb2f-47f3-b0e7-4501c8f31495",
   "metadata": {},
   "outputs": [
    {
     "data": {
      "text/plain": [
       "[('a', 'b'), ('a', 'c'), ('a', 'd'), ('b', 'c'), ('b', 'd'), ('c', 'd')]"
      ]
     },
     "execution_count": 275,
     "metadata": {},
     "output_type": "execute_result"
    }
   ],
   "source": [
    "# combinatinos of length 2\n",
    "list(itertools.combinations(l1, 2))"
   ]
  },
  {
   "cell_type": "code",
   "execution_count": 276,
   "id": "d5c9147d-57f6-4b5f-a315-a808b3bd37db",
   "metadata": {},
   "outputs": [
    {
     "data": {
      "text/plain": [
       "[('a', 'b', 'c'), ('a', 'b', 'd'), ('a', 'c', 'd'), ('b', 'c', 'd')]"
      ]
     },
     "execution_count": 276,
     "metadata": {},
     "output_type": "execute_result"
    }
   ],
   "source": [
    "list(itertools.combinations(l1, 3))"
   ]
  },
  {
   "cell_type": "markdown",
   "id": "3ca5c959-6a12-44a9-a84d-21836df0bb6c",
   "metadata": {},
   "source": [
    "# prob of pulling 4 Aces from a deck of cards"
   ]
  },
  {
   "cell_type": "code",
   "execution_count": 300,
   "id": "2ad76c22-772b-4842-8f26-d22070d75882",
   "metadata": {},
   "outputs": [
    {
     "data": {
      "text/plain": [
       "['2S', '3S', '4S', '5S', '6S']"
      ]
     },
     "execution_count": 300,
     "metadata": {},
     "output_type": "execute_result"
    }
   ],
   "source": [
    "RANKS = tuple(map(str, range(2, 11))) + tuple('JQKA')\n",
    "SUITS = 'SHDC'\n",
    "\n",
    "deck = [rank + suit for suit in SUITS for rank in RANKS]\n",
    "deck[0:5]"
   ]
  },
  {
   "cell_type": "code",
   "execution_count": 301,
   "id": "900f02c4-8ca5-4153-bb2e-b3d28fc4d949",
   "metadata": {},
   "outputs": [
    {
     "name": "stdout",
     "output_type": "stream",
     "text": [
      "3.6937852063902484e-06\n"
     ]
    }
   ],
   "source": [
    "card_dealt = itertools.combinations(deck, 4)\n",
    "\n",
    "outcome, total = 0, 0\n",
    "\n",
    "for card1, card2, card3, card4 in card_dealt:\n",
    "    if card1[0] == card2[0] == card3[0] == card4[0] == 'A':\n",
    "        outcome += 1\n",
    "    else:\n",
    "        total += 1\n",
    "    \n",
    "print(outcome/(total+outcome))"
   ]
  },
  {
   "cell_type": "code",
   "execution_count": 306,
   "id": "040d936a-87c3-46b2-894d-b0374bdec51c",
   "metadata": {},
   "outputs": [
    {
     "data": {
      "text/plain": [
       "True"
      ]
     },
     "execution_count": 306,
     "metadata": {},
     "output_type": "execute_result"
    }
   ],
   "source": [
    "# cross check\n",
    "import math\n",
    "math.comb(52, 4) == (outcome + total)"
   ]
  },
  {
   "cell_type": "markdown",
   "id": "5b291ed3-5f16-43e8-8c69-4f822b0ae104",
   "metadata": {},
   "source": [
    "# context managers"
   ]
  },
  {
   "cell_type": "code",
   "execution_count": 307,
   "id": "87d24c57-0061-419c-b9a6-0e0889a748af",
   "metadata": {},
   "outputs": [
    {
     "name": "stdout",
     "output_type": "stream",
     "text": [
      "finally ran!\n"
     ]
    }
   ],
   "source": [
    "try:\n",
    "    10 / 2\n",
    "except ZeroDivisionError:\n",
    "    print('zero division error')\n",
    "finally:\n",
    "    print('finally ran!')"
   ]
  },
  {
   "cell_type": "code",
   "execution_count": 308,
   "id": "efe79844-a5b4-474b-b4db-9140108c5c45",
   "metadata": {},
   "outputs": [
    {
     "name": "stdout",
     "output_type": "stream",
     "text": [
      "zero division error\n",
      "finally ran!\n"
     ]
    }
   ],
   "source": [
    "try:\n",
    "    10 / 0\n",
    "except ZeroDivisionError:\n",
    "    print('zero division error')\n",
    "finally:\n",
    "    print('finally ran!')"
   ]
  },
  {
   "cell_type": "code",
   "execution_count": 311,
   "id": "e09812e5-89da-494a-acd6-187ae71db218",
   "metadata": {},
   "outputs": [
    {
     "name": "stdout",
     "output_type": "stream",
     "text": [
      "finally ran!\n"
     ]
    }
   ],
   "source": [
    "def my_func():\n",
    "    try:\n",
    "        10 / 0\n",
    "    except ZeroDivisionError:\n",
    "        return\n",
    "    finally:\n",
    "        print('finally ran!')\n",
    "\n",
    "my_func()"
   ]
  },
  {
   "cell_type": "code",
   "execution_count": 323,
   "id": "83c57e08-524c-4979-9cef-097b333065b7",
   "metadata": {},
   "outputs": [],
   "source": [
    "class MyContext:\n",
    "    def __init__(self):\n",
    "        self.obj = None\n",
    "\n",
    "    def __enter__(self):\n",
    "        print('entering context..')\n",
    "        self.obj = 'the return object'\n",
    "        return self.obj\n",
    "\n",
    "    def __exit__(self, exc_type, exc_value, exc_traceback):\n",
    "        print('exiting context')\n",
    "        if exc_type:\n",
    "            print(f'Error: {exc_type}: {exc_value}')\n",
    "        return False"
   ]
  },
  {
   "cell_type": "code",
   "execution_count": 325,
   "id": "252b41c8-7959-4e22-8c15-1afca69457f6",
   "metadata": {},
   "outputs": [
    {
     "name": "stdout",
     "output_type": "stream",
     "text": [
      "entering context..\n",
      "inside with block obj is: the return object\n",
      "exiting context\n",
      "Error: <class 'ValueError'>: custom message\n"
     ]
    },
    {
     "ename": "ValueError",
     "evalue": "custom message",
     "output_type": "error",
     "traceback": [
      "\u001b[31m---------------------------------------------------------------------------\u001b[39m",
      "\u001b[31mValueError\u001b[39m                                Traceback (most recent call last)",
      "\u001b[36mCell\u001b[39m\u001b[36m \u001b[39m\u001b[32mIn[325]\u001b[39m\u001b[32m, line 3\u001b[39m\n\u001b[32m      1\u001b[39m \u001b[38;5;28;01mwith\u001b[39;00m MyContext() \u001b[38;5;28;01mas\u001b[39;00m obj:\n\u001b[32m      2\u001b[39m     \u001b[38;5;28mprint\u001b[39m(\u001b[33mf\u001b[39m\u001b[33m'\u001b[39m\u001b[33minside with block obj is: \u001b[39m\u001b[38;5;132;01m{\u001b[39;00mobj\u001b[38;5;132;01m}\u001b[39;00m\u001b[33m'\u001b[39m)\n\u001b[32m----> \u001b[39m\u001b[32m3\u001b[39m     \u001b[38;5;28;01mraise\u001b[39;00m \u001b[38;5;167;01mValueError\u001b[39;00m(\u001b[33m'\u001b[39m\u001b[33mcustom message\u001b[39m\u001b[33m'\u001b[39m)\n",
      "\u001b[31mValueError\u001b[39m: custom message"
     ]
    }
   ],
   "source": [
    "with MyContext() as obj:\n",
    "    print(f'inside with block obj is: {obj}')\n",
    "    raise ValueError('custom message')"
   ]
  },
  {
   "cell_type": "markdown",
   "id": "948047a7-d6bc-474c-8787-502800596fe0",
   "metadata": {},
   "source": [
    "### `with` statement causes `__enter__` call, which optionally returns some obj, which is assigned to `obj` symbol. On Erorr or exit of context manager, `__exit__` is called.\n",
    "### returning `False` from `__exit__` method tells python to bubble the error. Returning `True` silences the error"
   ]
  },
  {
   "cell_type": "code",
   "execution_count": 326,
   "id": "76f6f2dc-b92e-4ece-b61e-b11096ac20d3",
   "metadata": {},
   "outputs": [
    {
     "name": "stdout",
     "output_type": "stream",
     "text": [
      "entering context..\n",
      "inside with block obj is: the return object\n",
      "exiting context\n",
      "Error: <class 'ValueError'>: custom message\n"
     ]
    }
   ],
   "source": [
    "class MyContext:\n",
    "    def __init__(self):\n",
    "        self.obj = None\n",
    "\n",
    "    def __enter__(self):\n",
    "        print('entering context..')\n",
    "        self.obj = 'the return object'\n",
    "        return self.obj\n",
    "\n",
    "    def __exit__(self, exc_type, exc_value, exc_traceback):\n",
    "        print('exiting context')\n",
    "        if exc_type:\n",
    "            print(f'Error: {exc_type}: {exc_value}')\n",
    "        return True\n",
    "\n",
    "\n",
    "with MyContext() as obj:\n",
    "    print(f'inside with block obj is: {obj}')\n",
    "    raise ValueError('custom message')"
   ]
  },
  {
   "cell_type": "markdown",
   "id": "77060ced-af85-445c-9ac9-62e0d8e77ab1",
   "metadata": {},
   "source": [
    "### Context managers `do not` have its own scope. it creates objects in enclosing scope"
   ]
  },
  {
   "cell_type": "code",
   "execution_count": 327,
   "id": "3027e031-ca85-48db-9acc-d2ddcca43ab1",
   "metadata": {},
   "outputs": [
    {
     "data": {
      "text/plain": [
       "'the return object'"
      ]
     },
     "execution_count": 327,
     "metadata": {},
     "output_type": "execute_result"
    }
   ],
   "source": [
    "obj"
   ]
  },
  {
   "cell_type": "markdown",
   "id": "6243a123-a842-4bd0-ba19-c67e6066a430",
   "metadata": {},
   "source": [
    "### One more example"
   ]
  },
  {
   "cell_type": "code",
   "execution_count": 334,
   "id": "45402df1-c47b-45b1-8e3e-c70264b3cd05",
   "metadata": {},
   "outputs": [
    {
     "name": "stdout",
     "output_type": "stream",
     "text": [
      "entering context\n",
      "spam: created\n",
      "exiting context\n",
      "is symbol rm in globals? True\n",
      "spam: destroyed\n"
     ]
    }
   ],
   "source": [
    "class Resource:\n",
    "    def __init__(self, name):\n",
    "        self.name = name\n",
    "        self.state = None\n",
    "\n",
    "class ResourceManager:\n",
    "    def __init__(self, name):\n",
    "        self.name = name\n",
    "\n",
    "    def __enter__(self):\n",
    "        print(f'entering context')\n",
    "        self.resource = Resource(self.name)\n",
    "        self.resource.state = 'created'\n",
    "        return self.resource\n",
    "\n",
    "    def __exit__(self, exc_type, exc_value, exc_traceback):\n",
    "        print(f'exiting context')\n",
    "        self.resource.state = 'destroyed'\n",
    "        \n",
    "        if exc_type:\n",
    "            print(f'Error: {exc_type}: {exc_value}')\n",
    "        return False\n",
    "\n",
    "with ResourceManager('spam') as rm:\n",
    "    print(f'{rm.name}: {rm.state}')\n",
    "    # raise ValueError('custom message')\n",
    "\n",
    "# since rm object exists in global scope we can still access it\n",
    "print(f'is symbol rm in globals? {'rm' in globals()}')\n",
    "print(f'{rm.name}: {rm.state}')"
   ]
  },
  {
   "cell_type": "markdown",
   "id": "09c5a262-2c01-4227-bec6-89d415881b16",
   "metadata": {},
   "source": [
    "# Caveat with lazy iterators"
   ]
  },
  {
   "cell_type": "code",
   "execution_count": 335,
   "id": "19feada1-6acd-4fcd-9831-15fc932bb7c8",
   "metadata": {},
   "outputs": [],
   "source": [
    "import csv"
   ]
  },
  {
   "cell_type": "code",
   "execution_count": 350,
   "id": "1c137c18-7d0e-457b-8106-7f07e6294e9e",
   "metadata": {},
   "outputs": [],
   "source": [
    "def read_data():\n",
    "    with open('data/AAPL.csv', 'r') as f:\n",
    "        return csv.reader(f, delimiter=',', quotechar='\"')\n",
    "\n",
    "reader = read_data()"
   ]
  },
  {
   "cell_type": "code",
   "execution_count": 351,
   "id": "9a6b2f7b-f0b3-4401-b45f-582e01758a1c",
   "metadata": {},
   "outputs": [
    {
     "data": {
      "text/plain": [
       "_csv.reader"
      ]
     },
     "execution_count": 351,
     "metadata": {},
     "output_type": "execute_result"
    }
   ],
   "source": [
    "type(reader)"
   ]
  },
  {
   "cell_type": "code",
   "execution_count": 352,
   "id": "a275e402-4582-42e8-a346-230b640201fb",
   "metadata": {},
   "outputs": [
    {
     "ename": "ValueError",
     "evalue": "I/O operation on closed file.",
     "output_type": "error",
     "traceback": [
      "\u001b[31m---------------------------------------------------------------------------\u001b[39m",
      "\u001b[31mValueError\u001b[39m                                Traceback (most recent call last)",
      "\u001b[36mCell\u001b[39m\u001b[36m \u001b[39m\u001b[32mIn[352]\u001b[39m\u001b[32m, line 1\u001b[39m\n\u001b[32m----> \u001b[39m\u001b[32m1\u001b[39m \u001b[38;5;28;43mlist\u001b[39;49m\u001b[43m(\u001b[49m\u001b[43mreader\u001b[49m\u001b[43m)\u001b[49m\n",
      "\u001b[31mValueError\u001b[39m: I/O operation on closed file."
     ]
    }
   ],
   "source": [
    "list(reader)"
   ]
  },
  {
   "cell_type": "code",
   "execution_count": 353,
   "id": "4d5e5e67-09af-429d-add1-4ab7e2dd506b",
   "metadata": {},
   "outputs": [
    {
     "data": {
      "text/plain": [
       "(True, True)"
      ]
     },
     "execution_count": 353,
     "metadata": {},
     "output_type": "execute_result"
    }
   ],
   "source": [
    "'__iter__' in dir(reader), '__next__' in dir(reader)"
   ]
  },
  {
   "cell_type": "code",
   "execution_count": 361,
   "id": "c53664b5-9ac3-48a3-98a3-0382f71fc54b",
   "metadata": {},
   "outputs": [
    {
     "data": {
      "text/plain": [
       "True"
      ]
     },
     "execution_count": 361,
     "metadata": {},
     "output_type": "execute_result"
    }
   ],
   "source": [
    "f.closed"
   ]
  },
  {
   "cell_type": "markdown",
   "id": "b7e842da-3a74-4d46-96bb-d09bb074e1cc",
   "metadata": {},
   "source": [
    "### Csv reader is an iterator, but when we start iteration by that time context manager has run `__exit__` and closed the `file: f`\n",
    "\n",
    "### instead of returning if we `yield` then the execution `halts and un-halts` until all values are yielded from the generator function"
   ]
  },
  {
   "cell_type": "code",
   "execution_count": 346,
   "id": "4121d227-6a42-4db7-b7f3-dad92679588c",
   "metadata": {},
   "outputs": [
    {
     "data": {
      "text/plain": [
       "generator"
      ]
     },
     "execution_count": 346,
     "metadata": {},
     "output_type": "execute_result"
    }
   ],
   "source": [
    "def read_data():\n",
    "    with open('data/AAPL.csv', 'r') as f:\n",
    "        yield from csv.reader(f, delimiter=',', quotechar='\"')\n",
    "\n",
    "reader = read_data()\n",
    "type(reader)"
   ]
  },
  {
   "cell_type": "code",
   "execution_count": 347,
   "id": "ba1bd488-43c2-4c2b-a9ff-9e6b12d1b10f",
   "metadata": {},
   "outputs": [
    {
     "name": "stdout",
     "output_type": "stream",
     "text": [
      "['Symbol', ' Date', ' Close', ' Volume', ' Open', ' High', ' Low']\n",
      "['AAPL', ' 10/29/2020', ' 115.32', ' 146129200', ' 112.37', ' 116.93', ' 112.2']\n",
      "['AAPL', ' 10/28/2020', ' 111.2', ' 143937800', ' 115.05', ' 115.43', ' 111.1']\n",
      "['AAPL', ' 10/27/2020', ' 116.6', ' 92276770', ' 115.49', ' 117.28', ' 114.5399']\n",
      "['AAPL', ' 10/26/2020', ' 115.05', ' 111850700', ' 114.01', ' 116.55', ' 112.88']\n"
     ]
    }
   ],
   "source": [
    "for _ in range(5):\n",
    "    print(next(reader))"
   ]
  },
  {
   "cell_type": "code",
   "execution_count": 348,
   "id": "227cba72-247a-4b5f-b1c7-4195d0e7130b",
   "metadata": {
    "scrolled": true
   },
   "outputs": [
    {
     "data": {
      "text/plain": [
       "[['AAPL',\n",
       "  ' 10/23/2020',\n",
       "  ' 115.04',\n",
       "  ' 82572650',\n",
       "  ' 116.39',\n",
       "  ' 116.55',\n",
       "  ' 114.28'],\n",
       " ['AAPL',\n",
       "  ' 10/22/2020',\n",
       "  ' 115.75',\n",
       "  ' 101988000',\n",
       "  ' 117.45',\n",
       "  ' 118.04',\n",
       "  ' 114.59'],\n",
       " ['AAPL',\n",
       "  ' 10/21/2020',\n",
       "  ' 116.87',\n",
       "  ' 89945980',\n",
       "  ' 116.67',\n",
       "  ' 118.705',\n",
       "  ' 116.45'],\n",
       " ['AAPL',\n",
       "  ' 10/20/2020',\n",
       "  ' 117.51',\n",
       "  ' 124423700',\n",
       "  ' 116.2',\n",
       "  ' 118.98',\n",
       "  ' 115.63'],\n",
       " ['AAPL',\n",
       "  ' 10/19/2020',\n",
       "  ' 115.98',\n",
       "  ' 120639300',\n",
       "  ' 119.96',\n",
       "  ' 120.419',\n",
       "  ' 115.66'],\n",
       " ['AAPL',\n",
       "  ' 10/16/2020',\n",
       "  ' 119.02',\n",
       "  ' 115393800',\n",
       "  ' 121.28',\n",
       "  ' 121.548',\n",
       "  ' 118.81'],\n",
       " ['AAPL',\n",
       "  ' 10/15/2020',\n",
       "  ' 120.71',\n",
       "  ' 112559200',\n",
       "  ' 118.72',\n",
       "  ' 121.2',\n",
       "  ' 118.15'],\n",
       " ['AAPL',\n",
       "  ' 10/14/2020',\n",
       "  ' 121.19',\n",
       "  ' 151062300',\n",
       "  ' 121',\n",
       "  ' 123.03',\n",
       "  ' 119.62'],\n",
       " ['AAPL',\n",
       "  ' 10/13/2020',\n",
       "  ' 121.1',\n",
       "  ' 262330500',\n",
       "  ' 125.27',\n",
       "  ' 125.39',\n",
       "  ' 119.65'],\n",
       " ['AAPL',\n",
       "  ' 10/12/2020',\n",
       "  ' 124.4',\n",
       "  ' 240226800',\n",
       "  ' 120.06',\n",
       "  ' 125.18',\n",
       "  ' 119.2845'],\n",
       " ['AAPL',\n",
       "  ' 10/09/2020',\n",
       "  ' 116.97',\n",
       "  ' 100506900',\n",
       "  ' 115.28',\n",
       "  ' 117',\n",
       "  ' 114.92'],\n",
       " ['AAPL',\n",
       "  ' 10/08/2020',\n",
       "  ' 114.97',\n",
       "  ' 83477150',\n",
       "  ' 116.25',\n",
       "  ' 116.4',\n",
       "  ' 114.5901'],\n",
       " ['AAPL',\n",
       "  ' 10/07/2020',\n",
       "  ' 115.08',\n",
       "  ' 96848990',\n",
       "  ' 114.62',\n",
       "  ' 115.55',\n",
       "  ' 114.13'],\n",
       " ['AAPL',\n",
       "  ' 10/06/2020',\n",
       "  ' 113.16',\n",
       "  ' 161498200',\n",
       "  ' 115.7',\n",
       "  ' 116.12',\n",
       "  ' 112.25'],\n",
       " ['AAPL',\n",
       "  ' 10/05/2020',\n",
       "  ' 116.5',\n",
       "  ' 106243800',\n",
       "  ' 113.91',\n",
       "  ' 116.65',\n",
       "  ' 113.55'],\n",
       " ['AAPL',\n",
       "  ' 10/02/2020',\n",
       "  ' 113.02',\n",
       "  ' 144712000',\n",
       "  ' 112.89',\n",
       "  ' 115.37',\n",
       "  ' 112.22'],\n",
       " ['AAPL',\n",
       "  ' 10/01/2020',\n",
       "  ' 116.79',\n",
       "  ' 116120400',\n",
       "  ' 117.64',\n",
       "  ' 117.72',\n",
       "  ' 115.83'],\n",
       " ['AAPL',\n",
       "  ' 09/30/2020',\n",
       "  ' 115.81',\n",
       "  ' 142675200',\n",
       "  ' 113.79',\n",
       "  ' 117.26',\n",
       "  ' 113.62'],\n",
       " ['AAPL',\n",
       "  ' 09/29/2020',\n",
       "  ' 114.09',\n",
       "  ' 100060500',\n",
       "  ' 114.55',\n",
       "  ' 115.31',\n",
       "  ' 113.57']]"
      ]
     },
     "execution_count": 348,
     "metadata": {},
     "output_type": "execute_result"
    }
   ],
   "source": [
    "list(reader)"
   ]
  },
  {
   "cell_type": "code",
   "execution_count": 349,
   "id": "7c38a1bd-ce6a-4bc8-9cd3-5bceac596275",
   "metadata": {},
   "outputs": [
    {
     "ename": "StopIteration",
     "evalue": "",
     "output_type": "error",
     "traceback": [
      "\u001b[31m---------------------------------------------------------------------------\u001b[39m",
      "\u001b[31mStopIteration\u001b[39m                             Traceback (most recent call last)",
      "\u001b[36mCell\u001b[39m\u001b[36m \u001b[39m\u001b[32mIn[349]\u001b[39m\u001b[32m, line 1\u001b[39m\n\u001b[32m----> \u001b[39m\u001b[32m1\u001b[39m \u001b[38;5;28;43mnext\u001b[39;49m\u001b[43m(\u001b[49m\u001b[43mreader\u001b[49m\u001b[43m)\u001b[49m\n",
      "\u001b[31mStopIteration\u001b[39m: "
     ]
    }
   ],
   "source": [
    "next(reader)"
   ]
  },
  {
   "cell_type": "markdown",
   "id": "d61eb9e0-7441-4b80-9b5e-4503fc2e6bef",
   "metadata": {},
   "source": [
    "# lets try writing a data reader class"
   ]
  },
  {
   "cell_type": "code",
   "execution_count": 362,
   "id": "5d9daae4-9c13-4b70-a053-1d3f2c627424",
   "metadata": {},
   "outputs": [],
   "source": [
    "class DataReader:\n",
    "    def __init__(self, fname):\n",
    "        self._fname = fname\n",
    "\n",
    "    def __iter__(self):\n",
    "        return self\n",
    "\n",
    "    def __next__(self):\n",
    "        return next(self._fname)"
   ]
  },
  {
   "cell_type": "code",
   "execution_count": 363,
   "id": "5e9b1416-8912-44b0-ba30-78281de5df26",
   "metadata": {},
   "outputs": [],
   "source": [
    "data = DataReader('data/AAPL.csv')"
   ]
  },
  {
   "cell_type": "code",
   "execution_count": 365,
   "id": "b53b0bfe-5900-486c-8ad5-0bb2110ec892",
   "metadata": {},
   "outputs": [
    {
     "ename": "TypeError",
     "evalue": "'str' object is not an iterator",
     "output_type": "error",
     "traceback": [
      "\u001b[31m---------------------------------------------------------------------------\u001b[39m",
      "\u001b[31mTypeError\u001b[39m                                 Traceback (most recent call last)",
      "\u001b[36mCell\u001b[39m\u001b[36m \u001b[39m\u001b[32mIn[365]\u001b[39m\u001b[32m, line 1\u001b[39m\n\u001b[32m----> \u001b[39m\u001b[32m1\u001b[39m \u001b[38;5;28;43;01mfor\u001b[39;49;00m\u001b[43m \u001b[49m\u001b[43mrow\u001b[49m\u001b[43m \u001b[49m\u001b[38;5;129;43;01min\u001b[39;49;00m\u001b[43m \u001b[49m\u001b[43mdata\u001b[49m\u001b[43m:\u001b[49m\n\u001b[32m      2\u001b[39m \u001b[43m    \u001b[49m\u001b[38;5;28;43mprint\u001b[39;49m\u001b[43m(\u001b[49m\u001b[43mdata\u001b[49m\u001b[43m)\u001b[49m\n",
      "\u001b[36mCell\u001b[39m\u001b[36m \u001b[39m\u001b[32mIn[362]\u001b[39m\u001b[32m, line 9\u001b[39m, in \u001b[36mDataReader.__next__\u001b[39m\u001b[34m(self)\u001b[39m\n\u001b[32m      8\u001b[39m \u001b[38;5;28;01mdef\u001b[39;00m\u001b[38;5;250m \u001b[39m\u001b[34m__next__\u001b[39m(\u001b[38;5;28mself\u001b[39m):\n\u001b[32m----> \u001b[39m\u001b[32m9\u001b[39m     \u001b[38;5;28;01mreturn\u001b[39;00m \u001b[38;5;28;43mnext\u001b[39;49m\u001b[43m(\u001b[49m\u001b[38;5;28;43mself\u001b[39;49m\u001b[43m.\u001b[49m\u001b[43m_fname\u001b[49m\u001b[43m)\u001b[49m\n",
      "\u001b[31mTypeError\u001b[39m: 'str' object is not an iterator"
     ]
    }
   ],
   "source": [
    "for row in data:\n",
    "    print(data)"
   ]
  },
  {
   "cell_type": "code",
   "execution_count": 383,
   "id": "fceec06c-e28d-4736-99c6-d0b4e86c168f",
   "metadata": {},
   "outputs": [],
   "source": [
    "class DataReader:\n",
    "    def __init__(self, fname):\n",
    "        self._fname = fname\n",
    "\n",
    "    def __iter__(self):\n",
    "        return self\n",
    "\n",
    "    def __next__(self):\n",
    "        return next(self._f)\n",
    "\n",
    "    def __enter__(self):\n",
    "        # we cant return open() directly - else how will we close it?\n",
    "        self._f = open(self._fname, 'r')\n",
    "        return self._f\n",
    "\n",
    "    def __exit__(self, exc_type, exc_value, traceback):\n",
    "        print('closing file')\n",
    "        self._f.close()\n",
    "        if exc_type:\n",
    "            print(f'Error: {exc_type}: {exc_value}')\n",
    "        return False\n",
    "        "
   ]
  },
  {
   "cell_type": "code",
   "execution_count": 384,
   "id": "6f2b91ba-8661-4e6f-8459-210a1eb33bdf",
   "metadata": {},
   "outputs": [
    {
     "name": "stdout",
     "output_type": "stream",
     "text": [
      "File closed?: False\n",
      "Symbol, Date, Close, Volume, Open, High, Low\n",
      "\n",
      "AAPL, 10/29/2020, 115.32, 146129200, 112.37, 116.93, 112.2\n",
      "\n",
      "AAPL, 10/28/2020, 111.2, 143937800, 115.05, 115.43, 111.1\n",
      "\n",
      "AAPL, 10/27/2020, 116.6, 92276770, 115.49, 117.28, 114.5399\n",
      "\n",
      "AAPL, 10/26/2020, 115.05, 111850700, 114.01, 116.55, 112.88\n",
      "\n",
      "AAPL, 10/23/2020, 115.04, 82572650, 116.39, 116.55, 114.28\n",
      "\n",
      "AAPL, 10/22/2020, 115.75, 101988000, 117.45, 118.04, 114.59\n",
      "\n",
      "AAPL, 10/21/2020, 116.87, 89945980, 116.67, 118.705, 116.45\n",
      "\n",
      "AAPL, 10/20/2020, 117.51, 124423700, 116.2, 118.98, 115.63\n",
      "\n",
      "AAPL, 10/19/2020, 115.98, 120639300, 119.96, 120.419, 115.66\n",
      "\n",
      "AAPL, 10/16/2020, 119.02, 115393800, 121.28, 121.548, 118.81\n",
      "\n",
      "AAPL, 10/15/2020, 120.71, 112559200, 118.72, 121.2, 118.15\n",
      "\n",
      "AAPL, 10/14/2020, 121.19, 151062300, 121, 123.03, 119.62\n",
      "\n",
      "AAPL, 10/13/2020, 121.1, 262330500, 125.27, 125.39, 119.65\n",
      "\n",
      "AAPL, 10/12/2020, 124.4, 240226800, 120.06, 125.18, 119.2845\n",
      "\n",
      "AAPL, 10/09/2020, 116.97, 100506900, 115.28, 117, 114.92\n",
      "\n",
      "AAPL, 10/08/2020, 114.97, 83477150, 116.25, 116.4, 114.5901\n",
      "\n",
      "AAPL, 10/07/2020, 115.08, 96848990, 114.62, 115.55, 114.13\n",
      "\n",
      "AAPL, 10/06/2020, 113.16, 161498200, 115.7, 116.12, 112.25\n",
      "\n",
      "AAPL, 10/05/2020, 116.5, 106243800, 113.91, 116.65, 113.55\n",
      "\n",
      "AAPL, 10/02/2020, 113.02, 144712000, 112.89, 115.37, 112.22\n",
      "\n",
      "AAPL, 10/01/2020, 116.79, 116120400, 117.64, 117.72, 115.83\n",
      "\n",
      "AAPL, 09/30/2020, 115.81, 142675200, 113.79, 117.26, 113.62\n",
      "\n",
      "AAPL, 09/29/2020, 114.09, 100060500, 114.55, 115.31, 113.57\n",
      "\n",
      "closing file\n"
     ]
    }
   ],
   "source": [
    "with DataReader('data/AAPL.csv') as f:\n",
    "    print(f'File closed?: {f.closed}')\n",
    "    for row in f:\n",
    "        print(row)"
   ]
  },
  {
   "cell_type": "code",
   "execution_count": 385,
   "id": "f3507b2b-39bc-41d2-a62a-a316b18cc731",
   "metadata": {},
   "outputs": [
    {
     "data": {
      "text/plain": [
       "_io.TextIOWrapper"
      ]
     },
     "execution_count": 385,
     "metadata": {},
     "output_type": "execute_result"
    }
   ],
   "source": [
    "type(f)"
   ]
  },
  {
   "cell_type": "code",
   "execution_count": 386,
   "id": "7671f819-84d1-4d42-be01-d675615a430e",
   "metadata": {},
   "outputs": [
    {
     "data": {
      "text/plain": [
       "True"
      ]
     },
     "execution_count": 386,
     "metadata": {},
     "output_type": "execute_result"
    }
   ],
   "source": [
    "f.closed"
   ]
  },
  {
   "cell_type": "markdown",
   "id": "952d3d62-a76d-4aeb-9ef1-0a7d5a293ff4",
   "metadata": {},
   "source": [
    "# Check out `contextlib` module for decorators which turn any function into a context manager. It also has a decorator to redirect stdio and put it back to what it was as context is exited."
   ]
  },
  {
   "cell_type": "markdown",
   "id": "9c90c2df-a52c-4905-af68-8d03e9387167",
   "metadata": {},
   "source": [
    "# read : https://peps.python.org/pep-0343/"
   ]
  },
  {
   "cell_type": "code",
   "execution_count": null,
   "id": "a8dc1a3d-dbd3-4d1e-b705-10c4d475cf25",
   "metadata": {},
   "outputs": [],
   "source": []
  }
 ],
 "metadata": {
  "kernelspec": {
   "display_name": "Python (fundamentals)",
   "language": "python",
   "name": "fundamentals"
  },
  "language_info": {
   "codemirror_mode": {
    "name": "ipython",
    "version": 3
   },
   "file_extension": ".py",
   "mimetype": "text/x-python",
   "name": "python",
   "nbconvert_exporter": "python",
   "pygments_lexer": "ipython3",
   "version": "3.13.7"
  }
 },
 "nbformat": 4,
 "nbformat_minor": 5
}
