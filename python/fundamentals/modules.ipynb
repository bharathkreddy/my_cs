{
 "cells": [
  {
   "cell_type": "code",
   "execution_count": 1,
   "id": "322b8b19-d13b-46a6-83a7-4b6694e2c4dc",
   "metadata": {},
   "outputs": [],
   "source": [
    "import random"
   ]
  },
  {
   "cell_type": "code",
   "execution_count": 2,
   "id": "20e0b1ea-16c1-4030-9e8c-d847b251b36e",
   "metadata": {},
   "outputs": [
    {
     "data": {
      "text/plain": [
       "<module 'random' from '/opt/homebrew/Cellar/python@3.13/3.13.7/Frameworks/Python.framework/Versions/3.13/lib/python3.13/random.py'>"
      ]
     },
     "execution_count": 2,
     "metadata": {},
     "output_type": "execute_result"
    }
   ],
   "source": [
    "random"
   ]
  },
  {
   "cell_type": "code",
   "execution_count": 4,
   "id": "3423df9c-4122-4425-ade2-45127d5d2f82",
   "metadata": {},
   "outputs": [],
   "source": [
    "import math"
   ]
  },
  {
   "cell_type": "code",
   "execution_count": 5,
   "id": "a9319176-0cce-4e21-986d-8de7fdea6de9",
   "metadata": {},
   "outputs": [
    {
     "data": {
      "text/plain": [
       "<module 'math' from '/opt/homebrew/Cellar/python@3.13/3.13.7/Frameworks/Python.framework/Versions/3.13/lib/python3.13/lib-dynload/math.cpython-313-darwin.so'>"
      ]
     },
     "execution_count": 5,
     "metadata": {},
     "output_type": "execute_result"
    }
   ],
   "source": [
    "math"
   ]
  },
  {
   "cell_type": "code",
   "execution_count": 6,
   "id": "bca89f24-f789-4cd9-b1a3-20d3f4e79230",
   "metadata": {},
   "outputs": [
    {
     "data": {
      "text/plain": [
       "module"
      ]
     },
     "execution_count": 6,
     "metadata": {},
     "output_type": "execute_result"
    }
   ],
   "source": [
    "type(math)"
   ]
  },
  {
   "cell_type": "code",
   "execution_count": 7,
   "id": "a10052c4-3d25-4ad0-a3b4-79b547f953e9",
   "metadata": {},
   "outputs": [
    {
     "data": {
      "text/plain": [
       "'0x105e3fce0'"
      ]
     },
     "execution_count": 7,
     "metadata": {},
     "output_type": "execute_result"
    }
   ],
   "source": [
    "hex(id(math))"
   ]
  },
  {
   "cell_type": "markdown",
   "id": "2ee8ff63-720c-4395-b1c8-4a27f0f2b1bf",
   "metadata": {},
   "source": [
    "## imported libraries are loaded into globals dict with referece to memory holding the module, its also cashed in system memory"
   ]
  },
  {
   "cell_type": "code",
   "execution_count": 8,
   "id": "8afd2cb1-3aca-4134-b2e6-dadba5859aad",
   "metadata": {},
   "outputs": [
    {
     "data": {
      "text/plain": [
       "'0x105e3fce0'"
      ]
     },
     "execution_count": 8,
     "metadata": {},
     "output_type": "execute_result"
    }
   ],
   "source": [
    "import math\n",
    "hex(id(math))"
   ]
  },
  {
   "cell_type": "code",
   "execution_count": 9,
   "id": "6aac6a7a-8719-4c04-90d7-448e5a44d132",
   "metadata": {},
   "outputs": [
    {
     "data": {
      "text/plain": [
       "dict"
      ]
     },
     "execution_count": 9,
     "metadata": {},
     "output_type": "execute_result"
    }
   ],
   "source": [
    "import sys\n",
    "type(sys.modules)"
   ]
  },
  {
   "cell_type": "code",
   "execution_count": 10,
   "id": "90cc0821-7c59-4282-8fc9-9a5d238c3390",
   "metadata": {},
   "outputs": [
    {
     "data": {
      "text/plain": [
       "<module 'math' from '/opt/homebrew/Cellar/python@3.13/3.13.7/Frameworks/Python.framework/Versions/3.13/lib/python3.13/lib-dynload/math.cpython-313-darwin.so'>"
      ]
     },
     "execution_count": 10,
     "metadata": {},
     "output_type": "execute_result"
    }
   ],
   "source": [
    "sys.modules['math']"
   ]
  },
  {
   "cell_type": "code",
   "execution_count": 11,
   "id": "429ec2f0-695e-48ba-8245-a7809b736b8d",
   "metadata": {},
   "outputs": [
    {
     "data": {
      "text/plain": [
       "'0x105e3fce0'"
      ]
     },
     "execution_count": 11,
     "metadata": {},
     "output_type": "execute_result"
    }
   ],
   "source": [
    "hex(id(math))"
   ]
  },
  {
   "cell_type": "code",
   "execution_count": 3,
   "id": "f29b0838-6a3d-4457-9b85-90118697e5e1",
   "metadata": {},
   "outputs": [
    {
     "name": "stdout",
     "output_type": "stream",
     "text": [
      "Help on module math:\n",
      "\n",
      "NAME\n",
      "    math\n",
      "\n",
      "DESCRIPTION\n",
      "    This module provides access to the mathematical functions\n",
      "    defined by the C standard.\n",
      "\n",
      "FUNCTIONS\n",
      "    acos(x, /)\n",
      "        Return the arc cosine (measured in radians) of x.\n",
      "\n",
      "        The result is between 0 and pi.\n",
      "\n",
      "    acosh(x, /)\n",
      "        Return the inverse hyperbolic cosine of x.\n",
      "\n",
      "    asin(x, /)\n",
      "        Return the arc sine (measured in radians) of x.\n",
      "\n",
      "        The result is between -pi/2 and pi/2.\n",
      "\n",
      "    asinh(x, /)\n",
      "        Return the inverse hyperbolic sine of x.\n",
      "\n",
      "    atan(x, /)\n",
      "        Return the arc tangent (measured in radians) of x.\n",
      "\n",
      "        The result is between -pi/2 and pi/2.\n",
      "\n",
      "    atan2(y, x, /)\n",
      "        Return the arc tangent (measured in radians) of y/x.\n",
      "\n",
      "        Unlike atan(y/x), the signs of both x and y are considered.\n",
      "\n",
      "    atanh(x, /)\n",
      "        Return the inverse hyperbolic tangent of x.\n",
      "\n",
      "    cbrt(x, /)\n",
      "        Return the cube root of x.\n",
      "\n",
      "    ceil(x, /)\n",
      "        Return the ceiling of x as an Integral.\n",
      "\n",
      "        This is the smallest integer >= x.\n",
      "\n",
      "    comb(n, k, /)\n",
      "        Number of ways to choose k items from n items without repetition and without order.\n",
      "\n",
      "        Evaluates to n! / (k! * (n - k)!) when k <= n and evaluates\n",
      "        to zero when k > n.\n",
      "\n",
      "        Also called the binomial coefficient because it is equivalent\n",
      "        to the coefficient of k-th term in polynomial expansion of the\n",
      "        expression (1 + x)**n.\n",
      "\n",
      "        Raises TypeError if either of the arguments are not integers.\n",
      "        Raises ValueError if either of the arguments are negative.\n",
      "\n",
      "    copysign(x, y, /)\n",
      "        Return a float with the magnitude (absolute value) of x but the sign of y.\n",
      "\n",
      "        On platforms that support signed zeros, copysign(1.0, -0.0)\n",
      "        returns -1.0.\n",
      "\n",
      "    cos(x, /)\n",
      "        Return the cosine of x (measured in radians).\n",
      "\n",
      "    cosh(x, /)\n",
      "        Return the hyperbolic cosine of x.\n",
      "\n",
      "    degrees(x, /)\n",
      "        Convert angle x from radians to degrees.\n",
      "\n",
      "    dist(p, q, /)\n",
      "        Return the Euclidean distance between two points p and q.\n",
      "\n",
      "        The points should be specified as sequences (or iterables) of\n",
      "        coordinates.  Both inputs must have the same dimension.\n",
      "\n",
      "        Roughly equivalent to:\n",
      "            sqrt(sum((px - qx) ** 2.0 for px, qx in zip(p, q)))\n",
      "\n",
      "    erf(x, /)\n",
      "        Error function at x.\n",
      "\n",
      "    erfc(x, /)\n",
      "        Complementary error function at x.\n",
      "\n",
      "    exp(x, /)\n",
      "        Return e raised to the power of x.\n",
      "\n",
      "    exp2(x, /)\n",
      "        Return 2 raised to the power of x.\n",
      "\n",
      "    expm1(x, /)\n",
      "        Return exp(x)-1.\n",
      "\n",
      "        This function avoids the loss of precision involved in the direct evaluation of exp(x)-1 for small x.\n",
      "\n",
      "    fabs(x, /)\n",
      "        Return the absolute value of the float x.\n",
      "\n",
      "    factorial(n, /)\n",
      "        Find n!.\n",
      "\n",
      "    floor(x, /)\n",
      "        Return the floor of x as an Integral.\n",
      "\n",
      "        This is the largest integer <= x.\n",
      "\n",
      "    fma(x, y, z, /)\n",
      "        Fused multiply-add operation.\n",
      "\n",
      "        Compute (x * y) + z with a single round.\n",
      "\n",
      "    fmod(x, y, /)\n",
      "        Return fmod(x, y), according to platform C.\n",
      "\n",
      "        x % y may differ.\n",
      "\n",
      "    frexp(x, /)\n",
      "        Return the mantissa and exponent of x, as pair (m, e).\n",
      "\n",
      "        m is a float and e is an int, such that x = m * 2.**e.\n",
      "        If x is 0, m and e are both 0.  Else 0.5 <= abs(m) < 1.0.\n",
      "\n",
      "    fsum(seq, /)\n",
      "        Return an accurate floating-point sum of values in the iterable seq.\n",
      "\n",
      "        Assumes IEEE-754 floating-point arithmetic.\n",
      "\n",
      "    gamma(x, /)\n",
      "        Gamma function at x.\n",
      "\n",
      "    gcd(*integers)\n",
      "        Greatest Common Divisor.\n",
      "\n",
      "    hypot(...)\n",
      "        hypot(*coordinates) -> value\n",
      "\n",
      "        Multidimensional Euclidean distance from the origin to a point.\n",
      "\n",
      "        Roughly equivalent to:\n",
      "            sqrt(sum(x**2 for x in coordinates))\n",
      "\n",
      "        For a two dimensional point (x, y), gives the hypotenuse\n",
      "        using the Pythagorean theorem:  sqrt(x*x + y*y).\n",
      "\n",
      "        For example, the hypotenuse of a 3/4/5 right triangle is:\n",
      "\n",
      "            >>> hypot(3.0, 4.0)\n",
      "            5.0\n",
      "\n",
      "    isclose(a, b, *, rel_tol=1e-09, abs_tol=0.0)\n",
      "        Determine whether two floating-point numbers are close in value.\n",
      "\n",
      "          rel_tol\n",
      "            maximum difference for being considered \"close\", relative to the\n",
      "            magnitude of the input values\n",
      "          abs_tol\n",
      "            maximum difference for being considered \"close\", regardless of the\n",
      "            magnitude of the input values\n",
      "\n",
      "        Return True if a is close in value to b, and False otherwise.\n",
      "\n",
      "        For the values to be considered close, the difference between them\n",
      "        must be smaller than at least one of the tolerances.\n",
      "\n",
      "        -inf, inf and NaN behave similarly to the IEEE 754 Standard.  That\n",
      "        is, NaN is not close to anything, even itself.  inf and -inf are\n",
      "        only close to themselves.\n",
      "\n",
      "    isfinite(x, /)\n",
      "        Return True if x is neither an infinity nor a NaN, and False otherwise.\n",
      "\n",
      "    isinf(x, /)\n",
      "        Return True if x is a positive or negative infinity, and False otherwise.\n",
      "\n",
      "    isnan(x, /)\n",
      "        Return True if x is a NaN (not a number), and False otherwise.\n",
      "\n",
      "    isqrt(n, /)\n",
      "        Return the integer part of the square root of the input.\n",
      "\n",
      "    lcm(*integers)\n",
      "        Least Common Multiple.\n",
      "\n",
      "    ldexp(x, i, /)\n",
      "        Return x * (2**i).\n",
      "\n",
      "        This is essentially the inverse of frexp().\n",
      "\n",
      "    lgamma(x, /)\n",
      "        Natural logarithm of absolute value of Gamma function at x.\n",
      "\n",
      "    log(...)\n",
      "        log(x, [base=math.e])\n",
      "        Return the logarithm of x to the given base.\n",
      "\n",
      "        If the base is not specified, returns the natural logarithm (base e) of x.\n",
      "\n",
      "    log10(x, /)\n",
      "        Return the base 10 logarithm of x.\n",
      "\n",
      "    log1p(x, /)\n",
      "        Return the natural logarithm of 1+x (base e).\n",
      "\n",
      "        The result is computed in a way which is accurate for x near zero.\n",
      "\n",
      "    log2(x, /)\n",
      "        Return the base 2 logarithm of x.\n",
      "\n",
      "    modf(x, /)\n",
      "        Return the fractional and integer parts of x.\n",
      "\n",
      "        Both results carry the sign of x and are floats.\n",
      "\n",
      "    nextafter(x, y, /, *, steps=None)\n",
      "        Return the floating-point value the given number of steps after x towards y.\n",
      "\n",
      "        If steps is not specified or is None, it defaults to 1.\n",
      "\n",
      "        Raises a TypeError, if x or y is not a double, or if steps is not an integer.\n",
      "        Raises ValueError if steps is negative.\n",
      "\n",
      "    perm(n, k=None, /)\n",
      "        Number of ways to choose k items from n items without repetition and with order.\n",
      "\n",
      "        Evaluates to n! / (n - k)! when k <= n and evaluates\n",
      "        to zero when k > n.\n",
      "\n",
      "        If k is not specified or is None, then k defaults to n\n",
      "        and the function returns n!.\n",
      "\n",
      "        Raises TypeError if either of the arguments are not integers.\n",
      "        Raises ValueError if either of the arguments are negative.\n",
      "\n",
      "    pow(x, y, /)\n",
      "        Return x**y (x to the power of y).\n",
      "\n",
      "    prod(iterable, /, *, start=1)\n",
      "        Calculate the product of all the elements in the input iterable.\n",
      "\n",
      "        The default start value for the product is 1.\n",
      "\n",
      "        When the iterable is empty, return the start value.  This function is\n",
      "        intended specifically for use with numeric values and may reject\n",
      "        non-numeric types.\n",
      "\n",
      "    radians(x, /)\n",
      "        Convert angle x from degrees to radians.\n",
      "\n",
      "    remainder(x, y, /)\n",
      "        Difference between x and the closest integer multiple of y.\n",
      "\n",
      "        Return x - n*y where n*y is the closest integer multiple of y.\n",
      "        In the case where x is exactly halfway between two multiples of\n",
      "        y, the nearest even value of n is used. The result is always exact.\n",
      "\n",
      "    sin(x, /)\n",
      "        Return the sine of x (measured in radians).\n",
      "\n",
      "    sinh(x, /)\n",
      "        Return the hyperbolic sine of x.\n",
      "\n",
      "    sqrt(x, /)\n",
      "        Return the square root of x.\n",
      "\n",
      "    sumprod(p, q, /)\n",
      "        Return the sum of products of values from two iterables p and q.\n",
      "\n",
      "        Roughly equivalent to:\n",
      "\n",
      "            sum(itertools.starmap(operator.mul, zip(p, q, strict=True)))\n",
      "\n",
      "        For float and mixed int/float inputs, the intermediate products\n",
      "        and sums are computed with extended precision.\n",
      "\n",
      "    tan(x, /)\n",
      "        Return the tangent of x (measured in radians).\n",
      "\n",
      "    tanh(x, /)\n",
      "        Return the hyperbolic tangent of x.\n",
      "\n",
      "    trunc(x, /)\n",
      "        Truncates the Real x to the nearest Integral toward 0.\n",
      "\n",
      "        Uses the __trunc__ magic method.\n",
      "\n",
      "    ulp(x, /)\n",
      "        Return the value of the least significant bit of the float x.\n",
      "\n",
      "DATA\n",
      "    e = 2.718281828459045\n",
      "    inf = inf\n",
      "    nan = nan\n",
      "    pi = 3.141592653589793\n",
      "    tau = 6.283185307179586\n",
      "\n",
      "FILE\n",
      "    /opt/homebrew/Cellar/python@3.13/3.13.7/Frameworks/Python.framework/Versions/3.13/lib/python3.13/lib-dynload/math.cpython-313-darwin.so\n",
      "\n",
      "\n"
     ]
    }
   ],
   "source": [
    "help(math)"
   ]
  },
  {
   "cell_type": "code",
   "execution_count": 4,
   "id": "14a81b76-be41-4da9-83db-2885e2f2ea7c",
   "metadata": {},
   "outputs": [
    {
     "data": {
      "text/plain": [
       "3.141592653589793"
      ]
     },
     "execution_count": 4,
     "metadata": {},
     "output_type": "execute_result"
    }
   ],
   "source": [
    "math.pi"
   ]
  },
  {
   "cell_type": "code",
   "execution_count": 5,
   "id": "777f2133-b2b4-4a84-884e-dd6d0686e982",
   "metadata": {},
   "outputs": [
    {
     "data": {
      "text/plain": [
       "6.283185307179586"
      ]
     },
     "execution_count": 5,
     "metadata": {},
     "output_type": "execute_result"
    }
   ],
   "source": [
    "math.tau"
   ]
  },
  {
   "cell_type": "code",
   "execution_count": 6,
   "id": "6bf5ca66-b25a-497a-a347-6b77a402e358",
   "metadata": {},
   "outputs": [],
   "source": [
    "import os"
   ]
  },
  {
   "cell_type": "markdown",
   "id": "7a0b9b49-061a-43b7-9c97-8ac93ba36fd9",
   "metadata": {},
   "source": [
    "# some modules have nested modules - these are called packages"
   ]
  },
  {
   "cell_type": "code",
   "execution_count": 8,
   "id": "1285c200-6727-48c5-a504-6f7afa366b82",
   "metadata": {},
   "outputs": [
    {
     "data": {
      "text/plain": [
       "'.'"
      ]
     },
     "execution_count": 8,
     "metadata": {},
     "output_type": "execute_result"
    }
   ],
   "source": [
    "os.path.curdir"
   ]
  },
  {
   "cell_type": "code",
   "execution_count": 9,
   "id": "aa745c16-4993-47be-b296-895316807764",
   "metadata": {},
   "outputs": [
    {
     "data": {
      "text/plain": [
       "'/Users/bharathreddy/Documents/Studyplan/python/fundamentals'"
      ]
     },
     "execution_count": 9,
     "metadata": {},
     "output_type": "execute_result"
    }
   ],
   "source": [
    "os.path.abspath(os.path.curdir)"
   ]
  },
  {
   "cell_type": "markdown",
   "id": "d80ddd70-c278-4a27-8fa2-bb95e643887e",
   "metadata": {},
   "source": [
    "## importing a method directly into current module just associates a symbol directly to the method.\n",
    "## Python still has to read, compile and load entire library, so below still loads entire math module"
   ]
  },
  {
   "cell_type": "code",
   "execution_count": 10,
   "id": "ccffad5a-a9fa-4b68-9f1e-3a70b272f1c8",
   "metadata": {},
   "outputs": [],
   "source": [
    "from math import sqrt"
   ]
  },
  {
   "cell_type": "code",
   "execution_count": 11,
   "id": "b52806f0-65cf-4b60-973c-5eae7ebcb5f8",
   "metadata": {},
   "outputs": [
    {
     "data": {
      "text/plain": [
       "2.0"
      ]
     },
     "execution_count": 11,
     "metadata": {},
     "output_type": "execute_result"
    }
   ],
   "source": [
    "sqrt(4)"
   ]
  },
  {
   "cell_type": "code",
   "execution_count": 13,
   "id": "71acf664-457c-4aa1-b2fc-eb6efe57b719",
   "metadata": {},
   "outputs": [
    {
     "data": {
      "text/plain": [
       "(module, builtin_function_or_method)"
      ]
     },
     "execution_count": 13,
     "metadata": {},
     "output_type": "execute_result"
    }
   ],
   "source": [
    "type(math), type(sqrt)"
   ]
  },
  {
   "cell_type": "code",
   "execution_count": 14,
   "id": "fcf2c6b9-0976-4514-b694-fbcded0663a6",
   "metadata": {},
   "outputs": [],
   "source": [
    "from fractions import Fraction"
   ]
  },
  {
   "cell_type": "code",
   "execution_count": 15,
   "id": "b2df969d-30f8-46f6-bbbc-5316286841b0",
   "metadata": {},
   "outputs": [
    {
     "data": {
      "text/plain": [
       "abc.ABCMeta"
      ]
     },
     "execution_count": 15,
     "metadata": {},
     "output_type": "execute_result"
    }
   ],
   "source": [
    "type(Fraction)"
   ]
  },
  {
   "cell_type": "code",
   "execution_count": 16,
   "id": "126378cc-5290-4435-9801-3a8fd81030fb",
   "metadata": {},
   "outputs": [
    {
     "data": {
      "text/plain": [
       "dict_items([('__name__', '__main__'), ('__doc__', 'Automatically created module for IPython interactive environment'), ('__package__', None), ('__loader__', None), ('__spec__', None), ('__builtin__', <module 'builtins' (built-in)>), ('__builtins__', <module 'builtins' (built-in)>), ('_ih', ['', 'import random', 'random', 'type(math)', 'import math', 'math', 'type(math)', 'hex(id(math))', 'import math\\nhex(id(math))', 'import sys\\ntype(sys.modules)', \"sys.modules['math']\", 'hex(id(math))', 'globals()', 'globals.items()', 'globals.items', 'globals().items', 'globals().items()']), ('_oh', {2: <module 'random' from '/opt/homebrew/Cellar/python@3.13/3.13.7/Frameworks/Python.framework/Versions/3.13/lib/python3.13/random.py'>, 5: <module 'math' from '/opt/homebrew/Cellar/python@3.13/3.13.7/Frameworks/Python.framework/Versions/3.13/lib/python3.13/lib-dynload/math.cpython-313-darwin.so'>, 6: <class 'module'>, 7: '0x105e3fce0', 8: '0x105e3fce0', 9: <class 'dict'>, 10: <module 'math' from '/opt/homebrew/Cellar/python@3.13/3.13.7/Frameworks/Python.framework/Versions/3.13/lib/python3.13/lib-dynload/math.cpython-313-darwin.so'>, 11: '0x105e3fce0', 12: {'__name__': '__main__', '__doc__': 'Automatically created module for IPython interactive environment', '__package__': None, '__loader__': None, '__spec__': None, '__builtin__': <module 'builtins' (built-in)>, '__builtins__': <module 'builtins' (built-in)>, '_ih': ['', 'import random', 'random', 'type(math)', 'import math', 'math', 'type(math)', 'hex(id(math))', 'import math\\nhex(id(math))', 'import sys\\ntype(sys.modules)', \"sys.modules['math']\", 'hex(id(math))', 'globals()', 'globals.items()', 'globals.items', 'globals().items', 'globals().items()'], '_oh': {...}, '_dh': [PosixPath('/Users/bharathreddy/Documents/Studyplan/python/fundamentals')], 'In': ['', 'import random', 'random', 'type(math)', 'import math', 'math', 'type(math)', 'hex(id(math))', 'import math\\nhex(id(math))', 'import sys\\ntype(sys.modules)', \"sys.modules['math']\", 'hex(id(math))', 'globals()', 'globals.items()', 'globals.items', 'globals().items', 'globals().items()'], 'Out': {...}, 'get_ipython': <bound method InteractiveShell.get_ipython of <ipykernel.zmqshell.ZMQInteractiveShell object at 0x1086902f0>>, 'exit': <IPython.core.autocall.ZMQExitAutocall object at 0x108692510>, 'quit': <IPython.core.autocall.ZMQExitAutocall object at 0x108692510>, 'open': <function open at 0x107610cc0>, '_': <built-in method items of dict object at 0x1088c7c00>, '__': {...}, '___': '0x105e3fce0', '__session__': '/Users/bharathreddy/Documents/Studyplan/python/fundamentals/modules.ipynb', '_i': 'globals().items', '_ii': 'globals.items', '_iii': 'globals.items()', '_i1': 'import random', 'random': <module 'random' from '/opt/homebrew/Cellar/python@3.13/3.13.7/Frameworks/Python.framework/Versions/3.13/lib/python3.13/random.py'>, '_i2': 'random', '_2': <module 'random' from '/opt/homebrew/Cellar/python@3.13/3.13.7/Frameworks/Python.framework/Versions/3.13/lib/python3.13/random.py'>, '_i3': 'type(math)', '_i4': 'import math', 'math': <module 'math' from '/opt/homebrew/Cellar/python@3.13/3.13.7/Frameworks/Python.framework/Versions/3.13/lib/python3.13/lib-dynload/math.cpython-313-darwin.so'>, '_i5': 'math', '_5': <module 'math' from '/opt/homebrew/Cellar/python@3.13/3.13.7/Frameworks/Python.framework/Versions/3.13/lib/python3.13/lib-dynload/math.cpython-313-darwin.so'>, '_i6': 'type(math)', '_6': <class 'module'>, '_i7': 'hex(id(math))', '_7': '0x105e3fce0', '_i8': 'import math\\nhex(id(math))', '_8': '0x105e3fce0', '_i9': 'import sys\\ntype(sys.modules)', 'sys': <module 'sys' (built-in)>, '_9': <class 'dict'>, '_i10': \"sys.modules['math']\", '_10': <module 'math' from '/opt/homebrew/Cellar/python@3.13/3.13.7/Frameworks/Python.framework/Versions/3.13/lib/python3.13/lib-dynload/math.cpython-313-darwin.so'>, '_i11': 'hex(id(math))', '_11': '0x105e3fce0', '_i12': 'globals()', '_12': {...}, '_i13': 'globals.items()', '_i14': 'globals.items', '_i15': 'globals().items', '_15': <built-in method items of dict object at 0x1088c7c00>, '_i16': 'globals().items()'}, 15: <built-in method items of dict object at 0x1088c7c00>}), ('_dh', [PosixPath('/Users/bharathreddy/Documents/Studyplan/python/fundamentals')]), ('In', ['', 'import random', 'random', 'type(math)', 'import math', 'math', 'type(math)', 'hex(id(math))', 'import math\\nhex(id(math))', 'import sys\\ntype(sys.modules)', \"sys.modules['math']\", 'hex(id(math))', 'globals()', 'globals.items()', 'globals.items', 'globals().items', 'globals().items()']), ('Out', {2: <module 'random' from '/opt/homebrew/Cellar/python@3.13/3.13.7/Frameworks/Python.framework/Versions/3.13/lib/python3.13/random.py'>, 5: <module 'math' from '/opt/homebrew/Cellar/python@3.13/3.13.7/Frameworks/Python.framework/Versions/3.13/lib/python3.13/lib-dynload/math.cpython-313-darwin.so'>, 6: <class 'module'>, 7: '0x105e3fce0', 8: '0x105e3fce0', 9: <class 'dict'>, 10: <module 'math' from '/opt/homebrew/Cellar/python@3.13/3.13.7/Frameworks/Python.framework/Versions/3.13/lib/python3.13/lib-dynload/math.cpython-313-darwin.so'>, 11: '0x105e3fce0', 12: {'__name__': '__main__', '__doc__': 'Automatically created module for IPython interactive environment', '__package__': None, '__loader__': None, '__spec__': None, '__builtin__': <module 'builtins' (built-in)>, '__builtins__': <module 'builtins' (built-in)>, '_ih': ['', 'import random', 'random', 'type(math)', 'import math', 'math', 'type(math)', 'hex(id(math))', 'import math\\nhex(id(math))', 'import sys\\ntype(sys.modules)', \"sys.modules['math']\", 'hex(id(math))', 'globals()', 'globals.items()', 'globals.items', 'globals().items', 'globals().items()'], '_oh': {...}, '_dh': [PosixPath('/Users/bharathreddy/Documents/Studyplan/python/fundamentals')], 'In': ['', 'import random', 'random', 'type(math)', 'import math', 'math', 'type(math)', 'hex(id(math))', 'import math\\nhex(id(math))', 'import sys\\ntype(sys.modules)', \"sys.modules['math']\", 'hex(id(math))', 'globals()', 'globals.items()', 'globals.items', 'globals().items', 'globals().items()'], 'Out': {...}, 'get_ipython': <bound method InteractiveShell.get_ipython of <ipykernel.zmqshell.ZMQInteractiveShell object at 0x1086902f0>>, 'exit': <IPython.core.autocall.ZMQExitAutocall object at 0x108692510>, 'quit': <IPython.core.autocall.ZMQExitAutocall object at 0x108692510>, 'open': <function open at 0x107610cc0>, '_': <built-in method items of dict object at 0x1088c7c00>, '__': {...}, '___': '0x105e3fce0', '__session__': '/Users/bharathreddy/Documents/Studyplan/python/fundamentals/modules.ipynb', '_i': 'globals().items', '_ii': 'globals.items', '_iii': 'globals.items()', '_i1': 'import random', 'random': <module 'random' from '/opt/homebrew/Cellar/python@3.13/3.13.7/Frameworks/Python.framework/Versions/3.13/lib/python3.13/random.py'>, '_i2': 'random', '_2': <module 'random' from '/opt/homebrew/Cellar/python@3.13/3.13.7/Frameworks/Python.framework/Versions/3.13/lib/python3.13/random.py'>, '_i3': 'type(math)', '_i4': 'import math', 'math': <module 'math' from '/opt/homebrew/Cellar/python@3.13/3.13.7/Frameworks/Python.framework/Versions/3.13/lib/python3.13/lib-dynload/math.cpython-313-darwin.so'>, '_i5': 'math', '_5': <module 'math' from '/opt/homebrew/Cellar/python@3.13/3.13.7/Frameworks/Python.framework/Versions/3.13/lib/python3.13/lib-dynload/math.cpython-313-darwin.so'>, '_i6': 'type(math)', '_6': <class 'module'>, '_i7': 'hex(id(math))', '_7': '0x105e3fce0', '_i8': 'import math\\nhex(id(math))', '_8': '0x105e3fce0', '_i9': 'import sys\\ntype(sys.modules)', 'sys': <module 'sys' (built-in)>, '_9': <class 'dict'>, '_i10': \"sys.modules['math']\", '_10': <module 'math' from '/opt/homebrew/Cellar/python@3.13/3.13.7/Frameworks/Python.framework/Versions/3.13/lib/python3.13/lib-dynload/math.cpython-313-darwin.so'>, '_i11': 'hex(id(math))', '_11': '0x105e3fce0', '_i12': 'globals()', '_12': {...}, '_i13': 'globals.items()', '_i14': 'globals.items', '_i15': 'globals().items', '_15': <built-in method items of dict object at 0x1088c7c00>, '_i16': 'globals().items()'}, 15: <built-in method items of dict object at 0x1088c7c00>}), ('get_ipython', <bound method InteractiveShell.get_ipython of <ipykernel.zmqshell.ZMQInteractiveShell object at 0x1086902f0>>), ('exit', <IPython.core.autocall.ZMQExitAutocall object at 0x108692510>), ('quit', <IPython.core.autocall.ZMQExitAutocall object at 0x108692510>), ('open', <function open at 0x107610cc0>), ('_', <built-in method items of dict object at 0x1088c7c00>), ('__', {'__name__': '__main__', '__doc__': 'Automatically created module for IPython interactive environment', '__package__': None, '__loader__': None, '__spec__': None, '__builtin__': <module 'builtins' (built-in)>, '__builtins__': <module 'builtins' (built-in)>, '_ih': ['', 'import random', 'random', 'type(math)', 'import math', 'math', 'type(math)', 'hex(id(math))', 'import math\\nhex(id(math))', 'import sys\\ntype(sys.modules)', \"sys.modules['math']\", 'hex(id(math))', 'globals()', 'globals.items()', 'globals.items', 'globals().items', 'globals().items()'], '_oh': {2: <module 'random' from '/opt/homebrew/Cellar/python@3.13/3.13.7/Frameworks/Python.framework/Versions/3.13/lib/python3.13/random.py'>, 5: <module 'math' from '/opt/homebrew/Cellar/python@3.13/3.13.7/Frameworks/Python.framework/Versions/3.13/lib/python3.13/lib-dynload/math.cpython-313-darwin.so'>, 6: <class 'module'>, 7: '0x105e3fce0', 8: '0x105e3fce0', 9: <class 'dict'>, 10: <module 'math' from '/opt/homebrew/Cellar/python@3.13/3.13.7/Frameworks/Python.framework/Versions/3.13/lib/python3.13/lib-dynload/math.cpython-313-darwin.so'>, 11: '0x105e3fce0', 12: {...}, 15: <built-in method items of dict object at 0x1088c7c00>}, '_dh': [PosixPath('/Users/bharathreddy/Documents/Studyplan/python/fundamentals')], 'In': ['', 'import random', 'random', 'type(math)', 'import math', 'math', 'type(math)', 'hex(id(math))', 'import math\\nhex(id(math))', 'import sys\\ntype(sys.modules)', \"sys.modules['math']\", 'hex(id(math))', 'globals()', 'globals.items()', 'globals.items', 'globals().items', 'globals().items()'], 'Out': {2: <module 'random' from '/opt/homebrew/Cellar/python@3.13/3.13.7/Frameworks/Python.framework/Versions/3.13/lib/python3.13/random.py'>, 5: <module 'math' from '/opt/homebrew/Cellar/python@3.13/3.13.7/Frameworks/Python.framework/Versions/3.13/lib/python3.13/lib-dynload/math.cpython-313-darwin.so'>, 6: <class 'module'>, 7: '0x105e3fce0', 8: '0x105e3fce0', 9: <class 'dict'>, 10: <module 'math' from '/opt/homebrew/Cellar/python@3.13/3.13.7/Frameworks/Python.framework/Versions/3.13/lib/python3.13/lib-dynload/math.cpython-313-darwin.so'>, 11: '0x105e3fce0', 12: {...}, 15: <built-in method items of dict object at 0x1088c7c00>}, 'get_ipython': <bound method InteractiveShell.get_ipython of <ipykernel.zmqshell.ZMQInteractiveShell object at 0x1086902f0>>, 'exit': <IPython.core.autocall.ZMQExitAutocall object at 0x108692510>, 'quit': <IPython.core.autocall.ZMQExitAutocall object at 0x108692510>, 'open': <function open at 0x107610cc0>, '_': <built-in method items of dict object at 0x1088c7c00>, '__': {...}, '___': '0x105e3fce0', '__session__': '/Users/bharathreddy/Documents/Studyplan/python/fundamentals/modules.ipynb', '_i': 'globals().items', '_ii': 'globals.items', '_iii': 'globals.items()', '_i1': 'import random', 'random': <module 'random' from '/opt/homebrew/Cellar/python@3.13/3.13.7/Frameworks/Python.framework/Versions/3.13/lib/python3.13/random.py'>, '_i2': 'random', '_2': <module 'random' from '/opt/homebrew/Cellar/python@3.13/3.13.7/Frameworks/Python.framework/Versions/3.13/lib/python3.13/random.py'>, '_i3': 'type(math)', '_i4': 'import math', 'math': <module 'math' from '/opt/homebrew/Cellar/python@3.13/3.13.7/Frameworks/Python.framework/Versions/3.13/lib/python3.13/lib-dynload/math.cpython-313-darwin.so'>, '_i5': 'math', '_5': <module 'math' from '/opt/homebrew/Cellar/python@3.13/3.13.7/Frameworks/Python.framework/Versions/3.13/lib/python3.13/lib-dynload/math.cpython-313-darwin.so'>, '_i6': 'type(math)', '_6': <class 'module'>, '_i7': 'hex(id(math))', '_7': '0x105e3fce0', '_i8': 'import math\\nhex(id(math))', '_8': '0x105e3fce0', '_i9': 'import sys\\ntype(sys.modules)', 'sys': <module 'sys' (built-in)>, '_9': <class 'dict'>, '_i10': \"sys.modules['math']\", '_10': <module 'math' from '/opt/homebrew/Cellar/python@3.13/3.13.7/Frameworks/Python.framework/Versions/3.13/lib/python3.13/lib-dynload/math.cpython-313-darwin.so'>, '_i11': 'hex(id(math))', '_11': '0x105e3fce0', '_i12': 'globals()', '_12': {...}, '_i13': 'globals.items()', '_i14': 'globals.items', '_i15': 'globals().items', '_15': <built-in method items of dict object at 0x1088c7c00>, '_i16': 'globals().items()'}), ('___', '0x105e3fce0'), ('__session__', '/Users/bharathreddy/Documents/Studyplan/python/fundamentals/modules.ipynb'), ('_i', 'globals().items'), ('_ii', 'globals.items'), ('_iii', 'globals.items()'), ('_i1', 'import random'), ('random', <module 'random' from '/opt/homebrew/Cellar/python@3.13/3.13.7/Frameworks/Python.framework/Versions/3.13/lib/python3.13/random.py'>), ('_i2', 'random'), ('_2', <module 'random' from '/opt/homebrew/Cellar/python@3.13/3.13.7/Frameworks/Python.framework/Versions/3.13/lib/python3.13/random.py'>), ('_i3', 'type(math)'), ('_i4', 'import math'), ('math', <module 'math' from '/opt/homebrew/Cellar/python@3.13/3.13.7/Frameworks/Python.framework/Versions/3.13/lib/python3.13/lib-dynload/math.cpython-313-darwin.so'>), ('_i5', 'math'), ('_5', <module 'math' from '/opt/homebrew/Cellar/python@3.13/3.13.7/Frameworks/Python.framework/Versions/3.13/lib/python3.13/lib-dynload/math.cpython-313-darwin.so'>), ('_i6', 'type(math)'), ('_6', <class 'module'>), ('_i7', 'hex(id(math))'), ('_7', '0x105e3fce0'), ('_i8', 'import math\\nhex(id(math))'), ('_8', '0x105e3fce0'), ('_i9', 'import sys\\ntype(sys.modules)'), ('sys', <module 'sys' (built-in)>), ('_9', <class 'dict'>), ('_i10', \"sys.modules['math']\"), ('_10', <module 'math' from '/opt/homebrew/Cellar/python@3.13/3.13.7/Frameworks/Python.framework/Versions/3.13/lib/python3.13/lib-dynload/math.cpython-313-darwin.so'>), ('_i11', 'hex(id(math))'), ('_11', '0x105e3fce0'), ('_i12', 'globals()'), ('_12', {'__name__': '__main__', '__doc__': 'Automatically created module for IPython interactive environment', '__package__': None, '__loader__': None, '__spec__': None, '__builtin__': <module 'builtins' (built-in)>, '__builtins__': <module 'builtins' (built-in)>, '_ih': ['', 'import random', 'random', 'type(math)', 'import math', 'math', 'type(math)', 'hex(id(math))', 'import math\\nhex(id(math))', 'import sys\\ntype(sys.modules)', \"sys.modules['math']\", 'hex(id(math))', 'globals()', 'globals.items()', 'globals.items', 'globals().items', 'globals().items()'], '_oh': {2: <module 'random' from '/opt/homebrew/Cellar/python@3.13/3.13.7/Frameworks/Python.framework/Versions/3.13/lib/python3.13/random.py'>, 5: <module 'math' from '/opt/homebrew/Cellar/python@3.13/3.13.7/Frameworks/Python.framework/Versions/3.13/lib/python3.13/lib-dynload/math.cpython-313-darwin.so'>, 6: <class 'module'>, 7: '0x105e3fce0', 8: '0x105e3fce0', 9: <class 'dict'>, 10: <module 'math' from '/opt/homebrew/Cellar/python@3.13/3.13.7/Frameworks/Python.framework/Versions/3.13/lib/python3.13/lib-dynload/math.cpython-313-darwin.so'>, 11: '0x105e3fce0', 12: {...}, 15: <built-in method items of dict object at 0x1088c7c00>}, '_dh': [PosixPath('/Users/bharathreddy/Documents/Studyplan/python/fundamentals')], 'In': ['', 'import random', 'random', 'type(math)', 'import math', 'math', 'type(math)', 'hex(id(math))', 'import math\\nhex(id(math))', 'import sys\\ntype(sys.modules)', \"sys.modules['math']\", 'hex(id(math))', 'globals()', 'globals.items()', 'globals.items', 'globals().items', 'globals().items()'], 'Out': {2: <module 'random' from '/opt/homebrew/Cellar/python@3.13/3.13.7/Frameworks/Python.framework/Versions/3.13/lib/python3.13/random.py'>, 5: <module 'math' from '/opt/homebrew/Cellar/python@3.13/3.13.7/Frameworks/Python.framework/Versions/3.13/lib/python3.13/lib-dynload/math.cpython-313-darwin.so'>, 6: <class 'module'>, 7: '0x105e3fce0', 8: '0x105e3fce0', 9: <class 'dict'>, 10: <module 'math' from '/opt/homebrew/Cellar/python@3.13/3.13.7/Frameworks/Python.framework/Versions/3.13/lib/python3.13/lib-dynload/math.cpython-313-darwin.so'>, 11: '0x105e3fce0', 12: {...}, 15: <built-in method items of dict object at 0x1088c7c00>}, 'get_ipython': <bound method InteractiveShell.get_ipython of <ipykernel.zmqshell.ZMQInteractiveShell object at 0x1086902f0>>, 'exit': <IPython.core.autocall.ZMQExitAutocall object at 0x108692510>, 'quit': <IPython.core.autocall.ZMQExitAutocall object at 0x108692510>, 'open': <function open at 0x107610cc0>, '_': <built-in method items of dict object at 0x1088c7c00>, '__': {...}, '___': '0x105e3fce0', '__session__': '/Users/bharathreddy/Documents/Studyplan/python/fundamentals/modules.ipynb', '_i': 'globals().items', '_ii': 'globals.items', '_iii': 'globals.items()', '_i1': 'import random', 'random': <module 'random' from '/opt/homebrew/Cellar/python@3.13/3.13.7/Frameworks/Python.framework/Versions/3.13/lib/python3.13/random.py'>, '_i2': 'random', '_2': <module 'random' from '/opt/homebrew/Cellar/python@3.13/3.13.7/Frameworks/Python.framework/Versions/3.13/lib/python3.13/random.py'>, '_i3': 'type(math)', '_i4': 'import math', 'math': <module 'math' from '/opt/homebrew/Cellar/python@3.13/3.13.7/Frameworks/Python.framework/Versions/3.13/lib/python3.13/lib-dynload/math.cpython-313-darwin.so'>, '_i5': 'math', '_5': <module 'math' from '/opt/homebrew/Cellar/python@3.13/3.13.7/Frameworks/Python.framework/Versions/3.13/lib/python3.13/lib-dynload/math.cpython-313-darwin.so'>, '_i6': 'type(math)', '_6': <class 'module'>, '_i7': 'hex(id(math))', '_7': '0x105e3fce0', '_i8': 'import math\\nhex(id(math))', '_8': '0x105e3fce0', '_i9': 'import sys\\ntype(sys.modules)', 'sys': <module 'sys' (built-in)>, '_9': <class 'dict'>, '_i10': \"sys.modules['math']\", '_10': <module 'math' from '/opt/homebrew/Cellar/python@3.13/3.13.7/Frameworks/Python.framework/Versions/3.13/lib/python3.13/lib-dynload/math.cpython-313-darwin.so'>, '_i11': 'hex(id(math))', '_11': '0x105e3fce0', '_i12': 'globals()', '_12': {...}, '_i13': 'globals.items()', '_i14': 'globals.items', '_i15': 'globals().items', '_15': <built-in method items of dict object at 0x1088c7c00>, '_i16': 'globals().items()'}), ('_i13', 'globals.items()'), ('_i14', 'globals.items'), ('_i15', 'globals().items'), ('_15', <built-in method items of dict object at 0x1088c7c00>), ('_i16', 'globals().items()')])"
      ]
     },
     "execution_count": 16,
     "metadata": {},
     "output_type": "execute_result"
    }
   ],
   "source": [
    "globals().items()"
   ]
  },
  {
   "cell_type": "code",
   "execution_count": null,
   "id": "fb05b99e-84aa-42e8-b5ea-6ef8c9a004ac",
   "metadata": {},
   "outputs": [],
   "source": []
  }
 ],
 "metadata": {
  "kernelspec": {
   "display_name": "Python (fundamentals)",
   "language": "python",
   "name": "fundamentals"
  },
  "language_info": {
   "codemirror_mode": {
    "name": "ipython",
    "version": 3
   },
   "file_extension": ".py",
   "mimetype": "text/x-python",
   "name": "python",
   "nbconvert_exporter": "python",
   "pygments_lexer": "ipython3",
   "version": "3.13.7"
  }
 },
 "nbformat": 4,
 "nbformat_minor": 5
}
