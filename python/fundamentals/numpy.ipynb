{
 "cells": [
  {
   "cell_type": "markdown",
   "id": "9b7fb97f-43fd-40e1-8755-48d84a79e338",
   "metadata": {},
   "source": [
    "# NUMPY"
   ]
  },
  {
   "cell_type": "code",
   "execution_count": 1,
   "id": "075b85b9-d1f8-4bb1-b17b-1160e2234f30",
   "metadata": {},
   "outputs": [],
   "source": [
    "import numpy as np"
   ]
  },
  {
   "cell_type": "code",
   "execution_count": 2,
   "id": "c46c62c0-8d27-45c4-9dee-163fc4320ae2",
   "metadata": {},
   "outputs": [
    {
     "data": {
      "text/plain": [
       "(array([1, 2, 3, 4]), array([0.1, 0.2, 0.3]))"
      ]
     },
     "execution_count": 2,
     "metadata": {},
     "output_type": "execute_result"
    }
   ],
   "source": [
    "a1 = np.array([1, 2, 3, 4])\n",
    "a2 = np.array((0.1, 0.2, 0.3))\n",
    "\n",
    "a1, a2"
   ]
  },
  {
   "cell_type": "code",
   "execution_count": 3,
   "id": "3f5d37b4-7d1a-420b-860a-1a2be0325c37",
   "metadata": {},
   "outputs": [
    {
     "data": {
      "text/plain": [
       "(numpy.ndarray, numpy.ndarray)"
      ]
     },
     "execution_count": 3,
     "metadata": {},
     "output_type": "execute_result"
    }
   ],
   "source": [
    "type(a1), type(a2)"
   ]
  },
  {
   "cell_type": "code",
   "execution_count": 4,
   "id": "190991b1-fac4-4555-82e3-eb2c0ccd597c",
   "metadata": {},
   "outputs": [
    {
     "data": {
      "text/plain": [
       "(dtype('int64'), dtype('float64'))"
      ]
     },
     "execution_count": 4,
     "metadata": {},
     "output_type": "execute_result"
    }
   ],
   "source": [
    "a1.dtype, a2.dtype"
   ]
  },
  {
   "cell_type": "code",
   "execution_count": 5,
   "id": "4192d2c9-91c7-4fc7-98d7-f4848554752d",
   "metadata": {},
   "outputs": [
    {
     "data": {
      "text/plain": [
       "(144, 32)"
      ]
     },
     "execution_count": 5,
     "metadata": {},
     "output_type": "execute_result"
    }
   ],
   "source": [
    "import sys\n",
    "\n",
    "#fixed overhead storing shape, dtype, ndim, pointer to actual data buffer, strides and reference counts.\n",
    "# nbytes gives actual raw bytes of data (len(a1) * 8 bytes/64 bits = 32 bytes\n",
    "sys.getsizeof(a1), a1.nbytes"
   ]
  },
  {
   "cell_type": "code",
   "execution_count": 6,
   "id": "a4e5fe6f-dc4c-4733-9ed1-4797759ba391",
   "metadata": {},
   "outputs": [
    {
     "data": {
      "text/plain": [
       "(numpy.ndarray, dtype('uint8'), 144, 32)"
      ]
     },
     "execution_count": 6,
     "metadata": {},
     "output_type": "execute_result"
    }
   ],
   "source": [
    "a1.dtype=np.uint8\n",
    "a2.dtype=np.float16\n",
    "\n",
    "type(a1), a1.dtype, sys.getsizeof(a1), a1.nbytes\n",
    "# actual data not converted, just how NumPy interprets the existing bytes"
   ]
  },
  {
   "cell_type": "code",
   "execution_count": 7,
   "id": "e11a6793-cd42-42b7-a16e-feca63d72767",
   "metadata": {},
   "outputs": [
    {
     "data": {
      "text/plain": [
       "(dtype('uint8'), 116, 4)"
      ]
     },
     "execution_count": 7,
     "metadata": {},
     "output_type": "execute_result"
    }
   ],
   "source": [
    "# Create a new array to reduce the size\n",
    "a3 = np.array([1, 2, 3, 4], dtype=np.uint8)\n",
    "a3.dtype, sys.getsizeof(a3), a3.nbytes"
   ]
  },
  {
   "cell_type": "code",
   "execution_count": 8,
   "id": "03f7adcb-5777-401d-b803-e7add0e9e7a5",
   "metadata": {},
   "outputs": [
    {
     "data": {
      "text/plain": [
       "array([  1,   2, 255,   4], dtype=uint8)"
      ]
     },
     "execution_count": 8,
     "metadata": {},
     "output_type": "execute_result"
    }
   ],
   "source": [
    "a3[2] = 255\n",
    "a3"
   ]
  },
  {
   "cell_type": "code",
   "execution_count": 9,
   "id": "eddaa920-0d8a-42ab-af43-7671943b905c",
   "metadata": {},
   "outputs": [
    {
     "ename": "OverflowError",
     "evalue": "Python integer 256 out of bounds for uint8",
     "output_type": "error",
     "traceback": [
      "\u001b[31m---------------------------------------------------------------------------\u001b[39m",
      "\u001b[31mOverflowError\u001b[39m                             Traceback (most recent call last)",
      "\u001b[36mCell\u001b[39m\u001b[36m \u001b[39m\u001b[32mIn[9]\u001b[39m\u001b[32m, line 1\u001b[39m\n\u001b[32m----> \u001b[39m\u001b[32m1\u001b[39m \u001b[43ma3\u001b[49m\u001b[43m[\u001b[49m\u001b[32;43m2\u001b[39;49m\u001b[43m]\u001b[49m = \u001b[32m256\u001b[39m\n\u001b[32m      2\u001b[39m a3\n",
      "\u001b[31mOverflowError\u001b[39m: Python integer 256 out of bounds for uint8"
     ]
    }
   ],
   "source": [
    "a3[2] = 256\n",
    "a3"
   ]
  },
  {
   "cell_type": "code",
   "execution_count": 10,
   "id": "2d6e44e7-8bcb-45d0-849e-eb0c7b31bbc1",
   "metadata": {},
   "outputs": [
    {
     "data": {
      "text/plain": [
       "(dtype('int16'), 120, 8)"
      ]
     },
     "execution_count": 10,
     "metadata": {},
     "output_type": "execute_result"
    }
   ],
   "source": [
    "a3 = a3.astype(np.int16)\n",
    "a3.dtype, sys.getsizeof(a3), a3.nbytes"
   ]
  },
  {
   "cell_type": "code",
   "execution_count": 11,
   "id": "f5e403b2-a4f4-4244-bb31-2d297e6a7465",
   "metadata": {},
   "outputs": [
    {
     "data": {
      "text/plain": [
       "array([    1,     2, 25600,     4], dtype=int16)"
      ]
     },
     "execution_count": 11,
     "metadata": {},
     "output_type": "execute_result"
    }
   ],
   "source": [
    "a3[2] = 25600\n",
    "a3"
   ]
  },
  {
   "cell_type": "code",
   "execution_count": 12,
   "id": "82f7e033-1bfa-46b3-b09b-2a4022a5ebd4",
   "metadata": {},
   "outputs": [
    {
     "ename": "OverflowError",
     "evalue": "Python integer 9999999999999999 out of bounds for int16",
     "output_type": "error",
     "traceback": [
      "\u001b[31m---------------------------------------------------------------------------\u001b[39m",
      "\u001b[31mOverflowError\u001b[39m                             Traceback (most recent call last)",
      "\u001b[36mCell\u001b[39m\u001b[36m \u001b[39m\u001b[32mIn[12]\u001b[39m\u001b[32m, line 1\u001b[39m\n\u001b[32m----> \u001b[39m\u001b[32m1\u001b[39m \u001b[43ma3\u001b[49m\u001b[43m[\u001b[49m\u001b[32;43m2\u001b[39;49m\u001b[43m]\u001b[49m = \u001b[32m999_999_999_999_9999\u001b[39m\n\u001b[32m      2\u001b[39m a3\n",
      "\u001b[31mOverflowError\u001b[39m: Python integer 9999999999999999 out of bounds for int16"
     ]
    }
   ],
   "source": [
    "a3[2] = 999_999_999_999_9999\n",
    "a3"
   ]
  },
  {
   "cell_type": "code",
   "execution_count": 13,
   "id": "f2c907f9-7294-4d74-8768-a11f1736b315",
   "metadata": {},
   "outputs": [
    {
     "data": {
      "text/plain": [
       "array([    1,     2, 25600,     4], dtype=int16)"
      ]
     },
     "execution_count": 13,
     "metadata": {},
     "output_type": "execute_result"
    }
   ],
   "source": [
    "a3"
   ]
  },
  {
   "cell_type": "markdown",
   "id": "6b846f32-3b01-4135-b707-78e152b4c372",
   "metadata": {},
   "source": [
    "# if we change the dtype and a larger number is found it wraps around since range of int8 is 255, the number 25600 mod 255 = 0 and hence changes to 0"
   ]
  },
  {
   "cell_type": "code",
   "execution_count": 15,
   "id": "e64b64f2-c949-4c0c-b5c0-39dc25066376",
   "metadata": {},
   "outputs": [
    {
     "data": {
      "text/plain": [
       "array([1, 2, 0, 4], dtype=int8)"
      ]
     },
     "execution_count": 15,
     "metadata": {},
     "output_type": "execute_result"
    }
   ],
   "source": [
    "a3 = a3.astype(np.int8)\n",
    "\n",
    "a3"
   ]
  },
  {
   "cell_type": "code",
   "execution_count": 16,
   "id": "4140977e-a5c9-4f6a-82bc-96ae6189725f",
   "metadata": {},
   "outputs": [
    {
     "data": {
      "text/plain": [
       "(dtype('int8'), 116, 4)"
      ]
     },
     "execution_count": 16,
     "metadata": {},
     "output_type": "execute_result"
    }
   ],
   "source": [
    "a3.dtype, sys.getsizeof(a3), a3.nbytes"
   ]
  },
  {
   "cell_type": "markdown",
   "id": "ee872e9a-3b6d-4a7a-8392-af7fab7d5b51",
   "metadata": {},
   "source": [
    "## shapes and sizes and dimensions"
   ]
  },
  {
   "cell_type": "code",
   "execution_count": 25,
   "id": "456d9900-a045-42ad-a093-1403e1ce4e87",
   "metadata": {},
   "outputs": [],
   "source": [
    "a1 = np.array([1, 2, 3, 4], dtype=np.uint8)\n",
    "m1 = np.array([[1, 2, 3], \n",
    "               [4, 5, 6], \n",
    "               [7, 8, 9],\n",
    "               [10, 11, 12]], dtype=np.int16)"
   ]
  },
  {
   "cell_type": "code",
   "execution_count": 26,
   "id": "38b41f77-81ee-4986-9852-4acd87235cee",
   "metadata": {},
   "outputs": [
    {
     "data": {
      "text/plain": [
       "(4, 4)"
      ]
     },
     "execution_count": 26,
     "metadata": {},
     "output_type": "execute_result"
    }
   ],
   "source": [
    "len(a1), len(m1)"
   ]
  },
  {
   "cell_type": "code",
   "execution_count": 27,
   "id": "15cbbf37-9eb7-4500-924d-4532b16157ca",
   "metadata": {},
   "outputs": [
    {
     "data": {
      "text/plain": [
       "(4, 12)"
      ]
     },
     "execution_count": 27,
     "metadata": {},
     "output_type": "execute_result"
    }
   ],
   "source": [
    "a1.size, m1.size"
   ]
  },
  {
   "cell_type": "code",
   "execution_count": 28,
   "id": "6dbb79f5-c698-4676-9a73-7b7ea3991c1b",
   "metadata": {},
   "outputs": [
    {
     "data": {
      "text/plain": [
       "((4,), (4, 3))"
      ]
     },
     "execution_count": 28,
     "metadata": {},
     "output_type": "execute_result"
    }
   ],
   "source": [
    "a1.shape, m1.shape"
   ]
  },
  {
   "cell_type": "code",
   "execution_count": 29,
   "id": "7aed85d5-ded8-42e4-ad7c-beab73288437",
   "metadata": {},
   "outputs": [
    {
     "data": {
      "text/plain": [
       "(1, 2)"
      ]
     },
     "execution_count": 29,
     "metadata": {},
     "output_type": "execute_result"
    }
   ],
   "source": [
    "a1.ndim, m1.ndim"
   ]
  },
  {
   "cell_type": "markdown",
   "id": "c3bf2fc5-d589-4a2a-96ef-90929992f993",
   "metadata": {},
   "source": [
    "# creating np.arrays from scratch"
   ]
  },
  {
   "cell_type": "code",
   "execution_count": 30,
   "id": "00af7957-eee2-4412-ab39-8fc7780adf26",
   "metadata": {},
   "outputs": [
    {
     "data": {
      "text/plain": [
       "array([[0., 0., 0.],\n",
       "       [0., 0., 0.]], dtype=float16)"
      ]
     },
     "execution_count": 30,
     "metadata": {},
     "output_type": "execute_result"
    }
   ],
   "source": [
    "np.zeros((2,3), dtype=np.float16)"
   ]
  },
  {
   "cell_type": "code",
   "execution_count": 31,
   "id": "7debf7e6-0c44-4c35-a7b7-0b88bb55a7fd",
   "metadata": {},
   "outputs": [
    {
     "data": {
      "text/plain": [
       "array([[1, 1],\n",
       "       [1, 1],\n",
       "       [1, 1]], dtype=int8)"
      ]
     },
     "execution_count": 31,
     "metadata": {},
     "output_type": "execute_result"
    }
   ],
   "source": [
    "np.ones((3,2), dtype=np.int8)"
   ]
  },
  {
   "cell_type": "code",
   "execution_count": 32,
   "id": "ba060d6b-92f5-4f40-8b77-aa118cc9b677",
   "metadata": {},
   "outputs": [
    {
     "data": {
      "text/plain": [
       "array([[3.14, 3.14, 3.14],\n",
       "       [3.14, 3.14, 3.14],\n",
       "       [3.14, 3.14, 3.14],\n",
       "       [3.14, 3.14, 3.14]], dtype=float16)"
      ]
     },
     "execution_count": 32,
     "metadata": {},
     "output_type": "execute_result"
    }
   ],
   "source": [
    "np.full((4,3), 3.14, np.float16)"
   ]
  },
  {
   "cell_type": "code",
   "execution_count": 33,
   "id": "ff6e5f8a-b40d-4c88-ada3-4f7559cc86eb",
   "metadata": {},
   "outputs": [
    {
     "data": {
      "text/plain": [
       "array([[1., 0., 0., 0.],\n",
       "       [0., 1., 0., 0.],\n",
       "       [0., 0., 1., 0.],\n",
       "       [0., 0., 0., 1.]])"
      ]
     },
     "execution_count": 33,
     "metadata": {},
     "output_type": "execute_result"
    }
   ],
   "source": [
    "np.eye(4)"
   ]
  },
  {
   "cell_type": "code",
   "execution_count": 34,
   "id": "d00229f8-1555-4309-95af-44a5fbcdc701",
   "metadata": {},
   "outputs": [
    {
     "data": {
      "text/plain": [
       "array([[1, 0, 0, 0, 0],\n",
       "       [0, 1, 0, 0, 0],\n",
       "       [0, 0, 1, 0, 0],\n",
       "       [0, 0, 0, 1, 0]], dtype=int8)"
      ]
     },
     "execution_count": 34,
     "metadata": {},
     "output_type": "execute_result"
    }
   ],
   "source": [
    "np.eye(4, 5, dtype=np.int8)"
   ]
  },
  {
   "cell_type": "code",
   "execution_count": 38,
   "id": "5216b6e0-ee41-4a69-bb3e-b5ff99595f3f",
   "metadata": {},
   "outputs": [
    {
     "data": {
      "text/plain": [
       "array([[0, 1, 0],\n",
       "       [0, 0, 1],\n",
       "       [0, 0, 0]], dtype=uint8)"
      ]
     },
     "execution_count": 38,
     "metadata": {},
     "output_type": "execute_result"
    }
   ],
   "source": [
    "np.eye(3, k=1, dtype=np.uint8)"
   ]
  },
  {
   "cell_type": "code",
   "execution_count": 39,
   "id": "8e658e13-1ee3-43a1-93f2-21bed7e9879f",
   "metadata": {},
   "outputs": [
    {
     "data": {
      "text/plain": [
       "array([[0, 0, 0],\n",
       "       [0, 0, 0],\n",
       "       [1, 0, 0]], dtype=uint8)"
      ]
     },
     "execution_count": 39,
     "metadata": {},
     "output_type": "execute_result"
    }
   ],
   "source": [
    "np.eye(3, k=-2, dtype=np.uint8)"
   ]
  },
  {
   "cell_type": "code",
   "execution_count": 41,
   "id": "96c3dc9d-884a-433c-8f8c-de2bff833a11",
   "metadata": {},
   "outputs": [
    {
     "data": {
      "text/plain": [
       "(array([0, 2, 4, 6, 8]), array([1, 2, 3, 4]))"
      ]
     },
     "execution_count": 41,
     "metadata": {},
     "output_type": "execute_result"
    }
   ],
   "source": [
    "np.arange(0, 10, 2), np.arange(1,5,1)"
   ]
  },
  {
   "cell_type": "code",
   "execution_count": 49,
   "id": "943b2dc4-15c1-40e7-adbd-6c3b2943b5cc",
   "metadata": {},
   "outputs": [
    {
     "data": {
      "text/plain": [
       "(array([  0.,  10.,  20.,  30.,  40.,  50.,  60.,  70.,  80.,  90., 100.]),\n",
       " array([  0.        ,  11.11111111,  22.22222222,  33.33333333,\n",
       "         44.44444444,  55.55555556,  66.66666667,  77.77777778,\n",
       "         88.88888889, 100.        ]))"
      ]
     },
     "execution_count": 49,
     "metadata": {},
     "output_type": "execute_result"
    }
   ],
   "source": [
    "np.linspace(0, 100, 11), np.linspace(0, 100, 10)"
   ]
  },
  {
   "cell_type": "code",
   "execution_count": 50,
   "id": "0a21b032-98c5-49e1-bb29-f80a610d3bd2",
   "metadata": {},
   "outputs": [],
   "source": [
    "import math"
   ]
  },
  {
   "cell_type": "code",
   "execution_count": 52,
   "id": "043a3584-876a-46f5-a8c4-890bb10c509f",
   "metadata": {},
   "outputs": [
    {
     "data": {
      "text/plain": [
       "array([-6.28318531, -6.02672876, -5.77027222, -5.51381568, -5.25735913,\n",
       "       -5.00090259, -4.74444605, -4.48798951, -4.23153296, -3.97507642,\n",
       "       -3.71861988, -3.46216333, -3.20570679, -2.94925025, -2.6927937 ,\n",
       "       -2.43633716, -2.17988062, -1.92342407, -1.66696753, -1.41051099,\n",
       "       -1.15405444, -0.8975979 , -0.64114136, -0.38468481, -0.12822827,\n",
       "        0.12822827,  0.38468481,  0.64114136,  0.8975979 ,  1.15405444,\n",
       "        1.41051099,  1.66696753,  1.92342407,  2.17988062,  2.43633716,\n",
       "        2.6927937 ,  2.94925025,  3.20570679,  3.46216333,  3.71861988,\n",
       "        3.97507642,  4.23153296,  4.48798951,  4.74444605,  5.00090259,\n",
       "        5.25735913,  5.51381568,  5.77027222,  6.02672876,  6.28318531])"
      ]
     },
     "execution_count": 52,
     "metadata": {},
     "output_type": "execute_result"
    }
   ],
   "source": [
    "x_coords = np.linspace(-2 * math.pi, 2 * math.pi)\n",
    "x_coords"
   ]
  },
  {
   "cell_type": "code",
   "execution_count": 53,
   "id": "70573390-52a4-42e3-85d5-bcf32d84e727",
   "metadata": {},
   "outputs": [
    {
     "data": {
      "text/plain": [
       "numpy.ndarray"
      ]
     },
     "execution_count": 53,
     "metadata": {},
     "output_type": "execute_result"
    }
   ],
   "source": [
    "type(x_coords)"
   ]
  },
  {
   "cell_type": "code",
   "execution_count": 55,
   "id": "df5c6edb-bb4f-47c6-ab94-332b5e39a2d2",
   "metadata": {},
   "outputs": [
    {
     "data": {
      "text/plain": [
       "array([ 2.44929360e-16,  2.53654584e-01,  4.90717552e-01,  6.95682551e-01,\n",
       "        8.55142763e-01,  9.58667853e-01,  9.99486216e-01,  9.74927912e-01,\n",
       "        8.86599306e-01,  7.40277997e-01,  5.45534901e-01,  3.15108218e-01,\n",
       "        6.40702200e-02, -1.91158629e-01, -4.33883739e-01, -6.48228395e-01,\n",
       "       -8.20172255e-01, -9.38468422e-01, -9.95379113e-01, -9.87181783e-01,\n",
       "       -9.14412623e-01, -7.81831482e-01, -5.98110530e-01, -3.75267005e-01,\n",
       "       -1.27877162e-01,  1.27877162e-01,  3.75267005e-01,  5.98110530e-01,\n",
       "        7.81831482e-01,  9.14412623e-01,  9.87181783e-01,  9.95379113e-01,\n",
       "        9.38468422e-01,  8.20172255e-01,  6.48228395e-01,  4.33883739e-01,\n",
       "        1.91158629e-01, -6.40702200e-02, -3.15108218e-01, -5.45534901e-01,\n",
       "       -7.40277997e-01, -8.86599306e-01, -9.74927912e-01, -9.99486216e-01,\n",
       "       -9.58667853e-01, -8.55142763e-01, -6.95682551e-01, -4.90717552e-01,\n",
       "       -2.53654584e-01, -2.44929360e-16])"
      ]
     },
     "execution_count": 55,
     "metadata": {},
     "output_type": "execute_result"
    }
   ],
   "source": [
    "y_coords = np.sin(x_coords)\n",
    "y_coords"
   ]
  },
  {
   "cell_type": "code",
   "execution_count": 57,
   "id": "ea538313-fed4-40b9-a7ae-8d642ff45949",
   "metadata": {},
   "outputs": [
    {
     "data": {
      "text/plain": [
       "[2.4492935982947064e-16,\n",
       " 0.2536545839095075,\n",
       " 0.49071755200393785,\n",
       " 0.6956825506034863,\n",
       " 0.855142763005346,\n",
       " 0.9586678530366608,\n",
       " 0.9994862162006879,\n",
       " 0.9749279121818236,\n",
       " 0.886599306373,\n",
       " 0.7402779970753156,\n",
       " 0.5455349012105488,\n",
       " 0.3151082180236206,\n",
       " 0.064070219980713,\n",
       " -0.1911586287013721,\n",
       " -0.43388373911755823,\n",
       " -0.6482283953077884,\n",
       " -0.8201722545969558,\n",
       " -0.9384684220497603,\n",
       " -0.9953791129491981,\n",
       " -0.9871817834144502,\n",
       " -0.9144126230158127,\n",
       " -0.7818314824680298,\n",
       " -0.5981105304912161,\n",
       " -0.37526700487937437,\n",
       " -0.12787716168450639,\n",
       " 0.1278771616845055,\n",
       " 0.37526700487937353,\n",
       " 0.5981105304912153,\n",
       " 0.7818314824680298,\n",
       " 0.9144126230158124,\n",
       " 0.9871817834144501,\n",
       " 0.9953791129491982,\n",
       " 0.9384684220497606,\n",
       " 0.8201722545969558,\n",
       " 0.6482283953077891,\n",
       " 0.43388373911755823,\n",
       " 0.1911586287013734,\n",
       " -0.06407021998071255,\n",
       " -0.3151082180236194,\n",
       " -0.5455349012105482,\n",
       " -0.7402779970753144,\n",
       " -0.8865993063729997,\n",
       " -0.9749279121818236,\n",
       " -0.9994862162006879,\n",
       " -0.9586678530366608,\n",
       " -0.855142763005347,\n",
       " -0.6956825506034869,\n",
       " -0.4907175520039394,\n",
       " -0.25365458390950835,\n",
       " -2.4492935982947064e-16]"
      ]
     },
     "execution_count": 57,
     "metadata": {},
     "output_type": "execute_result"
    }
   ],
   "source": [
    "[math.sin(x) for x in x_coords]"
   ]
  },
  {
   "cell_type": "code",
   "execution_count": 58,
   "id": "c8689bf5-5cb7-4835-8fdd-8a24678a27a4",
   "metadata": {},
   "outputs": [
    {
     "data": {
      "text/plain": [
       "array([0.91301539, 0.35642954, 0.31306983, 0.35517757, 0.48765907])"
      ]
     },
     "execution_count": 58,
     "metadata": {},
     "output_type": "execute_result"
    }
   ],
   "source": [
    "np.random.random(5)"
   ]
  },
  {
   "cell_type": "code",
   "execution_count": 60,
   "id": "d8e5a6b6-1944-4296-b45d-2b35ddc09ed8",
   "metadata": {},
   "outputs": [
    {
     "data": {
      "text/plain": [
       "array([[0.5488135 , 0.71518937, 0.60276338],\n",
       "       [0.54488318, 0.4236548 , 0.64589411],\n",
       "       [0.43758721, 0.891773  , 0.96366276],\n",
       "       [0.38344152, 0.79172504, 0.52889492],\n",
       "       [0.56804456, 0.92559664, 0.07103606]])"
      ]
     },
     "execution_count": 60,
     "metadata": {},
     "output_type": "execute_result"
    }
   ],
   "source": [
    "np.random.seed(0)\n",
    "np.random.random((5,3))"
   ]
  },
  {
   "cell_type": "code",
   "execution_count": 63,
   "id": "6dd71dd9-77b0-4e8a-b1c6-20bef4cdd063",
   "metadata": {},
   "outputs": [
    {
     "data": {
      "text/plain": [
       "array([[3, 6],\n",
       "       [6, 6],\n",
       "       [1, 2],\n",
       "       [6, 2],\n",
       "       [4, 1],\n",
       "       [6, 1],\n",
       "       [2, 3],\n",
       "       [5, 3],\n",
       "       [1, 6],\n",
       "       [4, 3]])"
      ]
     },
     "execution_count": 63,
     "metadata": {},
     "output_type": "execute_result"
    }
   ],
   "source": [
    "# simulate 10 dice rolls\n",
    "np.random.randint(1, 6+1, (10,2))"
   ]
  },
  {
   "cell_type": "markdown",
   "id": "f09fad94-33b9-4345-b559-b0bda20ab1f2",
   "metadata": {},
   "source": [
    "# reshaping arrays"
   ]
  },
  {
   "cell_type": "code",
   "execution_count": 64,
   "id": "91897a2e-6591-4e2a-906c-0013edf3aabf",
   "metadata": {},
   "outputs": [
    {
     "data": {
      "text/plain": [
       "array([1, 2, 3, 4, 5, 6], dtype=uint8)"
      ]
     },
     "execution_count": 64,
     "metadata": {},
     "output_type": "execute_result"
    }
   ],
   "source": [
    "a = np.array([1, 2, 3, 4, 5, 6], dtype=np.uint8)\n",
    "a"
   ]
  },
  {
   "cell_type": "code",
   "execution_count": 65,
   "id": "bf75f8d5-323c-4431-9f1c-20f88a4c4d32",
   "metadata": {},
   "outputs": [
    {
     "data": {
      "text/plain": [
       "(6,)"
      ]
     },
     "execution_count": 65,
     "metadata": {},
     "output_type": "execute_result"
    }
   ],
   "source": [
    "a.shape"
   ]
  },
  {
   "cell_type": "code",
   "execution_count": 66,
   "id": "43cf903f-cea0-4273-ab77-e476701624ef",
   "metadata": {},
   "outputs": [
    {
     "data": {
      "text/plain": [
       "array([[1, 2],\n",
       "       [3, 4],\n",
       "       [5, 6]], dtype=uint8)"
      ]
     },
     "execution_count": 66,
     "metadata": {},
     "output_type": "execute_result"
    }
   ],
   "source": [
    "a.reshape((3,2))"
   ]
  },
  {
   "cell_type": "code",
   "execution_count": 67,
   "id": "7f05e1a5-cf4e-4db7-bdae-70f60b8f8fab",
   "metadata": {},
   "outputs": [
    {
     "ename": "ValueError",
     "evalue": "cannot reshape array of size 6 into shape (3,3)",
     "output_type": "error",
     "traceback": [
      "\u001b[31m---------------------------------------------------------------------------\u001b[39m",
      "\u001b[31mValueError\u001b[39m                                Traceback (most recent call last)",
      "\u001b[36mCell\u001b[39m\u001b[36m \u001b[39m\u001b[32mIn[67]\u001b[39m\u001b[32m, line 1\u001b[39m\n\u001b[32m----> \u001b[39m\u001b[32m1\u001b[39m \u001b[43ma\u001b[49m\u001b[43m.\u001b[49m\u001b[43mreshape\u001b[49m\u001b[43m(\u001b[49m\u001b[43m(\u001b[49m\u001b[32;43m3\u001b[39;49m\u001b[43m,\u001b[49m\u001b[32;43m3\u001b[39;49m\u001b[43m)\u001b[49m\u001b[43m)\u001b[49m\n",
      "\u001b[31mValueError\u001b[39m: cannot reshape array of size 6 into shape (3,3)"
     ]
    }
   ],
   "source": [
    "a.reshape((3,3))"
   ]
  },
  {
   "cell_type": "code",
   "execution_count": 76,
   "id": "b73b1d85-d5b1-4e43-a00d-e6a1b7f18693",
   "metadata": {},
   "outputs": [
    {
     "data": {
      "text/plain": [
       "array([[1],\n",
       "       [2],\n",
       "       [3],\n",
       "       [4],\n",
       "       [5],\n",
       "       [6]], dtype=uint8)"
      ]
     },
     "execution_count": 76,
     "metadata": {},
     "output_type": "execute_result"
    }
   ],
   "source": [
    "a.reshape((6,1))"
   ]
  },
  {
   "cell_type": "markdown",
   "id": "a388d153-b89b-4de6-8d3e-e54fbebcef9a",
   "metadata": {},
   "source": [
    "# reshaping arrays"
   ]
  },
  {
   "cell_type": "code",
   "execution_count": 78,
   "id": "df7ee99b-118b-4e06-85b5-05eaef158046",
   "metadata": {},
   "outputs": [
    {
     "data": {
      "text/plain": [
       "array([ 0,  1,  2,  3,  4,  5,  6,  7,  8,  9, 10, 11])"
      ]
     },
     "execution_count": 78,
     "metadata": {},
     "output_type": "execute_result"
    }
   ],
   "source": [
    "a = np.arange(12)\n",
    "a"
   ]
  },
  {
   "cell_type": "code",
   "execution_count": 79,
   "id": "32652a30-19f5-4aae-8dbb-fa6a926a7457",
   "metadata": {},
   "outputs": [
    {
     "data": {
      "text/plain": [
       "array([[ 0,  1,  2,  3],\n",
       "       [ 4,  5,  6,  7],\n",
       "       [ 8,  9, 10, 11]])"
      ]
     },
     "execution_count": 79,
     "metadata": {},
     "output_type": "execute_result"
    }
   ],
   "source": [
    "m = a.reshape((3,4))\n",
    "m"
   ]
  },
  {
   "cell_type": "code",
   "execution_count": 80,
   "id": "8a1d0236-2531-44f5-a957-984763881b25",
   "metadata": {},
   "outputs": [
    {
     "data": {
      "text/plain": [
       "False"
      ]
     },
     "execution_count": 80,
     "metadata": {},
     "output_type": "execute_result"
    }
   ],
   "source": [
    "m is a"
   ]
  },
  {
   "cell_type": "markdown",
   "id": "726d3b8d-baa5-4e3c-8d9f-5624e9ea3754",
   "metadata": {},
   "source": [
    "## both objects are different but elements are still same "
   ]
  },
  {
   "cell_type": "code",
   "execution_count": 81,
   "id": "ced22308-d48e-4b64-96c8-467bcd47c96d",
   "metadata": {},
   "outputs": [
    {
     "data": {
      "text/plain": [
       "(array([100,   1,   2,   3,   4,   5,   6,   7,   8,   9,  10,  11]),\n",
       " array([[100,   1,   2,   3],\n",
       "        [  4,   5,   6,   7],\n",
       "        [  8,   9,  10,  11]]))"
      ]
     },
     "execution_count": 81,
     "metadata": {},
     "output_type": "execute_result"
    }
   ],
   "source": [
    "a[0] = 100\n",
    "a, m"
   ]
  },
  {
   "cell_type": "code",
   "execution_count": 82,
   "id": "e18ff1c5-35f8-4549-b055-521b18fd5df9",
   "metadata": {},
   "outputs": [
    {
     "data": {
      "text/plain": [
       "(array([100,   1,   2,   3,   4,   5,   6,   7,   8,   9,  10, 200]),\n",
       " array([[100,   1,   2,   3],\n",
       "        [  4,   5,   6,   7],\n",
       "        [  8,   9,  10, 200]]))"
      ]
     },
     "execution_count": 82,
     "metadata": {},
     "output_type": "execute_result"
    }
   ],
   "source": [
    "m[2][3] = 200\n",
    "a, m"
   ]
  },
  {
   "cell_type": "markdown",
   "id": "5459f352-74c5-48ff-bcc3-a07be113eb7c",
   "metadata": {},
   "source": [
    "## for independent copy create a .copy()"
   ]
  },
  {
   "cell_type": "code",
   "execution_count": 83,
   "id": "6d816f2f-78b6-4af0-a371-f5234fb9ef56",
   "metadata": {},
   "outputs": [
    {
     "data": {
      "text/plain": [
       "(array([100,   1,   2,   3,   4,   5,   6,   7,   8,   9,  10,  11]),\n",
       " array([[ 0,  1,  2,  3],\n",
       "        [ 4,  5,  6,  7],\n",
       "        [ 8,  9, 10, 11]]))"
      ]
     },
     "execution_count": 83,
     "metadata": {},
     "output_type": "execute_result"
    }
   ],
   "source": [
    "a = np.arange(12)\n",
    "m = a.reshape((3,4)).copy()\n",
    "a[0] = 100\n",
    "a , m"
   ]
  },
  {
   "cell_type": "markdown",
   "id": "8ec1d0b7-f755-4b05-9aae-28075041c53b",
   "metadata": {},
   "source": [
    "# stacking"
   ]
  },
  {
   "cell_type": "code",
   "execution_count": 84,
   "id": "a6bb207a-e1cb-4234-8d91-23abf864254c",
   "metadata": {},
   "outputs": [
    {
     "data": {
      "text/plain": [
       "array([1, 2, 3, 4, 5])"
      ]
     },
     "execution_count": 84,
     "metadata": {},
     "output_type": "execute_result"
    }
   ],
   "source": [
    "a1 = np.arange(1, 6)\n",
    "a1"
   ]
  },
  {
   "cell_type": "code",
   "execution_count": 91,
   "id": "861a301d-40c3-4417-9cf7-bbd809760622",
   "metadata": {},
   "outputs": [
    {
     "data": {
      "text/plain": [
       "array([[10, 11, 12, 13, 14],\n",
       "       [15, 16, 17, 18, 19]])"
      ]
     },
     "execution_count": 91,
     "metadata": {},
     "output_type": "execute_result"
    }
   ],
   "source": [
    "a2 = np.arange(10, 20). reshape(2, 5)\n",
    "a2"
   ]
  },
  {
   "cell_type": "code",
   "execution_count": 92,
   "id": "cfd1e33a-dcad-4f0b-aa4e-3a1d94e3e798",
   "metadata": {},
   "outputs": [
    {
     "data": {
      "text/plain": [
       "array([[ 1,  2,  3,  4,  5],\n",
       "       [10, 11, 12, 13, 14],\n",
       "       [15, 16, 17, 18, 19]])"
      ]
     },
     "execution_count": 92,
     "metadata": {},
     "output_type": "execute_result"
    }
   ],
   "source": [
    "s1 = np.vstack((a1, a2))\n",
    "s1"
   ]
  },
  {
   "cell_type": "code",
   "execution_count": 93,
   "id": "0d14bb69-21a3-420a-a28c-a66a6c2e4c99",
   "metadata": {},
   "outputs": [
    {
     "ename": "ValueError",
     "evalue": "all the input array dimensions except for the concatenation axis must match exactly, but along dimension 1, the array at index 0 has size 3 and the array at index 1 has size 5",
     "output_type": "error",
     "traceback": [
      "\u001b[31m---------------------------------------------------------------------------\u001b[39m",
      "\u001b[31mValueError\u001b[39m                                Traceback (most recent call last)",
      "\u001b[36mCell\u001b[39m\u001b[36m \u001b[39m\u001b[32mIn[93]\u001b[39m\u001b[32m, line 1\u001b[39m\n\u001b[32m----> \u001b[39m\u001b[32m1\u001b[39m \u001b[43mnp\u001b[49m\u001b[43m.\u001b[49m\u001b[43mvstack\u001b[49m\u001b[43m(\u001b[49m\u001b[43m(\u001b[49m\u001b[43mnp\u001b[49m\u001b[43m.\u001b[49m\u001b[43marange\u001b[49m\u001b[43m(\u001b[49m\u001b[32;43m3\u001b[39;49m\u001b[43m)\u001b[49m\u001b[43m,\u001b[49m\u001b[43m \u001b[49m\u001b[43ma2\u001b[49m\u001b[43m)\u001b[49m\u001b[43m)\u001b[49m\n",
      "\u001b[36mFile \u001b[39m\u001b[32m~/Documents/Studyplan/python/fundamentals/.venv/lib/python3.13/site-packages/numpy/_core/shape_base.py:292\u001b[39m, in \u001b[36mvstack\u001b[39m\u001b[34m(tup, dtype, casting)\u001b[39m\n\u001b[32m    290\u001b[39m \u001b[38;5;28;01mif\u001b[39;00m \u001b[38;5;129;01mnot\u001b[39;00m \u001b[38;5;28misinstance\u001b[39m(arrs, \u001b[38;5;28mtuple\u001b[39m):\n\u001b[32m    291\u001b[39m     arrs = (arrs,)\n\u001b[32m--> \u001b[39m\u001b[32m292\u001b[39m \u001b[38;5;28;01mreturn\u001b[39;00m \u001b[43m_nx\u001b[49m\u001b[43m.\u001b[49m\u001b[43mconcatenate\u001b[49m\u001b[43m(\u001b[49m\u001b[43marrs\u001b[49m\u001b[43m,\u001b[49m\u001b[43m \u001b[49m\u001b[32;43m0\u001b[39;49m\u001b[43m,\u001b[49m\u001b[43m \u001b[49m\u001b[43mdtype\u001b[49m\u001b[43m=\u001b[49m\u001b[43mdtype\u001b[49m\u001b[43m,\u001b[49m\u001b[43m \u001b[49m\u001b[43mcasting\u001b[49m\u001b[43m=\u001b[49m\u001b[43mcasting\u001b[49m\u001b[43m)\u001b[49m\n",
      "\u001b[31mValueError\u001b[39m: all the input array dimensions except for the concatenation axis must match exactly, but along dimension 1, the array at index 0 has size 3 and the array at index 1 has size 5"
     ]
    }
   ],
   "source": [
    "np.vstack((np.arange(3), a2))"
   ]
  },
  {
   "cell_type": "markdown",
   "id": "fdf4c886-6ecd-4aa8-859b-d4c0a1e29696",
   "metadata": {},
   "source": [
    "# would accomodate the most broader dtype"
   ]
  },
  {
   "cell_type": "code",
   "execution_count": 95,
   "id": "fad68f33-b123-4093-afdf-15eb13d68054",
   "metadata": {},
   "outputs": [
    {
     "data": {
      "text/plain": [
       "array([[ 1.  ,  3.  ,  4.  ,  5.  ],\n",
       "       [ 3.14,  2.  , 20.  , 30.  ]], dtype=float16)"
      ]
     },
     "execution_count": 95,
     "metadata": {},
     "output_type": "execute_result"
    }
   ],
   "source": [
    "a1 = np.array([1, 3, 4, 5], dtype = np.uint8)\n",
    "a2 = np.array([3.14, 2, 20, 30], dtype = np.float16)\n",
    "s1 = np.vstack((a1, a2))\n",
    "s1"
   ]
  },
  {
   "cell_type": "markdown",
   "id": "082105dc-274d-449f-84c9-1a1b34d116ff",
   "metadata": {},
   "source": [
    "# unline reshaped arrays stacked arrays do not share elements"
   ]
  },
  {
   "cell_type": "code",
   "execution_count": 97,
   "id": "96a68733-3c23-4549-abc0-ef8b08617117",
   "metadata": {},
   "outputs": [
    {
     "data": {
      "text/plain": [
       "(array([99,  3,  4,  5], dtype=uint8),\n",
       " array([[ 1.  ,  3.  ,  4.  ,  5.  ],\n",
       "        [ 3.14,  2.  , 20.  , 30.  ]], dtype=float16))"
      ]
     },
     "execution_count": 97,
     "metadata": {},
     "output_type": "execute_result"
    }
   ],
   "source": [
    "a1[0] = 99\n",
    "a1, s1"
   ]
  },
  {
   "cell_type": "code",
   "execution_count": 99,
   "id": "0802eea0-5600-4adf-abc6-9ad4ba39a720",
   "metadata": {},
   "outputs": [
    {
     "data": {
      "text/plain": [
       "(array([99,  3,  4,  5], dtype=uint8),\n",
       " array([[ 1.  ,  3.  ,  4.  ,  5.  ],\n",
       "        [ 3.14, 99.  , 20.  , 30.  ]], dtype=float16))"
      ]
     },
     "execution_count": 99,
     "metadata": {},
     "output_type": "execute_result"
    }
   ],
   "source": [
    "s1[1][1] = 99\n",
    "a1, s1"
   ]
  },
  {
   "cell_type": "code",
   "execution_count": 126,
   "id": "b41ab6c3-cd96-455e-9a1c-3470430815ed",
   "metadata": {},
   "outputs": [],
   "source": [
    "a1 = np.linspace(0, 10, 10, dtype = np.uint8).reshape(5, 2)\n",
    "a2 = np.random.randint(10, 50, 25).reshape(5, 5)"
   ]
  },
  {
   "cell_type": "code",
   "execution_count": 127,
   "id": "8195f000-4e20-48dd-af77-cbe6d4d8bc4a",
   "metadata": {},
   "outputs": [
    {
     "data": {
      "text/plain": [
       "(array([[ 0,  1],\n",
       "        [ 2,  3],\n",
       "        [ 4,  5],\n",
       "        [ 6,  7],\n",
       "        [ 8, 10]], dtype=uint8),\n",
       " array([[12, 37, 31, 49, 49],\n",
       "        [21, 32, 40, 27, 16],\n",
       "        [17, 28, 38, 29, 39],\n",
       "        [31, 19, 35, 42, 37],\n",
       "        [19, 38, 27, 10, 32]]))"
      ]
     },
     "execution_count": 127,
     "metadata": {},
     "output_type": "execute_result"
    }
   ],
   "source": [
    "a1, a2"
   ]
  },
  {
   "cell_type": "code",
   "execution_count": 128,
   "id": "5a819c9f-bc8f-4b84-8622-b54d37120ccc",
   "metadata": {},
   "outputs": [
    {
     "data": {
      "text/plain": [
       "array([[ 0,  1, 12, 37, 31, 49, 49],\n",
       "       [ 2,  3, 21, 32, 40, 27, 16],\n",
       "       [ 4,  5, 17, 28, 38, 29, 39],\n",
       "       [ 6,  7, 31, 19, 35, 42, 37],\n",
       "       [ 8, 10, 19, 38, 27, 10, 32]])"
      ]
     },
     "execution_count": 128,
     "metadata": {},
     "output_type": "execute_result"
    }
   ],
   "source": [
    "np.hstack((a1, a2))"
   ]
  },
  {
   "cell_type": "markdown",
   "id": "588f1565-df55-48a0-8788-496ef1251039",
   "metadata": {},
   "source": [
    "# indexing"
   ]
  },
  {
   "cell_type": "code",
   "execution_count": 129,
   "id": "c5951a3f-b009-4db0-af07-751e34665e75",
   "metadata": {},
   "outputs": [
    {
     "data": {
      "text/plain": [
       "array([[26, 46, 40, 34, 13],\n",
       "       [18, 37, 39, 33, 42],\n",
       "       [29, 18, 17, 33, 23],\n",
       "       [27, 10, 21, 38, 46],\n",
       "       [35, 42, 24, 32, 38]])"
      ]
     },
     "execution_count": 129,
     "metadata": {},
     "output_type": "execute_result"
    }
   ],
   "source": [
    "a2 = np.random.randint(10, 50, 25).reshape(5, 5)\n",
    "a2"
   ]
  },
  {
   "cell_type": "code",
   "execution_count": 132,
   "id": "c769eaf5-43a6-42df-a622-74c9b58e12fd",
   "metadata": {},
   "outputs": [
    {
     "data": {
      "text/plain": [
       "np.int64(33)"
      ]
     },
     "execution_count": 132,
     "metadata": {},
     "output_type": "execute_result"
    }
   ],
   "source": [
    "a2[2][3]"
   ]
  },
  {
   "cell_type": "markdown",
   "id": "fa76e171-9f0b-4667-a78b-867426d32a31",
   "metadata": {},
   "source": [
    "# we can specify these indices as tupple as well"
   ]
  },
  {
   "cell_type": "code",
   "execution_count": 133,
   "id": "cea48bb3-198f-4020-a8fe-c8f28b1b4381",
   "metadata": {},
   "outputs": [
    {
     "data": {
      "text/plain": [
       "np.int64(33)"
      ]
     },
     "execution_count": 133,
     "metadata": {},
     "output_type": "execute_result"
    }
   ],
   "source": [
    "a2[(2,3)]"
   ]
  },
  {
   "cell_type": "markdown",
   "id": "3e5ba471-5849-49f4-8a53-f58356f6ff84",
   "metadata": {},
   "source": [
    "# we can omit the braces in tupple in numpy"
   ]
  },
  {
   "cell_type": "code",
   "execution_count": 134,
   "id": "51372cd2-19e1-430a-b815-9ad458ce1078",
   "metadata": {},
   "outputs": [
    {
     "data": {
      "text/plain": [
       "np.int64(33)"
      ]
     },
     "execution_count": 134,
     "metadata": {},
     "output_type": "execute_result"
    }
   ],
   "source": [
    "a2[2,3]"
   ]
  },
  {
   "cell_type": "code",
   "execution_count": 135,
   "id": "52bf118b-0196-4c38-a3de-8582316ac32f",
   "metadata": {},
   "outputs": [
    {
     "data": {
      "text/plain": [
       "array([[ 26,  46,  40,  34,  13],\n",
       "       [ 18,  37,  39,  33,  42],\n",
       "       [ 29,  18,  17,  33,  23],\n",
       "       [ 27, 100,  21,  38,  46],\n",
       "       [ 35,  42,  24,  32,  38]])"
      ]
     },
     "execution_count": 135,
     "metadata": {},
     "output_type": "execute_result"
    }
   ],
   "source": [
    "a2[3,1] = 100\n",
    "a2"
   ]
  },
  {
   "cell_type": "markdown",
   "id": "f3d00f0f-b8cb-485f-9846-8fca9862d976",
   "metadata": {},
   "source": [
    "# as type allows changing the dtype by returns a new array"
   ]
  },
  {
   "cell_type": "code",
   "execution_count": 141,
   "id": "b81475b8-6c9b-4ce9-a858-db4106a4a6dd",
   "metadata": {},
   "outputs": [
    {
     "data": {
      "text/plain": [
       "array([[ 26,  46,  40,  34,  13],\n",
       "       [ 18,  37,  39,  33,  42],\n",
       "       [ 29,  18,  17,  33,  23],\n",
       "       [ 27, 100,  21,  38,  46],\n",
       "       [ 35,  42,  24,  32,  38]], dtype=uint8)"
      ]
     },
     "execution_count": 141,
     "metadata": {},
     "output_type": "execute_result"
    }
   ],
   "source": [
    "a2.astype(np.uint8)"
   ]
  },
  {
   "cell_type": "code",
   "execution_count": 144,
   "id": "c7d42ffd-ec4b-4251-9b11-28aada847de1",
   "metadata": {},
   "outputs": [
    {
     "data": {
      "text/plain": [
       "dtype('int64')"
      ]
     },
     "execution_count": 144,
     "metadata": {},
     "output_type": "execute_result"
    }
   ],
   "source": [
    "a2.dtype # original stayed same ! "
   ]
  },
  {
   "cell_type": "markdown",
   "id": "c89e2a6a-956a-4162-afed-b76f43d28df5",
   "metadata": {},
   "source": [
    "# slicing"
   ]
  },
  {
   "cell_type": "code",
   "execution_count": 146,
   "id": "c011427f-944b-4791-aadc-d1b4295dff15",
   "metadata": {},
   "outputs": [
    {
     "data": {
      "text/plain": [
       "array([[ 0,  1,  2,  3,  4],\n",
       "       [ 5,  6,  7,  8,  9],\n",
       "       [10, 11, 12, 13, 14],\n",
       "       [15, 16, 17, 18, 19],\n",
       "       [20, 21, 22, 23, 24]])"
      ]
     },
     "execution_count": 146,
     "metadata": {},
     "output_type": "execute_result"
    }
   ],
   "source": [
    "a = np.arange(0, 25).reshape(5, 5)\n",
    "a"
   ]
  },
  {
   "cell_type": "code",
   "execution_count": 148,
   "id": "9d95df1d-c524-431f-a33a-87471304dac9",
   "metadata": {},
   "outputs": [
    {
     "data": {
      "text/plain": [
       "array([[ 7,  8,  9],\n",
       "       [12, 13, 14]])"
      ]
     },
     "execution_count": 148,
     "metadata": {},
     "output_type": "execute_result"
    }
   ],
   "source": [
    "a[1:3, 2:]"
   ]
  },
  {
   "cell_type": "code",
   "execution_count": 156,
   "id": "30fd0194-49d0-487b-9bc3-94cb05c1d6be",
   "metadata": {},
   "outputs": [
    {
     "data": {
      "text/plain": [
       "array([[ 1,  3],\n",
       "       [11, 13],\n",
       "       [21, 23]])"
      ]
     },
     "execution_count": 156,
     "metadata": {},
     "output_type": "execute_result"
    }
   ],
   "source": [
    "a[::2, 1::2]"
   ]
  },
  {
   "cell_type": "markdown",
   "id": "93a5ac94-3ad6-407d-afdb-f86d0e73db77",
   "metadata": {},
   "source": [
    "# broadcast: usually if we replace the replacement has to be of same size if not then elements are boadcasted"
   ]
  },
  {
   "cell_type": "code",
   "execution_count": 158,
   "id": "7181afb5-6c58-4355-9c4d-5ff6609e559f",
   "metadata": {},
   "outputs": [
    {
     "data": {
      "text/plain": [
       "array([[ 0, 99,  2, 99,  4],\n",
       "       [ 5,  6,  7,  8,  9],\n",
       "       [10, 99, 12, 99, 14],\n",
       "       [15, 16, 17, 18, 19],\n",
       "       [20, 99, 22, 99, 24]])"
      ]
     },
     "execution_count": 158,
     "metadata": {},
     "output_type": "execute_result"
    }
   ],
   "source": [
    "a[::2, 1::2] = 99\n",
    "a"
   ]
  },
  {
   "cell_type": "code",
   "execution_count": 159,
   "id": "53630b76-02df-4f2c-a326-8e45ac0cbf9a",
   "metadata": {},
   "outputs": [
    {
     "data": {
      "text/plain": [
       "array([[ 0, 91,  2, 92,  4],\n",
       "       [ 5,  6,  7,  8,  9],\n",
       "       [10, 93, 12, 94, 14],\n",
       "       [15, 16, 17, 18, 19],\n",
       "       [20, 95, 22, 96, 24]])"
      ]
     },
     "execution_count": 159,
     "metadata": {},
     "output_type": "execute_result"
    }
   ],
   "source": [
    "a[::2, 1::2] = [[91, 92], [93, 94], [95, 96]]\n",
    "a"
   ]
  },
  {
   "cell_type": "code",
   "execution_count": 160,
   "id": "980f3e22-ef5a-41a3-982f-e6ca9bc5697f",
   "metadata": {},
   "outputs": [
    {
     "data": {
      "text/plain": [
       "(array([[ 0, 91,  2, 92,  4],\n",
       "        [ 5,  6,  7,  8,  9],\n",
       "        [10, 93, 12, 94, 14],\n",
       "        [15, 16, 17, 18, 19],\n",
       "        [20, 95, 22, 96, 24]]),\n",
       " array([[91, 92],\n",
       "        [93, 94],\n",
       "        [95, 96]]))"
      ]
     },
     "execution_count": 160,
     "metadata": {},
     "output_type": "execute_result"
    }
   ],
   "source": [
    "b = a[::2, 1::2]\n",
    "a, b"
   ]
  },
  {
   "cell_type": "markdown",
   "id": "42fe912c-1b83-44d6-bb92-6051878d8a62",
   "metadata": {},
   "source": [
    "# elements of slices are linked just as rehaped arrays' elements are linked"
   ]
  },
  {
   "cell_type": "code",
   "execution_count": 162,
   "id": "15bf4f69-e3c6-4a6a-a0f0-03d0ab9b860e",
   "metadata": {},
   "outputs": [
    {
     "data": {
      "text/plain": [
       "(array([[  0,  91,   2,  92,   4],\n",
       "        [  5,   6,   7,   8,   9],\n",
       "        [ 10,  93,  12, 100,  14],\n",
       "        [ 15,  16,  17,  18,  19],\n",
       "        [ 20,  95,  22, 100,  24]]),\n",
       " array([[ 91,  92],\n",
       "        [ 93, 100],\n",
       "        [ 95, 100]]))"
      ]
     },
     "execution_count": 162,
     "metadata": {},
     "output_type": "execute_result"
    }
   ],
   "source": [
    "b[1:, 1:] = 100\n",
    "a, b"
   ]
  },
  {
   "cell_type": "markdown",
   "id": "deeb45eb-4064-4d72-9ac6-96e94d7b0ff4",
   "metadata": {},
   "source": [
    "# fancy indexing\n",
    "### use np.array([]) to fancy index. can be mixed with usual way of indexing as well"
   ]
  },
  {
   "cell_type": "code",
   "execution_count": 165,
   "id": "cc6cb3e4-0388-46c9-8aa2-92e95a383651",
   "metadata": {},
   "outputs": [],
   "source": [
    "a = np.arange(1, 26)"
   ]
  },
  {
   "cell_type": "code",
   "execution_count": 164,
   "id": "e32609e8-688f-4e4d-bc87-e4d8c6a58c48",
   "metadata": {},
   "outputs": [
    {
     "data": {
      "text/plain": [
       "array([ 1,  2,  3,  4,  5,  6,  7,  8,  9, 10, 11, 12, 13, 14, 15, 16, 17,\n",
       "       18, 19, 20, 21, 22, 23, 24])"
      ]
     },
     "execution_count": 164,
     "metadata": {},
     "output_type": "execute_result"
    }
   ],
   "source": [
    "a"
   ]
  },
  {
   "cell_type": "code",
   "execution_count": 169,
   "id": "a27b8cdf-d381-4906-b64a-f4b73127602f",
   "metadata": {},
   "outputs": [
    {
     "data": {
      "text/plain": [
       "array([ 4,  5,  9, 14])"
      ]
     },
     "execution_count": 169,
     "metadata": {},
     "output_type": "execute_result"
    }
   ],
   "source": [
    "a[np.array([3, 4, 8, 13])]"
   ]
  },
  {
   "cell_type": "markdown",
   "id": "7e61bfa1-ba33-4e08-aa37-6ad6979fd14e",
   "metadata": {},
   "source": [
    "# fancy indexing shapes after the index and not original array"
   ]
  },
  {
   "cell_type": "code",
   "execution_count": 171,
   "id": "21e5312b-0a7a-4c5b-9be0-cf58acc3c0f2",
   "metadata": {},
   "outputs": [
    {
     "data": {
      "text/plain": [
       "array([[ 4,  5],\n",
       "       [ 9, 14]])"
      ]
     },
     "execution_count": 171,
     "metadata": {},
     "output_type": "execute_result"
    }
   ],
   "source": [
    "a[np.array([[3, 4], [8, 13]])]"
   ]
  },
  {
   "cell_type": "code",
   "execution_count": 174,
   "id": "13d620a7-9f77-40b1-a688-5a73a5b44711",
   "metadata": {},
   "outputs": [],
   "source": [
    "a = a.reshape(5, 5)"
   ]
  },
  {
   "cell_type": "code",
   "execution_count": 175,
   "id": "fcb77bc5-b36b-4360-a7bb-4f0e5955f788",
   "metadata": {},
   "outputs": [
    {
     "data": {
      "text/plain": [
       "array([[ 1,  2,  3,  4,  5],\n",
       "       [ 6,  7,  8,  9, 10],\n",
       "       [11, 12, 13, 14, 15],\n",
       "       [16, 17, 18, 19, 20],\n",
       "       [21, 22, 23, 24, 25]])"
      ]
     },
     "execution_count": 175,
     "metadata": {},
     "output_type": "execute_result"
    }
   ],
   "source": [
    "a"
   ]
  },
  {
   "cell_type": "code",
   "execution_count": 176,
   "id": "8b3b4549-cabd-4c10-b444-163d09803ed0",
   "metadata": {},
   "outputs": [
    {
     "data": {
      "text/plain": [
       "array([16, 19, 20])"
      ]
     },
     "execution_count": 176,
     "metadata": {},
     "output_type": "execute_result"
    }
   ],
   "source": [
    "a[3, np.array([0, 3, 4])]"
   ]
  },
  {
   "cell_type": "code",
   "execution_count": 179,
   "id": "7757fb08-80cf-4aac-a7bb-46543874fb38",
   "metadata": {},
   "outputs": [
    {
     "data": {
      "text/plain": [
       "array([[ 8,  9, 10],\n",
       "       [13, 14, 15]])"
      ]
     },
     "execution_count": 179,
     "metadata": {},
     "output_type": "execute_result"
    }
   ],
   "source": [
    "a[np.array([1, 2]), 2:]"
   ]
  },
  {
   "cell_type": "code",
   "execution_count": 182,
   "id": "f964114c-f5ce-4d2c-a5a6-39946d8839f1",
   "metadata": {},
   "outputs": [
    {
     "data": {
      "text/plain": [
       "array([ 8,  9, 10, 13, 14, 15])"
      ]
     },
     "execution_count": 182,
     "metadata": {},
     "output_type": "execute_result"
    }
   ],
   "source": [
    "a[np.array([1, 2]), 2:].reshape(6)"
   ]
  },
  {
   "cell_type": "code",
   "execution_count": 183,
   "id": "375e8817-78fa-4a50-a321-0c6b815c7e5f",
   "metadata": {},
   "outputs": [
    {
     "data": {
      "text/plain": [
       "array([[ 8,  9, 10, 13, 14, 15]])"
      ]
     },
     "execution_count": 183,
     "metadata": {},
     "output_type": "execute_result"
    }
   ],
   "source": [
    "a[np.array([1, 2]), 2:].reshape(1, 6)"
   ]
  },
  {
   "cell_type": "markdown",
   "id": "86ef9d8f-535c-41e5-b1ee-6381617896eb",
   "metadata": {},
   "source": [
    "# when we use fancy indexing on both axeses, it works different. \n",
    "# think of this as zipping the incides from the two axis"
   ]
  },
  {
   "cell_type": "code",
   "execution_count": 184,
   "id": "433dad0e-480b-4f6a-b3a3-ede462ea6bb5",
   "metadata": {},
   "outputs": [
    {
     "data": {
      "text/plain": [
       "array([[ 1,  2,  3,  4,  5],\n",
       "       [ 6,  7,  8,  9, 10],\n",
       "       [11, 12, 13, 14, 15],\n",
       "       [16, 17, 18, 19, 20],\n",
       "       [21, 22, 23, 24, 25]])"
      ]
     },
     "execution_count": 184,
     "metadata": {},
     "output_type": "execute_result"
    }
   ],
   "source": [
    "a"
   ]
  },
  {
   "cell_type": "code",
   "execution_count": 187,
   "id": "f4dc1291-9bf0-4951-8eac-053caa90be13",
   "metadata": {},
   "outputs": [
    {
     "data": {
      "text/plain": [
       "array([ 7, 18, 21])"
      ]
     },
     "execution_count": 187,
     "metadata": {},
     "output_type": "execute_result"
    }
   ],
   "source": [
    "# gives elements: (1,1), (3,2), (4,0)\n",
    "a[np.array([1, 3, 4]), np.array([1, 2, 0])]"
   ]
  },
  {
   "cell_type": "code",
   "execution_count": 225,
   "id": "599a2d38-e5e6-4502-9598-e51be0dfa848",
   "metadata": {},
   "outputs": [],
   "source": [
    "import csv\n",
    "import datetime"
   ]
  },
  {
   "cell_type": "code",
   "execution_count": 226,
   "id": "22d0a011-d886-4eb5-8391-440794e5374f",
   "metadata": {},
   "outputs": [],
   "source": [
    "headers = []\n",
    "diff_data = []\n",
    "with open('data/AAPL.csv') as f:\n",
    "    reader = csv.reader(f)\n",
    "    headers = next(reader)\n",
    "    diff_data = list(reader)"
   ]
  },
  {
   "cell_type": "code",
   "execution_count": 227,
   "id": "5e9c8037-cd0c-4743-893e-99c1c11262b3",
   "metadata": {},
   "outputs": [
    {
     "data": {
      "text/plain": [
       "['Symbol', ' Date', ' Close', ' Volume', ' Open', ' High', ' Low']"
      ]
     },
     "execution_count": 227,
     "metadata": {},
     "output_type": "execute_result"
    }
   ],
   "source": [
    "headers"
   ]
  },
  {
   "cell_type": "code",
   "execution_count": 228,
   "id": "82dc80fd-9938-446f-9ad2-8b7e1d9b1aae",
   "metadata": {},
   "outputs": [
    {
     "data": {
      "text/plain": [
       "[['AAPL',\n",
       "  ' 10/29/2020',\n",
       "  ' 115.32',\n",
       "  ' 146129200',\n",
       "  ' 112.37',\n",
       "  ' 116.93',\n",
       "  ' 112.2'],\n",
       " ['AAPL',\n",
       "  ' 10/28/2020',\n",
       "  ' 111.2',\n",
       "  ' 143937800',\n",
       "  ' 115.05',\n",
       "  ' 115.43',\n",
       "  ' 111.1'],\n",
       " ['AAPL',\n",
       "  ' 10/27/2020',\n",
       "  ' 116.6',\n",
       "  ' 92276770',\n",
       "  ' 115.49',\n",
       "  ' 117.28',\n",
       "  ' 114.5399'],\n",
       " ['AAPL',\n",
       "  ' 10/26/2020',\n",
       "  ' 115.05',\n",
       "  ' 111850700',\n",
       "  ' 114.01',\n",
       "  ' 116.55',\n",
       "  ' 112.88'],\n",
       " ['AAPL',\n",
       "  ' 10/23/2020',\n",
       "  ' 115.04',\n",
       "  ' 82572650',\n",
       "  ' 116.39',\n",
       "  ' 116.55',\n",
       "  ' 114.28'],\n",
       " ['AAPL',\n",
       "  ' 10/22/2020',\n",
       "  ' 115.75',\n",
       "  ' 101988000',\n",
       "  ' 117.45',\n",
       "  ' 118.04',\n",
       "  ' 114.59'],\n",
       " ['AAPL',\n",
       "  ' 10/21/2020',\n",
       "  ' 116.87',\n",
       "  ' 89945980',\n",
       "  ' 116.67',\n",
       "  ' 118.705',\n",
       "  ' 116.45'],\n",
       " ['AAPL',\n",
       "  ' 10/20/2020',\n",
       "  ' 117.51',\n",
       "  ' 124423700',\n",
       "  ' 116.2',\n",
       "  ' 118.98',\n",
       "  ' 115.63'],\n",
       " ['AAPL',\n",
       "  ' 10/19/2020',\n",
       "  ' 115.98',\n",
       "  ' 120639300',\n",
       "  ' 119.96',\n",
       "  ' 120.419',\n",
       "  ' 115.66'],\n",
       " ['AAPL',\n",
       "  ' 10/16/2020',\n",
       "  ' 119.02',\n",
       "  ' 115393800',\n",
       "  ' 121.28',\n",
       "  ' 121.548',\n",
       "  ' 118.81'],\n",
       " ['AAPL',\n",
       "  ' 10/15/2020',\n",
       "  ' 120.71',\n",
       "  ' 112559200',\n",
       "  ' 118.72',\n",
       "  ' 121.2',\n",
       "  ' 118.15'],\n",
       " ['AAPL',\n",
       "  ' 10/14/2020',\n",
       "  ' 121.19',\n",
       "  ' 151062300',\n",
       "  ' 121',\n",
       "  ' 123.03',\n",
       "  ' 119.62'],\n",
       " ['AAPL',\n",
       "  ' 10/13/2020',\n",
       "  ' 121.1',\n",
       "  ' 262330500',\n",
       "  ' 125.27',\n",
       "  ' 125.39',\n",
       "  ' 119.65'],\n",
       " ['AAPL',\n",
       "  ' 10/12/2020',\n",
       "  ' 124.4',\n",
       "  ' 240226800',\n",
       "  ' 120.06',\n",
       "  ' 125.18',\n",
       "  ' 119.2845'],\n",
       " ['AAPL',\n",
       "  ' 10/09/2020',\n",
       "  ' 116.97',\n",
       "  ' 100506900',\n",
       "  ' 115.28',\n",
       "  ' 117',\n",
       "  ' 114.92'],\n",
       " ['AAPL',\n",
       "  ' 10/08/2020',\n",
       "  ' 114.97',\n",
       "  ' 83477150',\n",
       "  ' 116.25',\n",
       "  ' 116.4',\n",
       "  ' 114.5901'],\n",
       " ['AAPL',\n",
       "  ' 10/07/2020',\n",
       "  ' 115.08',\n",
       "  ' 96848990',\n",
       "  ' 114.62',\n",
       "  ' 115.55',\n",
       "  ' 114.13'],\n",
       " ['AAPL',\n",
       "  ' 10/06/2020',\n",
       "  ' 113.16',\n",
       "  ' 161498200',\n",
       "  ' 115.7',\n",
       "  ' 116.12',\n",
       "  ' 112.25'],\n",
       " ['AAPL',\n",
       "  ' 10/05/2020',\n",
       "  ' 116.5',\n",
       "  ' 106243800',\n",
       "  ' 113.91',\n",
       "  ' 116.65',\n",
       "  ' 113.55'],\n",
       " ['AAPL',\n",
       "  ' 10/02/2020',\n",
       "  ' 113.02',\n",
       "  ' 144712000',\n",
       "  ' 112.89',\n",
       "  ' 115.37',\n",
       "  ' 112.22'],\n",
       " ['AAPL',\n",
       "  ' 10/01/2020',\n",
       "  ' 116.79',\n",
       "  ' 116120400',\n",
       "  ' 117.64',\n",
       "  ' 117.72',\n",
       "  ' 115.83'],\n",
       " ['AAPL',\n",
       "  ' 09/30/2020',\n",
       "  ' 115.81',\n",
       "  ' 142675200',\n",
       "  ' 113.79',\n",
       "  ' 117.26',\n",
       "  ' 113.62'],\n",
       " ['AAPL',\n",
       "  ' 09/29/2020',\n",
       "  ' 114.09',\n",
       "  ' 100060500',\n",
       "  ' 114.55',\n",
       "  ' 115.31',\n",
       "  ' 113.57']]"
      ]
     },
     "execution_count": 228,
     "metadata": {},
     "output_type": "execute_result"
    }
   ],
   "source": [
    "diff_data"
   ]
  },
  {
   "cell_type": "code",
   "execution_count": 229,
   "id": "76f727aa-60db-4dcc-ad7d-d140349237ec",
   "metadata": {},
   "outputs": [
    {
     "data": {
      "text/plain": [
       "array([['AAPL', ' 10/29/2020', ' 115.32', ' 146129200', ' 112.37',\n",
       "        ' 116.93', ' 112.2'],\n",
       "       ['AAPL', ' 10/28/2020', ' 111.2', ' 143937800', ' 115.05',\n",
       "        ' 115.43', ' 111.1'],\n",
       "       ['AAPL', ' 10/27/2020', ' 116.6', ' 92276770', ' 115.49',\n",
       "        ' 117.28', ' 114.5399'],\n",
       "       ['AAPL', ' 10/26/2020', ' 115.05', ' 111850700', ' 114.01',\n",
       "        ' 116.55', ' 112.88'],\n",
       "       ['AAPL', ' 10/23/2020', ' 115.04', ' 82572650', ' 116.39',\n",
       "        ' 116.55', ' 114.28'],\n",
       "       ['AAPL', ' 10/22/2020', ' 115.75', ' 101988000', ' 117.45',\n",
       "        ' 118.04', ' 114.59'],\n",
       "       ['AAPL', ' 10/21/2020', ' 116.87', ' 89945980', ' 116.67',\n",
       "        ' 118.705', ' 116.45'],\n",
       "       ['AAPL', ' 10/20/2020', ' 117.51', ' 124423700', ' 116.2',\n",
       "        ' 118.98', ' 115.63'],\n",
       "       ['AAPL', ' 10/19/2020', ' 115.98', ' 120639300', ' 119.96',\n",
       "        ' 120.419', ' 115.66'],\n",
       "       ['AAPL', ' 10/16/2020', ' 119.02', ' 115393800', ' 121.28',\n",
       "        ' 121.548', ' 118.81'],\n",
       "       ['AAPL', ' 10/15/2020', ' 120.71', ' 112559200', ' 118.72',\n",
       "        ' 121.2', ' 118.15'],\n",
       "       ['AAPL', ' 10/14/2020', ' 121.19', ' 151062300', ' 121',\n",
       "        ' 123.03', ' 119.62'],\n",
       "       ['AAPL', ' 10/13/2020', ' 121.1', ' 262330500', ' 125.27',\n",
       "        ' 125.39', ' 119.65'],\n",
       "       ['AAPL', ' 10/12/2020', ' 124.4', ' 240226800', ' 120.06',\n",
       "        ' 125.18', ' 119.2845'],\n",
       "       ['AAPL', ' 10/09/2020', ' 116.97', ' 100506900', ' 115.28',\n",
       "        ' 117', ' 114.92'],\n",
       "       ['AAPL', ' 10/08/2020', ' 114.97', ' 83477150', ' 116.25',\n",
       "        ' 116.4', ' 114.5901'],\n",
       "       ['AAPL', ' 10/07/2020', ' 115.08', ' 96848990', ' 114.62',\n",
       "        ' 115.55', ' 114.13'],\n",
       "       ['AAPL', ' 10/06/2020', ' 113.16', ' 161498200', ' 115.7',\n",
       "        ' 116.12', ' 112.25'],\n",
       "       ['AAPL', ' 10/05/2020', ' 116.5', ' 106243800', ' 113.91',\n",
       "        ' 116.65', ' 113.55'],\n",
       "       ['AAPL', ' 10/02/2020', ' 113.02', ' 144712000', ' 112.89',\n",
       "        ' 115.37', ' 112.22'],\n",
       "       ['AAPL', ' 10/01/2020', ' 116.79', ' 116120400', ' 117.64',\n",
       "        ' 117.72', ' 115.83'],\n",
       "       ['AAPL', ' 09/30/2020', ' 115.81', ' 142675200', ' 113.79',\n",
       "        ' 117.26', ' 113.62'],\n",
       "       ['AAPL', ' 09/29/2020', ' 114.09', ' 100060500', ' 114.55',\n",
       "        ' 115.31', ' 113.57']], dtype='<U11')"
      ]
     },
     "execution_count": 229,
     "metadata": {},
     "output_type": "execute_result"
    }
   ],
   "source": [
    "diff_data = np.array(diff_data)\n",
    "diff_data"
   ]
  },
  {
   "cell_type": "code",
   "execution_count": 230,
   "id": "78c6cd08-0b71-4236-a83f-7aff8b287d59",
   "metadata": {},
   "outputs": [
    {
     "data": {
      "text/plain": [
       "array([' 10/29/2020', ' 10/28/2020', ' 10/27/2020', ' 10/26/2020',\n",
       "       ' 10/23/2020', ' 10/22/2020', ' 10/21/2020', ' 10/20/2020',\n",
       "       ' 10/19/2020', ' 10/16/2020', ' 10/15/2020', ' 10/14/2020',\n",
       "       ' 10/13/2020', ' 10/12/2020', ' 10/09/2020', ' 10/08/2020',\n",
       "       ' 10/07/2020', ' 10/06/2020', ' 10/05/2020', ' 10/02/2020',\n",
       "       ' 10/01/2020', ' 09/30/2020', ' 09/29/2020'], dtype='<U11')"
      ]
     },
     "execution_count": 230,
     "metadata": {},
     "output_type": "execute_result"
    }
   ],
   "source": [
    "diff_data[:, 1]"
   ]
  },
  {
   "cell_type": "code",
   "execution_count": 231,
   "id": "6ccfdc28-7dbd-4ed1-acef-e1133e348b5c",
   "metadata": {},
   "outputs": [
    {
     "data": {
      "text/plain": [
       "[datetime.date(2020, 10, 29),\n",
       " datetime.date(2020, 10, 28),\n",
       " datetime.date(2020, 10, 27),\n",
       " datetime.date(2020, 10, 26),\n",
       " datetime.date(2020, 10, 23),\n",
       " datetime.date(2020, 10, 22),\n",
       " datetime.date(2020, 10, 21),\n",
       " datetime.date(2020, 10, 20),\n",
       " datetime.date(2020, 10, 19),\n",
       " datetime.date(2020, 10, 16),\n",
       " datetime.date(2020, 10, 15),\n",
       " datetime.date(2020, 10, 14),\n",
       " datetime.date(2020, 10, 13),\n",
       " datetime.date(2020, 10, 12),\n",
       " datetime.date(2020, 10, 9),\n",
       " datetime.date(2020, 10, 8),\n",
       " datetime.date(2020, 10, 7),\n",
       " datetime.date(2020, 10, 6),\n",
       " datetime.date(2020, 10, 5),\n",
       " datetime.date(2020, 10, 2),\n",
       " datetime.date(2020, 10, 1),\n",
       " datetime.date(2020, 9, 30),\n",
       " datetime.date(2020, 9, 29)]"
      ]
     },
     "execution_count": 231,
     "metadata": {},
     "output_type": "execute_result"
    }
   ],
   "source": [
    "date_data = [datetime.datetime.strptime(x.strip(), \"%m/%d/%Y\").date() for x in diff_data[:, 1]]\n",
    "date_data"
   ]
  },
  {
   "cell_type": "code",
   "execution_count": 237,
   "id": "74af359c-fcbc-412e-be22-5b283e196bb2",
   "metadata": {},
   "outputs": [
    {
     "data": {
      "text/plain": [
       "array([115.3 , 111.2 , 116.6 , 115.06, 115.06, 115.75, 116.9 , 117.5 ,\n",
       "       116.  , 119.  , 120.7 , 121.2 , 121.1 , 124.4 , 117.  , 115.  ,\n",
       "       115.06, 113.2 , 116.5 , 113.  , 116.8 , 115.8 , 114.06],\n",
       "      dtype=float16)"
      ]
     },
     "execution_count": 237,
     "metadata": {},
     "output_type": "execute_result"
    }
   ],
   "source": [
    "diff_data[:, 2].astype(np.float16)"
   ]
  },
  {
   "cell_type": "code",
   "execution_count": 238,
   "id": "f1cc0359-ac79-422f-a055-09e93335c881",
   "metadata": {},
   "outputs": [
    {
     "data": {
      "text/plain": [
       "array([112.4 , 115.06, 115.5 , 114.  , 116.4 , 117.44, 116.7 , 116.2 ,\n",
       "       119.94, 121.25, 118.75, 121.  , 125.25, 120.06, 115.25, 116.25,\n",
       "       114.6 , 115.7 , 113.94, 112.9 , 117.6 , 113.8 , 114.56],\n",
       "      dtype=float16)"
      ]
     },
     "execution_count": 238,
     "metadata": {},
     "output_type": "execute_result"
    }
   ],
   "source": [
    "diff_data[:, 4].astype(np.float16)"
   ]
  },
  {
   "cell_type": "code",
   "execution_count": 241,
   "id": "0b167b9b-eb3d-4da1-8f76-f4c50130d45e",
   "metadata": {},
   "outputs": [],
   "source": [
    "diff_data = (\n",
    "    (diff_data[:, 2].astype(np.float16) - diff_data[:, 4].astype(np.float16)) \n",
    "    / \n",
    "    diff_data[:, 4].astype(np.float16)\n",
    ") * 100"
   ]
  },
  {
   "cell_type": "code",
   "execution_count": 242,
   "id": "cf8539a1-7c66-4af3-aba9-477ab7ef260a",
   "metadata": {},
   "outputs": [
    {
     "data": {
      "text/plain": [
       "array([ 2.613 , -3.37  ,  0.974 ,  0.932 , -1.128 , -1.437 ,  0.1606,\n",
       "        1.13  , -3.283 , -1.855 ,  1.631 ,  0.155 , -3.293 ,  3.592 ,\n",
       "        1.519 , -1.075 ,  0.3816, -2.16  ,  2.25  ,  0.1107, -0.691 ,\n",
       "        1.758 , -0.4365], dtype=float16)"
      ]
     },
     "execution_count": 242,
     "metadata": {},
     "output_type": "execute_result"
    }
   ],
   "source": [
    "diff_data"
   ]
  },
  {
   "cell_type": "code",
   "execution_count": 243,
   "id": "1bf6379d-11a5-498e-af23-d8ff7d9fd2f4",
   "metadata": {},
   "outputs": [
    {
     "data": {
      "text/plain": [
       "[(datetime.date(2020, 10, 29), np.float16(2.613)),\n",
       " (datetime.date(2020, 10, 28), np.float16(-3.37)),\n",
       " (datetime.date(2020, 10, 27), np.float16(0.974)),\n",
       " (datetime.date(2020, 10, 26), np.float16(0.932)),\n",
       " (datetime.date(2020, 10, 23), np.float16(-1.128)),\n",
       " (datetime.date(2020, 10, 22), np.float16(-1.437)),\n",
       " (datetime.date(2020, 10, 21), np.float16(0.1606)),\n",
       " (datetime.date(2020, 10, 20), np.float16(1.13)),\n",
       " (datetime.date(2020, 10, 19), np.float16(-3.283)),\n",
       " (datetime.date(2020, 10, 16), np.float16(-1.855)),\n",
       " (datetime.date(2020, 10, 15), np.float16(1.631)),\n",
       " (datetime.date(2020, 10, 14), np.float16(0.155)),\n",
       " (datetime.date(2020, 10, 13), np.float16(-3.293)),\n",
       " (datetime.date(2020, 10, 12), np.float16(3.592)),\n",
       " (datetime.date(2020, 10, 9), np.float16(1.519)),\n",
       " (datetime.date(2020, 10, 8), np.float16(-1.075)),\n",
       " (datetime.date(2020, 10, 7), np.float16(0.3816)),\n",
       " (datetime.date(2020, 10, 6), np.float16(-2.16)),\n",
       " (datetime.date(2020, 10, 5), np.float16(2.25)),\n",
       " (datetime.date(2020, 10, 2), np.float16(0.1107)),\n",
       " (datetime.date(2020, 10, 1), np.float16(-0.691)),\n",
       " (datetime.date(2020, 9, 30), np.float16(1.758)),\n",
       " (datetime.date(2020, 9, 29), np.float16(-0.4365))]"
      ]
     },
     "execution_count": 243,
     "metadata": {},
     "output_type": "execute_result"
    }
   ],
   "source": [
    "[(x,y) for x, y in zip(date_data ,diff_data)]"
   ]
  },
  {
   "cell_type": "markdown",
   "id": "51a2bb56-fa37-4038-a0fe-bed14057dace",
   "metadata": {},
   "source": [
    "# Masking\n",
    "### Boolean masking uses an expressing that evals to a boolean for each element\n",
    "### and make an array of T/F and uses that array to filter elements in another array"
   ]
  },
  {
   "cell_type": "code",
   "execution_count": 244,
   "id": "bb3afb58-6790-4c55-9178-0187481956e8",
   "metadata": {},
   "outputs": [
    {
     "data": {
      "text/plain": [
       "array([ 1,  2,  3,  4,  5,  6,  7,  8,  9, 10])"
      ]
     },
     "execution_count": 244,
     "metadata": {},
     "output_type": "execute_result"
    }
   ],
   "source": [
    "a = np.arange(1, 11)\n",
    "a"
   ]
  },
  {
   "cell_type": "code",
   "execution_count": 246,
   "id": "3f482c48-08ed-4dfe-bf4c-0ca329b41549",
   "metadata": {},
   "outputs": [
    {
     "data": {
      "text/plain": [
       "array([False, False, False,  True,  True,  True,  True,  True,  True,\n",
       "        True])"
      ]
     },
     "execution_count": 246,
     "metadata": {},
     "output_type": "execute_result"
    }
   ],
   "source": [
    "mask = a > 3\n",
    "mask"
   ]
  },
  {
   "cell_type": "code",
   "execution_count": 248,
   "id": "fe59fd48-f5f0-4ec5-802c-d00729f6f6b7",
   "metadata": {},
   "outputs": [
    {
     "data": {
      "text/plain": [
       "array([ 4,  5,  6,  7,  8,  9, 10])"
      ]
     },
     "execution_count": 248,
     "metadata": {},
     "output_type": "execute_result"
    }
   ],
   "source": [
    "a[np.array(mask)]"
   ]
  },
  {
   "cell_type": "code",
   "execution_count": 249,
   "id": "8aec6e1f-0dd8-42f7-9137-2c580838448b",
   "metadata": {},
   "outputs": [
    {
     "data": {
      "text/plain": [
       "array([ 4,  5,  6,  7,  8,  9, 10])"
      ]
     },
     "execution_count": 249,
     "metadata": {},
     "output_type": "execute_result"
    }
   ],
   "source": [
    "a[a > 3]"
   ]
  },
  {
   "cell_type": "code",
   "execution_count": 250,
   "id": "31a5a6eb-1276-4d7e-a4fc-d315dc504c79",
   "metadata": {},
   "outputs": [
    {
     "data": {
      "text/plain": [
       "array([1, 3, 5, 7, 9])"
      ]
     },
     "execution_count": 250,
     "metadata": {},
     "output_type": "execute_result"
    }
   ],
   "source": [
    "a [ a % 2 != 0 ] "
   ]
  },
  {
   "cell_type": "markdown",
   "id": "74071ab1-9a56-4ba7-b881-8f7fe969842e",
   "metadata": {},
   "source": [
    "## masking a > 1 dimention array will return a 1D array (as we can mask variable elements and numpy arrays should be all of same dimention"
   ]
  },
  {
   "cell_type": "code",
   "execution_count": 251,
   "id": "9fe7a924-6aee-40e3-b36b-68cfc1af402c",
   "metadata": {},
   "outputs": [
    {
     "data": {
      "text/plain": [
       "array([ 6,  8, 10])"
      ]
     },
     "execution_count": 251,
     "metadata": {},
     "output_type": "execute_result"
    }
   ],
   "source": [
    "a[(a % 2 == 0) & (a > 5)]"
   ]
  },
  {
   "cell_type": "code",
   "execution_count": 253,
   "id": "84fdcf25-7c36-4a1b-bbdd-d10e0d9fa14c",
   "metadata": {},
   "outputs": [
    {
     "data": {
      "text/plain": [
       "array([ 2,  4,  5,  6,  8, 10])"
      ]
     },
     "execution_count": 253,
     "metadata": {},
     "output_type": "execute_result"
    }
   ],
   "source": [
    "a[(a % 2 == 0) | (a == 5)]"
   ]
  },
  {
   "cell_type": "markdown",
   "id": "5c0ab659-a6d4-4df9-8f22-ea82ced3b68f",
   "metadata": {},
   "source": [
    "# some universal functions which behave differently"
   ]
  },
  {
   "cell_type": "code",
   "execution_count": 254,
   "id": "40a5dacb-9451-4ae3-9885-b06e0b5a4d87",
   "metadata": {},
   "outputs": [
    {
     "data": {
      "text/plain": [
       "np.int64(5)"
      ]
     },
     "execution_count": 254,
     "metadata": {},
     "output_type": "execute_result"
    }
   ],
   "source": [
    "np.amin(np.array([10, 5, 20]))"
   ]
  },
  {
   "cell_type": "code",
   "execution_count": 255,
   "id": "2c73b3c2-c3bc-434b-a039-4c54ef7ab20e",
   "metadata": {},
   "outputs": [
    {
     "data": {
      "text/plain": [
       "np.int64(20)"
      ]
     },
     "execution_count": 255,
     "metadata": {},
     "output_type": "execute_result"
    }
   ],
   "source": [
    "np.amax(np.array([10, 5, 20]))"
   ]
  },
  {
   "cell_type": "code",
   "execution_count": 257,
   "id": "49d609a5-8aac-44c6-a4bb-ac9c1e296001",
   "metadata": {},
   "outputs": [
    {
     "data": {
      "text/plain": [
       "array([[10,  3,  2],\n",
       "       [ 4, 50,  6],\n",
       "       [ 7,  8, 90]])"
      ]
     },
     "execution_count": 257,
     "metadata": {},
     "output_type": "execute_result"
    }
   ],
   "source": [
    "m = np.array([[10, 3, 2], [4, 50, 6], [7, 8, 90]])\n",
    "m"
   ]
  },
  {
   "cell_type": "code",
   "execution_count": 258,
   "id": "6a015b35-2e29-478e-85f9-d6ac3aad6cf8",
   "metadata": {},
   "outputs": [
    {
     "data": {
      "text/plain": [
       "np.int64(2)"
      ]
     },
     "execution_count": 258,
     "metadata": {},
     "output_type": "execute_result"
    }
   ],
   "source": [
    "np.amin(m)"
   ]
  },
  {
   "cell_type": "code",
   "execution_count": 259,
   "id": "4b6b3774-828a-4d02-9d54-b33a0f24abdf",
   "metadata": {},
   "outputs": [
    {
     "data": {
      "text/plain": [
       "np.int64(90)"
      ]
     },
     "execution_count": 259,
     "metadata": {},
     "output_type": "execute_result"
    }
   ],
   "source": [
    "np.amax(m)"
   ]
  },
  {
   "cell_type": "code",
   "execution_count": 263,
   "id": "d75f506e-0828-451a-b495-7cbc4db976e6",
   "metadata": {},
   "outputs": [
    {
     "data": {
      "text/plain": [
       "(array([4, 3, 2]), array([2, 4, 7]))"
      ]
     },
     "execution_count": 263,
     "metadata": {},
     "output_type": "execute_result"
    }
   ],
   "source": [
    "# across rows, across columns\n",
    "np.amin(m, axis=0), np.amin(m, axis=1)"
   ]
  },
  {
   "cell_type": "code",
   "execution_count": 264,
   "id": "bc679388-3bee-46fa-b152-e47b6a5d4fc1",
   "metadata": {},
   "outputs": [
    {
     "data": {
      "text/plain": [
       "(array([10, 50, 90]), array([10, 50, 90]))"
      ]
     },
     "execution_count": 264,
     "metadata": {},
     "output_type": "execute_result"
    }
   ],
   "source": [
    "np.amax(m, axis=0), np.amax(m, axis=1)"
   ]
  },
  {
   "cell_type": "code",
   "execution_count": 268,
   "id": "1f675291-da51-498b-952e-7104fb529b37",
   "metadata": {},
   "outputs": [
    {
     "data": {
      "text/plain": [
       "array([ 7.        , 20.33333333, 32.66666667])"
      ]
     },
     "execution_count": 268,
     "metadata": {},
     "output_type": "execute_result"
    }
   ],
   "source": [
    "# across the rows\n",
    "np.mean(m, axis = 0)"
   ]
  },
  {
   "cell_type": "code",
   "execution_count": 269,
   "id": "76e696e7-a7dc-4a41-bb50-0e744c705ce3",
   "metadata": {},
   "outputs": [
    {
     "data": {
      "text/plain": [
       "(7.0, 20.333333333333332)"
      ]
     },
     "execution_count": 269,
     "metadata": {},
     "output_type": "execute_result"
    }
   ],
   "source": [
    "(10+4+7)/3 , (3+50+8)/3"
   ]
  },
  {
   "cell_type": "code",
   "execution_count": 270,
   "id": "bf35765c-b1b5-45f3-83ef-638f5cf8fb12",
   "metadata": {},
   "outputs": [
    {
     "data": {
      "text/plain": [
       "np.int64(180)"
      ]
     },
     "execution_count": 270,
     "metadata": {},
     "output_type": "execute_result"
    }
   ],
   "source": [
    "np.sum(m)"
   ]
  },
  {
   "cell_type": "code",
   "execution_count": 272,
   "id": "dc7f53b0-da53-400a-be6a-e9b139712496",
   "metadata": {},
   "outputs": [
    {
     "data": {
      "text/plain": [
       "array([ 15,  60, 105])"
      ]
     },
     "execution_count": 272,
     "metadata": {},
     "output_type": "execute_result"
    }
   ],
   "source": [
    "# across columns\n",
    "np.sum(m, axis = 1)"
   ]
  },
  {
   "cell_type": "markdown",
   "id": "326d57dc-30d6-4a23-9df4-511e0c7075e2",
   "metadata": {},
   "source": [
    "# PANDAS (built on top of numpy)"
   ]
  },
  {
   "cell_type": "markdown",
   "id": "44a28189-812f-4d2e-abca-908b6008af7b",
   "metadata": {},
   "source": [
    "1. series ( 1D array)\n",
    "2. DataFrame (2D, collection of series)\n",
    "3. Index: used to index series and DataFrame objects.\n",
    "4. one of the key differences between and numpy is Index\n",
    "5. Numpy array elements are indexed (implicitly) by position\n",
    "6. In pandas we can assign our own (explicity) labels"
   ]
  },
  {
   "cell_type": "code",
   "execution_count": 273,
   "id": "46ef384d-6ebb-4982-9c41-9069461b7cf0",
   "metadata": {},
   "outputs": [],
   "source": [
    "import pandas as pd"
   ]
  },
  {
   "cell_type": "code",
   "execution_count": 274,
   "id": "c00e72e5-9d18-47b9-b044-472aefbc6673",
   "metadata": {},
   "outputs": [
    {
     "data": {
      "text/plain": [
       "Index([10, 20, 30], dtype='int64')"
      ]
     },
     "execution_count": 274,
     "metadata": {},
     "output_type": "execute_result"
    }
   ],
   "source": [
    "idx = pd.Index([10, 20, 30])\n",
    "idx"
   ]
  },
  {
   "cell_type": "code",
   "execution_count": 275,
   "id": "c07ef125-aa7b-4240-a993-bf32b34392f1",
   "metadata": {},
   "outputs": [
    {
     "data": {
      "text/plain": [
       "Index(['element1', 'element2'], dtype='object')"
      ]
     },
     "execution_count": 275,
     "metadata": {},
     "output_type": "execute_result"
    }
   ],
   "source": [
    "idx = pd.Index(['element1', 'element2'])\n",
    "idx"
   ]
  },
  {
   "cell_type": "code",
   "execution_count": 276,
   "id": "14117617-6311-48ae-851f-3f60d6436257",
   "metadata": {},
   "outputs": [
    {
     "data": {
      "text/plain": [
       "'element1'"
      ]
     },
     "execution_count": 276,
     "metadata": {},
     "output_type": "execute_result"
    }
   ],
   "source": [
    "idx[0]"
   ]
  },
  {
   "cell_type": "markdown",
   "id": "386b83d7-b7a3-4dbb-b8a4-a8a4ec4eb960",
   "metadata": {},
   "source": [
    "# index is just a numpy array , we can index, fancy index and mask"
   ]
  },
  {
   "cell_type": "code",
   "execution_count": 277,
   "id": "79a916c9-6720-4434-9781-6e0652398503",
   "metadata": {},
   "outputs": [
    {
     "data": {
      "text/plain": [
       "Index(['element1'], dtype='object')"
      ]
     },
     "execution_count": 277,
     "metadata": {},
     "output_type": "execute_result"
    }
   ],
   "source": [
    "idx[idx == 'element1']"
   ]
  },
  {
   "cell_type": "code",
   "execution_count": 279,
   "id": "49b7d65c-a5c4-4499-9102-6797a270f743",
   "metadata": {},
   "outputs": [
    {
     "data": {
      "text/plain": [
       "Index(['element2'], dtype='object')"
      ]
     },
     "execution_count": 279,
     "metadata": {},
     "output_type": "execute_result"
    }
   ],
   "source": [
    "idx[1:]"
   ]
  },
  {
   "cell_type": "markdown",
   "id": "daf12c20-c596-422a-9b4e-848878f0d9cd",
   "metadata": {},
   "source": [
    "# indexes are immutable"
   ]
  },
  {
   "cell_type": "code",
   "execution_count": 280,
   "id": "5bca40b0-2f9b-4f40-8683-cefdcba7c02b",
   "metadata": {},
   "outputs": [
    {
     "ename": "TypeError",
     "evalue": "Index does not support mutable operations",
     "output_type": "error",
     "traceback": [
      "\u001b[31m---------------------------------------------------------------------------\u001b[39m",
      "\u001b[31mTypeError\u001b[39m                                 Traceback (most recent call last)",
      "\u001b[36mCell\u001b[39m\u001b[36m \u001b[39m\u001b[32mIn[280]\u001b[39m\u001b[32m, line 1\u001b[39m\n\u001b[32m----> \u001b[39m\u001b[32m1\u001b[39m \u001b[43midx\u001b[49m\u001b[43m[\u001b[49m\u001b[32;43m0\u001b[39;49m\u001b[43m]\u001b[49m = \u001b[33m'\u001b[39m\u001b[33melement3\u001b[39m\u001b[33m'\u001b[39m\n",
      "\u001b[36mFile \u001b[39m\u001b[32m~/Documents/Studyplan/python/fundamentals/.venv/lib/python3.13/site-packages/pandas/core/indexes/base.py:5383\u001b[39m, in \u001b[36mIndex.__setitem__\u001b[39m\u001b[34m(self, key, value)\u001b[39m\n\u001b[32m   5381\u001b[39m \u001b[38;5;129m@final\u001b[39m\n\u001b[32m   5382\u001b[39m \u001b[38;5;28;01mdef\u001b[39;00m\u001b[38;5;250m \u001b[39m\u001b[34m__setitem__\u001b[39m(\u001b[38;5;28mself\u001b[39m, key, value) -> \u001b[38;5;28;01mNone\u001b[39;00m:\n\u001b[32m-> \u001b[39m\u001b[32m5383\u001b[39m     \u001b[38;5;28;01mraise\u001b[39;00m \u001b[38;5;167;01mTypeError\u001b[39;00m(\u001b[33m\"\u001b[39m\u001b[33mIndex does not support mutable operations\u001b[39m\u001b[33m\"\u001b[39m)\n",
      "\u001b[31mTypeError\u001b[39m: Index does not support mutable operations"
     ]
    }
   ],
   "source": [
    "idx[0] = 'element3'"
   ]
  },
  {
   "cell_type": "markdown",
   "id": "2fc5464f-ded4-4223-a5ba-93c99af5efc1",
   "metadata": {},
   "source": [
    "# pandas index also have set like ops"
   ]
  },
  {
   "cell_type": "code",
   "execution_count": 284,
   "id": "68760fb9-d0ea-4729-a494-c1ac16f453f8",
   "metadata": {},
   "outputs": [
    {
     "data": {
      "text/plain": [
       "(Index(['c'], dtype='object'),\n",
       " Index(['a', 'b', 'c', 'd', 'f'], dtype='object'),\n",
       " Index(['a', 'b'], dtype='object'),\n",
       " Index(['a', 'b', 'd', 'f'], dtype='object'))"
      ]
     },
     "execution_count": 284,
     "metadata": {},
     "output_type": "execute_result"
    }
   ],
   "source": [
    "idx_1 = pd.Index(['a', 'b', 'c'])\n",
    "idx_2 = pd.Index(['c', 'd', 'f'])\n",
    "\n",
    "idx_1.intersection(idx_2), idx_1.union(idx_2), idx_1.difference(idx_2), idx_1.symmetric_difference(idx_2)"
   ]
  },
  {
   "cell_type": "markdown",
   "id": "d9475898-b9af-4d55-9463-6080c046e361",
   "metadata": {},
   "source": [
    "# range index"
   ]
  },
  {
   "cell_type": "code",
   "execution_count": 287,
   "id": "61871e69-d66c-462e-89cb-f9e6ea936f91",
   "metadata": {},
   "outputs": [],
   "source": [
    "idx = pd.Index(range(2, 10, 2))"
   ]
  },
  {
   "cell_type": "code",
   "execution_count": 289,
   "id": "c10a8adc-43c4-4173-9b57-7f61ae5f229b",
   "metadata": {},
   "outputs": [
    {
     "data": {
      "text/plain": [
       "2"
      ]
     },
     "execution_count": 289,
     "metadata": {},
     "output_type": "execute_result"
    }
   ],
   "source": [
    "idx[0]"
   ]
  },
  {
   "cell_type": "code",
   "execution_count": 291,
   "id": "1e97f8b5-4ec1-46f9-b93e-f4e90806447e",
   "metadata": {},
   "outputs": [
    {
     "data": {
      "text/plain": [
       "8"
      ]
     },
     "execution_count": 291,
     "metadata": {},
     "output_type": "execute_result"
    }
   ],
   "source": [
    "idx[3]"
   ]
  },
  {
   "cell_type": "code",
   "execution_count": 292,
   "id": "fc02eeeb-a621-4ceb-b109-d8558af0c970",
   "metadata": {},
   "outputs": [
    {
     "data": {
      "text/plain": [
       "[2, 4, 6, 8]"
      ]
     },
     "execution_count": 292,
     "metadata": {},
     "output_type": "execute_result"
    }
   ],
   "source": [
    "list(idx)"
   ]
  },
  {
   "cell_type": "markdown",
   "id": "d733a168-90bb-438c-aaa7-ea3b2e593ade",
   "metadata": {},
   "source": [
    "# do not exhaust"
   ]
  },
  {
   "cell_type": "code",
   "execution_count": 293,
   "id": "e0b6802f-57b3-4f1a-be64-145f85d06cb7",
   "metadata": {},
   "outputs": [
    {
     "data": {
      "text/plain": [
       "[2, 4, 6, 8]"
      ]
     },
     "execution_count": 293,
     "metadata": {},
     "output_type": "execute_result"
    }
   ],
   "source": [
    "list(idx)"
   ]
  },
  {
   "cell_type": "code",
   "execution_count": 294,
   "id": "44ef3ff6-b080-4eca-bd02-97f0093d1abf",
   "metadata": {},
   "outputs": [
    {
     "data": {
      "text/plain": [
       "True"
      ]
     },
     "execution_count": 294,
     "metadata": {},
     "output_type": "execute_result"
    }
   ],
   "source": [
    "2 in idx"
   ]
  },
  {
   "cell_type": "markdown",
   "id": "0ae5c2c7-eec8-48e3-81cf-9a5bde7a38b5",
   "metadata": {},
   "source": [
    "# index need not be unique "
   ]
  },
  {
   "cell_type": "code",
   "execution_count": 295,
   "id": "5d9495a6-ff55-4063-baab-d0597d9a5c0b",
   "metadata": {},
   "outputs": [],
   "source": [
    "idx = pd.Index([1, 2, 2, 3, 4 ])"
   ]
  },
  {
   "cell_type": "code",
   "execution_count": 296,
   "id": "45c84c7f-9fd2-4810-9d65-1b382b153253",
   "metadata": {},
   "outputs": [
    {
     "data": {
      "text/plain": [
       "Index([1, 2, 2, 3, 4], dtype='int64')"
      ]
     },
     "execution_count": 296,
     "metadata": {},
     "output_type": "execute_result"
    }
   ],
   "source": [
    "idx"
   ]
  },
  {
   "cell_type": "markdown",
   "id": "fc3a0320-ecdc-4a5b-8e37-2e713c136b5f",
   "metadata": {},
   "source": [
    "# series - 1D with explicit index"
   ]
  },
  {
   "cell_type": "code",
   "execution_count": 297,
   "id": "302afcf9-a606-4229-a151-ccd4485c31ec",
   "metadata": {},
   "outputs": [
    {
     "data": {
      "text/plain": [
       "a    10\n",
       "b    20\n",
       "c    30\n",
       "dtype: int64"
      ]
     },
     "execution_count": 297,
     "metadata": {},
     "output_type": "execute_result"
    }
   ],
   "source": [
    "s = pd.Series([10, 20, 30], index = ['a', 'b', 'c'])\n",
    "s"
   ]
  },
  {
   "cell_type": "code",
   "execution_count": 298,
   "id": "3a982ab0-6650-495b-b18a-021d8a47e123",
   "metadata": {},
   "outputs": [
    {
     "data": {
      "text/plain": [
       "np.int64(10)"
      ]
     },
     "execution_count": 298,
     "metadata": {},
     "output_type": "execute_result"
    }
   ],
   "source": [
    "s['a']"
   ]
  },
  {
   "cell_type": "code",
   "execution_count": 299,
   "id": "bc5e8764-3aa6-4082-8567-94271f7dbf0a",
   "metadata": {},
   "outputs": [
    {
     "data": {
      "text/plain": [
       "a     10\n",
       "b     20\n",
       "c     30\n",
       "d    100\n",
       "dtype: int64"
      ]
     },
     "execution_count": 299,
     "metadata": {},
     "output_type": "execute_result"
    }
   ],
   "source": [
    "s['d'] = 100\n",
    "s"
   ]
  },
  {
   "cell_type": "code",
   "execution_count": 300,
   "id": "7e591dd1-a90f-40cb-8da4-61ef2d0eb4f9",
   "metadata": {},
   "outputs": [
    {
     "data": {
      "text/plain": [
       "a    42.0000\n",
       "b     3.1400\n",
       "c     2.1616\n",
       "dtype: float64"
      ]
     },
     "execution_count": 300,
     "metadata": {},
     "output_type": "execute_result"
    }
   ],
   "source": [
    "my_dictionary = {\n",
    "    'a': 42,\n",
    "    'b': 3.14,\n",
    "    'c': 2.1616\n",
    "}\n",
    "\n",
    "s = pd.Series(my_dictionary)\n",
    "s"
   ]
  },
  {
   "cell_type": "code",
   "execution_count": 301,
   "id": "9984cfd0-130f-4557-9c9a-17ca1ce856de",
   "metadata": {},
   "outputs": [
    {
     "data": {
      "text/plain": [
       "Index(['a', 'b', 'c'], dtype='object')"
      ]
     },
     "execution_count": 301,
     "metadata": {},
     "output_type": "execute_result"
    }
   ],
   "source": [
    "s.index"
   ]
  },
  {
   "cell_type": "code",
   "execution_count": 302,
   "id": "e81d3292-13fe-47c1-96ae-d084b98c9909",
   "metadata": {},
   "outputs": [
    {
     "data": {
      "text/plain": [
       "array([42.    ,  3.14  ,  2.1616])"
      ]
     },
     "execution_count": 302,
     "metadata": {},
     "output_type": "execute_result"
    }
   ],
   "source": [
    "s.values"
   ]
  },
  {
   "cell_type": "code",
   "execution_count": 303,
   "id": "e682ac93-596c-4cd1-b1b5-aef8f1a090a4",
   "metadata": {},
   "outputs": [
    {
     "data": {
      "text/plain": [
       "<zip at 0x1205dec00>"
      ]
     },
     "execution_count": 303,
     "metadata": {},
     "output_type": "execute_result"
    }
   ],
   "source": [
    "s.items()"
   ]
  },
  {
   "cell_type": "code",
   "execution_count": 304,
   "id": "e23753fb-db25-488a-a07b-644671efafd4",
   "metadata": {},
   "outputs": [
    {
     "data": {
      "text/plain": [
       "[('a', 42.0), ('b', 3.14), ('c', 2.1616)]"
      ]
     },
     "execution_count": 304,
     "metadata": {},
     "output_type": "execute_result"
    }
   ],
   "source": [
    "list(s.items())"
   ]
  },
  {
   "cell_type": "code",
   "execution_count": 305,
   "id": "54d62842-e826-4b06-8f6d-8c833a1826c1",
   "metadata": {},
   "outputs": [
    {
     "data": {
      "text/plain": [
       "['a', 'b', 'c']"
      ]
     },
     "execution_count": 305,
     "metadata": {},
     "output_type": "execute_result"
    }
   ],
   "source": [
    "list(s.keys())"
   ]
  },
  {
   "cell_type": "code",
   "execution_count": 312,
   "id": "8258eae7-e5bf-4177-94ca-af1057bd1c41",
   "metadata": {},
   "outputs": [
    {
     "data": {
      "text/plain": [
       "country       USA\n",
       "country        UK\n",
       "city       london\n",
       "city       berlin\n",
       "city        paris\n",
       "dtype: object"
      ]
     },
     "execution_count": 312,
     "metadata": {},
     "output_type": "execute_result"
    }
   ],
   "source": [
    "my_dictionary = {\n",
    "    'country' : 'USA',\n",
    "    'city': 'london',\n",
    "    'country': 'France',\n",
    "    'city' : 'paris',\n",
    "    'country': 'UK'\n",
    "}\n",
    "\n",
    "s = pd.Series(['USA', 'UK', 'london', 'berlin', 'paris'], index=['country', 'country', 'city', 'city', 'city'])\n",
    "s"
   ]
  },
  {
   "cell_type": "code",
   "execution_count": 313,
   "id": "aaf863f2-9046-49e1-9d88-98abb88e5144",
   "metadata": {},
   "outputs": [
    {
     "data": {
      "text/plain": [
       "(Index(['country', 'country', 'city', 'city', 'city'], dtype='object'),\n",
       " array(['USA', 'UK', 'london', 'berlin', 'paris'], dtype=object))"
      ]
     },
     "execution_count": 313,
     "metadata": {},
     "output_type": "execute_result"
    }
   ],
   "source": [
    "s.index, s.values"
   ]
  },
  {
   "cell_type": "code",
   "execution_count": 314,
   "id": "e475a72d-37bc-4661-8d30-75e01de45e8b",
   "metadata": {},
   "outputs": [
    {
     "data": {
      "text/plain": [
       "country    USA\n",
       "country     UK\n",
       "dtype: object"
      ]
     },
     "execution_count": 314,
     "metadata": {},
     "output_type": "execute_result"
    }
   ],
   "source": [
    "s['country']"
   ]
  },
  {
   "cell_type": "code",
   "execution_count": 315,
   "id": "d63946ba-7de0-4db0-a09c-894398fe649d",
   "metadata": {},
   "outputs": [
    {
     "data": {
      "text/plain": [
       "city    london\n",
       "city    berlin\n",
       "city     paris\n",
       "dtype: object"
      ]
     },
     "execution_count": 315,
     "metadata": {},
     "output_type": "execute_result"
    }
   ],
   "source": [
    "s['city']"
   ]
  },
  {
   "cell_type": "code",
   "execution_count": 316,
   "id": "4f89e7f7-f6fc-4b78-a2ad-1608065c551d",
   "metadata": {},
   "outputs": [
    {
     "data": {
      "text/plain": [
       "country         USA\n",
       "country          UK\n",
       "city       budapest\n",
       "city       budapest\n",
       "city       budapest\n",
       "dtype: object"
      ]
     },
     "execution_count": 316,
     "metadata": {},
     "output_type": "execute_result"
    }
   ],
   "source": [
    "s['city'] = 'budapest'\n",
    "s"
   ]
  },
  {
   "cell_type": "code",
   "execution_count": 318,
   "id": "3b10cc6f-ec12-4ae8-8aae-e2839d826ba6",
   "metadata": {},
   "outputs": [
    {
     "data": {
      "text/plain": [
       "country       USA\n",
       "country        UK\n",
       "city       london\n",
       "city       berlin\n",
       "city        paris\n",
       "dtype: object"
      ]
     },
     "execution_count": 318,
     "metadata": {},
     "output_type": "execute_result"
    }
   ],
   "source": [
    "s = pd.Series(['USA', 'UK', 'london', 'berlin', 'paris'], \n",
    "              index=['country', 'country', 'city', 'city', 'city'])\n",
    "s"
   ]
  },
  {
   "cell_type": "code",
   "execution_count": 320,
   "id": "3487b747-5add-4421-ad22-039043e41cbf",
   "metadata": {},
   "outputs": [
    {
     "data": {
      "text/plain": [
       "'UK'"
      ]
     },
     "execution_count": 320,
     "metadata": {},
     "output_type": "execute_result"
    }
   ],
   "source": [
    "s.iloc[1]"
   ]
  },
  {
   "cell_type": "code",
   "execution_count": 321,
   "id": "85c851e3-952d-4f4f-89cb-db33636c94d7",
   "metadata": {},
   "outputs": [
    {
     "data": {
      "text/plain": [
       "country        UK\n",
       "city       london\n",
       "city       berlin\n",
       "dtype: object"
      ]
     },
     "execution_count": 321,
     "metadata": {},
     "output_type": "execute_result"
    }
   ],
   "source": [
    "s.iloc[1:-1]"
   ]
  },
  {
   "cell_type": "code",
   "execution_count": 324,
   "id": "b53b66ab-1f33-473a-afec-32e735665b6c",
   "metadata": {},
   "outputs": [
    {
     "data": {
      "text/plain": [
       "10    100\n",
       "20    200\n",
       "30    300\n",
       "40    400\n",
       "dtype: int64"
      ]
     },
     "execution_count": 324,
     "metadata": {},
     "output_type": "execute_result"
    }
   ],
   "source": [
    "s = pd.Series([100, 200, 300, 400], index=[10, 20, 30, 40])\n",
    "s"
   ]
  },
  {
   "cell_type": "markdown",
   "id": "8cc30fe1-91ee-4233-9c40-6138d51f4168",
   "metadata": {},
   "source": [
    "# never use explicit index to slice and positionally index things - use iloc and loc"
   ]
  },
  {
   "cell_type": "code",
   "execution_count": 325,
   "id": "c920430c-c018-4218-a381-9204ee29651b",
   "metadata": {},
   "outputs": [
    {
     "data": {
      "text/plain": [
       "Series([], dtype: int64)"
      ]
     },
     "execution_count": 325,
     "metadata": {},
     "output_type": "execute_result"
    }
   ],
   "source": [
    "s[20:30]"
   ]
  },
  {
   "cell_type": "code",
   "execution_count": 331,
   "id": "47d786ba-8178-4e3f-b0f3-fd14250b2630",
   "metadata": {},
   "outputs": [
    {
     "data": {
      "text/plain": [
       "20    200\n",
       "30    300\n",
       "dtype: int64"
      ]
     },
     "execution_count": 331,
     "metadata": {},
     "output_type": "execute_result"
    }
   ],
   "source": [
    "s.loc[20:30] # inclusive of end range"
   ]
  },
  {
   "cell_type": "code",
   "execution_count": 332,
   "id": "943ef8e1-3337-42c8-b42f-ccb26af6bad1",
   "metadata": {},
   "outputs": [
    {
     "data": {
      "text/plain": [
       "20    200\n",
       "30    300\n",
       "dtype: int64"
      ]
     },
     "execution_count": 332,
     "metadata": {},
     "output_type": "execute_result"
    }
   ],
   "source": [
    "s.iloc[1:3] # exclusive of end range"
   ]
  },
  {
   "cell_type": "code",
   "execution_count": 333,
   "id": "279b1d97-56eb-45fa-bef4-b1d64a027517",
   "metadata": {},
   "outputs": [
    {
     "data": {
      "text/plain": [
       "country       USA\n",
       "country        UK\n",
       "city       london\n",
       "city       berlin\n",
       "city        paris\n",
       "Name: areas, dtype: object"
      ]
     },
     "execution_count": 333,
     "metadata": {},
     "output_type": "execute_result"
    }
   ],
   "source": [
    "s = pd.Series(['USA', 'UK', 'london', 'berlin', 'paris'], \n",
    "              index=['country', 'country', 'city', 'city', 'city'],\n",
    "             name= 'areas')\n",
    "s"
   ]
  },
  {
   "cell_type": "code",
   "execution_count": 335,
   "id": "bfdd1e07-5bd7-4733-bef0-c0977201c415",
   "metadata": {},
   "outputs": [
    {
     "data": {
      "text/plain": [
       "country       USA\n",
       "city       london\n",
       "city       berlin\n",
       "city        paris\n",
       "Name: areas, dtype: object"
      ]
     },
     "execution_count": 335,
     "metadata": {},
     "output_type": "execute_result"
    }
   ],
   "source": [
    "s[s != 'UK']"
   ]
  },
  {
   "cell_type": "code",
   "execution_count": null,
   "id": "76502889-07cf-4c35-b077-458c77ef466c",
   "metadata": {},
   "outputs": [],
   "source": []
  }
 ],
 "metadata": {
  "kernelspec": {
   "display_name": "Python (fundamentals)",
   "language": "python",
   "name": "fundamentals"
  },
  "language_info": {
   "codemirror_mode": {
    "name": "ipython",
    "version": 3
   },
   "file_extension": ".py",
   "mimetype": "text/x-python",
   "name": "python",
   "nbconvert_exporter": "python",
   "pygments_lexer": "ipython3",
   "version": "3.13.7"
  }
 },
 "nbformat": 4,
 "nbformat_minor": 5
}
