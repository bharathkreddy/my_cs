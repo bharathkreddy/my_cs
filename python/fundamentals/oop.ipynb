{
 "cells": [
  {
   "cell_type": "markdown",
   "id": "38936e5a-b4c8-41b4-926d-80284e8ce344",
   "metadata": {},
   "source": [
    "# Classes\n",
    "1. Everything in python is an object\n",
    "    - has a `type` (aka class)\n",
    "    - has `state`\n",
    "    - has `functionality`\n",
    "2. ex: [1, 2, 3] is an object\n",
    "    - is a `type`: `list`\n",
    "    - its `state` are the elements in the list\n",
    "    - functionality such as .append etc exists."
   ]
  },
  {
   "cell_type": "code",
   "execution_count": 1,
   "id": "2d51d28c-e463-4f4f-a6ed-36221bb2ba5a",
   "metadata": {},
   "outputs": [],
   "source": [
    "class Person:\n",
    "    \"\"\"doc string for Person Class\"\"\""
   ]
  },
  {
   "cell_type": "markdown",
   "id": "cd6fa255-349e-41e5-bfc1-d5f7193f8f0c",
   "metadata": {},
   "source": [
    "### Above does a few things\n",
    "- makes the object a `callable`\n",
    "- adds a few methods like __doc__ and __name__"
   ]
  },
  {
   "cell_type": "code",
   "execution_count": 2,
   "id": "367ec127-4cfd-4ffc-bb9b-ddccfbfe8060",
   "metadata": {},
   "outputs": [],
   "source": [
    "p1 = Person()"
   ]
  },
  {
   "cell_type": "code",
   "execution_count": 3,
   "id": "d937de13-3aae-43a9-922a-3d2842cb8a62",
   "metadata": {},
   "outputs": [
    {
     "data": {
      "text/plain": [
       "<__main__.Person at 0x103761d30>"
      ]
     },
     "execution_count": 3,
     "metadata": {},
     "output_type": "execute_result"
    }
   ],
   "source": [
    "p1"
   ]
  },
  {
   "cell_type": "code",
   "execution_count": 4,
   "id": "cd414d80-12e3-4509-be94-bb64accd95a9",
   "metadata": {},
   "outputs": [
    {
     "data": {
      "text/plain": [
       "['__class__',\n",
       " '__delattr__',\n",
       " '__dict__',\n",
       " '__dir__',\n",
       " '__doc__',\n",
       " '__eq__',\n",
       " '__firstlineno__',\n",
       " '__format__',\n",
       " '__ge__',\n",
       " '__getattribute__',\n",
       " '__getstate__',\n",
       " '__gt__',\n",
       " '__hash__',\n",
       " '__init__',\n",
       " '__init_subclass__',\n",
       " '__le__',\n",
       " '__lt__',\n",
       " '__module__',\n",
       " '__ne__',\n",
       " '__new__',\n",
       " '__reduce__',\n",
       " '__reduce_ex__',\n",
       " '__repr__',\n",
       " '__setattr__',\n",
       " '__sizeof__',\n",
       " '__static_attributes__',\n",
       " '__str__',\n",
       " '__subclasshook__',\n",
       " '__weakref__']"
      ]
     },
     "execution_count": 4,
     "metadata": {},
     "output_type": "execute_result"
    }
   ],
   "source": [
    "dir(Person)"
   ]
  },
  {
   "cell_type": "code",
   "execution_count": 5,
   "id": "92495c8b-1b62-414d-9765-ea34c88ba23b",
   "metadata": {},
   "outputs": [
    {
     "data": {
      "text/plain": [
       "['__class__',\n",
       " '__delattr__',\n",
       " '__dict__',\n",
       " '__dir__',\n",
       " '__doc__',\n",
       " '__eq__',\n",
       " '__firstlineno__',\n",
       " '__format__',\n",
       " '__ge__',\n",
       " '__getattribute__',\n",
       " '__getstate__',\n",
       " '__gt__',\n",
       " '__hash__',\n",
       " '__init__',\n",
       " '__init_subclass__',\n",
       " '__le__',\n",
       " '__lt__',\n",
       " '__module__',\n",
       " '__ne__',\n",
       " '__new__',\n",
       " '__reduce__',\n",
       " '__reduce_ex__',\n",
       " '__repr__',\n",
       " '__setattr__',\n",
       " '__sizeof__',\n",
       " '__static_attributes__',\n",
       " '__str__',\n",
       " '__subclasshook__',\n",
       " '__weakref__']"
      ]
     },
     "execution_count": 5,
     "metadata": {},
     "output_type": "execute_result"
    }
   ],
   "source": [
    "dir(p1)"
   ]
  },
  {
   "cell_type": "code",
   "execution_count": 8,
   "id": "abadfe37-fcbc-4c1e-88b9-200093165531",
   "metadata": {},
   "outputs": [
    {
     "data": {
      "text/plain": [
       "'doc string for Person Class'"
      ]
     },
     "execution_count": 8,
     "metadata": {},
     "output_type": "execute_result"
    }
   ],
   "source": [
    "p1.__doc__"
   ]
  },
  {
   "cell_type": "code",
   "execution_count": 12,
   "id": "489cf37c-e0c2-42b2-b1c4-93da22129928",
   "metadata": {},
   "outputs": [
    {
     "data": {
      "text/plain": [
       "__main__.Person"
      ]
     },
     "execution_count": 12,
     "metadata": {},
     "output_type": "execute_result"
    }
   ],
   "source": [
    "p1.__class__"
   ]
  },
  {
   "cell_type": "code",
   "execution_count": 13,
   "id": "39685b51-0a94-4f5e-9382-d897b43b2b61",
   "metadata": {},
   "outputs": [
    {
     "data": {
      "text/plain": [
       "'Person'"
      ]
     },
     "execution_count": 13,
     "metadata": {},
     "output_type": "execute_result"
    }
   ],
   "source": [
    "Person.__name__"
   ]
  },
  {
   "cell_type": "code",
   "execution_count": 14,
   "id": "a979e0fd-1c7d-4d40-ba4b-0b8f8c337890",
   "metadata": {},
   "outputs": [
    {
     "data": {
      "text/plain": [
       "__main__.Person"
      ]
     },
     "execution_count": 14,
     "metadata": {},
     "output_type": "execute_result"
    }
   ],
   "source": [
    "type(p1)"
   ]
  },
  {
   "cell_type": "code",
   "execution_count": 16,
   "id": "16805c84-a590-4536-9a3c-5bb28cf3e1ab",
   "metadata": {},
   "outputs": [
    {
     "data": {
      "text/plain": [
       "True"
      ]
     },
     "execution_count": 16,
     "metadata": {},
     "output_type": "execute_result"
    }
   ],
   "source": [
    "type([1,2,3]) is list"
   ]
  },
  {
   "cell_type": "code",
   "execution_count": 17,
   "id": "e5204d79-6652-4d3b-91fa-50102d467d94",
   "metadata": {},
   "outputs": [
    {
     "data": {
      "text/plain": [
       "True"
      ]
     },
     "execution_count": 17,
     "metadata": {},
     "output_type": "execute_result"
    }
   ],
   "source": [
    "type(p1) is Person"
   ]
  },
  {
   "cell_type": "code",
   "execution_count": 18,
   "id": "8d6b5296-35cc-4aab-bba7-0a37a6962a74",
   "metadata": {},
   "outputs": [
    {
     "data": {
      "text/plain": [
       "True"
      ]
     },
     "execution_count": 18,
     "metadata": {},
     "output_type": "execute_result"
    }
   ],
   "source": [
    "isinstance(p1, Person)"
   ]
  },
  {
   "cell_type": "markdown",
   "id": "41ec8669-8a9f-4550-8555-4c546418a184",
   "metadata": {},
   "source": [
    "### we can add state post creation of an object - at least in custom classes"
   ]
  },
  {
   "cell_type": "code",
   "execution_count": 19,
   "id": "f91c3789-fe89-4917-90b4-174fef104562",
   "metadata": {},
   "outputs": [],
   "source": [
    "p1.name = 'John'"
   ]
  },
  {
   "cell_type": "code",
   "execution_count": 20,
   "id": "4ccbb521-cf15-4600-ad1c-ab01e4cb671f",
   "metadata": {},
   "outputs": [
    {
     "data": {
      "text/plain": [
       "'John'"
      ]
     },
     "execution_count": 20,
     "metadata": {},
     "output_type": "execute_result"
    }
   ],
   "source": [
    "p1.name"
   ]
  },
  {
   "cell_type": "code",
   "execution_count": 21,
   "id": "cf199bc4-984c-4208-bc00-42e1e073644e",
   "metadata": {},
   "outputs": [],
   "source": [
    "del p1.name"
   ]
  },
  {
   "cell_type": "code",
   "execution_count": 22,
   "id": "e0d8d1fb-03d6-4d25-9b08-80f4e3e7cf9c",
   "metadata": {},
   "outputs": [
    {
     "ename": "AttributeError",
     "evalue": "'Person' object has no attribute 'name'",
     "output_type": "error",
     "traceback": [
      "\u001b[31m---------------------------------------------------------------------------\u001b[39m",
      "\u001b[31mAttributeError\u001b[39m                            Traceback (most recent call last)",
      "\u001b[36mCell\u001b[39m\u001b[36m \u001b[39m\u001b[32mIn[22]\u001b[39m\u001b[32m, line 1\u001b[39m\n\u001b[32m----> \u001b[39m\u001b[32m1\u001b[39m \u001b[43mp1\u001b[49m\u001b[43m.\u001b[49m\u001b[43mname\u001b[49m\n",
      "\u001b[31mAttributeError\u001b[39m: 'Person' object has no attribute 'name'"
     ]
    }
   ],
   "source": [
    "p1.name"
   ]
  },
  {
   "cell_type": "markdown",
   "id": "4ffa5045-d182-4962-bb7a-5679d1b414bc",
   "metadata": {},
   "source": [
    "### namespace of the class instance is stored as dict and available "
   ]
  },
  {
   "cell_type": "code",
   "execution_count": 25,
   "id": "441f4848-b1c1-4119-a26c-c78376b8a378",
   "metadata": {},
   "outputs": [],
   "source": [
    "p1.name = 'John'"
   ]
  },
  {
   "cell_type": "code",
   "execution_count": 26,
   "id": "3c3b28c9-f12a-4adb-82b5-ef981c564f51",
   "metadata": {},
   "outputs": [
    {
     "data": {
      "text/plain": [
       "{'name': 'John'}"
      ]
     },
     "execution_count": 26,
     "metadata": {},
     "output_type": "execute_result"
    }
   ],
   "source": [
    "p1.__dict__"
   ]
  },
  {
   "cell_type": "code",
   "execution_count": 27,
   "id": "534beb21-da5f-43cd-a3fe-aa01164e4d67",
   "metadata": {},
   "outputs": [
    {
     "data": {
      "text/plain": [
       "{'name': 'John', 'lastName': 'cena'}"
      ]
     },
     "execution_count": 27,
     "metadata": {},
     "output_type": "execute_result"
    }
   ],
   "source": [
    "p1.lastName = 'cena'\n",
    "p1.__dict__"
   ]
  },
  {
   "cell_type": "markdown",
   "id": "bda5160b-5233-49f4-b4d4-c6cc96b43fa3",
   "metadata": {},
   "source": [
    "# class initialization\n",
    "`__init__` method is a special function called by python when we create new instance of a class"
   ]
  },
  {
   "cell_type": "code",
   "execution_count": 28,
   "id": "abc49709-0779-401c-981f-318781a4a919",
   "metadata": {},
   "outputs": [],
   "source": [
    "class Circle:\n",
    "    def __init__(self):\n",
    "        print('__init__ called.')"
   ]
  },
  {
   "cell_type": "code",
   "execution_count": 29,
   "id": "25c2de60-48a7-4f87-9026-a3102aaf2c40",
   "metadata": {},
   "outputs": [
    {
     "name": "stdout",
     "output_type": "stream",
     "text": [
      "__init__ called.\n"
     ]
    }
   ],
   "source": [
    "c1 = Circle()"
   ]
  },
  {
   "cell_type": "code",
   "execution_count": 33,
   "id": "a2edabcb-38ff-40e9-adc7-bbb7025ec8ef",
   "metadata": {},
   "outputs": [],
   "source": [
    "class Circle:\n",
    "    def __init__(self, radius):\n",
    "        if radius < 0:\n",
    "            raise ValueError('Radius must be positive')\n",
    "        self.radius = radius"
   ]
  },
  {
   "cell_type": "code",
   "execution_count": 34,
   "id": "1f99db80-18ba-490a-b512-37713718f511",
   "metadata": {},
   "outputs": [],
   "source": [
    "c1 = Circle(10)"
   ]
  },
  {
   "cell_type": "code",
   "execution_count": 35,
   "id": "3358cbcc-b3ff-4e73-92d9-56cdc99f5c13",
   "metadata": {},
   "outputs": [
    {
     "data": {
      "text/plain": [
       "{'radius': 10}"
      ]
     },
     "execution_count": 35,
     "metadata": {},
     "output_type": "execute_result"
    }
   ],
   "source": [
    "c1.__dict__"
   ]
  },
  {
   "cell_type": "code",
   "execution_count": 37,
   "id": "c6ed2be8-49b5-4960-861a-9d36b3f0bdb6",
   "metadata": {},
   "outputs": [
    {
     "ename": "ValueError",
     "evalue": "Radius must be positive",
     "output_type": "error",
     "traceback": [
      "\u001b[31m---------------------------------------------------------------------------\u001b[39m",
      "\u001b[31mValueError\u001b[39m                                Traceback (most recent call last)",
      "\u001b[36mCell\u001b[39m\u001b[36m \u001b[39m\u001b[32mIn[37]\u001b[39m\u001b[32m, line 1\u001b[39m\n\u001b[32m----> \u001b[39m\u001b[32m1\u001b[39m c2 = \u001b[43mCircle\u001b[49m\u001b[43m(\u001b[49m\u001b[43m-\u001b[49m\u001b[32;43m10\u001b[39;49m\u001b[43m)\u001b[49m\n",
      "\u001b[36mCell\u001b[39m\u001b[36m \u001b[39m\u001b[32mIn[33]\u001b[39m\u001b[32m, line 4\u001b[39m, in \u001b[36mCircle.__init__\u001b[39m\u001b[34m(self, radius)\u001b[39m\n\u001b[32m      2\u001b[39m \u001b[38;5;28;01mdef\u001b[39;00m\u001b[38;5;250m \u001b[39m\u001b[34m__init__\u001b[39m(\u001b[38;5;28mself\u001b[39m, radius):\n\u001b[32m      3\u001b[39m     \u001b[38;5;28;01mif\u001b[39;00m radius < \u001b[32m0\u001b[39m:\n\u001b[32m----> \u001b[39m\u001b[32m4\u001b[39m         \u001b[38;5;28;01mraise\u001b[39;00m \u001b[38;5;167;01mValueError\u001b[39;00m(\u001b[33m'\u001b[39m\u001b[33mRadius must be positive\u001b[39m\u001b[33m'\u001b[39m)\n\u001b[32m      5\u001b[39m     \u001b[38;5;28mself\u001b[39m.radius = radius\n",
      "\u001b[31mValueError\u001b[39m: Radius must be positive"
     ]
    }
   ],
   "source": [
    "c2 = Circle(-10)"
   ]
  },
  {
   "cell_type": "markdown",
   "id": "c78ee61c-9f53-4d05-9ea1-4b512d08456b",
   "metadata": {},
   "source": [
    "### however we can modify radius because `__init__` is called only during initialization of the class and not afterwards"
   ]
  },
  {
   "cell_type": "code",
   "execution_count": 38,
   "id": "79c7f031-5f38-4945-a79a-5429bae8325f",
   "metadata": {},
   "outputs": [],
   "source": [
    "c1.radius = -10"
   ]
  },
  {
   "cell_type": "code",
   "execution_count": 40,
   "id": "53b6085a-17da-439b-83ad-6a956bef2982",
   "metadata": {},
   "outputs": [
    {
     "data": {
      "text/plain": [
       "{'radius': -10}"
      ]
     },
     "execution_count": 40,
     "metadata": {},
     "output_type": "execute_result"
    }
   ],
   "source": [
    "vars(c1) # same as __dict__ method"
   ]
  },
  {
   "cell_type": "markdown",
   "id": "91ed854e-9094-4c99-9295-f9131979d319",
   "metadata": {},
   "source": [
    "## instance methods"
   ]
  },
  {
   "cell_type": "code",
   "execution_count": 46,
   "id": "b1257fcf-3a2e-44d9-93dd-5c855a05150d",
   "metadata": {},
   "outputs": [],
   "source": [
    "import math"
   ]
  },
  {
   "cell_type": "code",
   "execution_count": 94,
   "id": "496d9cef-45a4-43cf-8087-374e6e020691",
   "metadata": {},
   "outputs": [],
   "source": [
    "class Circle:\n",
    "    def __init__(self, radius):\n",
    "        if radius < 0:\n",
    "            raise ValueError('Radius cannot be negative')\n",
    "        self.radius = radius\n",
    "\n",
    "    def area(self):\n",
    "        return math.pi * (self.radius ** 2)\n",
    "\n",
    "    def __str__(self):  # print uses this\n",
    "        return f'Circle with radius {self.radius}'\n",
    "\n",
    "    def __repr__(self): # mostly for devs, is used if str is missing\n",
    "        return f'Circle(radius={self.radius})'\n",
    "\n",
    "    def __eq__(self, other):\n",
    "        if isinstance(other, Circle):\n",
    "            return self.radius == other.radius\n",
    "        else: \n",
    "            raise NotImplementedError(f\"Equality not implemented between circle and {other.__class__}\")\n",
    "\n",
    "    def __lt__(self, other):\n",
    "        if isinstance(other, Circle):\n",
    "            return self.radius < other.radius\n",
    "        else: \n",
    "            raise NotImplementedError(f\"Comparision not implemented between circle and {other.__class__}\")"
   ]
  },
  {
   "cell_type": "code",
   "execution_count": 95,
   "id": "99210526-ce95-4405-91b7-8b2f71aa2a29",
   "metadata": {},
   "outputs": [
    {
     "data": {
      "text/plain": [
       "314.1592653589793"
      ]
     },
     "execution_count": 95,
     "metadata": {},
     "output_type": "execute_result"
    }
   ],
   "source": [
    "c1 = Circle(10)\n",
    "c1.area()"
   ]
  },
  {
   "cell_type": "code",
   "execution_count": 96,
   "id": "5afae6a4-515f-422f-803f-408fd9bbb122",
   "metadata": {},
   "outputs": [
    {
     "data": {
      "text/plain": [
       "(Circle(radius=10), 'Circle(radius=10)')"
      ]
     },
     "execution_count": 96,
     "metadata": {},
     "output_type": "execute_result"
    }
   ],
   "source": [
    "c1, repr(c1)"
   ]
  },
  {
   "cell_type": "code",
   "execution_count": 97,
   "id": "4efc4243-8c78-488a-86c4-98bc12b24ba3",
   "metadata": {},
   "outputs": [
    {
     "data": {
      "text/plain": [
       "'Circle with radius 10'"
      ]
     },
     "execution_count": 97,
     "metadata": {},
     "output_type": "execute_result"
    }
   ],
   "source": [
    "str(c1)"
   ]
  },
  {
   "cell_type": "code",
   "execution_count": 98,
   "id": "25dffada-7606-4049-bbd9-ef482907c560",
   "metadata": {},
   "outputs": [
    {
     "name": "stdout",
     "output_type": "stream",
     "text": [
      "Circle with radius 10\n"
     ]
    }
   ],
   "source": [
    "print(c1)"
   ]
  },
  {
   "cell_type": "code",
   "execution_count": 99,
   "id": "f52408d3-a672-4802-b9ec-de046332499e",
   "metadata": {},
   "outputs": [
    {
     "data": {
      "text/plain": [
       "(True, False)"
      ]
     },
     "execution_count": 99,
     "metadata": {},
     "output_type": "execute_result"
    }
   ],
   "source": [
    "c2 = Circle(10)\n",
    "c3 = Circle(5)\n",
    "c1 == c2, c1 == c3"
   ]
  },
  {
   "cell_type": "code",
   "execution_count": 101,
   "id": "fb687e1d-942a-4c57-bf5d-ad088492afb5",
   "metadata": {},
   "outputs": [
    {
     "data": {
      "text/plain": [
       "True"
      ]
     },
     "execution_count": 101,
     "metadata": {},
     "output_type": "execute_result"
    }
   ],
   "source": [
    "c3 < c1"
   ]
  },
  {
   "cell_type": "code",
   "execution_count": 103,
   "id": "18bf79bb-50de-421d-8540-39acaae3cdbf",
   "metadata": {},
   "outputs": [
    {
     "data": {
      "text/plain": [
       "False"
      ]
     },
     "execution_count": 103,
     "metadata": {},
     "output_type": "execute_result"
    }
   ],
   "source": [
    "c2 < c3"
   ]
  },
  {
   "cell_type": "code",
   "execution_count": 104,
   "id": "d3f9b163-8f75-4bac-b9e8-f9e67a558ac5",
   "metadata": {},
   "outputs": [
    {
     "ename": "NotImplementedError",
     "evalue": "Equality not implemented between circle and <class 'int'>",
     "output_type": "error",
     "traceback": [
      "\u001b[31m---------------------------------------------------------------------------\u001b[39m",
      "\u001b[31mNotImplementedError\u001b[39m                       Traceback (most recent call last)",
      "\u001b[36mCell\u001b[39m\u001b[36m \u001b[39m\u001b[32mIn[104]\u001b[39m\u001b[32m, line 1\u001b[39m\n\u001b[32m----> \u001b[39m\u001b[32m1\u001b[39m \u001b[43mc1\u001b[49m\u001b[43m \u001b[49m\u001b[43m==\u001b[49m\u001b[43m \u001b[49m\u001b[32;43m3\u001b[39;49m\n",
      "\u001b[36mCell\u001b[39m\u001b[36m \u001b[39m\u001b[32mIn[94]\u001b[39m\u001b[32m, line 20\u001b[39m, in \u001b[36mCircle.__eq__\u001b[39m\u001b[34m(self, other)\u001b[39m\n\u001b[32m     18\u001b[39m     \u001b[38;5;28;01mreturn\u001b[39;00m \u001b[38;5;28mself\u001b[39m.radius == other.radius\n\u001b[32m     19\u001b[39m \u001b[38;5;28;01melse\u001b[39;00m: \n\u001b[32m---> \u001b[39m\u001b[32m20\u001b[39m     \u001b[38;5;28;01mraise\u001b[39;00m \u001b[38;5;167;01mNotImplementedError\u001b[39;00m(\u001b[33mf\u001b[39m\u001b[33m\"\u001b[39m\u001b[33mEquality not implemented between circle and \u001b[39m\u001b[38;5;132;01m{\u001b[39;00mother.\u001b[34m__class__\u001b[39m\u001b[38;5;132;01m}\u001b[39;00m\u001b[33m\"\u001b[39m)\n",
      "\u001b[31mNotImplementedError\u001b[39m: Equality not implemented between circle and <class 'int'>"
     ]
    }
   ],
   "source": [
    "c1 == 3"
   ]
  },
  {
   "cell_type": "markdown",
   "id": "9ce3c74a-4026-47f2-ab39-5c8f34bee358",
   "metadata": {},
   "source": [
    "# Properties\n",
    "- `__init__` method controls attributes during initialization but there after one can change these directly.\n",
    "- Bare attribute directly goes to the `__dict__` dictionary\n",
    "- Property goes via a method (setters and getters)"
   ]
  },
  {
   "cell_type": "code",
   "execution_count": 105,
   "id": "3436c09e-a87a-469a-8f1d-2353f8dd9235",
   "metadata": {},
   "outputs": [],
   "source": [
    "class Circle:\n",
    "    def __init__(self, radius):\n",
    "        if radius < 0:\n",
    "            raise ValueError('Radius cannot be negative')\n",
    "        self.radius = radius\n",
    "\n",
    "    def area(self):\n",
    "        return math.pi * (self.radius ** 2)\n",
    "\n",
    "    def __str__(self):  # print uses this\n",
    "        return f'Circle with radius {self.radius}'\n",
    "\n",
    "    def __repr__(self): # mostly for devs, is used if str is missing\n",
    "        return f'Circle(radius={self.radius})'\n",
    "\n",
    "    def __eq__(self, other):\n",
    "        if isinstance(other, Circle):\n",
    "            return self.radius == other.radius\n",
    "        else: \n",
    "            raise NotImplementedError(f\"Equality not implemented between circle and {other.__class__}\")\n",
    "\n",
    "    def __lt__(self, other):\n",
    "        if isinstance(other, Circle):\n",
    "            return self.radius < other.radius\n",
    "        else: \n",
    "            raise NotImplementedError(f\"Comparision not implemented between circle and {other.__class__}\")"
   ]
  },
  {
   "cell_type": "code",
   "execution_count": 106,
   "id": "0ad8fde1-f9a5-4c6e-8a7a-271776bce094",
   "metadata": {},
   "outputs": [
    {
     "data": {
      "text/plain": [
       "10"
      ]
     },
     "execution_count": 106,
     "metadata": {},
     "output_type": "execute_result"
    }
   ],
   "source": [
    "c1 = Circle(10)\n",
    "c1.radius"
   ]
  },
  {
   "cell_type": "code",
   "execution_count": 108,
   "id": "ceb16e8c-5d79-45de-b577-9b2a309a4692",
   "metadata": {},
   "outputs": [
    {
     "data": {
      "text/plain": [
       "(Circle(radius=four), 'four')"
      ]
     },
     "execution_count": 108,
     "metadata": {},
     "output_type": "execute_result"
    }
   ],
   "source": [
    "c1.radius = \"four\"\n",
    "c1, c1.radius"
   ]
  },
  {
   "cell_type": "code",
   "execution_count": 109,
   "id": "f0748818-0312-42bf-9aac-1266780fe112",
   "metadata": {},
   "outputs": [
    {
     "ename": "TypeError",
     "evalue": "unsupported operand type(s) for ** or pow(): 'str' and 'int'",
     "output_type": "error",
     "traceback": [
      "\u001b[31m---------------------------------------------------------------------------\u001b[39m",
      "\u001b[31mTypeError\u001b[39m                                 Traceback (most recent call last)",
      "\u001b[36mCell\u001b[39m\u001b[36m \u001b[39m\u001b[32mIn[109]\u001b[39m\u001b[32m, line 1\u001b[39m\n\u001b[32m----> \u001b[39m\u001b[32m1\u001b[39m \u001b[43mc1\u001b[49m\u001b[43m.\u001b[49m\u001b[43marea\u001b[49m\u001b[43m(\u001b[49m\u001b[43m)\u001b[49m\n",
      "\u001b[36mCell\u001b[39m\u001b[36m \u001b[39m\u001b[32mIn[105]\u001b[39m\u001b[32m, line 8\u001b[39m, in \u001b[36mCircle.area\u001b[39m\u001b[34m(self)\u001b[39m\n\u001b[32m      7\u001b[39m \u001b[38;5;28;01mdef\u001b[39;00m\u001b[38;5;250m \u001b[39m\u001b[34marea\u001b[39m(\u001b[38;5;28mself\u001b[39m):\n\u001b[32m----> \u001b[39m\u001b[32m8\u001b[39m     \u001b[38;5;28;01mreturn\u001b[39;00m math.pi * (\u001b[38;5;28;43mself\u001b[39;49m\u001b[43m.\u001b[49m\u001b[43mradius\u001b[49m\u001b[43m \u001b[49m\u001b[43m*\u001b[49m\u001b[43m*\u001b[49m\u001b[43m \u001b[49m\u001b[32;43m2\u001b[39;49m)\n",
      "\u001b[31mTypeError\u001b[39m: unsupported operand type(s) for ** or pow(): 'str' and 'int'"
     ]
    }
   ],
   "source": [
    "c1.area()"
   ]
  },
  {
   "cell_type": "markdown",
   "id": "66bc2a5c-f67f-4d29-9b40-8c91adc2450a",
   "metadata": {},
   "source": [
    "# using properties we can manage this"
   ]
  },
  {
   "cell_type": "code",
   "execution_count": 157,
   "id": "63766162-da3a-4635-848b-3c4f3075c6b8",
   "metadata": {},
   "outputs": [],
   "source": [
    "class Circle:\n",
    "    def __init__(self, radius):\n",
    "        print(\"init called\")\n",
    "        if not isinstance(radius, int) or radius < 0 :\n",
    "            raise ValueError('Radius cannot be negative or non integer')\n",
    "        self._radius = radius  # PRIVATE VARIABLE \n",
    "\n",
    "    @property   # now the method is transformed to a property! so c1.radius() is changed to c1.radius\n",
    "    def radius(self):\n",
    "        print(\"getter called\")\n",
    "        return self._radius\n",
    "\n",
    "    @radius.setter\n",
    "    def radius(self, radius):\n",
    "        print(\"setter called\")\n",
    "        if not isinstance(radius, int) or radius < 0 :\n",
    "            raise ValueError('Radius cannot be negative or non integer')\n",
    "        self._radius = radius\n",
    "\n",
    "    def area(self):\n",
    "        return math.pi * (self.radius ** 2)\n",
    "\n",
    "    def __str__(self):  # print uses this\n",
    "        return f'Circle with radius {self.radius}'\n",
    "\n",
    "    def __repr__(self): # mostly for devs, is used if str is missing\n",
    "        return f'Circle(radius={self.radius})'\n",
    "\n",
    "    def __eq__(self, other):\n",
    "        if isinstance(other, Circle):\n",
    "            return self.radius == other.radius\n",
    "        else: \n",
    "            raise NotImplementedError(f\"Equality not implemented between circle and {other.__class__}\")\n",
    "\n",
    "    def __lt__(self, other):\n",
    "        if isinstance(other, Circle):\n",
    "            return self.radius < other.radius\n",
    "        else: \n",
    "            raise NotImplementedError(f\"Comparision not implemented between circle and {other.__class__}\")"
   ]
  },
  {
   "cell_type": "code",
   "execution_count": 158,
   "id": "c1e921e7-8b04-40b0-aff9-2ea778c07f82",
   "metadata": {},
   "outputs": [
    {
     "name": "stdout",
     "output_type": "stream",
     "text": [
      "init called\n"
     ]
    }
   ],
   "source": [
    "c1 = Circle(5)"
   ]
  },
  {
   "cell_type": "code",
   "execution_count": 159,
   "id": "f7e74d4c-44b6-47bf-a42c-6fe1a10839f0",
   "metadata": {},
   "outputs": [
    {
     "name": "stdout",
     "output_type": "stream",
     "text": [
      "setter called\n"
     ]
    },
    {
     "ename": "ValueError",
     "evalue": "Radius cannot be negative or non integer",
     "output_type": "error",
     "traceback": [
      "\u001b[31m---------------------------------------------------------------------------\u001b[39m",
      "\u001b[31mValueError\u001b[39m                                Traceback (most recent call last)",
      "\u001b[36mCell\u001b[39m\u001b[36m \u001b[39m\u001b[32mIn[159]\u001b[39m\u001b[32m, line 1\u001b[39m\n\u001b[32m----> \u001b[39m\u001b[32m1\u001b[39m \u001b[43mc1\u001b[49m\u001b[43m.\u001b[49m\u001b[43mradius\u001b[49m = \u001b[33m\"\u001b[39m\u001b[33mFOUR\u001b[39m\u001b[33m\"\u001b[39m\n",
      "\u001b[36mCell\u001b[39m\u001b[36m \u001b[39m\u001b[32mIn[157]\u001b[39m\u001b[32m, line 17\u001b[39m, in \u001b[36mCircle.radius\u001b[39m\u001b[34m(self, radius)\u001b[39m\n\u001b[32m     15\u001b[39m \u001b[38;5;28mprint\u001b[39m(\u001b[33m\"\u001b[39m\u001b[33msetter called\u001b[39m\u001b[33m\"\u001b[39m)\n\u001b[32m     16\u001b[39m \u001b[38;5;28;01mif\u001b[39;00m \u001b[38;5;129;01mnot\u001b[39;00m \u001b[38;5;28misinstance\u001b[39m(radius, \u001b[38;5;28mint\u001b[39m) \u001b[38;5;129;01mor\u001b[39;00m radius < \u001b[32m0\u001b[39m :\n\u001b[32m---> \u001b[39m\u001b[32m17\u001b[39m     \u001b[38;5;28;01mraise\u001b[39;00m \u001b[38;5;167;01mValueError\u001b[39;00m(\u001b[33m'\u001b[39m\u001b[33mRadius cannot be negative or non integer\u001b[39m\u001b[33m'\u001b[39m)\n\u001b[32m     18\u001b[39m \u001b[38;5;28mself\u001b[39m._radius = radius\n",
      "\u001b[31mValueError\u001b[39m: Radius cannot be negative or non integer"
     ]
    }
   ],
   "source": [
    "c1.radius = \"FOUR\""
   ]
  },
  {
   "cell_type": "code",
   "execution_count": 160,
   "id": "fafbdaaf-d61c-4e44-9b89-cee011cfc0c9",
   "metadata": {},
   "outputs": [
    {
     "name": "stdout",
     "output_type": "stream",
     "text": [
      "getter called\n"
     ]
    },
    {
     "data": {
      "text/plain": [
       "5"
      ]
     },
     "execution_count": 160,
     "metadata": {},
     "output_type": "execute_result"
    }
   ],
   "source": [
    "c1.radius"
   ]
  },
  {
   "cell_type": "code",
   "execution_count": 162,
   "id": "8c540c13-e34d-4f22-bd33-2f9de2bf8231",
   "metadata": {},
   "outputs": [
    {
     "name": "stdout",
     "output_type": "stream",
     "text": [
      "getter called\n"
     ]
    },
    {
     "data": {
      "text/plain": [
       "78.53981633974483"
      ]
     },
     "execution_count": 162,
     "metadata": {},
     "output_type": "execute_result"
    }
   ],
   "source": [
    "# getter is still called because area method calls for \n",
    "# c1.radius (property via getter) not c1._radius - the private variable\n",
    "\n",
    "c1.area()"
   ]
  },
  {
   "cell_type": "markdown",
   "id": "14c06a84-146d-4158-a993-f3d6fad7bbf9",
   "metadata": {},
   "source": [
    "# i can still set other things like area !"
   ]
  },
  {
   "cell_type": "code",
   "execution_count": 148,
   "id": "71893b90-ffde-49e8-be64-2167be4d9cf5",
   "metadata": {},
   "outputs": [],
   "source": [
    "c1.area = 42"
   ]
  },
  {
   "cell_type": "code",
   "execution_count": 164,
   "id": "7f42a0b3-53cb-4472-a665-9ca0c487fff5",
   "metadata": {},
   "outputs": [],
   "source": [
    "class Circle:\n",
    "    def __init__(self, radius):\n",
    "        print(\"init called\")\n",
    "        if not isinstance(radius, int) or radius < 0 :\n",
    "            raise ValueError('Radius cannot be negative or non integer')\n",
    "        self._radius = radius   # PRIVATE VARIABLE \n",
    "\n",
    "    @property\n",
    "    def radius(self):\n",
    "        print(\"getter called\")\n",
    "        return self._radius\n",
    "\n",
    "    @radius.setter\n",
    "    def radius(self, radius):\n",
    "        print(\"setter called\")\n",
    "        if not isinstance(radius, int) or radius < 0 :\n",
    "            raise ValueError('Radius cannot be negative or non integer')\n",
    "        self._radius = radius\n",
    "\n",
    "    @property\n",
    "    def area(self):\n",
    "        return math.pi * (self.radius ** 2)\n",
    "\n",
    "    def __str__(self):  # print uses this\n",
    "        return f'Circle with radius {self.radius}'\n",
    "\n",
    "    def __repr__(self): # mostly for devs, is used if str is missing\n",
    "        return f'Circle(radius={self.radius})'\n",
    "\n",
    "    def __eq__(self, other):\n",
    "        if isinstance(other, Circle):\n",
    "            return self.radius == other.radius\n",
    "        else: \n",
    "            raise NotImplementedError(f\"Equality not implemented between circle and {other.__class__}\")\n",
    "\n",
    "    def __lt__(self, other):\n",
    "        if isinstance(other, Circle):\n",
    "            return self.radius < other.radius\n",
    "        else: \n",
    "            raise NotImplementedError(f\"Comparision not implemented between circle and {other.__class__}\")"
   ]
  },
  {
   "cell_type": "code",
   "execution_count": 165,
   "id": "1e6b54ae-2495-438e-a617-218b6ece814c",
   "metadata": {},
   "outputs": [
    {
     "name": "stdout",
     "output_type": "stream",
     "text": [
      "init called\n"
     ]
    }
   ],
   "source": [
    "c1 = Circle(5)"
   ]
  },
  {
   "cell_type": "code",
   "execution_count": 166,
   "id": "fae31c17-da9a-45ea-b2d9-c78ba2403f00",
   "metadata": {},
   "outputs": [
    {
     "name": "stdout",
     "output_type": "stream",
     "text": [
      "getter called\n"
     ]
    },
    {
     "data": {
      "text/plain": [
       "Circle(radius=5)"
      ]
     },
     "execution_count": 166,
     "metadata": {},
     "output_type": "execute_result"
    }
   ],
   "source": [
    "c1"
   ]
  },
  {
   "cell_type": "code",
   "execution_count": 167,
   "id": "a474f2b8-b868-4448-9dff-d7f462ce4a6e",
   "metadata": {},
   "outputs": [
    {
     "name": "stdout",
     "output_type": "stream",
     "text": [
      "setter called\n"
     ]
    },
    {
     "ename": "ValueError",
     "evalue": "Radius cannot be negative or non integer",
     "output_type": "error",
     "traceback": [
      "\u001b[31m---------------------------------------------------------------------------\u001b[39m",
      "\u001b[31mValueError\u001b[39m                                Traceback (most recent call last)",
      "\u001b[36mCell\u001b[39m\u001b[36m \u001b[39m\u001b[32mIn[167]\u001b[39m\u001b[32m, line 1\u001b[39m\n\u001b[32m----> \u001b[39m\u001b[32m1\u001b[39m \u001b[43mc1\u001b[49m\u001b[43m.\u001b[49m\u001b[43mradius\u001b[49m = -\u001b[32m4\u001b[39m\n",
      "\u001b[36mCell\u001b[39m\u001b[36m \u001b[39m\u001b[32mIn[164]\u001b[39m\u001b[32m, line 17\u001b[39m, in \u001b[36mCircle.radius\u001b[39m\u001b[34m(self, radius)\u001b[39m\n\u001b[32m     15\u001b[39m \u001b[38;5;28mprint\u001b[39m(\u001b[33m\"\u001b[39m\u001b[33msetter called\u001b[39m\u001b[33m\"\u001b[39m)\n\u001b[32m     16\u001b[39m \u001b[38;5;28;01mif\u001b[39;00m \u001b[38;5;129;01mnot\u001b[39;00m \u001b[38;5;28misinstance\u001b[39m(radius, \u001b[38;5;28mint\u001b[39m) \u001b[38;5;129;01mor\u001b[39;00m radius < \u001b[32m0\u001b[39m :\n\u001b[32m---> \u001b[39m\u001b[32m17\u001b[39m     \u001b[38;5;28;01mraise\u001b[39;00m \u001b[38;5;167;01mValueError\u001b[39;00m(\u001b[33m'\u001b[39m\u001b[33mRadius cannot be negative or non integer\u001b[39m\u001b[33m'\u001b[39m)\n\u001b[32m     18\u001b[39m \u001b[38;5;28mself\u001b[39m._radius = radius\n",
      "\u001b[31mValueError\u001b[39m: Radius cannot be negative or non integer"
     ]
    }
   ],
   "source": [
    "c1.radius = -4"
   ]
  },
  {
   "cell_type": "code",
   "execution_count": 168,
   "id": "e8a4042e-4894-4767-a3c2-f40357421252",
   "metadata": {},
   "outputs": [
    {
     "name": "stdout",
     "output_type": "stream",
     "text": [
      "getter called\n"
     ]
    },
    {
     "data": {
      "text/plain": [
       "78.53981633974483"
      ]
     },
     "execution_count": 168,
     "metadata": {},
     "output_type": "execute_result"
    }
   ],
   "source": [
    "# area now is a property not a method! hence not area() (see few above cells)\n",
    "\n",
    "c1.area"
   ]
  },
  {
   "cell_type": "code",
   "execution_count": 169,
   "id": "136dfff2-d667-49f5-b188-83d53c46ded0",
   "metadata": {},
   "outputs": [
    {
     "ename": "AttributeError",
     "evalue": "property 'area' of 'Circle' object has no setter",
     "output_type": "error",
     "traceback": [
      "\u001b[31m---------------------------------------------------------------------------\u001b[39m",
      "\u001b[31mAttributeError\u001b[39m                            Traceback (most recent call last)",
      "\u001b[36mCell\u001b[39m\u001b[36m \u001b[39m\u001b[32mIn[169]\u001b[39m\u001b[32m, line 1\u001b[39m\n\u001b[32m----> \u001b[39m\u001b[32m1\u001b[39m \u001b[43mc1\u001b[49m\u001b[43m.\u001b[49m\u001b[43marea\u001b[49m = \u001b[32m34\u001b[39m\n",
      "\u001b[31mAttributeError\u001b[39m: property 'area' of 'Circle' object has no setter"
     ]
    }
   ],
   "source": [
    "c1.area = 34"
   ]
  },
  {
   "cell_type": "markdown",
   "id": "7429f38d-62ce-4493-a5c2-f31e0799b5e4",
   "metadata": {},
   "source": [
    "# i can clean up the init by removing the call to private variable"
   ]
  },
  {
   "cell_type": "code",
   "execution_count": 170,
   "id": "bcc00fdb-e9b0-48b3-bb8f-75f52212a980",
   "metadata": {},
   "outputs": [],
   "source": [
    "class Circle:\n",
    "    def __init__(self, radius):\n",
    "        print(\"init called\")\n",
    "        self.radius = radius   # now calls getter\n",
    "\n",
    "    @property\n",
    "    def radius(self):\n",
    "        print(\"getter called\")\n",
    "        return self._radius  # should return a private variable not \"radius\" else it would be inf recursion\n",
    "\n",
    "    @radius.setter\n",
    "    def radius(self, radius):\n",
    "        print(\"setter called\")\n",
    "        if not isinstance(radius, int) or radius < 0 :\n",
    "            raise ValueError('Radius cannot be negative or non integer')\n",
    "        self._radius = radius\n",
    "\n",
    "    @property\n",
    "    def area(self):\n",
    "        return math.pi * (self.radius ** 2)\n",
    "\n",
    "    def __str__(self):  # print uses this\n",
    "        return f'Circle with radius {self.radius}'\n",
    "\n",
    "    def __repr__(self): # mostly for devs, is used if str is missing\n",
    "        return f'Circle(radius={self.radius})'\n",
    "\n",
    "    def __eq__(self, other):\n",
    "        if isinstance(other, Circle):\n",
    "            return self.radius == other.radius\n",
    "        else: \n",
    "            raise NotImplementedError(f\"Equality not implemented between circle and {other.__class__}\")\n",
    "\n",
    "    def __lt__(self, other):\n",
    "        if isinstance(other, Circle):\n",
    "            return self.radius < other.radius\n",
    "        else: \n",
    "            raise NotImplementedError(f\"Comparision not implemented between circle and {other.__class__}\")"
   ]
  },
  {
   "cell_type": "code",
   "execution_count": 171,
   "id": "0be80c6a-fbc6-4185-844d-2ea4d61aa396",
   "metadata": {},
   "outputs": [
    {
     "name": "stdout",
     "output_type": "stream",
     "text": [
      "init called\n",
      "setter called\n"
     ]
    }
   ],
   "source": [
    "c1 = Circle(5)"
   ]
  },
  {
   "cell_type": "code",
   "execution_count": 172,
   "id": "65df1826-c418-4e8f-bd57-e572f7f5f430",
   "metadata": {},
   "outputs": [
    {
     "name": "stdout",
     "output_type": "stream",
     "text": [
      "getter called\n"
     ]
    },
    {
     "data": {
      "text/plain": [
       "5"
      ]
     },
     "execution_count": 172,
     "metadata": {},
     "output_type": "execute_result"
    }
   ],
   "source": [
    "c1.radius"
   ]
  },
  {
   "cell_type": "code",
   "execution_count": 173,
   "id": "6eb937a7-47f0-4156-b67c-b232470cb538",
   "metadata": {},
   "outputs": [
    {
     "name": "stdout",
     "output_type": "stream",
     "text": [
      "setter called\n"
     ]
    }
   ],
   "source": [
    "c1.radius = 10"
   ]
  },
  {
   "cell_type": "code",
   "execution_count": 174,
   "id": "5836e053-08fa-48eb-af25-7f47c3e6b724",
   "metadata": {},
   "outputs": [
    {
     "name": "stdout",
     "output_type": "stream",
     "text": [
      "getter called\n"
     ]
    },
    {
     "data": {
      "text/plain": [
       "314.1592653589793"
      ]
     },
     "execution_count": 174,
     "metadata": {},
     "output_type": "execute_result"
    }
   ],
   "source": [
    "c1.area"
   ]
  },
  {
   "cell_type": "code",
   "execution_count": 175,
   "id": "2b9499d1-f96f-46b8-aa88-e5b46a63317d",
   "metadata": {},
   "outputs": [
    {
     "ename": "AttributeError",
     "evalue": "property 'area' of 'Circle' object has no setter",
     "output_type": "error",
     "traceback": [
      "\u001b[31m---------------------------------------------------------------------------\u001b[39m",
      "\u001b[31mAttributeError\u001b[39m                            Traceback (most recent call last)",
      "\u001b[36mCell\u001b[39m\u001b[36m \u001b[39m\u001b[32mIn[175]\u001b[39m\u001b[32m, line 1\u001b[39m\n\u001b[32m----> \u001b[39m\u001b[32m1\u001b[39m \u001b[43mc1\u001b[49m\u001b[43m.\u001b[49m\u001b[43marea\u001b[49m = \u001b[32m10\u001b[39m\n",
      "\u001b[31mAttributeError\u001b[39m: property 'area' of 'Circle' object has no setter"
     ]
    }
   ],
   "source": [
    "c1.area = 10"
   ]
  },
  {
   "cell_type": "code",
   "execution_count": 176,
   "id": "81b583d1-3736-42f6-ba55-6f751fc1e418",
   "metadata": {},
   "outputs": [
    {
     "name": "stdout",
     "output_type": "stream",
     "text": [
      "setter called\n"
     ]
    },
    {
     "ename": "ValueError",
     "evalue": "Radius cannot be negative or non integer",
     "output_type": "error",
     "traceback": [
      "\u001b[31m---------------------------------------------------------------------------\u001b[39m",
      "\u001b[31mValueError\u001b[39m                                Traceback (most recent call last)",
      "\u001b[36mCell\u001b[39m\u001b[36m \u001b[39m\u001b[32mIn[176]\u001b[39m\u001b[32m, line 1\u001b[39m\n\u001b[32m----> \u001b[39m\u001b[32m1\u001b[39m \u001b[43mc1\u001b[49m\u001b[43m.\u001b[49m\u001b[43mradius\u001b[49m = \u001b[33m\"\u001b[39m\u001b[33mpi\u001b[39m\u001b[33m\"\u001b[39m\n",
      "\u001b[36mCell\u001b[39m\u001b[36m \u001b[39m\u001b[32mIn[170]\u001b[39m\u001b[32m, line 15\u001b[39m, in \u001b[36mCircle.radius\u001b[39m\u001b[34m(self, radius)\u001b[39m\n\u001b[32m     13\u001b[39m \u001b[38;5;28mprint\u001b[39m(\u001b[33m\"\u001b[39m\u001b[33msetter called\u001b[39m\u001b[33m\"\u001b[39m)\n\u001b[32m     14\u001b[39m \u001b[38;5;28;01mif\u001b[39;00m \u001b[38;5;129;01mnot\u001b[39;00m \u001b[38;5;28misinstance\u001b[39m(radius, \u001b[38;5;28mint\u001b[39m) \u001b[38;5;129;01mor\u001b[39;00m radius < \u001b[32m0\u001b[39m :\n\u001b[32m---> \u001b[39m\u001b[32m15\u001b[39m     \u001b[38;5;28;01mraise\u001b[39;00m \u001b[38;5;167;01mValueError\u001b[39;00m(\u001b[33m'\u001b[39m\u001b[33mRadius cannot be negative or non integer\u001b[39m\u001b[33m'\u001b[39m)\n\u001b[32m     16\u001b[39m \u001b[38;5;28mself\u001b[39m._radius = radius\n",
      "\u001b[31mValueError\u001b[39m: Radius cannot be negative or non integer"
     ]
    }
   ],
   "source": [
    "c1.radius = \"pi\""
   ]
  },
  {
   "cell_type": "code",
   "execution_count": null,
   "id": "151f1d30-107b-4e21-a887-a6483dbcb33f",
   "metadata": {},
   "outputs": [],
   "source": []
  }
 ],
 "metadata": {
  "kernelspec": {
   "display_name": "Python (fundamentals)",
   "language": "python",
   "name": "fundamentals"
  },
  "language_info": {
   "codemirror_mode": {
    "name": "ipython",
    "version": 3
   },
   "file_extension": ".py",
   "mimetype": "text/x-python",
   "name": "python",
   "nbconvert_exporter": "python",
   "pygments_lexer": "ipython3",
   "version": "3.13.7"
  }
 },
 "nbformat": 4,
 "nbformat_minor": 5
}
