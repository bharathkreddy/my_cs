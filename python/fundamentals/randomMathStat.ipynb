{
 "cells": [
  {
   "cell_type": "markdown",
   "id": "ac0dfe08-d94c-47f9-aeb4-2a5c72944ee0",
   "metadata": {},
   "source": [
    "# RANDOM module\n",
    "1. https://docs.python.org/3/library/random.html\n",
    "2. Pseudo random number generator.\n",
    "3. Not suitable for cryptographic/security sensitive purposes.\n",
    "4. uses PRNG algo called using random.random.\n",
    "5. seed is autoselected if not mentioned but can be overriden using random.seed(n)"
   ]
  },
  {
   "cell_type": "code",
   "execution_count": 1,
   "id": "39958e0e-7758-4455-8e88-f2db18930e3d",
   "metadata": {},
   "outputs": [],
   "source": [
    "import random"
   ]
  },
  {
   "cell_type": "code",
   "execution_count": 2,
   "id": "ef5b4809-d3f0-4070-a3c5-6666caca97b9",
   "metadata": {},
   "outputs": [
    {
     "name": "stdout",
     "output_type": "stream",
     "text": [
      "0.15749802925739198 0.6814903812105632 0.11643601520992852 0.7927245553000526 0.9371399977857956 0.24310186861839478 0.8237435911590505 0.762642957203561 0.13499241070397827 0.4036818070288468 0.9072636191995411 0.1803312538513353 0.8009667175214981 0.8416184939425314 0.5171689190164293 0.8742369677787725 0.030924415893308632 0.8442698411253011 0.2628744277313131 0.6749854167366697 0.24342185489153723 0.927112795328889 0.1527203502284996 0.8911686659768412 0.6109281350782105 0.7253284679899892 0.5772621730333757 0.30273759876899453 0.20568269184564925 0.049424023644963566 0.3347119895488174 0.611117191200811 0.4189397623576445 0.683886528987559 0.10892948637139432 0.736346762206803 0.08167629544752186 0.10281721676101963 0.4372000230836889 0.057603440279372475 0.13800629108730889 0.6635198314613936 0.4882147748586523 0.6264685831338314 0.45240680331299166 0.34614565460077673 0.7226032780295137 0.6378346447653948 0.08243290326701735 0.05816946768655418 "
     ]
    }
   ],
   "source": [
    "for _ in range(50):\n",
    "    print(random.random(), end=\" \")"
   ]
  },
  {
   "cell_type": "code",
   "execution_count": 6,
   "id": "a3847d25-4f46-4b0a-bd4b-db9ab277ddfe",
   "metadata": {},
   "outputs": [
    {
     "name": "stdout",
     "output_type": "stream",
     "text": [
      "0.6928436888560694 0.4851983104739721 0.8427760371753943 0.7154900722316461 0.8819090879713056 0.2210722358409668 0.17371735469474092 0.03984104576410363 0.3856248587058835 0.6818943329961946 0.14198792060964982 0.9622534511711754 0.9066788077760607 0.9506250628711076 0.4692860849210849 0.3528318914172779 0.04795675003193556 0.27026921851771213 0.2805577566597526 0.7061620831402198 0.4373382487358538 0.5148838479225065 0.29298676696364023 0.9569335907866879 0.2963456066200586 0.6482853618733896 0.4589283591697063 0.6960933616442034 0.8811595075133569 0.04811600952616868 0.09625794001080801 0.9310648584801191 0.38138133499963667 0.1637404244991464 0.7250436919872497 0.8800098416235356 0.45140034868606693 0.13295576530127806 0.7946267464102178 0.6414936620295439 0.8365844962237227 0.8842096500713922 0.17416885978838925 0.02795411830365735 0.8867667780705316 0.309000194673239 0.09195681225048968 0.15409829390368845 0.5689039840177545 0.7858934581431979 "
     ]
    }
   ],
   "source": [
    "for _ in range(50):\n",
    "    print(random.random(), end=\" \")"
   ]
  },
  {
   "cell_type": "code",
   "execution_count": 7,
   "id": "9451bad5-5aa6-4143-b615-f0606976bb75",
   "metadata": {},
   "outputs": [
    {
     "name": "stdout",
     "output_type": "stream",
     "text": [
      "1 4 3 4 1 1 4 3 0 4 4 0 1 3 0 4 1 4 3 0 4 2 2 3 4 0 3 2 3 0 0 0 3 2 0 0 4 3 4 2 4 2 3 0 1 4 4 0 2 0 "
     ]
    }
   ],
   "source": [
    "for _ in range(50):\n",
    "    print(random.randrange(5), end=\" \")"
   ]
  },
  {
   "cell_type": "code",
   "execution_count": 8,
   "id": "642a0e76-b572-47d0-8dfc-7de3e8d0a9a8",
   "metadata": {},
   "outputs": [
    {
     "name": "stdout",
     "output_type": "stream",
     "text": [
      "3 3 1 9 1 3 7 7 5 1 7 5 1 9 5 3 3 3 3 5 1 5 3 1 7 5 5 5 3 1 3 7 3 7 5 3 1 3 3 5 9 9 3 5 9 5 7 9 5 7 "
     ]
    }
   ],
   "source": [
    "for _ in range(50):\n",
    "    print(random.randrange(1, 10, 2), end=\" \")"
   ]
  },
  {
   "cell_type": "code",
   "execution_count": 9,
   "id": "21525cf7-ac84-4f13-bdef-46cf85566257",
   "metadata": {},
   "outputs": [],
   "source": [
    "random.seed(42)"
   ]
  },
  {
   "cell_type": "code",
   "execution_count": 10,
   "id": "533a91e0-23a2-4cf4-a4a1-7380c8260a63",
   "metadata": {},
   "outputs": [
    {
     "name": "stdout",
     "output_type": "stream",
     "text": [
      "0.6394267984578837 0.025010755222666936 0.27502931836911926 0.22321073814882275 0.7364712141640124 0.6766994874229113 0.8921795677048454 0.08693883262941615 0.4219218196852704 0.029797219438070344 0.21863797480360336 0.5053552881033624 0.026535969683863625 0.1988376506866485 0.6498844377795232 0.5449414806032167 0.2204406220406967 0.5892656838759087 0.8094304566778266 0.006498759678061017 0.8058192518328079 0.6981393949882269 0.3402505165179919 0.15547949981178155 0.9572130722067812 0.33659454511262676 0.09274584338014791 0.09671637683346401 0.8474943663474598 0.6037260313668911 0.8071282732743802 0.7297317866938179 0.5362280914547007 0.9731157639793706 0.3785343772083535 0.552040631273227 0.8294046642529949 0.6185197523642461 0.8617069003107772 0.577352145256762 0.7045718362149235 0.045824383655662215 0.22789827565154686 0.28938796360210717 0.0797919769236275 0.23279088636103018 0.10100142940972912 0.2779736031100921 0.6356844442644002 0.36483217897008424 "
     ]
    }
   ],
   "source": [
    "for _ in range(50):\n",
    "    print(random.random(), end=\" \")"
   ]
  },
  {
   "cell_type": "code",
   "execution_count": 12,
   "id": "17a85d3a-2575-431b-a30c-9518a3e300d3",
   "metadata": {},
   "outputs": [
    {
     "name": "stdout",
     "output_type": "stream",
     "text": [
      "0.6394267984578837 0.025010755222666936 0.27502931836911926 0.22321073814882275 0.7364712141640124 0.6766994874229113 0.8921795677048454 0.08693883262941615 0.4219218196852704 0.029797219438070344 0.21863797480360336 0.5053552881033624 0.026535969683863625 0.1988376506866485 0.6498844377795232 0.5449414806032167 0.2204406220406967 0.5892656838759087 0.8094304566778266 0.006498759678061017 0.8058192518328079 0.6981393949882269 0.3402505165179919 0.15547949981178155 0.9572130722067812 0.33659454511262676 0.09274584338014791 0.09671637683346401 0.8474943663474598 0.6037260313668911 0.8071282732743802 0.7297317866938179 0.5362280914547007 0.9731157639793706 0.3785343772083535 0.552040631273227 0.8294046642529949 0.6185197523642461 0.8617069003107772 0.577352145256762 0.7045718362149235 0.045824383655662215 0.22789827565154686 0.28938796360210717 0.0797919769236275 0.23279088636103018 0.10100142940972912 0.2779736031100921 0.6356844442644002 0.36483217897008424 "
     ]
    }
   ],
   "source": [
    "random.seed(42)  # need to do it again as above cell would have moved the PRNG state ahead to 51st no\n",
    "\n",
    "for _ in range(50):\n",
    "    print(random.random(), end=\" \")"
   ]
  },
  {
   "cell_type": "code",
   "execution_count": 13,
   "id": "e2ab3898-f442-4024-be12-2f4ec5147c85",
   "metadata": {},
   "outputs": [
    {
     "name": "stdout",
     "output_type": "stream",
     "text": [
      "6 1 1 6 3 2 2 2 6 1 6 6 5 1 5 4 1 1 1 2 2 5 5 1 5 2 6 6 6 5 4 2 4 5 3 1 2 6 4 3 3 2 2 3 1 1 4 1 3 3 "
     ]
    }
   ],
   "source": [
    "random.seed(42)\n",
    "\n",
    "for _ in range(50):\n",
    "    print(random.randint(1, 6), end=\" \")"
   ]
  },
  {
   "cell_type": "code",
   "execution_count": 14,
   "id": "07328ded-867e-45de-9282-52b737b56e9d",
   "metadata": {},
   "outputs": [
    {
     "name": "stdout",
     "output_type": "stream",
     "text": [
      "6 1 1 6 3 2 2 2 6 1 6 6 5 1 5 4 1 1 1 2 2 5 5 1 5 2 6 6 6 5 4 2 4 5 3 1 2 6 4 3 3 2 2 3 1 1 4 1 3 3 "
     ]
    }
   ],
   "source": [
    "random.seed(42)\n",
    "\n",
    "for _ in range(50):\n",
    "    print(random.randint(1, 6), end=\" \")"
   ]
  },
  {
   "cell_type": "markdown",
   "id": "5297e299-cea2-4b38-928f-226c9cc9a561",
   "metadata": {},
   "source": [
    "# shuffling: `in-place` shuffle of items in a `mutable` sequence"
   ]
  },
  {
   "cell_type": "code",
   "execution_count": 16,
   "id": "176efe9c-def9-458d-af22-e48aaa9444e8",
   "metadata": {},
   "outputs": [
    {
     "data": {
      "text/plain": [
       "[3, 4, 2, 1, 5]"
      ]
     },
     "execution_count": 16,
     "metadata": {},
     "output_type": "execute_result"
    }
   ],
   "source": [
    "data = [1, 2, 3, 4, 5]\n",
    "random.shuffle(data)\n",
    "\n",
    "data"
   ]
  },
  {
   "cell_type": "code",
   "execution_count": 17,
   "id": "cb3fd62b-9fd6-41c8-a82d-921516eff176",
   "metadata": {},
   "outputs": [
    {
     "data": {
      "text/plain": [
       "[1, 2, 4, 3, 5]"
      ]
     },
     "execution_count": 17,
     "metadata": {},
     "output_type": "execute_result"
    }
   ],
   "source": [
    "data = [1, 2, 3, 4, 5]\n",
    "random.shuffle(data)\n",
    "\n",
    "data"
   ]
  },
  {
   "cell_type": "code",
   "execution_count": 18,
   "id": "b284ea45-7333-487e-b1de-3f051b668dc5",
   "metadata": {},
   "outputs": [
    {
     "data": {
      "text/plain": [
       "[4, 2, 3, 5, 1]"
      ]
     },
     "execution_count": 18,
     "metadata": {},
     "output_type": "execute_result"
    }
   ],
   "source": [
    "random.seed(42)\n",
    "data = [1, 2, 3, 4, 5]\n",
    "random.shuffle(data)\n",
    "\n",
    "data"
   ]
  },
  {
   "cell_type": "code",
   "execution_count": 19,
   "id": "ecfd22bc-09ac-410b-bc77-97eca75d15b7",
   "metadata": {},
   "outputs": [
    {
     "data": {
      "text/plain": [
       "[4, 2, 3, 5, 1]"
      ]
     },
     "execution_count": 19,
     "metadata": {},
     "output_type": "execute_result"
    }
   ],
   "source": [
    "random.seed(42)\n",
    "data = [1, 2, 3, 4, 5]\n",
    "random.shuffle(data)\n",
    "\n",
    "data"
   ]
  },
  {
   "cell_type": "markdown",
   "id": "3314a2e4-b707-42d6-aa8d-a8c2c5b8371d",
   "metadata": {},
   "source": [
    "# Choice(s) : is with replacement"
   ]
  },
  {
   "cell_type": "code",
   "execution_count": 23,
   "id": "6db843ba-2ac7-493b-aea9-da3f3286af69",
   "metadata": {},
   "outputs": [
    {
     "name": "stdout",
     "output_type": "stream",
     "text": [
      "2 - 4 - 5 - 3 - 1 - 2 - 4 - 3 - 3 - 2 - "
     ]
    }
   ],
   "source": [
    "data = [1, 2, 3, 4, 5]\n",
    "for _ in range(10):\n",
    "    print(random.choice(data), end=\" - \")"
   ]
  },
  {
   "cell_type": "code",
   "execution_count": 29,
   "id": "a065a5ab-ab4b-438b-9ed5-2782f5d78ea8",
   "metadata": {},
   "outputs": [
    {
     "name": "stdout",
     "output_type": "stream",
     "text": [
      "[2, 4, 1] - [2, 2, 2] - [2, 1, 3] - [1, 5, 1] - [2, 4, 5] - [2, 1, 1] - [4, 4, 5] - [5, 5, 2] - [3, 5, 1] - [2, 4, 4] - "
     ]
    }
   ],
   "source": [
    "data = [1, 2, 3, 4, 5]\n",
    "for _ in range(10):\n",
    "    print(random.choices(data, k=3), end=\" - \")"
   ]
  },
  {
   "cell_type": "code",
   "execution_count": 32,
   "id": "addc9f20-0f1c-450e-be9d-991a037e3f11",
   "metadata": {},
   "outputs": [
    {
     "name": "stdout",
     "output_type": "stream",
     "text": [
      "[1, 4, 5, 1, 1, 3, 1]\n",
      "[1, 3, 5, 1, 5, 5, 1]\n",
      "[4, 3, 1, 1, 4, 2, 3]\n",
      "[3, 5, 5, 1, 1, 2, 5]\n",
      "[4, 2, 4, 4, 4, 4, 3]\n",
      "[1, 2, 1, 4, 1, 2, 1]\n",
      "[3, 5, 3, 1, 3, 5, 1]\n",
      "[1, 5, 3, 5, 3, 3, 1]\n",
      "[1, 4, 3, 2, 2, 4, 2]\n",
      "[2, 1, 4, 3, 5, 5, 1]\n"
     ]
    }
   ],
   "source": [
    "data = [1, 2, 3, 4, 5]\n",
    "for _ in range(10):\n",
    "    print(random.choices(data, k=7)) # can be more than actual elements as its with replacement"
   ]
  },
  {
   "cell_type": "markdown",
   "id": "46102fa1-7009-442a-990c-becf89ce106b",
   "metadata": {},
   "source": [
    "# Sampling is without replacement"
   ]
  },
  {
   "cell_type": "code",
   "execution_count": 34,
   "id": "3a7b2eb5-09ca-40ac-93b9-855b3348a3ee",
   "metadata": {},
   "outputs": [
    {
     "data": {
      "text/plain": [
       "['blue', 'blue', 'red', 'red', 'red']"
      ]
     },
     "execution_count": 34,
     "metadata": {},
     "output_type": "execute_result"
    }
   ],
   "source": [
    "# same as sample(['red', 'red', 'red', 'red', 'blue', 'blue'], k=5)\n",
    "random.sample(['red', 'blue'], counts=[4, 2], k=5) "
   ]
  },
  {
   "cell_type": "code",
   "execution_count": 35,
   "id": "9f9c39fc-dcb0-4700-b21e-be6ac1674a81",
   "metadata": {},
   "outputs": [
    {
     "data": {
      "text/plain": [
       "['black', 'green', 'blue', 'gold', 'red']"
      ]
     },
     "execution_count": 35,
     "metadata": {},
     "output_type": "execute_result"
    }
   ],
   "source": [
    "random.sample(['red', 'blue', 'green', 'yellow', 'black', 'gold', 'silver'], k=5) "
   ]
  },
  {
   "cell_type": "markdown",
   "id": "8726fb68-78fb-48e0-a671-d15e2e5a842d",
   "metadata": {},
   "source": [
    "# Math Module"
   ]
  },
  {
   "cell_type": "code",
   "execution_count": 1,
   "id": "c832f0fd-2e6c-45a0-8a62-1e150eb68434",
   "metadata": {},
   "outputs": [],
   "source": [
    "import math"
   ]
  },
  {
   "cell_type": "code",
   "execution_count": 2,
   "id": "80d89a12-6d2b-46e2-9954-90128bd35653",
   "metadata": {},
   "outputs": [
    {
     "data": {
      "text/plain": [
       "2.23606797749979"
      ]
     },
     "execution_count": 2,
     "metadata": {},
     "output_type": "execute_result"
    }
   ],
   "source": [
    "math.sqrt(5)"
   ]
  },
  {
   "cell_type": "code",
   "execution_count": 3,
   "id": "accc3b62-da61-4ece-86ae-5e7ebfb4b1eb",
   "metadata": {},
   "outputs": [
    {
     "data": {
      "text/plain": [
       "-1.0"
      ]
     },
     "execution_count": 3,
     "metadata": {},
     "output_type": "execute_result"
    }
   ],
   "source": [
    "math.cos(math.pi)"
   ]
  },
  {
   "cell_type": "code",
   "execution_count": 14,
   "id": "3a193c5c-aaaf-4b0d-9eee-436798bf1de9",
   "metadata": {},
   "outputs": [
    {
     "data": {
      "text/plain": [
       "'1.1000000000000000888178419700125232338905'"
      ]
     },
     "execution_count": 14,
     "metadata": {},
     "output_type": "execute_result"
    }
   ],
   "source": [
    "format(sum([0.11, 0.11, 0.11, 0.11, 0.11, 0.11, 0.11, 0.11, 0.11, 0.11]), '.40f')"
   ]
  },
  {
   "cell_type": "code",
   "execution_count": 16,
   "id": "20538188-a738-469c-bb57-73426da1d4dd",
   "metadata": {},
   "outputs": [
    {
     "data": {
      "text/plain": [
       "'1.1000000000000000888178419700125232338905'"
      ]
     },
     "execution_count": 16,
     "metadata": {},
     "output_type": "execute_result"
    }
   ],
   "source": [
    "format(math.fsum([0.11, 0.11, 0.11, 0.11, 0.11, 0.11, 0.11, 0.11, 0.11, 0.11]), '.40f')"
   ]
  },
  {
   "cell_type": "code",
   "execution_count": 17,
   "id": "02863c0a-f3bb-4f24-ad2b-9dd912deef6c",
   "metadata": {},
   "outputs": [
    {
     "data": {
      "text/plain": [
       "24"
      ]
     },
     "execution_count": 17,
     "metadata": {},
     "output_type": "execute_result"
    }
   ],
   "source": [
    "math.prod([1, 2, 3, 4])"
   ]
  },
  {
   "cell_type": "code",
   "execution_count": 18,
   "id": "0a77b231-ddce-4bd5-a7f3-971a71f9b7db",
   "metadata": {},
   "outputs": [
    {
     "data": {
      "text/plain": [
       "240"
      ]
     },
     "execution_count": 18,
     "metadata": {},
     "output_type": "execute_result"
    }
   ],
   "source": [
    "math.prod([1, 2, 3, 4], start=10)"
   ]
  },
  {
   "cell_type": "markdown",
   "id": "0c35f653-0609-4b9a-84fa-19b8a279653b",
   "metadata": {},
   "source": [
    "# Statistics module"
   ]
  },
  {
   "cell_type": "code",
   "execution_count": 21,
   "id": "a033c1ba-dc62-4309-bf34-98694f421f40",
   "metadata": {},
   "outputs": [],
   "source": [
    "import statistics as stats"
   ]
  },
  {
   "cell_type": "code",
   "execution_count": 19,
   "id": "e0b79a1c-8de4-4ee2-ae66-2660a2792252",
   "metadata": {},
   "outputs": [],
   "source": [
    "data = [1,1, 2, 3, 4, 5, 6, 6]"
   ]
  },
  {
   "cell_type": "code",
   "execution_count": 22,
   "id": "021f8958-bbc4-48d6-92f1-88d6316a6e99",
   "metadata": {},
   "outputs": [
    {
     "data": {
      "text/plain": [
       "3.5"
      ]
     },
     "execution_count": 22,
     "metadata": {},
     "output_type": "execute_result"
    }
   ],
   "source": [
    "stats.mean(data)"
   ]
  },
  {
   "cell_type": "code",
   "execution_count": 23,
   "id": "9ed721ce-08b1-48bb-aada-2ced65a1f8e7",
   "metadata": {},
   "outputs": [
    {
     "data": {
      "text/plain": [
       "1"
      ]
     },
     "execution_count": 23,
     "metadata": {},
     "output_type": "execute_result"
    }
   ],
   "source": [
    "stats.mode(data)"
   ]
  },
  {
   "cell_type": "code",
   "execution_count": 24,
   "id": "bd92c032-8fa1-4663-b739-fb41b571f6b0",
   "metadata": {},
   "outputs": [
    {
     "data": {
      "text/plain": [
       "[1, 6]"
      ]
     },
     "execution_count": 24,
     "metadata": {},
     "output_type": "execute_result"
    }
   ],
   "source": [
    "stats.multimode(data)"
   ]
  },
  {
   "cell_type": "code",
   "execution_count": 25,
   "id": "add40472-0c78-4c7b-91ca-b36a2e944519",
   "metadata": {},
   "outputs": [
    {
     "data": {
      "text/plain": [
       "3.5"
      ]
     },
     "execution_count": 25,
     "metadata": {},
     "output_type": "execute_result"
    }
   ],
   "source": [
    "stats.median(data)"
   ]
  },
  {
   "cell_type": "code",
   "execution_count": 29,
   "id": "22c7f19c-235a-4c5a-813e-eb96fc58b1b6",
   "metadata": {},
   "outputs": [
    {
     "data": {
      "text/plain": [
       "['Counter',\n",
       " 'Decimal',\n",
       " 'Fraction',\n",
       " 'LinearRegression',\n",
       " 'NormalDist',\n",
       " 'StatisticsError',\n",
       " 'acos',\n",
       " 'asin',\n",
       " 'atan',\n",
       " 'bisect_left',\n",
       " 'bisect_right',\n",
       " 'correlation',\n",
       " 'cos',\n",
       " 'cosh',\n",
       " 'count',\n",
       " 'covariance',\n",
       " 'defaultdict',\n",
       " 'erf',\n",
       " 'exp',\n",
       " 'fabs',\n",
       " 'fmean',\n",
       " 'fsum',\n",
       " 'geometric_mean',\n",
       " 'groupby',\n",
       " 'harmonic_mean',\n",
       " 'hypot',\n",
       " 'isfinite',\n",
       " 'isinf',\n",
       " 'itemgetter',\n",
       " 'kde',\n",
       " 'kde_random',\n",
       " 'linear_regression',\n",
       " 'log',\n",
       " 'math',\n",
       " 'mean',\n",
       " 'median',\n",
       " 'median_grouped',\n",
       " 'median_high',\n",
       " 'median_low',\n",
       " 'mode',\n",
       " 'multimode',\n",
       " 'namedtuple',\n",
       " 'numbers',\n",
       " 'pi',\n",
       " 'pstdev',\n",
       " 'pvariance',\n",
       " 'quantiles',\n",
       " 'random',\n",
       " 'reduce',\n",
       " 'repeat',\n",
       " 'sin',\n",
       " 'sqrt',\n",
       " 'stdev',\n",
       " 'sumprod',\n",
       " 'sys',\n",
       " 'tan',\n",
       " 'tau',\n",
       " 'variance']"
      ]
     },
     "execution_count": 29,
     "metadata": {},
     "output_type": "execute_result"
    }
   ],
   "source": [
    "[ el for el in dir(stats) if not el.startswith(\"_\")]"
   ]
  },
  {
   "cell_type": "code",
   "execution_count": 30,
   "id": "8e542af2-a3ba-401f-b3d0-6f1769567f43",
   "metadata": {},
   "outputs": [
    {
     "data": {
      "text/plain": [
       "(1.9364916731037085, 3.75)"
      ]
     },
     "execution_count": 30,
     "metadata": {},
     "output_type": "execute_result"
    }
   ],
   "source": [
    "stats.pstdev(data), stats.pvariance(data)"
   ]
  },
  {
   "cell_type": "code",
   "execution_count": 31,
   "id": "64df2571-dd6a-4baf-8670-6a9c0262e26a",
   "metadata": {},
   "outputs": [
    {
     "data": {
      "text/plain": [
       "(2.0701966780270626, 4.285714285714286)"
      ]
     },
     "execution_count": 31,
     "metadata": {},
     "output_type": "execute_result"
    }
   ],
   "source": [
    "stats.stdev(data), stats.variance(data)"
   ]
  },
  {
   "cell_type": "code",
   "execution_count": 32,
   "id": "f2946d21-b525-49e1-ab42-a4e10b6b75bb",
   "metadata": {},
   "outputs": [
    {
     "data": {
      "text/plain": [
       "[1.25, 3.5, 5.75]"
      ]
     },
     "execution_count": 32,
     "metadata": {},
     "output_type": "execute_result"
    }
   ],
   "source": [
    "stats.quantiles(data, n=4)"
   ]
  },
  {
   "cell_type": "code",
   "execution_count": 33,
   "id": "dbe5f35d-5cea-432b-8b3c-d1041d8ea07b",
   "metadata": {},
   "outputs": [
    {
     "data": {
      "text/plain": [
       "[1.75, 3.5, 5.25]"
      ]
     },
     "execution_count": 33,
     "metadata": {},
     "output_type": "execute_result"
    }
   ],
   "source": [
    "stats.quantiles(data, n=4, method='inclusive')"
   ]
  },
  {
   "cell_type": "code",
   "execution_count": 35,
   "id": "1bcef29b-5db7-4b54-a29b-4daf715c557f",
   "metadata": {},
   "outputs": [
    {
     "data": {
      "text/plain": [
       "(0.0, 0.0, 1.0, 1.0)"
      ]
     },
     "execution_count": 35,
     "metadata": {},
     "output_type": "execute_result"
    }
   ],
   "source": [
    "d1 = stats.NormalDist(0, 1)\n",
    "d1.mean, d1.median, d1.stdev, d1.variance"
   ]
  },
  {
   "cell_type": "code",
   "execution_count": 37,
   "id": "e00b8040-361f-40b9-acba-92c2dbf58aae",
   "metadata": {},
   "outputs": [
    {
     "data": {
      "text/plain": [
       "(1.0, 1.0, 2.0, 4.0)"
      ]
     },
     "execution_count": 37,
     "metadata": {},
     "output_type": "execute_result"
    }
   ],
   "source": [
    "d2 = 2 * d1 + 1\n",
    "d2.mean, d2.median, d2.stdev, d2.variance"
   ]
  },
  {
   "cell_type": "code",
   "execution_count": 39,
   "id": "a5eb8f6e-ef21-4464-9c07-e30e133db082",
   "metadata": {},
   "outputs": [
    {
     "data": {
      "text/plain": [
       "0.6099343398789443"
      ]
     },
     "execution_count": 39,
     "metadata": {},
     "output_type": "execute_result"
    }
   ],
   "source": [
    "# area under overlap\n",
    "d2.overlap(d1)"
   ]
  },
  {
   "cell_type": "code",
   "execution_count": 40,
   "id": "d4b95fbe-4e29-40fc-a25d-755c093ff491",
   "metadata": {},
   "outputs": [
    {
     "data": {
      "text/plain": [
       "[-0.6744897501960817, 0.0, 0.6744897501960817]"
      ]
     },
     "execution_count": 40,
     "metadata": {},
     "output_type": "execute_result"
    }
   ],
   "source": [
    "d1.quantiles(4)"
   ]
  },
  {
   "cell_type": "code",
   "execution_count": 41,
   "id": "796cf5cf-2559-4649-846e-99aadfb8be84",
   "metadata": {},
   "outputs": [
    {
     "data": {
      "text/plain": [
       "(NormalDist(mu=0.0, sigma=1.0), NormalDist(mu=1.0, sigma=2.0))"
      ]
     },
     "execution_count": 41,
     "metadata": {},
     "output_type": "execute_result"
    }
   ],
   "source": [
    "d1, d2"
   ]
  },
  {
   "cell_type": "code",
   "execution_count": 42,
   "id": "baa43568-a75c-48ff-a1e2-49548650dc9e",
   "metadata": {},
   "outputs": [
    {
     "data": {
      "text/plain": [
       "NormalDist(mu=1.0, sigma=2.23606797749979)"
      ]
     },
     "execution_count": 42,
     "metadata": {},
     "output_type": "execute_result"
    }
   ],
   "source": [
    "d1 + d2"
   ]
  },
  {
   "cell_type": "code",
   "execution_count": 43,
   "id": "a90e64a2-a3b6-4881-b1d1-95f610c60fcd",
   "metadata": {},
   "outputs": [
    {
     "data": {
      "text/plain": [
       "[-0.12536245749854671,\n",
       " 2.6066818747961924,\n",
       " 0.734956918371173,\n",
       " -0.3576458309728661,\n",
       " 0.4831615169696402,\n",
       " -0.25079989539044134,\n",
       " 0.4990587683065241,\n",
       " -0.8975904085958685,\n",
       " 0.5916327760491796,\n",
       " -1.1515016192109202]"
      ]
     },
     "execution_count": 43,
     "metadata": {},
     "output_type": "execute_result"
    }
   ],
   "source": [
    "d1.samples(n=10)"
   ]
  },
  {
   "cell_type": "markdown",
   "id": "e810790a-a24f-49cd-b051-6f96828344d1",
   "metadata": {},
   "source": [
    "# DECIMAL module\n",
    "- floats do not have exact representation and often with transforming this data there is slight loss of precision, rounding error compound\n",
    "- for high precision use decimal module"
   ]
  },
  {
   "cell_type": "code",
   "execution_count": 46,
   "id": "a7a3f9e0-8573-4f2d-812a-51386058eb69",
   "metadata": {},
   "outputs": [
    {
     "data": {
      "text/plain": [
       "'0.333333333333333314829616256247'"
      ]
     },
     "execution_count": 46,
     "metadata": {},
     "output_type": "execute_result"
    }
   ],
   "source": [
    "format(1/3, '.30f')"
   ]
  },
  {
   "cell_type": "code",
   "execution_count": 47,
   "id": "31b72211-d7b4-477c-bb0b-054a0f8c20f8",
   "metadata": {},
   "outputs": [
    {
     "data": {
      "text/plain": [
       "False"
      ]
     },
     "execution_count": 47,
     "metadata": {},
     "output_type": "execute_result"
    }
   ],
   "source": [
    "0.1 + 0.1 + 0.1 == 0.3"
   ]
  },
  {
   "cell_type": "code",
   "execution_count": 48,
   "id": "1521cc42-385e-42aa-9b8d-19f47d15d11d",
   "metadata": {},
   "outputs": [],
   "source": [
    "import decimal"
   ]
  },
  {
   "cell_type": "code",
   "execution_count": 50,
   "id": "ec4b632a-ef74-4582-b165-b30e6591b468",
   "metadata": {},
   "outputs": [
    {
     "data": {
      "text/plain": [
       "True"
      ]
     },
     "execution_count": 50,
     "metadata": {},
     "output_type": "execute_result"
    }
   ],
   "source": [
    "decimal.Decimal('0.1') + decimal.Decimal('0.1') + decimal.Decimal('0.1') == decimal.Decimal('0.3')"
   ]
  },
  {
   "cell_type": "code",
   "execution_count": 51,
   "id": "9cc5d39d-4c8a-48a2-90da-0fe909034849",
   "metadata": {},
   "outputs": [
    {
     "data": {
      "text/plain": [
       "Decimal('0.1000000000000000055511151231257827021181583404541015625')"
      ]
     },
     "execution_count": 51,
     "metadata": {},
     "output_type": "execute_result"
    }
   ],
   "source": [
    "decimal.Decimal(0.1)"
   ]
  },
  {
   "cell_type": "markdown",
   "id": "99347099-f407-4455-8f48-3936ed86f5c7",
   "metadata": {},
   "source": [
    "### this happens because 0.1 in float is already exact hence we should "
   ]
  },
  {
   "cell_type": "code",
   "execution_count": 52,
   "id": "e3282a94-4c89-41e3-94ce-c69abd1692fe",
   "metadata": {},
   "outputs": [
    {
     "data": {
      "text/plain": [
       "Decimal('0.1')"
      ]
     },
     "execution_count": 52,
     "metadata": {},
     "output_type": "execute_result"
    }
   ],
   "source": [
    "decimal.Decimal('0.1')"
   ]
  },
  {
   "cell_type": "code",
   "execution_count": 54,
   "id": "a92f3c26-ab12-4600-b3df-2c759621a72b",
   "metadata": {},
   "outputs": [
    {
     "data": {
      "text/plain": [
       "'0.333333333333333333333333333300'"
      ]
     },
     "execution_count": 54,
     "metadata": {},
     "output_type": "execute_result"
    }
   ],
   "source": [
    "format(decimal.Decimal('1')/decimal.Decimal('3'), '.30f')"
   ]
  },
  {
   "cell_type": "code",
   "execution_count": null,
   "id": "895c6d28-607f-46e6-8548-47a0d8b63dcf",
   "metadata": {},
   "outputs": [],
   "source": []
  }
 ],
 "metadata": {
  "kernelspec": {
   "display_name": "Python (fundamentals)",
   "language": "python",
   "name": "fundamentals"
  },
  "language_info": {
   "codemirror_mode": {
    "name": "ipython",
    "version": 3
   },
   "file_extension": ".py",
   "mimetype": "text/x-python",
   "name": "python",
   "nbconvert_exporter": "python",
   "pygments_lexer": "ipython3",
   "version": "3.13.7"
  }
 },
 "nbformat": 4,
 "nbformat_minor": 5
}
