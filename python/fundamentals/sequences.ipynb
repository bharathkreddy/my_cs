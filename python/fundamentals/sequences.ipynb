{
 "cells": [
  {
   "cell_type": "markdown",
   "id": "684aaaf9-7ee1-492a-ac20-361b4b9f8b36",
   "metadata": {},
   "source": [
    "# Sequences\n",
    "- at most, an immutable sequence type should support two things.\n",
    "    1. return the length of the sequence.\n",
    "    2. given an index, returning the element at that index."
   ]
  },
  {
   "cell_type": "code",
   "execution_count": 3,
   "id": "42d80359-694b-4c73-9370-21cff5a6a590",
   "metadata": {},
   "outputs": [
    {
     "data": {
      "text/plain": [
       "2"
      ]
     },
     "execution_count": 3,
     "metadata": {},
     "output_type": "execute_result"
    }
   ],
   "source": [
    "[1, 2, 3].__getitem__(1)"
   ]
  },
  {
   "cell_type": "code",
   "execution_count": 4,
   "id": "f76d087b-f56e-4976-814a-f3a7ed603630",
   "metadata": {},
   "outputs": [
    {
     "ename": "IndexError",
     "evalue": "list index out of range",
     "output_type": "error",
     "traceback": [
      "\u001b[31m---------------------------------------------------------------------------\u001b[39m",
      "\u001b[31mIndexError\u001b[39m                                Traceback (most recent call last)",
      "\u001b[36mCell\u001b[39m\u001b[36m \u001b[39m\u001b[32mIn[4]\u001b[39m\u001b[32m, line 1\u001b[39m\n\u001b[32m----> \u001b[39m\u001b[32m1\u001b[39m \u001b[43m[\u001b[49m\u001b[32;43m1\u001b[39;49m\u001b[43m,\u001b[49m\u001b[43m \u001b[49m\u001b[32;43m2\u001b[39;49m\u001b[43m,\u001b[49m\u001b[43m \u001b[49m\u001b[32;43m3\u001b[39;49m\u001b[43m]\u001b[49m\u001b[43m.\u001b[49m\u001b[34;43m__getitem__\u001b[39;49m\u001b[43m(\u001b[49m\u001b[32;43m3\u001b[39;49m\u001b[43m)\u001b[49m\n",
      "\u001b[31mIndexError\u001b[39m: list index out of range"
     ]
    }
   ],
   "source": [
    "[1, 2, 3].__getitem__(3)"
   ]
  },
  {
   "cell_type": "markdown",
   "id": "a1ddb29e-72dc-453d-93c1-1c3ac8f3c3ad",
   "metadata": {},
   "source": [
    "## lets implement our own __getitem__"
   ]
  },
  {
   "cell_type": "code",
   "execution_count": 5,
   "id": "90fa81d4-3b3d-4ed8-b96f-229a6dd8db26",
   "metadata": {},
   "outputs": [],
   "source": [
    "def fib(n):\n",
    "    if n < 2:\n",
    "        return 1\n",
    "    else:\n",
    "        return fib(n-1) + fib(n-2)"
   ]
  },
  {
   "cell_type": "code",
   "execution_count": 7,
   "id": "55c212c9-8c44-43c0-9f51-f713bd969011",
   "metadata": {},
   "outputs": [
    {
     "name": "stdout",
     "output_type": "stream",
     "text": [
      "14930352\n",
      "Elapsed: 2.1503845839979476s\n"
     ]
    }
   ],
   "source": [
    "from time import perf_counter\n",
    "\n",
    "start = perf_counter()\n",
    "print(fib(35))\n",
    "print(f'Elapsed: {perf_counter() - start}s') "
   ]
  },
  {
   "cell_type": "code",
   "execution_count": 9,
   "id": "17f75304-ef5b-4c1b-b479-6fd6afe36ba8",
   "metadata": {},
   "outputs": [
    {
     "name": "stdout",
     "output_type": "stream",
     "text": [
      "10119911756749018713965376799211044556615579094364594923736162239653346274\n",
      "Elapsed: 0.00042183299956377596s\n"
     ]
    }
   ],
   "source": [
    "from functools import lru_cache\n",
    "\n",
    "@lru_cache\n",
    "def fib(n):\n",
    "    if n < 2:\n",
    "        return 1\n",
    "    else:\n",
    "        return fib(n-1) + fib(n-2)\n",
    "\n",
    "start = perf_counter()\n",
    "print(fib(350))\n",
    "print(f'Elapsed: {perf_counter() - start}s') "
   ]
  },
  {
   "cell_type": "code",
   "execution_count": 42,
   "id": "3645b262-4195-41fe-a2f6-25b857229146",
   "metadata": {},
   "outputs": [],
   "source": [
    "class Fib:\n",
    "    def __init__(self, n):\n",
    "        self.n = n\n",
    "\n",
    "    def __len__(self):\n",
    "        return self.n\n",
    "\n",
    "    def __getitem__(self, s):\n",
    "        if isinstance(s, int):\n",
    "            if s < 0 or s > self.n:\n",
    "                raise IndexError\n",
    "            else:\n",
    "                return Fib._fib(s)\n",
    "\n",
    "    @staticmethod\n",
    "    @lru_cache\n",
    "    def _fib(n):\n",
    "        if n < 2:\n",
    "            return 1\n",
    "        else:\n",
    "            return Fib._fib(n-1) + Fib._fib(n-2)\n"
   ]
  },
  {
   "cell_type": "code",
   "execution_count": 43,
   "id": "31460a16-c131-4d21-8d55-bd0e042c69ac",
   "metadata": {},
   "outputs": [],
   "source": [
    "f = Fib(10)"
   ]
  },
  {
   "cell_type": "markdown",
   "id": "7fe495be-6689-4abf-acef-8d1547570e4e",
   "metadata": {},
   "source": [
    "### now we can iterate over f in any method we want"
   ]
  },
  {
   "cell_type": "code",
   "execution_count": 44,
   "id": "5d3be919-94af-49f5-b102-397863ea6988",
   "metadata": {},
   "outputs": [
    {
     "data": {
      "text/plain": [
       "8"
      ]
     },
     "execution_count": 44,
     "metadata": {},
     "output_type": "execute_result"
    }
   ],
   "source": [
    "f.__getitem__(5)"
   ]
  },
  {
   "cell_type": "code",
   "execution_count": 45,
   "id": "4a07362e-ac39-47ed-a050-c984d4d27076",
   "metadata": {},
   "outputs": [
    {
     "data": {
      "text/plain": [
       "[1, 1, 2, 3, 5, 8, 13, 21, 34, 55, 89]"
      ]
     },
     "execution_count": 45,
     "metadata": {},
     "output_type": "execute_result"
    }
   ],
   "source": [
    "list(f)"
   ]
  },
  {
   "cell_type": "code",
   "execution_count": 46,
   "id": "46c57a8f-e2a7-49cb-b186-768432cf2d8d",
   "metadata": {},
   "outputs": [
    {
     "name": "stdout",
     "output_type": "stream",
     "text": [
      "1\n",
      "1\n",
      "2\n",
      "3\n",
      "5\n",
      "8\n",
      "13\n",
      "21\n",
      "34\n",
      "55\n",
      "89\n"
     ]
    }
   ],
   "source": [
    "index = 0\n",
    "while True:\n",
    "    try:\n",
    "        print(f.__getitem__(index))\n",
    "    except IndexError:\n",
    "        break\n",
    "    index+=1\n",
    "    "
   ]
  },
  {
   "cell_type": "code",
   "execution_count": 47,
   "id": "0f8ac903-0b26-4faa-b38b-df02c71b635d",
   "metadata": {},
   "outputs": [
    {
     "name": "stdout",
     "output_type": "stream",
     "text": [
      "1\n",
      "1\n",
      "2\n",
      "3\n",
      "5\n",
      "8\n",
      "13\n",
      "21\n",
      "34\n",
      "55\n",
      "89\n"
     ]
    }
   ],
   "source": [
    "for item in f:\n",
    "    print(item)"
   ]
  },
  {
   "cell_type": "code",
   "execution_count": 48,
   "id": "28de3ee4-fe67-4908-af88-26e3b4254434",
   "metadata": {},
   "outputs": [
    {
     "data": {
      "text/plain": [
       "[1, 1, 2, 3, 5, 8, 13, 21, 34, 55, 89]"
      ]
     },
     "execution_count": 48,
     "metadata": {},
     "output_type": "execute_result"
    }
   ],
   "source": [
    "[x for x in f]"
   ]
  },
  {
   "cell_type": "code",
   "execution_count": 49,
   "id": "d883d7cd-0d9a-43b5-9f30-3791ae195c8b",
   "metadata": {},
   "outputs": [
    {
     "data": {
      "text/plain": [
       "8"
      ]
     },
     "execution_count": 49,
     "metadata": {},
     "output_type": "execute_result"
    }
   ],
   "source": [
    "f[5]"
   ]
  },
  {
   "cell_type": "code",
   "execution_count": 50,
   "id": "e855bed9-f911-4f48-b9da-6a41d998c110",
   "metadata": {},
   "outputs": [
    {
     "ename": "IndexError",
     "evalue": "",
     "output_type": "error",
     "traceback": [
      "\u001b[31m---------------------------------------------------------------------------\u001b[39m",
      "\u001b[31mIndexError\u001b[39m                                Traceback (most recent call last)",
      "\u001b[36mCell\u001b[39m\u001b[36m \u001b[39m\u001b[32mIn[50]\u001b[39m\u001b[32m, line 1\u001b[39m\n\u001b[32m----> \u001b[39m\u001b[32m1\u001b[39m \u001b[43mf\u001b[49m\u001b[43m[\u001b[49m\u001b[43m-\u001b[49m\u001b[32;43m1\u001b[39;49m\u001b[43m]\u001b[49m\n",
      "\u001b[36mCell\u001b[39m\u001b[36m \u001b[39m\u001b[32mIn[42]\u001b[39m\u001b[32m, line 11\u001b[39m, in \u001b[36mFib.__getitem__\u001b[39m\u001b[34m(self, s)\u001b[39m\n\u001b[32m      9\u001b[39m \u001b[38;5;28;01mif\u001b[39;00m \u001b[38;5;28misinstance\u001b[39m(s, \u001b[38;5;28mint\u001b[39m):\n\u001b[32m     10\u001b[39m     \u001b[38;5;28;01mif\u001b[39;00m s < \u001b[32m0\u001b[39m \u001b[38;5;129;01mor\u001b[39;00m s > \u001b[38;5;28mself\u001b[39m.n:\n\u001b[32m---> \u001b[39m\u001b[32m11\u001b[39m         \u001b[38;5;28;01mraise\u001b[39;00m \u001b[38;5;167;01mIndexError\u001b[39;00m\n\u001b[32m     12\u001b[39m     \u001b[38;5;28;01melse\u001b[39;00m:\n\u001b[32m     13\u001b[39m         \u001b[38;5;28;01mreturn\u001b[39;00m Fib._fib(s)\n",
      "\u001b[31mIndexError\u001b[39m: "
     ]
    }
   ],
   "source": [
    "f[-1]"
   ]
  },
  {
   "cell_type": "markdown",
   "id": "a7ba12c1-80a1-485d-a3a8-674101cc8343",
   "metadata": {},
   "source": [
    "### lets implement negative sequence"
   ]
  },
  {
   "cell_type": "code",
   "execution_count": 51,
   "id": "2b939598-87af-4096-8bf2-8b92cef4f1c3",
   "metadata": {},
   "outputs": [],
   "source": [
    "class Fib:\n",
    "    def __init__(self, n):\n",
    "        self.n = n\n",
    "\n",
    "    def __len__(self):\n",
    "        return self.n\n",
    "\n",
    "    def __getitem__(self, s):\n",
    "        if isinstance(s, int):\n",
    "            if s < 0:\n",
    "                s = self.n + s\n",
    "            if s < 0 or s > self.n:\n",
    "                raise IndexError\n",
    "            else:\n",
    "                return Fib._fib(s)\n",
    "\n",
    "    @staticmethod\n",
    "    @lru_cache\n",
    "    def _fib(n):\n",
    "        if n < 2:\n",
    "            return 1\n",
    "        else:\n",
    "            return Fib._fib(n-1) + Fib._fib(n-2)\n"
   ]
  },
  {
   "cell_type": "code",
   "execution_count": 52,
   "id": "a85fff23-6432-40b5-83f4-5df89825f4fe",
   "metadata": {},
   "outputs": [
    {
     "data": {
      "text/plain": [
       "55"
      ]
     },
     "execution_count": 52,
     "metadata": {},
     "output_type": "execute_result"
    }
   ],
   "source": [
    "f = Fib(10)\n",
    "f[-1]"
   ]
  },
  {
   "cell_type": "code",
   "execution_count": 53,
   "id": "623368fa-141b-45e7-8e50-ba2106449010",
   "metadata": {},
   "outputs": [
    {
     "ename": "TypeError",
     "evalue": "'functools._lru_cache_wrapper' object is not subscriptable",
     "output_type": "error",
     "traceback": [
      "\u001b[31m---------------------------------------------------------------------------\u001b[39m",
      "\u001b[31mTypeError\u001b[39m                                 Traceback (most recent call last)",
      "\u001b[36mCell\u001b[39m\u001b[36m \u001b[39m\u001b[32mIn[53]\u001b[39m\u001b[32m, line 1\u001b[39m\n\u001b[32m----> \u001b[39m\u001b[32m1\u001b[39m \u001b[43mfib\u001b[49m\u001b[43m[\u001b[49m\u001b[32;43m0\u001b[39;49m\u001b[43m:\u001b[49m\u001b[32;43m5\u001b[39;49m\u001b[43m]\u001b[49m\n",
      "\u001b[31mTypeError\u001b[39m: 'functools._lru_cache_wrapper' object is not subscriptable"
     ]
    }
   ],
   "source": [
    "fib[0:5]"
   ]
  },
  {
   "cell_type": "code",
   "execution_count": 66,
   "id": "120ffe09-bf92-4e40-943b-517a01ffc5af",
   "metadata": {},
   "outputs": [
    {
     "data": {
      "text/plain": [
       "(slice, (0, 5, 1))"
      ]
     },
     "execution_count": 66,
     "metadata": {},
     "output_type": "execute_result"
    }
   ],
   "source": [
    "s = slice(0, 5)\n",
    "type(s), s.indices(10)"
   ]
  },
  {
   "cell_type": "code",
   "execution_count": 70,
   "id": "a3db4071-8bed-48a2-ade9-b9deae6536a3",
   "metadata": {},
   "outputs": [
    {
     "data": {
      "text/plain": [
       "(slice, (9, 6, -1))"
      ]
     },
     "execution_count": 70,
     "metadata": {},
     "output_type": "execute_result"
    }
   ],
   "source": [
    "s = slice(-1, -4, -1)\n",
    "type(s), s.indices(10)"
   ]
  },
  {
   "cell_type": "code",
   "execution_count": 75,
   "id": "879a7654-5d18-4756-bcb3-b1a3fdb70b37",
   "metadata": {},
   "outputs": [
    {
     "data": {
      "text/plain": [
       "[9, 8, 7]"
      ]
     },
     "execution_count": 75,
     "metadata": {},
     "output_type": "execute_result"
    }
   ],
   "source": [
    "list(range(9, 6, -1))"
   ]
  },
  {
   "cell_type": "markdown",
   "id": "c4a3298c-afad-4c55-ba2d-2c708e8a7a55",
   "metadata": {},
   "source": [
    "### that is what we want"
   ]
  },
  {
   "cell_type": "code",
   "execution_count": 101,
   "id": "14112c08-63ae-4744-abc0-2f82177224be",
   "metadata": {},
   "outputs": [],
   "source": [
    "class Fib:\n",
    "    def __init__(self, n):\n",
    "        self.n = n\n",
    "\n",
    "    def __len__(self):\n",
    "        return self.n\n",
    "\n",
    "    def __getitem__(self, s):\n",
    "        if isinstance(s, int):\n",
    "            if s < 0:\n",
    "                s = self.n + s + 1\n",
    "            if s < 0 or s > self.n:\n",
    "                raise IndexError\n",
    "            else:\n",
    "                return Fib._fib(s)\n",
    "        else:\n",
    "            start, stop, step = s.indices(self.n + 1)\n",
    "            rng = range(start, stop, step)\n",
    "            return [Fib._fib(i) for i in rng]\n",
    "\n",
    "    @staticmethod\n",
    "    @lru_cache\n",
    "    def _fib(n):\n",
    "        if n < 2:\n",
    "            return 1\n",
    "        else:\n",
    "            return Fib._fib(n-1) + Fib._fib(n-2)\n"
   ]
  },
  {
   "cell_type": "code",
   "execution_count": 102,
   "id": "f9259284-765b-458c-9d59-129e46fea6b3",
   "metadata": {},
   "outputs": [
    {
     "data": {
      "text/plain": [
       "(89, 89)"
      ]
     },
     "execution_count": 102,
     "metadata": {},
     "output_type": "execute_result"
    }
   ],
   "source": [
    "f = Fib(10)\n",
    "f[10], f[-1]"
   ]
  },
  {
   "cell_type": "code",
   "execution_count": 103,
   "id": "99c50a0b-6bd1-4378-bb8d-bd258a9ec0de",
   "metadata": {},
   "outputs": [
    {
     "data": {
      "text/plain": [
       "[1, 1, 2, 3, 5, 8, 13, 21, 34, 55, 89]"
      ]
     },
     "execution_count": 103,
     "metadata": {},
     "output_type": "execute_result"
    }
   ],
   "source": [
    "list(f)"
   ]
  },
  {
   "cell_type": "code",
   "execution_count": 104,
   "id": "d2688b0c-ae7f-4cd4-8164-8a86bbd737d4",
   "metadata": {},
   "outputs": [
    {
     "data": {
      "text/plain": [
       "[89, 55, 34]"
      ]
     },
     "execution_count": 104,
     "metadata": {},
     "output_type": "execute_result"
    }
   ],
   "source": [
    "f[-1:-4:-1]"
   ]
  },
  {
   "cell_type": "markdown",
   "id": "f5911f98-3b6b-42df-ae17-a6712737009f",
   "metadata": {},
   "source": [
    "# where named tupple fails us"
   ]
  },
  {
   "cell_type": "code",
   "execution_count": 105,
   "id": "0dbdbea0-8b30-4725-a521-5fffddb39d45",
   "metadata": {},
   "outputs": [],
   "source": [
    "from collections import namedtuple"
   ]
  },
  {
   "cell_type": "code",
   "execution_count": 108,
   "id": "e6210169-6793-470c-b89c-069f960215b0",
   "metadata": {},
   "outputs": [
    {
     "data": {
      "text/plain": [
       "Point2D(x=10, y=20)"
      ]
     },
     "execution_count": 108,
     "metadata": {},
     "output_type": "execute_result"
    }
   ],
   "source": [
    "Point2D = namedtuple('Point2D', ['x', 'y'])\n",
    "pt1 = Point2D(10, 20)\n",
    "pt1"
   ]
  },
  {
   "cell_type": "code",
   "execution_count": 117,
   "id": "e8110444-5f48-4e21-b14a-2739a2b6aeaa",
   "metadata": {},
   "outputs": [
    {
     "data": {
      "text/plain": [
       "Point2D(x='abc', y=20)"
      ]
     },
     "execution_count": 117,
     "metadata": {},
     "output_type": "execute_result"
    }
   ],
   "source": [
    "pt1 = pt1._replace(x = 'abc')\n",
    "pt1"
   ]
  },
  {
   "cell_type": "code",
   "execution_count": 119,
   "id": "7dd6bafc-400d-43f5-a48f-9693af4abc9f",
   "metadata": {},
   "outputs": [
    {
     "data": {
      "text/plain": [
       "Point2D(x='abc', y=(2+5j))"
      ]
     },
     "execution_count": 119,
     "metadata": {},
     "output_type": "execute_result"
    }
   ],
   "source": [
    "pt1 = Point2D('abc', 2+5j)\n",
    "pt1"
   ]
  },
  {
   "cell_type": "markdown",
   "id": "cebd0853-fa14-4f01-ab72-956399868d36",
   "metadata": {},
   "source": [
    "# if i want to co-ords to be integers only "
   ]
  },
  {
   "cell_type": "code",
   "execution_count": 122,
   "id": "0983acd7-b81f-4fa5-a204-9980ad37201b",
   "metadata": {},
   "outputs": [],
   "source": [
    "import numbers"
   ]
  },
  {
   "cell_type": "code",
   "execution_count": 129,
   "id": "ee9e5cb7-5689-4b0a-b9af-82b7eb9eda68",
   "metadata": {},
   "outputs": [
    {
     "data": {
      "text/plain": [
       "(True, False, True)"
      ]
     },
     "execution_count": 129,
     "metadata": {},
     "output_type": "execute_result"
    }
   ],
   "source": [
    "isinstance(10, numbers.Number), isinstance('abc', numbers.Number), isinstance(2J, numbers.Number)"
   ]
  },
  {
   "cell_type": "code",
   "execution_count": 130,
   "id": "c5babde4-4ae3-4145-82a1-a8ddc8c6d954",
   "metadata": {},
   "outputs": [
    {
     "data": {
      "text/plain": [
       "(True, False, False)"
      ]
     },
     "execution_count": 130,
     "metadata": {},
     "output_type": "execute_result"
    }
   ],
   "source": [
    "isinstance(10, numbers.Real), isinstance('abc', numbers.Real), isinstance(2J, numbers.Real)"
   ]
  },
  {
   "cell_type": "code",
   "execution_count": 133,
   "id": "08818022-f987-42b4-828d-00165c8358a7",
   "metadata": {},
   "outputs": [],
   "source": [
    "class Point:\n",
    "    def __init__(self, x, y):\n",
    "        if isinstance(x, numbers.Real) and isinstance(y, numbers.Real):\n",
    "            self._pt = (x, y)\n",
    "        else:\n",
    "            raise TypeError('Point coords must be real nums')\n",
    "\n",
    "    def __repr__(self):\n",
    "        return f'Point(x={self._pt[0]}, y={self._pt[1]})'        "
   ]
  },
  {
   "cell_type": "code",
   "execution_count": 134,
   "id": "b02d9e30-a9b0-4c5e-a646-75238d9bdecc",
   "metadata": {},
   "outputs": [
    {
     "data": {
      "text/plain": [
       "Point(x=10, y=20)"
      ]
     },
     "execution_count": 134,
     "metadata": {},
     "output_type": "execute_result"
    }
   ],
   "source": [
    "pt1 = Point(10, 20)\n",
    "pt1"
   ]
  },
  {
   "cell_type": "code",
   "execution_count": 135,
   "id": "d00b8db1-81ab-4a30-b8e0-fb53cece8417",
   "metadata": {},
   "outputs": [
    {
     "ename": "TypeError",
     "evalue": "cannot unpack non-iterable Point object",
     "output_type": "error",
     "traceback": [
      "\u001b[31m---------------------------------------------------------------------------\u001b[39m",
      "\u001b[31mTypeError\u001b[39m                                 Traceback (most recent call last)",
      "\u001b[36mCell\u001b[39m\u001b[36m \u001b[39m\u001b[32mIn[135]\u001b[39m\u001b[32m, line 1\u001b[39m\n\u001b[32m----> \u001b[39m\u001b[32m1\u001b[39m x, y = pt1\n",
      "\u001b[31mTypeError\u001b[39m: cannot unpack non-iterable Point object"
     ]
    }
   ],
   "source": [
    "x, y = pt1"
   ]
  },
  {
   "cell_type": "markdown",
   "id": "6d8967bb-d8c6-4369-a25f-1a750dbe933a",
   "metadata": {},
   "source": [
    "# lets make our class an iterable"
   ]
  },
  {
   "cell_type": "code",
   "execution_count": 137,
   "id": "2660936a-c535-49cd-b81b-cf064e647116",
   "metadata": {},
   "outputs": [],
   "source": [
    "class Point:\n",
    "    def __init__(self, x, y):\n",
    "        if isinstance(x, numbers.Real) and isinstance(y, numbers.Real):\n",
    "            self._pt = (x, y)\n",
    "        else:\n",
    "            raise TypeError('Point coords must be real nums')\n",
    "\n",
    "    def __repr__(self):\n",
    "        return f'Point(x={self._pt[0]}, y={self._pt[1]})'  \n",
    "\n",
    "    def __len__(self):\n",
    "        return len(self._pt)\n",
    "\n",
    "    def __getitem__(self, s):\n",
    "        # i am delegating if s is slice or int to tuple object in _pt\n",
    "        return self._pt[s]"
   ]
  },
  {
   "cell_type": "code",
   "execution_count": 138,
   "id": "41c3c834-cb45-4d4b-ae43-c6ae2a12e0a7",
   "metadata": {},
   "outputs": [
    {
     "data": {
      "text/plain": [
       "Point(x=10, y=20)"
      ]
     },
     "execution_count": 138,
     "metadata": {},
     "output_type": "execute_result"
    }
   ],
   "source": [
    "pt1 = Point(10, 20)\n",
    "pt1"
   ]
  },
  {
   "cell_type": "code",
   "execution_count": 139,
   "id": "862ba577-542c-4a60-92b1-872af02c3c7b",
   "metadata": {},
   "outputs": [
    {
     "data": {
      "text/plain": [
       "(10, 20)"
      ]
     },
     "execution_count": 139,
     "metadata": {},
     "output_type": "execute_result"
    }
   ],
   "source": [
    "x, y = pt1\n",
    "x, y"
   ]
  },
  {
   "cell_type": "code",
   "execution_count": 140,
   "id": "c4ec2af9-7f85-4ab8-b5fe-c65c62a98184",
   "metadata": {},
   "outputs": [
    {
     "data": {
      "text/plain": [
       "[10, 20]"
      ]
     },
     "execution_count": 140,
     "metadata": {},
     "output_type": "execute_result"
    }
   ],
   "source": [
    "list(pt1)"
   ]
  },
  {
   "cell_type": "markdown",
   "id": "ccd32912-6d73-4940-8d35-05112ef4aa29",
   "metadata": {},
   "source": [
    "### 🧩 1. How does `list(f)` know to call `__getitem__`?\n",
    "\n",
    "When you do:\n",
    "\n",
    "```python\n",
    "f = Fib(10)\n",
    "list(f)\n",
    "```\n",
    "\n",
    "Python checks whether `f` is **iterable** — that is, whether it can be looped over.\n",
    "\n",
    "It tries the following, in order:\n",
    "\n",
    "1. **Check for an `__iter__` method.**\n",
    "\n",
    "   * If present, it calls `iter(f)`, which should return an *iterator* — an object with a `__next__` method.\n",
    "   * Then, it repeatedly calls `next(iterator)` until `StopIteration` is raised.\n",
    "\n",
    "2. **If there’s no `__iter__`, fall back to the old-style sequence protocol**:\n",
    "\n",
    "   * Python will repeatedly call `f[0]`, `f[1]`, `f[2]`, …\n",
    "   * until you raise an `IndexError`.\n",
    "\n",
    "So in your case:\n",
    "\n",
    "* You haven’t defined `__iter__`.\n",
    "* Python therefore uses the old sequence protocol.\n",
    "* It calls `f[0]`, then `f[1]`, then `f[2]`, … until it hits `IndexError`.\n",
    "\n",
    "That’s why defining `__getitem__` is enough to make your object iterable.\n",
    "\n",
    "---\n",
    "\n",
    "### 🔄 2. Difference between `__getitem__` and `__next__`\n",
    "\n",
    "| Aspect                 | `__getitem__`                                                 | `__next__`                                             |\n",
    "| :--------------------- | :------------------------------------------------------------ | :----------------------------------------------------- |\n",
    "| Belongs to             | **Sequence protocol**                                         | **Iterator protocol**                                  |\n",
    "| Usage                  | Defines how to access elements by index (`f[i]`)              | Defines how to get the *next* element in a stream      |\n",
    "| Iteration style        | Python loops calling `obj[0]`, `obj[1]`, … until `IndexError` | Python loops calling `next(obj)` until `StopIteration` |\n",
    "| Needs companion method | Usually used with `__len__` (optional)                        | Must have `__iter__` that returns `self`               |\n",
    "| Typical use case       | For “indexable” containers (like lists, tuples, strings)      | For generators and streaming data                      |\n",
    "\n",
    "Example of an **iterator-style Fib**:\n",
    "\n",
    "```python\n",
    "class FibIter:\n",
    "    def __init__(self, n):\n",
    "        self.n = n\n",
    "        self.a, self.b = 0, 1\n",
    "        self.count = 0\n",
    "\n",
    "    def __iter__(self):\n",
    "        return self  # iterator returns itself\n",
    "\n",
    "    def __next__(self):\n",
    "        if self.count >= self.n:\n",
    "            raise StopIteration\n",
    "        self.a, self.b = self.b, self.a + self.b\n",
    "        self.count += 1\n",
    "        return self.a\n",
    "```\n",
    "\n",
    "Now:\n",
    "\n",
    "```python\n",
    "for x in FibIter(5):\n",
    "    print(x)\n",
    "```\n",
    "\n",
    "will call `__next__()` repeatedly.\n",
    "\n",
    "---\n",
    "\n",
    "### 🧠 Summary\n",
    "\n",
    "* `__getitem__` → sequence-style iteration (old-school, index-based).\n",
    "* `__next__` + `__iter__` → iterator-style iteration (modern, preferred).\n",
    "* Python automatically falls back to `__getitem__` if `__iter__` is missing.\n"
   ]
  },
  {
   "cell_type": "code",
   "execution_count": null,
   "id": "1cdc7496-0fa0-4fd3-90e3-c3242f46f2d4",
   "metadata": {},
   "outputs": [],
   "source": []
  }
 ],
 "metadata": {
  "kernelspec": {
   "display_name": "Python (fundamentals)",
   "language": "python",
   "name": "fundamentals"
  },
  "language_info": {
   "codemirror_mode": {
    "name": "ipython",
    "version": 3
   },
   "file_extension": ".py",
   "mimetype": "text/x-python",
   "name": "python",
   "nbconvert_exporter": "python",
   "pygments_lexer": "ipython3",
   "version": "3.13.7"
  }
 },
 "nbformat": 4,
 "nbformat_minor": 5
}
