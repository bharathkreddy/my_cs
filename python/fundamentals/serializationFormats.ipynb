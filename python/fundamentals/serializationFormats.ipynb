{
 "cells": [
  {
   "cell_type": "markdown",
   "id": "1e619e6b-8d6b-4913-b38d-fef1d790ffa9",
   "metadata": {},
   "source": [
    "# JSON library \n",
    "1. is a serialization standard\n",
    "2. uses text encoding\n",
    "3. language independent\n",
    "4. consists of\n",
    "    - root is an object \n",
    "    - objects: unordered key:value pairs delimited by {}\n",
    "    - array: ordered list of elements seperated by , and delimited by []\n",
    "    - values(numbers, strings delimited by double quotes, boolean, null, objects, arrays)\n",
    "5. whitespaces do not matter. "
   ]
  },
  {
   "cell_type": "code",
   "execution_count": 5,
   "id": "97657c71-a5fe-4aed-a66f-fd08ff44912c",
   "metadata": {},
   "outputs": [],
   "source": [
    "s = '''\n",
    "{\n",
    "  \"array\": [\n",
    "    1,\n",
    "    2,\n",
    "    3\n",
    "  ],\n",
    "  \"boolean\": true,\n",
    "  \"color\": \"gold\",\n",
    "  \"null\": null,\n",
    "  \"number\": 123.45,\n",
    "  \"object\": {\n",
    "    \"a\": \"b\",\n",
    "    \"c\": \"d\"\n",
    "  },\n",
    "  \"string\": \"Hello World\"\n",
    "}\n",
    "'''"
   ]
  },
  {
   "cell_type": "code",
   "execution_count": 6,
   "id": "083c2603-6b74-4c4d-bcc2-c6f44d72f369",
   "metadata": {},
   "outputs": [],
   "source": [
    "import json"
   ]
  },
  {
   "cell_type": "code",
   "execution_count": 8,
   "id": "14200e80-2583-4a88-8758-0e64f1088dde",
   "metadata": {},
   "outputs": [
    {
     "data": {
      "text/plain": [
       "{'array': [1, 2, 3],\n",
       " 'boolean': True,\n",
       " 'color': 'gold',\n",
       " 'null': None,\n",
       " 'number': 123.45,\n",
       " 'object': {'a': 'b', 'c': 'd'},\n",
       " 'string': 'Hello World'}"
      ]
     },
     "execution_count": 8,
     "metadata": {},
     "output_type": "execute_result"
    }
   ],
   "source": [
    "j_obj = json.loads(s)\n",
    "\n",
    "j_obj"
   ]
  },
  {
   "cell_type": "code",
   "execution_count": 11,
   "id": "69176654-93d9-4c50-9670-a90ab07acbc2",
   "metadata": {},
   "outputs": [
    {
     "name": "stdout",
     "output_type": "stream",
     "text": [
      "{\n",
      "  \"array\": [\n",
      "    1,\n",
      "    2,\n",
      "    3\n",
      "  ],\n",
      "  \"boolean\": true,\n",
      "  \"color\": \"gold\",\n",
      "  \"null\": null,\n",
      "  \"number\": 123.45,\n",
      "  \"object\": {\n",
      "    \"a\": \"b\",\n",
      "    \"c\": \"d\"\n",
      "  },\n",
      "  \"string\": \"Hello World\"\n",
      "}\n"
     ]
    }
   ],
   "source": [
    "print(json.dumps(j_obj, indent=2))"
   ]
  },
  {
   "cell_type": "markdown",
   "id": "b3790e02-df21-47be-93d5-aa93748f1819",
   "metadata": {},
   "source": [
    "# Python has a lot more objects like datetime objects which cant be serialized cleanly"
   ]
  },
  {
   "cell_type": "code",
   "execution_count": 12,
   "id": "799e7afe-2850-4f8a-ae7c-8a4ee7fe8c3d",
   "metadata": {},
   "outputs": [],
   "source": [
    "import datetime"
   ]
  },
  {
   "cell_type": "code",
   "execution_count": 64,
   "id": "eb99059b-3bf2-4771-8859-0e7e02cdb367",
   "metadata": {},
   "outputs": [],
   "source": [
    "j_obj = {\n",
    "    \"name\": \"Isaac Newton\",\n",
    "    \"dob\": datetime.datetime(1643, 1, 4)\n",
    "}"
   ]
  },
  {
   "cell_type": "code",
   "execution_count": 65,
   "id": "8c814d79-1a19-4db2-ba28-125905f26b32",
   "metadata": {},
   "outputs": [
    {
     "data": {
      "text/plain": [
       "1643"
      ]
     },
     "execution_count": 65,
     "metadata": {},
     "output_type": "execute_result"
    }
   ],
   "source": [
    "j_obj['dob'].date().year #so valid python object and we can work on it in python"
   ]
  },
  {
   "cell_type": "code",
   "execution_count": 66,
   "id": "42a2564b-cfa8-446f-b7d6-88ba1f96a7c0",
   "metadata": {},
   "outputs": [
    {
     "ename": "TypeError",
     "evalue": "Object of type datetime is not JSON serializable",
     "output_type": "error",
     "traceback": [
      "\u001b[31m---------------------------------------------------------------------------\u001b[39m",
      "\u001b[31mTypeError\u001b[39m                                 Traceback (most recent call last)",
      "\u001b[36mCell\u001b[39m\u001b[36m \u001b[39m\u001b[32mIn[66]\u001b[39m\u001b[32m, line 1\u001b[39m\n\u001b[32m----> \u001b[39m\u001b[32m1\u001b[39m \u001b[43mjson\u001b[49m\u001b[43m.\u001b[49m\u001b[43mdumps\u001b[49m\u001b[43m(\u001b[49m\u001b[43mj_obj\u001b[49m\u001b[43m)\u001b[49m\n",
      "\u001b[36mFile \u001b[39m\u001b[32m/opt/homebrew/Cellar/python@3.13/3.13.7/Frameworks/Python.framework/Versions/3.13/lib/python3.13/json/__init__.py:231\u001b[39m, in \u001b[36mdumps\u001b[39m\u001b[34m(obj, skipkeys, ensure_ascii, check_circular, allow_nan, cls, indent, separators, default, sort_keys, **kw)\u001b[39m\n\u001b[32m    226\u001b[39m \u001b[38;5;66;03m# cached encoder\u001b[39;00m\n\u001b[32m    227\u001b[39m \u001b[38;5;28;01mif\u001b[39;00m (\u001b[38;5;129;01mnot\u001b[39;00m skipkeys \u001b[38;5;129;01mand\u001b[39;00m ensure_ascii \u001b[38;5;129;01mand\u001b[39;00m\n\u001b[32m    228\u001b[39m     check_circular \u001b[38;5;129;01mand\u001b[39;00m allow_nan \u001b[38;5;129;01mand\u001b[39;00m\n\u001b[32m    229\u001b[39m     \u001b[38;5;28mcls\u001b[39m \u001b[38;5;129;01mis\u001b[39;00m \u001b[38;5;28;01mNone\u001b[39;00m \u001b[38;5;129;01mand\u001b[39;00m indent \u001b[38;5;129;01mis\u001b[39;00m \u001b[38;5;28;01mNone\u001b[39;00m \u001b[38;5;129;01mand\u001b[39;00m separators \u001b[38;5;129;01mis\u001b[39;00m \u001b[38;5;28;01mNone\u001b[39;00m \u001b[38;5;129;01mand\u001b[39;00m\n\u001b[32m    230\u001b[39m     default \u001b[38;5;129;01mis\u001b[39;00m \u001b[38;5;28;01mNone\u001b[39;00m \u001b[38;5;129;01mand\u001b[39;00m \u001b[38;5;129;01mnot\u001b[39;00m sort_keys \u001b[38;5;129;01mand\u001b[39;00m \u001b[38;5;129;01mnot\u001b[39;00m kw):\n\u001b[32m--> \u001b[39m\u001b[32m231\u001b[39m     \u001b[38;5;28;01mreturn\u001b[39;00m \u001b[43m_default_encoder\u001b[49m\u001b[43m.\u001b[49m\u001b[43mencode\u001b[49m\u001b[43m(\u001b[49m\u001b[43mobj\u001b[49m\u001b[43m)\u001b[49m\n\u001b[32m    232\u001b[39m \u001b[38;5;28;01mif\u001b[39;00m \u001b[38;5;28mcls\u001b[39m \u001b[38;5;129;01mis\u001b[39;00m \u001b[38;5;28;01mNone\u001b[39;00m:\n\u001b[32m    233\u001b[39m     \u001b[38;5;28mcls\u001b[39m = JSONEncoder\n",
      "\u001b[36mFile \u001b[39m\u001b[32m/opt/homebrew/Cellar/python@3.13/3.13.7/Frameworks/Python.framework/Versions/3.13/lib/python3.13/json/encoder.py:200\u001b[39m, in \u001b[36mJSONEncoder.encode\u001b[39m\u001b[34m(self, o)\u001b[39m\n\u001b[32m    196\u001b[39m         \u001b[38;5;28;01mreturn\u001b[39;00m encode_basestring(o)\n\u001b[32m    197\u001b[39m \u001b[38;5;66;03m# This doesn't pass the iterator directly to ''.join() because the\u001b[39;00m\n\u001b[32m    198\u001b[39m \u001b[38;5;66;03m# exceptions aren't as detailed.  The list call should be roughly\u001b[39;00m\n\u001b[32m    199\u001b[39m \u001b[38;5;66;03m# equivalent to the PySequence_Fast that ''.join() would do.\u001b[39;00m\n\u001b[32m--> \u001b[39m\u001b[32m200\u001b[39m chunks = \u001b[38;5;28;43mself\u001b[39;49m\u001b[43m.\u001b[49m\u001b[43miterencode\u001b[49m\u001b[43m(\u001b[49m\u001b[43mo\u001b[49m\u001b[43m,\u001b[49m\u001b[43m \u001b[49m\u001b[43m_one_shot\u001b[49m\u001b[43m=\u001b[49m\u001b[38;5;28;43;01mTrue\u001b[39;49;00m\u001b[43m)\u001b[49m\n\u001b[32m    201\u001b[39m \u001b[38;5;28;01mif\u001b[39;00m \u001b[38;5;129;01mnot\u001b[39;00m \u001b[38;5;28misinstance\u001b[39m(chunks, (\u001b[38;5;28mlist\u001b[39m, \u001b[38;5;28mtuple\u001b[39m)):\n\u001b[32m    202\u001b[39m     chunks = \u001b[38;5;28mlist\u001b[39m(chunks)\n",
      "\u001b[36mFile \u001b[39m\u001b[32m/opt/homebrew/Cellar/python@3.13/3.13.7/Frameworks/Python.framework/Versions/3.13/lib/python3.13/json/encoder.py:261\u001b[39m, in \u001b[36mJSONEncoder.iterencode\u001b[39m\u001b[34m(self, o, _one_shot)\u001b[39m\n\u001b[32m    256\u001b[39m \u001b[38;5;28;01melse\u001b[39;00m:\n\u001b[32m    257\u001b[39m     _iterencode = _make_iterencode(\n\u001b[32m    258\u001b[39m         markers, \u001b[38;5;28mself\u001b[39m.default, _encoder, indent, floatstr,\n\u001b[32m    259\u001b[39m         \u001b[38;5;28mself\u001b[39m.key_separator, \u001b[38;5;28mself\u001b[39m.item_separator, \u001b[38;5;28mself\u001b[39m.sort_keys,\n\u001b[32m    260\u001b[39m         \u001b[38;5;28mself\u001b[39m.skipkeys, _one_shot)\n\u001b[32m--> \u001b[39m\u001b[32m261\u001b[39m \u001b[38;5;28;01mreturn\u001b[39;00m \u001b[43m_iterencode\u001b[49m\u001b[43m(\u001b[49m\u001b[43mo\u001b[49m\u001b[43m,\u001b[49m\u001b[43m \u001b[49m\u001b[32;43m0\u001b[39;49m\u001b[43m)\u001b[49m\n",
      "\u001b[36mFile \u001b[39m\u001b[32m/opt/homebrew/Cellar/python@3.13/3.13.7/Frameworks/Python.framework/Versions/3.13/lib/python3.13/json/encoder.py:180\u001b[39m, in \u001b[36mJSONEncoder.default\u001b[39m\u001b[34m(self, o)\u001b[39m\n\u001b[32m    161\u001b[39m \u001b[38;5;28;01mdef\u001b[39;00m\u001b[38;5;250m \u001b[39m\u001b[34mdefault\u001b[39m(\u001b[38;5;28mself\u001b[39m, o):\n\u001b[32m    162\u001b[39m \u001b[38;5;250m    \u001b[39m\u001b[33;03m\"\"\"Implement this method in a subclass such that it returns\u001b[39;00m\n\u001b[32m    163\u001b[39m \u001b[33;03m    a serializable object for ``o``, or calls the base implementation\u001b[39;00m\n\u001b[32m    164\u001b[39m \u001b[33;03m    (to raise a ``TypeError``).\u001b[39;00m\n\u001b[32m   (...)\u001b[39m\u001b[32m    178\u001b[39m \n\u001b[32m    179\u001b[39m \u001b[33;03m    \"\"\"\u001b[39;00m\n\u001b[32m--> \u001b[39m\u001b[32m180\u001b[39m     \u001b[38;5;28;01mraise\u001b[39;00m \u001b[38;5;167;01mTypeError\u001b[39;00m(\u001b[33mf\u001b[39m\u001b[33m'\u001b[39m\u001b[33mObject of type \u001b[39m\u001b[38;5;132;01m{\u001b[39;00mo.\u001b[34m__class__\u001b[39m.\u001b[34m__name__\u001b[39m\u001b[38;5;132;01m}\u001b[39;00m\u001b[33m \u001b[39m\u001b[33m'\u001b[39m\n\u001b[32m    181\u001b[39m                     \u001b[33mf\u001b[39m\u001b[33m'\u001b[39m\u001b[33mis not JSON serializable\u001b[39m\u001b[33m'\u001b[39m)\n",
      "\u001b[31mTypeError\u001b[39m: Object of type datetime is not JSON serializable"
     ]
    }
   ],
   "source": [
    "json.dumps(j_obj)"
   ]
  },
  {
   "cell_type": "markdown",
   "id": "df7c7832-fcc2-4902-af26-f595221a448c",
   "metadata": {},
   "source": [
    "# we can create a function which json library will send any obj it cant serialize to and our function should return a serialized version back"
   ]
  },
  {
   "cell_type": "code",
   "execution_count": 67,
   "id": "f43f7339-e389-495b-9c8d-3624bc9f1e10",
   "metadata": {},
   "outputs": [],
   "source": [
    "def my_encoder(obj):\n",
    "    if isinstance(obj, datetime.datetime):\n",
    "        return obj.isoformat()\n",
    "    raise TypeError('Cannot be serialized by my_encoder')"
   ]
  },
  {
   "cell_type": "code",
   "execution_count": 68,
   "id": "43ebe9c6-2bdc-4693-bb4e-e93ca74f5173",
   "metadata": {},
   "outputs": [
    {
     "data": {
      "text/plain": [
       "'{\"name\": \"Isaac Newton\", \"dob\": \"1643-01-04T00:00:00\"}'"
      ]
     },
     "execution_count": 68,
     "metadata": {},
     "output_type": "execute_result"
    }
   ],
   "source": [
    "json.dumps(j_obj, default=my_encoder)"
   ]
  },
  {
   "cell_type": "markdown",
   "id": "44f21007-e375-41da-8157-0c10654248e2",
   "metadata": {},
   "source": [
    "# lets add a numpy array to the mix"
   ]
  },
  {
   "cell_type": "code",
   "execution_count": 69,
   "id": "86e76be5-60ae-490d-a98c-98b79ff09dd0",
   "metadata": {},
   "outputs": [],
   "source": [
    "import numpy as np"
   ]
  },
  {
   "cell_type": "code",
   "execution_count": 70,
   "id": "2762880e-0acc-41c0-b114-c9a0aff454fb",
   "metadata": {},
   "outputs": [],
   "source": [
    "j_obj = { \"type\": \"job\",\n",
    "    \"created_at\": datetime.datetime(1970, 1, 1),\n",
    "    \"status\": \"🆗\",\n",
    "    \"payload\": np.array([[1, 2], [3, 4]]),\n",
    "}"
   ]
  },
  {
   "cell_type": "code",
   "execution_count": 71,
   "id": "43611d6b-d6df-410a-8a75-041dd56d030e",
   "metadata": {},
   "outputs": [
    {
     "ename": "TypeError",
     "evalue": "Cannot be serialized by my_encoder",
     "output_type": "error",
     "traceback": [
      "\u001b[31m---------------------------------------------------------------------------\u001b[39m",
      "\u001b[31mTypeError\u001b[39m                                 Traceback (most recent call last)",
      "\u001b[36mCell\u001b[39m\u001b[36m \u001b[39m\u001b[32mIn[71]\u001b[39m\u001b[32m, line 1\u001b[39m\n\u001b[32m----> \u001b[39m\u001b[32m1\u001b[39m \u001b[43mjson\u001b[49m\u001b[43m.\u001b[49m\u001b[43mdumps\u001b[49m\u001b[43m(\u001b[49m\u001b[43mj_obj\u001b[49m\u001b[43m,\u001b[49m\u001b[43m \u001b[49m\u001b[43mdefault\u001b[49m\u001b[43m=\u001b[49m\u001b[43mmy_encoder\u001b[49m\u001b[43m)\u001b[49m\n",
      "\u001b[36mFile \u001b[39m\u001b[32m/opt/homebrew/Cellar/python@3.13/3.13.7/Frameworks/Python.framework/Versions/3.13/lib/python3.13/json/__init__.py:238\u001b[39m, in \u001b[36mdumps\u001b[39m\u001b[34m(obj, skipkeys, ensure_ascii, check_circular, allow_nan, cls, indent, separators, default, sort_keys, **kw)\u001b[39m\n\u001b[32m    232\u001b[39m \u001b[38;5;28;01mif\u001b[39;00m \u001b[38;5;28mcls\u001b[39m \u001b[38;5;129;01mis\u001b[39;00m \u001b[38;5;28;01mNone\u001b[39;00m:\n\u001b[32m    233\u001b[39m     \u001b[38;5;28mcls\u001b[39m = JSONEncoder\n\u001b[32m    234\u001b[39m \u001b[38;5;28;01mreturn\u001b[39;00m \u001b[38;5;28;43mcls\u001b[39;49m\u001b[43m(\u001b[49m\n\u001b[32m    235\u001b[39m \u001b[43m    \u001b[49m\u001b[43mskipkeys\u001b[49m\u001b[43m=\u001b[49m\u001b[43mskipkeys\u001b[49m\u001b[43m,\u001b[49m\u001b[43m \u001b[49m\u001b[43mensure_ascii\u001b[49m\u001b[43m=\u001b[49m\u001b[43mensure_ascii\u001b[49m\u001b[43m,\u001b[49m\n\u001b[32m    236\u001b[39m \u001b[43m    \u001b[49m\u001b[43mcheck_circular\u001b[49m\u001b[43m=\u001b[49m\u001b[43mcheck_circular\u001b[49m\u001b[43m,\u001b[49m\u001b[43m \u001b[49m\u001b[43mallow_nan\u001b[49m\u001b[43m=\u001b[49m\u001b[43mallow_nan\u001b[49m\u001b[43m,\u001b[49m\u001b[43m \u001b[49m\u001b[43mindent\u001b[49m\u001b[43m=\u001b[49m\u001b[43mindent\u001b[49m\u001b[43m,\u001b[49m\n\u001b[32m    237\u001b[39m \u001b[43m    \u001b[49m\u001b[43mseparators\u001b[49m\u001b[43m=\u001b[49m\u001b[43mseparators\u001b[49m\u001b[43m,\u001b[49m\u001b[43m \u001b[49m\u001b[43mdefault\u001b[49m\u001b[43m=\u001b[49m\u001b[43mdefault\u001b[49m\u001b[43m,\u001b[49m\u001b[43m \u001b[49m\u001b[43msort_keys\u001b[49m\u001b[43m=\u001b[49m\u001b[43msort_keys\u001b[49m\u001b[43m,\u001b[49m\n\u001b[32m--> \u001b[39m\u001b[32m238\u001b[39m \u001b[43m    \u001b[49m\u001b[43m*\u001b[49m\u001b[43m*\u001b[49m\u001b[43mkw\u001b[49m\u001b[43m)\u001b[49m\u001b[43m.\u001b[49m\u001b[43mencode\u001b[49m\u001b[43m(\u001b[49m\u001b[43mobj\u001b[49m\u001b[43m)\u001b[49m\n",
      "\u001b[36mFile \u001b[39m\u001b[32m/opt/homebrew/Cellar/python@3.13/3.13.7/Frameworks/Python.framework/Versions/3.13/lib/python3.13/json/encoder.py:200\u001b[39m, in \u001b[36mJSONEncoder.encode\u001b[39m\u001b[34m(self, o)\u001b[39m\n\u001b[32m    196\u001b[39m         \u001b[38;5;28;01mreturn\u001b[39;00m encode_basestring(o)\n\u001b[32m    197\u001b[39m \u001b[38;5;66;03m# This doesn't pass the iterator directly to ''.join() because the\u001b[39;00m\n\u001b[32m    198\u001b[39m \u001b[38;5;66;03m# exceptions aren't as detailed.  The list call should be roughly\u001b[39;00m\n\u001b[32m    199\u001b[39m \u001b[38;5;66;03m# equivalent to the PySequence_Fast that ''.join() would do.\u001b[39;00m\n\u001b[32m--> \u001b[39m\u001b[32m200\u001b[39m chunks = \u001b[38;5;28;43mself\u001b[39;49m\u001b[43m.\u001b[49m\u001b[43miterencode\u001b[49m\u001b[43m(\u001b[49m\u001b[43mo\u001b[49m\u001b[43m,\u001b[49m\u001b[43m \u001b[49m\u001b[43m_one_shot\u001b[49m\u001b[43m=\u001b[49m\u001b[38;5;28;43;01mTrue\u001b[39;49;00m\u001b[43m)\u001b[49m\n\u001b[32m    201\u001b[39m \u001b[38;5;28;01mif\u001b[39;00m \u001b[38;5;129;01mnot\u001b[39;00m \u001b[38;5;28misinstance\u001b[39m(chunks, (\u001b[38;5;28mlist\u001b[39m, \u001b[38;5;28mtuple\u001b[39m)):\n\u001b[32m    202\u001b[39m     chunks = \u001b[38;5;28mlist\u001b[39m(chunks)\n",
      "\u001b[36mFile \u001b[39m\u001b[32m/opt/homebrew/Cellar/python@3.13/3.13.7/Frameworks/Python.framework/Versions/3.13/lib/python3.13/json/encoder.py:261\u001b[39m, in \u001b[36mJSONEncoder.iterencode\u001b[39m\u001b[34m(self, o, _one_shot)\u001b[39m\n\u001b[32m    256\u001b[39m \u001b[38;5;28;01melse\u001b[39;00m:\n\u001b[32m    257\u001b[39m     _iterencode = _make_iterencode(\n\u001b[32m    258\u001b[39m         markers, \u001b[38;5;28mself\u001b[39m.default, _encoder, indent, floatstr,\n\u001b[32m    259\u001b[39m         \u001b[38;5;28mself\u001b[39m.key_separator, \u001b[38;5;28mself\u001b[39m.item_separator, \u001b[38;5;28mself\u001b[39m.sort_keys,\n\u001b[32m    260\u001b[39m         \u001b[38;5;28mself\u001b[39m.skipkeys, _one_shot)\n\u001b[32m--> \u001b[39m\u001b[32m261\u001b[39m \u001b[38;5;28;01mreturn\u001b[39;00m \u001b[43m_iterencode\u001b[49m\u001b[43m(\u001b[49m\u001b[43mo\u001b[49m\u001b[43m,\u001b[49m\u001b[43m \u001b[49m\u001b[32;43m0\u001b[39;49m\u001b[43m)\u001b[49m\n",
      "\u001b[36mCell\u001b[39m\u001b[36m \u001b[39m\u001b[32mIn[67]\u001b[39m\u001b[32m, line 4\u001b[39m, in \u001b[36mmy_encoder\u001b[39m\u001b[34m(obj)\u001b[39m\n\u001b[32m      2\u001b[39m \u001b[38;5;28;01mif\u001b[39;00m \u001b[38;5;28misinstance\u001b[39m(obj, datetime.datetime):\n\u001b[32m      3\u001b[39m     \u001b[38;5;28;01mreturn\u001b[39;00m obj.isoformat()\n\u001b[32m----> \u001b[39m\u001b[32m4\u001b[39m \u001b[38;5;28;01mraise\u001b[39;00m \u001b[38;5;167;01mTypeError\u001b[39;00m(\u001b[33m'\u001b[39m\u001b[33mCannot be serialized by my_encoder\u001b[39m\u001b[33m'\u001b[39m)\n",
      "\u001b[31mTypeError\u001b[39m: Cannot be serialized by my_encoder"
     ]
    }
   ],
   "source": [
    "json.dumps(j_obj, default=my_encoder)"
   ]
  },
  {
   "cell_type": "markdown",
   "id": "92f377c9-032e-46f2-ae2f-32e03f1768ff",
   "metadata": {},
   "source": [
    "# we can either keep on refining our encoder or use a modern library"
   ]
  },
  {
   "cell_type": "code",
   "execution_count": 76,
   "id": "cfb134b1-e234-42ad-aba3-ffbd108d38ca",
   "metadata": {},
   "outputs": [],
   "source": [
    "import orjson"
   ]
  },
  {
   "cell_type": "code",
   "execution_count": 77,
   "id": "541eb4fc-c87a-4269-aade-46e2c9ae8153",
   "metadata": {},
   "outputs": [],
   "source": [
    "j_obj = { \"type\": \"job\",\n",
    "    \"created_at\": datetime.datetime(1970, 1, 1),\n",
    "    \"status\": \"🆗\",\n",
    "    \"payload\": np.array([[1, 2], [3, 4]]),\n",
    "}"
   ]
  },
  {
   "cell_type": "code",
   "execution_count": 78,
   "id": "a60b3594-5798-4b6f-a54b-e2b5db6e8f76",
   "metadata": {},
   "outputs": [
    {
     "data": {
      "text/plain": [
       "b'{\"type\":\"job\",\"created_at\":\"1970-01-01T00:00:00+00:00\",\"status\":\"\\xf0\\x9f\\x86\\x97\",\"payload\":[[1,2],[3,4]]}'"
      ]
     },
     "execution_count": 78,
     "metadata": {},
     "output_type": "execute_result"
    }
   ],
   "source": [
    "orjson.dumps(j_obj, option=orjson.OPT_NAIVE_UTC | orjson.OPT_SERIALIZE_NUMPY)"
   ]
  },
  {
   "cell_type": "markdown",
   "id": "bdd26299-2d4c-4b96-839c-30e5a44f7aad",
   "metadata": {},
   "source": [
    "# REST API"
   ]
  },
  {
   "cell_type": "code",
   "execution_count": 81,
   "id": "58c6a2be-3c53-4502-ac4b-62c00e426ffc",
   "metadata": {},
   "outputs": [],
   "source": [
    "import os\n",
    "from dotenv import load_dotenv \n",
    "\n",
    "load_dotenv()\n",
    "\n",
    "FINHUBAPI = os.getenv('FINHUBAPI')\n",
    "X_Finnhub_Secret = os.getenv('X-Finnhub-Secret')"
   ]
  },
  {
   "cell_type": "markdown",
   "id": "c33801aa-48a9-4dec-88a5-e1bd8b6837b2",
   "metadata": {},
   "source": [
    "### finnhub.io : All GET request require a token parameter token=apiKey in the URL or a header X-Finnhub-Token : apiKey"
   ]
  },
  {
   "cell_type": "code",
   "execution_count": 95,
   "id": "ff1b454f-409a-45c5-93fb-9935963454e6",
   "metadata": {},
   "outputs": [],
   "source": [
    "import requests"
   ]
  },
  {
   "cell_type": "code",
   "execution_count": 96,
   "id": "2f81ee3d-dfda-4008-823b-de2a06f55386",
   "metadata": {},
   "outputs": [],
   "source": [
    "payload = {'symbol': 'AAPL', 'token': FINHUBAPI}\n",
    "r = requests.get('https://finnhub.io/api/v1/quote', params=payload)"
   ]
  },
  {
   "cell_type": "code",
   "execution_count": 97,
   "id": "ff8786ab-3517-462a-a327-8608786c86bf",
   "metadata": {},
   "outputs": [
    {
     "data": {
      "text/plain": [
       "'https://finnhub.io/api/v1/quote?symbol=AAPL&token=d3r8f51r01qopgh7f7f0d3r8f51r01qopgh7f7fg'"
      ]
     },
     "execution_count": 97,
     "metadata": {},
     "output_type": "execute_result"
    }
   ],
   "source": [
    "# to check if request has been correctly formed\n",
    "r.url"
   ]
  },
  {
   "cell_type": "code",
   "execution_count": 99,
   "id": "45b35052-0ba9-45f4-8396-82d9c6d5e3ff",
   "metadata": {},
   "outputs": [
    {
     "data": {
      "text/plain": [
       "200"
      ]
     },
     "execution_count": 99,
     "metadata": {},
     "output_type": "execute_result"
    }
   ],
   "source": [
    "r.status_code"
   ]
  },
  {
   "cell_type": "code",
   "execution_count": 100,
   "id": "08b5b94a-ed97-471d-82bf-8c6670aeec5f",
   "metadata": {},
   "outputs": [
    {
     "data": {
      "text/plain": [
       "'{\"c\":263.47,\"d\":11.18,\"dp\":4.4314,\"h\":264.375,\"l\":253.4,\"o\":253.4,\"pc\":252.29,\"t\":1760988480}'"
      ]
     },
     "execution_count": 100,
     "metadata": {},
     "output_type": "execute_result"
    }
   ],
   "source": [
    "r.text"
   ]
  },
  {
   "cell_type": "code",
   "execution_count": 98,
   "id": "8a2e4bc3-a3e6-4567-8164-e08f062a0583",
   "metadata": {},
   "outputs": [
    {
     "data": {
      "text/plain": [
       "{'c': 263.47,\n",
       " 'd': 11.18,\n",
       " 'dp': 4.4314,\n",
       " 'h': 264.375,\n",
       " 'l': 253.4,\n",
       " 'o': 253.4,\n",
       " 'pc': 252.29,\n",
       " 't': 1760988480}"
      ]
     },
     "execution_count": 98,
     "metadata": {},
     "output_type": "execute_result"
    }
   ],
   "source": [
    "# built in json decoder\n",
    "r.json()"
   ]
  },
  {
   "cell_type": "code",
   "execution_count": 103,
   "id": "d5e567cc-8c2d-4265-a71e-451820262bc2",
   "metadata": {},
   "outputs": [
    {
     "data": {
      "text/plain": [
       "{'Date': 'Mon, 20 Oct 2025 19:28:41 GMT', 'Content-Type': 'application/json; charset=utf-8', 'Transfer-Encoding': 'chunked', 'Connection': 'keep-alive', 'Server': 'cloudflare', 'Nel': '{\"report_to\":\"cf-nel\",\"success_fraction\":0.0,\"max_age\":604800}', 'Access-Control-Allow-Credentials': 'true', 'Access-Control-Allow-Headers': 'Origin', 'Access-Control-Allow-Methods': 'POST, GET, OPTIONS, PUT, DELETE', 'Access-Control-Allow-Origin': '*', 'Access-Control-Expose-Headers': 'Content-Length', 'X-Ratelimit-Limit': '60', 'X-Ratelimit-Remaining': '59', 'X-Ratelimit-Reset': '1760988581', 'cf-cache-status': 'DYNAMIC', 'Report-To': '{\"group\":\"cf-nel\",\"max_age\":604800,\"endpoints\":[{\"url\":\"https://a.nel.cloudflare.com/report/v4?s=7WisfnZBJptfktAoLqmB%2Fs7FbKsS4Nj4kAh9bCCcy%2BD4NK56NyZOh6RCQZNZRTyMPhh7mdPiikk8Wi5CacNuud1YNeKEbn%2FPs9I%3D\"}]}', 'Content-Encoding': 'gzip', 'CF-RAY': '991aeb70c9462561-LHR', 'alt-svc': 'h3=\":443\"; ma=86400'}"
      ]
     },
     "execution_count": 103,
     "metadata": {},
     "output_type": "execute_result"
    }
   ],
   "source": [
    "r.headers"
   ]
  },
  {
   "cell_type": "code",
   "execution_count": 106,
   "id": "558410f0-2715-4aeb-bca3-111b7b4ba850",
   "metadata": {},
   "outputs": [
    {
     "data": {
      "text/plain": [
       "<RequestsCookieJar[]>"
      ]
     },
     "execution_count": 106,
     "metadata": {},
     "output_type": "execute_result"
    }
   ],
   "source": [
    "r.cookies"
   ]
  },
  {
   "cell_type": "code",
   "execution_count": 112,
   "id": "4f411934-261d-4dc6-9f4a-e1deca4ef73c",
   "metadata": {},
   "outputs": [
    {
     "data": {
      "text/plain": [
       "{'error': 'Please use an API key.'}"
      ]
     },
     "execution_count": 112,
     "metadata": {},
     "output_type": "execute_result"
    }
   ],
   "source": [
    "url = 'https://finnhub.io/api/v1/quote'\n",
    "payload = {'symbol': 'AAPL'}\n",
    "headers = {'X-Finnhub-Secret': FINHUBAPI}\n",
    "\n",
    "r = requests.get(url, params=payload, headers=headers)\n",
    "r.json()"
   ]
  },
  {
   "cell_type": "code",
   "execution_count": 113,
   "id": "429ce007-86fd-4d48-b1a6-dba74a513fc5",
   "metadata": {},
   "outputs": [
    {
     "data": {
      "text/plain": [
       "401"
      ]
     },
     "execution_count": 113,
     "metadata": {},
     "output_type": "execute_result"
    }
   ],
   "source": [
    "r.status_code"
   ]
  },
  {
   "cell_type": "code",
   "execution_count": 114,
   "id": "2b073133-d819-4ff5-886a-d55b264de3d4",
   "metadata": {},
   "outputs": [
    {
     "data": {
      "text/plain": [
       "200"
      ]
     },
     "execution_count": 114,
     "metadata": {},
     "output_type": "execute_result"
    }
   ],
   "source": [
    "response = requests.get(\n",
    "    url='https://www.google.com/search',\n",
    "    params={'q': 'python http requests', 'num': 5},\n",
    ")\n",
    "\n",
    "response.status_code"
   ]
  },
  {
   "cell_type": "code",
   "execution_count": 115,
   "id": "07c54cc9-256d-4df2-97b4-320872b2682a",
   "metadata": {},
   "outputs": [
    {
     "data": {
      "text/plain": [
       "'OK'"
      ]
     },
     "execution_count": 115,
     "metadata": {},
     "output_type": "execute_result"
    }
   ],
   "source": [
    "response.reason"
   ]
  },
  {
   "cell_type": "code",
   "execution_count": 109,
   "id": "8aa57378-6965-4bfb-aafa-857a48a465cd",
   "metadata": {
    "scrolled": true
   },
   "outputs": [
    {
     "data": {
      "text/plain": [
       "'<!DOCTYPE html><html lang=\"en\" dir=\"ltr\"><head><style nonce=\"KBxRP6CtEGnjkIXXnnzN-g\">\\na, a:link, a:visited, a:active, a:hover {\\n  color: #1a73e8;\\n  text-decoration: none;\\n}\\nbody {\\n  font-family: Roboto, Helvetica, Arial, sans-serif;\\n  text-align: center;\\n  -ms-text-size-adjust: 100%;\\n  -moz-text-size-adjust: 100%;\\n  -webkit-text-size-adjust: 100%;\\n}\\n.youtubeContainerUIModernization,\\n.boxUIModernization {\\n  box-sizing: border-box;\\n  margin-left: auto;\\n  margin-right: auto;\\n  max-width: 800px;\\n}\\n.signInContainerUIModernization {\\n    display: flex;\\n    justify-content: flex-end;\\n}\\nh1 {\\n  color: #2c2c2c;\\n  font-size: 24px;\\n  hyphens: auto;\\n  margin: 24px 0;\\n}\\n.openInNewIcon,\\n.openInNewIconYouTube {\\n  height: 12px;\\n  width: 12px;\\n  margin-bottom: -2px;\\n  margin-left: 2px;\\n\\n  \\n}\\n.openInNewIcon {\\n  fill: #0b57d0; // gm3-primary-blue\\n}\\n.openInNewIconYouTube {\\n  fill: #065fd4; // yt-primary-dark-blue\\n}\\n.icaCallout {\\n  background-color: #f8f9fa;\\n  padding: 12px 16px;\\n  border-radius: 10px;\\n  margin-bottom: 10px;\\n}\\n.icaCalloutGm3 {\\n  background-color: #f8fafd;\\n  padding: 12px 16px;\\n  border-radius: 10px;\\n  margin-bottom: 10px;\\n}\\n.icaCalloutUIModernization,\\n.icaCalloutUIModernizationGm3 {\\n  color: #0f0f0f;\\n  font-family: Roboto, Arial, sans-serif;\\n  font-weight: 400;\\n  font-size: 14px;\\n  line-height: 18px;\\n  letter-spacing: 0.2px;\\n  background-color: #f8f9fa;\\n  padding: 12px 24px;\\n  border-radius: 12px;\\n  margin-bottom: 16px;\\n  text-align: left;\\n}\\n.icaCalloutUIModernization > a {\\n  color: #065fd4;  /* youtube dark-blue color */\\n}\\n.icaCalloutUIModernizationGm3 > a {\\n  color: #065fd4;  /* youtube dark-blue color */\\n  text-decoration: underline;\\n}\\n.subUIModernization,\\n.subUIModernizationGm3,\\n.contentTextUIModernization,\\n.contentTextUIModernization > p {\\n  color: #0f0f0f;\\n  font-family: Roboto, Arial, sans-serif;\\n  font-weight: 400;\\n  font-size: 14px;\\n  letter-spacing: 0;\\n  line-height: 18px;\\n  text-align: left;\\n}\\n.contentTextUIModernization > a,\\n.contentTextUIModernization > p > a {\\n  color: #065fd4;\\n}\\n.contentTextUIModernization > p {\\n  margin: 16px 0;\\n}\\n.contentTextUIModernization > ul {\\n  padding-left: 36px;\\n  margin: 16px 0;\\n}\\np, .sub, .contentText, .icaCallout {\\n  color: #5f6368;;\\n  font-size: 14px;\\n  line-height: 20px;\\n  letter-spacing: 0.2px;\\n  text-align: left;\\n}\\n.signin {\\n  text-align: right;\\n}\\n.signInIconContainer {\\n  width: 24px;\\n  height: 24px;\\n  margin: 0 6px 0 -6px;\\n}\\n.signInIcon {\\n  fill: #065fd4; /* dark-blue-color */\\n}\\n.signinUIModernization {\\n  display: flex;\\n  flex-direction: row;\\n  justify-content: flex-end;\\n  text-align: right;\\n}\\n.bulletUIModernization {\\n  line-height: 18px;\\n  margin: 8px 0;\\n}\\n.signinButtonDisplayUIModernization {\\n  display: flex;\\n  box-sizing: border-box;\\n  align-items: center;\\n  flex-direction: row;\\n  justify-content: flex-start;\\n}\\n.horizontalContainerEndUIModernization {\\n  display: flex;\\n  align-items: center;\\n  justify-content: flex-end;\\n}\\n.cardHeaderUIModernization {\\n  display: flex;\\n  flex-direction: row;\\n  align-items: center;\\n}\\n.logoCenter {\\n  justify-content: center;\\n}\\n.logoUIModernization {\\n  margin-right: auto;\\n}\\n.youTubeHeaderUIModernization {\\n padding: 20px 24px 0;\\n}\\n.saveButtonContainer,\\n.saveButtonContainerNarrowScreen {\\n  width: 100%;\\n  margin-top: 12px;\\n}\\n.saveButtonContainerNarrowScreenUIModernization {\\n  width: 100%;\\n}\\n.customButtonContainer {\\n  height: 20px;\\n  padding: 8px 0;\\n  margin-top: 8px;\\n}\\n.navigationCtasYoutube {\\n  text-align: right;\\n}\\na.button {\\n  color: #fff;\\n}\\na.hairlinebutton,\\na.nolinebutton{\\n  color: #1a73e8;\\n}\\n.navigationCtasYoutube a.hairlinebutton {\\n  border-color: #1a73e8;\\n}\\nbutton, .button {\\n  background-color: #1a73e8;\\n  border: none;\\n  color: #fff;\\n}\\ninput.button {\\n  -webkit-appearance: none;\\n}\\n.basebutton {\\n  border-radius: 4px;\\n  cursor: pointer;\\n  font-family: Roboto, Helvetica, Arial, sans-serif;\\n  font-size: 14px;\\n  font-weight: 500;\\n  height: 36px;\\n  margin: 12px 4px 0;\\n  padding: 8px 24px;\\n}\\n.hairlinebutton {\\n  background-color: #fff;\\n  border-width: 1px;\\n  border-color: #dadce0;\\n  border-style: solid;\\n  max-height: 15px;\\n}\\n.basebuttonUIModernization {\\n  outline: none;\\n  text-align: center;\\n  vertical-align: middle;\\n  line-height: 18px;\\n  cursor: pointer;\\n  font-family: Roboto, Arial, sans-serif;\\n  font-size: 14px;\\n  font-weight: 500;\\n  font-style: normal;\\n  height: 36px;\\n  min-width: 72px;\\n  border-radius: 18px;\\n  padding: 0 16px;\\n}\\n.basebuttonUIModernization:focus,\\n.basebuttonUIModernization:focus-visible,\\n.basebuttonUIModernization:hover:focus,\\n.basebuttonUIModernization:hover:focus-visible {\\n  outline: 2px solid transparent;\\n  outline-offset: 2px;\\n}\\n.signInButtonUIModernization {\\n  background-color: #fff;\\n  border: 1px solid #e5e5e5;\\n  color: #065fd4;\\n}\\n.signInButtonUIModernization:focus-visible {\\n  background-color: #fff;\\n  border: 1px solid #065fd4;\\n  color: #065fd4;\\n}\\n.signInButtonUIModernization:hover {\\n  background-color: #f2f8ff;\\n  border: 1px solid transparent;\\n  color: #065fd4;\\n}\\n.signInButtonUIModernization:hover:focus-visible {\\n  background-color: #f2f8ff;\\n  border: 1px solid #065fd4;\\n  color: #065fd4;\\n}\\n.signInButtonUIModernization:active,\\n.signInButtonUIModernization:active:hover,\\n.signInButtonUIModernization:active:focus-visible {\\n  background-color: #e5e5e5;\\n  border: 1px solid transparent;\\n  color: #065fd4;\\n}\\n.signinUIModernization a,\\n.signinUIModernization a:link,\\n.signinUIModernization a:visited,\\n.signinUIModernization a:active,\\n.signinUIModernization a:hover,\\n.signinUIModernization a:focus-visible {\\n  color: #065fd4;\\n}\\n.hairlinebuttonUIModernization {\\n  background-color: #0f0f0f;\\n  border: 2px solid transparent;\\n  color: #fff;\\n  }\\n.hairlinebuttonUIModernization:focus-visible {\\n  background-color: #fff;\\n  border: 2px solid #0f0f0f;\\n  color: #0f0f0f;\\n}\\n.hairlinebuttonUIModernization:hover {\\n  background-color: #272727;\\n  border: 2px solid transparent;\\n  color: #fff;\\n}\\n.hairlinebuttonUIModernization:hover:focus-visible {\\n  background-color: #e7e7e7;\\n  border: 2px solid transparent;\\n  color: #0f0f0f;\\n}\\n.hairlinebuttonUIModernization:active,\\n.hairlinebuttonUIModernization:active:hover,\\n.hairlinebuttonUIModernization:active:focus-visible {\\n  background-color: #3f3f3f;\\n  border: 2px solid transparent;\\n  color: #fff;\\n}\\n.customizeButtonContainerUIModernization {\\n  display: flex;\\n  text-align: center;\\n}\\n.customizeButtonUIModernization {\\n  box-sizing: border-box;\\n  background-color: #f2f2f2;\\n  border: 2px solid transparent;\\n  text-align: center;\\n}\\n.customizeButtonUIModernization:focus-visible {\\n  background-color: #fff;\\n  border: 2px solid #0f0f0f;\\n}\\n.customizeButtonUIModernization:hover {\\n  background-color: #e6e6e6;\\n  border: 2px solid transparent;\\n}\\n.customizeButtonUIModernization:active,\\n.customizeButtonUIModernization:active:hover,\\n.customizeButtonUIModernization:active:focus-visible {\\n  background-color: #cfcfcf;\\n  border: 2px solid transparent;\\n}\\na.basebuttonUIModernization.customizeButtonUIModernization,\\na.basebuttonUIModernization.customizeButtonUIModernization:link,\\na.basebuttonUIModernization.customizeButtonUIModernization:visited,\\na.basebuttonUIModernization.customizeButtonUIModernization:active,\\na.basebuttonUIModernization.customizeButtonUIModernization:focus {\\n  color: #0f0f0f;\\n  text-decoration: none;\\n  padding: 8px 16px;\\n}\\n.saveButtonUIModernization {\\n  text-align: center;\\n}\\n.detailsButtonUIModernization {\\n  margin-top: 16px;\\n  min-width: 220px;\\n}\\n.error {\\n  border: 2px solid #d93025;\\n  border-radius: 5px;\\n  color: #d93025;\\n  margin: auto;\\n  padding: 5px;\\n}\\n.boxUIModernization a:hover {\\n  text-decoration: underline;\\n}\\n.footerLinks {\\n  display: flex;\\n  justify-content: center;\\n  align-items: center;\\n}\\n.footerUIModernization {\\n  display: flex;\\n  flex-direction: row;\\n  justify-content: space-between;\\n  margin-top: 16px;\\n}\\n.footerUIModernization a {\\n  margin-left: 8px;\\n  padding: 0 8px;\\n}\\n.footerUIModernization a,\\n.footerUIModernization input,\\n.footerUIModernization select {\\n  color: #606060;  /* grey5 color - youtube secondary color */\\n  font-family: Roboto;\\n  font-size: 12px;\\n  font-style: normal;\\n  font-weight: 500;\\n}\\n.footerUIModernization form {\\n  display: flex;\\n  flex-direction: row;\\n  flex-wrap: wrap;\\n}\\n#language-form,\\n#language-select {\\n  margin: 0 2px;\\n}\\n#language-select {\\n  color: #757575;\\n}\\n.settingUIModernization {\\n  border: 1px solid #dadce0;\\n  box-sizing: border-box;\\n  border-radius: 8px;\\n  margin-bottom: 16px;\\n  padding: 24px;\\n  text-align: right;\\n}\\n.sub {\\n  padding: 24px 0 34px;\\n}\\nhr {\\n  margin: 12px -24px 12px;\\n  border: 0;\\n  border-top: 1px solid #dadce0;\\n}\\nfieldset {\\n  border: none;\\n  padding: 0;\\n}\\nlabel {\\n  margin: 24px;\\n}\\ntd {\\n  vertical-align: top;\\n}\\n.setting h2, .setting h3, h3 {\\n  color: #3c4043;\\n  margin: 0;\\n  text-align: left;\\n}\\n.yt-text {\\n  color: #5f6368;\\n  font-size: 14px;\\n  font-weight: 300;\\n}\\n.subUIModernization > ul > li,\\n.subUIModernizationGm3 > ul > li {\\n  color: #606060;\\n  font-family: Roboto, Arial, sans-serif;\\n  font-weight: 400;\\n  font-size: 14px;\\n  line-height: 18px;\\n}\\n.settingUIModernization p,\\n.subUIModernization > p,\\n.subUIModernization > ul,\\n.subUIModernizationGm3 > p,\\n.subUIModernizationGm3 > ul {\\n  margin: 16px 0;\\n}\\n.subUIModernization p:last-of-type,\\n.subUIModernizationGm3 p:last-of-type {\\n  margin-bottom: 0;\\n}\\n.settingUIModernization fieldset {\\n  margin: 0;  /* removing the default margin of the fieldset element */\\n}\\n.subUIModernization > ul,\\n.subUIModernizationGm3 > ul {\\n  padding-left: 36px;\\n}\\n.subUIModernization > ul > li,\\n.subUIModernizationGm3 > ul > li {\\n  line-height: 18px;\\n  margin: 8px 0;\\n}\\n.settingUIModernization h2 {\\n  color: #0f0f0f;\\n  font-family: Roboto, Arial, sans-serif;\\n  font-weight: 700;\\n  font-size: 18px;\\n  line-height: 22px;\\n  margin: 0;\\n  text-align: left;\\n}\\n.subUIModernization > a,\\n.subUIModernization > p > a {\\n  color: #065fd4;\\n}\\n.subUIModernization,\\n.subUIModernizationGm3 {\\n  padding: 0 24px;\\n}\\n.ytMainHeaderUIModernization {\\n  color: #0f0f0f;\\n  font-family: Roboto, Arial, sans-serif;\\n  font-weight: 700;\\n  font-size: 24px;\\n  line-height: 30px;\\n}\\n.ytTextUIModernization {\\n  color: #606060;\\n  font-family: \\'Google Sans\\';\\n  font-weight: 400;\\n  font-size: 14px;\\n  line-height: 28px;\\n  margin-left: 8px;\\n  vertical-align: middle;\\n  display: inline-block;\\n}\\n.productLogoContainer {\\n  margin: auto;\\n  max-width: 360px;\\n}\\n.ytLogoUIModernization {\\n  display: flex;\\n  flex-direction: row;\\n  justify-content: start;\\n  align-items: center;\\n}\\n.ytLogoImageUIModernization {\\n  vertical-align: middle;\\n  display: inline-block;\\n  margin-bottom: 8px;\\n}\\n.horizontalSeparator {\\n  margin: 12px -24px;\\n}\\n.horizontalSeparatorUIModernization {\\n  margin: 16px -24px;\\n}\\n.container {\\n  align-content: center;\\n  display: block;\\n  margin-left: auto;\\n  margin-right: auto;\\n  max-width: 716px;\\n}\\n.box {\\n  display: flex;\\n  flex-direction: column;\\n  border: 1px solid #c4c7c5;\\n  box-sizing: border-box;\\n  border-radius: 8px;\\n  margin: 24px 8px 48px;\\n  max-width: 700px;\\n  padding: 64px 16px;\\n  font-family: \"Google Sans\", Roboto, Helvetica, Arial, sans-serif;\\n}\\n.cardContentGm3 {\\n  max-width: 500px;\\n  align-content: center;\\n}\\n.icaCalloutGm3,\\n.contentTextGm3,\\n.contentTextGm3 > p,\\n.contentTextGm3 > ul > li {\\n  color: #1f1f1f; // gm3-text-primary-color\\n  line-height: 20px;\\n  letter-spacing: 0.2px;\\n  font-size: 14px;\\n  text-align: left;\\n}\\n.setting a,\\n.icaCalloutGm3 > a,\\n.contentTextGm3 > a,\\n.contentTextGm3 > p > a {\\n  text-decoration: underline;\\n  color: #0b57d0; // gm3-primary-blue\\n}\\n.contentTextUIModernizationGm3,\\n.contentTextUIModernizationGm3 > p {\\n  color: #0f0f0f;\\n  font-family: Roboto, Arial, sans-serif;\\n  font-weight: 400;\\n  font-size: 14px;\\n  letter-spacing: 0;\\n  line-height: 18px;\\n  text-align: left;\\n}\\n.contentTextUIModernizationGm3 > a,\\n.contentTextUIModernizationGm3 > p > a {\\n  color: #065fd4;\\n  text-decoration: underline;\\n}\\n.contentTextUIModernizationGm3 > p {\\n  margin: 16px 0;\\n}\\n.contentTextUIModernizationGm3 > ul {\\n  padding-left: 36px;\\n  margin: 16px 0;\\n}\\n.baseButtonGm3 {\\n  display: inline-flex;\\n  align-items: center;\\n  justify-content: center;\\n  border-radius: 20px;\\n  cursor: pointer;\\n  font-family: \"Google Sans\", Roboto, Helvetica, Arial, sans-serif;\\n  font-size: 14px;\\n  font-weight: 500;\\n  height: 40px;\\n  margin: 4px;\\n  padding: 0 24px;\\n  box-sizing: border-box;\\n  border: none;\\n  outline: none;\\n}\\n.filledButtonGm3 {\\n  background-color: #0b57d0; // gm3-primary-blue\\n  color: #fff;\\n  border: 1px solid transparent; // Required for high-contrast mode (b/348425836)\\n}\\n.filledButtonGm3:focus-visible {\\n  background-color: #2367d5;\\n  color: #fff;\\n  outline-offset: 2px;\\n  outline: 2px solid #006390;\\n}\\n.filledButtonGm3:hover {\\n  background-color: #1e64d4;\\n  color: #fff;\\n}\\n.filledButtonGm3:hover:focus-visible {\\n  background-color: #1e64d4;\\n  color: #fff;\\n  outline-offset: 2px;\\n  outline: 2px solid #006390;\\n}\\n.filledButtonGm3:active,\\n.filledButtonGm3:active:hover,\\n.filledButtonGm3:active:focus-visible {\\n  background-color: #3474d7;\\n  color: #fff;\\n}\\na.filledButtonGm3.signInButtonGm3,\\na.filledButtonGm3.signInButtonGm3:link,\\na.filledButtonGm3.signInButtonGm3:visited,\\na.filledButtonGm3.signInButtonGm3:active,\\na.filledButtonGm3.signInButtonGm3:focus {\\n  color: #fff;\\n  text-decoration: none;\\n}\\n.outlinedButtonGm3 {\\n  background-color: #fff;\\n  border: 1px solid #747775; // gm3-border-outline-grey\\n  color: #0b57d0; // gm3-primary-blue\\n}\\n.outlinedButtonGm3:focus-visible {\\n  outline-offset: 2px;\\n  outline: 2px solid #006390;\\n}\\n.outlinedButtonGm3:hover {\\n  background-color: #ecf2fc;\\n  color: #0b57d0; // gm3-primary-blue\\n}\\n.outlinedButtonGm3:hover:focus-visible {\\n  background-color: #ecf2fc;\\n  outline-offset: 2px;\\n  outline: 2px solid #006390;\\n}\\n.outlinedButtonGm3:active,\\n.outlinedButtonGm3:active:hover,\\n.outlinedButtonGm3:active:focus-visible {\\n  background-color: #d9e5f7;\\n}\\na.outlinedButtonGm3.customizeButtonGm3,\\na.outlinedButtonGm3.customizeButtonGm3:link,\\na.outlinedButtonGm3.customizeButtonGm3:visited,\\na.outlinedButtonGm3.customizeButtonGm3:active,\\na.outlinedButtonGm3.customizeButtonGm3:focus {\\n  color: #0b57d0; // gm3-primary-blue\\n  text-decoration: none;\\n}\\n.customButtonContainerGm3 {\\n  height: 48px;\\n  min-width: 120px;\\n}\\n\\n.detailspage {\\n  margin: 24px auto 0 auto;\\n  max-width: 704px;\\n  font-family: \"Google Sans\", Roboto, Helvetica, Arial, sans-serif;\\n}\\n.detailspage h1, .detailspage h2 {\\n  font-size: 22px\\n}\\n.sub > p,\\n.sub > ul > li,\\n.detailspage > p {\\n  color: #1f1f1f;\\n}\\n.sub > a,\\n.sub > p > a,\\n.detailspage > a,\\n.detailspage > p > a {\\n  color: #0b57d0;\\n  text-decoration: underline;\\n}\\n.sub > h3 {\\n  font-size: 14px;\\n}\\n.detailspageYoutube {\\n  margin: 0 auto;\\n  max-width: 700px;\\n}\\n.detailspageYoutube p{\\n  color: #606060;\\n  font-family: Roboto, Arial, sans-serif;\\n  font-weight: 400;\\n  font-size: 14px;\\n  line-height: 18px;\\n}\\n.detailspageYoutube > p {\\n  margin: 16px 0;\\n}\\n.detailspageYoutube h1{\\n  color: #0f0f0f;\\n  font-family: Roboto, Arial, sans-serif;\\n  font-weight: 700;\\n  font-size: 24px;\\n  line-height: 30px;\\n}\\n.detailspageYoutube h3 {\\n  color: #0f0f0f;\\n  font-family: Roboto, Arial, sans-serif;\\n  font-weight: 500;\\n  font-size: 16px;\\n  line-height: 20px;\\n  margin: 0;\\n  text-align: left;\\n}\\n.subUIModernizationGm3 > a,\\n.subUIModernizationGm3 > p > a,\\n.detailspageYoutube > a,\\n.detailspageYoutube > p > a {\\n  color: #065fd4;\\n  text-decoration: underline;\\n}\\n.setting {\\n  border: 1px solid #c4c7c5;\\n  box-sizing: border-box;\\n  border-radius: 8px;\\n  margin-bottom: 11px;\\n  padding: 24px 24px 20px 24px;\\n  text-align: right;\\n}\\n.setting p {\\n  color: #1f1f1f;\\n}\\n.settingContent {\\n  width: 100%;\\n}\\n.settingTitleAndDescription {\\n  text-align: left;\\n}\\n.onOffButtons > label {\\n  margin: 24px 16px 24px 0;\\n}\\n.imgContainer {\\n  vertical-align: middle;\\n}\\n.img {\\n  width: 100%;\\n  height: auto;\\n}\\n.footer {\\n  margin-top: 48px;\\n}\\n.footer a {\\n  margin-left: 24px;\\n  white-space: nowrap;\\n}\\n.footer a, .footer select, .footer input {\\n  color: #444746;\\n  font-size: 12px;\\n  font-weight: 400;\\n  font-family: \"Google Sans\", Roboto, Helvetica, Arial, sans-serif;\\n}\\n\\n.languagePicker,\\n.languagePicker select,\\n.languagePicker input,\\n.languagePicker #language-select {\\n  color: #444746;\\n  font-size: 12px;\\n  font-weight: 400;\\n  font-family: \"Google Sans\", Roboto, Helvetica, Arial, sans-serif;\\n  display: inline-flex;\\n  margin: 2px;\\n}\\n\\n.languagePickerYouTube,\\n.languagePickerYouTube select,\\n.languagePickerYouTube input,\\n.languagePickerYouTube #language-select {\\n  color: #606060;\\n  font-size: 12px;\\n  font-weight: 400;\\n  display: inline-flex;\\n  margin: 2px;\\n}\\n\\n.languageMenuItem {\\n  color: #444746;\\n  font-size: 12px;\\n  font-weight: 400;\\n  font-family: \"Google Sans\", Roboto, Helvetica, Arial, sans-serif;\\n}\\n\\n@media screen and (forced-colors: active) {\\n  .signInIcon,\\n  .openInNewIcon,\\n  .openInNewIconYouTube {\\n    fill: LinkText;\\n  }\\n}\\n\\n/** Narrow screen (for example a mobile device). */\\n@media only screen and (max-width: 480px) {\\n  body {\\n    margin: 18px 14px;\\n  }\\n  .bodyUIModernization {\\n    margin: 24px 16px;\\n  }\\n  .ytLogoUIModernization {\\n    flex-direction: column;\\n    align-items: flex-start;\\n  }\\n  .ytLogoImageUIModernization {\\n    margin-bottom: 0;\\n  }\\n  .cardHeaderUIModernization {\\n    justify-content: space-between;\\n  }\\n  .ytTextUIModernization {\\n    margin-left: 0;\\n    margin-top: -4px;\\n  }\\n  .settingUIModernization {\\n    padding: 16px;\\n  }\\n  .settingUIModernization p {\\n    margin-top: 8px;\\n  }\\n  .subUIModernization,\\n  .subUIModernizationGm3 {\\n    padding: 0;\\n  }\\n  .horizontalSeparatorUIModernization {\\n    margin: 16px 0;\\n  }\\n  .footer form {\\n    margin-bottom: 3px;\\n    display: block;\\n  }\\n  .imgContainer {\\n    text-align: center;\\n    vertical-align: middle;\\n    max-width: 232.5px;\\n    max-height: 84px;\\n  }\\n  .img {\\n    max-width: 232.5px;\\n    max-height: 84px;\\n    margin-bottom: 16px;\\n  }\\n  button, .button {\\n    width:100%;\\n  }\\n  .basebutton {\\n    margin: 12px 0 0;\\n  }\\n  .hideOnSmallWidth {\\n    display: none;\\n  }\\n  .saveButtonContainerNarrowScreen,\\n  .saveButtonContainerNarrowScreenUIModernization {\\n    display: inline-block;\\n  }\\n  .saveButtonContainer {\\n    display: none;\\n  }\\n  .saveButtonContainerUIModernization {\\n    display: none;\\n  }\\n  .navigationCtasYoutube a.hairlinebutton {\\n    display: block;\\n    text-align: center;\\n  }\\n  .detailsButtonUIModernization,\\n  .saveButtonUIModernization {\\n    display: block;\\n    box-sizing: border-box;\\n    width:100%;\\n    margin-bottom: 16px;\\n  }\\n  .customizeButtonUIModernization {\\n    display: block;\\n    box-sizing: border-box;\\n    width:100%;\\n  }\\n  .box {\\n    margin: 0;\\n    padding: 20px 16px;\\n  }\\n  .customButtonContainerGm3 {\\n    display: block;\\n    box-sizing: border-box;\\n    width:100%;\\n  }\\n}\\n\\n@media only screen and (max-width: 380px) {\\n  .imgContainer {\\n    min-width: 72px;\\n  }\\n}\\n\\n/** Normal/non-narrow screen. */\\n@media not screen and (max-width: 480px) {\\n  body {\\n    margin: 18px 25px;\\n  }\\n  .bodyUIModernization {\\n    margin: 24px;\\n  }\\n  .boxUIModernization {\\n    border: 1px solid #dadce0; /* grey-300 color */\\n    border-radius: 12px;\\n    padding: 24px;\\n  }\\n  .signInContainerUIModernization {\\n    margin-bottom: 24px;\\n  }\\n  .footer form {\\n    display: inline;\\n  }\\n  .imgContainer {\\n    width: 50%;\\n  }\\n  button, .button {\\n    width: auto;\\n  }\\n  .searchButton {\\n    min-width: 182px;\\n  }\\n  .detailsButton,\\n  .detailsButtonGm3 {\\n    min-width: 220px;\\n  }\\n  .hideOnNormalWidth {\\n    display: none;\\n  }\\n  .saveButtonContainer {\\n    display: inline-block;\\n  }\\n  .saveButtonContainerNarrowScreen,\\n  .saveButtonContainerNarrowScreenUIModernization {\\n    display: none;\\n  }\\n  .saveButtonContainerUIModernization {\\n    display: flex;\\n    flex-direction: row;\\n    justify-content: flex-end;\\n  }\\n  .saveButtonUIModernization {\\n    margin-left: 8px;\\n  }\\n  .box {\\n    align-items: center;\\n  }\\n  .detailspage {\\n    padding-top: 48px;\\n  }\\n}\\n</style><title>Before you continue to Google Search</title><meta name=\"viewport\" content=\"initial-scale=1, maximum-scale=5, width=device-width\"><link rel=\"shortcut icon\" href=\"//www.google.com/favicon.ico\"></head><body class=\"\"><div role=\"main\"><div><div class=\"signin\"><a href=\"https://accounts.google.com/ServiceLogin?hl=en&amp;continue=https://www.google.com/search?q%3Dpython%2Bhttp%2Brequests%26num%3D5&amp;gae=cb-none\" class=\"baseButtonGm3 filledButtonGm3 signInButtonGm3 hideOnSmallWidth\">Sign in</a></div></div><div class=\"container\"><div class=\"box\"><div class=\"cardHeaderUIModernization logoCenter\"><img src=\"//www.gstatic.com/images/branding/googlelogo/1x/googlelogo_color_68x28dp.png\" srcset=\"//www.gstatic.com/images/branding/googlelogo/2x/googlelogo_color_68x28dp.png 2x\" width=\"68\" height=\"28\" alt=\"Google\"><div class=\"signin\"><a href=\"https://accounts.google.com/ServiceLogin?hl=en&amp;continue=https://www.google.com/search?q%3Dpython%2Bhttp%2Brequests%26num%3D5&amp;gae=cb-none\" class=\"baseButtonGm3 filledButtonGm3 signInButtonGm3 hideOnNormalWidth\">Sign in</a></div></div><h1>Before you continue to Google</h1><div class=\"cardContentGm3\"><div class=\"contentTextGm3\"><p>We use <a href=\"https://policies.google.com/technologies/cookies?hl=en&utm_source=ucb\" target=\"_blank\">cookies<span aria-label=\" (Opens in a new tab)\"><svg class=\"openInNewIcon\" xmlns=\"http://www.w3.org/2000/svg\" viewBox=\"0 -960 960 960\"><path d=\"M216-144q-29.7 0-50.85-21.15Q144-186.3 144-216v-528q0-29.7 21.15-50.85Q186.3-816 216-816h264v72H216v528h528v-264h72v264q0 29.7-21.15 50.85Q773.7-144 744-144H216Zm171-192-51-51 357-357H576v-72h240v240h-72v-117L387-336Z\"/></svg></span></a> and data to</p><ul><li>Deliver and maintain Google services</li><li>Track outages and protect against spam, fraud, and abuse</li><li>Measure audience engagement and site statistics to understand how our services are used and enhance the quality of those services</li></ul><p>If you choose to “Accept all,” we will also use cookies and data to</p><ul><li>Develop and improve new services</li><li>Deliver and measure the effectiveness of ads</li><li>Show personalized content, depending on your settings</li><li>Show personalized ads, depending on your settings</li></ul><p>If you choose to “Reject all,” we will not use cookies for these additional purposes.</p><p>Non-personalized content is influenced by things like the content you’re currently viewing, activity in your active Search session, and your location. Non-personalized ads are influenced by the content you’re currently viewing and your general location. Personalized content and ads can also include more relevant results, recommendations, and tailored ads based on past activity from this browser, like previous Google searches. We also use cookies and data to tailor the experience to be age-appropriate, if relevant.</p><p>Select “More options” to see additional information, including details about managing your privacy settings. You can also visit g.co/privacytools at any time.</p></div></div><div class=\"saveButtonContainer\"><form action=\"https://consent.google.com/save\" method=\"POST\" style=\"display:inline;\"><input type=\"hidden\" name=\"bl\" value=\"boq_identityfrontenduiserver_20251015.05_p0\"><input type=\"hidden\" name=\"x\" value=\"8\"><input type=\"hidden\" name=\"gl\" value=\"GB\"><input type=\"hidden\" name=\"m\" value=\"0\"><input type=\"hidden\" name=\"app\" value=\"0\"><input type=\"hidden\" name=\"pc\" value=\"srp\"><input type=\"hidden\" name=\"continue\" value=\"https://www.google.com/search?q=python+http+requests&amp;num=5\"><input type=\"hidden\" name=\"hl\" value=\"en\"><input type=\"hidden\" name=\"uxe\" value=\"none\"><input type=\"hidden\" name=\"cm\" value=\"2\"><input type=\"hidden\" name=\"escs\" value=\"AZj2P8ipIJE2Tv5wGQhpU3jWbPWqP5H5nIVAulI8fiQhS3qEL3NE2L-A-So667hKWAZAC5Z3i6Bjsea688z3VeFigr-zFr4xR55N\"><input type=\"hidden\" name=\"set_eom\" value=\"true\"><input type=\"submit\" value=\"Reject all\" class=\"baseButtonGm3 filledButtonGm3 button searchButton\" aria-label=\"Reject all\"/></form><form action=\"https://consent.google.com/save\" method=\"POST\" style=\"display:inline;\"><input type=\"hidden\" name=\"bl\" value=\"boq_identityfrontenduiserver_20251015.05_p0\"><input type=\"hidden\" name=\"x\" value=\"8\"><input type=\"hidden\" name=\"gl\" value=\"GB\"><input type=\"hidden\" name=\"m\" value=\"0\"><input type=\"hidden\" name=\"app\" value=\"0\"><input type=\"hidden\" name=\"pc\" value=\"srp\"><input type=\"hidden\" name=\"continue\" value=\"https://www.google.com/search?q=python+http+requests&amp;num=5\"><input type=\"hidden\" name=\"hl\" value=\"en\"><input type=\"hidden\" name=\"uxe\" value=\"none\"><input type=\"hidden\" name=\"cm\" value=\"2\"><input type=\"hidden\" name=\"escs\" value=\"AZj2P8ipIJE2Tv5wGQhpU3jWbPWqP5H5nIVAulI8fiQhS3qEL3NE2L-A-So667hKWAZAC5Z3i6Bjsea688z3VeFigr-zFr4xR55N\"><input type=\"hidden\" name=\"set_eom\" value=\"false\"><input type=\"hidden\" name=\"set_sc\" value=\"true\"><input type=\"hidden\" name=\"set_aps\" value=\"true\"><input type=\"submit\" value=\"Accept all\" class=\"baseButtonGm3 filledButtonGm3 button searchButton\" aria-label=\"Accept all\"/></form></div><div class=\"saveButtonContainerNarrowScreen\"><form action=\"https://consent.google.com/save\" method=\"POST\" style=\"display:block;\"><input type=\"hidden\" name=\"bl\" value=\"boq_identityfrontenduiserver_20251015.05_p0\"><input type=\"hidden\" name=\"x\" value=\"8\"><input type=\"hidden\" name=\"gl\" value=\"GB\"><input type=\"hidden\" name=\"m\" value=\"0\"><input type=\"hidden\" name=\"app\" value=\"0\"><input type=\"hidden\" name=\"pc\" value=\"srp\"><input type=\"hidden\" name=\"continue\" value=\"https://www.google.com/search?q=python+http+requests&amp;num=5\"><input type=\"hidden\" name=\"hl\" value=\"en\"><input type=\"hidden\" name=\"uxe\" value=\"none\"><input type=\"hidden\" name=\"cm\" value=\"2\"><input type=\"hidden\" name=\"escs\" value=\"AZj2P8ipIJE2Tv5wGQhpU3jWbPWqP5H5nIVAulI8fiQhS3qEL3NE2L-A-So667hKWAZAC5Z3i6Bjsea688z3VeFigr-zFr4xR55N\"><input type=\"hidden\" name=\"set_eom\" value=\"false\"><input type=\"hidden\" name=\"set_sc\" value=\"true\"><input type=\"hidden\" name=\"set_aps\" value=\"true\"><input type=\"submit\" value=\"Accept all\" class=\"baseButtonGm3 filledButtonGm3 button searchButton\" aria-label=\"Accept all\"/></form><form action=\"https://consent.google.com/save\" method=\"POST\" style=\"display:block;\"><input type=\"hidden\" name=\"bl\" value=\"boq_identityfrontenduiserver_20251015.05_p0\"><input type=\"hidden\" name=\"x\" value=\"8\"><input type=\"hidden\" name=\"gl\" value=\"GB\"><input type=\"hidden\" name=\"m\" value=\"0\"><input type=\"hidden\" name=\"app\" value=\"0\"><input type=\"hidden\" name=\"pc\" value=\"srp\"><input type=\"hidden\" name=\"continue\" value=\"https://www.google.com/search?q=python+http+requests&amp;num=5\"><input type=\"hidden\" name=\"hl\" value=\"en\"><input type=\"hidden\" name=\"uxe\" value=\"none\"><input type=\"hidden\" name=\"cm\" value=\"2\"><input type=\"hidden\" name=\"escs\" value=\"AZj2P8ipIJE2Tv5wGQhpU3jWbPWqP5H5nIVAulI8fiQhS3qEL3NE2L-A-So667hKWAZAC5Z3i6Bjsea688z3VeFigr-zFr4xR55N\"><input type=\"hidden\" name=\"set_eom\" value=\"true\"><input type=\"submit\" value=\"Reject all\" class=\"baseButtonGm3 filledButtonGm3 button searchButton\" aria-label=\"Reject all\"/></form></div><div class=\"customButtonContainerGm3\"><a href=\"https://consent.google.com/dl?continue=https://www.google.com/search?q%3Dpython%2Bhttp%2Brequests%26num%3D5&amp;gl=GB&amp;hl=en&amp;cm=2&amp;pc=srp&amp;uxe=none&amp;src=1&amp;escs=AZj2P8ipIJE2Tv5wGQhpU3jWbPWqP5H5nIVAulI8fiQhS3qEL3NE2L-A-So667hKWAZAC5Z3i6Bjsea688z3VeFigr-zFr4xR55N\" class=\"baseButtonGm3 outlinedButtonGm3 customizeButtonGm3 button\" aria-label=\"More options for personalization settings and cookies\">More options</a></div></div><div class=\"footer\"><form action=\"https://consent.google.com/ml\" method=\"get\" class=\"languagePicker\"><select id=\"language-select\" name=\"hl\" aria-label=\"Language: English\"><option class=\"languageMenuItem\" value=\"af\">Afrikaans</option><option class=\"languageMenuItem\" value=\"az\">azərbaycan</option><option class=\"languageMenuItem\" value=\"bs\">bosanski</option><option class=\"languageMenuItem\" value=\"ca\">català</option><option class=\"languageMenuItem\" value=\"cs\">Čeština</option><option class=\"languageMenuItem\" value=\"cy\">Cymraeg</option><option class=\"languageMenuItem\" value=\"da\">Dansk</option><option class=\"languageMenuItem\" value=\"de\">Deutsch</option><option class=\"languageMenuItem\" value=\"et\">eesti</option><option class=\"languageMenuItem\" value=\"en-GB\">English&nbsp;(United Kingdom)</option><option class=\"languageMenuItem\" value=\"en\" selected>English&nbsp;(United States)</option><option class=\"languageMenuItem\" value=\"es\">Español&nbsp;(España)</option><option class=\"languageMenuItem\" value=\"es-419\">Español&nbsp;(Latinoamérica)</option><option class=\"languageMenuItem\" value=\"eu\">euskara</option><option class=\"languageMenuItem\" value=\"fil\">Filipino</option><option class=\"languageMenuItem\" value=\"fr-CA\">Français&nbsp;(Canada)</option><option class=\"languageMenuItem\" value=\"fr\">Français&nbsp;(France)</option><option class=\"languageMenuItem\" value=\"ga\">Gaeilge</option><option class=\"languageMenuItem\" value=\"gl\">galego</option><option class=\"languageMenuItem\" value=\"hr\">Hrvatski</option><option class=\"languageMenuItem\" value=\"id\">Indonesia</option><option class=\"languageMenuItem\" value=\"zu\">isiZulu</option><option class=\"languageMenuItem\" value=\"is\">íslenska</option><option class=\"languageMenuItem\" value=\"it\">Italiano</option><option class=\"languageMenuItem\" value=\"sw\">Kiswahili</option><option class=\"languageMenuItem\" value=\"lv\">latviešu</option><option class=\"languageMenuItem\" value=\"lt\">lietuvių</option><option class=\"languageMenuItem\" value=\"hu\">magyar</option><option class=\"languageMenuItem\" value=\"ms\">Melayu</option><option class=\"languageMenuItem\" value=\"nl\">Nederlands</option><option class=\"languageMenuItem\" value=\"no\">norsk</option><option class=\"languageMenuItem\" value=\"uz\">o‘zbek</option><option class=\"languageMenuItem\" value=\"pl\">polski</option><option class=\"languageMenuItem\" value=\"pt-BR\">Português&nbsp;(Brasil)</option><option class=\"languageMenuItem\" value=\"pt-PT\">Português&nbsp;(Portugal)</option><option class=\"languageMenuItem\" value=\"ro\">română</option><option class=\"languageMenuItem\" value=\"sq\">shqip</option><option class=\"languageMenuItem\" value=\"sk\">Slovenčina</option><option class=\"languageMenuItem\" value=\"sl\">slovenščina</option><option class=\"languageMenuItem\" value=\"sr-Latn\">srpski (latinica)</option><option class=\"languageMenuItem\" value=\"fi\">Suomi</option><option class=\"languageMenuItem\" value=\"sv\">Svenska</option><option class=\"languageMenuItem\" value=\"vi\">Tiếng Việt</option><option class=\"languageMenuItem\" value=\"tr\">Türkçe</option><option class=\"languageMenuItem\" value=\"el\">Ελληνικά</option><option class=\"languageMenuItem\" value=\"be\">беларуская</option><option class=\"languageMenuItem\" value=\"bg\">български</option><option class=\"languageMenuItem\" value=\"ky\">кыргызча</option><option class=\"languageMenuItem\" value=\"kk\">қазақ тілі</option><option class=\"languageMenuItem\" value=\"mk\">македонски</option><option class=\"languageMenuItem\" value=\"mn\">монгол</option><option class=\"languageMenuItem\" value=\"ru\">Русский</option><option class=\"languageMenuItem\" value=\"sr\">српски</option><option class=\"languageMenuItem\" value=\"uk\">Українська</option><option class=\"languageMenuItem\" value=\"ka\">ქართული</option><option class=\"languageMenuItem\" value=\"hy\">հայերեն</option><option class=\"languageMenuItem\" value=\"iw\">עברית</option><option class=\"languageMenuItem\" value=\"ur\">اردو</option><option class=\"languageMenuItem\" value=\"ar\">العربية</option><option class=\"languageMenuItem\" value=\"fa\">فارسی</option><option class=\"languageMenuItem\" value=\"am\">አማርኛ</option><option class=\"languageMenuItem\" value=\"ne\">नेपाली</option><option class=\"languageMenuItem\" value=\"mr\">मराठी</option><option class=\"languageMenuItem\" value=\"hi\">हिन्दी</option><option class=\"languageMenuItem\" value=\"as\">অসমীয়া</option><option class=\"languageMenuItem\" value=\"bn\">বাংলা</option><option class=\"languageMenuItem\" value=\"pa\">ਪੰਜਾਬੀ</option><option class=\"languageMenuItem\" value=\"gu\">ગુજરાતી</option><option class=\"languageMenuItem\" value=\"or\">ଓଡ଼ିଆ</option><option class=\"languageMenuItem\" value=\"ta\">தமிழ்</option><option class=\"languageMenuItem\" value=\"te\">తెలుగు</option><option class=\"languageMenuItem\" value=\"kn\">ಕನ್ನಡ</option><option class=\"languageMenuItem\" value=\"ml\">മലയാളം</option><option class=\"languageMenuItem\" value=\"si\">සිංහල</option><option class=\"languageMenuItem\" value=\"th\">ไทย</option><option class=\"languageMenuItem\" value=\"lo\">ລາວ</option><option class=\"languageMenuItem\" value=\"my\">မြန်မာ</option><option class=\"languageMenuItem\" value=\"km\">ខ្មែរ</option><option class=\"languageMenuItem\" value=\"ko\">한국어</option><option class=\"languageMenuItem\" value=\"ja\">日本語</option><option class=\"languageMenuItem\" value=\"zh-CN\">简体中文</option><option class=\"languageMenuItem\" value=\"zh-TW\">繁體中文</option><option class=\"languageMenuItem\" value=\"zh-HK\">繁體中文&nbsp;(香港)</option></select><input type=\"hidden\" name=\"oldhl\" value=\"en\"><input type=\"hidden\" name=\"gl\" value=\"GB\"><input type=\"hidden\" name=\"m\" value=\"0\"><input type=\"hidden\" name=\"app\" value=\"0\"><input type=\"hidden\" name=\"pc\" value=\"srp\"><input type=\"hidden\" name=\"continue\" value=\"https://www.google.com/search?q=python+http+requests&amp;num=5\"><input type=\"hidden\" name=\"src\" value=\"1\"><input type=\"hidden\" name=\"cm\" value=\"2\"><input type=\"hidden\" name=\"escs\" value=\"AZj2P8ipIJE2Tv5wGQhpU3jWbPWqP5H5nIVAulI8fiQhS3qEL3NE2L-A-So667hKWAZAC5Z3i6Bjsea688z3VeFigr-zFr4xR55N\"><input type=\"submit\" value=\"Change language\"></form><a href=\"https://policies.google.com/privacy?hl=en&utm_source=ucb\" target=\"_blank\">Privacy Policy</a> <a href=\"https://policies.google.com/terms?hl=en&utm_source=ucb\" target=\"_blank\">Terms of Service</a></div></div></div></body></html>'"
      ]
     },
     "execution_count": 109,
     "metadata": {},
     "output_type": "execute_result"
    }
   ],
   "source": [
    "response.text"
   ]
  },
  {
   "cell_type": "code",
   "execution_count": 111,
   "id": "cd77f1b2-b905-4868-8054-f3dbeaea4464",
   "metadata": {},
   "outputs": [
    {
     "name": "stdout",
     "output_type": "stream",
     "text": [
      "Content-Type: text/html; charset=utf-8\n",
      "Cache-Control: no-cache, no-store, max-age=0, must-revalidate\n",
      "Pragma: no-cache\n",
      "Expires: Mon, 01 Jan 1990 00:00:00 GMT\n",
      "Date: Mon, 20 Oct 2025 19:31:46 GMT\n",
      "P3P: CP=\"This is not a P3P policy! See g.co/p3phelp for more info.\"\n",
      "Cross-Origin-Resource-Policy: same-site\n",
      "Content-Security-Policy: require-trusted-types-for 'script';report-uri /_/ConsentHttp/cspreport, script-src 'nonce-hVPjnXEvN47hD4280lrO1Q' 'unsafe-inline';object-src 'none';base-uri 'self';report-uri /_/ConsentHttp/cspreport;worker-src 'self'\n",
      "Permissions-Policy: ch-ua-arch=*, ch-ua-bitness=*, ch-ua-full-version=*, ch-ua-full-version-list=*, ch-ua-model=*, ch-ua-wow64=*, ch-ua-form-factors=*, ch-ua-platform=*, ch-ua-platform-version=*\n",
      "Accept-CH: Sec-CH-UA-Arch, Sec-CH-UA-Bitness, Sec-CH-UA-Full-Version, Sec-CH-UA-Full-Version-List, Sec-CH-UA-Model, Sec-CH-UA-WoW64, Sec-CH-UA-Form-Factors, Sec-CH-UA-Platform, Sec-CH-UA-Platform-Version\n",
      "Cross-Origin-Opener-Policy: unsafe-none\n",
      "reporting-endpoints: default=\"/_/ConsentHttp/web-reports?context=eJzjmsKoxSXF4KghxWAk7sNwPmMX0wXNIJb_k0NZnuiGs2huDmcxPxzOcuFoBEu9WCRLhHEkS0B4JMvi95EsjO5RLDYJUSzV6VEsbuVRLEZ7olhWHoti-X0jimV9TjRLeEM0yxXDGJbWm-dYpwJx16LzrLOA2FDhEqsjEBdJXGFtAuJPVTdYhapvsJoevMXqCsSTWnzYhHg4Fs25dZxN4MSirn5GJe2k_ML4zJTUvJLMksq0ovy8ktS8lNLM4tSistSieCMDI1NDA0NTPQPT-AIDAJiFSx0\"\n",
      "Content-Encoding: gzip\n",
      "Server: ESF\n",
      "X-XSS-Protection: 0\n",
      "X-Frame-Options: SAMEORIGIN\n",
      "X-Content-Type-Options: nosniff\n",
      "Set-Cookie: __Secure-ENID=28.SE=ZorXPjlS4E4X48i_N63cwphevbYQSBt5XmE9Op_Qt6n5AyUiU6Pf3QAiIAyLdkqaLBnQ_pSPIHfirtiQhVuO3iVDUsoNz-rNBTsw8BP7beMGSI-w4ahnVSe4jR37hW6KE9EqsX6exL4HiDwtk26AG9qy8EzuHCjCpkXFhD8RTd11WRGyRnUyUPq8_wzthmoPlQ-5yYdeh7QPs5aBSYVf3wnHVVLAB5eaeV73; expires=Fri, 20-Nov-2026 11:50:04 GMT; path=/; domain=.google.com; Secure; HttpOnly; SameSite=lax\n",
      "Alt-Svc: h3=\":443\"; ma=2592000,h3-29=\":443\"; ma=2592000\n",
      "Transfer-Encoding: chunked\n"
     ]
    }
   ],
   "source": [
    "for key, value in response.headers.items():\n",
    "    print(f'{key}: {value}')"
   ]
  },
  {
   "cell_type": "code",
   "execution_count": null,
   "id": "a0b92cf1-60ad-4a6b-9610-25a8146996e8",
   "metadata": {},
   "outputs": [],
   "source": []
  }
 ],
 "metadata": {
  "kernelspec": {
   "display_name": "Python (fundamentals)",
   "language": "python",
   "name": "fundamentals"
  },
  "language_info": {
   "codemirror_mode": {
    "name": "ipython",
    "version": 3
   },
   "file_extension": ".py",
   "mimetype": "text/x-python",
   "name": "python",
   "nbconvert_exporter": "python",
   "pygments_lexer": "ipython3",
   "version": "3.13.7"
  }
 },
 "nbformat": 4,
 "nbformat_minor": 5
}
